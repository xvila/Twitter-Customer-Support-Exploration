{
 "cells": [
  {
   "cell_type": "code",
   "execution_count": 6,
   "metadata": {
    "ExecuteTime": {
     "end_time": "2017-11-29T04:14:22.467992Z",
     "start_time": "2017-11-29T04:14:22.449156Z"
    }
   },
   "outputs": [],
   "source": [
    "import pandas as pd\n",
    "import numpy as np\n",
    "from textblob import TextBlob\n",
    "import nltk\n",
    "import re\n",
    "import string\n",
    "from nltk.corpus import stopwords\n",
    "from sklearn.feature_extraction.text import TfidfVectorizer\n",
    "from sklearn.feature_extraction.text import CountVectorizer\n",
    "from nltk.stem.wordnet import WordNetLemmatizer\n",
    "from sklearn.decomposition import NMF, LatentDirichletAllocation\n",
    "from nltk.tokenize import sent_tokenize\n",
    "from nltk.tokenize import word_tokenize\n",
    "from nltk.tokenize import TweetTokenizer\n",
    "from sklearn.externals import joblib\n",
    "from sklearn.cluster import KMeans\n",
    "from sklearn.manifold import TSNE\n",
    "\n",
    "%matplotlib inline\n",
    "import seaborn as sns\n",
    "import matplotlib.pyplot as plt\n",
    "plt.style.use('fivethirtyeight')"
   ]
  },
  {
   "cell_type": "code",
   "execution_count": 7,
   "metadata": {
    "ExecuteTime": {
     "end_time": "2017-11-29T04:14:22.643126Z",
     "start_time": "2017-11-29T04:14:22.632037Z"
    }
   },
   "outputs": [],
   "source": [
    "companies = ['nikesupport','xboxsupport','upshelp','comcastcares','amazonhelp','jetblue','americanair',\n",
    "             'tacobellteam','mcdonalds','kimpton','ihgservice','spotifycares','hiltonhelp','applesupport',\n",
    "             'microsofthelps','googleplaymusic','scsupport','pandorasupport','hoteltonightcx','dunkindonuts',\n",
    "             'jackbox','chipotletweets','askpanera','carlsjr','att','tmobilehelp','sprintcare','verizonsupport',\n",
    "             'boostcare','uscellularcares','alaskaair','virginamerica','virginatlantic','delta','british_airways',\n",
    "             'southwestair','awssupport','twittersupport','askplaystation','neweggservice','dropboxsupport',\n",
    "             'hpsupport','atviassist','azuresupport','nortonsupport','dellcares','hulu_support','askrobinhood',\n",
    "             'officesupport','arbyscares','pearsonsupport','yahoocare','idea_cares','airtel_care','coxhelp',\n",
    "             'kfc_uki_help','asurioncares','adobecare','glocare','sizehelpteam','airasiasupport','safaricom_care',\n",
    "             'oppocarein','bofa_help','chasesupport','askciti','ask_wellsfargo','keybank_help','moo','centurylinkhelp',\n",
    "             'mediatemplehelp','godaddyhelp','postmates_help','doordash_help','airbnbhelp','uber_support','asklyft',\n",
    "             'askseagate','ask_spectrum','askpaypal','asksalesforce','askvirginmoney','askdsc','askpapajohns','askrbc',\n",
    "             'askebay','asktigogh','vmucare','askamex','ask_progressive','mtnc_care','askvisa','tesco','sainsburys',\n",
    "             'walmart','asktarget','morrisons','aldiuk','argoshelpers','greggsofficial','marksandspencer','virgintrains',\n",
    "             'nationalrailenq','sw_help','londonmidland','gwrhelp','tfl','o2']"
   ]
  },
  {
   "cell_type": "markdown",
   "metadata": {
    "ExecuteTime": {
     "end_time": "2017-11-25T02:11:37.044837Z",
     "start_time": "2017-11-25T02:11:37.042179Z"
    }
   },
   "source": [
    "## Functions"
   ]
  },
  {
   "cell_type": "markdown",
   "metadata": {},
   "source": [
    "## Import Data"
   ]
  },
  {
   "cell_type": "code",
   "execution_count": 8,
   "metadata": {
    "ExecuteTime": {
     "end_time": "2017-11-29T04:14:29.352333Z",
     "start_time": "2017-11-29T04:14:23.101155Z"
    }
   },
   "outputs": [],
   "source": [
    "df = pd.read_csv('../data/twcs.csv')"
   ]
  },
  {
   "cell_type": "markdown",
   "metadata": {},
   "source": [
    "## EDA"
   ]
  },
  {
   "cell_type": "markdown",
   "metadata": {},
   "source": [
    "### Import Pickle"
   ]
  },
  {
   "cell_type": "code",
   "execution_count": 15,
   "metadata": {
    "ExecuteTime": {
     "end_time": "2017-11-29T04:15:16.369879Z",
     "start_time": "2017-11-29T04:15:14.375032Z"
    }
   },
   "outputs": [],
   "source": [
    "df = pd.read_pickle('../data/tweets.pkl')"
   ]
  },
  {
   "cell_type": "markdown",
   "metadata": {},
   "source": [
    "### Response Time"
   ]
  },
  {
   "cell_type": "markdown",
   "metadata": {},
   "source": [
    "Starter code from [Kaggle Dataset](https://www.kaggle.com/soaxelbrooke/first-inbound-and-response-tweets)"
   ]
  },
  {
   "cell_type": "code",
   "execution_count": 16,
   "metadata": {
    "ExecuteTime": {
     "end_time": "2017-11-29T04:15:19.577962Z",
     "start_time": "2017-11-29T04:15:19.202303Z"
    }
   },
   "outputs": [
    {
     "name": "stdout",
     "output_type": "stream",
     "text": [
      "Found 622277 first inbound messages.\n"
     ]
    }
   ],
   "source": [
    "# Pick only inbound tweets that aren't in reply to anything...\n",
    "first_inbound = df[pd.isnull(df.in_response_to_tweet_id) & df.inbound]\n",
    "print('Found {} first inbound messages.'.format(len(first_inbound)))"
   ]
  },
  {
   "cell_type": "code",
   "execution_count": 17,
   "metadata": {
    "ExecuteTime": {
     "end_time": "2017-11-29T04:15:21.162769Z",
     "start_time": "2017-11-29T04:15:19.580160Z"
    }
   },
   "outputs": [
    {
     "name": "stdout",
     "output_type": "stream",
     "text": [
      "Found 696125 responses.\n"
     ]
    }
   ],
   "source": [
    "# Merge in all tweets in response\n",
    "inbounds_and_outbounds = pd.merge(first_inbound, df, left_on='tweet_id', \n",
    "                                  right_on='in_response_to_tweet_id')\n",
    "print(\"Found {} responses.\".format(len(inbounds_and_outbounds)))"
   ]
  },
  {
   "cell_type": "code",
   "execution_count": 18,
   "metadata": {
    "ExecuteTime": {
     "end_time": "2017-11-29T04:15:21.683518Z",
     "start_time": "2017-11-29T04:15:21.164703Z"
    }
   },
   "outputs": [],
   "source": [
    "# Filter out cases where reply tweet isn't from company\n",
    "inbounds_and_outbounds = inbounds_and_outbounds[inbounds_and_outbounds.inbound_y ^ True]"
   ]
  },
  {
   "cell_type": "code",
   "execution_count": 19,
   "metadata": {
    "ExecuteTime": {
     "end_time": "2017-11-29T04:15:21.722540Z",
     "start_time": "2017-11-29T04:15:21.685310Z"
    }
   },
   "outputs": [
    {
     "name": "stdout",
     "output_type": "stream",
     "text": [
      "Found 630633 responses from companies.\n",
      "Tweets Preview:\n",
      "       tweet_id_x author_id_x  inbound_x  \\\n",
      "0               6       95932       True   \n",
      "1               9       95933       True   \n",
      "2              13       95934       True   \n",
      "3              16       95935       True   \n",
      "5              28       95938       True   \n",
      "7              40       95940       True   \n",
      "8              45       95941       True   \n",
      "9              45       95941       True   \n",
      "10             51       95943       True   \n",
      "11             56       95944       True   \n",
      "12             59       95945       True   \n",
      "13             61       95946       True   \n",
      "14             68       95947       True   \n",
      "15             74       95948       True   \n",
      "16             76       95949       True   \n",
      "17             78       95950       True   \n",
      "18             80       95952       True   \n",
      "19             92       95957       True   \n",
      "20             94       95958       True   \n",
      "21             96       95959       True   \n",
      "22             98       95960       True   \n",
      "23            102       95962       True   \n",
      "24            105       95963       True   \n",
      "25            107       95964       True   \n",
      "26            109       95965       True   \n",
      "27            113       95966       True   \n",
      "28            120       95967       True   \n",
      "30            125       95969       True   \n",
      "32            131       95972       True   \n",
      "33            142       95975       True   \n",
      "...           ...         ...        ...   \n",
      "696093    2366161      669312       True   \n",
      "696095    2366167      669313       True   \n",
      "696096    2366169      669314       True   \n",
      "696097    2366171      669315       True   \n",
      "696098    2366173      669316       True   \n",
      "696099    2366173      669316       True   \n",
      "696100    2366183      669318       True   \n",
      "696101    2366185      669319       True   \n",
      "696103    2366194      669322       True   \n",
      "696104    2366196      669323       True   \n",
      "696105    2366198      669324       True   \n",
      "696106    2366198      669324       True   \n",
      "696107    2366202      669325       True   \n",
      "696108    2366204      669326       True   \n",
      "696109    2366204      669326       True   \n",
      "696110    2366207      669327       True   \n",
      "696111    2366209      669328       True   \n",
      "696112    2366211      669329       True   \n",
      "696113    2366211      669329       True   \n",
      "696114    2366214      425779       True   \n",
      "696115    2366217      669330       True   \n",
      "696116    2366222      669330       True   \n",
      "696117    2366227      669332       True   \n",
      "696118    2366229      669333       True   \n",
      "696119    2366231      669334       True   \n",
      "696120    2366233      669335       True   \n",
      "696121    2366235      669336       True   \n",
      "696122    2366238      633654       True   \n",
      "696123    2366241      669337       True   \n",
      "696124    2366243      669338       True   \n",
      "\n",
      "                                                   text_x response_tweet_id_x  \\\n",
      "0       @VirginAtlantic what's the deal on the nonstop...                   5   \n",
      "1       @VirginAtlantic saw your page on upgrading. I ...                   7   \n",
      "2       @VirginAtlantic Any idea why our flight VS7 ca...                  11   \n",
      "3                                   @AmericanAir Ur shady                  14   \n",
      "5       @VirginAtlantic  Arrived Gatwick this a.m - su...                  27   \n",
      "7       Can someone remind me never to book with @Virg...               38,41   \n",
      "8       Thanks for cancelling my flight @VirginAtlanti...         44,46,47,48   \n",
      "9       Thanks for cancelling my flight @VirginAtlanti...         44,46,47,48   \n",
      "10      .@VirginAtlantic having problems with check in...                  49   \n",
      "11      Hey @VirginAtlantic I’ve just had a load of mi...               55,57   \n",
      "12      Nothing like flying @VirginAtlantic and not ge...                  58   \n",
      "13      @VirginAtlantic can't check in online! Anyone ...                  60   \n",
      "14      @VirginAtlantic how long before I hear about a...                  67   \n",
      "15      @AmericanAir I'm in the air on flight 2052 and...                  73   \n",
      "16      @VirginAtlantic how can I find out the films t...                  75   \n",
      "17      @95951 \\nIt's OPPO- F3,\\nQuality of Video Call...                  77   \n",
      "18      What's going on @VirginAtlantic - tried to che...               79,81   \n",
      "19      Fed up with Customer Care @VirginAtlantic moth...                  91   \n",
      "20      @VirginAtlantic got the 2130 for New York to M...                  93   \n",
      "21      @VirginAtlantic just boarded this Beauty for o...                  95   \n",
      "22      On a flight from LHR to JFK! So far amazing se...                  97   \n",
      "23      @VirginAtlantic please contact me immediately ...                 101   \n",
      "24      My tv screen for the next 8 and a half hours #...                 103   \n",
      "25      @VirginAtlantic I can't book into our second l...                 106   \n",
      "26      My start to #FemRhet17 \\n\\n@AmericanAir you're...             108,110   \n",
      "27      @VirginAtlantic can I direct message a questio...                 111   \n",
      "28      @VirginAtlantic hey guys. Trying to log on to ...                 119   \n",
      "30      @VirginAtlantic can car seats be held in the a...                 124   \n",
      "32      the update made my fuckin flashlight stop work...                 129   \n",
      "33      @VirginAtlantic I’m in St Lucia and you left m...                 141   \n",
      "...                                                   ...                 ...   \n",
      "696093  @97904 shocking service this evening at the ox...             2366160   \n",
      "696095  @XboxSupport @111284 I gift a muffin at the fi...             2366166   \n",
      "696096  @XboxSupport is not found and says the request...             2366168   \n",
      "696097  @XboxSupport Can you please help? https://t.co...             2366170   \n",
      "696098  @XboxSupport my #xbox1 has #startuperror #fact...     2366172,2366174   \n",
      "696099  @XboxSupport my #xbox1 has #startuperror #fact...     2366172,2366174   \n",
      "696100  Everyone @98875 are a bunch of idiots! Bring o...             2366182   \n",
      "696101  @XboxSupport my console has never had a proble...             2366184   \n",
      "696103  @XboxSupport no puedo actualizar mi Xbox https...             2366193   \n",
      "696104  Hey @XboxSupport I woke up this morning and my...             2366195   \n",
      "696105  @XboxSupport can you damage your Xbox one x by...     2366197,2366199   \n",
      "696106  @XboxSupport can you damage your Xbox one x by...     2366197,2366199   \n",
      "696107  @XboxSupport it’d be awesome if your latest up...             2366200   \n",
      "696108  @XboxSupport I can hear chat sounds through my...     2366203,2366205   \n",
      "696109  @XboxSupport I can hear chat sounds through my...     2366203,2366205   \n",
      "696110           https://t.co/s8RgywehdQ via @xboxsupport             2366206   \n",
      "696111  @XboxSupport have you guys heard any reports o...             2366208   \n",
      "696112  @XboxSupport isn't letting me talk in parties ...     2366210,2366212   \n",
      "696113  @XboxSupport isn't letting me talk in parties ...     2366210,2366212   \n",
      "696114  @Safaricom_Care hi trying to load m-ledger fro...             2366213   \n",
      "696115  @62395 requiero por favor respuesta a esto ya ...             2366215   \n",
      "696116  @97827 requiero respuesta a esto @124337 https...             2366221   \n",
      "696117  Can someone please explain why @95974 sends an...             2366226   \n",
      "696118  @96085 ONE OF YOUR DRIVERS STOLE MY IPHONE X C...             2366228   \n",
      "696119          @96085 fuck y'all for loosing my iphone X             2366230   \n",
      "696120  @96085 Can someone explain to me how your deli...             2366232   \n",
      "696121  Maybe @96085 twitter account can give me answe...             2366234   \n",
      "696122  @UPSHelp Hello. I was told my package was goin...             2366236   \n",
      "696123  Well first experience with @96085 mail innovat...             2366239   \n",
      "696124             @AirAsiaSupport\\nHow to cancel booking             2366242   \n",
      "\n",
      "        in_response_to_tweet_id_x              date_x  month_x  day_x  \\\n",
      "0                             NaN 2017-10-04 20:05:43       10      2   \n",
      "1                             NaN 2017-10-04 22:28:38       10      2   \n",
      "2                             NaN 2017-10-04 22:31:55       10      2   \n",
      "3                             NaN 2017-10-04 22:35:45       10      2   \n",
      "5                             NaN 2017-10-04 22:04:46       10      2   \n",
      "7                             NaN 2017-10-04 19:31:41       10      2   \n",
      "8                             NaN 2017-10-04 13:26:35       10      2   \n",
      "9                             NaN 2017-10-04 13:26:35       10      2   \n",
      "10                            NaN 2017-10-04 15:12:43       10      2   \n",
      "11                            NaN 2017-10-04 13:41:17       10      2   \n",
      "12                            NaN 2017-10-04 13:45:20       10      2   \n",
      "13                            NaN 2017-10-04 14:21:36       10      2   \n",
      "14                            NaN 2017-10-04 12:33:33       10      2   \n",
      "15                            NaN 2017-10-04 20:44:25       10      2   \n",
      "16                            NaN 2017-10-04 12:57:53       10      2   \n",
      "17                            NaN 2017-10-03 00:00:29       10      1   \n",
      "18                            NaN 2017-10-04 12:13:37       10      2   \n",
      "19                            NaN 2017-10-04 09:25:41       10      2   \n",
      "20                            NaN 2017-10-04 12:02:28       10      2   \n",
      "21                            NaN 2017-10-04 11:28:38       10      2   \n",
      "22                            NaN 2017-10-04 10:58:33       10      2   \n",
      "23                            NaN 2017-10-04 10:04:57       10      2   \n",
      "24                            NaN 2017-10-04 11:37:35       10      2   \n",
      "25                            NaN 2017-10-04 09:33:24       10      2   \n",
      "26                            NaN 2017-10-04 22:31:35       10      2   \n",
      "27                            NaN 2017-10-04 08:59:00       10      2   \n",
      "28                            NaN 2017-10-03 10:45:05       10      1   \n",
      "30                            NaN 2017-10-04 07:23:41       10      2   \n",
      "32                            NaN 2017-10-04 05:43:36       10      2   \n",
      "33                            NaN 2017-10-03 21:50:00       10      1   \n",
      "...                           ...                 ...      ...    ...   \n",
      "696093                        NaN 2017-11-21 20:36:11       11      1   \n",
      "696095                        NaN 2017-11-21 18:10:33       11      1   \n",
      "696096                        NaN 2017-11-21 17:23:31       11      1   \n",
      "696097                        NaN 2017-11-21 17:02:36       11      1   \n",
      "696098                        NaN 2017-11-21 19:46:32       11      1   \n",
      "696099                        NaN 2017-11-21 19:46:32       11      1   \n",
      "696100                        NaN 2017-11-21 17:15:40       11      1   \n",
      "696101                        NaN 2017-11-21 17:07:17       11      1   \n",
      "696103                        NaN 2017-11-21 18:17:26       11      1   \n",
      "696104                        NaN 2017-11-21 15:55:15       11      1   \n",
      "696105                        NaN 2017-11-21 17:53:59       11      1   \n",
      "696106                        NaN 2017-11-21 17:53:59       11      1   \n",
      "696107                        NaN 2017-11-21 15:45:26       11      1   \n",
      "696108                        NaN 2017-11-21 16:46:24       11      1   \n",
      "696109                        NaN 2017-11-21 16:46:24       11      1   \n",
      "696110                        NaN 2017-11-21 16:16:55       11      1   \n",
      "696111                        NaN 2017-11-21 16:14:00       11      1   \n",
      "696112                        NaN 2017-11-21 16:11:27       11      1   \n",
      "696113                        NaN 2017-11-21 16:11:27       11      1   \n",
      "696114                        NaN 2017-11-21 19:06:10       11      1   \n",
      "696115                        NaN 2017-11-21 20:57:35       11      1   \n",
      "696116                        NaN 2017-11-21 20:15:13       11      1   \n",
      "696117                        NaN 2017-11-21 21:27:00       11      1   \n",
      "696118                        NaN 2017-11-21 21:13:28       11      1   \n",
      "696119                        NaN 2017-11-21 21:21:19       11      1   \n",
      "696120                        NaN 2017-11-21 21:26:20       11      1   \n",
      "696121                        NaN 2017-11-21 21:30:25       11      1   \n",
      "696122                        NaN 2017-11-21 21:12:22       11      1   \n",
      "696123                        NaN 2017-11-21 20:57:40       11      1   \n",
      "696124                        NaN 2017-11-21 15:59:02       11      1   \n",
      "\n",
      "          time_x tweet_id_y     author_id_y  inbound_y  \\\n",
      "0       20:05:43          5  VirginAtlantic      False   \n",
      "1       22:28:38          7  VirginAtlantic      False   \n",
      "2       22:31:55         11  VirginAtlantic      False   \n",
      "3       22:35:45         14     AmericanAir      False   \n",
      "5       22:04:46         27  VirginAtlantic      False   \n",
      "7       19:31:41         38  VirginAtlantic      False   \n",
      "8       13:26:35         44  VirginAtlantic      False   \n",
      "9       13:26:35         48  VirginAtlantic      False   \n",
      "10      15:12:43         49  VirginAtlantic      False   \n",
      "11      13:41:17         55  VirginAtlantic      False   \n",
      "12      13:45:20         58  VirginAtlantic      False   \n",
      "13      14:21:36         60  VirginAtlantic      False   \n",
      "14      12:33:33         67  VirginAtlantic      False   \n",
      "15      20:44:25         73     AmericanAir      False   \n",
      "16      12:57:53         75  VirginAtlantic      False   \n",
      "17      00:00:29         77      OPPOCareIN      False   \n",
      "18      12:13:37         79  VirginAtlantic      False   \n",
      "19      09:25:41         91  VirginAtlantic      False   \n",
      "20      12:02:28         93  VirginAtlantic      False   \n",
      "21      11:28:38         95  VirginAtlantic      False   \n",
      "22      10:58:33         97  VirginAtlantic      False   \n",
      "23      10:04:57        101  VirginAtlantic      False   \n",
      "24      11:37:35        103  VirginAtlantic      False   \n",
      "25      09:33:24        106  VirginAtlantic      False   \n",
      "26      22:31:35        108     AmericanAir      False   \n",
      "27      08:59:00        111  VirginAtlantic      False   \n",
      "28      10:45:05        119  VirginAtlantic      False   \n",
      "30      07:23:41        124  VirginAtlantic      False   \n",
      "32      05:43:36        129    AppleSupport      False   \n",
      "33      21:50:00        141  VirginAtlantic      False   \n",
      "...          ...        ...             ...        ...   \n",
      "696093  20:36:11    2366160      IHGService      False   \n",
      "696095  18:10:33    2366166     XboxSupport      False   \n",
      "696096  17:23:31    2366168     XboxSupport      False   \n",
      "696097  17:02:36    2366170     XboxSupport      False   \n",
      "696098  19:46:32    2366172     XboxSupport      False   \n",
      "696099  19:46:32    2366174     XboxSupport      False   \n",
      "696100  17:15:40    2366182     XboxSupport      False   \n",
      "696101  17:07:17    2366184     XboxSupport      False   \n",
      "696103  18:17:26    2366193     XboxSupport      False   \n",
      "696104  15:55:15    2366195     XboxSupport      False   \n",
      "696105  17:53:59    2366197     XboxSupport      False   \n",
      "696106  17:53:59    2366199     XboxSupport      False   \n",
      "696107  15:45:26    2366200     XboxSupport      False   \n",
      "696108  16:46:24    2366203     XboxSupport      False   \n",
      "696109  16:46:24    2366205     XboxSupport      False   \n",
      "696110  16:16:55    2366206     XboxSupport      False   \n",
      "696111  16:14:00    2366208     XboxSupport      False   \n",
      "696112  16:11:27    2366210     XboxSupport      False   \n",
      "696113  16:11:27    2366212     XboxSupport      False   \n",
      "696114  19:06:10    2366213  Safaricom_Care      False   \n",
      "696115  20:57:35    2366215       DellCares      False   \n",
      "696116  20:15:13    2366221       DellCares      False   \n",
      "696117  21:27:00    2366226         UPSHelp      False   \n",
      "696118  21:13:28    2366228         UPSHelp      False   \n",
      "696119  21:21:19    2366230         UPSHelp      False   \n",
      "696120  21:26:20    2366232         UPSHelp      False   \n",
      "696121  21:30:25    2366234         UPSHelp      False   \n",
      "696122  21:12:22    2366236         UPSHelp      False   \n",
      "696123  20:57:40    2366239         UPSHelp      False   \n",
      "696124  15:59:02    2366242  AirAsiaSupport      False   \n",
      "\n",
      "                                                   text_y response_tweet_id_y  \\\n",
      "0       @95932 Have you tried towards the end of March...                   3   \n",
      "1       @95933 Was this the bid for an upgrade you wer...                   8   \n",
      "2       @95934 I don't know the reason for the cancell...                  12   \n",
      "3       @95935 We work to keep our customers informed,...                  15   \n",
      "5       @95938 Sorry to hear that Kassi. Have you repo...                  26   \n",
      "7                   @95940 Oh no Helen. What happened? ^J               39,37   \n",
      "8       @95941 @95942 @0 2/2 customers on to our later...                  43   \n",
      "9       @95941 @95942 @0 1/2 Sorry Dan! We've got a te...                 NaN   \n",
      "10      @95943 Hi Julie, what error message are you ge...                  50   \n",
      "11      @95944 Hi James, if you give our flying club t...                 NaN   \n",
      "12      @95945 Hi Peter, if you feed this back to the ...                 NaN   \n",
      "13      @95946 Hi Noelia, what error message are you g...                 NaN   \n",
      "14      @95947 Hi there, did you pay us directly for y...                  64   \n",
      "15      @95948 We'll take a look at the connection. Me...                  72   \n",
      "16                     @95949 https://t.co/Tl7gjinUYw ^SR                 NaN   \n",
      "17      @95950 We regret your experience. Please help ...                 NaN   \n",
      "18      @95952 Hi Lorraine, please send me a DM with y...                 NaN   \n",
      "19      @95957 Hi Georgie, I'm sorry to hear this. Has...                  90   \n",
      "20      @95958 Thanks for your lovely message David! W...                 NaN   \n",
      "21      @95959 Have a great flight! ^SR https://t.co/w...                 NaN   \n",
      "22      @95960 @95961 This is great to hear Tina! Glad...                 NaN   \n",
      "23      @95962 Hi Charley, what's this with regard to? ^E                 100   \n",
      "24      @95963 If your entertainment screen not workin...                 104   \n",
      "25      @95964 Hi Dee, yes you can just check in at th...                 NaN   \n",
      "26      @95965 We're sorry for the maintenance cancell...                 NaN   \n",
      "27       @95966 Hey Ann, feel free to message us yes 😀 ^E                 112   \n",
      "28      @95967 Is this for your flying club account Ma...                 118   \n",
      "30      @95969 Hi Amy, yes we can pop it in to the hol...                 NaN   \n",
      "32      @95972 Let's take a look at your flashlight to...                 130   \n",
      "33      @95975 Oh no Andrew, sorry to hear that. have ...                 140   \n",
      "...                                                   ...                 ...   \n",
      "696093  @669312 Thank you for posting your concerns. I...                 NaN   \n",
      "696095  @669313 Hi there! We're here to help. Can you ...                 NaN   \n",
      "696096  @669314 Hi there! If you're using a public con...                 NaN   \n",
      "696097  @669315 Heya! Let's clear the console's cache:...                 NaN   \n",
      "696098  @669316 DM us your Gamertag and clarify what t...                 NaN   \n",
      "696099  @669316 Heyo! We'd like to Direct Message so w...                 NaN   \n",
      "696100  @669318 @98875 Oh no, definitely sorry to hear...                 NaN   \n",
      "696101  @669319 Hi there, we'd like to help but could ...                 NaN   \n",
      "696103  @669322 Hi there! We're English-speaking Suppo...                 NaN   \n",
      "696104  @669323 Hello, thanks for reaching out to us. ...                 NaN   \n",
      "696105  @669324 console into a wall outlet directly to...                 NaN   \n",
      "696106  @669324 Hi there. We can't speculate on that, ...                 NaN   \n",
      "696107  @669325 We'd be happy to help, but we could us...             2366201   \n",
      "696108  @669326 DM us your Gamertag and clarify what t...                 NaN   \n",
      "696109  @669326 Heyo! We'd like to Direct Message so w...                 NaN   \n",
      "696110  @669327 Hi there! Are there any Xbox-related s...                 NaN   \n",
      "696111  @669328 Hi there, we'd like to help but could ...                 NaN   \n",
      "696112  @669329 DM us your Gamertag and clarify what t...                 NaN   \n",
      "696113  @669329 Heyo! We'd like to Direct Message so w...                 NaN   \n",
      "696114  @425779 Hello,kindly ensure you type in M-Ledg...                 NaN   \n",
      "696115  @669330 Looping in @62395  for further assista...             2366216   \n",
      "696116  @669330 We would love to help you but since th...                 NaN   \n",
      "696117  @669332 I apologize that this happened. Can yo...                 NaN   \n",
      "696118  @669333 I am so very sorry your items were mis...                 NaN   \n",
      "696119  @669334 - I apologize to hear that your I phon...                 NaN   \n",
      "696120  @669335 Did the driver knock or ring the doorb...                 NaN   \n",
      "696121  @669336 We would be happy to assist you! Can y...                 NaN   \n",
      "696122  @633654 This is in regards to the previous tra...             2366237   \n",
      "696123  @669337 that doesn't sound good at all! DM us ...             2366240   \n",
      "696124  @669338 We're sorry Hemant, cancellation are n...                 NaN   \n",
      "\n",
      "        in_response_to_tweet_id_y              date_y  month_y  day_y  \\\n",
      "0                             6.0 2017-10-04 20:15:59       10      2   \n",
      "1                             9.0 2017-10-04 22:36:39       10      2   \n",
      "2                            13.0 2017-10-04 22:35:25       10      2   \n",
      "3                            16.0 2017-10-04 23:41:28       10      2   \n",
      "5                            28.0 2017-10-04 22:06:34       10      2   \n",
      "7                            40.0 2017-10-04 19:32:23       10      2   \n",
      "8                            45.0 2017-10-04 15:03:42       10      2   \n",
      "9                            45.0 2017-10-04 15:03:38       10      2   \n",
      "10                           51.0 2017-10-04 15:19:15       10      2   \n",
      "11                           56.0 2017-10-04 15:08:08       10      2   \n",
      "12                           59.0 2017-10-04 14:59:48       10      2   \n",
      "13                           61.0 2017-10-04 14:57:48       10      2   \n",
      "14                           68.0 2017-10-04 12:35:10       10      2   \n",
      "15                           74.0 2017-10-04 20:58:37       10      2   \n",
      "16                           76.0 2017-10-04 13:06:03       10      2   \n",
      "17                           78.0 2017-10-03 05:20:30       10      1   \n",
      "18                           80.0 2017-10-04 12:33:00       10      2   \n",
      "19                           92.0 2017-10-04 10:22:23       10      2   \n",
      "20                           94.0 2017-10-04 12:19:40       10      2   \n",
      "21                           96.0 2017-10-04 12:18:34       10      2   \n",
      "22                           98.0 2017-10-04 12:00:11       10      2   \n",
      "23                          102.0 2017-10-04 10:06:39       10      2   \n",
      "24                          105.0 2017-10-04 11:51:47       10      2   \n",
      "25                          107.0 2017-10-04 10:23:58       10      2   \n",
      "26                          109.0 2017-10-04 23:29:52       10      2   \n",
      "27                          113.0 2017-10-04 09:31:10       10      2   \n",
      "28                          120.0 2017-10-03 10:47:52       10      1   \n",
      "30                          125.0 2017-10-04 07:45:50       10      2   \n",
      "32                          131.0 2017-10-04 13:04:26       10      2   \n",
      "33                          142.0 2017-10-03 21:52:06       10      1   \n",
      "...                           ...                 ...      ...    ...   \n",
      "696093                  2366161.0 2017-11-21 21:17:00       11      1   \n",
      "696095                  2366167.0 2017-11-21 21:35:24       11      1   \n",
      "696096                  2366169.0 2017-11-21 21:31:57       11      1   \n",
      "696097                  2366171.0 2017-11-21 21:31:41       11      1   \n",
      "696098                  2366173.0 2017-11-21 21:27:16       11      1   \n",
      "696099                  2366173.0 2017-11-21 21:27:15       11      1   \n",
      "696100                  2366183.0 2017-11-21 21:24:39       11      1   \n",
      "696101                  2366185.0 2017-11-21 21:23:53       11      1   \n",
      "696103                  2366194.0 2017-11-21 21:22:53       11      1   \n",
      "696104                  2366196.0 2017-11-21 21:22:50       11      1   \n",
      "696105                  2366198.0 2017-11-21 21:21:33       11      1   \n",
      "696106                  2366198.0 2017-11-21 21:21:32       11      1   \n",
      "696107                  2366202.0 2017-11-21 21:19:51       11      1   \n",
      "696108                  2366204.0 2017-11-21 21:19:01       11      1   \n",
      "696109                  2366204.0 2017-11-21 21:19:00       11      1   \n",
      "696110                  2366207.0 2017-11-21 21:18:03       11      1   \n",
      "696111                  2366209.0 2017-11-21 21:15:23       11      1   \n",
      "696112                  2366211.0 2017-11-21 21:15:05       11      1   \n",
      "696113                  2366211.0 2017-11-21 21:15:04       11      1   \n",
      "696114                  2366214.0 2017-11-21 21:14:30       11      1   \n",
      "696115                  2366217.0 2017-11-21 21:25:29       11      1   \n",
      "696116                  2366222.0 2017-11-21 20:53:30       11      1   \n",
      "696117                  2366227.0 2017-11-21 21:42:58       11      1   \n",
      "696118                  2366229.0 2017-11-21 21:41:32       11      1   \n",
      "696119                  2366231.0 2017-11-21 21:40:30       11      1   \n",
      "696120                  2366233.0 2017-11-21 21:37:49       11      1   \n",
      "696121                  2366235.0 2017-11-21 21:36:15       11      1   \n",
      "696122                  2366238.0 2017-11-21 21:29:28       11      1   \n",
      "696123                  2366241.0 2017-11-21 21:14:37       11      1   \n",
      "696124                  2366243.0 2017-11-21 21:43:02       11      1   \n",
      "\n",
      "          time_y  \n",
      "0       20:15:59  \n",
      "1       22:36:39  \n",
      "2       22:35:25  \n",
      "3       23:41:28  \n",
      "5       22:06:34  \n",
      "7       19:32:23  \n",
      "8       15:03:42  \n",
      "9       15:03:38  \n",
      "10      15:19:15  \n",
      "11      15:08:08  \n",
      "12      14:59:48  \n",
      "13      14:57:48  \n",
      "14      12:35:10  \n",
      "15      20:58:37  \n",
      "16      13:06:03  \n",
      "17      05:20:30  \n",
      "18      12:33:00  \n",
      "19      10:22:23  \n",
      "20      12:19:40  \n",
      "21      12:18:34  \n",
      "22      12:00:11  \n",
      "23      10:06:39  \n",
      "24      11:51:47  \n",
      "25      10:23:58  \n",
      "26      23:29:52  \n",
      "27      09:31:10  \n",
      "28      10:47:52  \n",
      "30      07:45:50  \n",
      "32      13:04:26  \n",
      "33      21:52:06  \n",
      "...          ...  \n",
      "696093  21:17:00  \n",
      "696095  21:35:24  \n",
      "696096  21:31:57  \n",
      "696097  21:31:41  \n",
      "696098  21:27:16  \n",
      "696099  21:27:15  \n",
      "696100  21:24:39  \n",
      "696101  21:23:53  \n",
      "696103  21:22:53  \n",
      "696104  21:22:50  \n",
      "696105  21:21:33  \n",
      "696106  21:21:32  \n",
      "696107  21:19:51  \n",
      "696108  21:19:01  \n",
      "696109  21:19:00  \n",
      "696110  21:18:03  \n",
      "696111  21:15:23  \n",
      "696112  21:15:05  \n",
      "696113  21:15:04  \n",
      "696114  21:14:30  \n",
      "696115  21:25:29  \n",
      "696116  20:53:30  \n",
      "696117  21:42:58  \n",
      "696118  21:41:32  \n",
      "696119  21:40:30  \n",
      "696120  21:37:49  \n",
      "696121  21:36:15  \n",
      "696122  21:29:28  \n",
      "696123  21:14:37  \n",
      "696124  21:43:02  \n",
      "\n",
      "[630633 rows x 20 columns]\n"
     ]
    }
   ],
   "source": [
    "print(\"Found {} responses from companies.\".format(len(inbounds_and_outbounds)))\n",
    "print(\"Tweets Preview:\")\n",
    "print(inbounds_and_outbounds)"
   ]
  },
  {
   "cell_type": "code",
   "execution_count": 20,
   "metadata": {
    "ExecuteTime": {
     "end_time": "2017-11-29T04:15:21.748693Z",
     "start_time": "2017-11-29T04:15:21.724218Z"
    }
   },
   "outputs": [
    {
     "data": {
      "text/html": [
       "<div>\n",
       "<style scoped>\n",
       "    .dataframe tbody tr th:only-of-type {\n",
       "        vertical-align: middle;\n",
       "    }\n",
       "\n",
       "    .dataframe tbody tr th {\n",
       "        vertical-align: top;\n",
       "    }\n",
       "\n",
       "    .dataframe thead th {\n",
       "        text-align: right;\n",
       "    }\n",
       "</style>\n",
       "<table border=\"1\" class=\"dataframe\">\n",
       "  <thead>\n",
       "    <tr style=\"text-align: right;\">\n",
       "      <th></th>\n",
       "      <th>tweet_id_x</th>\n",
       "      <th>author_id_x</th>\n",
       "      <th>inbound_x</th>\n",
       "      <th>text_x</th>\n",
       "      <th>response_tweet_id_x</th>\n",
       "      <th>in_response_to_tweet_id_x</th>\n",
       "      <th>date_x</th>\n",
       "      <th>month_x</th>\n",
       "      <th>day_x</th>\n",
       "      <th>time_x</th>\n",
       "      <th>tweet_id_y</th>\n",
       "      <th>author_id_y</th>\n",
       "      <th>inbound_y</th>\n",
       "      <th>text_y</th>\n",
       "      <th>response_tweet_id_y</th>\n",
       "      <th>in_response_to_tweet_id_y</th>\n",
       "      <th>date_y</th>\n",
       "      <th>month_y</th>\n",
       "      <th>day_y</th>\n",
       "      <th>time_y</th>\n",
       "    </tr>\n",
       "  </thead>\n",
       "  <tbody>\n",
       "    <tr>\n",
       "      <th>0</th>\n",
       "      <td>6</td>\n",
       "      <td>95932</td>\n",
       "      <td>True</td>\n",
       "      <td>@VirginAtlantic what's the deal on the nonstop...</td>\n",
       "      <td>5</td>\n",
       "      <td>NaN</td>\n",
       "      <td>2017-10-04 20:05:43</td>\n",
       "      <td>10</td>\n",
       "      <td>2</td>\n",
       "      <td>20:05:43</td>\n",
       "      <td>5</td>\n",
       "      <td>VirginAtlantic</td>\n",
       "      <td>False</td>\n",
       "      <td>@95932 Have you tried towards the end of March...</td>\n",
       "      <td>3</td>\n",
       "      <td>6.0</td>\n",
       "      <td>2017-10-04 20:15:59</td>\n",
       "      <td>10</td>\n",
       "      <td>2</td>\n",
       "      <td>20:15:59</td>\n",
       "    </tr>\n",
       "    <tr>\n",
       "      <th>1</th>\n",
       "      <td>9</td>\n",
       "      <td>95933</td>\n",
       "      <td>True</td>\n",
       "      <td>@VirginAtlantic saw your page on upgrading. I ...</td>\n",
       "      <td>7</td>\n",
       "      <td>NaN</td>\n",
       "      <td>2017-10-04 22:28:38</td>\n",
       "      <td>10</td>\n",
       "      <td>2</td>\n",
       "      <td>22:28:38</td>\n",
       "      <td>7</td>\n",
       "      <td>VirginAtlantic</td>\n",
       "      <td>False</td>\n",
       "      <td>@95933 Was this the bid for an upgrade you wer...</td>\n",
       "      <td>8</td>\n",
       "      <td>9.0</td>\n",
       "      <td>2017-10-04 22:36:39</td>\n",
       "      <td>10</td>\n",
       "      <td>2</td>\n",
       "      <td>22:36:39</td>\n",
       "    </tr>\n",
       "    <tr>\n",
       "      <th>2</th>\n",
       "      <td>13</td>\n",
       "      <td>95934</td>\n",
       "      <td>True</td>\n",
       "      <td>@VirginAtlantic Any idea why our flight VS7 ca...</td>\n",
       "      <td>11</td>\n",
       "      <td>NaN</td>\n",
       "      <td>2017-10-04 22:31:55</td>\n",
       "      <td>10</td>\n",
       "      <td>2</td>\n",
       "      <td>22:31:55</td>\n",
       "      <td>11</td>\n",
       "      <td>VirginAtlantic</td>\n",
       "      <td>False</td>\n",
       "      <td>@95934 I don't know the reason for the cancell...</td>\n",
       "      <td>12</td>\n",
       "      <td>13.0</td>\n",
       "      <td>2017-10-04 22:35:25</td>\n",
       "      <td>10</td>\n",
       "      <td>2</td>\n",
       "      <td>22:35:25</td>\n",
       "    </tr>\n",
       "    <tr>\n",
       "      <th>3</th>\n",
       "      <td>16</td>\n",
       "      <td>95935</td>\n",
       "      <td>True</td>\n",
       "      <td>@AmericanAir Ur shady</td>\n",
       "      <td>14</td>\n",
       "      <td>NaN</td>\n",
       "      <td>2017-10-04 22:35:45</td>\n",
       "      <td>10</td>\n",
       "      <td>2</td>\n",
       "      <td>22:35:45</td>\n",
       "      <td>14</td>\n",
       "      <td>AmericanAir</td>\n",
       "      <td>False</td>\n",
       "      <td>@95935 We work to keep our customers informed,...</td>\n",
       "      <td>15</td>\n",
       "      <td>16.0</td>\n",
       "      <td>2017-10-04 23:41:28</td>\n",
       "      <td>10</td>\n",
       "      <td>2</td>\n",
       "      <td>23:41:28</td>\n",
       "    </tr>\n",
       "    <tr>\n",
       "      <th>5</th>\n",
       "      <td>28</td>\n",
       "      <td>95938</td>\n",
       "      <td>True</td>\n",
       "      <td>@VirginAtlantic  Arrived Gatwick this a.m - su...</td>\n",
       "      <td>27</td>\n",
       "      <td>NaN</td>\n",
       "      <td>2017-10-04 22:04:46</td>\n",
       "      <td>10</td>\n",
       "      <td>2</td>\n",
       "      <td>22:04:46</td>\n",
       "      <td>27</td>\n",
       "      <td>VirginAtlantic</td>\n",
       "      <td>False</td>\n",
       "      <td>@95938 Sorry to hear that Kassi. Have you repo...</td>\n",
       "      <td>26</td>\n",
       "      <td>28.0</td>\n",
       "      <td>2017-10-04 22:06:34</td>\n",
       "      <td>10</td>\n",
       "      <td>2</td>\n",
       "      <td>22:06:34</td>\n",
       "    </tr>\n",
       "  </tbody>\n",
       "</table>\n",
       "</div>"
      ],
      "text/plain": [
       "  tweet_id_x author_id_x  inbound_x  \\\n",
       "0          6       95932       True   \n",
       "1          9       95933       True   \n",
       "2         13       95934       True   \n",
       "3         16       95935       True   \n",
       "5         28       95938       True   \n",
       "\n",
       "                                              text_x response_tweet_id_x  \\\n",
       "0  @VirginAtlantic what's the deal on the nonstop...                   5   \n",
       "1  @VirginAtlantic saw your page on upgrading. I ...                   7   \n",
       "2  @VirginAtlantic Any idea why our flight VS7 ca...                  11   \n",
       "3                              @AmericanAir Ur shady                  14   \n",
       "5  @VirginAtlantic  Arrived Gatwick this a.m - su...                  27   \n",
       "\n",
       "   in_response_to_tweet_id_x              date_x  month_x  day_x    time_x  \\\n",
       "0                        NaN 2017-10-04 20:05:43       10      2  20:05:43   \n",
       "1                        NaN 2017-10-04 22:28:38       10      2  22:28:38   \n",
       "2                        NaN 2017-10-04 22:31:55       10      2  22:31:55   \n",
       "3                        NaN 2017-10-04 22:35:45       10      2  22:35:45   \n",
       "5                        NaN 2017-10-04 22:04:46       10      2  22:04:46   \n",
       "\n",
       "  tweet_id_y     author_id_y  inbound_y  \\\n",
       "0          5  VirginAtlantic      False   \n",
       "1          7  VirginAtlantic      False   \n",
       "2         11  VirginAtlantic      False   \n",
       "3         14     AmericanAir      False   \n",
       "5         27  VirginAtlantic      False   \n",
       "\n",
       "                                              text_y response_tweet_id_y  \\\n",
       "0  @95932 Have you tried towards the end of March...                   3   \n",
       "1  @95933 Was this the bid for an upgrade you wer...                   8   \n",
       "2  @95934 I don't know the reason for the cancell...                  12   \n",
       "3  @95935 We work to keep our customers informed,...                  15   \n",
       "5  @95938 Sorry to hear that Kassi. Have you repo...                  26   \n",
       "\n",
       "   in_response_to_tweet_id_y              date_y  month_y  day_y    time_y  \n",
       "0                        6.0 2017-10-04 20:15:59       10      2  20:15:59  \n",
       "1                        9.0 2017-10-04 22:36:39       10      2  22:36:39  \n",
       "2                       13.0 2017-10-04 22:35:25       10      2  22:35:25  \n",
       "3                       16.0 2017-10-04 23:41:28       10      2  23:41:28  \n",
       "5                       28.0 2017-10-04 22:06:34       10      2  22:06:34  "
      ]
     },
     "execution_count": 20,
     "metadata": {},
     "output_type": "execute_result"
    }
   ],
   "source": [
    "inbounds_and_outbounds.head()"
   ]
  },
  {
   "cell_type": "code",
   "execution_count": null,
   "metadata": {},
   "outputs": [],
   "source": [
    "# Subtract the time_y - time _x"
   ]
  },
  {
   "cell_type": "code",
   "execution_count": null,
   "metadata": {},
   "outputs": [],
   "source": [
    "# take the average response time by company"
   ]
  },
  {
   "cell_type": "markdown",
   "metadata": {},
   "source": [
    "### Company Groups"
   ]
  },
  {
   "cell_type": "code",
   "execution_count": 24,
   "metadata": {
    "ExecuteTime": {
     "end_time": "2017-11-29T03:36:10.091505Z",
     "start_time": "2017-11-29T03:36:08.984532Z"
    }
   },
   "outputs": [
    {
     "name": "stderr",
     "output_type": "stream",
     "text": [
      "/home/xavier/anaconda3/lib/python3.6/site-packages/ipykernel_launcher.py:2: UserWarning: This pattern has match groups. To actually get the groups, use str.extract.\n",
      "  \n"
     ]
    }
   ],
   "source": [
    "companyGroup = df.groupby('author_id').inbound.count().reset_index()\n",
    "companyGroup = companyGroup.loc[companyGroup.iloc[:,0].str.contains(r'(^\\D{6})')]\n",
    "companyGroup.sort_values('author_id',inplace=True)"
   ]
  },
  {
   "cell_type": "code",
   "execution_count": 25,
   "metadata": {
    "ExecuteTime": {
     "end_time": "2017-11-29T03:36:10.096226Z",
     "start_time": "2017-11-29T03:36:10.093157Z"
    }
   },
   "outputs": [],
   "source": [
    "companies = list(set(companyGroup.author_id))\n",
    "companies.sort()"
   ]
  },
  {
   "cell_type": "code",
   "execution_count": 27,
   "metadata": {
    "ExecuteTime": {
     "end_time": "2017-11-29T03:36:17.226375Z",
     "start_time": "2017-11-29T03:36:17.221627Z"
    }
   },
   "outputs": [
    {
     "data": {
      "text/plain": [
       "['ATVIAssist',\n",
       " 'AWSSupport',\n",
       " 'AdobeCare',\n",
       " 'AirAsiaSupport',\n",
       " 'AirbnbHelp',\n",
       " 'AlaskaAir',\n",
       " 'AldiUK',\n",
       " 'AmazonHelp',\n",
       " 'AmericanAir',\n",
       " 'AppleSupport',\n",
       " 'ArbysCares',\n",
       " 'ArgosHelpers',\n",
       " 'AskAmex',\n",
       " 'AskCiti',\n",
       " 'AskDSC',\n",
       " 'AskLyft',\n",
       " 'AskPapaJohns',\n",
       " 'AskPayPal',\n",
       " 'AskPlayStation',\n",
       " 'AskRBC',\n",
       " 'AskRobinhood',\n",
       " 'AskSeagate',\n",
       " 'AskTarget',\n",
       " 'AskTigogh',\n",
       " 'AskVirginMoney',\n",
       " 'Ask_Spectrum',\n",
       " 'Ask_WellsFargo',\n",
       " 'AskeBay',\n",
       " 'AsurionCares',\n",
       " 'AzureSupport',\n",
       " 'BofA_Help',\n",
       " 'BoostCare',\n",
       " 'British_Airways',\n",
       " 'CarlsJr',\n",
       " 'CenturyLinkHelp',\n",
       " 'ChaseSupport',\n",
       " 'ChipotleTweets',\n",
       " 'CoxHelp',\n",
       " 'DellCares',\n",
       " 'DoorDash_Help',\n",
       " 'DropboxSupport',\n",
       " 'DunkinDonuts',\n",
       " 'GWRHelp',\n",
       " 'GloCare',\n",
       " 'GoDaddyHelp',\n",
       " 'GooglePlayMusic',\n",
       " 'GreggsOfficial',\n",
       " 'HPSupport',\n",
       " 'HiltonHelp',\n",
       " 'HotelTonightCX',\n",
       " 'IHGService',\n",
       " 'JackBox',\n",
       " 'JetBlue',\n",
       " 'KFC_UKI_Help',\n",
       " 'KeyBank_Help',\n",
       " 'Kimpton',\n",
       " 'LondonMidland',\n",
       " 'MTNC_Care',\n",
       " 'McDonalds',\n",
       " 'MicrosoftHelps',\n",
       " 'Morrisons',\n",
       " 'NeweggService',\n",
       " 'NikeSupport',\n",
       " 'NortonSupport',\n",
       " 'OPPOCareIN',\n",
       " 'OfficeSupport',\n",
       " 'PandoraSupport',\n",
       " 'PearsonSupport',\n",
       " 'Postmates_Help',\n",
       " 'SCsupport',\n",
       " 'SW_Help',\n",
       " 'Safaricom_Care',\n",
       " 'SouthwestAir',\n",
       " 'SpotifyCares',\n",
       " 'TMobileHelp',\n",
       " 'TacoBellTeam',\n",
       " 'TwitterSupport',\n",
       " 'UPSHelp',\n",
       " 'USCellularCares',\n",
       " 'Uber_Support',\n",
       " 'VMUcare',\n",
       " 'VerizonSupport',\n",
       " 'VirginAmerica',\n",
       " 'VirginAtlantic',\n",
       " 'VirginTrains',\n",
       " 'Walmart',\n",
       " 'XboxSupport',\n",
       " 'YahooCare',\n",
       " 'airtel_care',\n",
       " 'ask_progressive',\n",
       " 'askpanera',\n",
       " 'asksalesforce',\n",
       " 'askvisa',\n",
       " 'comcastcares',\n",
       " 'hulu_support',\n",
       " 'idea_cares',\n",
       " 'marksandspencer',\n",
       " 'mediatemplehelp',\n",
       " 'nationalrailenq',\n",
       " 'sainsburys',\n",
       " 'sizehelpteam',\n",
       " 'sprintcare']"
      ]
     },
     "execution_count": 27,
     "metadata": {},
     "output_type": "execute_result"
    }
   ],
   "source": [
    "companies"
   ]
  },
  {
   "cell_type": "code",
   "execution_count": 28,
   "metadata": {
    "ExecuteTime": {
     "end_time": "2017-11-29T03:36:21.386735Z",
     "start_time": "2017-11-29T03:36:21.183443Z"
    }
   },
   "outputs": [],
   "source": [
    "df.drop('created_at',axis=1,inplace=True)"
   ]
  },
  {
   "cell_type": "code",
   "execution_count": 29,
   "metadata": {
    "ExecuteTime": {
     "end_time": "2017-11-29T03:36:21.695549Z",
     "start_time": "2017-11-29T03:36:21.682955Z"
    }
   },
   "outputs": [
    {
     "data": {
      "text/html": [
       "<div>\n",
       "<style scoped>\n",
       "    .dataframe tbody tr th:only-of-type {\n",
       "        vertical-align: middle;\n",
       "    }\n",
       "\n",
       "    .dataframe tbody tr th {\n",
       "        vertical-align: top;\n",
       "    }\n",
       "\n",
       "    .dataframe thead th {\n",
       "        text-align: right;\n",
       "    }\n",
       "</style>\n",
       "<table border=\"1\" class=\"dataframe\">\n",
       "  <thead>\n",
       "    <tr style=\"text-align: right;\">\n",
       "      <th></th>\n",
       "      <th>tweet_id</th>\n",
       "      <th>author_id</th>\n",
       "      <th>inbound</th>\n",
       "      <th>text</th>\n",
       "      <th>response_tweet_id</th>\n",
       "      <th>in_response_to_tweet_id</th>\n",
       "      <th>date</th>\n",
       "    </tr>\n",
       "  </thead>\n",
       "  <tbody>\n",
       "    <tr>\n",
       "      <th>0</th>\n",
       "      <td>1</td>\n",
       "      <td>VirginAtlantic</td>\n",
       "      <td>False</td>\n",
       "      <td>@95932 Hmmm they may be full. Have you tried b...</td>\n",
       "      <td>2</td>\n",
       "      <td>3.0</td>\n",
       "      <td>2017-10-04 22:37:58</td>\n",
       "    </tr>\n",
       "    <tr>\n",
       "      <th>1</th>\n",
       "      <td>2</td>\n",
       "      <td>95932</td>\n",
       "      <td>True</td>\n",
       "      <td>@VirginAtlantic Sure have. Nothing comes up at...</td>\n",
       "      <td>4</td>\n",
       "      <td>1.0</td>\n",
       "      <td>2017-10-04 22:55:58</td>\n",
       "    </tr>\n",
       "    <tr>\n",
       "      <th>2</th>\n",
       "      <td>4</td>\n",
       "      <td>VirginAtlantic</td>\n",
       "      <td>False</td>\n",
       "      <td>@95932 I'm going to report this then. It sound...</td>\n",
       "      <td>NaN</td>\n",
       "      <td>2.0</td>\n",
       "      <td>2017-10-04 23:00:12</td>\n",
       "    </tr>\n",
       "    <tr>\n",
       "      <th>3</th>\n",
       "      <td>3</td>\n",
       "      <td>95932</td>\n",
       "      <td>True</td>\n",
       "      <td>@VirginAtlantic Yes, nothing comes up 🙁</td>\n",
       "      <td>1</td>\n",
       "      <td>5.0</td>\n",
       "      <td>2017-10-04 22:36:35</td>\n",
       "    </tr>\n",
       "    <tr>\n",
       "      <th>4</th>\n",
       "      <td>5</td>\n",
       "      <td>VirginAtlantic</td>\n",
       "      <td>False</td>\n",
       "      <td>@95932 Have you tried towards the end of March...</td>\n",
       "      <td>3</td>\n",
       "      <td>6.0</td>\n",
       "      <td>2017-10-04 20:15:59</td>\n",
       "    </tr>\n",
       "  </tbody>\n",
       "</table>\n",
       "</div>"
      ],
      "text/plain": [
       "   tweet_id       author_id  inbound  \\\n",
       "0         1  VirginAtlantic    False   \n",
       "1         2           95932     True   \n",
       "2         4  VirginAtlantic    False   \n",
       "3         3           95932     True   \n",
       "4         5  VirginAtlantic    False   \n",
       "\n",
       "                                                text response_tweet_id  \\\n",
       "0  @95932 Hmmm they may be full. Have you tried b...                 2   \n",
       "1  @VirginAtlantic Sure have. Nothing comes up at...                 4   \n",
       "2  @95932 I'm going to report this then. It sound...               NaN   \n",
       "3            @VirginAtlantic Yes, nothing comes up 🙁                 1   \n",
       "4  @95932 Have you tried towards the end of March...                 3   \n",
       "\n",
       "   in_response_to_tweet_id                date  \n",
       "0                      3.0 2017-10-04 22:37:58  \n",
       "1                      1.0 2017-10-04 22:55:58  \n",
       "2                      2.0 2017-10-04 23:00:12  \n",
       "3                      5.0 2017-10-04 22:36:35  \n",
       "4                      6.0 2017-10-04 20:15:59  "
      ]
     },
     "execution_count": 29,
     "metadata": {},
     "output_type": "execute_result"
    }
   ],
   "source": [
    "df.head()"
   ]
  },
  {
   "cell_type": "markdown",
   "metadata": {},
   "source": [
    "### Date Range"
   ]
  },
  {
   "cell_type": "code",
   "execution_count": 31,
   "metadata": {
    "ExecuteTime": {
     "end_time": "2017-11-29T03:36:37.350465Z",
     "start_time": "2017-11-29T03:36:37.335892Z"
    }
   },
   "outputs": [
    {
     "data": {
      "text/plain": [
       "Timestamp('2008-05-08 20:13:59')"
      ]
     },
     "execution_count": 31,
     "metadata": {},
     "output_type": "execute_result"
    }
   ],
   "source": [
    "df.date.min()"
   ]
  },
  {
   "cell_type": "code",
   "execution_count": 32,
   "metadata": {
    "ExecuteTime": {
     "end_time": "2017-11-29T03:36:37.966350Z",
     "start_time": "2017-11-29T03:36:37.951294Z"
    }
   },
   "outputs": [
    {
     "data": {
      "text/plain": [
       "Timestamp('2017-11-21 21:43:02')"
      ]
     },
     "execution_count": 32,
     "metadata": {},
     "output_type": "execute_result"
    }
   ],
   "source": [
    "df.date.max()"
   ]
  },
  {
   "cell_type": "code",
   "execution_count": 33,
   "metadata": {
    "ExecuteTime": {
     "end_time": "2017-11-29T03:36:38.808926Z",
     "start_time": "2017-11-29T03:36:38.286310Z"
    }
   },
   "outputs": [],
   "source": [
    "df2 = df.sort_values('date',ascending=True)"
   ]
  },
  {
   "cell_type": "code",
   "execution_count": 34,
   "metadata": {
    "ExecuteTime": {
     "end_time": "2017-11-29T03:36:38.823154Z",
     "start_time": "2017-11-29T03:36:38.810485Z"
    }
   },
   "outputs": [
    {
     "data": {
      "text/html": [
       "<div>\n",
       "<style scoped>\n",
       "    .dataframe tbody tr th:only-of-type {\n",
       "        vertical-align: middle;\n",
       "    }\n",
       "\n",
       "    .dataframe tbody tr th {\n",
       "        vertical-align: top;\n",
       "    }\n",
       "\n",
       "    .dataframe thead th {\n",
       "        text-align: right;\n",
       "    }\n",
       "</style>\n",
       "<table border=\"1\" class=\"dataframe\">\n",
       "  <thead>\n",
       "    <tr style=\"text-align: right;\">\n",
       "      <th></th>\n",
       "      <th>tweet_id</th>\n",
       "      <th>author_id</th>\n",
       "      <th>inbound</th>\n",
       "      <th>text</th>\n",
       "      <th>response_tweet_id</th>\n",
       "      <th>in_response_to_tweet_id</th>\n",
       "      <th>date</th>\n",
       "      <th>month</th>\n",
       "    </tr>\n",
       "  </thead>\n",
       "  <tbody>\n",
       "    <tr>\n",
       "      <th>319047</th>\n",
       "      <td>347379</td>\n",
       "      <td>SouthwestAir</td>\n",
       "      <td>False</td>\n",
       "      <td>@17251  Have FUN at the lecture tonight!  Tell...</td>\n",
       "      <td>347364</td>\n",
       "      <td>347380.0</td>\n",
       "      <td>2008-05-08 20:13:59</td>\n",
       "      <td>5</td>\n",
       "    </tr>\n",
       "    <tr>\n",
       "      <th>319046</th>\n",
       "      <td>347364</td>\n",
       "      <td>183416</td>\n",
       "      <td>True</td>\n",
       "      <td>@SouthwestAir Can you pls enter the HI market ...</td>\n",
       "      <td>347365,347366,347363,347367,347368,347369,3473...</td>\n",
       "      <td>347379.0</td>\n",
       "      <td>2008-05-08 21:04:16</td>\n",
       "      <td>5</td>\n",
       "    </tr>\n",
       "    <tr>\n",
       "      <th>542908</th>\n",
       "      <td>590641</td>\n",
       "      <td>241659</td>\n",
       "      <td>True</td>\n",
       "      <td>KTAR.com - Foreclosures still big problem in V...</td>\n",
       "      <td>590640</td>\n",
       "      <td>NaN</td>\n",
       "      <td>2010-02-16 15:49:47</td>\n",
       "      <td>2</td>\n",
       "    </tr>\n",
       "    <tr>\n",
       "      <th>627162</th>\n",
       "      <td>681789</td>\n",
       "      <td>263054</td>\n",
       "      <td>True</td>\n",
       "      <td>@263056 Do you know if Carl's Jr serves lunch ...</td>\n",
       "      <td>681787</td>\n",
       "      <td>NaN</td>\n",
       "      <td>2010-03-31 15:24:29</td>\n",
       "      <td>3</td>\n",
       "    </tr>\n",
       "    <tr>\n",
       "      <th>627160</th>\n",
       "      <td>681787</td>\n",
       "      <td>CarlsJr</td>\n",
       "      <td>False</td>\n",
       "      <td>@263054 We serve lunch all day!</td>\n",
       "      <td>681788</td>\n",
       "      <td>681789.0</td>\n",
       "      <td>2010-03-31 16:53:27</td>\n",
       "      <td>3</td>\n",
       "    </tr>\n",
       "  </tbody>\n",
       "</table>\n",
       "</div>"
      ],
      "text/plain": [
       "        tweet_id     author_id  inbound  \\\n",
       "319047    347379  SouthwestAir    False   \n",
       "319046    347364        183416     True   \n",
       "542908    590641        241659     True   \n",
       "627162    681789        263054     True   \n",
       "627160    681787       CarlsJr    False   \n",
       "\n",
       "                                                     text  \\\n",
       "319047  @17251  Have FUN at the lecture tonight!  Tell...   \n",
       "319046  @SouthwestAir Can you pls enter the HI market ...   \n",
       "542908  KTAR.com - Foreclosures still big problem in V...   \n",
       "627162  @263056 Do you know if Carl's Jr serves lunch ...   \n",
       "627160                    @263054 We serve lunch all day!   \n",
       "\n",
       "                                        response_tweet_id  \\\n",
       "319047                                             347364   \n",
       "319046  347365,347366,347363,347367,347368,347369,3473...   \n",
       "542908                                             590640   \n",
       "627162                                             681787   \n",
       "627160                                             681788   \n",
       "\n",
       "        in_response_to_tweet_id                date  month  \n",
       "319047                 347380.0 2008-05-08 20:13:59      5  \n",
       "319046                 347379.0 2008-05-08 21:04:16      5  \n",
       "542908                      NaN 2010-02-16 15:49:47      2  \n",
       "627162                      NaN 2010-03-31 15:24:29      3  \n",
       "627160                 681789.0 2010-03-31 16:53:27      3  "
      ]
     },
     "execution_count": 34,
     "metadata": {},
     "output_type": "execute_result"
    }
   ],
   "source": [
    "df2.head()"
   ]
  },
  {
   "cell_type": "markdown",
   "metadata": {},
   "source": [
    "### Tweets by Month"
   ]
  },
  {
   "cell_type": "code",
   "execution_count": 35,
   "metadata": {
    "ExecuteTime": {
     "end_time": "2017-11-29T03:37:01.779175Z",
     "start_time": "2017-11-29T03:37:01.753517Z"
    }
   },
   "outputs": [
    {
     "data": {
      "text/plain": [
       "True     1214604\n",
       "False    1011217\n",
       "Name: inbound, dtype: int64"
      ]
     },
     "execution_count": 35,
     "metadata": {},
     "output_type": "execute_result"
    }
   ],
   "source": [
    "df.inbound.value_counts()"
   ]
  },
  {
   "cell_type": "code",
   "execution_count": 36,
   "metadata": {
    "ExecuteTime": {
     "end_time": "2017-11-29T03:37:03.845840Z",
     "start_time": "2017-11-29T03:37:03.740461Z"
    }
   },
   "outputs": [],
   "source": [
    "inboundDF = df[df.inbound == True]"
   ]
  },
  {
   "cell_type": "code",
   "execution_count": 37,
   "metadata": {
    "ExecuteTime": {
     "end_time": "2017-11-29T03:37:06.548248Z",
     "start_time": "2017-11-29T03:37:06.544357Z"
    }
   },
   "outputs": [
    {
     "data": {
      "text/plain": [
       "(1214604, 8)"
      ]
     },
     "execution_count": 37,
     "metadata": {},
     "output_type": "execute_result"
    }
   ],
   "source": [
    "inboundDF.shape"
   ]
  },
  {
   "cell_type": "code",
   "execution_count": 38,
   "metadata": {
    "ExecuteTime": {
     "end_time": "2017-11-29T03:37:07.882083Z",
     "start_time": "2017-11-29T03:37:07.818427Z"
    }
   },
   "outputs": [],
   "source": [
    "monthGroup = df.groupby('month').inbound.count().reset_index()"
   ]
  },
  {
   "cell_type": "code",
   "execution_count": 39,
   "metadata": {
    "ExecuteTime": {
     "end_time": "2017-11-29T03:37:08.349891Z",
     "start_time": "2017-11-29T03:37:08.342511Z"
    }
   },
   "outputs": [
    {
     "data": {
      "text/html": [
       "<div>\n",
       "<style scoped>\n",
       "    .dataframe tbody tr th:only-of-type {\n",
       "        vertical-align: middle;\n",
       "    }\n",
       "\n",
       "    .dataframe tbody tr th {\n",
       "        vertical-align: top;\n",
       "    }\n",
       "\n",
       "    .dataframe thead th {\n",
       "        text-align: right;\n",
       "    }\n",
       "</style>\n",
       "<table border=\"1\" class=\"dataframe\">\n",
       "  <thead>\n",
       "    <tr style=\"text-align: right;\">\n",
       "      <th></th>\n",
       "      <th>month</th>\n",
       "      <th>inbound</th>\n",
       "    </tr>\n",
       "  </thead>\n",
       "  <tbody>\n",
       "    <tr>\n",
       "      <th>0</th>\n",
       "      <td>1</td>\n",
       "      <td>328</td>\n",
       "    </tr>\n",
       "    <tr>\n",
       "      <th>1</th>\n",
       "      <td>2</td>\n",
       "      <td>332</td>\n",
       "    </tr>\n",
       "    <tr>\n",
       "      <th>2</th>\n",
       "      <td>3</td>\n",
       "      <td>283</td>\n",
       "    </tr>\n",
       "    <tr>\n",
       "      <th>3</th>\n",
       "      <td>4</td>\n",
       "      <td>451</td>\n",
       "    </tr>\n",
       "    <tr>\n",
       "      <th>4</th>\n",
       "      <td>5</td>\n",
       "      <td>545</td>\n",
       "    </tr>\n",
       "    <tr>\n",
       "      <th>5</th>\n",
       "      <td>6</td>\n",
       "      <td>602</td>\n",
       "    </tr>\n",
       "    <tr>\n",
       "      <th>6</th>\n",
       "      <td>7</td>\n",
       "      <td>978</td>\n",
       "    </tr>\n",
       "    <tr>\n",
       "      <th>7</th>\n",
       "      <td>8</td>\n",
       "      <td>2158</td>\n",
       "    </tr>\n",
       "    <tr>\n",
       "      <th>8</th>\n",
       "      <td>9</td>\n",
       "      <td>13049</td>\n",
       "    </tr>\n",
       "    <tr>\n",
       "      <th>9</th>\n",
       "      <td>10</td>\n",
       "      <td>1252961</td>\n",
       "    </tr>\n",
       "    <tr>\n",
       "      <th>10</th>\n",
       "      <td>11</td>\n",
       "      <td>953862</td>\n",
       "    </tr>\n",
       "    <tr>\n",
       "      <th>11</th>\n",
       "      <td>12</td>\n",
       "      <td>272</td>\n",
       "    </tr>\n",
       "  </tbody>\n",
       "</table>\n",
       "</div>"
      ],
      "text/plain": [
       "    month  inbound\n",
       "0       1      328\n",
       "1       2      332\n",
       "2       3      283\n",
       "3       4      451\n",
       "4       5      545\n",
       "5       6      602\n",
       "6       7      978\n",
       "7       8     2158\n",
       "8       9    13049\n",
       "9      10  1252961\n",
       "10     11   953862\n",
       "11     12      272"
      ]
     },
     "execution_count": 39,
     "metadata": {},
     "output_type": "execute_result"
    }
   ],
   "source": [
    "monthGroup"
   ]
  },
  {
   "cell_type": "code",
   "execution_count": 40,
   "metadata": {
    "ExecuteTime": {
     "end_time": "2017-11-29T03:37:15.403822Z",
     "start_time": "2017-11-29T03:37:15.050325Z"
    }
   },
   "outputs": [
    {
     "data": {
      "text/plain": [
       "Text(0,0.5,'Inbound Tweets')"
      ]
     },
     "execution_count": 40,
     "metadata": {},
     "output_type": "execute_result"
    },
    {
     "data": {
      "image/png": "[encoded data removed]",
      "text/plain": [
       "<matplotlib.figure.Figure at 0x7f75260f3f60>"
      ]
     },
     "metadata": {},
     "output_type": "display_data"
    }
   ],
   "source": [
    "month_ticks = ['Jan','Feb','Mar','Apr','May','Jun','Jul','Aug','Sep','Oct','Nov','Dec']\n",
    "monthGroup.plot(kind='bar',figsize=(10,6),legend=False)\n",
    "plt.xticks(range(12),month_ticks)\n",
    "plt.xlabel('Month')\n",
    "plt.ylabel('Inbound Tweets')"
   ]
  },
  {
   "cell_type": "markdown",
   "metadata": {},
   "source": [
    "### Tweets by Day"
   ]
  },
  {
   "cell_type": "code",
   "execution_count": 41,
   "metadata": {
    "ExecuteTime": {
     "end_time": "2017-11-29T03:37:16.529689Z",
     "start_time": "2017-11-29T03:37:16.421671Z"
    }
   },
   "outputs": [],
   "source": [
    "df['day'] = df.date.dt.dayofweek"
   ]
  },
  {
   "cell_type": "code",
   "execution_count": 42,
   "metadata": {
    "ExecuteTime": {
     "end_time": "2017-11-29T03:37:16.922726Z",
     "start_time": "2017-11-29T03:37:16.817735Z"
    }
   },
   "outputs": [],
   "source": [
    "dayGroup = df.groupby('day').inbound.count().reset_index()"
   ]
  },
  {
   "cell_type": "code",
   "execution_count": 43,
   "metadata": {
    "ExecuteTime": {
     "end_time": "2017-11-29T03:37:17.212934Z",
     "start_time": "2017-11-29T03:37:17.055170Z"
    }
   },
   "outputs": [
    {
     "data": {
      "text/plain": [
       "Text(0,0.5,'Inbound Tweets')"
      ]
     },
     "execution_count": 43,
     "metadata": {},
     "output_type": "execute_result"
    },
    {
     "data": {
      "image/png": "[encoded data removed]",
      "text/plain": [
       "<matplotlib.figure.Figure at 0x7f753523e7b8>"
      ]
     },
     "metadata": {},
     "output_type": "display_data"
    }
   ],
   "source": [
    "day_ticks = ['Mon','Tues','Wed','Thurs','Fri','Sat','Sun']\n",
    "dayGroup.plot(kind='bar',figsize=(10,6),legend=False)\n",
    "plt.xticks(range(7),day_ticks)\n",
    "#plt.xlabel('Day')\n",
    "plt.ylabel('Inbound Tweets')"
   ]
  },
  {
   "cell_type": "markdown",
   "metadata": {},
   "source": [
    "### Tweets by Company"
   ]
  },
  {
   "cell_type": "code",
   "execution_count": 44,
   "metadata": {
    "ExecuteTime": {
     "end_time": "2017-11-29T03:37:20.629930Z",
     "start_time": "2017-11-29T03:37:19.950764Z"
    }
   },
   "outputs": [],
   "source": [
    "companyGroup = df.groupby('author_id').inbound.count().reset_index()"
   ]
  },
  {
   "cell_type": "code",
   "execution_count": 45,
   "metadata": {
    "ExecuteTime": {
     "end_time": "2017-11-29T03:37:21.054194Z",
     "start_time": "2017-11-29T03:37:20.631708Z"
    }
   },
   "outputs": [
    {
     "name": "stderr",
     "output_type": "stream",
     "text": [
      "/home/xavier/anaconda3/lib/python3.6/site-packages/ipykernel_launcher.py:1: UserWarning: This pattern has match groups. To actually get the groups, use str.extract.\n",
      "  \"\"\"Entry point for launching an IPython kernel.\n"
     ]
    }
   ],
   "source": [
    "companyGroup = companyGroup.loc[companyGroup.iloc[:,0].str.contains(r'(^\\D{6})')]\n",
    "companyGroup.sort_values('inbound',ascending=False,inplace=True)"
   ]
  },
  {
   "cell_type": "code",
   "execution_count": 46,
   "metadata": {
    "ExecuteTime": {
     "end_time": "2017-11-29T03:37:21.059723Z",
     "start_time": "2017-11-29T03:37:21.055926Z"
    }
   },
   "outputs": [
    {
     "data": {
      "text/plain": [
       "(102, 2)"
      ]
     },
     "execution_count": 46,
     "metadata": {},
     "output_type": "execute_result"
    }
   ],
   "source": [
    "companyGroup.shape"
   ]
  },
  {
   "cell_type": "code",
   "execution_count": 47,
   "metadata": {
    "ExecuteTime": {
     "end_time": "2017-11-29T03:37:21.220286Z",
     "start_time": "2017-11-29T03:37:21.206042Z"
    }
   },
   "outputs": [
    {
     "data": {
      "text/html": [
       "<div>\n",
       "<style scoped>\n",
       "    .dataframe tbody tr th:only-of-type {\n",
       "        vertical-align: middle;\n",
       "    }\n",
       "\n",
       "    .dataframe tbody tr th {\n",
       "        vertical-align: top;\n",
       "    }\n",
       "\n",
       "    .dataframe thead th {\n",
       "        text-align: right;\n",
       "    }\n",
       "</style>\n",
       "<table border=\"1\" class=\"dataframe\">\n",
       "  <thead>\n",
       "    <tr style=\"text-align: right;\">\n",
       "      <th></th>\n",
       "      <th>author_id</th>\n",
       "      <th>inbound</th>\n",
       "    </tr>\n",
       "  </thead>\n",
       "  <tbody>\n",
       "    <tr>\n",
       "      <th>569050</th>\n",
       "      <td>AmazonHelp</td>\n",
       "      <td>129431</td>\n",
       "    </tr>\n",
       "    <tr>\n",
       "      <th>569052</th>\n",
       "      <td>AppleSupport</td>\n",
       "      <td>90432</td>\n",
       "    </tr>\n",
       "    <tr>\n",
       "      <th>569127</th>\n",
       "      <td>Uber_Support</td>\n",
       "      <td>42289</td>\n",
       "    </tr>\n",
       "    <tr>\n",
       "      <th>569119</th>\n",
       "      <td>SpotifyCares</td>\n",
       "      <td>34328</td>\n",
       "    </tr>\n",
       "    <tr>\n",
       "      <th>569051</th>\n",
       "      <td>AmericanAir</td>\n",
       "      <td>29642</td>\n",
       "    </tr>\n",
       "    <tr>\n",
       "      <th>569120</th>\n",
       "      <td>TMobileHelp</td>\n",
       "      <td>28644</td>\n",
       "    </tr>\n",
       "    <tr>\n",
       "      <th>569141</th>\n",
       "      <td>comcastcares</td>\n",
       "      <td>26270</td>\n",
       "    </tr>\n",
       "    <tr>\n",
       "      <th>569075</th>\n",
       "      <td>British_Airways</td>\n",
       "      <td>24395</td>\n",
       "    </tr>\n",
       "    <tr>\n",
       "      <th>569118</th>\n",
       "      <td>SouthwestAir</td>\n",
       "      <td>23302</td>\n",
       "    </tr>\n",
       "    <tr>\n",
       "      <th>569068</th>\n",
       "      <td>Ask_Spectrum</td>\n",
       "      <td>20961</td>\n",
       "    </tr>\n",
       "    <tr>\n",
       "      <th>569132</th>\n",
       "      <td>VirginTrains</td>\n",
       "      <td>20330</td>\n",
       "    </tr>\n",
       "    <tr>\n",
       "      <th>569134</th>\n",
       "      <td>XboxSupport</td>\n",
       "      <td>19238</td>\n",
       "    </tr>\n",
       "    <tr>\n",
       "      <th>569149</th>\n",
       "      <td>sprintcare</td>\n",
       "      <td>19186</td>\n",
       "    </tr>\n",
       "    <tr>\n",
       "      <th>569142</th>\n",
       "      <td>hulu_support</td>\n",
       "      <td>17600</td>\n",
       "    </tr>\n",
       "    <tr>\n",
       "      <th>569061</th>\n",
       "      <td>AskPlayStation</td>\n",
       "      <td>15973</td>\n",
       "    </tr>\n",
       "    <tr>\n",
       "      <th>569079</th>\n",
       "      <td>ChipotleTweets</td>\n",
       "      <td>15483</td>\n",
       "    </tr>\n",
       "    <tr>\n",
       "      <th>569147</th>\n",
       "      <td>sainsburys</td>\n",
       "      <td>15134</td>\n",
       "    </tr>\n",
       "    <tr>\n",
       "      <th>569086</th>\n",
       "      <td>GWRHelp</td>\n",
       "      <td>14742</td>\n",
       "    </tr>\n",
       "    <tr>\n",
       "      <th>569129</th>\n",
       "      <td>VerizonSupport</td>\n",
       "      <td>14592</td>\n",
       "    </tr>\n",
       "    <tr>\n",
       "      <th>569043</th>\n",
       "      <td>ATVIAssist</td>\n",
       "      <td>12784</td>\n",
       "    </tr>\n",
       "    <tr>\n",
       "      <th>569117</th>\n",
       "      <td>Safaricom_Care</td>\n",
       "      <td>12726</td>\n",
       "    </tr>\n",
       "    <tr>\n",
       "      <th>569143</th>\n",
       "      <td>idea_cares</td>\n",
       "      <td>12537</td>\n",
       "    </tr>\n",
       "    <tr>\n",
       "      <th>569125</th>\n",
       "      <td>UPSHelp</td>\n",
       "      <td>12108</td>\n",
       "    </tr>\n",
       "    <tr>\n",
       "      <th>569073</th>\n",
       "      <td>BofA_Help</td>\n",
       "      <td>10139</td>\n",
       "    </tr>\n",
       "    <tr>\n",
       "      <th>569116</th>\n",
       "      <td>SW_Help</td>\n",
       "      <td>9737</td>\n",
       "    </tr>\n",
       "    <tr>\n",
       "      <th>569058</th>\n",
       "      <td>AskLyft</td>\n",
       "      <td>9542</td>\n",
       "    </tr>\n",
       "    <tr>\n",
       "      <th>569055</th>\n",
       "      <td>AskAmex</td>\n",
       "      <td>9464</td>\n",
       "    </tr>\n",
       "    <tr>\n",
       "      <th>569065</th>\n",
       "      <td>AskTarget</td>\n",
       "      <td>9199</td>\n",
       "    </tr>\n",
       "    <tr>\n",
       "      <th>569104</th>\n",
       "      <td>MicrosoftHelps</td>\n",
       "      <td>8968</td>\n",
       "    </tr>\n",
       "    <tr>\n",
       "      <th>569060</th>\n",
       "      <td>AskPayPal</td>\n",
       "      <td>8814</td>\n",
       "    </tr>\n",
       "    <tr>\n",
       "      <th>...</th>\n",
       "      <td>...</td>\n",
       "      <td>...</td>\n",
       "    </tr>\n",
       "    <tr>\n",
       "      <th>569085</th>\n",
       "      <td>DunkinDonuts</td>\n",
       "      <td>1102</td>\n",
       "    </tr>\n",
       "    <tr>\n",
       "      <th>569124</th>\n",
       "      <td>TwitterSupport</td>\n",
       "      <td>1097</td>\n",
       "    </tr>\n",
       "    <tr>\n",
       "      <th>569099</th>\n",
       "      <td>Kimpton</td>\n",
       "      <td>1091</td>\n",
       "    </tr>\n",
       "    <tr>\n",
       "      <th>569126</th>\n",
       "      <td>USCellularCares</td>\n",
       "      <td>973</td>\n",
       "    </tr>\n",
       "    <tr>\n",
       "      <th>569112</th>\n",
       "      <td>PandoraSupport</td>\n",
       "      <td>886</td>\n",
       "    </tr>\n",
       "    <tr>\n",
       "      <th>569148</th>\n",
       "      <td>sizehelpteam</td>\n",
       "      <td>844</td>\n",
       "    </tr>\n",
       "    <tr>\n",
       "      <th>569092</th>\n",
       "      <td>HiltonHelp</td>\n",
       "      <td>833</td>\n",
       "    </tr>\n",
       "    <tr>\n",
       "      <th>569044</th>\n",
       "      <td>AWSSupport</td>\n",
       "      <td>792</td>\n",
       "    </tr>\n",
       "    <tr>\n",
       "      <th>569067</th>\n",
       "      <td>AskVirginMoney</td>\n",
       "      <td>782</td>\n",
       "    </tr>\n",
       "    <tr>\n",
       "      <th>569062</th>\n",
       "      <td>AskRBC</td>\n",
       "      <td>778</td>\n",
       "    </tr>\n",
       "    <tr>\n",
       "      <th>569135</th>\n",
       "      <td>YahooCare</td>\n",
       "      <td>776</td>\n",
       "    </tr>\n",
       "    <tr>\n",
       "      <th>569074</th>\n",
       "      <td>BoostCare</td>\n",
       "      <td>768</td>\n",
       "    </tr>\n",
       "    <tr>\n",
       "      <th>569113</th>\n",
       "      <td>PearsonSupport</td>\n",
       "      <td>748</td>\n",
       "    </tr>\n",
       "    <tr>\n",
       "      <th>569110</th>\n",
       "      <td>OPPOCareIN</td>\n",
       "      <td>740</td>\n",
       "    </tr>\n",
       "    <tr>\n",
       "      <th>569106</th>\n",
       "      <td>NeweggService</td>\n",
       "      <td>738</td>\n",
       "    </tr>\n",
       "    <tr>\n",
       "      <th>569102</th>\n",
       "      <td>MTNC_Care</td>\n",
       "      <td>686</td>\n",
       "    </tr>\n",
       "    <tr>\n",
       "      <th>569089</th>\n",
       "      <td>GooglePlayMusic</td>\n",
       "      <td>640</td>\n",
       "    </tr>\n",
       "    <tr>\n",
       "      <th>569066</th>\n",
       "      <td>AskTigogh</td>\n",
       "      <td>638</td>\n",
       "    </tr>\n",
       "    <tr>\n",
       "      <th>569140</th>\n",
       "      <td>askvisa</td>\n",
       "      <td>626</td>\n",
       "    </tr>\n",
       "    <tr>\n",
       "      <th>569139</th>\n",
       "      <td>asksalesforce</td>\n",
       "      <td>622</td>\n",
       "    </tr>\n",
       "    <tr>\n",
       "      <th>569064</th>\n",
       "      <td>AskSeagate</td>\n",
       "      <td>534</td>\n",
       "    </tr>\n",
       "    <tr>\n",
       "      <th>569137</th>\n",
       "      <td>ask_progressive</td>\n",
       "      <td>532</td>\n",
       "    </tr>\n",
       "    <tr>\n",
       "      <th>569098</th>\n",
       "      <td>KeyBank_Help</td>\n",
       "      <td>485</td>\n",
       "    </tr>\n",
       "    <tr>\n",
       "      <th>569063</th>\n",
       "      <td>AskRobinhood</td>\n",
       "      <td>371</td>\n",
       "    </tr>\n",
       "    <tr>\n",
       "      <th>569145</th>\n",
       "      <td>mediatemplehelp</td>\n",
       "      <td>267</td>\n",
       "    </tr>\n",
       "    <tr>\n",
       "      <th>569095</th>\n",
       "      <td>JackBox</td>\n",
       "      <td>224</td>\n",
       "    </tr>\n",
       "    <tr>\n",
       "      <th>569111</th>\n",
       "      <td>OfficeSupport</td>\n",
       "      <td>189</td>\n",
       "    </tr>\n",
       "    <tr>\n",
       "      <th>569057</th>\n",
       "      <td>AskDSC</td>\n",
       "      <td>185</td>\n",
       "    </tr>\n",
       "    <tr>\n",
       "      <th>569076</th>\n",
       "      <td>CarlsJr</td>\n",
       "      <td>177</td>\n",
       "    </tr>\n",
       "    <tr>\n",
       "      <th>569093</th>\n",
       "      <td>HotelTonightCX</td>\n",
       "      <td>141</td>\n",
       "    </tr>\n",
       "  </tbody>\n",
       "</table>\n",
       "<p>102 rows × 2 columns</p>\n",
       "</div>"
      ],
      "text/plain": [
       "              author_id  inbound\n",
       "569050       AmazonHelp   129431\n",
       "569052     AppleSupport    90432\n",
       "569127     Uber_Support    42289\n",
       "569119     SpotifyCares    34328\n",
       "569051      AmericanAir    29642\n",
       "569120      TMobileHelp    28644\n",
       "569141     comcastcares    26270\n",
       "569075  British_Airways    24395\n",
       "569118     SouthwestAir    23302\n",
       "569068     Ask_Spectrum    20961\n",
       "569132     VirginTrains    20330\n",
       "569134      XboxSupport    19238\n",
       "569149       sprintcare    19186\n",
       "569142     hulu_support    17600\n",
       "569061   AskPlayStation    15973\n",
       "569079   ChipotleTweets    15483\n",
       "569147       sainsburys    15134\n",
       "569086          GWRHelp    14742\n",
       "569129   VerizonSupport    14592\n",
       "569043       ATVIAssist    12784\n",
       "569117   Safaricom_Care    12726\n",
       "569143       idea_cares    12537\n",
       "569125          UPSHelp    12108\n",
       "569073        BofA_Help    10139\n",
       "569116          SW_Help     9737\n",
       "569058          AskLyft     9542\n",
       "569055          AskAmex     9464\n",
       "569065        AskTarget     9199\n",
       "569104   MicrosoftHelps     8968\n",
       "569060        AskPayPal     8814\n",
       "...                 ...      ...\n",
       "569085     DunkinDonuts     1102\n",
       "569124   TwitterSupport     1097\n",
       "569099          Kimpton     1091\n",
       "569126  USCellularCares      973\n",
       "569112   PandoraSupport      886\n",
       "569148     sizehelpteam      844\n",
       "569092       HiltonHelp      833\n",
       "569044       AWSSupport      792\n",
       "569067   AskVirginMoney      782\n",
       "569062           AskRBC      778\n",
       "569135        YahooCare      776\n",
       "569074        BoostCare      768\n",
       "569113   PearsonSupport      748\n",
       "569110       OPPOCareIN      740\n",
       "569106    NeweggService      738\n",
       "569102        MTNC_Care      686\n",
       "569089  GooglePlayMusic      640\n",
       "569066        AskTigogh      638\n",
       "569140          askvisa      626\n",
       "569139    asksalesforce      622\n",
       "569064       AskSeagate      534\n",
       "569137  ask_progressive      532\n",
       "569098     KeyBank_Help      485\n",
       "569063     AskRobinhood      371\n",
       "569145  mediatemplehelp      267\n",
       "569095          JackBox      224\n",
       "569111    OfficeSupport      189\n",
       "569057           AskDSC      185\n",
       "569076          CarlsJr      177\n",
       "569093   HotelTonightCX      141\n",
       "\n",
       "[102 rows x 2 columns]"
      ]
     },
     "execution_count": 47,
     "metadata": {},
     "output_type": "execute_result"
    }
   ],
   "source": [
    "companyGroup"
   ]
  },
  {
   "cell_type": "code",
   "execution_count": 48,
   "metadata": {
    "ExecuteTime": {
     "end_time": "2017-11-29T03:37:25.219512Z",
     "start_time": "2017-11-29T03:37:25.205096Z"
    }
   },
   "outputs": [
    {
     "data": {
      "text/html": [
       "<div>\n",
       "<style scoped>\n",
       "    .dataframe tbody tr th:only-of-type {\n",
       "        vertical-align: middle;\n",
       "    }\n",
       "\n",
       "    .dataframe tbody tr th {\n",
       "        vertical-align: top;\n",
       "    }\n",
       "\n",
       "    .dataframe thead th {\n",
       "        text-align: right;\n",
       "    }\n",
       "</style>\n",
       "<table border=\"1\" class=\"dataframe\">\n",
       "  <thead>\n",
       "    <tr style=\"text-align: right;\">\n",
       "      <th></th>\n",
       "      <th>tweet_id</th>\n",
       "      <th>author_id</th>\n",
       "      <th>inbound</th>\n",
       "      <th>text</th>\n",
       "      <th>response_tweet_id</th>\n",
       "      <th>in_response_to_tweet_id</th>\n",
       "      <th>date</th>\n",
       "      <th>month</th>\n",
       "      <th>day</th>\n",
       "    </tr>\n",
       "  </thead>\n",
       "  <tbody>\n",
       "    <tr>\n",
       "      <th>0</th>\n",
       "      <td>1</td>\n",
       "      <td>VirginAtlantic</td>\n",
       "      <td>False</td>\n",
       "      <td>@95932 Hmmm they may be full. Have you tried b...</td>\n",
       "      <td>2</td>\n",
       "      <td>3.0</td>\n",
       "      <td>2017-10-04 22:37:58</td>\n",
       "      <td>10</td>\n",
       "      <td>2</td>\n",
       "    </tr>\n",
       "    <tr>\n",
       "      <th>1</th>\n",
       "      <td>2</td>\n",
       "      <td>95932</td>\n",
       "      <td>True</td>\n",
       "      <td>@VirginAtlantic Sure have. Nothing comes up at...</td>\n",
       "      <td>4</td>\n",
       "      <td>1.0</td>\n",
       "      <td>2017-10-04 22:55:58</td>\n",
       "      <td>10</td>\n",
       "      <td>2</td>\n",
       "    </tr>\n",
       "    <tr>\n",
       "      <th>2</th>\n",
       "      <td>4</td>\n",
       "      <td>VirginAtlantic</td>\n",
       "      <td>False</td>\n",
       "      <td>@95932 I'm going to report this then. It sound...</td>\n",
       "      <td>NaN</td>\n",
       "      <td>2.0</td>\n",
       "      <td>2017-10-04 23:00:12</td>\n",
       "      <td>10</td>\n",
       "      <td>2</td>\n",
       "    </tr>\n",
       "    <tr>\n",
       "      <th>3</th>\n",
       "      <td>3</td>\n",
       "      <td>95932</td>\n",
       "      <td>True</td>\n",
       "      <td>@VirginAtlantic Yes, nothing comes up 🙁</td>\n",
       "      <td>1</td>\n",
       "      <td>5.0</td>\n",
       "      <td>2017-10-04 22:36:35</td>\n",
       "      <td>10</td>\n",
       "      <td>2</td>\n",
       "    </tr>\n",
       "    <tr>\n",
       "      <th>4</th>\n",
       "      <td>5</td>\n",
       "      <td>VirginAtlantic</td>\n",
       "      <td>False</td>\n",
       "      <td>@95932 Have you tried towards the end of March...</td>\n",
       "      <td>3</td>\n",
       "      <td>6.0</td>\n",
       "      <td>2017-10-04 20:15:59</td>\n",
       "      <td>10</td>\n",
       "      <td>2</td>\n",
       "    </tr>\n",
       "  </tbody>\n",
       "</table>\n",
       "</div>"
      ],
      "text/plain": [
       "   tweet_id       author_id  inbound  \\\n",
       "0         1  VirginAtlantic    False   \n",
       "1         2           95932     True   \n",
       "2         4  VirginAtlantic    False   \n",
       "3         3           95932     True   \n",
       "4         5  VirginAtlantic    False   \n",
       "\n",
       "                                                text response_tweet_id  \\\n",
       "0  @95932 Hmmm they may be full. Have you tried b...                 2   \n",
       "1  @VirginAtlantic Sure have. Nothing comes up at...                 4   \n",
       "2  @95932 I'm going to report this then. It sound...               NaN   \n",
       "3            @VirginAtlantic Yes, nothing comes up 🙁                 1   \n",
       "4  @95932 Have you tried towards the end of March...                 3   \n",
       "\n",
       "   in_response_to_tweet_id                date  month  day  \n",
       "0                      3.0 2017-10-04 22:37:58     10    2  \n",
       "1                      1.0 2017-10-04 22:55:58     10    2  \n",
       "2                      2.0 2017-10-04 23:00:12     10    2  \n",
       "3                      5.0 2017-10-04 22:36:35     10    2  \n",
       "4                      6.0 2017-10-04 20:15:59     10    2  "
      ]
     },
     "execution_count": 48,
     "metadata": {},
     "output_type": "execute_result"
    }
   ],
   "source": [
    "df.head()"
   ]
  },
  {
   "cell_type": "code",
   "execution_count": 49,
   "metadata": {
    "ExecuteTime": {
     "end_time": "2017-11-29T03:37:28.220267Z",
     "start_time": "2017-11-29T03:37:25.607072Z"
    }
   },
   "outputs": [],
   "source": [
    "appleDF = df[df['author_id'].str.contains(\"AppleSupport\") | df['text'].str.contains(\"AppleSupport\") ]"
   ]
  },
  {
   "cell_type": "code",
   "execution_count": 50,
   "metadata": {
    "ExecuteTime": {
     "end_time": "2017-11-29T03:37:28.225422Z",
     "start_time": "2017-11-29T03:37:28.221855Z"
    }
   },
   "outputs": [
    {
     "data": {
      "text/plain": [
       "(171517, 9)"
      ]
     },
     "execution_count": 50,
     "metadata": {},
     "output_type": "execute_result"
    }
   ],
   "source": [
    "appleDF.shape"
   ]
  },
  {
   "cell_type": "code",
   "execution_count": 51,
   "metadata": {
    "ExecuteTime": {
     "end_time": "2017-11-29T03:37:28.240753Z",
     "start_time": "2017-11-29T03:37:28.227073Z"
    }
   },
   "outputs": [
    {
     "data": {
      "text/html": [
       "<div>\n",
       "<style scoped>\n",
       "    .dataframe tbody tr th:only-of-type {\n",
       "        vertical-align: middle;\n",
       "    }\n",
       "\n",
       "    .dataframe tbody tr th {\n",
       "        vertical-align: top;\n",
       "    }\n",
       "\n",
       "    .dataframe thead th {\n",
       "        text-align: right;\n",
       "    }\n",
       "</style>\n",
       "<table border=\"1\" class=\"dataframe\">\n",
       "  <thead>\n",
       "    <tr style=\"text-align: right;\">\n",
       "      <th></th>\n",
       "      <th>tweet_id</th>\n",
       "      <th>author_id</th>\n",
       "      <th>inbound</th>\n",
       "      <th>text</th>\n",
       "      <th>response_tweet_id</th>\n",
       "      <th>in_response_to_tweet_id</th>\n",
       "      <th>date</th>\n",
       "      <th>month</th>\n",
       "      <th>day</th>\n",
       "    </tr>\n",
       "  </thead>\n",
       "  <tbody>\n",
       "    <tr>\n",
       "      <th>119</th>\n",
       "      <td>129</td>\n",
       "      <td>AppleSupport</td>\n",
       "      <td>False</td>\n",
       "      <td>@95972 Let's take a look at your flashlight to...</td>\n",
       "      <td>130</td>\n",
       "      <td>131.0</td>\n",
       "      <td>2017-10-04 13:04:26</td>\n",
       "      <td>10</td>\n",
       "      <td>2</td>\n",
       "    </tr>\n",
       "    <tr>\n",
       "      <th>120</th>\n",
       "      <td>130</td>\n",
       "      <td>95973</td>\n",
       "      <td>True</td>\n",
       "      <td>@AppleSupport @95972 i have the same problem w...</td>\n",
       "      <td>NaN</td>\n",
       "      <td>129.0</td>\n",
       "      <td>2017-10-04 22:10:17</td>\n",
       "      <td>10</td>\n",
       "      <td>2</td>\n",
       "    </tr>\n",
       "    <tr>\n",
       "      <th>309</th>\n",
       "      <td>385</td>\n",
       "      <td>AppleSupport</td>\n",
       "      <td>False</td>\n",
       "      <td>@96035 We want you to get the most out of your...</td>\n",
       "      <td>NaN</td>\n",
       "      <td>386.0</td>\n",
       "      <td>2017-10-04 12:33:00</td>\n",
       "      <td>10</td>\n",
       "      <td>2</td>\n",
       "    </tr>\n",
       "    <tr>\n",
       "      <th>339</th>\n",
       "      <td>416</td>\n",
       "      <td>AppleSupport</td>\n",
       "      <td>False</td>\n",
       "      <td>@96041 We appreciate you letting us know, does...</td>\n",
       "      <td>NaN</td>\n",
       "      <td>417.0</td>\n",
       "      <td>2017-10-04 12:59:29</td>\n",
       "      <td>10</td>\n",
       "      <td>2</td>\n",
       "    </tr>\n",
       "    <tr>\n",
       "      <th>340</th>\n",
       "      <td>417</td>\n",
       "      <td>96041</td>\n",
       "      <td>True</td>\n",
       "      <td>@AppleSupport When you go to the App Store &amp;am...</td>\n",
       "      <td>416</td>\n",
       "      <td>418.0</td>\n",
       "      <td>2017-10-04 04:57:54</td>\n",
       "      <td>10</td>\n",
       "      <td>2</td>\n",
       "    </tr>\n",
       "  </tbody>\n",
       "</table>\n",
       "</div>"
      ],
      "text/plain": [
       "     tweet_id     author_id  inbound  \\\n",
       "119       129  AppleSupport    False   \n",
       "120       130         95973     True   \n",
       "309       385  AppleSupport    False   \n",
       "339       416  AppleSupport    False   \n",
       "340       417         96041     True   \n",
       "\n",
       "                                                  text response_tweet_id  \\\n",
       "119  @95972 Let's take a look at your flashlight to...               130   \n",
       "120  @AppleSupport @95972 i have the same problem w...               NaN   \n",
       "309  @96035 We want you to get the most out of your...               NaN   \n",
       "339  @96041 We appreciate you letting us know, does...               NaN   \n",
       "340  @AppleSupport When you go to the App Store &am...               416   \n",
       "\n",
       "     in_response_to_tweet_id                date  month  day  \n",
       "119                    131.0 2017-10-04 13:04:26     10    2  \n",
       "120                    129.0 2017-10-04 22:10:17     10    2  \n",
       "309                    386.0 2017-10-04 12:33:00     10    2  \n",
       "339                    417.0 2017-10-04 12:59:29     10    2  \n",
       "340                    418.0 2017-10-04 04:57:54     10    2  "
      ]
     },
     "execution_count": 51,
     "metadata": {},
     "output_type": "execute_result"
    }
   ],
   "source": [
    "appleDF.head()"
   ]
  },
  {
   "cell_type": "code",
   "execution_count": null,
   "metadata": {},
   "outputs": [],
   "source": []
  },
  {
   "cell_type": "markdown",
   "metadata": {},
   "source": [
    "### Tweets by Conversations"
   ]
  },
  {
   "cell_type": "code",
   "execution_count": 52,
   "metadata": {
    "ExecuteTime": {
     "end_time": "2017-11-29T03:37:37.186302Z",
     "start_time": "2017-11-29T03:37:36.017793Z"
    }
   },
   "outputs": [],
   "source": [
    "testDF = df[(df['author_id'].str.contains(\"95972\"))]"
   ]
  },
  {
   "cell_type": "code",
   "execution_count": 53,
   "metadata": {
    "ExecuteTime": {
     "end_time": "2017-11-29T03:37:37.202095Z",
     "start_time": "2017-11-29T03:37:37.188328Z"
    }
   },
   "outputs": [
    {
     "data": {
      "text/html": [
       "<div>\n",
       "<style scoped>\n",
       "    .dataframe tbody tr th:only-of-type {\n",
       "        vertical-align: middle;\n",
       "    }\n",
       "\n",
       "    .dataframe tbody tr th {\n",
       "        vertical-align: top;\n",
       "    }\n",
       "\n",
       "    .dataframe thead th {\n",
       "        text-align: right;\n",
       "    }\n",
       "</style>\n",
       "<table border=\"1\" class=\"dataframe\">\n",
       "  <thead>\n",
       "    <tr style=\"text-align: right;\">\n",
       "      <th></th>\n",
       "      <th>tweet_id</th>\n",
       "      <th>author_id</th>\n",
       "      <th>inbound</th>\n",
       "      <th>text</th>\n",
       "      <th>response_tweet_id</th>\n",
       "      <th>in_response_to_tweet_id</th>\n",
       "      <th>date</th>\n",
       "      <th>month</th>\n",
       "      <th>day</th>\n",
       "    </tr>\n",
       "  </thead>\n",
       "  <tbody>\n",
       "    <tr>\n",
       "      <th>121</th>\n",
       "      <td>131</td>\n",
       "      <td>95972</td>\n",
       "      <td>True</td>\n",
       "      <td>the update made my fuckin flashlight stop work...</td>\n",
       "      <td>129</td>\n",
       "      <td>NaN</td>\n",
       "      <td>2017-10-04 05:43:36</td>\n",
       "      <td>10</td>\n",
       "      <td>2</td>\n",
       "    </tr>\n",
       "    <tr>\n",
       "      <th>366775</th>\n",
       "      <td>398930</td>\n",
       "      <td>195972</td>\n",
       "      <td>True</td>\n",
       "      <td>@AmazonHelp Si, pero ya no soluciona nada, lo ...</td>\n",
       "      <td>398932</td>\n",
       "      <td>398929.0</td>\n",
       "      <td>2017-10-13 13:12:57</td>\n",
       "      <td>10</td>\n",
       "      <td>4</td>\n",
       "    </tr>\n",
       "    <tr>\n",
       "      <th>366777</th>\n",
       "      <td>398933</td>\n",
       "      <td>195972</td>\n",
       "      <td>True</td>\n",
       "      <td>@AmazonHelp No voy a perder más tiempo en esto...</td>\n",
       "      <td>NaN</td>\n",
       "      <td>398932.0</td>\n",
       "      <td>2017-10-13 13:16:54</td>\n",
       "      <td>10</td>\n",
       "      <td>4</td>\n",
       "    </tr>\n",
       "    <tr>\n",
       "      <th>366778</th>\n",
       "      <td>398931</td>\n",
       "      <td>195972</td>\n",
       "      <td>True</td>\n",
       "      <td>Gracias por nada @96220 @99212 https://t.co/K2...</td>\n",
       "      <td>398929</td>\n",
       "      <td>NaN</td>\n",
       "      <td>2017-10-13 12:56:40</td>\n",
       "      <td>10</td>\n",
       "      <td>4</td>\n",
       "    </tr>\n",
       "    <tr>\n",
       "      <th>758859</th>\n",
       "      <td>701554</td>\n",
       "      <td>295972</td>\n",
       "      <td>True</td>\n",
       "      <td>@97286 No. Demasiado caro. Lo siento, @97286, ...</td>\n",
       "      <td>822262,822263,822264</td>\n",
       "      <td>701546.0</td>\n",
       "      <td>2017-10-21 17:24:07</td>\n",
       "      <td>10</td>\n",
       "      <td>5</td>\n",
       "    </tr>\n",
       "  </tbody>\n",
       "</table>\n",
       "</div>"
      ],
      "text/plain": [
       "        tweet_id author_id  inbound  \\\n",
       "121          131     95972     True   \n",
       "366775    398930    195972     True   \n",
       "366777    398933    195972     True   \n",
       "366778    398931    195972     True   \n",
       "758859    701554    295972     True   \n",
       "\n",
       "                                                     text  \\\n",
       "121     the update made my fuckin flashlight stop work...   \n",
       "366775  @AmazonHelp Si, pero ya no soluciona nada, lo ...   \n",
       "366777  @AmazonHelp No voy a perder más tiempo en esto...   \n",
       "366778  Gracias por nada @96220 @99212 https://t.co/K2...   \n",
       "758859  @97286 No. Demasiado caro. Lo siento, @97286, ...   \n",
       "\n",
       "           response_tweet_id  in_response_to_tweet_id                date  \\\n",
       "121                      129                      NaN 2017-10-04 05:43:36   \n",
       "366775                398932                 398929.0 2017-10-13 13:12:57   \n",
       "366777                   NaN                 398932.0 2017-10-13 13:16:54   \n",
       "366778                398929                      NaN 2017-10-13 12:56:40   \n",
       "758859  822262,822263,822264                 701546.0 2017-10-21 17:24:07   \n",
       "\n",
       "        month  day  \n",
       "121        10    2  \n",
       "366775     10    4  \n",
       "366777     10    4  \n",
       "366778     10    4  \n",
       "758859     10    5  "
      ]
     },
     "execution_count": 53,
     "metadata": {},
     "output_type": "execute_result"
    }
   ],
   "source": [
    "testDF.head()"
   ]
  },
  {
   "cell_type": "code",
   "execution_count": 54,
   "metadata": {
    "ExecuteTime": {
     "end_time": "2017-11-29T03:37:37.209389Z",
     "start_time": "2017-11-29T03:37:37.204345Z"
    }
   },
   "outputs": [],
   "source": [
    "testDF.to_csv('../data/test.csv')"
   ]
  }
 ],
 "metadata": {
  "kernelspec": {
   "display_name": "Python 3",
   "language": "python",
   "name": "python3"
  },
  "language_info": {
   "codemirror_mode": {
    "name": "ipython",
    "version": 3
   },
   "file_extension": ".py",
   "mimetype": "text/x-python",
   "name": "python",
   "nbconvert_exporter": "python",
   "pygments_lexer": "ipython3",
   "version": "3.6.3"
  },
  "toc": {
   "nav_menu": {},
   "number_sections": true,
   "sideBar": true,
   "skip_h1_title": true,
   "toc_cell": false,
   "toc_position": {
    "height": "921px",
    "left": "0px",
    "right": "1239px",
    "top": "111px",
    "width": "145px"
   },
   "toc_section_display": "block",
   "toc_window_display": true
  }
 },
 "nbformat": 4,
 "nbformat_minor": 2
}

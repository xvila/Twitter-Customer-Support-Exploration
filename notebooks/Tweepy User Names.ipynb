{
 "cells": [
  {
   "cell_type": "code",
   "execution_count": 103,
   "metadata": {
    "ExecuteTime": {
     "end_time": "2017-12-07T21:33:15.854393Z",
     "start_time": "2017-12-07T21:33:15.848672Z"
    }
   },
   "outputs": [],
   "source": [
    "import requests\n",
    "import cnfg\n",
    "import html\n",
    "import tweepy\n",
    "from requests_oauthlib import OAuth1 # \n",
    "import pandas as pd\n",
    "from pprint import pprint\n",
    "import csv\n",
    "import time\n",
    "import os\n",
    "import sys\n",
    "import json\n",
    "import argparse"
   ]
  },
  {
   "cell_type": "code",
   "execution_count": 2,
   "metadata": {
    "ExecuteTime": {
     "end_time": "2017-12-07T18:22:49.768950Z",
     "start_time": "2017-12-07T18:22:49.765420Z"
    }
   },
   "outputs": [],
   "source": [
    "# Importing our Config\n",
    "# this allows us to hide our secrets\n",
    "config = cnfg.load(\".twitter_config\")\n",
    "\n",
    "#OAuth ~ simple way to authenticate\n",
    "oauth = OAuth1(config[\"consumer_key\"],\n",
    "               config[\"consumer_secret\"],\n",
    "               config[\"access_token\"],\n",
    "               config[\"access_token_secret\"])"
   ]
  },
  {
   "cell_type": "code",
   "execution_count": 3,
   "metadata": {
    "ExecuteTime": {
     "end_time": "2017-12-07T18:22:50.477834Z",
     "start_time": "2017-12-07T18:22:50.474453Z"
    }
   },
   "outputs": [],
   "source": [
    "#authorize twitter, initialize tweepy\n",
    "auth = tweepy.OAuthHandler(config[\"consumer_key\"], config[\"consumer_secret\"])\n",
    "auth.set_access_token(config[\"access_token\"], config[\"access_token_secret\"])\n",
    "api = tweepy.API(auth)"
   ]
  },
  {
   "cell_type": "code",
   "execution_count": 4,
   "metadata": {
    "ExecuteTime": {
     "end_time": "2017-12-07T18:23:01.791228Z",
     "start_time": "2017-12-07T18:23:01.788987Z"
    }
   },
   "outputs": [],
   "source": [
    "q = \"@Apple is really trying me this year. First my laptop decides to quit on me, then my Apple Watch and now my iPhone 7 is bugging wtf ?!?\""
   ]
  },
  {
   "cell_type": "code",
   "execution_count": 137,
   "metadata": {
    "ExecuteTime": {
     "end_time": "2017-12-08T00:19:48.409561Z",
     "start_time": "2017-12-08T00:19:48.314509Z"
    }
   },
   "outputs": [],
   "source": [
    "results = api.search(q=\"Wow wow wow wow Wow wow wow wow Wow wow wow wow Wow wow wow wow Wow wow wow wow Wow wow wow wow Wow wow wow wow Wow wow wow @SouthwestAir\",\n",
    "                     since=\"2017-10-11\", until = \"2017-10-14\")"
   ]
  },
  {
   "cell_type": "code",
   "execution_count": 138,
   "metadata": {
    "ExecuteTime": {
     "end_time": "2017-12-08T00:19:49.021404Z",
     "start_time": "2017-12-08T00:19:49.014853Z"
    }
   },
   "outputs": [
    {
     "ename": "IndexError",
     "evalue": "list index out of range",
     "output_type": "error",
     "traceback": [
      "\u001b[0;31m---------------------------------------------------------------------------\u001b[0m",
      "\u001b[0;31mIndexError\u001b[0m                                Traceback (most recent call last)",
      "\u001b[0;32m<ipython-input-138-74acd997cd34>\u001b[0m in \u001b[0;36m<module>\u001b[0;34m()\u001b[0m\n\u001b[0;32m----> 1\u001b[0;31m \u001b[0mresults\u001b[0m \u001b[0;34m=\u001b[0m \u001b[0mresults\u001b[0m\u001b[0;34m[\u001b[0m\u001b[0;36m0\u001b[0m\u001b[0;34m]\u001b[0m\u001b[0;34m.\u001b[0m\u001b[0m_json\u001b[0m\u001b[0;34m\u001b[0m\u001b[0m\n\u001b[0m",
      "\u001b[0;31mIndexError\u001b[0m: list index out of range"
     ]
    }
   ],
   "source": [
    "results = results[0]._json"
   ]
  },
  {
   "cell_type": "code",
   "execution_count": 139,
   "metadata": {
    "ExecuteTime": {
     "end_time": "2017-12-08T00:19:54.075398Z",
     "start_time": "2017-12-08T00:19:54.068579Z"
    }
   },
   "outputs": [
    {
     "ename": "AttributeError",
     "evalue": "'SearchResults' object has no attribute 'keys'",
     "output_type": "error",
     "traceback": [
      "\u001b[0;31m---------------------------------------------------------------------------\u001b[0m",
      "\u001b[0;31mAttributeError\u001b[0m                            Traceback (most recent call last)",
      "\u001b[0;32m<ipython-input-139-a238dd3b274e>\u001b[0m in \u001b[0;36m<module>\u001b[0;34m()\u001b[0m\n\u001b[0;32m----> 1\u001b[0;31m \u001b[0mresults\u001b[0m\u001b[0;34m.\u001b[0m\u001b[0mkeys\u001b[0m\u001b[0;34m(\u001b[0m\u001b[0;34m)\u001b[0m\u001b[0;34m\u001b[0m\u001b[0m\n\u001b[0m",
      "\u001b[0;31mAttributeError\u001b[0m: 'SearchResults' object has no attribute 'keys'"
     ]
    }
   ],
   "source": [
    "results.keys()"
   ]
  },
  {
   "cell_type": "code",
   "execution_count": 140,
   "metadata": {
    "ExecuteTime": {
     "end_time": "2017-12-08T00:19:55.734906Z",
     "start_time": "2017-12-08T00:19:55.732346Z"
    }
   },
   "outputs": [
    {
     "data": {
      "text/plain": [
       "0"
      ]
     },
     "execution_count": 140,
     "metadata": {},
     "output_type": "execute_result"
    }
   ],
   "source": [
    "len(results)"
   ]
  },
  {
   "cell_type": "code",
   "execution_count": 141,
   "metadata": {
    "ExecuteTime": {
     "end_time": "2017-12-08T00:19:57.117924Z",
     "start_time": "2017-12-08T00:19:57.112326Z"
    }
   },
   "outputs": [
    {
     "ename": "TypeError",
     "evalue": "list indices must be integers or slices, not str",
     "output_type": "error",
     "traceback": [
      "\u001b[0;31m---------------------------------------------------------------------------\u001b[0m",
      "\u001b[0;31mTypeError\u001b[0m                                 Traceback (most recent call last)",
      "\u001b[0;32m<ipython-input-141-1429abc17662>\u001b[0m in \u001b[0;36m<module>\u001b[0;34m()\u001b[0m\n\u001b[0;32m----> 1\u001b[0;31m \u001b[0mresults\u001b[0m\u001b[0;34m[\u001b[0m\u001b[0;34m'user'\u001b[0m\u001b[0;34m]\u001b[0m\u001b[0;34m\u001b[0m\u001b[0m\n\u001b[0m",
      "\u001b[0;31mTypeError\u001b[0m: list indices must be integers or slices, not str"
     ]
    }
   ],
   "source": [
    "results['user']"
   ]
  },
  {
   "cell_type": "code",
   "execution_count": 8,
   "metadata": {
    "ExecuteTime": {
     "end_time": "2017-12-07T17:54:02.839460Z",
     "start_time": "2017-12-07T17:54:02.837435Z"
    }
   },
   "outputs": [],
   "source": [
    "#tweet = api.get_status(tweet_id)"
   ]
  },
  {
   "cell_type": "code",
   "execution_count": 5,
   "metadata": {
    "ExecuteTime": {
     "end_time": "2017-12-07T18:23:12.299173Z",
     "start_time": "2017-12-07T18:23:12.001064Z"
    }
   },
   "outputs": [],
   "source": [
    "for tweet in tweepy.Cursor(api.search,q=q,count=1,result_type=\"recent\",include_entities=True,lang=\"en\").items():\n",
    "    test = tweet._json"
   ]
  },
  {
   "cell_type": "code",
   "execution_count": 6,
   "metadata": {
    "ExecuteTime": {
     "end_time": "2017-12-07T18:23:17.661481Z",
     "start_time": "2017-12-07T18:23:17.653243Z"
    }
   },
   "outputs": [
    {
     "data": {
      "text/plain": [
       "'theurbansquare'"
      ]
     },
     "execution_count": 6,
     "metadata": {},
     "output_type": "execute_result"
    }
   ],
   "source": [
    "test['user']['screen_name']"
   ]
  },
  {
   "cell_type": "code",
   "execution_count": 22,
   "metadata": {
    "ExecuteTime": {
     "end_time": "2017-12-07T18:46:59.113407Z",
     "start_time": "2017-12-07T18:46:59.110327Z"
    }
   },
   "outputs": [
    {
     "data": {
      "text/plain": [
       "473"
      ]
     },
     "execution_count": 22,
     "metadata": {},
     "output_type": "execute_result"
    }
   ],
   "source": [
    "test['user']['followers_count']"
   ]
  },
  {
   "cell_type": "code",
   "execution_count": 21,
   "metadata": {
    "ExecuteTime": {
     "end_time": "2017-12-07T18:46:17.997086Z",
     "start_time": "2017-12-07T18:46:17.993980Z"
    }
   },
   "outputs": [
    {
     "data": {
      "text/plain": [
       "dict_keys(['id', 'id_str', 'name', 'screen_name', 'location', 'description', 'url', 'entities', 'protected', 'followers_count', 'friends_count', 'listed_count', 'created_at', 'favourites_count', 'utc_offset', 'time_zone', 'geo_enabled', 'verified', 'statuses_count', 'lang', 'contributors_enabled', 'is_translator', 'is_translation_enabled', 'profile_background_color', 'profile_background_image_url', 'profile_background_image_url_https', 'profile_background_tile', 'profile_image_url', 'profile_image_url_https', 'profile_link_color', 'profile_sidebar_border_color', 'profile_sidebar_fill_color', 'profile_text_color', 'profile_use_background_image', 'has_extended_profile', 'default_profile', 'default_profile_image', 'following', 'follow_request_sent', 'notifications', 'translator_type'])"
      ]
     },
     "execution_count": 21,
     "metadata": {},
     "output_type": "execute_result"
    }
   ],
   "source": [
    "test['user'].keys()"
   ]
  },
  {
   "cell_type": "code",
   "execution_count": 11,
   "metadata": {
    "ExecuteTime": {
     "end_time": "2017-12-07T18:29:13.565274Z",
     "start_time": "2017-12-07T18:29:13.526665Z"
    }
   },
   "outputs": [],
   "source": [
    "df = pd.read_pickle('../data/appleInitial.pkl')"
   ]
  },
  {
   "cell_type": "code",
   "execution_count": 12,
   "metadata": {
    "ExecuteTime": {
     "end_time": "2017-12-07T18:29:14.314077Z",
     "start_time": "2017-12-07T18:29:14.288651Z"
    }
   },
   "outputs": [
    {
     "data": {
      "text/html": [
       "<div>\n",
       "<style scoped>\n",
       "    .dataframe tbody tr th:only-of-type {\n",
       "        vertical-align: middle;\n",
       "    }\n",
       "\n",
       "    .dataframe tbody tr th {\n",
       "        vertical-align: top;\n",
       "    }\n",
       "\n",
       "    .dataframe thead th {\n",
       "        text-align: right;\n",
       "    }\n",
       "</style>\n",
       "<table border=\"1\" class=\"dataframe\">\n",
       "  <thead>\n",
       "    <tr style=\"text-align: right;\">\n",
       "      <th></th>\n",
       "      <th>tweet_id_x</th>\n",
       "      <th>author_id_x</th>\n",
       "      <th>inbound_x</th>\n",
       "      <th>created_at_x</th>\n",
       "      <th>text_x</th>\n",
       "      <th>response_tweet_id_x</th>\n",
       "      <th>in_response_to_tweet_id_x</th>\n",
       "      <th>date_x</th>\n",
       "      <th>time_x</th>\n",
       "      <th>month_x</th>\n",
       "      <th>...</th>\n",
       "      <th>text_y</th>\n",
       "      <th>response_tweet_id_y</th>\n",
       "      <th>in_response_to_tweet_id_y</th>\n",
       "      <th>date_y</th>\n",
       "      <th>time_y</th>\n",
       "      <th>month_y</th>\n",
       "      <th>all_sent_y</th>\n",
       "      <th>group_id_y</th>\n",
       "      <th>tweet_num_y</th>\n",
       "      <th>response_time</th>\n",
       "    </tr>\n",
       "  </thead>\n",
       "  <tbody>\n",
       "    <tr>\n",
       "      <th>205</th>\n",
       "      <td>447384</td>\n",
       "      <td>220961</td>\n",
       "      <td>True</td>\n",
       "      <td>Thu Nov 30 19:59:44 +0000 2017</td>\n",
       "      <td>New feature of @115858 #macOSHighSierra that i...</td>\n",
       "      <td>447383</td>\n",
       "      <td>NaN</td>\n",
       "      <td>2017-11-30 19:59:44</td>\n",
       "      <td>19:59:44</td>\n",
       "      <td>11</td>\n",
       "      <td>...</td>\n",
       "      <td>@220961 We'd love to take a look at this with ...</td>\n",
       "      <td>NaN</td>\n",
       "      <td>447384.0</td>\n",
       "      <td>2017-11-30 20:07:04</td>\n",
       "      <td>20:07:04</td>\n",
       "      <td>11</td>\n",
       "      <td>0.6767</td>\n",
       "      <td>group_100164</td>\n",
       "      <td>2</td>\n",
       "      <td>7.0</td>\n",
       "    </tr>\n",
       "    <tr>\n",
       "      <th>210</th>\n",
       "      <td>447398</td>\n",
       "      <td>220966</td>\n",
       "      <td>True</td>\n",
       "      <td>Thu Nov 30 19:54:46 +0000 2017</td>\n",
       "      <td>@115858 i'm really sick and tired of this new ...</td>\n",
       "      <td>447397</td>\n",
       "      <td>NaN</td>\n",
       "      <td>2017-11-30 19:54:46</td>\n",
       "      <td>19:54:46</td>\n",
       "      <td>11</td>\n",
       "      <td>...</td>\n",
       "      <td>@220966 We want you to have a great experience...</td>\n",
       "      <td>NaN</td>\n",
       "      <td>447398.0</td>\n",
       "      <td>2017-11-30 20:05:00</td>\n",
       "      <td>20:05:00</td>\n",
       "      <td>11</td>\n",
       "      <td>0.7717</td>\n",
       "      <td>group_100169</td>\n",
       "      <td>2</td>\n",
       "      <td>10.0</td>\n",
       "    </tr>\n",
       "    <tr>\n",
       "      <th>213</th>\n",
       "      <td>447406</td>\n",
       "      <td>167333</td>\n",
       "      <td>True</td>\n",
       "      <td>Wed Nov 29 11:31:50 +0000 2017</td>\n",
       "      <td>@AppleSupport do my EarPods that came with my ...</td>\n",
       "      <td>447405</td>\n",
       "      <td>NaN</td>\n",
       "      <td>2017-11-29 11:31:50</td>\n",
       "      <td>11:31:50</td>\n",
       "      <td>11</td>\n",
       "      <td>...</td>\n",
       "      <td>@167333 Thanks for reaching out.  The limited ...</td>\n",
       "      <td>447404</td>\n",
       "      <td>447406.0</td>\n",
       "      <td>2017-11-29 15:14:03</td>\n",
       "      <td>15:14:03</td>\n",
       "      <td>11</td>\n",
       "      <td>0.4215</td>\n",
       "      <td>group_100171</td>\n",
       "      <td>2</td>\n",
       "      <td>222.0</td>\n",
       "    </tr>\n",
       "    <tr>\n",
       "      <th>221</th>\n",
       "      <td>447427</td>\n",
       "      <td>220976</td>\n",
       "      <td>True</td>\n",
       "      <td>Thu Nov 30 19:47:32 +0000 2017</td>\n",
       "      <td>@AppleSupport HOW DO I STOP MY PHONE FROM LOOK...</td>\n",
       "      <td>447425</td>\n",
       "      <td>NaN</td>\n",
       "      <td>2017-11-30 19:47:32</td>\n",
       "      <td>19:47:32</td>\n",
       "      <td>11</td>\n",
       "      <td>...</td>\n",
       "      <td>@220976 We’d like to help you with that.  Whic...</td>\n",
       "      <td>447426</td>\n",
       "      <td>447427.0</td>\n",
       "      <td>2017-11-30 19:56:00</td>\n",
       "      <td>19:56:00</td>\n",
       "      <td>11</td>\n",
       "      <td>0.6767</td>\n",
       "      <td>group_100179</td>\n",
       "      <td>2</td>\n",
       "      <td>8.0</td>\n",
       "    </tr>\n",
       "    <tr>\n",
       "      <th>230</th>\n",
       "      <td>447452</td>\n",
       "      <td>220981</td>\n",
       "      <td>True</td>\n",
       "      <td>Thu Nov 30 19:40:00 +0000 2017</td>\n",
       "      <td>#ThursdayThoughts:\\n\\nAnother fun day on the #...</td>\n",
       "      <td>447451,447453</td>\n",
       "      <td>NaN</td>\n",
       "      <td>2017-11-30 19:40:00</td>\n",
       "      <td>19:40:00</td>\n",
       "      <td>11</td>\n",
       "      <td>...</td>\n",
       "      <td>@220981 Please meet up with us in DM. We'd lik...</td>\n",
       "      <td>NaN</td>\n",
       "      <td>447452.0</td>\n",
       "      <td>2017-11-30 19:52:32</td>\n",
       "      <td>19:52:32</td>\n",
       "      <td>11</td>\n",
       "      <td>0.8074</td>\n",
       "      <td>group_100185</td>\n",
       "      <td>2</td>\n",
       "      <td>12.0</td>\n",
       "    </tr>\n",
       "  </tbody>\n",
       "</table>\n",
       "<p>5 rows × 27 columns</p>\n",
       "</div>"
      ],
      "text/plain": [
       "    tweet_id_x author_id_x  inbound_x                    created_at_x  \\\n",
       "205     447384      220961       True  Thu Nov 30 19:59:44 +0000 2017   \n",
       "210     447398      220966       True  Thu Nov 30 19:54:46 +0000 2017   \n",
       "213     447406      167333       True  Wed Nov 29 11:31:50 +0000 2017   \n",
       "221     447427      220976       True  Thu Nov 30 19:47:32 +0000 2017   \n",
       "230     447452      220981       True  Thu Nov 30 19:40:00 +0000 2017   \n",
       "\n",
       "                                                text_x response_tweet_id_x  \\\n",
       "205  New feature of @115858 #macOSHighSierra that i...              447383   \n",
       "210  @115858 i'm really sick and tired of this new ...              447397   \n",
       "213  @AppleSupport do my EarPods that came with my ...              447405   \n",
       "221  @AppleSupport HOW DO I STOP MY PHONE FROM LOOK...              447425   \n",
       "230  #ThursdayThoughts:\\n\\nAnother fun day on the #...       447451,447453   \n",
       "\n",
       "     in_response_to_tweet_id_x              date_x    time_x  month_x  \\\n",
       "205                        NaN 2017-11-30 19:59:44  19:59:44       11   \n",
       "210                        NaN 2017-11-30 19:54:46  19:54:46       11   \n",
       "213                        NaN 2017-11-29 11:31:50  11:31:50       11   \n",
       "221                        NaN 2017-11-30 19:47:32  19:47:32       11   \n",
       "230                        NaN 2017-11-30 19:40:00  19:40:00       11   \n",
       "\n",
       "         ...                                                   text_y  \\\n",
       "205      ...        @220961 We'd love to take a look at this with ...   \n",
       "210      ...        @220966 We want you to have a great experience...   \n",
       "213      ...        @167333 Thanks for reaching out.  The limited ...   \n",
       "221      ...        @220976 We’d like to help you with that.  Whic...   \n",
       "230      ...        @220981 Please meet up with us in DM. We'd lik...   \n",
       "\n",
       "    response_tweet_id_y  in_response_to_tweet_id_y              date_y  \\\n",
       "205                 NaN                   447384.0 2017-11-30 20:07:04   \n",
       "210                 NaN                   447398.0 2017-11-30 20:05:00   \n",
       "213              447404                   447406.0 2017-11-29 15:14:03   \n",
       "221              447426                   447427.0 2017-11-30 19:56:00   \n",
       "230                 NaN                   447452.0 2017-11-30 19:52:32   \n",
       "\n",
       "       time_y  month_y all_sent_y    group_id_y tweet_num_y  response_time  \n",
       "205  20:07:04       11     0.6767  group_100164           2            7.0  \n",
       "210  20:05:00       11     0.7717  group_100169           2           10.0  \n",
       "213  15:14:03       11     0.4215  group_100171           2          222.0  \n",
       "221  19:56:00       11     0.6767  group_100179           2            8.0  \n",
       "230  19:52:32       11     0.8074  group_100185           2           12.0  \n",
       "\n",
       "[5 rows x 27 columns]"
      ]
     },
     "execution_count": 12,
     "metadata": {},
     "output_type": "execute_result"
    }
   ],
   "source": [
    "df.head()"
   ]
  },
  {
   "cell_type": "code",
   "execution_count": null,
   "metadata": {},
   "outputs": [],
   "source": [
    "value = re.sub(r\"[^0-9]+\", \"\", value)"
   ]
  },
  {
   "cell_type": "code",
   "execution_count": 15,
   "metadata": {
    "ExecuteTime": {
     "end_time": "2017-12-07T18:43:42.170230Z",
     "start_time": "2017-12-07T18:43:42.146035Z"
    }
   },
   "outputs": [],
   "source": [
    "df['clean_text'] = df.text_x.str.replace('\\@\\d{6}','')"
   ]
  },
  {
   "cell_type": "code",
   "execution_count": 17,
   "metadata": {
    "ExecuteTime": {
     "end_time": "2017-12-07T18:43:56.571376Z",
     "start_time": "2017-12-07T18:43:56.567184Z"
    }
   },
   "outputs": [
    {
     "data": {
      "text/plain": [
       "205    New feature of  #macOSHighSierra that it doesn...\n",
       "210     i'm really sick and tired of this new iphone ...\n",
       "213    @AppleSupport do my EarPods that came with my ...\n",
       "221    @AppleSupport HOW DO I STOP MY PHONE FROM LOOK...\n",
       "230    #ThursdayThoughts:\\n\\nAnother fun day on the #...\n",
       "Name: clean_text, dtype: object"
      ]
     },
     "execution_count": 17,
     "metadata": {},
     "output_type": "execute_result"
    }
   ],
   "source": [
    "df.clean_text.head()"
   ]
  },
  {
   "cell_type": "code",
   "execution_count": 18,
   "metadata": {
    "ExecuteTime": {
     "end_time": "2017-12-07T18:44:20.946121Z",
     "start_time": "2017-12-07T18:44:20.943135Z"
    }
   },
   "outputs": [],
   "source": [
    "queries = list(df.clean_text)"
   ]
  },
  {
   "cell_type": "code",
   "execution_count": 19,
   "metadata": {
    "ExecuteTime": {
     "end_time": "2017-12-07T18:44:26.882435Z",
     "start_time": "2017-12-07T18:44:26.879534Z"
    }
   },
   "outputs": [
    {
     "data": {
      "text/plain": [
       "16458"
      ]
     },
     "execution_count": 19,
     "metadata": {},
     "output_type": "execute_result"
    }
   ],
   "source": [
    "len(queries)"
   ]
  },
  {
   "cell_type": "code",
   "execution_count": 68,
   "metadata": {
    "ExecuteTime": {
     "end_time": "2017-12-07T19:50:40.303855Z",
     "start_time": "2017-12-07T19:50:40.301603Z"
    }
   },
   "outputs": [],
   "source": [
    "qtest = queries[:20]"
   ]
  },
  {
   "cell_type": "code",
   "execution_count": 69,
   "metadata": {
    "ExecuteTime": {
     "end_time": "2017-12-07T19:50:40.309084Z",
     "start_time": "2017-12-07T19:50:40.305065Z"
    }
   },
   "outputs": [
    {
     "data": {
      "text/plain": [
       "['New feature of  #macOSHighSierra that it doesn’t recognize 27” retina screen dimensions? Has anybody else seen this or is it my Mac failing? https://t.co/7v6mNbjKkK',\n",
       " \" i'm really sick and tired of this new iphone update, (11.1.2) ever since i updated my phone it's like it's had a mind of it's own, getting kicked out apps, starting new apps, switching itself off, even the bottom left of my screen is gubbed. #apple #iphone #wtf\",\n",
       " '@AppleSupport do my EarPods that came with my iPhone 7 Plus have any kind of warranty left bud just died, no visible cable damage phone itself is a touch over 1 year old',\n",
       " '@AppleSupport HOW DO I STOP MY PHONE FROM LOOKIJG FOR WIFI AND TURNING ON ITS SEARCHING ITS ALREADY WASTING MY BATTERY FAST ENLUGH STOP',\n",
       " '#ThursdayThoughts:\\n\\nAnother fun day on the #ios #Hindenburg. As of lunchtime …\\n\\n17 app crashes \\n9 failed launches \\n4 drop’d calls\\nBattery gauge all over map. Again. \\n\\nI dare #timcook to trying using my #iPhone for just 1 week. \\n\\nTotal failure,  . You are now GM 1980. https://t.co/I6dRHFFnNs',\n",
       " 'Dear  just because you decided to make my phone go slower, doesn’t mean I’ll buy a new one, just yet. On the contrary. Stop toying with your customers or risk losing them. #apple #failingbrand',\n",
       " \"Hey  fuck off with these, I know it's y'all... https://t.co/NndbroFXhS\",\n",
       " \"I don't even know what to do right now like wtf.... how could all my pictures be deleted like that?! Wtf  @AppleSupport why the fuck would y'all delete my shit?!!!!!!!!!\",\n",
       " 'i was literally just on snapchat watching stories and i decide to text a friend and this shit happens when i open up my messages.. @AppleSupport literally what the fuck i’m scared to even restart my phone in case it deletes my texts like it did once before. fix this pls https://t.co/h85ULJBXIl',\n",
       " \"So many problems with my  #Iphone7 - it's now stuck on lock screen - I can't physically turn it off or unlock it - I have to wait for battery to run out to reboot it! So frustrating! #FirstWorldProblems\",\n",
       " 'Is anyone else having the following   problems:\\n doesn’t open/ work/ screen is black\\nSEVERE battery drains even with most apps closed and lights on dim \\n#applesupport #apple #applemusic #iosissues',\n",
       " 'Dear ,\\nI’m tired of my phone freezing and all these updates make it worse. This is a brand new phone. #thanks',\n",
       " ' why is my I️ still fucked up?!?!??!?!??????',\n",
       " ' @AppleSupport IOS 11 completely fucked my GPS on my 6S. This is why I wait to update my iPhone. None of the resets work. Sick r&amp;d you got over there with your trillions of dollars. This might be the final straw that takes me back to the Android operating system.',\n",
       " '@AppleSupport this new iOS update 11.1.2 is just bad. Is there anyway I can go down to 11.1? This whole rotating my screen (while on screen lock), crashing and freezing is not working for me.',\n",
       " '@applesupport im trying to get a new appleid to register as developer but i keep getting an error and it doesnt work.',\n",
       " 'my phone has so kindly decided to crash i currently have to use my laptop for all until i restore it to factory settings. I am pissed off not happy  @AppleSupport  not happy at all.',\n",
       " 'So now I can’t type “it” without this “I.T.” like bullshit ',\n",
       " 'Hey  - why doesn’t my phone know that I viewed and read a text message on my watch? Clearing multiple notifications is such a pain. Am I missing a god-send of a setting that fixes this for me?',\n",
       " 'Is this a scam? @AppleSupport https://t.co/ky306Xk3G9']"
      ]
     },
     "execution_count": 69,
     "metadata": {},
     "output_type": "execute_result"
    }
   ],
   "source": [
    "qtest"
   ]
  },
  {
   "cell_type": "code",
   "execution_count": 70,
   "metadata": {
    "ExecuteTime": {
     "end_time": "2017-12-07T19:50:40.962889Z",
     "start_time": "2017-12-07T19:50:40.959815Z"
    }
   },
   "outputs": [
    {
     "data": {
      "text/plain": [
       "{'Dominic74': 246,\n",
       " 'ElizBail': 37,\n",
       " 'JohnnyTwoSheds': 92,\n",
       " 'MyTransitAgony': 30,\n",
       " 'bengillam': 903,\n",
       " 'vanterheyden': 6799}"
      ]
     },
     "execution_count": 70,
     "metadata": {},
     "output_type": "execute_result"
    }
   ],
   "source": [
    "users"
   ]
  },
  {
   "cell_type": "code",
   "execution_count": 71,
   "metadata": {
    "ExecuteTime": {
     "end_time": "2017-12-07T19:50:40.966463Z",
     "start_time": "2017-12-07T19:50:40.964076Z"
    }
   },
   "outputs": [],
   "source": [
    "users = {}"
   ]
  },
  {
   "cell_type": "code",
   "execution_count": null,
   "metadata": {},
   "outputs": [],
   "source": []
  },
  {
   "cell_type": "code",
   "execution_count": null,
   "metadata": {
    "ExecuteTime": {
     "start_time": "2017-12-07T22:42:57.312Z"
    }
   },
   "outputs": [],
   "source": [
    "user_list = []\n",
    "user_dict = {}\n",
    "for query in queries:\n",
    "    try:\n",
    "        tweet = api.search(q=query,count=1)\n",
    "        tweet_dict = tweet[0]._json\n",
    "        name = tweet_dict['user']['screen_name']\n",
    "        followers = tweet_dict['user']['followers_count']\n",
    "        user_list.append([name,followers])\n",
    "        user_dict[name] = followers\n",
    "#         print(name)\n",
    "#         print(followers)\n",
    "        \n",
    "    except:\n",
    "        next"
   ]
  },
  {
   "cell_type": "code",
   "execution_count": 105,
   "metadata": {
    "ExecuteTime": {
     "end_time": "2017-12-07T22:31:59.434521Z",
     "start_time": "2017-12-07T22:31:59.424777Z"
    }
   },
   "outputs": [
    {
     "data": {
      "text/plain": [
       "[['ElizBail', 37],\n",
       " ['bengillam', 903],\n",
       " ['JohnnyTwoSheds', 92],\n",
       " ['MyTransitAgony', 30],\n",
       " ['Dominic74', 246],\n",
       " ['vanterheyden', 6799],\n",
       " ['Fashunderfifty', 267],\n",
       " ['sophiegamberini', 474],\n",
       " ['alexiadenise_', 500],\n",
       " ['heartslol', 33],\n",
       " ['KillsGab', 0],\n",
       " ['Amzster90', 160],\n",
       " ['KingCromwell23', 2972],\n",
       " ['TheRobbie22', 1785],\n",
       " ['EBoads7991', 195],\n",
       " ['parrotbait', 275],\n",
       " ['iseepinkelefnts', 84],\n",
       " ['iggyf', 2618],\n",
       " ['Ep_Simon', 408],\n",
       " ['jadeneal123', 591],\n",
       " ['annieleigh21', 1324],\n",
       " ['ohaivix', 439],\n",
       " ['mom2cockers', 83],\n",
       " ['Alii49450408', 6],\n",
       " ['MrSteveTilley', 51],\n",
       " ['AbigailEVKM1981', 0],\n",
       " ['destinykeithh', 798],\n",
       " ['ToddMichaelsen', 2779],\n",
       " ['badgalloui', 723],\n",
       " ['ShyyD', 376],\n",
       " ['baybeee96', 73],\n",
       " ['ChairezCiro', 6],\n",
       " ['_Simply_HONEY', 666],\n",
       " ['AmericnSarge', 307],\n",
       " ['_karrol', 119],\n",
       " ['Rahul_K_Parmar', 72],\n",
       " ['SoundsLikeDeon', 534],\n",
       " ['winnerelitist', 1235],\n",
       " ['rahrahshoe', 244],\n",
       " ['androidclips1', 405],\n",
       " ['LoneArrowOne', 10258],\n",
       " ['JohnnyTwoSheds', 92],\n",
       " ['terpchamp', 72],\n",
       " ['elgabry7', 2635],\n",
       " ['donkey', 1547],\n",
       " ['bricksunny', 2543],\n",
       " ['7l11l2', 42],\n",
       " ['k8lyn_1', 125],\n",
       " ['ExTurnern8or', 35],\n",
       " ['tony_maden', 234],\n",
       " ['davb5', 120],\n",
       " ['huffdiesle', 1343],\n",
       " ['NYorNothing', 5659],\n",
       " ['hustl3h4rd', 960],\n",
       " ['deesyw', 28],\n",
       " ['romanmungarro', 979],\n",
       " ['speakstorms', 1287],\n",
       " ['trekerant', 63],\n",
       " ['HollywoodJustin', 3081],\n",
       " ['FatFlibberFlab', 782],\n",
       " ['linglinglive', 1332],\n",
       " ['betalogue', 162],\n",
       " ['_marylarryfrank', 131],\n",
       " ['vodkaafaashion', 34],\n",
       " ['HobanLindsay', 94],\n",
       " ['jonmillermusic', 472],\n",
       " ['Darkest_Sunset', 32],\n",
       " ['YaCousinVinnie', 1103],\n",
       " ['Dj_eileen_', 62],\n",
       " ['aleshar77', 212],\n",
       " ['bobbythedigital', 13],\n",
       " ['x_xgriffx_x', 318],\n",
       " ['Alindasong', 26],\n",
       " ['Dai_Monae', 867],\n",
       " ['Lucid_Dreams_', 679],\n",
       " ['YoungGentsOKSt', 2440],\n",
       " ['XilinZhong', 3],\n",
       " ['shehatesjuju', 839],\n",
       " ['maaddmadii', 1043],\n",
       " ['ChairezCiro', 6],\n",
       " ['__teeeen', 747],\n",
       " ['Darkk_Princ3', 401],\n",
       " ['oliver_ck', 17974],\n",
       " ['pinkiegirlie', 15],\n",
       " ['DawnSlater_2', 181],\n",
       " ['crAppleSupport', 127],\n",
       " ['ChitownJayy', 1702],\n",
       " ['djelzee', 46834],\n",
       " ['cc_heart', 284],\n",
       " ['crAppleSupport', 127],\n",
       " ['Krid63', 1627],\n",
       " ['La_Rover_', 83],\n",
       " ['joeblackzw', 13690],\n",
       " ['AAfalava', 653],\n",
       " ['jennxneg', 529],\n",
       " ['spitxbaby', 3596],\n",
       " ['garfnodie', 45],\n",
       " ['coeursetarts', 211],\n",
       " ['Q5Q5R', 156579],\n",
       " ['Sade0219', 1930],\n",
       " ['ElizBail', 37],\n",
       " ['bengillam', 904],\n",
       " ['JohnnyTwoSheds', 92],\n",
       " ['MyTransitAgony', 30],\n",
       " ['Dominic74', 246],\n",
       " ['vanterheyden', 6798],\n",
       " ['Fashunderfifty', 267],\n",
       " ['sophiegamberini', 474],\n",
       " ['alexiadenise_', 499],\n",
       " ['heartslol', 33],\n",
       " ['KillsGab', 0],\n",
       " ['Amzster90', 160],\n",
       " ['KingCromwell23', 2971],\n",
       " ['TheRobbie22', 1786],\n",
       " ['EBoads7991', 195],\n",
       " ['parrotbait', 275],\n",
       " ['iseepinkelefnts', 84],\n",
       " ['iggyf', 2618],\n",
       " ['Ep_Simon', 408],\n",
       " ['jadeneal123', 592],\n",
       " ['annieleigh21', 1324],\n",
       " ['ohaivix', 439],\n",
       " ['mom2cockers', 83],\n",
       " ['Alii49450408', 6],\n",
       " ['MrSteveTilley', 51],\n",
       " ['AbigailEVKM1981', 0],\n",
       " ['destinykeithh', 798],\n",
       " ['ToddMichaelsen', 2779],\n",
       " ['badgalloui', 723],\n",
       " ['ShyyD', 376],\n",
       " ['baybeee96', 73],\n",
       " ['ChairezCiro', 6],\n",
       " ['_Simply_HONEY', 666],\n",
       " ['AmericnSarge', 307],\n",
       " ['_karrol', 119],\n",
       " ['Rahul_K_Parmar', 72],\n",
       " ['SoundsLikeDeon', 534],\n",
       " ['winnerelitist', 1235],\n",
       " ['rahrahshoe', 244],\n",
       " ['androidclips1', 406],\n",
       " ['LoneArrowOne', 10258],\n",
       " ['JohnnyTwoSheds', 92],\n",
       " ['terpchamp', 72],\n",
       " ['elgabry7', 2635],\n",
       " ['donkey', 1547],\n",
       " ['bricksunny', 2543],\n",
       " ['7l11l2', 42],\n",
       " ['k8lyn_1', 125],\n",
       " ['ExTurnern8or', 35],\n",
       " ['tony_maden', 234],\n",
       " ['davb5', 120],\n",
       " ['huffdiesle', 1343],\n",
       " ['NYorNothing', 5660],\n",
       " ['hustl3h4rd', 960],\n",
       " ['deesyw', 28],\n",
       " ['romanmungarro', 979],\n",
       " ['speakstorms', 1286],\n",
       " ['trekerant', 63],\n",
       " ['HollywoodJustin', 3081],\n",
       " ['FatFlibberFlab', 779],\n",
       " ['linglinglive', 1332],\n",
       " ['betalogue', 161],\n",
       " ['_marylarryfrank', 132],\n",
       " ['vodkaafaashion', 34],\n",
       " ['HobanLindsay', 94],\n",
       " ['jonmillermusic', 472],\n",
       " ['Darkest_Sunset', 32],\n",
       " ['YaCousinVinnie', 1104],\n",
       " ['Dj_eileen_', 62],\n",
       " ['aleshar77', 212],\n",
       " ['bobbythedigital', 13],\n",
       " ['x_xgriffx_x', 318],\n",
       " ['Alindasong', 26],\n",
       " ['Dai_Monae', 866],\n",
       " ['Lucid_Dreams_', 679],\n",
       " ['YoungGentsOKSt', 2440],\n",
       " ['XilinZhong', 3],\n",
       " ['shehatesjuju', 839],\n",
       " ['maaddmadii', 1043],\n",
       " ['ChairezCiro', 6],\n",
       " ['__teeeen', 749],\n",
       " ['Darkk_Princ3', 401],\n",
       " ['oliver_ck', 17975],\n",
       " ['pinkiegirlie', 15],\n",
       " ['DawnSlater_2', 181],\n",
       " ['crAppleSupport', 127],\n",
       " ['ChitownJayy', 1702],\n",
       " ['djelzee', 46831],\n",
       " ['cc_heart', 284],\n",
       " ['crAppleSupport', 127],\n",
       " ['Krid63', 1627],\n",
       " ['La_Rover_', 82],\n",
       " ['joeblackzw', 13688],\n",
       " ['AAfalava', 653],\n",
       " ['jennxneg', 529],\n",
       " ['spitxbaby', 3594],\n",
       " ['fabsav_', 424],\n",
       " ['innovatePerish', 4],\n",
       " ['burakbakici', 254],\n",
       " ['alfaradhy', 6440],\n",
       " ['GoMo4Real', 7],\n",
       " ['yataj_', 5361],\n",
       " ['WhereBaeAt', 1548],\n",
       " ['Maggotlaw', 2006],\n",
       " ['Maya_Ann_Elias', 60],\n",
       " ['roshan457', 87],\n",
       " ['_Calihan26', 1288],\n",
       " ['Alex80QM', 119],\n",
       " ['bmpmila', 21],\n",
       " ['allisonpaige86', 593],\n",
       " ['sohocub', 2009],\n",
       " ['rwieckardt', 415],\n",
       " ['johnsonnino', 295],\n",
       " ['marcosrahman', 152],\n",
       " ['tarunmittal105', 46],\n",
       " ['crAppleSupport', 127],\n",
       " ['mazzz_', 134],\n",
       " ['proudoflouies', 10891],\n",
       " ['DanFreelancer', 597],\n",
       " ['citrusui', 838],\n",
       " ['Jess594', 200],\n",
       " ['LadyValetta', 717],\n",
       " ['fermontoyag', 579],\n",
       " ['bojolais', 243],\n",
       " ['Bocaj_Rellim', 398],\n",
       " ['Derry_London', 3803],\n",
       " ['crAppleSupport', 127],\n",
       " ['StephenClement2', 109],\n",
       " ['ravipagar', 220],\n",
       " ['ElegantProjects', 193],\n",
       " ['DomZenga', 667],\n",
       " ['BustaReimer412', 173],\n",
       " ['CorbynsLegHairs', 1831],\n",
       " ['just_an_initial', 61],\n",
       " ['TimMorton2', 4866],\n",
       " ['2jesijo', 236],\n",
       " ['henke728', 33],\n",
       " ['LOrion', 4990],\n",
       " ['alanpatrikramos', 73],\n",
       " ['wilomgfx', 90],\n",
       " ['Dhmygadi', 73],\n",
       " ['karsonbraaten', 210],\n",
       " ['samanthaa223', 108],\n",
       " ['mallloyy', 60],\n",
       " ['Jgamer03221', 114],\n",
       " ['_SugarCOOKIES', 1031],\n",
       " ['AmiiraAMK', 315],\n",
       " ['ciaracole_', 1263],\n",
       " ['VanillaK1LLA', 5206]]"
      ]
     },
     "execution_count": 105,
     "metadata": {},
     "output_type": "execute_result"
    }
   ],
   "source": [
    "users"
   ]
  },
  {
   "cell_type": "code",
   "execution_count": 110,
   "metadata": {
    "ExecuteTime": {
     "end_time": "2017-12-07T23:08:03.115717Z",
     "start_time": "2017-12-07T23:08:03.112655Z"
    }
   },
   "outputs": [
    {
     "data": {
      "text/plain": [
       "249"
      ]
     },
     "execution_count": 110,
     "metadata": {},
     "output_type": "execute_result"
    }
   ],
   "source": [
    "len(users)"
   ]
  },
  {
   "cell_type": "code",
   "execution_count": 111,
   "metadata": {
    "ExecuteTime": {
     "end_time": "2017-12-07T23:08:04.596888Z",
     "start_time": "2017-12-07T23:08:04.593873Z"
    }
   },
   "outputs": [
    {
     "data": {
      "text/plain": [
       "144"
      ]
     },
     "execution_count": 111,
     "metadata": {},
     "output_type": "execute_result"
    }
   ],
   "source": [
    "len(user_dict)"
   ]
  },
  {
   "cell_type": "code",
   "execution_count": 112,
   "metadata": {
    "ExecuteTime": {
     "end_time": "2017-12-07T23:10:18.806573Z",
     "start_time": "2017-12-07T23:10:18.803555Z"
    }
   },
   "outputs": [
    {
     "data": {
      "text/plain": [
       "150"
      ]
     },
     "execution_count": 112,
     "metadata": {},
     "output_type": "execute_result"
    }
   ],
   "source": [
    "len(user_list)"
   ]
  },
  {
   "cell_type": "code",
   "execution_count": 74,
   "metadata": {
    "ExecuteTime": {
     "end_time": "2017-12-07T19:51:13.059088Z",
     "start_time": "2017-12-07T19:51:13.056080Z"
    }
   },
   "outputs": [
    {
     "data": {
      "text/plain": [
       "16458"
      ]
     },
     "execution_count": 74,
     "metadata": {},
     "output_type": "execute_result"
    }
   ],
   "source": [
    "len(queries)"
   ]
  },
  {
   "cell_type": "code",
   "execution_count": 81,
   "metadata": {
    "ExecuteTime": {
     "end_time": "2017-12-07T20:58:26.508236Z",
     "start_time": "2017-12-07T20:58:26.505870Z"
    }
   },
   "outputs": [],
   "source": [
    "maxV = max(user_dict.values())"
   ]
  },
  {
   "cell_type": "code",
   "execution_count": 82,
   "metadata": {
    "ExecuteTime": {
     "end_time": "2017-12-07T20:58:30.500851Z",
     "start_time": "2017-12-07T20:58:30.498059Z"
    }
   },
   "outputs": [
    {
     "data": {
      "text/plain": [
       "156579"
      ]
     },
     "execution_count": 82,
     "metadata": {},
     "output_type": "execute_result"
    }
   ],
   "source": [
    "maxV"
   ]
  },
  {
   "cell_type": "code",
   "execution_count": 83,
   "metadata": {
    "ExecuteTime": {
     "end_time": "2017-12-07T20:59:16.800515Z",
     "start_time": "2017-12-07T20:59:16.797941Z"
    }
   },
   "outputs": [],
   "source": [
    "max_keys = [k for k, v in user_dict.items() if v == maxV]"
   ]
  },
  {
   "cell_type": "code",
   "execution_count": 84,
   "metadata": {
    "ExecuteTime": {
     "end_time": "2017-12-07T20:59:19.872458Z",
     "start_time": "2017-12-07T20:59:19.869581Z"
    }
   },
   "outputs": [
    {
     "data": {
      "text/plain": [
       "['Q5Q5R']"
      ]
     },
     "execution_count": 84,
     "metadata": {},
     "output_type": "execute_result"
    }
   ],
   "source": [
    "max_keys"
   ]
  },
  {
   "cell_type": "code",
   "execution_count": 95,
   "metadata": {
    "ExecuteTime": {
     "end_time": "2017-12-07T21:10:23.678268Z",
     "start_time": "2017-12-07T21:10:23.675588Z"
    }
   },
   "outputs": [],
   "source": [
    "s = pd.Series(user_dict, name='followers')"
   ]
  },
  {
   "cell_type": "code",
   "execution_count": 96,
   "metadata": {
    "ExecuteTime": {
     "end_time": "2017-12-07T21:10:29.920806Z",
     "start_time": "2017-12-07T21:10:29.918539Z"
    }
   },
   "outputs": [],
   "source": [
    "s.index.name = 'username'"
   ]
  },
  {
   "cell_type": "code",
   "execution_count": 98,
   "metadata": {
    "ExecuteTime": {
     "end_time": "2017-12-07T21:11:32.802982Z",
     "start_time": "2017-12-07T21:11:32.789437Z"
    }
   },
   "outputs": [
    {
     "data": {
      "text/html": [
       "<div>\n",
       "<style scoped>\n",
       "    .dataframe tbody tr th:only-of-type {\n",
       "        vertical-align: middle;\n",
       "    }\n",
       "\n",
       "    .dataframe tbody tr th {\n",
       "        vertical-align: top;\n",
       "    }\n",
       "\n",
       "    .dataframe thead th {\n",
       "        text-align: right;\n",
       "    }\n",
       "</style>\n",
       "<table border=\"1\" class=\"dataframe\">\n",
       "  <thead>\n",
       "    <tr style=\"text-align: right;\">\n",
       "      <th></th>\n",
       "      <th>username</th>\n",
       "      <th>followers</th>\n",
       "    </tr>\n",
       "  </thead>\n",
       "  <tbody>\n",
       "    <tr>\n",
       "      <th>0</th>\n",
       "      <td>7l11l2</td>\n",
       "      <td>42</td>\n",
       "    </tr>\n",
       "    <tr>\n",
       "      <th>1</th>\n",
       "      <td>AAfalava</td>\n",
       "      <td>653</td>\n",
       "    </tr>\n",
       "    <tr>\n",
       "      <th>2</th>\n",
       "      <td>AbigailEVKM1981</td>\n",
       "      <td>0</td>\n",
       "    </tr>\n",
       "    <tr>\n",
       "      <th>3</th>\n",
       "      <td>Alii49450408</td>\n",
       "      <td>6</td>\n",
       "    </tr>\n",
       "    <tr>\n",
       "      <th>4</th>\n",
       "      <td>Alindasong</td>\n",
       "      <td>26</td>\n",
       "    </tr>\n",
       "    <tr>\n",
       "      <th>5</th>\n",
       "      <td>AmericnSarge</td>\n",
       "      <td>307</td>\n",
       "    </tr>\n",
       "    <tr>\n",
       "      <th>6</th>\n",
       "      <td>Amzster90</td>\n",
       "      <td>160</td>\n",
       "    </tr>\n",
       "    <tr>\n",
       "      <th>7</th>\n",
       "      <td>ChairezCiro</td>\n",
       "      <td>6</td>\n",
       "    </tr>\n",
       "    <tr>\n",
       "      <th>8</th>\n",
       "      <td>ChitownJayy</td>\n",
       "      <td>1702</td>\n",
       "    </tr>\n",
       "    <tr>\n",
       "      <th>9</th>\n",
       "      <td>Dai_Monae</td>\n",
       "      <td>867</td>\n",
       "    </tr>\n",
       "    <tr>\n",
       "      <th>10</th>\n",
       "      <td>Darkest_Sunset</td>\n",
       "      <td>32</td>\n",
       "    </tr>\n",
       "    <tr>\n",
       "      <th>11</th>\n",
       "      <td>Darkk_Princ3</td>\n",
       "      <td>401</td>\n",
       "    </tr>\n",
       "    <tr>\n",
       "      <th>12</th>\n",
       "      <td>DawnSlater_2</td>\n",
       "      <td>181</td>\n",
       "    </tr>\n",
       "    <tr>\n",
       "      <th>13</th>\n",
       "      <td>Dj_eileen_</td>\n",
       "      <td>62</td>\n",
       "    </tr>\n",
       "    <tr>\n",
       "      <th>14</th>\n",
       "      <td>Dominic74</td>\n",
       "      <td>246</td>\n",
       "    </tr>\n",
       "    <tr>\n",
       "      <th>15</th>\n",
       "      <td>EBoads7991</td>\n",
       "      <td>195</td>\n",
       "    </tr>\n",
       "    <tr>\n",
       "      <th>16</th>\n",
       "      <td>ElizBail</td>\n",
       "      <td>37</td>\n",
       "    </tr>\n",
       "    <tr>\n",
       "      <th>17</th>\n",
       "      <td>Ep_Simon</td>\n",
       "      <td>408</td>\n",
       "    </tr>\n",
       "    <tr>\n",
       "      <th>18</th>\n",
       "      <td>ExTurnern8or</td>\n",
       "      <td>35</td>\n",
       "    </tr>\n",
       "    <tr>\n",
       "      <th>19</th>\n",
       "      <td>Fashunderfifty</td>\n",
       "      <td>267</td>\n",
       "    </tr>\n",
       "    <tr>\n",
       "      <th>20</th>\n",
       "      <td>FatFlibberFlab</td>\n",
       "      <td>782</td>\n",
       "    </tr>\n",
       "    <tr>\n",
       "      <th>21</th>\n",
       "      <td>HobanLindsay</td>\n",
       "      <td>94</td>\n",
       "    </tr>\n",
       "    <tr>\n",
       "      <th>22</th>\n",
       "      <td>HollywoodJustin</td>\n",
       "      <td>3081</td>\n",
       "    </tr>\n",
       "    <tr>\n",
       "      <th>23</th>\n",
       "      <td>JohnnyTwoSheds</td>\n",
       "      <td>92</td>\n",
       "    </tr>\n",
       "    <tr>\n",
       "      <th>24</th>\n",
       "      <td>KillsGab</td>\n",
       "      <td>0</td>\n",
       "    </tr>\n",
       "    <tr>\n",
       "      <th>25</th>\n",
       "      <td>KingCromwell23</td>\n",
       "      <td>2972</td>\n",
       "    </tr>\n",
       "    <tr>\n",
       "      <th>26</th>\n",
       "      <td>Krid63</td>\n",
       "      <td>1627</td>\n",
       "    </tr>\n",
       "    <tr>\n",
       "      <th>27</th>\n",
       "      <td>La_Rover_</td>\n",
       "      <td>83</td>\n",
       "    </tr>\n",
       "    <tr>\n",
       "      <th>28</th>\n",
       "      <td>LoneArrowOne</td>\n",
       "      <td>10258</td>\n",
       "    </tr>\n",
       "    <tr>\n",
       "      <th>29</th>\n",
       "      <td>Lucid_Dreams_</td>\n",
       "      <td>679</td>\n",
       "    </tr>\n",
       "    <tr>\n",
       "      <th>...</th>\n",
       "      <td>...</td>\n",
       "      <td>...</td>\n",
       "    </tr>\n",
       "    <tr>\n",
       "      <th>67</th>\n",
       "      <td>heartslol</td>\n",
       "      <td>33</td>\n",
       "    </tr>\n",
       "    <tr>\n",
       "      <th>68</th>\n",
       "      <td>huffdiesle</td>\n",
       "      <td>1343</td>\n",
       "    </tr>\n",
       "    <tr>\n",
       "      <th>69</th>\n",
       "      <td>hustl3h4rd</td>\n",
       "      <td>960</td>\n",
       "    </tr>\n",
       "    <tr>\n",
       "      <th>70</th>\n",
       "      <td>iggyf</td>\n",
       "      <td>2618</td>\n",
       "    </tr>\n",
       "    <tr>\n",
       "      <th>71</th>\n",
       "      <td>iseepinkelefnts</td>\n",
       "      <td>84</td>\n",
       "    </tr>\n",
       "    <tr>\n",
       "      <th>72</th>\n",
       "      <td>jadeneal123</td>\n",
       "      <td>591</td>\n",
       "    </tr>\n",
       "    <tr>\n",
       "      <th>73</th>\n",
       "      <td>jennxneg</td>\n",
       "      <td>529</td>\n",
       "    </tr>\n",
       "    <tr>\n",
       "      <th>74</th>\n",
       "      <td>joeblackzw</td>\n",
       "      <td>13690</td>\n",
       "    </tr>\n",
       "    <tr>\n",
       "      <th>75</th>\n",
       "      <td>jonmillermusic</td>\n",
       "      <td>472</td>\n",
       "    </tr>\n",
       "    <tr>\n",
       "      <th>76</th>\n",
       "      <td>k8lyn_1</td>\n",
       "      <td>125</td>\n",
       "    </tr>\n",
       "    <tr>\n",
       "      <th>77</th>\n",
       "      <td>linglinglive</td>\n",
       "      <td>1332</td>\n",
       "    </tr>\n",
       "    <tr>\n",
       "      <th>78</th>\n",
       "      <td>maaddmadii</td>\n",
       "      <td>1043</td>\n",
       "    </tr>\n",
       "    <tr>\n",
       "      <th>79</th>\n",
       "      <td>mom2cockers</td>\n",
       "      <td>83</td>\n",
       "    </tr>\n",
       "    <tr>\n",
       "      <th>80</th>\n",
       "      <td>ohaivix</td>\n",
       "      <td>439</td>\n",
       "    </tr>\n",
       "    <tr>\n",
       "      <th>81</th>\n",
       "      <td>oliver_ck</td>\n",
       "      <td>17974</td>\n",
       "    </tr>\n",
       "    <tr>\n",
       "      <th>82</th>\n",
       "      <td>parrotbait</td>\n",
       "      <td>275</td>\n",
       "    </tr>\n",
       "    <tr>\n",
       "      <th>83</th>\n",
       "      <td>pinkiegirlie</td>\n",
       "      <td>15</td>\n",
       "    </tr>\n",
       "    <tr>\n",
       "      <th>84</th>\n",
       "      <td>rahrahshoe</td>\n",
       "      <td>244</td>\n",
       "    </tr>\n",
       "    <tr>\n",
       "      <th>85</th>\n",
       "      <td>romanmungarro</td>\n",
       "      <td>979</td>\n",
       "    </tr>\n",
       "    <tr>\n",
       "      <th>86</th>\n",
       "      <td>shehatesjuju</td>\n",
       "      <td>839</td>\n",
       "    </tr>\n",
       "    <tr>\n",
       "      <th>87</th>\n",
       "      <td>sophiegamberini</td>\n",
       "      <td>474</td>\n",
       "    </tr>\n",
       "    <tr>\n",
       "      <th>88</th>\n",
       "      <td>speakstorms</td>\n",
       "      <td>1287</td>\n",
       "    </tr>\n",
       "    <tr>\n",
       "      <th>89</th>\n",
       "      <td>spitxbaby</td>\n",
       "      <td>3596</td>\n",
       "    </tr>\n",
       "    <tr>\n",
       "      <th>90</th>\n",
       "      <td>terpchamp</td>\n",
       "      <td>72</td>\n",
       "    </tr>\n",
       "    <tr>\n",
       "      <th>91</th>\n",
       "      <td>tony_maden</td>\n",
       "      <td>234</td>\n",
       "    </tr>\n",
       "    <tr>\n",
       "      <th>92</th>\n",
       "      <td>trekerant</td>\n",
       "      <td>63</td>\n",
       "    </tr>\n",
       "    <tr>\n",
       "      <th>93</th>\n",
       "      <td>vanterheyden</td>\n",
       "      <td>6799</td>\n",
       "    </tr>\n",
       "    <tr>\n",
       "      <th>94</th>\n",
       "      <td>vodkaafaashion</td>\n",
       "      <td>34</td>\n",
       "    </tr>\n",
       "    <tr>\n",
       "      <th>95</th>\n",
       "      <td>winnerelitist</td>\n",
       "      <td>1235</td>\n",
       "    </tr>\n",
       "    <tr>\n",
       "      <th>96</th>\n",
       "      <td>x_xgriffx_x</td>\n",
       "      <td>318</td>\n",
       "    </tr>\n",
       "  </tbody>\n",
       "</table>\n",
       "<p>97 rows × 2 columns</p>\n",
       "</div>"
      ],
      "text/plain": [
       "           username  followers\n",
       "0            7l11l2         42\n",
       "1          AAfalava        653\n",
       "2   AbigailEVKM1981          0\n",
       "3      Alii49450408          6\n",
       "4        Alindasong         26\n",
       "5      AmericnSarge        307\n",
       "6         Amzster90        160\n",
       "7       ChairezCiro          6\n",
       "8       ChitownJayy       1702\n",
       "9         Dai_Monae        867\n",
       "10   Darkest_Sunset         32\n",
       "11     Darkk_Princ3        401\n",
       "12     DawnSlater_2        181\n",
       "13       Dj_eileen_         62\n",
       "14        Dominic74        246\n",
       "15       EBoads7991        195\n",
       "16         ElizBail         37\n",
       "17         Ep_Simon        408\n",
       "18     ExTurnern8or         35\n",
       "19   Fashunderfifty        267\n",
       "20   FatFlibberFlab        782\n",
       "21     HobanLindsay         94\n",
       "22  HollywoodJustin       3081\n",
       "23   JohnnyTwoSheds         92\n",
       "24         KillsGab          0\n",
       "25   KingCromwell23       2972\n",
       "26           Krid63       1627\n",
       "27        La_Rover_         83\n",
       "28     LoneArrowOne      10258\n",
       "29    Lucid_Dreams_        679\n",
       "..              ...        ...\n",
       "67        heartslol         33\n",
       "68       huffdiesle       1343\n",
       "69       hustl3h4rd        960\n",
       "70            iggyf       2618\n",
       "71  iseepinkelefnts         84\n",
       "72      jadeneal123        591\n",
       "73         jennxneg        529\n",
       "74       joeblackzw      13690\n",
       "75   jonmillermusic        472\n",
       "76          k8lyn_1        125\n",
       "77     linglinglive       1332\n",
       "78       maaddmadii       1043\n",
       "79      mom2cockers         83\n",
       "80          ohaivix        439\n",
       "81        oliver_ck      17974\n",
       "82       parrotbait        275\n",
       "83     pinkiegirlie         15\n",
       "84       rahrahshoe        244\n",
       "85    romanmungarro        979\n",
       "86     shehatesjuju        839\n",
       "87  sophiegamberini        474\n",
       "88      speakstorms       1287\n",
       "89        spitxbaby       3596\n",
       "90        terpchamp         72\n",
       "91       tony_maden        234\n",
       "92        trekerant         63\n",
       "93     vanterheyden       6799\n",
       "94   vodkaafaashion         34\n",
       "95    winnerelitist       1235\n",
       "96      x_xgriffx_x        318\n",
       "\n",
       "[97 rows x 2 columns]"
      ]
     },
     "execution_count": 98,
     "metadata": {},
     "output_type": "execute_result"
    }
   ],
   "source": [
    "s.reset_index()"
   ]
  },
  {
   "cell_type": "code",
   "execution_count": 123,
   "metadata": {
    "ExecuteTime": {
     "end_time": "2017-12-07T23:12:23.986686Z",
     "start_time": "2017-12-07T23:12:23.983959Z"
    }
   },
   "outputs": [],
   "source": [
    "userDF = pd.DataFrame(s)"
   ]
  },
  {
   "cell_type": "code",
   "execution_count": 125,
   "metadata": {
    "ExecuteTime": {
     "end_time": "2017-12-07T23:12:32.346910Z",
     "start_time": "2017-12-07T23:12:32.340522Z"
    }
   },
   "outputs": [
    {
     "data": {
      "text/html": [
       "<div>\n",
       "<style scoped>\n",
       "    .dataframe tbody tr th:only-of-type {\n",
       "        vertical-align: middle;\n",
       "    }\n",
       "\n",
       "    .dataframe tbody tr th {\n",
       "        vertical-align: top;\n",
       "    }\n",
       "\n",
       "    .dataframe thead th {\n",
       "        text-align: right;\n",
       "    }\n",
       "</style>\n",
       "<table border=\"1\" class=\"dataframe\">\n",
       "  <thead>\n",
       "    <tr style=\"text-align: right;\">\n",
       "      <th></th>\n",
       "      <th>followers</th>\n",
       "    </tr>\n",
       "    <tr>\n",
       "      <th>username</th>\n",
       "      <th></th>\n",
       "    </tr>\n",
       "  </thead>\n",
       "  <tbody>\n",
       "    <tr>\n",
       "      <th>Q5Q5R</th>\n",
       "      <td>156579</td>\n",
       "    </tr>\n",
       "    <tr>\n",
       "      <th>djelzee</th>\n",
       "      <td>46834</td>\n",
       "    </tr>\n",
       "    <tr>\n",
       "      <th>oliver_ck</th>\n",
       "      <td>17974</td>\n",
       "    </tr>\n",
       "    <tr>\n",
       "      <th>joeblackzw</th>\n",
       "      <td>13690</td>\n",
       "    </tr>\n",
       "    <tr>\n",
       "      <th>LoneArrowOne</th>\n",
       "      <td>10258</td>\n",
       "    </tr>\n",
       "    <tr>\n",
       "      <th>vanterheyden</th>\n",
       "      <td>6799</td>\n",
       "    </tr>\n",
       "    <tr>\n",
       "      <th>NYorNothing</th>\n",
       "      <td>5659</td>\n",
       "    </tr>\n",
       "    <tr>\n",
       "      <th>spitxbaby</th>\n",
       "      <td>3596</td>\n",
       "    </tr>\n",
       "    <tr>\n",
       "      <th>HollywoodJustin</th>\n",
       "      <td>3081</td>\n",
       "    </tr>\n",
       "    <tr>\n",
       "      <th>KingCromwell23</th>\n",
       "      <td>2972</td>\n",
       "    </tr>\n",
       "  </tbody>\n",
       "</table>\n",
       "</div>"
      ],
      "text/plain": [
       "                 followers\n",
       "username                  \n",
       "Q5Q5R               156579\n",
       "djelzee              46834\n",
       "oliver_ck            17974\n",
       "joeblackzw           13690\n",
       "LoneArrowOne         10258\n",
       "vanterheyden          6799\n",
       "NYorNothing           5659\n",
       "spitxbaby             3596\n",
       "HollywoodJustin       3081\n",
       "KingCromwell23        2972"
      ]
     },
     "execution_count": 125,
     "metadata": {},
     "output_type": "execute_result"
    }
   ],
   "source": [
    "userDF.sort_values('followers',ascending=False,inplace=True)\n",
    "userDF.head(10)"
   ]
  },
  {
   "cell_type": "code",
   "execution_count": 115,
   "metadata": {
    "ExecuteTime": {
     "end_time": "2017-12-07T23:11:07.459528Z",
     "start_time": "2017-12-07T23:11:07.456589Z"
    }
   },
   "outputs": [],
   "source": [
    "userDF = pd.DataFrame(users)"
   ]
  },
  {
   "cell_type": "code",
   "execution_count": 120,
   "metadata": {
    "ExecuteTime": {
     "end_time": "2017-12-07T23:11:57.795061Z",
     "start_time": "2017-12-07T23:11:57.792641Z"
    }
   },
   "outputs": [],
   "source": [
    "userDF.columns=['user','followers']"
   ]
  },
  {
   "cell_type": "code",
   "execution_count": 121,
   "metadata": {
    "ExecuteTime": {
     "end_time": "2017-12-07T23:12:05.088874Z",
     "start_time": "2017-12-07T23:12:05.082629Z"
    }
   },
   "outputs": [
    {
     "data": {
      "text/html": [
       "<div>\n",
       "<style scoped>\n",
       "    .dataframe tbody tr th:only-of-type {\n",
       "        vertical-align: middle;\n",
       "    }\n",
       "\n",
       "    .dataframe tbody tr th {\n",
       "        vertical-align: top;\n",
       "    }\n",
       "\n",
       "    .dataframe thead th {\n",
       "        text-align: right;\n",
       "    }\n",
       "</style>\n",
       "<table border=\"1\" class=\"dataframe\">\n",
       "  <thead>\n",
       "    <tr style=\"text-align: right;\">\n",
       "      <th></th>\n",
       "      <th>user</th>\n",
       "      <th>followers</th>\n",
       "    </tr>\n",
       "  </thead>\n",
       "  <tbody>\n",
       "    <tr>\n",
       "      <th>0</th>\n",
       "      <td>ElizBail</td>\n",
       "      <td>37</td>\n",
       "    </tr>\n",
       "    <tr>\n",
       "      <th>1</th>\n",
       "      <td>bengillam</td>\n",
       "      <td>903</td>\n",
       "    </tr>\n",
       "    <tr>\n",
       "      <th>2</th>\n",
       "      <td>JohnnyTwoSheds</td>\n",
       "      <td>92</td>\n",
       "    </tr>\n",
       "    <tr>\n",
       "      <th>3</th>\n",
       "      <td>MyTransitAgony</td>\n",
       "      <td>30</td>\n",
       "    </tr>\n",
       "    <tr>\n",
       "      <th>4</th>\n",
       "      <td>Dominic74</td>\n",
       "      <td>246</td>\n",
       "    </tr>\n",
       "  </tbody>\n",
       "</table>\n",
       "</div>"
      ],
      "text/plain": [
       "             user  followers\n",
       "0        ElizBail         37\n",
       "1       bengillam        903\n",
       "2  JohnnyTwoSheds         92\n",
       "3  MyTransitAgony         30\n",
       "4       Dominic74        246"
      ]
     },
     "execution_count": 121,
     "metadata": {},
     "output_type": "execute_result"
    }
   ],
   "source": [
    "userDF.head()"
   ]
  },
  {
   "cell_type": "code",
   "execution_count": 122,
   "metadata": {
    "ExecuteTime": {
     "end_time": "2017-12-07T23:12:08.210624Z",
     "start_time": "2017-12-07T23:12:08.203526Z"
    }
   },
   "outputs": [
    {
     "data": {
      "text/html": [
       "<div>\n",
       "<style scoped>\n",
       "    .dataframe tbody tr th:only-of-type {\n",
       "        vertical-align: middle;\n",
       "    }\n",
       "\n",
       "    .dataframe tbody tr th {\n",
       "        vertical-align: top;\n",
       "    }\n",
       "\n",
       "    .dataframe thead th {\n",
       "        text-align: right;\n",
       "    }\n",
       "</style>\n",
       "<table border=\"1\" class=\"dataframe\">\n",
       "  <thead>\n",
       "    <tr style=\"text-align: right;\">\n",
       "      <th></th>\n",
       "      <th>user</th>\n",
       "      <th>followers</th>\n",
       "    </tr>\n",
       "  </thead>\n",
       "  <tbody>\n",
       "    <tr>\n",
       "      <th>98</th>\n",
       "      <td>Q5Q5R</td>\n",
       "      <td>156579</td>\n",
       "    </tr>\n",
       "    <tr>\n",
       "      <th>87</th>\n",
       "      <td>djelzee</td>\n",
       "      <td>46834</td>\n",
       "    </tr>\n",
       "    <tr>\n",
       "      <th>187</th>\n",
       "      <td>djelzee</td>\n",
       "      <td>46831</td>\n",
       "    </tr>\n",
       "    <tr>\n",
       "      <th>182</th>\n",
       "      <td>oliver_ck</td>\n",
       "      <td>17975</td>\n",
       "    </tr>\n",
       "    <tr>\n",
       "      <th>82</th>\n",
       "      <td>oliver_ck</td>\n",
       "      <td>17974</td>\n",
       "    </tr>\n",
       "  </tbody>\n",
       "</table>\n",
       "</div>"
      ],
      "text/plain": [
       "          user  followers\n",
       "98       Q5Q5R     156579\n",
       "87     djelzee      46834\n",
       "187    djelzee      46831\n",
       "182  oliver_ck      17975\n",
       "82   oliver_ck      17974"
      ]
     },
     "execution_count": 122,
     "metadata": {},
     "output_type": "execute_result"
    }
   ],
   "source": [
    "userDF.sort_values('followers',ascending=False,inplace=True)\n",
    "userDF.head()"
   ]
  },
  {
   "cell_type": "code",
   "execution_count": null,
   "metadata": {},
   "outputs": [],
   "source": []
  }
 ],
 "metadata": {
  "kernelspec": {
   "display_name": "Python 3",
   "language": "python",
   "name": "python3"
  },
  "language_info": {
   "codemirror_mode": {
    "name": "ipython",
    "version": 3
   },
   "file_extension": ".py",
   "mimetype": "text/x-python",
   "name": "python",
   "nbconvert_exporter": "python",
   "pygments_lexer": "ipython3",
   "version": "3.6.3"
  },
  "toc": {
   "nav_menu": {},
   "number_sections": true,
   "sideBar": true,
   "skip_h1_title": true,
   "toc_cell": false,
   "toc_position": {},
   "toc_section_display": "block",
   "toc_window_display": true
  }
 },
 "nbformat": 4,
 "nbformat_minor": 2
}

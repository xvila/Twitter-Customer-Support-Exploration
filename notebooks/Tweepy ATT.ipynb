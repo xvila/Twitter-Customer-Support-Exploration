{
 "cells": [
  {
   "cell_type": "code",
   "execution_count": 4,
   "metadata": {
    "ExecuteTime": {
     "end_time": "2017-12-04T19:50:55.456934Z",
     "start_time": "2017-12-04T19:50:53.307205Z"
    }
   },
   "outputs": [
    {
     "name": "stdout",
     "output_type": "stream",
     "text": [
      "Collecting cnfg\n",
      "  Downloading cnfg-1.0.0.tar.gz\n",
      "Building wheels for collected packages: cnfg\n",
      "  Running setup.py bdist_wheel for cnfg ... \u001b[?25ldone\n",
      "\u001b[?25h  Stored in directory: /home/xavier/.cache/pip/wheels/a5/5e/92/349eb0e479de50b6da1271a4185660a8bb85471f393336c21e\n",
      "Successfully built cnfg\n",
      "Installing collected packages: cnfg\n",
      "Successfully installed cnfg-1.0.0\n"
     ]
    }
   ],
   "source": [
    "!pip install cnfg"
   ]
  },
  {
   "cell_type": "code",
   "execution_count": 6,
   "metadata": {
    "ExecuteTime": {
     "end_time": "2017-12-04T19:51:11.736711Z",
     "start_time": "2017-12-04T19:51:10.740449Z"
    }
   },
   "outputs": [
    {
     "name": "stdout",
     "output_type": "stream",
     "text": [
      "Collecting tweepy\n",
      "  Downloading tweepy-3.5.0-py2.py3-none-any.whl\n",
      "Requirement already satisfied: requests-oauthlib>=0.4.1 in /home/xavier/anaconda3/lib/python3.6/site-packages (from tweepy)\n",
      "Requirement already satisfied: six>=1.7.3 in /home/xavier/anaconda3/lib/python3.6/site-packages (from tweepy)\n",
      "Requirement already satisfied: requests>=2.4.3 in /home/xavier/anaconda3/lib/python3.6/site-packages (from tweepy)\n",
      "Requirement already satisfied: oauthlib>=0.6.2 in /home/xavier/anaconda3/lib/python3.6/site-packages (from requests-oauthlib>=0.4.1->tweepy)\n",
      "Requirement already satisfied: chardet<3.1.0,>=3.0.2 in /home/xavier/anaconda3/lib/python3.6/site-packages (from requests>=2.4.3->tweepy)\n",
      "Requirement already satisfied: idna<2.7,>=2.5 in /home/xavier/anaconda3/lib/python3.6/site-packages (from requests>=2.4.3->tweepy)\n",
      "Requirement already satisfied: urllib3<1.23,>=1.21.1 in /home/xavier/anaconda3/lib/python3.6/site-packages (from requests>=2.4.3->tweepy)\n",
      "Requirement already satisfied: certifi>=2017.4.17 in /home/xavier/anaconda3/lib/python3.6/site-packages (from requests>=2.4.3->tweepy)\n",
      "Installing collected packages: tweepy\n",
      "Successfully installed tweepy-3.5.0\n"
     ]
    }
   ],
   "source": [
    "!pip install tweepy"
   ]
  },
  {
   "cell_type": "code",
   "execution_count": 7,
   "metadata": {
    "ExecuteTime": {
     "end_time": "2017-12-04T19:51:15.067061Z",
     "start_time": "2017-12-04T19:51:14.908139Z"
    }
   },
   "outputs": [],
   "source": [
    "import requests\n",
    "import cnfg\n",
    "import html\n",
    "import tweepy\n",
    "from requests_oauthlib import OAuth1 # \n",
    "import pandas as pd\n",
    "from pprint import pprint\n",
    "import csv"
   ]
  },
  {
   "cell_type": "code",
   "execution_count": 9,
   "metadata": {
    "ExecuteTime": {
     "end_time": "2017-12-04T19:52:35.320754Z",
     "start_time": "2017-12-04T19:52:35.317047Z"
    }
   },
   "outputs": [],
   "source": [
    "# Importing our Config\n",
    "# this allows us to hide our secrets\n",
    "config = cnfg.load(\".twitter_config\")\n",
    "\n",
    "#OAuth ~ simple way to authenticate\n",
    "oauth = OAuth1(config[\"consumer_key\"],\n",
    "               config[\"consumer_secret\"],\n",
    "               config[\"access_token\"],\n",
    "               config[\"access_token_secret\"])"
   ]
  },
  {
   "cell_type": "code",
   "execution_count": 10,
   "metadata": {
    "ExecuteTime": {
     "end_time": "2017-12-04T19:52:45.491832Z",
     "start_time": "2017-12-04T19:52:39.262327Z"
    }
   },
   "outputs": [
    {
     "name": "stdout",
     "output_type": "stream",
     "text": [
      "getting tweets before 937745742462115839\n",
      "...400 tweets downloaded so far\n",
      "getting tweets before 937717886633816063\n",
      "...600 tweets downloaded so far\n",
      "getting tweets before 937702535250563074\n",
      "...800 tweets downloaded so far\n",
      "getting tweets before 937683932736294911\n",
      "...1000 tweets downloaded so far\n",
      "getting tweets before 937518019458281471\n",
      "...1200 tweets downloaded so far\n",
      "getting tweets before 937465723194150911\n",
      "...1400 tweets downloaded so far\n",
      "getting tweets before 937420295828332545\n",
      "...1600 tweets downloaded so far\n",
      "getting tweets before 937393626711240704\n",
      "...1800 tweets downloaded so far\n",
      "getting tweets before 937364424037462016\n",
      "...2000 tweets downloaded so far\n",
      "getting tweets before 937343921147011071\n",
      "...2200 tweets downloaded so far\n",
      "getting tweets before 937320264408424448\n",
      "...2400 tweets downloaded so far\n",
      "getting tweets before 937151771927089151\n",
      "...2600 tweets downloaded so far\n",
      "getting tweets before 937119190594580479\n",
      "...2800 tweets downloaded so far\n",
      "getting tweets before 937084590916857855\n",
      "...3000 tweets downloaded so far\n",
      "getting tweets before 937070729669070847\n",
      "...3200 tweets downloaded so far\n",
      "getting tweets before 937060924413894656\n",
      "...3247 tweets downloaded so far\n",
      "getting tweets before 937058541550043135\n",
      "...3247 tweets downloaded so far\n"
     ]
    }
   ],
   "source": [
    "def get_all_tweets(screen_name):\n",
    "\t#Twitter only allows access to a users most recent 3240 tweets with this method\n",
    "\t\n",
    "\t#authorize twitter, initialize tweepy\n",
    "\tauth = tweepy.OAuthHandler(config[\"consumer_key\"], config[\"consumer_secret\"])\n",
    "\tauth.set_access_token(config[\"access_token\"], config[\"access_token_secret\"])\n",
    "\tapi = tweepy.API(auth)\n",
    "\t\n",
    "\t#initialize a list to hold all the tweepy Tweets\n",
    "\talltweets = []\t\n",
    "\t\n",
    "\t#make initial request for most recent tweets (200 is the maximum allowed count)\n",
    "\tnew_tweets = api.user_timeline(screen_name = screen_name,count=200)\n",
    "\t\n",
    "\t#save most recent tweets\n",
    "\talltweets.extend(new_tweets)\n",
    "\t\n",
    "\t#save the id of the oldest tweet less one\n",
    "\toldest = alltweets[-1].id - 1\n",
    "\t\n",
    "\t#keep grabbing tweets until there are no tweets left to grab\n",
    "\twhile len(new_tweets) > 0:\n",
    "\t\tprint(\"getting tweets before %s\" % (oldest))\n",
    "\t\t\n",
    "\t\t#all subsiquent requests use the max_id param to prevent duplicates\n",
    "\t\tnew_tweets = api.user_timeline(screen_name = screen_name,count=200,max_id=oldest)\n",
    "\t\t\n",
    "\t\t#save most recent tweets\n",
    "\t\talltweets.extend(new_tweets)\n",
    "\t\t\n",
    "\t\t#update the id of the oldest tweet less one\n",
    "\t\toldest = alltweets[-1].id - 1\n",
    "\t\t\n",
    "\t\tprint(\"...%s tweets downloaded so far\" % (len(alltweets)))\n",
    "\t\n",
    "\t#transform the tweepy tweets into a 2D array that will populate the csv\t\n",
    "\touttweets = [[tweet.id_str, tweet.created_at, tweet.text.encode(\"utf-8\")] for tweet in alltweets]\n",
    "\t\n",
    "\t#write the csv\t\n",
    "\twith open('%s_tweets.csv' % screen_name, 'w') as f:\n",
    "\t\twriter = csv.writer(f)\n",
    "\t\twriter.writerow([\"id\",\"created_at\",\"text\"])\n",
    "\t\twriter.writerows(outtweets)\n",
    "\t\n",
    "\tpass\n",
    "\n",
    "\n",
    "if __name__ == '__main__':\n",
    "\t#pass in the username of the account you want to download\n",
    "\tget_all_tweets(\"AppleSupport\")\n"
   ]
  },
  {
   "cell_type": "code",
   "execution_count": null,
   "metadata": {},
   "outputs": [],
   "source": []
  }
 ],
 "metadata": {
  "kernelspec": {
   "display_name": "Python 3",
   "language": "python",
   "name": "python3"
  },
  "language_info": {
   "codemirror_mode": {
    "name": "ipython",
    "version": 3
   },
   "file_extension": ".py",
   "mimetype": "text/x-python",
   "name": "python",
   "nbconvert_exporter": "python",
   "pygments_lexer": "ipython3",
   "version": "3.6.3"
  },
  "toc": {
   "nav_menu": {},
   "number_sections": true,
   "sideBar": true,
   "skip_h1_title": true,
   "toc_cell": false,
   "toc_position": {},
   "toc_section_display": "block",
   "toc_window_display": true
  }
 },
 "nbformat": 4,
 "nbformat_minor": 2
}

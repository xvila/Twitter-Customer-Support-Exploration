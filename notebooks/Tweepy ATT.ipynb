{
 "cells": [
  {
   "cell_type": "code",
   "execution_count": 3,
   "metadata": {
    "ExecuteTime": {
     "end_time": "2017-11-28T03:26:21.910721Z",
     "start_time": "2017-11-28T03:26:21.905630Z"
    }
   },
   "outputs": [],
   "source": [
    "import requests\n",
    "import cnfg\n",
    "import html\n",
    "import tweepy\n",
    "from requests_oauthlib import OAuth1 # \n",
    "import pandas as pd\n",
    "from pprint import pprint\n",
    "import csv"
   ]
  },
  {
   "cell_type": "code",
   "execution_count": 2,
   "metadata": {
    "ExecuteTime": {
     "end_time": "2017-11-28T03:26:06.053664Z",
     "start_time": "2017-11-28T03:26:06.047052Z"
    }
   },
   "outputs": [],
   "source": [
    "# Importing our Config\n",
    "# this allows us to hide our secrets\n",
    "config = cnfg.load(\".twitter_config\")\n",
    "\n",
    "#OAuth ~ simple way to authenticate\n",
    "oauth = OAuth1(config[\"consumer_key\"],\n",
    "               config[\"consumer_secret\"],\n",
    "               config[\"access_token\"],\n",
    "               config[\"access_token_secret\"])"
   ]
  },
  {
   "cell_type": "code",
   "execution_count": 7,
   "metadata": {
    "ExecuteTime": {
     "end_time": "2017-11-28T03:30:36.196372Z",
     "start_time": "2017-11-28T03:30:26.960891Z"
    }
   },
   "outputs": [
    {
     "name": "stdout",
     "output_type": "stream",
     "text": [
      "getting tweets before 934901582172512256\n",
      "...400 tweets downloaded so far\n",
      "getting tweets before 934069313522331647\n",
      "...600 tweets downloaded so far\n",
      "getting tweets before 933423718940004351\n",
      "...800 tweets downloaded so far\n",
      "getting tweets before 932754118317309951\n",
      "...1000 tweets downloaded so far\n",
      "getting tweets before 932021257138327552\n",
      "...1200 tweets downloaded so far\n",
      "getting tweets before 931547841436188671\n",
      "...1400 tweets downloaded so far\n",
      "getting tweets before 930971709955608575\n",
      "...1600 tweets downloaded so far\n",
      "getting tweets before 930957857843015679\n",
      "...1800 tweets downloaded so far\n",
      "getting tweets before 930942804481757183\n",
      "...2000 tweets downloaded so far\n",
      "getting tweets before 930930176212504575\n",
      "...2200 tweets downloaded so far\n",
      "getting tweets before 930517367314100223\n",
      "...2400 tweets downloaded so far\n",
      "getting tweets before 930085438865530880\n",
      "...2600 tweets downloaded so far\n",
      "getting tweets before 929029258588155904\n",
      "...2800 tweets downloaded so far\n",
      "getting tweets before 928329272212819968\n",
      "...3000 tweets downloaded so far\n",
      "getting tweets before 927643309396422656\n",
      "...3200 tweets downloaded so far\n",
      "getting tweets before 926640895780380671\n",
      "...3222 tweets downloaded so far\n",
      "getting tweets before 926588300722343935\n",
      "...3222 tweets downloaded so far\n"
     ]
    }
   ],
   "source": [
    "def get_all_tweets(screen_name):\n",
    "\t#Twitter only allows access to a users most recent 3240 tweets with this method\n",
    "\t\n",
    "\t#authorize twitter, initialize tweepy\n",
    "\tauth = tweepy.OAuthHandler(config[\"consumer_key\"], config[\"consumer_secret\"])\n",
    "\tauth.set_access_token(config[\"access_token\"], config[\"access_token_secret\"])\n",
    "\tapi = tweepy.API(auth)\n",
    "\t\n",
    "\t#initialize a list to hold all the tweepy Tweets\n",
    "\talltweets = []\t\n",
    "\t\n",
    "\t#make initial request for most recent tweets (200 is the maximum allowed count)\n",
    "\tnew_tweets = api.user_timeline(screen_name = screen_name,count=200)\n",
    "\t\n",
    "\t#save most recent tweets\n",
    "\talltweets.extend(new_tweets)\n",
    "\t\n",
    "\t#save the id of the oldest tweet less one\n",
    "\toldest = alltweets[-1].id - 1\n",
    "\t\n",
    "\t#keep grabbing tweets until there are no tweets left to grab\n",
    "\twhile len(new_tweets) > 0:\n",
    "\t\tprint(\"getting tweets before %s\" % (oldest))\n",
    "\t\t\n",
    "\t\t#all subsiquent requests use the max_id param to prevent duplicates\n",
    "\t\tnew_tweets = api.user_timeline(screen_name = screen_name,count=200,max_id=oldest)\n",
    "\t\t\n",
    "\t\t#save most recent tweets\n",
    "\t\talltweets.extend(new_tweets)\n",
    "\t\t\n",
    "\t\t#update the id of the oldest tweet less one\n",
    "\t\toldest = alltweets[-1].id - 1\n",
    "\t\t\n",
    "\t\tprint(\"...%s tweets downloaded so far\" % (len(alltweets)))\n",
    "\t\n",
    "\t#transform the tweepy tweets into a 2D array that will populate the csv\t\n",
    "\touttweets = [[tweet.id_str, tweet.created_at, tweet.text.encode(\"utf-8\")] for tweet in alltweets]\n",
    "\t\n",
    "\t#write the csv\t\n",
    "\twith open('%s_tweets.csv' % screen_name, 'w') as f:\n",
    "\t\twriter = csv.writer(f)\n",
    "\t\twriter.writerow([\"id\",\"created_at\",\"text\"])\n",
    "\t\twriter.writerows(outtweets)\n",
    "\t\n",
    "\tpass\n",
    "\n",
    "\n",
    "if __name__ == '__main__':\n",
    "\t#pass in the username of the account you want to download\n",
    "\tget_all_tweets(\"ATTCares\")\n"
   ]
  },
  {
   "cell_type": "code",
   "execution_count": null,
   "metadata": {},
   "outputs": [],
   "source": []
  }
 ],
 "metadata": {
  "kernelspec": {
   "display_name": "Python 3",
   "language": "python",
   "name": "python3"
  },
  "language_info": {
   "codemirror_mode": {
    "name": "ipython",
    "version": 3
   },
   "file_extension": ".py",
   "mimetype": "text/x-python",
   "name": "python",
   "nbconvert_exporter": "python",
   "pygments_lexer": "ipython3",
   "version": "3.6.3"
  },
  "toc": {
   "nav_menu": {},
   "number_sections": true,
   "sideBar": true,
   "skip_h1_title": true,
   "toc_cell": false,
   "toc_position": {},
   "toc_section_display": "block",
   "toc_window_display": true
  }
 },
 "nbformat": 4,
 "nbformat_minor": 2
}

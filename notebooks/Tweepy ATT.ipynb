{
 "cells": [
  {
   "cell_type": "code",
   "execution_count": 1,
   "metadata": {
    "ExecuteTime": {
     "end_time": "2017-12-07T17:47:51.811197Z",
     "start_time": "2017-12-07T17:47:51.542254Z"
    }
   },
   "outputs": [],
   "source": [
    "import requests\n",
    "import cnfg\n",
    "import html\n",
    "import tweepy\n",
    "from requests_oauthlib import OAuth1 # \n",
    "import pandas as pd\n",
    "from pprint import pprint\n",
    "import csv"
   ]
  },
  {
   "cell_type": "code",
   "execution_count": 2,
   "metadata": {
    "ExecuteTime": {
     "end_time": "2017-12-07T17:47:52.594512Z",
     "start_time": "2017-12-07T17:47:52.590685Z"
    }
   },
   "outputs": [],
   "source": [
    "# Importing our Config\n",
    "# this allows us to hide our secrets\n",
    "config = cnfg.load(\".twitter_config\")\n",
    "\n",
    "#OAuth ~ simple way to authenticate\n",
    "oauth = OAuth1(config[\"consumer_key\"],\n",
    "               config[\"consumer_secret\"],\n",
    "               config[\"access_token\"],\n",
    "               config[\"access_token_secret\"])"
   ]
  },
  {
   "cell_type": "code",
   "execution_count": 3,
   "metadata": {
    "ExecuteTime": {
     "end_time": "2017-12-07T17:48:15.811611Z",
     "start_time": "2017-12-07T17:48:15.807880Z"
    }
   },
   "outputs": [],
   "source": [
    "#authorize twitter, initialize tweepy\n",
    "auth = tweepy.OAuthHandler(config[\"consumer_key\"], config[\"consumer_secret\"])\n",
    "auth.set_access_token(config[\"access_token\"], config[\"access_token_secret\"])\n",
    "api = tweepy.API(auth)"
   ]
  },
  {
   "cell_type": "code",
   "execution_count": 36,
   "metadata": {
    "ExecuteTime": {
     "end_time": "2017-12-07T18:22:19.413222Z",
     "start_time": "2017-12-07T18:22:19.411197Z"
    }
   },
   "outputs": [],
   "source": [
    "# q = \"@Apple is really trying me this year. First my laptop decides to quit on me, then my Apple Watch and now my iPhone 7 is bugging wtf ?!?\""
   ]
  },
  {
   "cell_type": "code",
   "execution_count": 35,
   "metadata": {
    "ExecuteTime": {
     "end_time": "2017-12-07T18:22:14.384402Z",
     "start_time": "2017-12-07T18:22:14.382324Z"
    }
   },
   "outputs": [],
   "source": [
    "# results = api.search(q=\"@Apple is really trying me this year. First my laptop decides to quit on me, then my Apple Watch and now my iPhone 7 is bugging wtf ?!?\")"
   ]
  },
  {
   "cell_type": "code",
   "execution_count": 8,
   "metadata": {
    "ExecuteTime": {
     "end_time": "2017-12-07T17:54:02.839460Z",
     "start_time": "2017-12-07T17:54:02.837435Z"
    }
   },
   "outputs": [],
   "source": [
    "#tweet = api.get_status(tweet_id)"
   ]
  },
  {
   "cell_type": "code",
   "execution_count": 30,
   "metadata": {
    "ExecuteTime": {
     "end_time": "2017-12-07T18:20:39.329952Z",
     "start_time": "2017-12-07T18:20:39.067877Z"
    }
   },
   "outputs": [],
   "source": [
    "for tweet in tweepy.Cursor(api.search,q=q,count=1,result_type=\"recent\",include_entities=True,lang=\"en\").items():\n",
    "    test = tweet._json"
   ]
  },
  {
   "cell_type": "code",
   "execution_count": 33,
   "metadata": {
    "ExecuteTime": {
     "end_time": "2017-12-07T18:21:11.901321Z",
     "start_time": "2017-12-07T18:21:11.898274Z"
    }
   },
   "outputs": [
    {
     "data": {
      "text/plain": [
       "'theurbansquare'"
      ]
     },
     "execution_count": 33,
     "metadata": {},
     "output_type": "execute_result"
    }
   ],
   "source": [
    "test['user']['screen_name']"
   ]
  },
  {
   "cell_type": "code",
   "execution_count": 34,
   "metadata": {
    "ExecuteTime": {
     "end_time": "2017-12-07T18:21:34.299998Z",
     "start_time": "2017-12-07T18:21:34.293468Z"
    }
   },
   "outputs": [
    {
     "ename": "AttributeError",
     "evalue": "'SearchResults' object has no attribute '_json'",
     "output_type": "error",
     "traceback": [
      "\u001b[0;31m---------------------------------------------------------------------------\u001b[0m",
      "\u001b[0;31mAttributeError\u001b[0m                            Traceback (most recent call last)",
      "\u001b[0;32m<ipython-input-34-e22ea1845883>\u001b[0m in \u001b[0;36m<module>\u001b[0;34m()\u001b[0m\n\u001b[0;32m----> 1\u001b[0;31m \u001b[0mresults\u001b[0m\u001b[0;34m.\u001b[0m\u001b[0m_json\u001b[0m\u001b[0;34m\u001b[0m\u001b[0m\n\u001b[0m",
      "\u001b[0;31mAttributeError\u001b[0m: 'SearchResults' object has no attribute '_json'"
     ]
    }
   ],
   "source": [
    "results._json"
   ]
  },
  {
   "cell_type": "code",
   "execution_count": 10,
   "metadata": {
    "ExecuteTime": {
     "end_time": "2017-12-04T19:52:45.491832Z",
     "start_time": "2017-12-04T19:52:39.262327Z"
    }
   },
   "outputs": [
    {
     "name": "stdout",
     "output_type": "stream",
     "text": [
      "getting tweets before 937745742462115839\n",
      "...400 tweets downloaded so far\n",
      "getting tweets before 937717886633816063\n",
      "...600 tweets downloaded so far\n",
      "getting tweets before 937702535250563074\n",
      "...800 tweets downloaded so far\n",
      "getting tweets before 937683932736294911\n",
      "...1000 tweets downloaded so far\n",
      "getting tweets before 937518019458281471\n",
      "...1200 tweets downloaded so far\n",
      "getting tweets before 937465723194150911\n",
      "...1400 tweets downloaded so far\n",
      "getting tweets before 937420295828332545\n",
      "...1600 tweets downloaded so far\n",
      "getting tweets before 937393626711240704\n",
      "...1800 tweets downloaded so far\n",
      "getting tweets before 937364424037462016\n",
      "...2000 tweets downloaded so far\n",
      "getting tweets before 937343921147011071\n",
      "...2200 tweets downloaded so far\n",
      "getting tweets before 937320264408424448\n",
      "...2400 tweets downloaded so far\n",
      "getting tweets before 937151771927089151\n",
      "...2600 tweets downloaded so far\n",
      "getting tweets before 937119190594580479\n",
      "...2800 tweets downloaded so far\n",
      "getting tweets before 937084590916857855\n",
      "...3000 tweets downloaded so far\n",
      "getting tweets before 937070729669070847\n",
      "...3200 tweets downloaded so far\n",
      "getting tweets before 937060924413894656\n",
      "...3247 tweets downloaded so far\n",
      "getting tweets before 937058541550043135\n",
      "...3247 tweets downloaded so far\n"
     ]
    }
   ],
   "source": [
    "def get_all_tweets(screen_name):\n",
    "\t#Twitter only allows access to a users most recent 3240 tweets with this method\n",
    "\t\n",
    "\t#authorize twitter, initialize tweepy\n",
    "\tauth = tweepy.OAuthHandler(config[\"consumer_key\"], config[\"consumer_secret\"])\n",
    "\tauth.set_access_token(config[\"access_token\"], config[\"access_token_secret\"])\n",
    "\tapi = tweepy.API(auth)\n",
    "\t\n",
    "\t#initialize a list to hold all the tweepy Tweets\n",
    "\talltweets = []\t\n",
    "\t\n",
    "\t#make initial request for most recent tweets (200 is the maximum allowed count)\n",
    "\tnew_tweets = api.user_timeline(screen_name = screen_name,count=200)\n",
    "\t\n",
    "\t#save most recent tweets\n",
    "\talltweets.extend(new_tweets)\n",
    "\t\n",
    "\t#save the id of the oldest tweet less one\n",
    "\toldest = alltweets[-1].id - 1\n",
    "\t\n",
    "\t#keep grabbing tweets until there are no tweets left to grab\n",
    "\twhile len(new_tweets) > 0:\n",
    "\t\tprint(\"getting tweets before %s\" % (oldest))\n",
    "\t\t\n",
    "\t\t#all subsiquent requests use the max_id param to prevent duplicates\n",
    "\t\tnew_tweets = api.user_timeline(screen_name = screen_name,count=200,max_id=oldest)\n",
    "\t\t\n",
    "\t\t#save most recent tweets\n",
    "\t\talltweets.extend(new_tweets)\n",
    "\t\t\n",
    "\t\t#update the id of the oldest tweet less one\n",
    "\t\toldest = alltweets[-1].id - 1\n",
    "\t\t\n",
    "\t\tprint(\"...%s tweets downloaded so far\" % (len(alltweets)))\n",
    "\t\n",
    "\t#transform the tweepy tweets into a 2D array that will populate the csv\t\n",
    "\touttweets = [[tweet.id_str, tweet.created_at, tweet.text.encode(\"utf-8\")] for tweet in alltweets]\n",
    "\t\n",
    "\t#write the csv\t\n",
    "\twith open('%s_tweets.csv' % screen_name, 'w') as f:\n",
    "\t\twriter = csv.writer(f)\n",
    "\t\twriter.writerow([\"id\",\"created_at\",\"text\"])\n",
    "\t\twriter.writerows(outtweets)\n",
    "\t\n",
    "\tpass\n",
    "\n",
    "\n",
    "if __name__ == '__main__':\n",
    "\t#pass in the username of the account you want to download\n",
    "\tget_all_tweets(\"AppleSupport\")\n"
   ]
  },
  {
   "cell_type": "code",
   "execution_count": null,
   "metadata": {},
   "outputs": [],
   "source": []
  }
 ],
 "metadata": {
  "kernelspec": {
   "display_name": "Python 3",
   "language": "python",
   "name": "python3"
  },
  "language_info": {
   "codemirror_mode": {
    "name": "ipython",
    "version": 3
   },
   "file_extension": ".py",
   "mimetype": "text/x-python",
   "name": "python",
   "nbconvert_exporter": "python",
   "pygments_lexer": "ipython3",
   "version": "3.6.3"
  },
  "toc": {
   "nav_menu": {},
   "number_sections": true,
   "sideBar": true,
   "skip_h1_title": true,
   "toc_cell": false,
   "toc_position": {},
   "toc_section_display": "block",
   "toc_window_display": true
  }
 },
 "nbformat": 4,
 "nbformat_minor": 2
}

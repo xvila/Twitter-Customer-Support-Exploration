{
 "cells": [
  {
   "cell_type": "code",
   "execution_count": 1,
   "metadata": {
    "ExecuteTime": {
     "end_time": "2017-11-26T02:30:29.283733Z",
     "start_time": "2017-11-26T02:30:26.639435Z"
    }
   },
   "outputs": [],
   "source": [
    "import pandas as pd\n",
    "import numpy as np\n",
    "from textblob import TextBlob\n",
    "import nltk\n",
    "import re\n",
    "from nltk.corpus import stopwords\n",
    "from sklearn.feature_extraction.text import TfidfVectorizer\n",
    "from sklearn.feature_extraction.text import CountVectorizer\n",
    "from nltk.stem.wordnet import WordNetLemmatizer\n",
    "from sklearn.decomposition import NMF\n",
    "from nltk.tokenize import sent_tokenize\n",
    "from nltk.tokenize import word_tokenize\n",
    "from nltk.tokenize import TweetTokenizer\n",
    "from sklearn.externals import joblib\n",
    "\n",
    "import string\n",
    "\n",
    "%matplotlib inline\n",
    "import seaborn as sns\n",
    "import matplotlib.pyplot as plt\n",
    "plt.style.use('fivethirtyeight')"
   ]
  },
  {
   "cell_type": "code",
   "execution_count": 2,
   "metadata": {
    "ExecuteTime": {
     "end_time": "2017-11-26T02:30:29.298184Z",
     "start_time": "2017-11-26T02:30:29.285112Z"
    }
   },
   "outputs": [],
   "source": [
    "companies = ['nikesupport','xboxsupport','upshelp','comcastcares','amazonhelp','jetblue','americanair',\n",
    "             'tacobellteam','mcdonalds','kimpton','ihgservice','spotifycares','hiltonhelp','applesupport',\n",
    "             'microsofthelps','googleplaymusic','scsupport','pandorasupport','hoteltonightcx','dunkindonuts',\n",
    "             'jackbox','chipotletweets','askpanera','carlsjr','att','tmobilehelp','sprintcare','verizonsupport',\n",
    "             'boostcare','uscellularcares','alaskaair','virginamerica','virginatlantic','delta','british_airways',\n",
    "             'southwestair','awssupport','twittersupport','askplaystation','neweggservice','dropboxsupport',\n",
    "             'hpsupport','atviassist','azuresupport','nortonsupport','dellcares','hulu_support','askrobinhood',\n",
    "             'officesupport','arbyscares','pearsonsupport','yahoocare','idea_cares','airtel_care','coxhelp',\n",
    "             'kfc_uki_help','asurioncares','adobecare','glocare','sizehelpteam','airasiasupport','safaricom_care',\n",
    "             'oppocarein','bofa_help','chasesupport','askciti','ask_wellsfargo','keybank_help','moo','centurylinkhelp',\n",
    "             'mediatemplehelp','godaddyhelp','postmates_help','doordash_help','airbnbhelp','uber_support','asklyft',\n",
    "             'askseagate','ask_spectrum','askpaypal','asksalesforce','askvirginmoney','askdsc','askpapajohns','askrbc',\n",
    "             'askebay','asktigogh','vmucare','askamex','ask_progressive','mtnc_care','askvisa','tesco','sainsburys',\n",
    "             'walmart','asktarget','morrisons','aldiuk','argoshelpers','greggsofficial','marksandspencer','virgintrains',\n",
    "             'nationalrailenq','sw_help','londonmidland','gwrhelp','tfl','o2']"
   ]
  },
  {
   "cell_type": "markdown",
   "metadata": {
    "ExecuteTime": {
     "end_time": "2017-11-25T02:11:37.044837Z",
     "start_time": "2017-11-25T02:11:37.042179Z"
    }
   },
   "source": [
    "## Functions"
   ]
  },
  {
   "cell_type": "markdown",
   "metadata": {
    "ExecuteTime": {
     "end_time": "2017-11-25T02:11:45.056560Z",
     "start_time": "2017-11-25T02:11:45.054275Z"
    }
   },
   "source": [
    "### Display Topics"
   ]
  },
  {
   "cell_type": "code",
   "execution_count": 3,
   "metadata": {
    "ExecuteTime": {
     "end_time": "2017-11-26T02:30:35.842227Z",
     "start_time": "2017-11-26T02:30:35.837442Z"
    }
   },
   "outputs": [],
   "source": [
    "def display_topics(model, feature_names, no_top_words):\n",
    "    for topic_idx, topic in enumerate(model.components_):\n",
    "        print (\"Topic %d:\" % (topic_idx))\n",
    "        print (\" \".join([feature_names[i]\n",
    "                        for i in topic.argsort()[:-no_top_words - 1:-1]]))"
   ]
  },
  {
   "cell_type": "code",
   "execution_count": 5,
   "metadata": {
    "ExecuteTime": {
     "end_time": "2017-11-26T02:30:45.426857Z",
     "start_time": "2017-11-26T02:30:45.419284Z"
    }
   },
   "outputs": [],
   "source": [
    "def display_topics2(H, W, feature_names, documents, no_top_words, no_top_documents):\n",
    "    for topic_idx, topic in enumerate(H):\n",
    "        print(\"Topic %d:\" % (topic_idx))\n",
    "        print(\" \".join([feature_names[i]\n",
    "                        for i in topic.argsort()[:-no_top_words - 1:-1]]))\n",
    "        top_doc_indices = np.argsort( W[:,topic_idx] )[::-1][0:no_top_documents]\n",
    "        for doc_index in top_doc_indices:\n",
    "            print(documents[doc_index])"
   ]
  },
  {
   "cell_type": "markdown",
   "metadata": {},
   "source": [
    "### Get Topics"
   ]
  },
  {
   "cell_type": "code",
   "execution_count": 6,
   "metadata": {
    "ExecuteTime": {
     "end_time": "2017-11-26T02:30:47.675628Z",
     "start_time": "2017-11-26T02:30:47.667687Z"
    }
   },
   "outputs": [],
   "source": [
    "def get_topics(companies,k,d):\n",
    "    ''' Takes a list of companies and runs nmf on tweets from each company \n",
    "    and then runs NMF to get the topics. Returns a dictionary with company as key\n",
    "    and list of topic words as values.\n",
    "    \n",
    "    Parameters:\n",
    "    companies: list of companies. \n",
    "    k: components for nmf\n",
    "    d: dataframe containing tweets'''\n",
    "    \n",
    "    \n",
    "    \n",
    "    tf = TfidfVectorizer(stop_words=stop,use_idf=True,token_pattern=\"\\\\b[a-z][a-z]+\\\\b\",max_df=.8,min_df=.05)\n",
    "    x = tf.fit_transform(appleDF.text)\n",
    "    tf_feature_names = tf.get_feature_names()\n",
    "    nmf = NMF(n_components=k, init='random')\n",
    "    nmf_fit = nmf.fit_transform(x)"
   ]
  },
  {
   "cell_type": "markdown",
   "metadata": {},
   "source": [
    "### Stop Words"
   ]
  },
  {
   "cell_type": "code",
   "execution_count": 66,
   "metadata": {
    "ExecuteTime": {
     "end_time": "2017-11-26T02:41:39.537484Z",
     "start_time": "2017-11-26T02:41:39.532092Z"
    }
   },
   "outputs": [],
   "source": [
    "stop = set(stopwords.words('english')+ \\\n",
    "    ['rt', 'climate', 'change', 'global', 'warming', 'climatechange', 'climate', 'globalwarming',\n",
    "        'amp', 'via', 'one', 'around', 'would', 'let', 'could', 'going', 'like', 'get', 'may', 'says', 'say', 'make',\n",
    "        'based', 'even', 'another', 'completely', 'thanks', 'way', 'find', 'used', 'thing', '2017', 'see', 'need',\n",
    "        'know','knows', 'think', 'thinks', 'take', 'new', 'day', 'days','https','co','dm','us','look',\n",
    "    'want','send']+companies)\n"
   ]
  },
  {
   "cell_type": "code",
   "execution_count": 47,
   "metadata": {
    "ExecuteTime": {
     "end_time": "2017-11-26T02:38:36.447926Z",
     "start_time": "2017-11-26T02:38:36.445295Z"
    }
   },
   "outputs": [],
   "source": [
    "exclude = set(string.punctuation)"
   ]
  },
  {
   "cell_type": "code",
   "execution_count": 48,
   "metadata": {
    "ExecuteTime": {
     "end_time": "2017-11-26T02:38:37.326439Z",
     "start_time": "2017-11-26T02:38:37.323708Z"
    }
   },
   "outputs": [],
   "source": [
    "lemma = WordNetLemmatizer()"
   ]
  },
  {
   "cell_type": "code",
   "execution_count": 49,
   "metadata": {
    "ExecuteTime": {
     "end_time": "2017-11-26T02:38:38.399980Z",
     "start_time": "2017-11-26T02:38:38.256098Z"
    }
   },
   "outputs": [],
   "source": [
    "english_vocab = set(w.lower() for w in nltk.corpus.words.words())"
   ]
  },
  {
   "cell_type": "markdown",
   "metadata": {},
   "source": [
    "### Lemmatize and Tokenize"
   ]
  },
  {
   "cell_type": "code",
   "execution_count": 11,
   "metadata": {
    "ExecuteTime": {
     "end_time": "2017-11-26T02:30:50.354617Z",
     "start_time": "2017-11-26T02:30:50.349629Z"
    }
   },
   "outputs": [],
   "source": [
    "def clean(doc):\n",
    "    stop_free = \" \".join([i for i in doc.lower().split() if i not in stop])\n",
    "    punc_free = ''.join(ch for ch in stop_free if ch not in exclude)\n",
    "    normalized = \" \".join(lemma.lemmatize(word) for word in punc_free.split())\n",
    "    return normalized"
   ]
  },
  {
   "cell_type": "markdown",
   "metadata": {},
   "source": [
    "### Process Tweet Text"
   ]
  },
  {
   "cell_type": "code",
   "execution_count": 12,
   "metadata": {
    "ExecuteTime": {
     "end_time": "2017-11-26T02:30:51.949287Z",
     "start_time": "2017-11-26T02:30:51.940484Z"
    }
   },
   "outputs": [],
   "source": [
    "def process_tweet_text(tweet):\n",
    "    if tweet.startswith('@null'):\n",
    "        return \"[Tweet not available]\"\n",
    "    tweet = re.sub(r'\\$\\w*','',tweet) # Remove tickers\n",
    "    tweet = re.sub(r'https?:\\/\\/.*\\/\\w*','',tweet) # Remove hyperlinks\n",
    "    tweet = re.sub(r'['+string.punctuation+']+', ' ',tweet) # Remove puncutations like 's\n",
    "    twtok = TweetTokenizer(strip_handles=True, reduce_len=True)\n",
    "    tokens = twtok.tokenize(tweet)\n",
    "    tokens = [i.lower() for i in tokens if i not in stop and len(i) > 2 and  \n",
    "                                             i in english_vocab]\n",
    "    return \",\".join(tokens)"
   ]
  },
  {
   "cell_type": "markdown",
   "metadata": {},
   "source": [
    "## Import Data"
   ]
  },
  {
   "cell_type": "code",
   "execution_count": 5,
   "metadata": {
    "ExecuteTime": {
     "end_time": "2017-11-24T21:13:18.552518Z",
     "start_time": "2017-11-24T21:13:12.966875Z"
    }
   },
   "outputs": [],
   "source": [
    "df = pd.read_csv('../data/twcs.csv')"
   ]
  },
  {
   "cell_type": "markdown",
   "metadata": {},
   "source": [
    "## EDA"
   ]
  },
  {
   "cell_type": "code",
   "execution_count": 6,
   "metadata": {
    "ExecuteTime": {
     "end_time": "2017-11-24T21:13:20.158864Z",
     "start_time": "2017-11-24T21:13:20.153173Z"
    }
   },
   "outputs": [
    {
     "data": {
      "text/plain": [
       "(2225821, 7)"
      ]
     },
     "execution_count": 6,
     "metadata": {},
     "output_type": "execute_result"
    }
   ],
   "source": [
    "df.shape"
   ]
  },
  {
   "cell_type": "code",
   "execution_count": 7,
   "metadata": {
    "ExecuteTime": {
     "end_time": "2017-11-24T21:13:25.392936Z",
     "start_time": "2017-11-24T21:13:25.388618Z"
    }
   },
   "outputs": [
    {
     "data": {
      "text/plain": [
       "['tweet_id',\n",
       " 'author_id',\n",
       " 'inbound',\n",
       " 'created_at',\n",
       " 'text',\n",
       " 'response_tweet_id',\n",
       " 'in_response_to_tweet_id']"
      ]
     },
     "execution_count": 7,
     "metadata": {},
     "output_type": "execute_result"
    }
   ],
   "source": [
    "df.columns.tolist()"
   ]
  },
  {
   "cell_type": "code",
   "execution_count": 8,
   "metadata": {
    "ExecuteTime": {
     "end_time": "2017-11-24T21:13:28.286890Z",
     "start_time": "2017-11-24T21:13:28.265785Z"
    }
   },
   "outputs": [
    {
     "data": {
      "text/html": [
       "<div>\n",
       "<style scoped>\n",
       "    .dataframe tbody tr th:only-of-type {\n",
       "        vertical-align: middle;\n",
       "    }\n",
       "\n",
       "    .dataframe tbody tr th {\n",
       "        vertical-align: top;\n",
       "    }\n",
       "\n",
       "    .dataframe thead th {\n",
       "        text-align: right;\n",
       "    }\n",
       "</style>\n",
       "<table border=\"1\" class=\"dataframe\">\n",
       "  <thead>\n",
       "    <tr style=\"text-align: right;\">\n",
       "      <th></th>\n",
       "      <th>tweet_id</th>\n",
       "      <th>author_id</th>\n",
       "      <th>inbound</th>\n",
       "      <th>created_at</th>\n",
       "      <th>text</th>\n",
       "      <th>response_tweet_id</th>\n",
       "      <th>in_response_to_tweet_id</th>\n",
       "    </tr>\n",
       "  </thead>\n",
       "  <tbody>\n",
       "    <tr>\n",
       "      <th>0</th>\n",
       "      <td>1</td>\n",
       "      <td>VirginAtlantic</td>\n",
       "      <td>False</td>\n",
       "      <td>Wed Oct 04 22:37:58 +0000 2017</td>\n",
       "      <td>@95932 Hmmm they may be full. Have you tried b...</td>\n",
       "      <td>2</td>\n",
       "      <td>3.0</td>\n",
       "    </tr>\n",
       "    <tr>\n",
       "      <th>1</th>\n",
       "      <td>2</td>\n",
       "      <td>95932</td>\n",
       "      <td>True</td>\n",
       "      <td>Wed Oct 04 22:55:58 +0000 2017</td>\n",
       "      <td>@VirginAtlantic Sure have. Nothing comes up at...</td>\n",
       "      <td>4</td>\n",
       "      <td>1.0</td>\n",
       "    </tr>\n",
       "    <tr>\n",
       "      <th>2</th>\n",
       "      <td>4</td>\n",
       "      <td>VirginAtlantic</td>\n",
       "      <td>False</td>\n",
       "      <td>Wed Oct 04 23:00:12 +0000 2017</td>\n",
       "      <td>@95932 I'm going to report this then. It sound...</td>\n",
       "      <td>NaN</td>\n",
       "      <td>2.0</td>\n",
       "    </tr>\n",
       "    <tr>\n",
       "      <th>3</th>\n",
       "      <td>3</td>\n",
       "      <td>95932</td>\n",
       "      <td>True</td>\n",
       "      <td>Wed Oct 04 22:36:35 +0000 2017</td>\n",
       "      <td>@VirginAtlantic Yes, nothing comes up 🙁</td>\n",
       "      <td>1</td>\n",
       "      <td>5.0</td>\n",
       "    </tr>\n",
       "    <tr>\n",
       "      <th>4</th>\n",
       "      <td>5</td>\n",
       "      <td>VirginAtlantic</td>\n",
       "      <td>False</td>\n",
       "      <td>Wed Oct 04 20:15:59 +0000 2017</td>\n",
       "      <td>@95932 Have you tried towards the end of March...</td>\n",
       "      <td>3</td>\n",
       "      <td>6.0</td>\n",
       "    </tr>\n",
       "  </tbody>\n",
       "</table>\n",
       "</div>"
      ],
      "text/plain": [
       "   tweet_id       author_id  inbound                      created_at  \\\n",
       "0         1  VirginAtlantic    False  Wed Oct 04 22:37:58 +0000 2017   \n",
       "1         2           95932     True  Wed Oct 04 22:55:58 +0000 2017   \n",
       "2         4  VirginAtlantic    False  Wed Oct 04 23:00:12 +0000 2017   \n",
       "3         3           95932     True  Wed Oct 04 22:36:35 +0000 2017   \n",
       "4         5  VirginAtlantic    False  Wed Oct 04 20:15:59 +0000 2017   \n",
       "\n",
       "                                                text response_tweet_id  \\\n",
       "0  @95932 Hmmm they may be full. Have you tried b...                 2   \n",
       "1  @VirginAtlantic Sure have. Nothing comes up at...                 4   \n",
       "2  @95932 I'm going to report this then. It sound...               NaN   \n",
       "3            @VirginAtlantic Yes, nothing comes up 🙁                 1   \n",
       "4  @95932 Have you tried towards the end of March...                 3   \n",
       "\n",
       "   in_response_to_tweet_id  \n",
       "0                      3.0  \n",
       "1                      1.0  \n",
       "2                      2.0  \n",
       "3                      5.0  \n",
       "4                      6.0  "
      ]
     },
     "execution_count": 8,
     "metadata": {},
     "output_type": "execute_result"
    }
   ],
   "source": [
    "df.head()"
   ]
  },
  {
   "cell_type": "code",
   "execution_count": 9,
   "metadata": {
    "ExecuteTime": {
     "end_time": "2017-11-24T21:13:32.115072Z",
     "start_time": "2017-11-24T21:13:32.105706Z"
    }
   },
   "outputs": [
    {
     "name": "stdout",
     "output_type": "stream",
     "text": [
      "<class 'pandas.core.frame.DataFrame'>\n",
      "RangeIndex: 2225821 entries, 0 to 2225820\n",
      "Data columns (total 7 columns):\n",
      "tweet_id                   int64\n",
      "author_id                  object\n",
      "inbound                    bool\n",
      "created_at                 object\n",
      "text                       object\n",
      "response_tweet_id          object\n",
      "in_response_to_tweet_id    float64\n",
      "dtypes: bool(1), float64(1), int64(1), object(4)\n",
      "memory usage: 104.0+ MB\n"
     ]
    }
   ],
   "source": [
    "df.info()"
   ]
  },
  {
   "cell_type": "code",
   "execution_count": 10,
   "metadata": {
    "ExecuteTime": {
     "end_time": "2017-11-24T21:20:49.796333Z",
     "start_time": "2017-11-24T21:13:36.963430Z"
    }
   },
   "outputs": [],
   "source": [
    "df['date'] = pd.to_datetime(df.created_at)"
   ]
  },
  {
   "cell_type": "code",
   "execution_count": 11,
   "metadata": {
    "ExecuteTime": {
     "end_time": "2017-11-24T21:20:53.932728Z",
     "start_time": "2017-11-24T21:20:49.797909Z"
    }
   },
   "outputs": [],
   "source": [
    "df.to_pickle('../data/tweets.pkl')"
   ]
  },
  {
   "cell_type": "markdown",
   "metadata": {},
   "source": [
    "### Import Pickle"
   ]
  },
  {
   "cell_type": "code",
   "execution_count": 13,
   "metadata": {
    "ExecuteTime": {
     "end_time": "2017-11-26T02:31:00.358188Z",
     "start_time": "2017-11-26T02:30:56.384134Z"
    }
   },
   "outputs": [],
   "source": [
    "df = pd.read_pickle('../data/tweets.pkl')"
   ]
  },
  {
   "cell_type": "code",
   "execution_count": 14,
   "metadata": {
    "ExecuteTime": {
     "end_time": "2017-11-26T02:31:00.541932Z",
     "start_time": "2017-11-26T02:31:00.359523Z"
    }
   },
   "outputs": [],
   "source": [
    "df.drop('created_at',axis=1,inplace=True)"
   ]
  },
  {
   "cell_type": "code",
   "execution_count": 15,
   "metadata": {
    "ExecuteTime": {
     "end_time": "2017-11-26T02:31:00.562039Z",
     "start_time": "2017-11-26T02:31:00.543294Z"
    }
   },
   "outputs": [
    {
     "data": {
      "text/html": [
       "<div>\n",
       "<style scoped>\n",
       "    .dataframe tbody tr th:only-of-type {\n",
       "        vertical-align: middle;\n",
       "    }\n",
       "\n",
       "    .dataframe tbody tr th {\n",
       "        vertical-align: top;\n",
       "    }\n",
       "\n",
       "    .dataframe thead th {\n",
       "        text-align: right;\n",
       "    }\n",
       "</style>\n",
       "<table border=\"1\" class=\"dataframe\">\n",
       "  <thead>\n",
       "    <tr style=\"text-align: right;\">\n",
       "      <th></th>\n",
       "      <th>tweet_id</th>\n",
       "      <th>author_id</th>\n",
       "      <th>inbound</th>\n",
       "      <th>text</th>\n",
       "      <th>response_tweet_id</th>\n",
       "      <th>in_response_to_tweet_id</th>\n",
       "      <th>date</th>\n",
       "    </tr>\n",
       "  </thead>\n",
       "  <tbody>\n",
       "    <tr>\n",
       "      <th>0</th>\n",
       "      <td>1</td>\n",
       "      <td>VirginAtlantic</td>\n",
       "      <td>False</td>\n",
       "      <td>@95932 Hmmm they may be full. Have you tried b...</td>\n",
       "      <td>2</td>\n",
       "      <td>3.0</td>\n",
       "      <td>2017-10-04 22:37:58</td>\n",
       "    </tr>\n",
       "    <tr>\n",
       "      <th>1</th>\n",
       "      <td>2</td>\n",
       "      <td>95932</td>\n",
       "      <td>True</td>\n",
       "      <td>@VirginAtlantic Sure have. Nothing comes up at...</td>\n",
       "      <td>4</td>\n",
       "      <td>1.0</td>\n",
       "      <td>2017-10-04 22:55:58</td>\n",
       "    </tr>\n",
       "    <tr>\n",
       "      <th>2</th>\n",
       "      <td>4</td>\n",
       "      <td>VirginAtlantic</td>\n",
       "      <td>False</td>\n",
       "      <td>@95932 I'm going to report this then. It sound...</td>\n",
       "      <td>NaN</td>\n",
       "      <td>2.0</td>\n",
       "      <td>2017-10-04 23:00:12</td>\n",
       "    </tr>\n",
       "    <tr>\n",
       "      <th>3</th>\n",
       "      <td>3</td>\n",
       "      <td>95932</td>\n",
       "      <td>True</td>\n",
       "      <td>@VirginAtlantic Yes, nothing comes up 🙁</td>\n",
       "      <td>1</td>\n",
       "      <td>5.0</td>\n",
       "      <td>2017-10-04 22:36:35</td>\n",
       "    </tr>\n",
       "    <tr>\n",
       "      <th>4</th>\n",
       "      <td>5</td>\n",
       "      <td>VirginAtlantic</td>\n",
       "      <td>False</td>\n",
       "      <td>@95932 Have you tried towards the end of March...</td>\n",
       "      <td>3</td>\n",
       "      <td>6.0</td>\n",
       "      <td>2017-10-04 20:15:59</td>\n",
       "    </tr>\n",
       "  </tbody>\n",
       "</table>\n",
       "</div>"
      ],
      "text/plain": [
       "   tweet_id       author_id  inbound  \\\n",
       "0         1  VirginAtlantic    False   \n",
       "1         2           95932     True   \n",
       "2         4  VirginAtlantic    False   \n",
       "3         3           95932     True   \n",
       "4         5  VirginAtlantic    False   \n",
       "\n",
       "                                                text response_tweet_id  \\\n",
       "0  @95932 Hmmm they may be full. Have you tried b...                 2   \n",
       "1  @VirginAtlantic Sure have. Nothing comes up at...                 4   \n",
       "2  @95932 I'm going to report this then. It sound...               NaN   \n",
       "3            @VirginAtlantic Yes, nothing comes up 🙁                 1   \n",
       "4  @95932 Have you tried towards the end of March...                 3   \n",
       "\n",
       "   in_response_to_tweet_id                date  \n",
       "0                      3.0 2017-10-04 22:37:58  \n",
       "1                      1.0 2017-10-04 22:55:58  \n",
       "2                      2.0 2017-10-04 23:00:12  \n",
       "3                      5.0 2017-10-04 22:36:35  \n",
       "4                      6.0 2017-10-04 20:15:59  "
      ]
     },
     "execution_count": 15,
     "metadata": {},
     "output_type": "execute_result"
    }
   ],
   "source": [
    "df.head()"
   ]
  },
  {
   "cell_type": "code",
   "execution_count": 16,
   "metadata": {
    "ExecuteTime": {
     "end_time": "2017-11-26T02:31:00.638819Z",
     "start_time": "2017-11-26T02:31:00.563285Z"
    }
   },
   "outputs": [],
   "source": [
    "df['month'] = df.date.dt.month"
   ]
  },
  {
   "cell_type": "markdown",
   "metadata": {},
   "source": [
    "### Date Range"
   ]
  },
  {
   "cell_type": "code",
   "execution_count": 21,
   "metadata": {
    "ExecuteTime": {
     "end_time": "2017-11-25T22:39:39.661067Z",
     "start_time": "2017-11-25T22:39:39.643006Z"
    }
   },
   "outputs": [
    {
     "data": {
      "text/plain": [
       "Timestamp('2008-05-08 20:13:59')"
      ]
     },
     "execution_count": 21,
     "metadata": {},
     "output_type": "execute_result"
    }
   ],
   "source": [
    "df.date.min()"
   ]
  },
  {
   "cell_type": "code",
   "execution_count": 22,
   "metadata": {
    "ExecuteTime": {
     "end_time": "2017-11-25T22:39:40.150131Z",
     "start_time": "2017-11-25T22:39:40.137340Z"
    }
   },
   "outputs": [
    {
     "data": {
      "text/plain": [
       "Timestamp('2017-11-21 21:43:02')"
      ]
     },
     "execution_count": 22,
     "metadata": {},
     "output_type": "execute_result"
    }
   ],
   "source": [
    "df.date.max()"
   ]
  },
  {
   "cell_type": "code",
   "execution_count": 23,
   "metadata": {
    "ExecuteTime": {
     "end_time": "2017-11-25T22:39:40.984845Z",
     "start_time": "2017-11-25T22:39:40.476977Z"
    }
   },
   "outputs": [],
   "source": [
    "df2 = df.sort_values('date',ascending=True)"
   ]
  },
  {
   "cell_type": "code",
   "execution_count": 24,
   "metadata": {
    "ExecuteTime": {
     "end_time": "2017-11-25T22:39:40.997158Z",
     "start_time": "2017-11-25T22:39:40.986241Z"
    }
   },
   "outputs": [
    {
     "data": {
      "text/html": [
       "<div>\n",
       "<style scoped>\n",
       "    .dataframe tbody tr th:only-of-type {\n",
       "        vertical-align: middle;\n",
       "    }\n",
       "\n",
       "    .dataframe tbody tr th {\n",
       "        vertical-align: top;\n",
       "    }\n",
       "\n",
       "    .dataframe thead th {\n",
       "        text-align: right;\n",
       "    }\n",
       "</style>\n",
       "<table border=\"1\" class=\"dataframe\">\n",
       "  <thead>\n",
       "    <tr style=\"text-align: right;\">\n",
       "      <th></th>\n",
       "      <th>tweet_id</th>\n",
       "      <th>author_id</th>\n",
       "      <th>inbound</th>\n",
       "      <th>text</th>\n",
       "      <th>response_tweet_id</th>\n",
       "      <th>in_response_to_tweet_id</th>\n",
       "      <th>date</th>\n",
       "      <th>month</th>\n",
       "    </tr>\n",
       "  </thead>\n",
       "  <tbody>\n",
       "    <tr>\n",
       "      <th>319047</th>\n",
       "      <td>347379</td>\n",
       "      <td>SouthwestAir</td>\n",
       "      <td>False</td>\n",
       "      <td>@17251  Have FUN at the lecture tonight!  Tell...</td>\n",
       "      <td>347364</td>\n",
       "      <td>347380.0</td>\n",
       "      <td>2008-05-08 20:13:59</td>\n",
       "      <td>5</td>\n",
       "    </tr>\n",
       "    <tr>\n",
       "      <th>319046</th>\n",
       "      <td>347364</td>\n",
       "      <td>183416</td>\n",
       "      <td>True</td>\n",
       "      <td>@SouthwestAir Can you pls enter the HI market ...</td>\n",
       "      <td>347365,347366,347363,347367,347368,347369,3473...</td>\n",
       "      <td>347379.0</td>\n",
       "      <td>2008-05-08 21:04:16</td>\n",
       "      <td>5</td>\n",
       "    </tr>\n",
       "    <tr>\n",
       "      <th>542908</th>\n",
       "      <td>590641</td>\n",
       "      <td>241659</td>\n",
       "      <td>True</td>\n",
       "      <td>KTAR.com - Foreclosures still big problem in V...</td>\n",
       "      <td>590640</td>\n",
       "      <td>NaN</td>\n",
       "      <td>2010-02-16 15:49:47</td>\n",
       "      <td>2</td>\n",
       "    </tr>\n",
       "    <tr>\n",
       "      <th>627162</th>\n",
       "      <td>681789</td>\n",
       "      <td>263054</td>\n",
       "      <td>True</td>\n",
       "      <td>@263056 Do you know if Carl's Jr serves lunch ...</td>\n",
       "      <td>681787</td>\n",
       "      <td>NaN</td>\n",
       "      <td>2010-03-31 15:24:29</td>\n",
       "      <td>3</td>\n",
       "    </tr>\n",
       "    <tr>\n",
       "      <th>627160</th>\n",
       "      <td>681787</td>\n",
       "      <td>CarlsJr</td>\n",
       "      <td>False</td>\n",
       "      <td>@263054 We serve lunch all day!</td>\n",
       "      <td>681788</td>\n",
       "      <td>681789.0</td>\n",
       "      <td>2010-03-31 16:53:27</td>\n",
       "      <td>3</td>\n",
       "    </tr>\n",
       "  </tbody>\n",
       "</table>\n",
       "</div>"
      ],
      "text/plain": [
       "        tweet_id     author_id  inbound  \\\n",
       "319047    347379  SouthwestAir    False   \n",
       "319046    347364        183416     True   \n",
       "542908    590641        241659     True   \n",
       "627162    681789        263054     True   \n",
       "627160    681787       CarlsJr    False   \n",
       "\n",
       "                                                     text  \\\n",
       "319047  @17251  Have FUN at the lecture tonight!  Tell...   \n",
       "319046  @SouthwestAir Can you pls enter the HI market ...   \n",
       "542908  KTAR.com - Foreclosures still big problem in V...   \n",
       "627162  @263056 Do you know if Carl's Jr serves lunch ...   \n",
       "627160                    @263054 We serve lunch all day!   \n",
       "\n",
       "                                        response_tweet_id  \\\n",
       "319047                                             347364   \n",
       "319046  347365,347366,347363,347367,347368,347369,3473...   \n",
       "542908                                             590640   \n",
       "627162                                             681787   \n",
       "627160                                             681788   \n",
       "\n",
       "        in_response_to_tweet_id                date  month  \n",
       "319047                 347380.0 2008-05-08 20:13:59      5  \n",
       "319046                 347379.0 2008-05-08 21:04:16      5  \n",
       "542908                      NaN 2010-02-16 15:49:47      2  \n",
       "627162                      NaN 2010-03-31 15:24:29      3  \n",
       "627160                 681789.0 2010-03-31 16:53:27      3  "
      ]
     },
     "execution_count": 24,
     "metadata": {},
     "output_type": "execute_result"
    }
   ],
   "source": [
    "df2.head()"
   ]
  },
  {
   "cell_type": "markdown",
   "metadata": {},
   "source": [
    "### Tweets by Month"
   ]
  },
  {
   "cell_type": "code",
   "execution_count": 25,
   "metadata": {
    "ExecuteTime": {
     "end_time": "2017-11-25T22:39:44.613320Z",
     "start_time": "2017-11-25T22:39:44.590327Z"
    }
   },
   "outputs": [
    {
     "data": {
      "text/plain": [
       "True     1214604\n",
       "False    1011217\n",
       "Name: inbound, dtype: int64"
      ]
     },
     "execution_count": 25,
     "metadata": {},
     "output_type": "execute_result"
    }
   ],
   "source": [
    "df.inbound.value_counts()"
   ]
  },
  {
   "cell_type": "code",
   "execution_count": 26,
   "metadata": {
    "ExecuteTime": {
     "end_time": "2017-11-25T22:39:44.852091Z",
     "start_time": "2017-11-25T22:39:44.752027Z"
    }
   },
   "outputs": [],
   "source": [
    "inboundDF = df[df.inbound == True]"
   ]
  },
  {
   "cell_type": "code",
   "execution_count": 27,
   "metadata": {
    "ExecuteTime": {
     "end_time": "2017-11-25T22:39:44.900246Z",
     "start_time": "2017-11-25T22:39:44.897390Z"
    }
   },
   "outputs": [
    {
     "data": {
      "text/plain": [
       "(1214604, 8)"
      ]
     },
     "execution_count": 27,
     "metadata": {},
     "output_type": "execute_result"
    }
   ],
   "source": [
    "inboundDF.shape"
   ]
  },
  {
   "cell_type": "code",
   "execution_count": 28,
   "metadata": {
    "ExecuteTime": {
     "end_time": "2017-11-25T22:39:45.108606Z",
     "start_time": "2017-11-25T22:39:45.051977Z"
    }
   },
   "outputs": [],
   "source": [
    "monthGroup = df.groupby('month').inbound.count().reset_index()"
   ]
  },
  {
   "cell_type": "code",
   "execution_count": 29,
   "metadata": {
    "ExecuteTime": {
     "end_time": "2017-11-25T22:39:45.209724Z",
     "start_time": "2017-11-25T22:39:45.203700Z"
    }
   },
   "outputs": [
    {
     "data": {
      "text/html": [
       "<div>\n",
       "<style scoped>\n",
       "    .dataframe tbody tr th:only-of-type {\n",
       "        vertical-align: middle;\n",
       "    }\n",
       "\n",
       "    .dataframe tbody tr th {\n",
       "        vertical-align: top;\n",
       "    }\n",
       "\n",
       "    .dataframe thead th {\n",
       "        text-align: right;\n",
       "    }\n",
       "</style>\n",
       "<table border=\"1\" class=\"dataframe\">\n",
       "  <thead>\n",
       "    <tr style=\"text-align: right;\">\n",
       "      <th></th>\n",
       "      <th>month</th>\n",
       "      <th>inbound</th>\n",
       "    </tr>\n",
       "  </thead>\n",
       "  <tbody>\n",
       "    <tr>\n",
       "      <th>0</th>\n",
       "      <td>1</td>\n",
       "      <td>328</td>\n",
       "    </tr>\n",
       "    <tr>\n",
       "      <th>1</th>\n",
       "      <td>2</td>\n",
       "      <td>332</td>\n",
       "    </tr>\n",
       "    <tr>\n",
       "      <th>2</th>\n",
       "      <td>3</td>\n",
       "      <td>283</td>\n",
       "    </tr>\n",
       "    <tr>\n",
       "      <th>3</th>\n",
       "      <td>4</td>\n",
       "      <td>451</td>\n",
       "    </tr>\n",
       "    <tr>\n",
       "      <th>4</th>\n",
       "      <td>5</td>\n",
       "      <td>545</td>\n",
       "    </tr>\n",
       "    <tr>\n",
       "      <th>5</th>\n",
       "      <td>6</td>\n",
       "      <td>602</td>\n",
       "    </tr>\n",
       "    <tr>\n",
       "      <th>6</th>\n",
       "      <td>7</td>\n",
       "      <td>978</td>\n",
       "    </tr>\n",
       "    <tr>\n",
       "      <th>7</th>\n",
       "      <td>8</td>\n",
       "      <td>2158</td>\n",
       "    </tr>\n",
       "    <tr>\n",
       "      <th>8</th>\n",
       "      <td>9</td>\n",
       "      <td>13049</td>\n",
       "    </tr>\n",
       "    <tr>\n",
       "      <th>9</th>\n",
       "      <td>10</td>\n",
       "      <td>1252961</td>\n",
       "    </tr>\n",
       "    <tr>\n",
       "      <th>10</th>\n",
       "      <td>11</td>\n",
       "      <td>953862</td>\n",
       "    </tr>\n",
       "    <tr>\n",
       "      <th>11</th>\n",
       "      <td>12</td>\n",
       "      <td>272</td>\n",
       "    </tr>\n",
       "  </tbody>\n",
       "</table>\n",
       "</div>"
      ],
      "text/plain": [
       "    month  inbound\n",
       "0       1      328\n",
       "1       2      332\n",
       "2       3      283\n",
       "3       4      451\n",
       "4       5      545\n",
       "5       6      602\n",
       "6       7      978\n",
       "7       8     2158\n",
       "8       9    13049\n",
       "9      10  1252961\n",
       "10     11   953862\n",
       "11     12      272"
      ]
     },
     "execution_count": 29,
     "metadata": {},
     "output_type": "execute_result"
    }
   ],
   "source": [
    "monthGroup"
   ]
  },
  {
   "cell_type": "code",
   "execution_count": 30,
   "metadata": {
    "ExecuteTime": {
     "end_time": "2017-11-25T22:39:45.737855Z",
     "start_time": "2017-11-25T22:39:45.372054Z"
    }
   },
   "outputs": [
    {
     "data": {
      "text/plain": [
       "Text(0,0.5,'Inbound Tweets')"
      ]
     },
     "execution_count": 30,
     "metadata": {},
     "output_type": "execute_result"
    },
    {
     "data": {
      "image/png": "[encoded data removed]",
      "text/plain": [
       "<matplotlib.figure.Figure at 0x7f095e650c18>"
      ]
     },
     "metadata": {},
     "output_type": "display_data"
    }
   ],
   "source": [
    "month_ticks = ['Jan','Feb','Mar','Apr','May','Jun','Jul','Aug','Sep','Oct','Nov','Dec']\n",
    "monthGroup.plot(kind='bar',figsize=(10,6),legend=False)\n",
    "plt.xticks(range(12),month_ticks)\n",
    "plt.xlabel('Month')\n",
    "plt.ylabel('Inbound Tweets')"
   ]
  },
  {
   "cell_type": "markdown",
   "metadata": {},
   "source": [
    "### Tweets by Day"
   ]
  },
  {
   "cell_type": "code",
   "execution_count": 31,
   "metadata": {
    "ExecuteTime": {
     "end_time": "2017-11-25T22:39:45.830005Z",
     "start_time": "2017-11-25T22:39:45.739136Z"
    }
   },
   "outputs": [],
   "source": [
    "df['day'] = df.date.dt.dayofweek"
   ]
  },
  {
   "cell_type": "code",
   "execution_count": 32,
   "metadata": {
    "ExecuteTime": {
     "end_time": "2017-11-25T22:39:45.923520Z",
     "start_time": "2017-11-25T22:39:45.831413Z"
    }
   },
   "outputs": [],
   "source": [
    "dayGroup = df.groupby('day').inbound.count().reset_index()"
   ]
  },
  {
   "cell_type": "code",
   "execution_count": 33,
   "metadata": {
    "ExecuteTime": {
     "end_time": "2017-11-25T22:39:46.115825Z",
     "start_time": "2017-11-25T22:39:45.974069Z"
    }
   },
   "outputs": [
    {
     "data": {
      "text/plain": [
       "Text(0,0.5,'Inbound Tweets')"
      ]
     },
     "execution_count": 33,
     "metadata": {},
     "output_type": "execute_result"
    },
    {
     "data": {
      "image/png": "[encoded data removed]",
      "text/plain": [
       "<matplotlib.figure.Figure at 0x7f098818d7b8>"
      ]
     },
     "metadata": {},
     "output_type": "display_data"
    }
   ],
   "source": [
    "day_ticks = ['Mon','Tues','Wed','Thurs','Fri','Sat','Sun']\n",
    "dayGroup.plot(kind='bar',figsize=(10,6),legend=False)\n",
    "plt.xticks(range(7),day_ticks)\n",
    "#plt.xlabel('Day')\n",
    "plt.ylabel('Inbound Tweets')"
   ]
  },
  {
   "cell_type": "markdown",
   "metadata": {},
   "source": [
    "### Tweets by Company"
   ]
  },
  {
   "cell_type": "code",
   "execution_count": 17,
   "metadata": {
    "ExecuteTime": {
     "end_time": "2017-11-26T02:31:05.294576Z",
     "start_time": "2017-11-26T02:31:04.661822Z"
    }
   },
   "outputs": [],
   "source": [
    "companyGroup = df.groupby('author_id').inbound.count().reset_index()"
   ]
  },
  {
   "cell_type": "code",
   "execution_count": 18,
   "metadata": {
    "ExecuteTime": {
     "end_time": "2017-11-26T02:31:05.673131Z",
     "start_time": "2017-11-26T02:31:05.295910Z"
    }
   },
   "outputs": [
    {
     "name": "stderr",
     "output_type": "stream",
     "text": [
      "/home/xavier/anaconda3/lib/python3.6/site-packages/ipykernel_launcher.py:1: UserWarning: This pattern has match groups. To actually get the groups, use str.extract.\n",
      "  \"\"\"Entry point for launching an IPython kernel.\n"
     ]
    }
   ],
   "source": [
    "companyGroup = companyGroup.loc[companyGroup.iloc[:,0].str.contains(r'(^\\D{6})')]\n",
    "companyGroup.sort_values('inbound',ascending=False,inplace=True)"
   ]
  },
  {
   "cell_type": "code",
   "execution_count": 19,
   "metadata": {
    "ExecuteTime": {
     "end_time": "2017-11-26T02:31:05.677322Z",
     "start_time": "2017-11-26T02:31:05.674500Z"
    }
   },
   "outputs": [
    {
     "data": {
      "text/plain": [
       "(102, 2)"
      ]
     },
     "execution_count": 19,
     "metadata": {},
     "output_type": "execute_result"
    }
   ],
   "source": [
    "companyGroup.shape"
   ]
  },
  {
   "cell_type": "code",
   "execution_count": 20,
   "metadata": {
    "ExecuteTime": {
     "end_time": "2017-11-26T02:31:05.690981Z",
     "start_time": "2017-11-26T02:31:05.678507Z"
    }
   },
   "outputs": [
    {
     "data": {
      "text/html": [
       "<div>\n",
       "<style scoped>\n",
       "    .dataframe tbody tr th:only-of-type {\n",
       "        vertical-align: middle;\n",
       "    }\n",
       "\n",
       "    .dataframe tbody tr th {\n",
       "        vertical-align: top;\n",
       "    }\n",
       "\n",
       "    .dataframe thead th {\n",
       "        text-align: right;\n",
       "    }\n",
       "</style>\n",
       "<table border=\"1\" class=\"dataframe\">\n",
       "  <thead>\n",
       "    <tr style=\"text-align: right;\">\n",
       "      <th></th>\n",
       "      <th>author_id</th>\n",
       "      <th>inbound</th>\n",
       "    </tr>\n",
       "  </thead>\n",
       "  <tbody>\n",
       "    <tr>\n",
       "      <th>569050</th>\n",
       "      <td>AmazonHelp</td>\n",
       "      <td>129431</td>\n",
       "    </tr>\n",
       "    <tr>\n",
       "      <th>569052</th>\n",
       "      <td>AppleSupport</td>\n",
       "      <td>90432</td>\n",
       "    </tr>\n",
       "    <tr>\n",
       "      <th>569127</th>\n",
       "      <td>Uber_Support</td>\n",
       "      <td>42289</td>\n",
       "    </tr>\n",
       "    <tr>\n",
       "      <th>569119</th>\n",
       "      <td>SpotifyCares</td>\n",
       "      <td>34328</td>\n",
       "    </tr>\n",
       "    <tr>\n",
       "      <th>569051</th>\n",
       "      <td>AmericanAir</td>\n",
       "      <td>29642</td>\n",
       "    </tr>\n",
       "    <tr>\n",
       "      <th>569120</th>\n",
       "      <td>TMobileHelp</td>\n",
       "      <td>28644</td>\n",
       "    </tr>\n",
       "    <tr>\n",
       "      <th>569141</th>\n",
       "      <td>comcastcares</td>\n",
       "      <td>26270</td>\n",
       "    </tr>\n",
       "    <tr>\n",
       "      <th>569075</th>\n",
       "      <td>British_Airways</td>\n",
       "      <td>24395</td>\n",
       "    </tr>\n",
       "    <tr>\n",
       "      <th>569118</th>\n",
       "      <td>SouthwestAir</td>\n",
       "      <td>23302</td>\n",
       "    </tr>\n",
       "    <tr>\n",
       "      <th>569068</th>\n",
       "      <td>Ask_Spectrum</td>\n",
       "      <td>20961</td>\n",
       "    </tr>\n",
       "    <tr>\n",
       "      <th>569132</th>\n",
       "      <td>VirginTrains</td>\n",
       "      <td>20330</td>\n",
       "    </tr>\n",
       "    <tr>\n",
       "      <th>569134</th>\n",
       "      <td>XboxSupport</td>\n",
       "      <td>19238</td>\n",
       "    </tr>\n",
       "    <tr>\n",
       "      <th>569149</th>\n",
       "      <td>sprintcare</td>\n",
       "      <td>19186</td>\n",
       "    </tr>\n",
       "    <tr>\n",
       "      <th>569142</th>\n",
       "      <td>hulu_support</td>\n",
       "      <td>17600</td>\n",
       "    </tr>\n",
       "    <tr>\n",
       "      <th>569061</th>\n",
       "      <td>AskPlayStation</td>\n",
       "      <td>15973</td>\n",
       "    </tr>\n",
       "    <tr>\n",
       "      <th>569079</th>\n",
       "      <td>ChipotleTweets</td>\n",
       "      <td>15483</td>\n",
       "    </tr>\n",
       "    <tr>\n",
       "      <th>569147</th>\n",
       "      <td>sainsburys</td>\n",
       "      <td>15134</td>\n",
       "    </tr>\n",
       "    <tr>\n",
       "      <th>569086</th>\n",
       "      <td>GWRHelp</td>\n",
       "      <td>14742</td>\n",
       "    </tr>\n",
       "    <tr>\n",
       "      <th>569129</th>\n",
       "      <td>VerizonSupport</td>\n",
       "      <td>14592</td>\n",
       "    </tr>\n",
       "    <tr>\n",
       "      <th>569043</th>\n",
       "      <td>ATVIAssist</td>\n",
       "      <td>12784</td>\n",
       "    </tr>\n",
       "    <tr>\n",
       "      <th>569117</th>\n",
       "      <td>Safaricom_Care</td>\n",
       "      <td>12726</td>\n",
       "    </tr>\n",
       "    <tr>\n",
       "      <th>569143</th>\n",
       "      <td>idea_cares</td>\n",
       "      <td>12537</td>\n",
       "    </tr>\n",
       "    <tr>\n",
       "      <th>569125</th>\n",
       "      <td>UPSHelp</td>\n",
       "      <td>12108</td>\n",
       "    </tr>\n",
       "    <tr>\n",
       "      <th>569073</th>\n",
       "      <td>BofA_Help</td>\n",
       "      <td>10139</td>\n",
       "    </tr>\n",
       "    <tr>\n",
       "      <th>569116</th>\n",
       "      <td>SW_Help</td>\n",
       "      <td>9737</td>\n",
       "    </tr>\n",
       "    <tr>\n",
       "      <th>569058</th>\n",
       "      <td>AskLyft</td>\n",
       "      <td>9542</td>\n",
       "    </tr>\n",
       "    <tr>\n",
       "      <th>569055</th>\n",
       "      <td>AskAmex</td>\n",
       "      <td>9464</td>\n",
       "    </tr>\n",
       "    <tr>\n",
       "      <th>569065</th>\n",
       "      <td>AskTarget</td>\n",
       "      <td>9199</td>\n",
       "    </tr>\n",
       "    <tr>\n",
       "      <th>569104</th>\n",
       "      <td>MicrosoftHelps</td>\n",
       "      <td>8968</td>\n",
       "    </tr>\n",
       "    <tr>\n",
       "      <th>569060</th>\n",
       "      <td>AskPayPal</td>\n",
       "      <td>8814</td>\n",
       "    </tr>\n",
       "    <tr>\n",
       "      <th>...</th>\n",
       "      <td>...</td>\n",
       "      <td>...</td>\n",
       "    </tr>\n",
       "    <tr>\n",
       "      <th>569085</th>\n",
       "      <td>DunkinDonuts</td>\n",
       "      <td>1102</td>\n",
       "    </tr>\n",
       "    <tr>\n",
       "      <th>569124</th>\n",
       "      <td>TwitterSupport</td>\n",
       "      <td>1097</td>\n",
       "    </tr>\n",
       "    <tr>\n",
       "      <th>569099</th>\n",
       "      <td>Kimpton</td>\n",
       "      <td>1091</td>\n",
       "    </tr>\n",
       "    <tr>\n",
       "      <th>569126</th>\n",
       "      <td>USCellularCares</td>\n",
       "      <td>973</td>\n",
       "    </tr>\n",
       "    <tr>\n",
       "      <th>569112</th>\n",
       "      <td>PandoraSupport</td>\n",
       "      <td>886</td>\n",
       "    </tr>\n",
       "    <tr>\n",
       "      <th>569148</th>\n",
       "      <td>sizehelpteam</td>\n",
       "      <td>844</td>\n",
       "    </tr>\n",
       "    <tr>\n",
       "      <th>569092</th>\n",
       "      <td>HiltonHelp</td>\n",
       "      <td>833</td>\n",
       "    </tr>\n",
       "    <tr>\n",
       "      <th>569044</th>\n",
       "      <td>AWSSupport</td>\n",
       "      <td>792</td>\n",
       "    </tr>\n",
       "    <tr>\n",
       "      <th>569067</th>\n",
       "      <td>AskVirginMoney</td>\n",
       "      <td>782</td>\n",
       "    </tr>\n",
       "    <tr>\n",
       "      <th>569062</th>\n",
       "      <td>AskRBC</td>\n",
       "      <td>778</td>\n",
       "    </tr>\n",
       "    <tr>\n",
       "      <th>569135</th>\n",
       "      <td>YahooCare</td>\n",
       "      <td>776</td>\n",
       "    </tr>\n",
       "    <tr>\n",
       "      <th>569074</th>\n",
       "      <td>BoostCare</td>\n",
       "      <td>768</td>\n",
       "    </tr>\n",
       "    <tr>\n",
       "      <th>569113</th>\n",
       "      <td>PearsonSupport</td>\n",
       "      <td>748</td>\n",
       "    </tr>\n",
       "    <tr>\n",
       "      <th>569110</th>\n",
       "      <td>OPPOCareIN</td>\n",
       "      <td>740</td>\n",
       "    </tr>\n",
       "    <tr>\n",
       "      <th>569106</th>\n",
       "      <td>NeweggService</td>\n",
       "      <td>738</td>\n",
       "    </tr>\n",
       "    <tr>\n",
       "      <th>569102</th>\n",
       "      <td>MTNC_Care</td>\n",
       "      <td>686</td>\n",
       "    </tr>\n",
       "    <tr>\n",
       "      <th>569089</th>\n",
       "      <td>GooglePlayMusic</td>\n",
       "      <td>640</td>\n",
       "    </tr>\n",
       "    <tr>\n",
       "      <th>569066</th>\n",
       "      <td>AskTigogh</td>\n",
       "      <td>638</td>\n",
       "    </tr>\n",
       "    <tr>\n",
       "      <th>569140</th>\n",
       "      <td>askvisa</td>\n",
       "      <td>626</td>\n",
       "    </tr>\n",
       "    <tr>\n",
       "      <th>569139</th>\n",
       "      <td>asksalesforce</td>\n",
       "      <td>622</td>\n",
       "    </tr>\n",
       "    <tr>\n",
       "      <th>569064</th>\n",
       "      <td>AskSeagate</td>\n",
       "      <td>534</td>\n",
       "    </tr>\n",
       "    <tr>\n",
       "      <th>569137</th>\n",
       "      <td>ask_progressive</td>\n",
       "      <td>532</td>\n",
       "    </tr>\n",
       "    <tr>\n",
       "      <th>569098</th>\n",
       "      <td>KeyBank_Help</td>\n",
       "      <td>485</td>\n",
       "    </tr>\n",
       "    <tr>\n",
       "      <th>569063</th>\n",
       "      <td>AskRobinhood</td>\n",
       "      <td>371</td>\n",
       "    </tr>\n",
       "    <tr>\n",
       "      <th>569145</th>\n",
       "      <td>mediatemplehelp</td>\n",
       "      <td>267</td>\n",
       "    </tr>\n",
       "    <tr>\n",
       "      <th>569095</th>\n",
       "      <td>JackBox</td>\n",
       "      <td>224</td>\n",
       "    </tr>\n",
       "    <tr>\n",
       "      <th>569111</th>\n",
       "      <td>OfficeSupport</td>\n",
       "      <td>189</td>\n",
       "    </tr>\n",
       "    <tr>\n",
       "      <th>569057</th>\n",
       "      <td>AskDSC</td>\n",
       "      <td>185</td>\n",
       "    </tr>\n",
       "    <tr>\n",
       "      <th>569076</th>\n",
       "      <td>CarlsJr</td>\n",
       "      <td>177</td>\n",
       "    </tr>\n",
       "    <tr>\n",
       "      <th>569093</th>\n",
       "      <td>HotelTonightCX</td>\n",
       "      <td>141</td>\n",
       "    </tr>\n",
       "  </tbody>\n",
       "</table>\n",
       "<p>102 rows × 2 columns</p>\n",
       "</div>"
      ],
      "text/plain": [
       "              author_id  inbound\n",
       "569050       AmazonHelp   129431\n",
       "569052     AppleSupport    90432\n",
       "569127     Uber_Support    42289\n",
       "569119     SpotifyCares    34328\n",
       "569051      AmericanAir    29642\n",
       "569120      TMobileHelp    28644\n",
       "569141     comcastcares    26270\n",
       "569075  British_Airways    24395\n",
       "569118     SouthwestAir    23302\n",
       "569068     Ask_Spectrum    20961\n",
       "569132     VirginTrains    20330\n",
       "569134      XboxSupport    19238\n",
       "569149       sprintcare    19186\n",
       "569142     hulu_support    17600\n",
       "569061   AskPlayStation    15973\n",
       "569079   ChipotleTweets    15483\n",
       "569147       sainsburys    15134\n",
       "569086          GWRHelp    14742\n",
       "569129   VerizonSupport    14592\n",
       "569043       ATVIAssist    12784\n",
       "569117   Safaricom_Care    12726\n",
       "569143       idea_cares    12537\n",
       "569125          UPSHelp    12108\n",
       "569073        BofA_Help    10139\n",
       "569116          SW_Help     9737\n",
       "569058          AskLyft     9542\n",
       "569055          AskAmex     9464\n",
       "569065        AskTarget     9199\n",
       "569104   MicrosoftHelps     8968\n",
       "569060        AskPayPal     8814\n",
       "...                 ...      ...\n",
       "569085     DunkinDonuts     1102\n",
       "569124   TwitterSupport     1097\n",
       "569099          Kimpton     1091\n",
       "569126  USCellularCares      973\n",
       "569112   PandoraSupport      886\n",
       "569148     sizehelpteam      844\n",
       "569092       HiltonHelp      833\n",
       "569044       AWSSupport      792\n",
       "569067   AskVirginMoney      782\n",
       "569062           AskRBC      778\n",
       "569135        YahooCare      776\n",
       "569074        BoostCare      768\n",
       "569113   PearsonSupport      748\n",
       "569110       OPPOCareIN      740\n",
       "569106    NeweggService      738\n",
       "569102        MTNC_Care      686\n",
       "569089  GooglePlayMusic      640\n",
       "569066        AskTigogh      638\n",
       "569140          askvisa      626\n",
       "569139    asksalesforce      622\n",
       "569064       AskSeagate      534\n",
       "569137  ask_progressive      532\n",
       "569098     KeyBank_Help      485\n",
       "569063     AskRobinhood      371\n",
       "569145  mediatemplehelp      267\n",
       "569095          JackBox      224\n",
       "569111    OfficeSupport      189\n",
       "569057           AskDSC      185\n",
       "569076          CarlsJr      177\n",
       "569093   HotelTonightCX      141\n",
       "\n",
       "[102 rows x 2 columns]"
      ]
     },
     "execution_count": 20,
     "metadata": {},
     "output_type": "execute_result"
    }
   ],
   "source": [
    "companyGroup"
   ]
  },
  {
   "cell_type": "code",
   "execution_count": 21,
   "metadata": {
    "ExecuteTime": {
     "end_time": "2017-11-26T02:31:05.702940Z",
     "start_time": "2017-11-26T02:31:05.692197Z"
    }
   },
   "outputs": [
    {
     "data": {
      "text/html": [
       "<div>\n",
       "<style scoped>\n",
       "    .dataframe tbody tr th:only-of-type {\n",
       "        vertical-align: middle;\n",
       "    }\n",
       "\n",
       "    .dataframe tbody tr th {\n",
       "        vertical-align: top;\n",
       "    }\n",
       "\n",
       "    .dataframe thead th {\n",
       "        text-align: right;\n",
       "    }\n",
       "</style>\n",
       "<table border=\"1\" class=\"dataframe\">\n",
       "  <thead>\n",
       "    <tr style=\"text-align: right;\">\n",
       "      <th></th>\n",
       "      <th>tweet_id</th>\n",
       "      <th>author_id</th>\n",
       "      <th>inbound</th>\n",
       "      <th>text</th>\n",
       "      <th>response_tweet_id</th>\n",
       "      <th>in_response_to_tweet_id</th>\n",
       "      <th>date</th>\n",
       "      <th>month</th>\n",
       "    </tr>\n",
       "  </thead>\n",
       "  <tbody>\n",
       "    <tr>\n",
       "      <th>0</th>\n",
       "      <td>1</td>\n",
       "      <td>VirginAtlantic</td>\n",
       "      <td>False</td>\n",
       "      <td>@95932 Hmmm they may be full. Have you tried b...</td>\n",
       "      <td>2</td>\n",
       "      <td>3.0</td>\n",
       "      <td>2017-10-04 22:37:58</td>\n",
       "      <td>10</td>\n",
       "    </tr>\n",
       "    <tr>\n",
       "      <th>1</th>\n",
       "      <td>2</td>\n",
       "      <td>95932</td>\n",
       "      <td>True</td>\n",
       "      <td>@VirginAtlantic Sure have. Nothing comes up at...</td>\n",
       "      <td>4</td>\n",
       "      <td>1.0</td>\n",
       "      <td>2017-10-04 22:55:58</td>\n",
       "      <td>10</td>\n",
       "    </tr>\n",
       "    <tr>\n",
       "      <th>2</th>\n",
       "      <td>4</td>\n",
       "      <td>VirginAtlantic</td>\n",
       "      <td>False</td>\n",
       "      <td>@95932 I'm going to report this then. It sound...</td>\n",
       "      <td>NaN</td>\n",
       "      <td>2.0</td>\n",
       "      <td>2017-10-04 23:00:12</td>\n",
       "      <td>10</td>\n",
       "    </tr>\n",
       "    <tr>\n",
       "      <th>3</th>\n",
       "      <td>3</td>\n",
       "      <td>95932</td>\n",
       "      <td>True</td>\n",
       "      <td>@VirginAtlantic Yes, nothing comes up 🙁</td>\n",
       "      <td>1</td>\n",
       "      <td>5.0</td>\n",
       "      <td>2017-10-04 22:36:35</td>\n",
       "      <td>10</td>\n",
       "    </tr>\n",
       "    <tr>\n",
       "      <th>4</th>\n",
       "      <td>5</td>\n",
       "      <td>VirginAtlantic</td>\n",
       "      <td>False</td>\n",
       "      <td>@95932 Have you tried towards the end of March...</td>\n",
       "      <td>3</td>\n",
       "      <td>6.0</td>\n",
       "      <td>2017-10-04 20:15:59</td>\n",
       "      <td>10</td>\n",
       "    </tr>\n",
       "  </tbody>\n",
       "</table>\n",
       "</div>"
      ],
      "text/plain": [
       "   tweet_id       author_id  inbound  \\\n",
       "0         1  VirginAtlantic    False   \n",
       "1         2           95932     True   \n",
       "2         4  VirginAtlantic    False   \n",
       "3         3           95932     True   \n",
       "4         5  VirginAtlantic    False   \n",
       "\n",
       "                                                text response_tweet_id  \\\n",
       "0  @95932 Hmmm they may be full. Have you tried b...                 2   \n",
       "1  @VirginAtlantic Sure have. Nothing comes up at...                 4   \n",
       "2  @95932 I'm going to report this then. It sound...               NaN   \n",
       "3            @VirginAtlantic Yes, nothing comes up 🙁                 1   \n",
       "4  @95932 Have you tried towards the end of March...                 3   \n",
       "\n",
       "   in_response_to_tweet_id                date  month  \n",
       "0                      3.0 2017-10-04 22:37:58     10  \n",
       "1                      1.0 2017-10-04 22:55:58     10  \n",
       "2                      2.0 2017-10-04 23:00:12     10  \n",
       "3                      5.0 2017-10-04 22:36:35     10  \n",
       "4                      6.0 2017-10-04 20:15:59     10  "
      ]
     },
     "execution_count": 21,
     "metadata": {},
     "output_type": "execute_result"
    }
   ],
   "source": [
    "df.head()"
   ]
  },
  {
   "cell_type": "code",
   "execution_count": 22,
   "metadata": {
    "ExecuteTime": {
     "end_time": "2017-11-26T02:31:08.496223Z",
     "start_time": "2017-11-26T02:31:06.276554Z"
    }
   },
   "outputs": [],
   "source": [
    "appleDF = df[df['author_id'].str.contains(\"AppleSupport\") | df['text'].str.contains(\"AppleSupport\") ]"
   ]
  },
  {
   "cell_type": "code",
   "execution_count": 23,
   "metadata": {
    "ExecuteTime": {
     "end_time": "2017-11-26T02:31:08.500338Z",
     "start_time": "2017-11-26T02:31:08.497548Z"
    }
   },
   "outputs": [
    {
     "data": {
      "text/plain": [
       "(171517, 8)"
      ]
     },
     "execution_count": 23,
     "metadata": {},
     "output_type": "execute_result"
    }
   ],
   "source": [
    "appleDF.shape"
   ]
  },
  {
   "cell_type": "code",
   "execution_count": 24,
   "metadata": {
    "ExecuteTime": {
     "end_time": "2017-11-26T02:31:08.512674Z",
     "start_time": "2017-11-26T02:31:08.501508Z"
    }
   },
   "outputs": [
    {
     "data": {
      "text/html": [
       "<div>\n",
       "<style scoped>\n",
       "    .dataframe tbody tr th:only-of-type {\n",
       "        vertical-align: middle;\n",
       "    }\n",
       "\n",
       "    .dataframe tbody tr th {\n",
       "        vertical-align: top;\n",
       "    }\n",
       "\n",
       "    .dataframe thead th {\n",
       "        text-align: right;\n",
       "    }\n",
       "</style>\n",
       "<table border=\"1\" class=\"dataframe\">\n",
       "  <thead>\n",
       "    <tr style=\"text-align: right;\">\n",
       "      <th></th>\n",
       "      <th>tweet_id</th>\n",
       "      <th>author_id</th>\n",
       "      <th>inbound</th>\n",
       "      <th>text</th>\n",
       "      <th>response_tweet_id</th>\n",
       "      <th>in_response_to_tweet_id</th>\n",
       "      <th>date</th>\n",
       "      <th>month</th>\n",
       "    </tr>\n",
       "  </thead>\n",
       "  <tbody>\n",
       "    <tr>\n",
       "      <th>119</th>\n",
       "      <td>129</td>\n",
       "      <td>AppleSupport</td>\n",
       "      <td>False</td>\n",
       "      <td>@95972 Let's take a look at your flashlight to...</td>\n",
       "      <td>130</td>\n",
       "      <td>131.0</td>\n",
       "      <td>2017-10-04 13:04:26</td>\n",
       "      <td>10</td>\n",
       "    </tr>\n",
       "    <tr>\n",
       "      <th>120</th>\n",
       "      <td>130</td>\n",
       "      <td>95973</td>\n",
       "      <td>True</td>\n",
       "      <td>@AppleSupport @95972 i have the same problem w...</td>\n",
       "      <td>NaN</td>\n",
       "      <td>129.0</td>\n",
       "      <td>2017-10-04 22:10:17</td>\n",
       "      <td>10</td>\n",
       "    </tr>\n",
       "    <tr>\n",
       "      <th>309</th>\n",
       "      <td>385</td>\n",
       "      <td>AppleSupport</td>\n",
       "      <td>False</td>\n",
       "      <td>@96035 We want you to get the most out of your...</td>\n",
       "      <td>NaN</td>\n",
       "      <td>386.0</td>\n",
       "      <td>2017-10-04 12:33:00</td>\n",
       "      <td>10</td>\n",
       "    </tr>\n",
       "    <tr>\n",
       "      <th>339</th>\n",
       "      <td>416</td>\n",
       "      <td>AppleSupport</td>\n",
       "      <td>False</td>\n",
       "      <td>@96041 We appreciate you letting us know, does...</td>\n",
       "      <td>NaN</td>\n",
       "      <td>417.0</td>\n",
       "      <td>2017-10-04 12:59:29</td>\n",
       "      <td>10</td>\n",
       "    </tr>\n",
       "    <tr>\n",
       "      <th>340</th>\n",
       "      <td>417</td>\n",
       "      <td>96041</td>\n",
       "      <td>True</td>\n",
       "      <td>@AppleSupport When you go to the App Store &amp;am...</td>\n",
       "      <td>416</td>\n",
       "      <td>418.0</td>\n",
       "      <td>2017-10-04 04:57:54</td>\n",
       "      <td>10</td>\n",
       "    </tr>\n",
       "  </tbody>\n",
       "</table>\n",
       "</div>"
      ],
      "text/plain": [
       "     tweet_id     author_id  inbound  \\\n",
       "119       129  AppleSupport    False   \n",
       "120       130         95973     True   \n",
       "309       385  AppleSupport    False   \n",
       "339       416  AppleSupport    False   \n",
       "340       417         96041     True   \n",
       "\n",
       "                                                  text response_tweet_id  \\\n",
       "119  @95972 Let's take a look at your flashlight to...               130   \n",
       "120  @AppleSupport @95972 i have the same problem w...               NaN   \n",
       "309  @96035 We want you to get the most out of your...               NaN   \n",
       "339  @96041 We appreciate you letting us know, does...               NaN   \n",
       "340  @AppleSupport When you go to the App Store &am...               416   \n",
       "\n",
       "     in_response_to_tweet_id                date  month  \n",
       "119                    131.0 2017-10-04 13:04:26     10  \n",
       "120                    129.0 2017-10-04 22:10:17     10  \n",
       "309                    386.0 2017-10-04 12:33:00     10  \n",
       "339                    417.0 2017-10-04 12:59:29     10  \n",
       "340                    418.0 2017-10-04 04:57:54     10  "
      ]
     },
     "execution_count": 24,
     "metadata": {},
     "output_type": "execute_result"
    }
   ],
   "source": [
    "appleDF.head()"
   ]
  },
  {
   "cell_type": "code",
   "execution_count": null,
   "metadata": {},
   "outputs": [],
   "source": []
  },
  {
   "cell_type": "markdown",
   "metadata": {},
   "source": [
    "### Tweets by Conversations"
   ]
  },
  {
   "cell_type": "code",
   "execution_count": 15,
   "metadata": {
    "ExecuteTime": {
     "end_time": "2017-11-26T01:37:28.771780Z",
     "start_time": "2017-11-26T01:37:27.718447Z"
    }
   },
   "outputs": [],
   "source": [
    "testDF = df[(df['author_id'].str.contains(\"95972\"))]"
   ]
  },
  {
   "cell_type": "code",
   "execution_count": 16,
   "metadata": {
    "ExecuteTime": {
     "end_time": "2017-11-26T01:37:28.786068Z",
     "start_time": "2017-11-26T01:37:28.774398Z"
    }
   },
   "outputs": [
    {
     "data": {
      "text/html": [
       "<div>\n",
       "<style scoped>\n",
       "    .dataframe tbody tr th:only-of-type {\n",
       "        vertical-align: middle;\n",
       "    }\n",
       "\n",
       "    .dataframe tbody tr th {\n",
       "        vertical-align: top;\n",
       "    }\n",
       "\n",
       "    .dataframe thead th {\n",
       "        text-align: right;\n",
       "    }\n",
       "</style>\n",
       "<table border=\"1\" class=\"dataframe\">\n",
       "  <thead>\n",
       "    <tr style=\"text-align: right;\">\n",
       "      <th></th>\n",
       "      <th>tweet_id</th>\n",
       "      <th>author_id</th>\n",
       "      <th>inbound</th>\n",
       "      <th>created_at</th>\n",
       "      <th>text</th>\n",
       "      <th>response_tweet_id</th>\n",
       "      <th>in_response_to_tweet_id</th>\n",
       "      <th>date</th>\n",
       "    </tr>\n",
       "  </thead>\n",
       "  <tbody>\n",
       "    <tr>\n",
       "      <th>121</th>\n",
       "      <td>131</td>\n",
       "      <td>95972</td>\n",
       "      <td>True</td>\n",
       "      <td>Wed Oct 04 05:43:36 +0000 2017</td>\n",
       "      <td>the update made my fuckin flashlight stop work...</td>\n",
       "      <td>129</td>\n",
       "      <td>NaN</td>\n",
       "      <td>2017-10-04 05:43:36</td>\n",
       "    </tr>\n",
       "    <tr>\n",
       "      <th>366775</th>\n",
       "      <td>398930</td>\n",
       "      <td>195972</td>\n",
       "      <td>True</td>\n",
       "      <td>Fri Oct 13 13:12:57 +0000 2017</td>\n",
       "      <td>@AmazonHelp Si, pero ya no soluciona nada, lo ...</td>\n",
       "      <td>398932</td>\n",
       "      <td>398929.0</td>\n",
       "      <td>2017-10-13 13:12:57</td>\n",
       "    </tr>\n",
       "    <tr>\n",
       "      <th>366777</th>\n",
       "      <td>398933</td>\n",
       "      <td>195972</td>\n",
       "      <td>True</td>\n",
       "      <td>Fri Oct 13 13:16:54 +0000 2017</td>\n",
       "      <td>@AmazonHelp No voy a perder más tiempo en esto...</td>\n",
       "      <td>NaN</td>\n",
       "      <td>398932.0</td>\n",
       "      <td>2017-10-13 13:16:54</td>\n",
       "    </tr>\n",
       "    <tr>\n",
       "      <th>366778</th>\n",
       "      <td>398931</td>\n",
       "      <td>195972</td>\n",
       "      <td>True</td>\n",
       "      <td>Fri Oct 13 12:56:40 +0000 2017</td>\n",
       "      <td>Gracias por nada @96220 @99212 https://t.co/K2...</td>\n",
       "      <td>398929</td>\n",
       "      <td>NaN</td>\n",
       "      <td>2017-10-13 12:56:40</td>\n",
       "    </tr>\n",
       "    <tr>\n",
       "      <th>758859</th>\n",
       "      <td>701554</td>\n",
       "      <td>295972</td>\n",
       "      <td>True</td>\n",
       "      <td>Sat Oct 21 17:24:07 +0000 2017</td>\n",
       "      <td>@97286 No. Demasiado caro. Lo siento, @97286, ...</td>\n",
       "      <td>822262,822263,822264</td>\n",
       "      <td>701546.0</td>\n",
       "      <td>2017-10-21 17:24:07</td>\n",
       "    </tr>\n",
       "  </tbody>\n",
       "</table>\n",
       "</div>"
      ],
      "text/plain": [
       "        tweet_id author_id  inbound                      created_at  \\\n",
       "121          131     95972     True  Wed Oct 04 05:43:36 +0000 2017   \n",
       "366775    398930    195972     True  Fri Oct 13 13:12:57 +0000 2017   \n",
       "366777    398933    195972     True  Fri Oct 13 13:16:54 +0000 2017   \n",
       "366778    398931    195972     True  Fri Oct 13 12:56:40 +0000 2017   \n",
       "758859    701554    295972     True  Sat Oct 21 17:24:07 +0000 2017   \n",
       "\n",
       "                                                     text  \\\n",
       "121     the update made my fuckin flashlight stop work...   \n",
       "366775  @AmazonHelp Si, pero ya no soluciona nada, lo ...   \n",
       "366777  @AmazonHelp No voy a perder más tiempo en esto...   \n",
       "366778  Gracias por nada @96220 @99212 https://t.co/K2...   \n",
       "758859  @97286 No. Demasiado caro. Lo siento, @97286, ...   \n",
       "\n",
       "           response_tweet_id  in_response_to_tweet_id                date  \n",
       "121                      129                      NaN 2017-10-04 05:43:36  \n",
       "366775                398932                 398929.0 2017-10-13 13:12:57  \n",
       "366777                   NaN                 398932.0 2017-10-13 13:16:54  \n",
       "366778                398929                      NaN 2017-10-13 12:56:40  \n",
       "758859  822262,822263,822264                 701546.0 2017-10-21 17:24:07  "
      ]
     },
     "execution_count": 16,
     "metadata": {},
     "output_type": "execute_result"
    }
   ],
   "source": [
    "testDF.head()"
   ]
  },
  {
   "cell_type": "code",
   "execution_count": 17,
   "metadata": {
    "ExecuteTime": {
     "end_time": "2017-11-26T01:37:29.100468Z",
     "start_time": "2017-11-26T01:37:29.094159Z"
    }
   },
   "outputs": [],
   "source": [
    "testDF.to_csv('../data/test.csv')"
   ]
  },
  {
   "cell_type": "markdown",
   "metadata": {},
   "source": [
    "## Text Processing"
   ]
  },
  {
   "cell_type": "code",
   "execution_count": null,
   "metadata": {
    "ExecuteTime": {
     "end_time": "2017-11-25T02:25:16.070072Z",
     "start_time": "2017-11-25T02:25:16.066516Z"
    }
   },
   "outputs": [],
   "source": []
  },
  {
   "cell_type": "code",
   "execution_count": 18,
   "metadata": {
    "ExecuteTime": {
     "end_time": "2017-11-26T01:37:49.100787Z",
     "start_time": "2017-11-26T01:37:37.552988Z"
    }
   },
   "outputs": [
    {
     "name": "stdout",
     "output_type": "stream",
     "text": [
      "CPU times: user 11.3 s, sys: 172 ms, total: 11.4 s\n",
      "Wall time: 11.5 s\n"
     ]
    }
   ],
   "source": [
    "%time doc_clean = [clean(doc).split() for doc in appleDF.text]  "
   ]
  },
  {
   "cell_type": "code",
   "execution_count": 39,
   "metadata": {
    "ExecuteTime": {
     "end_time": "2017-11-25T02:25:40.958136Z",
     "start_time": "2017-11-25T02:25:40.953172Z"
    }
   },
   "outputs": [
    {
     "data": {
      "text/plain": [
       "['669057',\n",
       " 'know',\n",
       " 'critical',\n",
       " 'able',\n",
       " 'charge',\n",
       " 'iphone',\n",
       " 'please',\n",
       " 'try',\n",
       " 'step',\n",
       " 'section',\n",
       " 'if',\n",
       " 'alert',\n",
       " 'say',\n",
       " 'accessory',\n",
       " 'isnt',\n",
       " 'supported',\n",
       " 'certified',\n",
       " 'here',\n",
       " 'httpstcouqxquyfdn0',\n",
       " 'doesnt',\n",
       " 'help',\n",
       " 'please',\n",
       " 'dm',\n",
       " 'u',\n",
       " 'exact',\n",
       " 'version',\n",
       " 'io',\n",
       " 'running',\n",
       " 'httpstcogdrqu22ypt']"
      ]
     },
     "execution_count": 39,
     "metadata": {},
     "output_type": "execute_result"
    }
   ],
   "source": [
    "doc_clean[-1][:]"
   ]
  },
  {
   "cell_type": "markdown",
   "metadata": {},
   "source": [
    "## Quick LDA"
   ]
  },
  {
   "cell_type": "code",
   "execution_count": 52,
   "metadata": {
    "ExecuteTime": {
     "end_time": "2017-11-25T02:31:12.479970Z",
     "start_time": "2017-11-25T02:31:12.477507Z"
    }
   },
   "outputs": [],
   "source": [
    "import gensim\n",
    "from gensim import corpora"
   ]
  },
  {
   "cell_type": "code",
   "execution_count": 53,
   "metadata": {
    "ExecuteTime": {
     "end_time": "2017-11-25T02:31:15.745087Z",
     "start_time": "2017-11-25T02:31:13.197283Z"
    }
   },
   "outputs": [],
   "source": [
    "dictionary = corpora.Dictionary(doc_clean)"
   ]
  },
  {
   "cell_type": "code",
   "execution_count": 54,
   "metadata": {
    "ExecuteTime": {
     "end_time": "2017-11-25T02:31:17.983735Z",
     "start_time": "2017-11-25T02:31:15.746548Z"
    }
   },
   "outputs": [],
   "source": [
    "doc_term_matrix = [dictionary.doc2bow(doc) for doc in doc_clean]"
   ]
  },
  {
   "cell_type": "code",
   "execution_count": 55,
   "metadata": {
    "ExecuteTime": {
     "end_time": "2017-11-25T02:31:17.987373Z",
     "start_time": "2017-11-25T02:31:17.985213Z"
    }
   },
   "outputs": [],
   "source": [
    "lda = gensim.models.ldamodel.LdaModel"
   ]
  },
  {
   "cell_type": "code",
   "execution_count": 155,
   "metadata": {
    "ExecuteTime": {
     "end_time": "2017-11-25T03:36:58.670744Z",
     "start_time": "2017-11-25T03:09:56.039593Z"
    }
   },
   "outputs": [
    {
     "name": "stdout",
     "output_type": "stream",
     "text": [
      "CPU times: user 27min 8s, sys: 4.78 s, total: 27min 13s\n",
      "Wall time: 27min 2s\n"
     ]
    }
   ],
   "source": [
    "%time ldamodel = lda(doc_term_matrix, num_topics=5, id2word = dictionary, passes=10)"
   ]
  },
  {
   "cell_type": "code",
   "execution_count": 156,
   "metadata": {
    "ExecuteTime": {
     "end_time": "2017-11-25T03:36:58.682536Z",
     "start_time": "2017-11-25T03:36:58.672272Z"
    }
   },
   "outputs": [
    {
     "name": "stdout",
     "output_type": "stream",
     "text": [
      "[(0, '0.052*\"issue\" + 0.046*\"update\" + 0.024*\"software\"'), (1, '0.070*\"u\" + 0.051*\"dm\" + 0.049*\"httpstcogdrqu22ypt\"'), (2, '0.027*\"applesupport\" + 0.017*\"apple\" + 0.017*\"app\"'), (3, '0.034*\"here\" + 0.033*\"support\" + 0.026*\"help\"'), (4, '0.098*\"applesupport\" + 0.025*\"phone\" + 0.024*\"io\"')]\n"
     ]
    }
   ],
   "source": [
    "print(ldamodel.print_topics(num_topics=5, num_words=3))"
   ]
  },
  {
   "cell_type": "code",
   "execution_count": 157,
   "metadata": {
    "ExecuteTime": {
     "end_time": "2017-11-25T03:36:58.696219Z",
     "start_time": "2017-11-25T03:36:58.683950Z"
    }
   },
   "outputs": [
    {
     "name": "stdout",
     "output_type": "stream",
     "text": [
      "Topic 0: Words: \n",
      "['issue', 'update', 'software', 'work', 'it’s', 'question']\n",
      "Topic 1: Words: \n",
      "['u', 'dm', 'httpstcogdrqu22ypt', 'let', 'help', 'know']\n",
      "Topic 2: Words: \n",
      "['applesupport', 'apple', 'app', 'back', 'apps', 'device']\n",
      "Topic 3: Words: \n",
      "['here', 'support', 'help', 'contact', 'right', 'get']\n",
      "Topic 4: Words: \n",
      "['applesupport', 'phone', 'io', 'iphone', 'update', 'fix']\n"
     ]
    }
   ],
   "source": [
    "for topic in ldamodel.show_topics(num_topics=6, formatted=False, num_words=6):\n",
    "    print(\"Topic {}: Words: \".format(topic[0]))\n",
    "    topicwords = [w for (w, val) in topic[1]]\n",
    "    print(topicwords)"
   ]
  },
  {
   "cell_type": "code",
   "execution_count": 158,
   "metadata": {
    "ExecuteTime": {
     "end_time": "2017-11-25T03:37:00.562035Z",
     "start_time": "2017-11-25T03:36:58.697608Z"
    }
   },
   "outputs": [
    {
     "data": {
      "text/plain": [
       "['../models/lda.pkl']"
      ]
     },
     "execution_count": 158,
     "metadata": {},
     "output_type": "execute_result"
    }
   ],
   "source": [
    "joblib.dump(ldamodel, '../models/lda.pkl')"
   ]
  },
  {
   "cell_type": "markdown",
   "metadata": {
    "ExecuteTime": {
     "end_time": "2017-11-25T01:34:16.968542Z",
     "start_time": "2017-11-25T01:34:16.965865Z"
    }
   },
   "source": [
    "## Quick NMF"
   ]
  },
  {
   "cell_type": "code",
   "execution_count": 67,
   "metadata": {
    "ExecuteTime": {
     "end_time": "2017-11-26T02:41:45.968312Z",
     "start_time": "2017-11-26T02:41:43.763328Z"
    }
   },
   "outputs": [],
   "source": [
    "tf = TfidfVectorizer(stop_words=stop,use_idf=True,token_pattern=\"\\\\b[a-z][a-z]+\\\\b\",max_df=.8,min_df=.05)\n",
    "x = tf.fit_transform(appleDF.text)\n",
    "tf_feature_names = tf.get_feature_names()"
   ]
  },
  {
   "cell_type": "code",
   "execution_count": 68,
   "metadata": {
    "ExecuteTime": {
     "end_time": "2017-11-26T02:41:46.550878Z",
     "start_time": "2017-11-26T02:41:45.969660Z"
    }
   },
   "outputs": [],
   "source": [
    "nmf = NMF(n_components=5, init='random')\n",
    "nmf_fit = nmf.fit_transform(x)"
   ]
  },
  {
   "cell_type": "code",
   "execution_count": 69,
   "metadata": {
    "ExecuteTime": {
     "end_time": "2017-11-26T02:41:46.557174Z",
     "start_time": "2017-11-26T02:41:46.552686Z"
    }
   },
   "outputs": [
    {
     "data": {
      "text/plain": [
       "['../models/nmf.pkl']"
      ]
     },
     "execution_count": 69,
     "metadata": {},
     "output_type": "execute_result"
    }
   ],
   "source": [
    "joblib.dump(nmf, '../models/nmf.pkl')"
   ]
  },
  {
   "cell_type": "code",
   "execution_count": 70,
   "metadata": {
    "ExecuteTime": {
     "end_time": "2017-11-26T02:41:46.562185Z",
     "start_time": "2017-11-26T02:41:46.558659Z"
    }
   },
   "outputs": [
    {
     "name": "stdout",
     "output_type": "stream",
     "text": [
      "Topic 0:\n",
      "iphone apple using phone happy update\n",
      "Topic 1:\n",
      "help happy device using issue apple\n",
      "Topic 2:\n",
      "update issue work software phone apple\n",
      "Topic 3:\n",
      "please happy apple device issue using\n",
      "Topic 4:\n",
      "ios version using device phone happy\n"
     ]
    }
   ],
   "source": [
    "display_topics(nmf,tf_feature_names,6)"
   ]
  },
  {
   "cell_type": "markdown",
   "metadata": {
    "ExecuteTime": {
     "end_time": "2017-11-25T02:13:11.226795Z",
     "start_time": "2017-11-25T02:13:11.217723Z"
    }
   },
   "source": [
    "### Topic Model Print Test"
   ]
  },
  {
   "cell_type": "markdown",
   "metadata": {
    "ExecuteTime": {
     "end_time": "2017-11-25T02:46:52.176966Z",
     "start_time": "2017-11-25T02:46:52.174049Z"
    }
   },
   "source": [
    "### Clean Apple Tweets"
   ]
  },
  {
   "cell_type": "code",
   "execution_count": 25,
   "metadata": {
    "ExecuteTime": {
     "end_time": "2017-11-26T02:31:56.223508Z",
     "start_time": "2017-11-26T02:31:40.563241Z"
    },
    "scrolled": true
   },
   "outputs": [
    {
     "name": "stderr",
     "output_type": "stream",
     "text": [
      "/home/xavier/anaconda3/lib/python3.6/site-packages/ipykernel_launcher.py:1: SettingWithCopyWarning: \n",
      "A value is trying to be set on a copy of a slice from a DataFrame.\n",
      "Try using .loc[row_indexer,col_indexer] = value instead\n",
      "\n",
      "See the caveats in the documentation: http://pandas.pydata.org/pandas-docs/stable/indexing.html#indexing-view-versus-copy\n",
      "  \"\"\"Entry point for launching an IPython kernel.\n"
     ]
    }
   ],
   "source": [
    "appleDF['clean'] = appleDF.text.apply(lambda x: process_tweet_text(x))"
   ]
  },
  {
   "cell_type": "code",
   "execution_count": 26,
   "metadata": {
    "ExecuteTime": {
     "end_time": "2017-11-26T02:32:30.952257Z",
     "start_time": "2017-11-26T02:32:30.936979Z"
    }
   },
   "outputs": [
    {
     "data": {
      "text/html": [
       "<div>\n",
       "<style scoped>\n",
       "    .dataframe tbody tr th:only-of-type {\n",
       "        vertical-align: middle;\n",
       "    }\n",
       "\n",
       "    .dataframe tbody tr th {\n",
       "        vertical-align: top;\n",
       "    }\n",
       "\n",
       "    .dataframe thead th {\n",
       "        text-align: right;\n",
       "    }\n",
       "</style>\n",
       "<table border=\"1\" class=\"dataframe\">\n",
       "  <thead>\n",
       "    <tr style=\"text-align: right;\">\n",
       "      <th></th>\n",
       "      <th>tweet_id</th>\n",
       "      <th>author_id</th>\n",
       "      <th>inbound</th>\n",
       "      <th>text</th>\n",
       "      <th>response_tweet_id</th>\n",
       "      <th>in_response_to_tweet_id</th>\n",
       "      <th>date</th>\n",
       "      <th>month</th>\n",
       "      <th>clean</th>\n",
       "    </tr>\n",
       "  </thead>\n",
       "  <tbody>\n",
       "    <tr>\n",
       "      <th>119</th>\n",
       "      <td>129</td>\n",
       "      <td>AppleSupport</td>\n",
       "      <td>False</td>\n",
       "      <td>@95972 Let's take a look at your flashlight to...</td>\n",
       "      <td>130</td>\n",
       "      <td>131.0</td>\n",
       "      <td>2017-10-04 13:04:26</td>\n",
       "      <td>10</td>\n",
       "      <td>take,look,flashlight,together,recently,version...</td>\n",
       "    </tr>\n",
       "    <tr>\n",
       "      <th>120</th>\n",
       "      <td>130</td>\n",
       "      <td>95973</td>\n",
       "      <td>True</td>\n",
       "      <td>@AppleSupport @95972 i have the same problem w...</td>\n",
       "      <td>NaN</td>\n",
       "      <td>129.0</td>\n",
       "      <td>2017-10-04 22:10:17</td>\n",
       "      <td>10</td>\n",
       "      <td>problem,led,doesnt,work,since</td>\n",
       "    </tr>\n",
       "    <tr>\n",
       "      <th>309</th>\n",
       "      <td>385</td>\n",
       "      <td>AppleSupport</td>\n",
       "      <td>False</td>\n",
       "      <td>@96035 We want you to get the most out of your...</td>\n",
       "      <td>NaN</td>\n",
       "      <td>386.0</td>\n",
       "      <td>2017-10-04 12:33:00</td>\n",
       "      <td>10</td>\n",
       "      <td>want,get,happening,specifically</td>\n",
       "    </tr>\n",
       "    <tr>\n",
       "      <th>339</th>\n",
       "      <td>416</td>\n",
       "      <td>AppleSupport</td>\n",
       "      <td>False</td>\n",
       "      <td>@96041 We appreciate you letting us know, does...</td>\n",
       "      <td>NaN</td>\n",
       "      <td>417.0</td>\n",
       "      <td>2017-10-04 12:59:29</td>\n",
       "      <td>10</td>\n",
       "      <td>appreciate,know,happen,cellular,data</td>\n",
       "    </tr>\n",
       "    <tr>\n",
       "      <th>340</th>\n",
       "      <td>417</td>\n",
       "      <td>96041</td>\n",
       "      <td>True</td>\n",
       "      <td>@AppleSupport When you go to the App Store &amp;am...</td>\n",
       "      <td>416</td>\n",
       "      <td>418.0</td>\n",
       "      <td>2017-10-04 04:57:54</td>\n",
       "      <td>10</td>\n",
       "      <td>pick,randomly,like,image,video,sec,play,whole</td>\n",
       "    </tr>\n",
       "  </tbody>\n",
       "</table>\n",
       "</div>"
      ],
      "text/plain": [
       "     tweet_id     author_id  inbound  \\\n",
       "119       129  AppleSupport    False   \n",
       "120       130         95973     True   \n",
       "309       385  AppleSupport    False   \n",
       "339       416  AppleSupport    False   \n",
       "340       417         96041     True   \n",
       "\n",
       "                                                  text response_tweet_id  \\\n",
       "119  @95972 Let's take a look at your flashlight to...               130   \n",
       "120  @AppleSupport @95972 i have the same problem w...               NaN   \n",
       "309  @96035 We want you to get the most out of your...               NaN   \n",
       "339  @96041 We appreciate you letting us know, does...               NaN   \n",
       "340  @AppleSupport When you go to the App Store &am...               416   \n",
       "\n",
       "     in_response_to_tweet_id                date  month  \\\n",
       "119                    131.0 2017-10-04 13:04:26     10   \n",
       "120                    129.0 2017-10-04 22:10:17     10   \n",
       "309                    386.0 2017-10-04 12:33:00     10   \n",
       "339                    417.0 2017-10-04 12:59:29     10   \n",
       "340                    418.0 2017-10-04 04:57:54     10   \n",
       "\n",
       "                                                 clean  \n",
       "119  take,look,flashlight,together,recently,version...  \n",
       "120                      problem,led,doesnt,work,since  \n",
       "309                    want,get,happening,specifically  \n",
       "339               appreciate,know,happen,cellular,data  \n",
       "340      pick,randomly,like,image,video,sec,play,whole  "
      ]
     },
     "execution_count": 26,
     "metadata": {},
     "output_type": "execute_result"
    }
   ],
   "source": [
    "appleDF.head()"
   ]
  },
  {
   "cell_type": "code",
   "execution_count": 83,
   "metadata": {
    "ExecuteTime": {
     "end_time": "2017-11-26T02:43:51.330142Z",
     "start_time": "2017-11-26T02:43:50.331460Z"
    }
   },
   "outputs": [],
   "source": [
    "tf2 = TfidfVectorizer(stop_words=stop,use_idf=True,max_df=.2,min_df=.05)\n",
    "x2 = tf2.fit_transform(appleDF.clean)\n",
    "tf2_feature_names = tf2.get_feature_names()"
   ]
  },
  {
   "cell_type": "code",
   "execution_count": 84,
   "metadata": {
    "ExecuteTime": {
     "end_time": "2017-11-26T02:43:53.814496Z",
     "start_time": "2017-11-26T02:43:51.331452Z"
    }
   },
   "outputs": [],
   "source": [
    "no_topics = 5\n",
    "nmf_model = NMF(n_components=no_topics,init='random').fit(x2)\n",
    "nmf_W = nmf_model.transform(x2)\n",
    "nmf_H = nmf_model.components_"
   ]
  },
  {
   "cell_type": "code",
   "execution_count": 85,
   "metadata": {
    "ExecuteTime": {
     "end_time": "2017-11-26T02:43:53.822085Z",
     "start_time": "2017-11-26T02:43:53.816312Z"
    }
   },
   "outputs": [
    {
     "name": "stdout",
     "output_type": "stream",
     "text": [
      "Topic 0:\n",
      "issue work device version update\n",
      "Topic 1:\n",
      "phone work version update issue\n",
      "Topic 2:\n",
      "happy device issue work version\n",
      "Topic 3:\n",
      "update work device version phone\n",
      "Topic 4:\n",
      "version device work update phone\n"
     ]
    }
   ],
   "source": [
    "display_topics(nmf_model,tf2_feature_names,5)"
   ]
  },
  {
   "cell_type": "code",
   "execution_count": 86,
   "metadata": {
    "ExecuteTime": {
     "end_time": "2017-11-26T02:43:53.834990Z",
     "start_time": "2017-11-26T02:43:53.824042Z"
    }
   },
   "outputs": [],
   "source": [
    "documents = list(appleDF.text)"
   ]
  },
  {
   "cell_type": "code",
   "execution_count": 87,
   "metadata": {
    "ExecuteTime": {
     "end_time": "2017-11-26T02:43:53.874806Z",
     "start_time": "2017-11-26T02:43:53.837043Z"
    }
   },
   "outputs": [
    {
     "name": "stdout",
     "output_type": "stream",
     "text": [
      "Topic 0:\n",
      "issue work device version update\n",
      "@AppleSupport 11.1.1 fixed the weird I to a? autocorrect issue but it didn’t fix the “it” correcting to I.t issue. Text replacement doesn’t work, either. It’s really frustrating. https://t.co/0JLjzIIauf\n",
      "Is it an @ATT issue or an @AppleSupport issue that I must toggle airplane mode several times a day to get LTE to work? Need @101119 ?\n",
      "Topic 1:\n",
      "phone work version update issue\n",
      "@AppleSupport i purchased an iphone 8+ yesterday and my contacts appeared on my new phone after I entered my apple i.d. this a new feature?\n",
      "@AppleSupport My phone will just power off no matter the percentage of the battery. And when I plug my phone into my charger it charges and turn on\n",
      "Topic 2:\n",
      "happy device issue work version\n",
      "@163032 We'll be happy to look into this with you. Go ahead and DM us what you're seeing with your clock here: https://t.co/GDrqU22YpT\n",
      "@118013 Sure! We're happy to look into this with you. Send us a DM and we'll take a look at your battery. https://t.co/GDrqU2kzhr\n",
      "Topic 3:\n",
      "update work device version phone\n",
      "@AppleSupport Whatever the latest is when update runs. 11.??? Ok, checked and there is a 11.1 update waiting. Maybe that was addressed. Will download and see.\n",
      "@AppleSupport live photo keeps turning on in the camera even when it’s set to stay off. Please fix in next update.\n",
      "Topic 4:\n",
      "version device work update phone\n",
      "@562119 Please let us know which device and iOS version you’re using in DM. Your version can be located by navigating to Settings &gt; General &gt; About. https://t.co/GDrqU22YpT\n",
      "@120420 We can help. Which iOS version is your device currently running? We want to make sure that you're running the latest version.\n"
     ]
    }
   ],
   "source": [
    "no_top_words = 5\n",
    "no_top_documents = 2\n",
    "display_topics2(nmf_H, nmf_W, tf2_feature_names, documents, no_top_words, no_top_documents)"
   ]
  },
  {
   "cell_type": "markdown",
   "metadata": {},
   "source": [
    "## Quick Cluster"
   ]
  },
  {
   "cell_type": "code",
   "execution_count": 88,
   "metadata": {
    "ExecuteTime": {
     "end_time": "2017-11-26T03:59:24.880307Z",
     "start_time": "2017-11-26T02:44:04.198911Z"
    }
   },
   "outputs": [],
   "source": [
    "from sklearn.manifold import TSNE\n",
    "\n",
    "tsne_model = TSNE(n_components=2, random_state=0)\n",
    "results = tsne_model.fit_transform(nmf_W) \n",
    "\n"
   ]
  },
  {
   "cell_type": "code",
   "execution_count": 91,
   "metadata": {
    "ExecuteTime": {
     "end_time": "2017-11-26T04:07:14.777925Z",
     "start_time": "2017-11-26T04:07:14.771881Z"
    }
   },
   "outputs": [
    {
     "data": {
      "text/plain": [
       "['../models/tsne.pkl']"
      ]
     },
     "execution_count": 91,
     "metadata": {},
     "output_type": "execute_result"
    }
   ],
   "source": [
    "joblib.dump(tsne_model, '../models/tsne.pkl')"
   ]
  },
  {
   "cell_type": "code",
   "execution_count": 97,
   "metadata": {
    "ExecuteTime": {
     "end_time": "2017-11-26T04:09:41.706860Z",
     "start_time": "2017-11-26T04:09:33.894179Z"
    }
   },
   "outputs": [
    {
     "data": {
      "image/png": "[encoded data removed]",
      "text/plain": [
       "<matplotlib.figure.Figure at 0x7f672c5bce48>"
      ]
     },
     "metadata": {},
     "output_type": "display_data"
    }
   ],
   "source": [
    "def get_coords(matrix2D):\n",
    "    x = []\n",
    "    y = []\n",
    "    for r in matrix2D:\n",
    "        x.append(r[0])\n",
    "        y.append(r[1])\n",
    "    return x, y\n",
    "\n",
    "x, y = get_coords(results)\n",
    "\n",
    "from sklearn.cluster import KMeans\n",
    "kmeans = KMeans(n_clusters=5, random_state=0).fit(nmf_W)\n",
    "\n",
    "# Scatter plot with colouring by kmeans labels:\n",
    "plt.scatter(x, y, alpha=0.4, c=kmeans.labels_, marker='o', s=30);"
   ]
  },
  {
   "cell_type": "code",
   "execution_count": 95,
   "metadata": {
    "ExecuteTime": {
     "end_time": "2017-11-26T04:08:35.143150Z",
     "start_time": "2017-11-26T04:08:35.137552Z"
    }
   },
   "outputs": [
    {
     "data": {
      "text/plain": [
       "['../models/kmeans.pkl']"
      ]
     },
     "execution_count": 95,
     "metadata": {},
     "output_type": "execute_result"
    }
   ],
   "source": [
    "joblib.dump(kmeans, '../models/kmeans.pkl')"
   ]
  },
  {
   "cell_type": "code",
   "execution_count": 99,
   "metadata": {
    "ExecuteTime": {
     "end_time": "2017-11-26T04:12:18.885077Z",
     "start_time": "2017-11-26T04:12:18.881369Z"
    }
   },
   "outputs": [
    {
     "name": "stdout",
     "output_type": "stream",
     "text": [
      "[4 0 2 ..., 2 2 2]\n"
     ]
    }
   ],
   "source": [
    "print(kmeans.labels_)"
   ]
  },
  {
   "cell_type": "code",
   "execution_count": 101,
   "metadata": {
    "ExecuteTime": {
     "end_time": "2017-11-26T04:13:16.900486Z",
     "start_time": "2017-11-26T04:13:16.865298Z"
    }
   },
   "outputs": [],
   "source": [
    "labels = kmeans.predict(nmf_W)"
   ]
  },
  {
   "cell_type": "code",
   "execution_count": 102,
   "metadata": {
    "ExecuteTime": {
     "end_time": "2017-11-26T04:13:35.943170Z",
     "start_time": "2017-11-26T04:13:35.937557Z"
    }
   },
   "outputs": [
    {
     "ename": "IndentationError",
     "evalue": "unexpected indent (<ipython-input-102-3324e3765531>, line 2)",
     "output_type": "error",
     "traceback": [
      "\u001b[0;36m  File \u001b[0;32m\"<ipython-input-102-3324e3765531>\"\u001b[0;36m, line \u001b[0;32m2\u001b[0m\n\u001b[0;31m    n = 0\u001b[0m\n\u001b[0m    ^\u001b[0m\n\u001b[0;31mIndentationError\u001b[0m\u001b[0;31m:\u001b[0m unexpected indent\n"
     ]
    }
   ],
   "source": [
    "clusters = {}\n",
    "n = 0\n",
    "for item in labels:\n",
    "    if item in clusters:\n",
    "        clusters[item].append(row_dict[n])\n",
    "    else:\n",
    "        clusters[item] = [row_dict[n]]\n",
    "    n +=1"
   ]
  },
  {
   "cell_type": "code",
   "execution_count": null,
   "metadata": {},
   "outputs": [],
   "source": []
  }
 ],
 "metadata": {
  "kernelspec": {
   "display_name": "Python 3",
   "language": "python",
   "name": "python3"
  },
  "language_info": {
   "codemirror_mode": {
    "name": "ipython",
    "version": 3
   },
   "file_extension": ".py",
   "mimetype": "text/x-python",
   "name": "python",
   "nbconvert_exporter": "python",
   "pygments_lexer": "ipython3",
   "version": "3.6.3"
  },
  "toc": {
   "nav_menu": {},
   "number_sections": true,
   "sideBar": true,
   "skip_h1_title": true,
   "toc_cell": false,
   "toc_position": {
    "height": "912px",
    "left": "0px",
    "right": "1312px",
    "top": "111px",
    "width": "212px"
   },
   "toc_section_display": "block",
   "toc_window_display": true
  }
 },
 "nbformat": 4,
 "nbformat_minor": 2
}

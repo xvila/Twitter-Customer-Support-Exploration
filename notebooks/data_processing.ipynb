{
 "cells": [
  {
   "cell_type": "code",
   "execution_count": 1,
   "metadata": {
    "ExecuteTime": {
     "end_time": "2017-11-22T20:28:33.888417Z",
     "start_time": "2017-11-22T20:28:28.018982Z"
    }
   },
   "outputs": [],
   "source": [
    "import pandas as pd\n",
    "import numpy as np\n",
    "from textblob import TextBlob\n",
    "import nltk\n",
    "from nltk.corpus import stopwords\n",
    "from sklearn.feature_extraction.text import TfidfVectorizer\n",
    "from sklearn.feature_extraction.text import CountVectorizer\n",
    "from nltk.tokenize import sent_tokenize\n",
    "from nltk.tokenize import word_tokenize\n",
    "\n",
    "%matplotlib inline\n",
    "import seaborn as sns\n",
    "import matplotlib.pyplot as plt\n",
    "plt.style.use('fivethirtyeight')"
   ]
  },
  {
   "cell_type": "markdown",
   "metadata": {},
   "source": [
    "## Import Data"
   ]
  },
  {
   "cell_type": "code",
   "execution_count": 2,
   "metadata": {
    "ExecuteTime": {
     "end_time": "2017-11-22T20:29:18.650745Z",
     "start_time": "2017-11-22T20:29:18.645917Z"
    }
   },
   "outputs": [],
   "source": [
    "#%time df = pd.read_csv('../data/twcs.csv')"
   ]
  },
  {
   "cell_type": "markdown",
   "metadata": {},
   "source": [
    "## EDA"
   ]
  },
  {
   "cell_type": "code",
   "execution_count": 3,
   "metadata": {
    "ExecuteTime": {
     "end_time": "2017-11-22T20:29:22.369709Z",
     "start_time": "2017-11-22T20:29:22.344927Z"
    }
   },
   "outputs": [],
   "source": [
    "#df.shape"
   ]
  },
  {
   "cell_type": "code",
   "execution_count": 4,
   "metadata": {
    "ExecuteTime": {
     "end_time": "2017-11-22T20:29:25.233892Z",
     "start_time": "2017-11-22T20:29:25.229887Z"
    }
   },
   "outputs": [],
   "source": [
    "#df.columns.tolist()"
   ]
  },
  {
   "cell_type": "code",
   "execution_count": 5,
   "metadata": {
    "ExecuteTime": {
     "end_time": "2017-11-22T20:29:29.026782Z",
     "start_time": "2017-11-22T20:29:29.023257Z"
    }
   },
   "outputs": [],
   "source": [
    "#df.head()"
   ]
  },
  {
   "cell_type": "code",
   "execution_count": 6,
   "metadata": {
    "ExecuteTime": {
     "end_time": "2017-11-22T20:29:30.911019Z",
     "start_time": "2017-11-22T20:29:30.907058Z"
    }
   },
   "outputs": [],
   "source": [
    "#df.info()"
   ]
  },
  {
   "cell_type": "code",
   "execution_count": 7,
   "metadata": {
    "ExecuteTime": {
     "end_time": "2017-11-22T20:29:32.056512Z",
     "start_time": "2017-11-22T20:29:32.051705Z"
    }
   },
   "outputs": [],
   "source": [
    "#%time df['date'] = pd.to_datetime(df.created_at)"
   ]
  },
  {
   "cell_type": "code",
   "execution_count": 8,
   "metadata": {
    "ExecuteTime": {
     "end_time": "2017-11-22T20:29:32.413085Z",
     "start_time": "2017-11-22T20:29:32.404292Z"
    }
   },
   "outputs": [],
   "source": [
    "#df.to_pickle('../data/tweets.pkl')"
   ]
  },
  {
   "cell_type": "markdown",
   "metadata": {},
   "source": [
    "### Import Pickle"
   ]
  },
  {
   "cell_type": "code",
   "execution_count": 9,
   "metadata": {
    "ExecuteTime": {
     "end_time": "2017-11-22T20:29:36.469440Z",
     "start_time": "2017-11-22T20:29:34.295288Z"
    }
   },
   "outputs": [],
   "source": [
    "df = pd.read_pickle('../data/tweets.pkl')"
   ]
  },
  {
   "cell_type": "code",
   "execution_count": 10,
   "metadata": {
    "ExecuteTime": {
     "end_time": "2017-11-22T20:29:37.663433Z",
     "start_time": "2017-11-22T20:29:37.426022Z"
    }
   },
   "outputs": [],
   "source": [
    "df.drop('created_at',axis=1,inplace=True)"
   ]
  },
  {
   "cell_type": "code",
   "execution_count": 11,
   "metadata": {
    "ExecuteTime": {
     "end_time": "2017-11-22T20:29:38.347634Z",
     "start_time": "2017-11-22T20:29:38.293341Z"
    }
   },
   "outputs": [
    {
     "data": {
      "text/html": [
       "<div>\n",
       "<style scoped>\n",
       "    .dataframe tbody tr th:only-of-type {\n",
       "        vertical-align: middle;\n",
       "    }\n",
       "\n",
       "    .dataframe tbody tr th {\n",
       "        vertical-align: top;\n",
       "    }\n",
       "\n",
       "    .dataframe thead th {\n",
       "        text-align: right;\n",
       "    }\n",
       "</style>\n",
       "<table border=\"1\" class=\"dataframe\">\n",
       "  <thead>\n",
       "    <tr style=\"text-align: right;\">\n",
       "      <th></th>\n",
       "      <th>tweet_id</th>\n",
       "      <th>author_id</th>\n",
       "      <th>inbound</th>\n",
       "      <th>text</th>\n",
       "      <th>response_tweet_id</th>\n",
       "      <th>in_response_to_tweet_id</th>\n",
       "      <th>date</th>\n",
       "    </tr>\n",
       "  </thead>\n",
       "  <tbody>\n",
       "    <tr>\n",
       "      <th>0</th>\n",
       "      <td>1</td>\n",
       "      <td>sainsburys</td>\n",
       "      <td>False</td>\n",
       "      <td>@83897 ...He'll pass your thanks on to them an...</td>\n",
       "      <td>NaN</td>\n",
       "      <td>2.0</td>\n",
       "      <td>2017-11-03 19:56:25</td>\n",
       "    </tr>\n",
       "    <tr>\n",
       "      <th>1</th>\n",
       "      <td>2</td>\n",
       "      <td>83897</td>\n",
       "      <td>True</td>\n",
       "      <td>@sainsburys Sorry no. It was the staff on at t...</td>\n",
       "      <td>1,3</td>\n",
       "      <td>4.0</td>\n",
       "      <td>2017-11-02 19:52:44</td>\n",
       "    </tr>\n",
       "    <tr>\n",
       "      <th>2</th>\n",
       "      <td>4</td>\n",
       "      <td>sainsburys</td>\n",
       "      <td>False</td>\n",
       "      <td>@83897 How nice! Did you catch their name at a...</td>\n",
       "      <td>2</td>\n",
       "      <td>5.0</td>\n",
       "      <td>2017-11-02 19:15:01</td>\n",
       "    </tr>\n",
       "    <tr>\n",
       "      <th>3</th>\n",
       "      <td>5</td>\n",
       "      <td>83897</td>\n",
       "      <td>True</td>\n",
       "      <td>Lovely friendly staff @sainsburys cafe Bretton...</td>\n",
       "      <td>4</td>\n",
       "      <td>NaN</td>\n",
       "      <td>2017-11-02 13:08:24</td>\n",
       "    </tr>\n",
       "    <tr>\n",
       "      <th>4</th>\n",
       "      <td>6</td>\n",
       "      <td>sainsburys</td>\n",
       "      <td>False</td>\n",
       "      <td>@83898 Oh no! Sorry about that Tom. Could you ...</td>\n",
       "      <td>7</td>\n",
       "      <td>8.0</td>\n",
       "      <td>2017-11-03 19:51:06</td>\n",
       "    </tr>\n",
       "  </tbody>\n",
       "</table>\n",
       "</div>"
      ],
      "text/plain": [
       "   tweet_id   author_id  inbound  \\\n",
       "0         1  sainsburys    False   \n",
       "1         2       83897     True   \n",
       "2         4  sainsburys    False   \n",
       "3         5       83897     True   \n",
       "4         6  sainsburys    False   \n",
       "\n",
       "                                                text response_tweet_id  \\\n",
       "0  @83897 ...He'll pass your thanks on to them an...               NaN   \n",
       "1  @sainsburys Sorry no. It was the staff on at t...               1,3   \n",
       "2  @83897 How nice! Did you catch their name at a...                 2   \n",
       "3  Lovely friendly staff @sainsburys cafe Bretton...                 4   \n",
       "4  @83898 Oh no! Sorry about that Tom. Could you ...                 7   \n",
       "\n",
       "   in_response_to_tweet_id                date  \n",
       "0                      2.0 2017-11-03 19:56:25  \n",
       "1                      4.0 2017-11-02 19:52:44  \n",
       "2                      5.0 2017-11-02 19:15:01  \n",
       "3                      NaN 2017-11-02 13:08:24  \n",
       "4                      8.0 2017-11-03 19:51:06  "
      ]
     },
     "execution_count": 11,
     "metadata": {},
     "output_type": "execute_result"
    }
   ],
   "source": [
    "df.head()"
   ]
  },
  {
   "cell_type": "code",
   "execution_count": 12,
   "metadata": {
    "ExecuteTime": {
     "end_time": "2017-11-22T20:29:40.984595Z",
     "start_time": "2017-11-22T20:29:40.970792Z"
    }
   },
   "outputs": [
    {
     "data": {
      "text/html": [
       "<div>\n",
       "<style scoped>\n",
       "    .dataframe tbody tr th:only-of-type {\n",
       "        vertical-align: middle;\n",
       "    }\n",
       "\n",
       "    .dataframe tbody tr th {\n",
       "        vertical-align: top;\n",
       "    }\n",
       "\n",
       "    .dataframe thead th {\n",
       "        text-align: right;\n",
       "    }\n",
       "</style>\n",
       "<table border=\"1\" class=\"dataframe\">\n",
       "  <thead>\n",
       "    <tr style=\"text-align: right;\">\n",
       "      <th></th>\n",
       "      <th>tweet_id</th>\n",
       "      <th>author_id</th>\n",
       "      <th>inbound</th>\n",
       "      <th>text</th>\n",
       "      <th>response_tweet_id</th>\n",
       "      <th>in_response_to_tweet_id</th>\n",
       "      <th>date</th>\n",
       "    </tr>\n",
       "  </thead>\n",
       "  <tbody>\n",
       "    <tr>\n",
       "      <th>0</th>\n",
       "      <td>1</td>\n",
       "      <td>sainsburys</td>\n",
       "      <td>False</td>\n",
       "      <td>@83897 ...He'll pass your thanks on to them an...</td>\n",
       "      <td>NaN</td>\n",
       "      <td>2.0</td>\n",
       "      <td>2017-11-03 19:56:25</td>\n",
       "    </tr>\n",
       "    <tr>\n",
       "      <th>1</th>\n",
       "      <td>2</td>\n",
       "      <td>83897</td>\n",
       "      <td>True</td>\n",
       "      <td>@sainsburys Sorry no. It was the staff on at t...</td>\n",
       "      <td>1,3</td>\n",
       "      <td>4.0</td>\n",
       "      <td>2017-11-02 19:52:44</td>\n",
       "    </tr>\n",
       "    <tr>\n",
       "      <th>2</th>\n",
       "      <td>4</td>\n",
       "      <td>sainsburys</td>\n",
       "      <td>False</td>\n",
       "      <td>@83897 How nice! Did you catch their name at a...</td>\n",
       "      <td>2</td>\n",
       "      <td>5.0</td>\n",
       "      <td>2017-11-02 19:15:01</td>\n",
       "    </tr>\n",
       "    <tr>\n",
       "      <th>3</th>\n",
       "      <td>5</td>\n",
       "      <td>83897</td>\n",
       "      <td>True</td>\n",
       "      <td>Lovely friendly staff @sainsburys cafe Bretton...</td>\n",
       "      <td>4</td>\n",
       "      <td>NaN</td>\n",
       "      <td>2017-11-02 13:08:24</td>\n",
       "    </tr>\n",
       "    <tr>\n",
       "      <th>4</th>\n",
       "      <td>6</td>\n",
       "      <td>sainsburys</td>\n",
       "      <td>False</td>\n",
       "      <td>@83898 Oh no! Sorry about that Tom. Could you ...</td>\n",
       "      <td>7</td>\n",
       "      <td>8.0</td>\n",
       "      <td>2017-11-03 19:51:06</td>\n",
       "    </tr>\n",
       "  </tbody>\n",
       "</table>\n",
       "</div>"
      ],
      "text/plain": [
       "   tweet_id   author_id  inbound  \\\n",
       "0         1  sainsburys    False   \n",
       "1         2       83897     True   \n",
       "2         4  sainsburys    False   \n",
       "3         5       83897     True   \n",
       "4         6  sainsburys    False   \n",
       "\n",
       "                                                text response_tweet_id  \\\n",
       "0  @83897 ...He'll pass your thanks on to them an...               NaN   \n",
       "1  @sainsburys Sorry no. It was the staff on at t...               1,3   \n",
       "2  @83897 How nice! Did you catch their name at a...                 2   \n",
       "3  Lovely friendly staff @sainsburys cafe Bretton...                 4   \n",
       "4  @83898 Oh no! Sorry about that Tom. Could you ...                 7   \n",
       "\n",
       "   in_response_to_tweet_id                date  \n",
       "0                      2.0 2017-11-03 19:56:25  \n",
       "1                      4.0 2017-11-02 19:52:44  \n",
       "2                      5.0 2017-11-02 19:15:01  \n",
       "3                      NaN 2017-11-02 13:08:24  \n",
       "4                      8.0 2017-11-03 19:51:06  "
      ]
     },
     "execution_count": 12,
     "metadata": {},
     "output_type": "execute_result"
    }
   ],
   "source": [
    "df.head()"
   ]
  },
  {
   "cell_type": "code",
   "execution_count": 13,
   "metadata": {
    "ExecuteTime": {
     "end_time": "2017-11-22T20:29:41.317967Z",
     "start_time": "2017-11-22T20:29:41.204007Z"
    }
   },
   "outputs": [],
   "source": [
    "df['month'] = df.date.dt.month"
   ]
  },
  {
   "cell_type": "markdown",
   "metadata": {},
   "source": [
    "### Tweets by Month"
   ]
  },
  {
   "cell_type": "code",
   "execution_count": 14,
   "metadata": {
    "ExecuteTime": {
     "end_time": "2017-11-22T20:29:43.067982Z",
     "start_time": "2017-11-22T20:29:43.031585Z"
    }
   },
   "outputs": [
    {
     "data": {
      "text/plain": [
       "True     1038443\n",
       "False     865847\n",
       "Name: inbound, dtype: int64"
      ]
     },
     "execution_count": 14,
     "metadata": {},
     "output_type": "execute_result"
    }
   ],
   "source": [
    "df.inbound.value_counts()"
   ]
  },
  {
   "cell_type": "code",
   "execution_count": 15,
   "metadata": {
    "ExecuteTime": {
     "end_time": "2017-11-22T20:29:43.517944Z",
     "start_time": "2017-11-22T20:29:43.295102Z"
    }
   },
   "outputs": [],
   "source": [
    "inboundDF = df[df.inbound == True]"
   ]
  },
  {
   "cell_type": "code",
   "execution_count": 16,
   "metadata": {
    "ExecuteTime": {
     "end_time": "2017-11-22T20:29:43.526198Z",
     "start_time": "2017-11-22T20:29:43.520319Z"
    }
   },
   "outputs": [
    {
     "data": {
      "text/plain": [
       "(1038443, 8)"
      ]
     },
     "execution_count": 16,
     "metadata": {},
     "output_type": "execute_result"
    }
   ],
   "source": [
    "inboundDF.shape"
   ]
  },
  {
   "cell_type": "code",
   "execution_count": 17,
   "metadata": {
    "ExecuteTime": {
     "end_time": "2017-11-22T20:29:43.752421Z",
     "start_time": "2017-11-22T20:29:43.675036Z"
    }
   },
   "outputs": [],
   "source": [
    "monthGroup = df.groupby('month').inbound.count().reset_index()"
   ]
  },
  {
   "cell_type": "code",
   "execution_count": 18,
   "metadata": {
    "ExecuteTime": {
     "end_time": "2017-11-22T20:29:43.876489Z",
     "start_time": "2017-11-22T20:29:43.858776Z"
    }
   },
   "outputs": [
    {
     "data": {
      "text/html": [
       "<div>\n",
       "<style scoped>\n",
       "    .dataframe tbody tr th:only-of-type {\n",
       "        vertical-align: middle;\n",
       "    }\n",
       "\n",
       "    .dataframe tbody tr th {\n",
       "        vertical-align: top;\n",
       "    }\n",
       "\n",
       "    .dataframe thead th {\n",
       "        text-align: right;\n",
       "    }\n",
       "</style>\n",
       "<table border=\"1\" class=\"dataframe\">\n",
       "  <thead>\n",
       "    <tr style=\"text-align: right;\">\n",
       "      <th></th>\n",
       "      <th>month</th>\n",
       "      <th>inbound</th>\n",
       "    </tr>\n",
       "  </thead>\n",
       "  <tbody>\n",
       "    <tr>\n",
       "      <th>0</th>\n",
       "      <td>1</td>\n",
       "      <td>279</td>\n",
       "    </tr>\n",
       "    <tr>\n",
       "      <th>1</th>\n",
       "      <td>2</td>\n",
       "      <td>318</td>\n",
       "    </tr>\n",
       "    <tr>\n",
       "      <th>2</th>\n",
       "      <td>3</td>\n",
       "      <td>257</td>\n",
       "    </tr>\n",
       "    <tr>\n",
       "      <th>3</th>\n",
       "      <td>4</td>\n",
       "      <td>408</td>\n",
       "    </tr>\n",
       "    <tr>\n",
       "      <th>4</th>\n",
       "      <td>5</td>\n",
       "      <td>505</td>\n",
       "    </tr>\n",
       "    <tr>\n",
       "      <th>5</th>\n",
       "      <td>6</td>\n",
       "      <td>545</td>\n",
       "    </tr>\n",
       "    <tr>\n",
       "      <th>6</th>\n",
       "      <td>7</td>\n",
       "      <td>880</td>\n",
       "    </tr>\n",
       "    <tr>\n",
       "      <th>7</th>\n",
       "      <td>8</td>\n",
       "      <td>2046</td>\n",
       "    </tr>\n",
       "    <tr>\n",
       "      <th>8</th>\n",
       "      <td>9</td>\n",
       "      <td>12812</td>\n",
       "    </tr>\n",
       "    <tr>\n",
       "      <th>9</th>\n",
       "      <td>10</td>\n",
       "      <td>1252713</td>\n",
       "    </tr>\n",
       "    <tr>\n",
       "      <th>10</th>\n",
       "      <td>11</td>\n",
       "      <td>633274</td>\n",
       "    </tr>\n",
       "    <tr>\n",
       "      <th>11</th>\n",
       "      <td>12</td>\n",
       "      <td>253</td>\n",
       "    </tr>\n",
       "  </tbody>\n",
       "</table>\n",
       "</div>"
      ],
      "text/plain": [
       "    month  inbound\n",
       "0       1      279\n",
       "1       2      318\n",
       "2       3      257\n",
       "3       4      408\n",
       "4       5      505\n",
       "5       6      545\n",
       "6       7      880\n",
       "7       8     2046\n",
       "8       9    12812\n",
       "9      10  1252713\n",
       "10     11   633274\n",
       "11     12      253"
      ]
     },
     "execution_count": 18,
     "metadata": {},
     "output_type": "execute_result"
    }
   ],
   "source": [
    "monthGroup"
   ]
  },
  {
   "cell_type": "code",
   "execution_count": 19,
   "metadata": {
    "ExecuteTime": {
     "end_time": "2017-11-22T20:29:45.328185Z",
     "start_time": "2017-11-22T20:29:44.538640Z"
    }
   },
   "outputs": [
    {
     "data": {
      "text/plain": [
       "Text(0,0.5,'Inbound Tweets')"
      ]
     },
     "execution_count": 19,
     "metadata": {},
     "output_type": "execute_result"
    },
    {
     "data": {
      "image/png": "[encoded data removed]",
      "text/plain": [
       "<matplotlib.figure.Figure at 0x1a177a42b0>"
      ]
     },
     "metadata": {},
     "output_type": "display_data"
    }
   ],
   "source": [
    "month_ticks = ['Jan','Feb','Mar','Apr','May','Jun','Jul','Aug','Sep','Oct','Nov','Dec']\n",
    "monthGroup.plot(kind='bar',figsize=(10,6),legend=False)\n",
    "plt.xticks(range(12),month_ticks)\n",
    "plt.xlabel('Month')\n",
    "plt.ylabel('Inbound Tweets')"
   ]
  },
  {
   "cell_type": "markdown",
   "metadata": {},
   "source": [
    "### Tweets by Day"
   ]
  },
  {
   "cell_type": "code",
   "execution_count": 20,
   "metadata": {
    "ExecuteTime": {
     "end_time": "2017-11-22T20:29:46.155465Z",
     "start_time": "2017-11-22T20:29:46.055123Z"
    }
   },
   "outputs": [],
   "source": [
    "df['day'] = df.date.dt.dayofweek"
   ]
  },
  {
   "cell_type": "code",
   "execution_count": 21,
   "metadata": {
    "ExecuteTime": {
     "end_time": "2017-11-22T20:29:46.352648Z",
     "start_time": "2017-11-22T20:29:46.244381Z"
    }
   },
   "outputs": [],
   "source": [
    "dayGroup = df.groupby('day').inbound.count().reset_index()"
   ]
  },
  {
   "cell_type": "code",
   "execution_count": 22,
   "metadata": {
    "ExecuteTime": {
     "end_time": "2017-11-22T20:29:46.669076Z",
     "start_time": "2017-11-22T20:29:46.435400Z"
    }
   },
   "outputs": [
    {
     "data": {
      "text/plain": [
       "Text(0,0.5,'Inbound Tweets')"
      ]
     },
     "execution_count": 22,
     "metadata": {},
     "output_type": "execute_result"
    },
    {
     "data": {
      "image/png": "[encoded data removed]",
      "text/plain": [
       "<matplotlib.figure.Figure at 0x1a1778a550>"
      ]
     },
     "metadata": {},
     "output_type": "display_data"
    }
   ],
   "source": [
    "day_ticks = ['Mon','Tues','Wed','Thurs','Fri','Sat','Sun']\n",
    "dayGroup.plot(kind='bar',figsize=(10,6),legend=False)\n",
    "plt.xticks(range(7),day_ticks)\n",
    "#plt.xlabel('Day')\n",
    "plt.ylabel('Inbound Tweets')"
   ]
  },
  {
   "cell_type": "markdown",
   "metadata": {},
   "source": [
    "### Tweets by Company"
   ]
  },
  {
   "cell_type": "code",
   "execution_count": 23,
   "metadata": {
    "ExecuteTime": {
     "end_time": "2017-11-22T20:29:47.405253Z",
     "start_time": "2017-11-22T20:29:46.786420Z"
    }
   },
   "outputs": [],
   "source": [
    "companyGroup = df.groupby('author_id').inbound.count().reset_index()"
   ]
  },
  {
   "cell_type": "code",
   "execution_count": 24,
   "metadata": {
    "ExecuteTime": {
     "end_time": "2017-11-22T20:29:47.729915Z",
     "start_time": "2017-11-22T20:29:47.407075Z"
    }
   },
   "outputs": [
    {
     "name": "stderr",
     "output_type": "stream",
     "text": [
      "/Users/xavier/anaconda/lib/python3.6/site-packages/ipykernel_launcher.py:1: UserWarning: This pattern has match groups. To actually get the groups, use str.extract.\n",
      "  \"\"\"Entry point for launching an IPython kernel.\n"
     ]
    }
   ],
   "source": [
    "companyGroup = companyGroup.loc[companyGroup.iloc[:,0].str.contains(r'(^\\D{6})')]\n",
    "companyGroup.sort_values('inbound',ascending=False,inplace=True)"
   ]
  },
  {
   "cell_type": "code",
   "execution_count": 25,
   "metadata": {
    "ExecuteTime": {
     "end_time": "2017-11-22T20:29:47.743307Z",
     "start_time": "2017-11-22T20:29:47.735105Z"
    }
   },
   "outputs": [
    {
     "data": {
      "text/plain": [
       "(102, 2)"
      ]
     },
     "execution_count": 25,
     "metadata": {},
     "output_type": "execute_result"
    }
   ],
   "source": [
    "companyGroup.shape"
   ]
  },
  {
   "cell_type": "code",
   "execution_count": 26,
   "metadata": {
    "ExecuteTime": {
     "end_time": "2017-11-22T20:29:47.826936Z",
     "start_time": "2017-11-22T20:29:47.806323Z"
    }
   },
   "outputs": [
    {
     "data": {
      "text/html": [
       "<div>\n",
       "<style scoped>\n",
       "    .dataframe tbody tr th:only-of-type {\n",
       "        vertical-align: middle;\n",
       "    }\n",
       "\n",
       "    .dataframe tbody tr th {\n",
       "        vertical-align: top;\n",
       "    }\n",
       "\n",
       "    .dataframe thead th {\n",
       "        text-align: right;\n",
       "    }\n",
       "</style>\n",
       "<table border=\"1\" class=\"dataframe\">\n",
       "  <thead>\n",
       "    <tr style=\"text-align: right;\">\n",
       "      <th></th>\n",
       "      <th>author_id</th>\n",
       "      <th>inbound</th>\n",
       "    </tr>\n",
       "  </thead>\n",
       "  <tbody>\n",
       "    <tr>\n",
       "      <th>492351</th>\n",
       "      <td>AmazonHelp</td>\n",
       "      <td>112849</td>\n",
       "    </tr>\n",
       "    <tr>\n",
       "      <th>492353</th>\n",
       "      <td>AppleSupport</td>\n",
       "      <td>79150</td>\n",
       "    </tr>\n",
       "    <tr>\n",
       "      <th>492428</th>\n",
       "      <td>Uber_Support</td>\n",
       "      <td>34885</td>\n",
       "    </tr>\n",
       "    <tr>\n",
       "      <th>492420</th>\n",
       "      <td>SpotifyCares</td>\n",
       "      <td>29494</td>\n",
       "    </tr>\n",
       "    <tr>\n",
       "      <th>492352</th>\n",
       "      <td>AmericanAir</td>\n",
       "      <td>25807</td>\n",
       "    </tr>\n",
       "    <tr>\n",
       "      <th>492421</th>\n",
       "      <td>TMobileHelp</td>\n",
       "      <td>24609</td>\n",
       "    </tr>\n",
       "    <tr>\n",
       "      <th>492442</th>\n",
       "      <td>comcastcares</td>\n",
       "      <td>22923</td>\n",
       "    </tr>\n",
       "    <tr>\n",
       "      <th>492376</th>\n",
       "      <td>British_Airways</td>\n",
       "      <td>21383</td>\n",
       "    </tr>\n",
       "    <tr>\n",
       "      <th>492419</th>\n",
       "      <td>SouthwestAir</td>\n",
       "      <td>20265</td>\n",
       "    </tr>\n",
       "    <tr>\n",
       "      <th>492369</th>\n",
       "      <td>Ask_Spectrum</td>\n",
       "      <td>18136</td>\n",
       "    </tr>\n",
       "    <tr>\n",
       "      <th>492433</th>\n",
       "      <td>VirginTrains</td>\n",
       "      <td>17225</td>\n",
       "    </tr>\n",
       "    <tr>\n",
       "      <th>492450</th>\n",
       "      <td>sprintcare</td>\n",
       "      <td>17091</td>\n",
       "    </tr>\n",
       "    <tr>\n",
       "      <th>492435</th>\n",
       "      <td>XboxSupport</td>\n",
       "      <td>16833</td>\n",
       "    </tr>\n",
       "    <tr>\n",
       "      <th>492443</th>\n",
       "      <td>hulu_support</td>\n",
       "      <td>15046</td>\n",
       "    </tr>\n",
       "    <tr>\n",
       "      <th>492362</th>\n",
       "      <td>AskPlayStation</td>\n",
       "      <td>13939</td>\n",
       "    </tr>\n",
       "    <tr>\n",
       "      <th>492380</th>\n",
       "      <td>ChipotleTweets</td>\n",
       "      <td>13470</td>\n",
       "    </tr>\n",
       "    <tr>\n",
       "      <th>492430</th>\n",
       "      <td>VerizonSupport</td>\n",
       "      <td>12660</td>\n",
       "    </tr>\n",
       "    <tr>\n",
       "      <th>492448</th>\n",
       "      <td>sainsburys</td>\n",
       "      <td>12446</td>\n",
       "    </tr>\n",
       "    <tr>\n",
       "      <th>492387</th>\n",
       "      <td>GWRHelp</td>\n",
       "      <td>12407</td>\n",
       "    </tr>\n",
       "    <tr>\n",
       "      <th>492444</th>\n",
       "      <td>idea_cares</td>\n",
       "      <td>10715</td>\n",
       "    </tr>\n",
       "    <tr>\n",
       "      <th>492418</th>\n",
       "      <td>Safaricom_Care</td>\n",
       "      <td>10643</td>\n",
       "    </tr>\n",
       "    <tr>\n",
       "      <th>492426</th>\n",
       "      <td>UPSHelp</td>\n",
       "      <td>9709</td>\n",
       "    </tr>\n",
       "    <tr>\n",
       "      <th>492344</th>\n",
       "      <td>ATVIAssist</td>\n",
       "      <td>9322</td>\n",
       "    </tr>\n",
       "    <tr>\n",
       "      <th>492417</th>\n",
       "      <td>SW_Help</td>\n",
       "      <td>8414</td>\n",
       "    </tr>\n",
       "    <tr>\n",
       "      <th>492374</th>\n",
       "      <td>BofA_Help</td>\n",
       "      <td>8386</td>\n",
       "    </tr>\n",
       "    <tr>\n",
       "      <th>492359</th>\n",
       "      <td>AskLyft</td>\n",
       "      <td>8262</td>\n",
       "    </tr>\n",
       "    <tr>\n",
       "      <th>492356</th>\n",
       "      <td>AskAmex</td>\n",
       "      <td>7948</td>\n",
       "    </tr>\n",
       "    <tr>\n",
       "      <th>492405</th>\n",
       "      <td>MicrosoftHelps</td>\n",
       "      <td>7712</td>\n",
       "    </tr>\n",
       "    <tr>\n",
       "      <th>492366</th>\n",
       "      <td>AskTarget</td>\n",
       "      <td>7602</td>\n",
       "    </tr>\n",
       "    <tr>\n",
       "      <th>492361</th>\n",
       "      <td>AskPayPal</td>\n",
       "      <td>7217</td>\n",
       "    </tr>\n",
       "    <tr>\n",
       "      <th>...</th>\n",
       "      <td>...</td>\n",
       "      <td>...</td>\n",
       "    </tr>\n",
       "    <tr>\n",
       "      <th>492416</th>\n",
       "      <td>SCsupport</td>\n",
       "      <td>961</td>\n",
       "    </tr>\n",
       "    <tr>\n",
       "      <th>492400</th>\n",
       "      <td>Kimpton</td>\n",
       "      <td>912</td>\n",
       "    </tr>\n",
       "    <tr>\n",
       "      <th>492427</th>\n",
       "      <td>USCellularCares</td>\n",
       "      <td>848</td>\n",
       "    </tr>\n",
       "    <tr>\n",
       "      <th>492386</th>\n",
       "      <td>DunkinDonuts</td>\n",
       "      <td>841</td>\n",
       "    </tr>\n",
       "    <tr>\n",
       "      <th>492413</th>\n",
       "      <td>PandoraSupport</td>\n",
       "      <td>821</td>\n",
       "    </tr>\n",
       "    <tr>\n",
       "      <th>492393</th>\n",
       "      <td>HiltonHelp</td>\n",
       "      <td>820</td>\n",
       "    </tr>\n",
       "    <tr>\n",
       "      <th>492345</th>\n",
       "      <td>AWSSupport</td>\n",
       "      <td>703</td>\n",
       "    </tr>\n",
       "    <tr>\n",
       "      <th>492368</th>\n",
       "      <td>AskVirginMoney</td>\n",
       "      <td>698</td>\n",
       "    </tr>\n",
       "    <tr>\n",
       "      <th>492436</th>\n",
       "      <td>YahooCare</td>\n",
       "      <td>669</td>\n",
       "    </tr>\n",
       "    <tr>\n",
       "      <th>492363</th>\n",
       "      <td>AskRBC</td>\n",
       "      <td>663</td>\n",
       "    </tr>\n",
       "    <tr>\n",
       "      <th>492411</th>\n",
       "      <td>OPPOCareIN</td>\n",
       "      <td>652</td>\n",
       "    </tr>\n",
       "    <tr>\n",
       "      <th>492375</th>\n",
       "      <td>BoostCare</td>\n",
       "      <td>650</td>\n",
       "    </tr>\n",
       "    <tr>\n",
       "      <th>492414</th>\n",
       "      <td>PearsonSupport</td>\n",
       "      <td>650</td>\n",
       "    </tr>\n",
       "    <tr>\n",
       "      <th>492403</th>\n",
       "      <td>MTNC_Care</td>\n",
       "      <td>615</td>\n",
       "    </tr>\n",
       "    <tr>\n",
       "      <th>492407</th>\n",
       "      <td>NeweggService</td>\n",
       "      <td>581</td>\n",
       "    </tr>\n",
       "    <tr>\n",
       "      <th>492449</th>\n",
       "      <td>sizehelpteam</td>\n",
       "      <td>574</td>\n",
       "    </tr>\n",
       "    <tr>\n",
       "      <th>492441</th>\n",
       "      <td>askvisa</td>\n",
       "      <td>570</td>\n",
       "    </tr>\n",
       "    <tr>\n",
       "      <th>492390</th>\n",
       "      <td>GooglePlayMusic</td>\n",
       "      <td>566</td>\n",
       "    </tr>\n",
       "    <tr>\n",
       "      <th>492440</th>\n",
       "      <td>asksalesforce</td>\n",
       "      <td>527</td>\n",
       "    </tr>\n",
       "    <tr>\n",
       "      <th>492367</th>\n",
       "      <td>AskTigogh</td>\n",
       "      <td>489</td>\n",
       "    </tr>\n",
       "    <tr>\n",
       "      <th>492438</th>\n",
       "      <td>ask_progressive</td>\n",
       "      <td>474</td>\n",
       "    </tr>\n",
       "    <tr>\n",
       "      <th>492365</th>\n",
       "      <td>AskSeagate</td>\n",
       "      <td>459</td>\n",
       "    </tr>\n",
       "    <tr>\n",
       "      <th>492399</th>\n",
       "      <td>KeyBank_Help</td>\n",
       "      <td>422</td>\n",
       "    </tr>\n",
       "    <tr>\n",
       "      <th>492364</th>\n",
       "      <td>AskRobinhood</td>\n",
       "      <td>340</td>\n",
       "    </tr>\n",
       "    <tr>\n",
       "      <th>492446</th>\n",
       "      <td>mediatemplehelp</td>\n",
       "      <td>236</td>\n",
       "    </tr>\n",
       "    <tr>\n",
       "      <th>492396</th>\n",
       "      <td>JackBox</td>\n",
       "      <td>192</td>\n",
       "    </tr>\n",
       "    <tr>\n",
       "      <th>492412</th>\n",
       "      <td>OfficeSupport</td>\n",
       "      <td>167</td>\n",
       "    </tr>\n",
       "    <tr>\n",
       "      <th>492358</th>\n",
       "      <td>AskDSC</td>\n",
       "      <td>164</td>\n",
       "    </tr>\n",
       "    <tr>\n",
       "      <th>492377</th>\n",
       "      <td>CarlsJr</td>\n",
       "      <td>162</td>\n",
       "    </tr>\n",
       "    <tr>\n",
       "      <th>492394</th>\n",
       "      <td>HotelTonightCX</td>\n",
       "      <td>131</td>\n",
       "    </tr>\n",
       "  </tbody>\n",
       "</table>\n",
       "<p>102 rows × 2 columns</p>\n",
       "</div>"
      ],
      "text/plain": [
       "              author_id  inbound\n",
       "492351       AmazonHelp   112849\n",
       "492353     AppleSupport    79150\n",
       "492428     Uber_Support    34885\n",
       "492420     SpotifyCares    29494\n",
       "492352      AmericanAir    25807\n",
       "492421      TMobileHelp    24609\n",
       "492442     comcastcares    22923\n",
       "492376  British_Airways    21383\n",
       "492419     SouthwestAir    20265\n",
       "492369     Ask_Spectrum    18136\n",
       "492433     VirginTrains    17225\n",
       "492450       sprintcare    17091\n",
       "492435      XboxSupport    16833\n",
       "492443     hulu_support    15046\n",
       "492362   AskPlayStation    13939\n",
       "492380   ChipotleTweets    13470\n",
       "492430   VerizonSupport    12660\n",
       "492448       sainsburys    12446\n",
       "492387          GWRHelp    12407\n",
       "492444       idea_cares    10715\n",
       "492418   Safaricom_Care    10643\n",
       "492426          UPSHelp     9709\n",
       "492344       ATVIAssist     9322\n",
       "492417          SW_Help     8414\n",
       "492374        BofA_Help     8386\n",
       "492359          AskLyft     8262\n",
       "492356          AskAmex     7948\n",
       "492405   MicrosoftHelps     7712\n",
       "492366        AskTarget     7602\n",
       "492361        AskPayPal     7217\n",
       "...                 ...      ...\n",
       "492416        SCsupport      961\n",
       "492400          Kimpton      912\n",
       "492427  USCellularCares      848\n",
       "492386     DunkinDonuts      841\n",
       "492413   PandoraSupport      821\n",
       "492393       HiltonHelp      820\n",
       "492345       AWSSupport      703\n",
       "492368   AskVirginMoney      698\n",
       "492436        YahooCare      669\n",
       "492363           AskRBC      663\n",
       "492411       OPPOCareIN      652\n",
       "492375        BoostCare      650\n",
       "492414   PearsonSupport      650\n",
       "492403        MTNC_Care      615\n",
       "492407    NeweggService      581\n",
       "492449     sizehelpteam      574\n",
       "492441          askvisa      570\n",
       "492390  GooglePlayMusic      566\n",
       "492440    asksalesforce      527\n",
       "492367        AskTigogh      489\n",
       "492438  ask_progressive      474\n",
       "492365       AskSeagate      459\n",
       "492399     KeyBank_Help      422\n",
       "492364     AskRobinhood      340\n",
       "492446  mediatemplehelp      236\n",
       "492396          JackBox      192\n",
       "492412    OfficeSupport      167\n",
       "492358           AskDSC      164\n",
       "492377          CarlsJr      162\n",
       "492394   HotelTonightCX      131\n",
       "\n",
       "[102 rows x 2 columns]"
      ]
     },
     "execution_count": 26,
     "metadata": {},
     "output_type": "execute_result"
    }
   ],
   "source": [
    "companyGroup"
   ]
  },
  {
   "cell_type": "markdown",
   "metadata": {},
   "source": [
    "## Text Processing"
   ]
  },
  {
   "cell_type": "code",
   "execution_count": 27,
   "metadata": {
    "ExecuteTime": {
     "end_time": "2017-11-24T20:51:48.534306Z",
     "start_time": "2017-11-24T20:51:48.520595Z"
    }
   },
   "outputs": [],
   "source": [
    "from nltk.corpus import stopwords\n",
    "from nltk.stem.wordnet import WordNetLemmatizer\n",
    "import string"
   ]
  },
  {
   "cell_type": "markdown",
   "metadata": {},
   "source": [
    "### Stop Words"
   ]
  },
  {
   "cell_type": "code",
   "execution_count": 28,
   "metadata": {
    "ExecuteTime": {
     "end_time": "2017-11-24T20:52:04.054232Z",
     "start_time": "2017-11-24T20:52:04.042245Z"
    }
   },
   "outputs": [],
   "source": [
    "stop = set(stopwords.words('english'))"
   ]
  },
  {
   "cell_type": "code",
   "execution_count": 29,
   "metadata": {
    "ExecuteTime": {
     "end_time": "2017-11-24T20:52:36.162139Z",
     "start_time": "2017-11-24T20:52:36.155347Z"
    }
   },
   "outputs": [],
   "source": [
    "exclude = set(string.punctuation)"
   ]
  },
  {
   "cell_type": "code",
   "execution_count": 30,
   "metadata": {
    "ExecuteTime": {
     "end_time": "2017-11-24T20:52:50.335258Z",
     "start_time": "2017-11-24T20:52:50.330868Z"
    }
   },
   "outputs": [],
   "source": [
    "lemma = WordNetLemmatizer()"
   ]
  },
  {
   "cell_type": "code",
   "execution_count": 31,
   "metadata": {
    "ExecuteTime": {
     "end_time": "2017-11-24T20:53:13.470018Z",
     "start_time": "2017-11-24T20:53:13.444232Z"
    }
   },
   "outputs": [],
   "source": [
    "def clean(doc):\n",
    "    stop_free = \" \".join([i for i in doc.lower().split() if i not in stop])\n",
    "    punc_free = ''.join(ch for ch in stop_free if ch not in exclude)\n",
    "    normalized = \" \".join(lemma.lemmatize(word) for word in punc_free.split())\n",
    "    return normalized"
   ]
  },
  {
   "cell_type": "code",
   "execution_count": 32,
   "metadata": {
    "ExecuteTime": {
     "end_time": "2017-11-24T20:56:51.505478Z",
     "start_time": "2017-11-24T20:54:40.548690Z"
    }
   },
   "outputs": [],
   "source": [
    "%time doc_clean = [clean(doc).split() for doc in df.textxt]  "
   ]
  },
  {
   "cell_type": "code",
   "execution_count": 36,
   "metadata": {
    "ExecuteTime": {
     "end_time": "2017-11-24T21:00:06.793284Z",
     "start_time": "2017-11-24T21:00:06.781086Z"
    }
   },
   "outputs": [
    {
     "data": {
      "text/plain": [
       "['99458', 'hope', 'enjoy', 'it', 'rob', '🍕']"
      ]
     },
     "execution_count": 36,
     "metadata": {},
     "output_type": "execute_result"
    }
   ],
   "source": [
    "doc_clean[-1][:]"
   ]
  },
  {
   "cell_type": "code",
   "execution_count": null,
   "metadata": {},
   "outputs": [],
   "source": []
  }
 ],
 "metadata": {
  "kernelspec": {
   "display_name": "Python 3",
   "language": "python",
   "name": "python3"
  },
  "language_info": {
   "codemirror_mode": {
    "name": "ipython",
    "version": 3
   },
   "file_extension": ".py",
   "mimetype": "text/x-python",
   "name": "python",
   "nbconvert_exporter": "python",
   "pygments_lexer": "ipython3",
   "version": "3.6.3"
  },
  "toc": {
   "nav_menu": {},
   "number_sections": true,
   "sideBar": true,
   "skip_h1_title": true,
   "toc_cell": false,
   "toc_position": {},
   "toc_section_display": "block",
   "toc_window_display": true
  }
 },
 "nbformat": 4,
 "nbformat_minor": 2
}

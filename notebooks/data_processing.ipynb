{
 "cells": [
  {
   "cell_type": "code",
   "execution_count": 56,
   "metadata": {
    "ExecuteTime": {
     "end_time": "2017-11-27T20:10:51.437124Z",
     "start_time": "2017-11-27T20:10:51.420468Z"
    }
   },
   "outputs": [],
   "source": [
    "import pandas as pd\n",
    "import numpy as np\n",
    "from textblob import TextBlob\n",
    "import nltk\n",
    "import re\n",
    "import string\n",
    "from nltk.corpus import stopwords\n",
    "from sklearn.feature_extraction.text import TfidfVectorizer\n",
    "from sklearn.feature_extraction.text import CountVectorizer\n",
    "from nltk.stem.wordnet import WordNetLemmatizer\n",
    "from sklearn.decomposition import NMF, LatentDirichletAllocation\n",
    "from nltk.tokenize import sent_tokenize\n",
    "from nltk.tokenize import word_tokenize\n",
    "from nltk.tokenize import TweetTokenizer\n",
    "from sklearn.externals import joblib\n",
    "from sklearn.cluster import KMeans\n",
    "from sklearn.manifold import TSNE\n",
    "\n",
    "%matplotlib inline\n",
    "import seaborn as sns\n",
    "import matplotlib.pyplot as plt\n",
    "plt.style.use('fivethirtyeight')"
   ]
  },
  {
   "cell_type": "code",
   "execution_count": 2,
   "metadata": {
    "ExecuteTime": {
     "end_time": "2017-11-27T19:19:02.452252Z",
     "start_time": "2017-11-27T19:19:02.438809Z"
    }
   },
   "outputs": [],
   "source": [
    "companies = ['nikesupport','xboxsupport','upshelp','comcastcares','amazonhelp','jetblue','americanair',\n",
    "             'tacobellteam','mcdonalds','kimpton','ihgservice','spotifycares','hiltonhelp','applesupport',\n",
    "             'microsofthelps','googleplaymusic','scsupport','pandorasupport','hoteltonightcx','dunkindonuts',\n",
    "             'jackbox','chipotletweets','askpanera','carlsjr','att','tmobilehelp','sprintcare','verizonsupport',\n",
    "             'boostcare','uscellularcares','alaskaair','virginamerica','virginatlantic','delta','british_airways',\n",
    "             'southwestair','awssupport','twittersupport','askplaystation','neweggservice','dropboxsupport',\n",
    "             'hpsupport','atviassist','azuresupport','nortonsupport','dellcares','hulu_support','askrobinhood',\n",
    "             'officesupport','arbyscares','pearsonsupport','yahoocare','idea_cares','airtel_care','coxhelp',\n",
    "             'kfc_uki_help','asurioncares','adobecare','glocare','sizehelpteam','airasiasupport','safaricom_care',\n",
    "             'oppocarein','bofa_help','chasesupport','askciti','ask_wellsfargo','keybank_help','moo','centurylinkhelp',\n",
    "             'mediatemplehelp','godaddyhelp','postmates_help','doordash_help','airbnbhelp','uber_support','asklyft',\n",
    "             'askseagate','ask_spectrum','askpaypal','asksalesforce','askvirginmoney','askdsc','askpapajohns','askrbc',\n",
    "             'askebay','asktigogh','vmucare','askamex','ask_progressive','mtnc_care','askvisa','tesco','sainsburys',\n",
    "             'walmart','asktarget','morrisons','aldiuk','argoshelpers','greggsofficial','marksandspencer','virgintrains',\n",
    "             'nationalrailenq','sw_help','londonmidland','gwrhelp','tfl','o2']"
   ]
  },
  {
   "cell_type": "code",
   "execution_count": null,
   "metadata": {},
   "outputs": [],
   "source": [
    "df."
   ]
  },
  {
   "cell_type": "markdown",
   "metadata": {
    "ExecuteTime": {
     "end_time": "2017-11-25T02:11:37.044837Z",
     "start_time": "2017-11-25T02:11:37.042179Z"
    }
   },
   "source": [
    "## Functions"
   ]
  },
  {
   "cell_type": "markdown",
   "metadata": {
    "ExecuteTime": {
     "end_time": "2017-11-25T02:11:45.056560Z",
     "start_time": "2017-11-25T02:11:45.054275Z"
    }
   },
   "source": [
    "### Display Topics"
   ]
  },
  {
   "cell_type": "code",
   "execution_count": 3,
   "metadata": {
    "ExecuteTime": {
     "end_time": "2017-11-27T19:19:06.043258Z",
     "start_time": "2017-11-27T19:19:06.039645Z"
    }
   },
   "outputs": [],
   "source": [
    "def display_topics(model, feature_names, no_top_words):\n",
    "    for topic_idx, topic in enumerate(model.components_):\n",
    "        print (\"Topic %d:\" % (topic_idx))\n",
    "        print (\" \".join([feature_names[i]\n",
    "                        for i in topic.argsort()[:-no_top_words - 1:-1]]))"
   ]
  },
  {
   "cell_type": "code",
   "execution_count": 4,
   "metadata": {
    "ExecuteTime": {
     "end_time": "2017-11-27T19:19:06.506547Z",
     "start_time": "2017-11-27T19:19:06.500511Z"
    }
   },
   "outputs": [],
   "source": [
    "def display_topics2(H, W, feature_names, documents, no_top_words, no_top_documents):\n",
    "    for topic_idx, topic in enumerate(H):\n",
    "        print(\"Topic %d:\" % (topic_idx))\n",
    "        print(\" \".join([feature_names[i]\n",
    "                        for i in topic.argsort()[:-no_top_words - 1:-1]]))\n",
    "        top_doc_indices = np.argsort( W[:,topic_idx] )[::-1][0:no_top_documents]\n",
    "        for doc_index in top_doc_indices:\n",
    "            print(documents[doc_index])"
   ]
  },
  {
   "cell_type": "markdown",
   "metadata": {},
   "source": [
    "### Topic Distribution"
   ]
  },
  {
   "cell_type": "code",
   "execution_count": 159,
   "metadata": {
    "ExecuteTime": {
     "end_time": "2017-11-27T22:05:31.604422Z",
     "start_time": "2017-11-27T22:05:31.585900Z"
    }
   },
   "outputs": [],
   "source": [
    "def topic_distribution(df,model):\n",
    "    unique_tweets = list(set(df.tweet_id))\n",
    "    topic_list = []\n",
    "    for tweet in unique_tweets:\n",
    "        topic_mean = np.mean(model[df['tweet_id'] == tweet], axis=0)\n",
    "        #print(max(topic_mean))\n",
    "        itemindex = np.where(topic_mean==max(topic_mean))\n",
    "        itemindex = topic_mean.argsort()[-3:][::-1]\n",
    "        #print (int(itemindex[0]))\n",
    "        topic_tweet = {\"tweet_count\":tweet,\"tweet_category\":int(itemindex[0])}\n",
    "        topic_list.append(topic_tweet)\n",
    "    \n",
    "    topics_df = pd.DataFrame(topic_list) \n",
    "    topics_df.head(30)\n",
    "    topicGroup = topics_df.groupby('tweet_category').tweet_count.count().reset_index()\n",
    "    topicGroup.sort_values('tweet_count',ascending=False, inplace=True)\n",
    "    \n",
    "    return topicGroup"
   ]
  },
  {
   "cell_type": "markdown",
   "metadata": {},
   "source": [
    "### Get Topics"
   ]
  },
  {
   "cell_type": "code",
   "execution_count": 255,
   "metadata": {
    "ExecuteTime": {
     "end_time": "2017-11-27T22:49:42.858321Z",
     "start_time": "2017-11-27T22:49:42.830169Z"
    }
   },
   "outputs": [],
   "source": [
    "def get_topics(company,k,d,mdf=.6,c=companies):\n",
    "    ''' Takes a company and then runs NMF to get the topics. \n",
    "    Returns model and feature names.\n",
    "    \n",
    "    Parameters:\n",
    "    company: str name of company \n",
    "    k: int components for nmf\n",
    "    d: dataframe containing tweets'''\n",
    "    c = [word.lower() for word in c]\n",
    "    print(c[:5])\n",
    "    stop = set(stopwords.words('english')+ \\\n",
    "    ['rt','amp', 'via', 'one', 'around', 'would', 'let', 'could', 'going', 'like', 'get', 'may', 'says', 'say', 'make',\n",
    "        'based', 'even', 'another', 'completely', 'way', 'find', 'used', 'thing', '2017', 'see', 'need', 'thank',\n",
    "        'know','knows', 'think', 'thinks', 'take', 'new', 'day', 'days','https','co','dm','us','look', 'hi','tried',\n",
    "    'want','send','help','hello','back']+c)\n",
    "    \n",
    "    companyDF = d[d['author_id'].str.contains(company) | d['text'].str.contains(company)]\n",
    "    print('dataframe shape:',companyDF.shape)\n",
    "    \n",
    "    func_tf_vectorizer = TfidfVectorizer(stop_words=stop,use_idf=True,token_pattern=\"\\\\b[a-z][a-z]+\\\\b\",max_df=mdf,min_df=.05)\n",
    "    func_tf = func_tf_vectorizer.fit_transform(companyDF.text)\n",
    "    func_tf_feature_names = func_tf_vectorizer.get_feature_names()\n",
    "    func_nmf = NMF(n_components=k, init='random')\n",
    "    func_nmf_fit = func_nmf.fit_transform(func_tf)\n",
    "    \n",
    "    topic_dist = topic_distribution(companyDF,func_nmf_fit)\n",
    "    \n",
    "    return func_nmf,func_tf_feature_names, topic_dist"
   ]
  },
  {
   "cell_type": "markdown",
   "metadata": {},
   "source": [
    "### Stop Words"
   ]
  },
  {
   "cell_type": "code",
   "execution_count": 205,
   "metadata": {
    "ExecuteTime": {
     "end_time": "2017-11-27T22:33:53.847015Z",
     "start_time": "2017-11-27T22:33:53.841841Z"
    }
   },
   "outputs": [],
   "source": [
    "stop = set(stopwords.words('english')+ \\\n",
    "    ['rt','amp', 'via', 'one', 'around', 'would', 'let', 'could', 'going', 'like', 'get', 'may', 'says', 'say', 'make',\n",
    "        'based', 'even', 'another', 'completely', 'way', 'find', 'used', 'thing', '2017', 'see', 'need',\n",
    "        'know','knows', 'think', 'thinks', 'take', 'new', 'day', 'days','https','co','dm','us','look', 'hi','tried'\n",
    "    'want','send']+companies)\n"
   ]
  },
  {
   "cell_type": "code",
   "execution_count": 7,
   "metadata": {
    "ExecuteTime": {
     "end_time": "2017-11-27T19:19:12.799420Z",
     "start_time": "2017-11-27T19:19:12.797416Z"
    }
   },
   "outputs": [],
   "source": [
    "exclude = set(string.punctuation)"
   ]
  },
  {
   "cell_type": "code",
   "execution_count": 8,
   "metadata": {
    "ExecuteTime": {
     "end_time": "2017-11-27T19:19:13.372703Z",
     "start_time": "2017-11-27T19:19:13.370769Z"
    }
   },
   "outputs": [],
   "source": [
    "lemma = WordNetLemmatizer()"
   ]
  },
  {
   "cell_type": "code",
   "execution_count": 9,
   "metadata": {
    "ExecuteTime": {
     "end_time": "2017-11-27T19:19:13.882570Z",
     "start_time": "2017-11-27T19:19:13.734370Z"
    }
   },
   "outputs": [],
   "source": [
    "english_vocab = set(w.lower() for w in nltk.corpus.words.words())"
   ]
  },
  {
   "cell_type": "markdown",
   "metadata": {},
   "source": [
    "### Lemmatize and Tokenize"
   ]
  },
  {
   "cell_type": "code",
   "execution_count": 10,
   "metadata": {
    "ExecuteTime": {
     "end_time": "2017-11-27T19:19:17.797536Z",
     "start_time": "2017-11-27T19:19:17.792582Z"
    }
   },
   "outputs": [],
   "source": [
    "def clean(doc):\n",
    "    stop_free = \" \".join([i for i in doc.lower().split() if i not in stop])\n",
    "    punc_free = ''.join(ch for ch in stop_free if ch not in exclude)\n",
    "    normalized = \" \".join(lemma.lemmatize(word) for word in punc_free.split())\n",
    "    return normalized"
   ]
  },
  {
   "cell_type": "markdown",
   "metadata": {},
   "source": [
    "### Process Tweet Text"
   ]
  },
  {
   "cell_type": "code",
   "execution_count": 11,
   "metadata": {
    "ExecuteTime": {
     "end_time": "2017-11-27T19:19:18.385758Z",
     "start_time": "2017-11-27T19:19:18.378043Z"
    }
   },
   "outputs": [],
   "source": [
    "def process_tweet_text(tweet):\n",
    "    if tweet.startswith('@null'):\n",
    "        return \"[Tweet not available]\"\n",
    "    tweet = re.sub(r'\\$\\w*','',tweet) # Remove tickers\n",
    "    tweet = re.sub(r'https?:\\/\\/.*\\/\\w*','',tweet) # Remove hyperlinks\n",
    "    tweet = re.sub(r'['+string.punctuation+']+', ' ',tweet) # Remove puncutations like 's\n",
    "    twtok = TweetTokenizer(strip_handles=True, reduce_len=True)\n",
    "    tokens = twtok.tokenize(tweet)\n",
    "    tokens = [i.lower() for i in tokens if i not in stop and len(i) > 2 and  \n",
    "                                             i in english_vocab]\n",
    "    return \",\".join(tokens)"
   ]
  },
  {
   "cell_type": "markdown",
   "metadata": {},
   "source": [
    "## Import Data"
   ]
  },
  {
   "cell_type": "code",
   "execution_count": 12,
   "metadata": {
    "ExecuteTime": {
     "end_time": "2017-11-26T23:16:38.562378Z",
     "start_time": "2017-11-26T23:16:29.984780Z"
    }
   },
   "outputs": [],
   "source": [
    "df = pd.read_csv('../data/twcs.csv')"
   ]
  },
  {
   "cell_type": "markdown",
   "metadata": {},
   "source": [
    "## EDA"
   ]
  },
  {
   "cell_type": "code",
   "execution_count": 6,
   "metadata": {
    "ExecuteTime": {
     "end_time": "2017-11-24T21:13:20.158864Z",
     "start_time": "2017-11-24T21:13:20.153173Z"
    }
   },
   "outputs": [
    {
     "data": {
      "text/plain": [
       "(2225821, 7)"
      ]
     },
     "execution_count": 6,
     "metadata": {},
     "output_type": "execute_result"
    }
   ],
   "source": [
    "df.shape"
   ]
  },
  {
   "cell_type": "code",
   "execution_count": 7,
   "metadata": {
    "ExecuteTime": {
     "end_time": "2017-11-24T21:13:25.392936Z",
     "start_time": "2017-11-24T21:13:25.388618Z"
    }
   },
   "outputs": [
    {
     "data": {
      "text/plain": [
       "['tweet_id',\n",
       " 'author_id',\n",
       " 'inbound',\n",
       " 'created_at',\n",
       " 'text',\n",
       " 'response_tweet_id',\n",
       " 'in_response_to_tweet_id']"
      ]
     },
     "execution_count": 7,
     "metadata": {},
     "output_type": "execute_result"
    }
   ],
   "source": [
    "df.columns.tolist()"
   ]
  },
  {
   "cell_type": "code",
   "execution_count": 8,
   "metadata": {
    "ExecuteTime": {
     "end_time": "2017-11-24T21:13:28.286890Z",
     "start_time": "2017-11-24T21:13:28.265785Z"
    }
   },
   "outputs": [
    {
     "data": {
      "text/html": [
       "<div>\n",
       "<style scoped>\n",
       "    .dataframe tbody tr th:only-of-type {\n",
       "        vertical-align: middle;\n",
       "    }\n",
       "\n",
       "    .dataframe tbody tr th {\n",
       "        vertical-align: top;\n",
       "    }\n",
       "\n",
       "    .dataframe thead th {\n",
       "        text-align: right;\n",
       "    }\n",
       "</style>\n",
       "<table border=\"1\" class=\"dataframe\">\n",
       "  <thead>\n",
       "    <tr style=\"text-align: right;\">\n",
       "      <th></th>\n",
       "      <th>tweet_id</th>\n",
       "      <th>author_id</th>\n",
       "      <th>inbound</th>\n",
       "      <th>created_at</th>\n",
       "      <th>text</th>\n",
       "      <th>response_tweet_id</th>\n",
       "      <th>in_response_to_tweet_id</th>\n",
       "    </tr>\n",
       "  </thead>\n",
       "  <tbody>\n",
       "    <tr>\n",
       "      <th>0</th>\n",
       "      <td>1</td>\n",
       "      <td>VirginAtlantic</td>\n",
       "      <td>False</td>\n",
       "      <td>Wed Oct 04 22:37:58 +0000 2017</td>\n",
       "      <td>@95932 Hmmm they may be full. Have you tried b...</td>\n",
       "      <td>2</td>\n",
       "      <td>3.0</td>\n",
       "    </tr>\n",
       "    <tr>\n",
       "      <th>1</th>\n",
       "      <td>2</td>\n",
       "      <td>95932</td>\n",
       "      <td>True</td>\n",
       "      <td>Wed Oct 04 22:55:58 +0000 2017</td>\n",
       "      <td>@VirginAtlantic Sure have. Nothing comes up at...</td>\n",
       "      <td>4</td>\n",
       "      <td>1.0</td>\n",
       "    </tr>\n",
       "    <tr>\n",
       "      <th>2</th>\n",
       "      <td>4</td>\n",
       "      <td>VirginAtlantic</td>\n",
       "      <td>False</td>\n",
       "      <td>Wed Oct 04 23:00:12 +0000 2017</td>\n",
       "      <td>@95932 I'm going to report this then. It sound...</td>\n",
       "      <td>NaN</td>\n",
       "      <td>2.0</td>\n",
       "    </tr>\n",
       "    <tr>\n",
       "      <th>3</th>\n",
       "      <td>3</td>\n",
       "      <td>95932</td>\n",
       "      <td>True</td>\n",
       "      <td>Wed Oct 04 22:36:35 +0000 2017</td>\n",
       "      <td>@VirginAtlantic Yes, nothing comes up 🙁</td>\n",
       "      <td>1</td>\n",
       "      <td>5.0</td>\n",
       "    </tr>\n",
       "    <tr>\n",
       "      <th>4</th>\n",
       "      <td>5</td>\n",
       "      <td>VirginAtlantic</td>\n",
       "      <td>False</td>\n",
       "      <td>Wed Oct 04 20:15:59 +0000 2017</td>\n",
       "      <td>@95932 Have you tried towards the end of March...</td>\n",
       "      <td>3</td>\n",
       "      <td>6.0</td>\n",
       "    </tr>\n",
       "  </tbody>\n",
       "</table>\n",
       "</div>"
      ],
      "text/plain": [
       "   tweet_id       author_id  inbound                      created_at  \\\n",
       "0         1  VirginAtlantic    False  Wed Oct 04 22:37:58 +0000 2017   \n",
       "1         2           95932     True  Wed Oct 04 22:55:58 +0000 2017   \n",
       "2         4  VirginAtlantic    False  Wed Oct 04 23:00:12 +0000 2017   \n",
       "3         3           95932     True  Wed Oct 04 22:36:35 +0000 2017   \n",
       "4         5  VirginAtlantic    False  Wed Oct 04 20:15:59 +0000 2017   \n",
       "\n",
       "                                                text response_tweet_id  \\\n",
       "0  @95932 Hmmm they may be full. Have you tried b...                 2   \n",
       "1  @VirginAtlantic Sure have. Nothing comes up at...                 4   \n",
       "2  @95932 I'm going to report this then. It sound...               NaN   \n",
       "3            @VirginAtlantic Yes, nothing comes up 🙁                 1   \n",
       "4  @95932 Have you tried towards the end of March...                 3   \n",
       "\n",
       "   in_response_to_tweet_id  \n",
       "0                      3.0  \n",
       "1                      1.0  \n",
       "2                      2.0  \n",
       "3                      5.0  \n",
       "4                      6.0  "
      ]
     },
     "execution_count": 8,
     "metadata": {},
     "output_type": "execute_result"
    }
   ],
   "source": [
    "df.head()"
   ]
  },
  {
   "cell_type": "code",
   "execution_count": 9,
   "metadata": {
    "ExecuteTime": {
     "end_time": "2017-11-24T21:13:32.115072Z",
     "start_time": "2017-11-24T21:13:32.105706Z"
    }
   },
   "outputs": [
    {
     "name": "stdout",
     "output_type": "stream",
     "text": [
      "<class 'pandas.core.frame.DataFrame'>\n",
      "RangeIndex: 2225821 entries, 0 to 2225820\n",
      "Data columns (total 7 columns):\n",
      "tweet_id                   int64\n",
      "author_id                  object\n",
      "inbound                    bool\n",
      "created_at                 object\n",
      "text                       object\n",
      "response_tweet_id          object\n",
      "in_response_to_tweet_id    float64\n",
      "dtypes: bool(1), float64(1), int64(1), object(4)\n",
      "memory usage: 104.0+ MB\n"
     ]
    }
   ],
   "source": [
    "df.info()"
   ]
  },
  {
   "cell_type": "code",
   "execution_count": 10,
   "metadata": {
    "ExecuteTime": {
     "end_time": "2017-11-24T21:20:49.796333Z",
     "start_time": "2017-11-24T21:13:36.963430Z"
    }
   },
   "outputs": [],
   "source": [
    "df['date'] = pd.to_datetime(df.created_at)"
   ]
  },
  {
   "cell_type": "code",
   "execution_count": 11,
   "metadata": {
    "ExecuteTime": {
     "end_time": "2017-11-24T21:20:53.932728Z",
     "start_time": "2017-11-24T21:20:49.797909Z"
    }
   },
   "outputs": [],
   "source": [
    "df.to_pickle('../data/tweets.pkl')"
   ]
  },
  {
   "cell_type": "markdown",
   "metadata": {},
   "source": [
    "### Import Pickle"
   ]
  },
  {
   "cell_type": "code",
   "execution_count": 172,
   "metadata": {
    "ExecuteTime": {
     "end_time": "2017-11-27T22:14:43.597972Z",
     "start_time": "2017-11-27T22:14:42.292658Z"
    }
   },
   "outputs": [],
   "source": [
    "df = pd.read_pickle('../data/tweets.pkl')"
   ]
  },
  {
   "cell_type": "code",
   "execution_count": 182,
   "metadata": {
    "ExecuteTime": {
     "end_time": "2017-11-27T22:21:23.986874Z",
     "start_time": "2017-11-27T22:21:22.783296Z"
    }
   },
   "outputs": [
    {
     "name": "stderr",
     "output_type": "stream",
     "text": [
      "/home/xavier/anaconda3/lib/python3.6/site-packages/ipykernel_launcher.py:2: UserWarning: This pattern has match groups. To actually get the groups, use str.extract.\n",
      "  \n"
     ]
    }
   ],
   "source": [
    "companyGroup = df.groupby('author_id').inbound.count().reset_index()\n",
    "companyGroup = companyGroup.loc[companyGroup.iloc[:,0].str.contains(r'(^\\D{6})')]\n",
    "companyGroup.sort_values('author_id',inplace=True)"
   ]
  },
  {
   "cell_type": "code",
   "execution_count": 240,
   "metadata": {
    "ExecuteTime": {
     "end_time": "2017-11-27T22:45:53.174718Z",
     "start_time": "2017-11-27T22:45:53.171258Z"
    }
   },
   "outputs": [],
   "source": [
    "companies = list(set(companyGroup.author_id))\n",
    "companies.sort()"
   ]
  },
  {
   "cell_type": "code",
   "execution_count": 241,
   "metadata": {
    "ExecuteTime": {
     "end_time": "2017-11-27T22:45:53.584404Z",
     "start_time": "2017-11-27T22:45:53.580121Z"
    }
   },
   "outputs": [
    {
     "data": {
      "text/plain": [
       "['ATVIAssist',\n",
       " 'AWSSupport',\n",
       " 'AdobeCare',\n",
       " 'AirAsiaSupport',\n",
       " 'AirbnbHelp',\n",
       " 'AlaskaAir',\n",
       " 'AldiUK',\n",
       " 'AmazonHelp',\n",
       " 'AmericanAir',\n",
       " 'AppleSupport',\n",
       " 'ArbysCares',\n",
       " 'ArgosHelpers',\n",
       " 'AskAmex',\n",
       " 'AskCiti',\n",
       " 'AskDSC',\n",
       " 'AskLyft',\n",
       " 'AskPapaJohns',\n",
       " 'AskPayPal',\n",
       " 'AskPlayStation',\n",
       " 'AskRBC',\n",
       " 'AskRobinhood',\n",
       " 'AskSeagate',\n",
       " 'AskTarget',\n",
       " 'AskTigogh',\n",
       " 'AskVirginMoney',\n",
       " 'Ask_Spectrum',\n",
       " 'Ask_WellsFargo',\n",
       " 'AskeBay',\n",
       " 'AsurionCares',\n",
       " 'AzureSupport',\n",
       " 'BofA_Help',\n",
       " 'BoostCare',\n",
       " 'British_Airways',\n",
       " 'CarlsJr',\n",
       " 'CenturyLinkHelp',\n",
       " 'ChaseSupport',\n",
       " 'ChipotleTweets',\n",
       " 'CoxHelp',\n",
       " 'DellCares',\n",
       " 'DoorDash_Help',\n",
       " 'DropboxSupport',\n",
       " 'DunkinDonuts',\n",
       " 'GWRHelp',\n",
       " 'GloCare',\n",
       " 'GoDaddyHelp',\n",
       " 'GooglePlayMusic',\n",
       " 'GreggsOfficial',\n",
       " 'HPSupport',\n",
       " 'HiltonHelp',\n",
       " 'HotelTonightCX',\n",
       " 'IHGService',\n",
       " 'JackBox',\n",
       " 'JetBlue',\n",
       " 'KFC_UKI_Help',\n",
       " 'KeyBank_Help',\n",
       " 'Kimpton',\n",
       " 'LondonMidland',\n",
       " 'MTNC_Care',\n",
       " 'McDonalds',\n",
       " 'MicrosoftHelps',\n",
       " 'Morrisons',\n",
       " 'NeweggService',\n",
       " 'NikeSupport',\n",
       " 'NortonSupport',\n",
       " 'OPPOCareIN',\n",
       " 'OfficeSupport',\n",
       " 'PandoraSupport',\n",
       " 'PearsonSupport',\n",
       " 'Postmates_Help',\n",
       " 'SCsupport',\n",
       " 'SW_Help',\n",
       " 'Safaricom_Care',\n",
       " 'SouthwestAir',\n",
       " 'SpotifyCares',\n",
       " 'TMobileHelp',\n",
       " 'TacoBellTeam',\n",
       " 'TwitterSupport',\n",
       " 'UPSHelp',\n",
       " 'USCellularCares',\n",
       " 'Uber_Support',\n",
       " 'VMUcare',\n",
       " 'VerizonSupport',\n",
       " 'VirginAmerica',\n",
       " 'VirginAtlantic',\n",
       " 'VirginTrains',\n",
       " 'Walmart',\n",
       " 'XboxSupport',\n",
       " 'YahooCare',\n",
       " 'airtel_care',\n",
       " 'ask_progressive',\n",
       " 'askpanera',\n",
       " 'asksalesforce',\n",
       " 'askvisa',\n",
       " 'comcastcares',\n",
       " 'hulu_support',\n",
       " 'idea_cares',\n",
       " 'marksandspencer',\n",
       " 'mediatemplehelp',\n",
       " 'nationalrailenq',\n",
       " 'sainsburys',\n",
       " 'sizehelpteam',\n",
       " 'sprintcare']"
      ]
     },
     "execution_count": 241,
     "metadata": {},
     "output_type": "execute_result"
    }
   ],
   "source": [
    "companies"
   ]
  },
  {
   "cell_type": "code",
   "execution_count": 13,
   "metadata": {
    "ExecuteTime": {
     "end_time": "2017-11-27T19:28:25.720402Z",
     "start_time": "2017-11-27T19:28:25.492892Z"
    }
   },
   "outputs": [],
   "source": [
    "df.drop('created_at',axis=1,inplace=True)"
   ]
  },
  {
   "cell_type": "code",
   "execution_count": 14,
   "metadata": {
    "ExecuteTime": {
     "end_time": "2017-11-27T19:28:25.741594Z",
     "start_time": "2017-11-27T19:28:25.721842Z"
    }
   },
   "outputs": [
    {
     "data": {
      "text/html": [
       "<div>\n",
       "<style scoped>\n",
       "    .dataframe tbody tr th:only-of-type {\n",
       "        vertical-align: middle;\n",
       "    }\n",
       "\n",
       "    .dataframe tbody tr th {\n",
       "        vertical-align: top;\n",
       "    }\n",
       "\n",
       "    .dataframe thead th {\n",
       "        text-align: right;\n",
       "    }\n",
       "</style>\n",
       "<table border=\"1\" class=\"dataframe\">\n",
       "  <thead>\n",
       "    <tr style=\"text-align: right;\">\n",
       "      <th></th>\n",
       "      <th>tweet_id</th>\n",
       "      <th>author_id</th>\n",
       "      <th>inbound</th>\n",
       "      <th>text</th>\n",
       "      <th>response_tweet_id</th>\n",
       "      <th>in_response_to_tweet_id</th>\n",
       "      <th>date</th>\n",
       "    </tr>\n",
       "  </thead>\n",
       "  <tbody>\n",
       "    <tr>\n",
       "      <th>0</th>\n",
       "      <td>1</td>\n",
       "      <td>VirginAtlantic</td>\n",
       "      <td>False</td>\n",
       "      <td>@95932 Hmmm they may be full. Have you tried b...</td>\n",
       "      <td>2</td>\n",
       "      <td>3.0</td>\n",
       "      <td>2017-10-04 22:37:58</td>\n",
       "    </tr>\n",
       "    <tr>\n",
       "      <th>1</th>\n",
       "      <td>2</td>\n",
       "      <td>95932</td>\n",
       "      <td>True</td>\n",
       "      <td>@VirginAtlantic Sure have. Nothing comes up at...</td>\n",
       "      <td>4</td>\n",
       "      <td>1.0</td>\n",
       "      <td>2017-10-04 22:55:58</td>\n",
       "    </tr>\n",
       "    <tr>\n",
       "      <th>2</th>\n",
       "      <td>4</td>\n",
       "      <td>VirginAtlantic</td>\n",
       "      <td>False</td>\n",
       "      <td>@95932 I'm going to report this then. It sound...</td>\n",
       "      <td>NaN</td>\n",
       "      <td>2.0</td>\n",
       "      <td>2017-10-04 23:00:12</td>\n",
       "    </tr>\n",
       "    <tr>\n",
       "      <th>3</th>\n",
       "      <td>3</td>\n",
       "      <td>95932</td>\n",
       "      <td>True</td>\n",
       "      <td>@VirginAtlantic Yes, nothing comes up 🙁</td>\n",
       "      <td>1</td>\n",
       "      <td>5.0</td>\n",
       "      <td>2017-10-04 22:36:35</td>\n",
       "    </tr>\n",
       "    <tr>\n",
       "      <th>4</th>\n",
       "      <td>5</td>\n",
       "      <td>VirginAtlantic</td>\n",
       "      <td>False</td>\n",
       "      <td>@95932 Have you tried towards the end of March...</td>\n",
       "      <td>3</td>\n",
       "      <td>6.0</td>\n",
       "      <td>2017-10-04 20:15:59</td>\n",
       "    </tr>\n",
       "  </tbody>\n",
       "</table>\n",
       "</div>"
      ],
      "text/plain": [
       "   tweet_id       author_id  inbound  \\\n",
       "0         1  VirginAtlantic    False   \n",
       "1         2           95932     True   \n",
       "2         4  VirginAtlantic    False   \n",
       "3         3           95932     True   \n",
       "4         5  VirginAtlantic    False   \n",
       "\n",
       "                                                text response_tweet_id  \\\n",
       "0  @95932 Hmmm they may be full. Have you tried b...                 2   \n",
       "1  @VirginAtlantic Sure have. Nothing comes up at...                 4   \n",
       "2  @95932 I'm going to report this then. It sound...               NaN   \n",
       "3            @VirginAtlantic Yes, nothing comes up 🙁                 1   \n",
       "4  @95932 Have you tried towards the end of March...                 3   \n",
       "\n",
       "   in_response_to_tweet_id                date  \n",
       "0                      3.0 2017-10-04 22:37:58  \n",
       "1                      1.0 2017-10-04 22:55:58  \n",
       "2                      2.0 2017-10-04 23:00:12  \n",
       "3                      5.0 2017-10-04 22:36:35  \n",
       "4                      6.0 2017-10-04 20:15:59  "
      ]
     },
     "execution_count": 14,
     "metadata": {},
     "output_type": "execute_result"
    }
   ],
   "source": [
    "df.head()"
   ]
  },
  {
   "cell_type": "code",
   "execution_count": 15,
   "metadata": {
    "ExecuteTime": {
     "end_time": "2017-11-27T19:28:25.819955Z",
     "start_time": "2017-11-27T19:28:25.742824Z"
    }
   },
   "outputs": [],
   "source": [
    "df['month'] = df.date.dt.month"
   ]
  },
  {
   "cell_type": "markdown",
   "metadata": {},
   "source": [
    "### Date Range"
   ]
  },
  {
   "cell_type": "code",
   "execution_count": 16,
   "metadata": {
    "ExecuteTime": {
     "end_time": "2017-11-27T19:28:25.839136Z",
     "start_time": "2017-11-27T19:28:25.821458Z"
    }
   },
   "outputs": [
    {
     "data": {
      "text/plain": [
       "Timestamp('2008-05-08 20:13:59')"
      ]
     },
     "execution_count": 16,
     "metadata": {},
     "output_type": "execute_result"
    }
   ],
   "source": [
    "df.date.min()"
   ]
  },
  {
   "cell_type": "code",
   "execution_count": 17,
   "metadata": {
    "ExecuteTime": {
     "end_time": "2017-11-27T19:28:25.852761Z",
     "start_time": "2017-11-27T19:28:25.840508Z"
    }
   },
   "outputs": [
    {
     "data": {
      "text/plain": [
       "Timestamp('2017-11-21 21:43:02')"
      ]
     },
     "execution_count": 17,
     "metadata": {},
     "output_type": "execute_result"
    }
   ],
   "source": [
    "df.date.max()"
   ]
  },
  {
   "cell_type": "code",
   "execution_count": 18,
   "metadata": {
    "ExecuteTime": {
     "end_time": "2017-11-27T19:28:26.399141Z",
     "start_time": "2017-11-27T19:28:25.854106Z"
    }
   },
   "outputs": [],
   "source": [
    "df2 = df.sort_values('date',ascending=True)"
   ]
  },
  {
   "cell_type": "code",
   "execution_count": 19,
   "metadata": {
    "ExecuteTime": {
     "end_time": "2017-11-27T19:28:26.411558Z",
     "start_time": "2017-11-27T19:28:26.400652Z"
    }
   },
   "outputs": [
    {
     "data": {
      "text/html": [
       "<div>\n",
       "<style scoped>\n",
       "    .dataframe tbody tr th:only-of-type {\n",
       "        vertical-align: middle;\n",
       "    }\n",
       "\n",
       "    .dataframe tbody tr th {\n",
       "        vertical-align: top;\n",
       "    }\n",
       "\n",
       "    .dataframe thead th {\n",
       "        text-align: right;\n",
       "    }\n",
       "</style>\n",
       "<table border=\"1\" class=\"dataframe\">\n",
       "  <thead>\n",
       "    <tr style=\"text-align: right;\">\n",
       "      <th></th>\n",
       "      <th>tweet_id</th>\n",
       "      <th>author_id</th>\n",
       "      <th>inbound</th>\n",
       "      <th>text</th>\n",
       "      <th>response_tweet_id</th>\n",
       "      <th>in_response_to_tweet_id</th>\n",
       "      <th>date</th>\n",
       "      <th>month</th>\n",
       "    </tr>\n",
       "  </thead>\n",
       "  <tbody>\n",
       "    <tr>\n",
       "      <th>319047</th>\n",
       "      <td>347379</td>\n",
       "      <td>SouthwestAir</td>\n",
       "      <td>False</td>\n",
       "      <td>@17251  Have FUN at the lecture tonight!  Tell...</td>\n",
       "      <td>347364</td>\n",
       "      <td>347380.0</td>\n",
       "      <td>2008-05-08 20:13:59</td>\n",
       "      <td>5</td>\n",
       "    </tr>\n",
       "    <tr>\n",
       "      <th>319046</th>\n",
       "      <td>347364</td>\n",
       "      <td>183416</td>\n",
       "      <td>True</td>\n",
       "      <td>@SouthwestAir Can you pls enter the HI market ...</td>\n",
       "      <td>347365,347366,347363,347367,347368,347369,3473...</td>\n",
       "      <td>347379.0</td>\n",
       "      <td>2008-05-08 21:04:16</td>\n",
       "      <td>5</td>\n",
       "    </tr>\n",
       "    <tr>\n",
       "      <th>542908</th>\n",
       "      <td>590641</td>\n",
       "      <td>241659</td>\n",
       "      <td>True</td>\n",
       "      <td>KTAR.com - Foreclosures still big problem in V...</td>\n",
       "      <td>590640</td>\n",
       "      <td>NaN</td>\n",
       "      <td>2010-02-16 15:49:47</td>\n",
       "      <td>2</td>\n",
       "    </tr>\n",
       "    <tr>\n",
       "      <th>627162</th>\n",
       "      <td>681789</td>\n",
       "      <td>263054</td>\n",
       "      <td>True</td>\n",
       "      <td>@263056 Do you know if Carl's Jr serves lunch ...</td>\n",
       "      <td>681787</td>\n",
       "      <td>NaN</td>\n",
       "      <td>2010-03-31 15:24:29</td>\n",
       "      <td>3</td>\n",
       "    </tr>\n",
       "    <tr>\n",
       "      <th>627160</th>\n",
       "      <td>681787</td>\n",
       "      <td>CarlsJr</td>\n",
       "      <td>False</td>\n",
       "      <td>@263054 We serve lunch all day!</td>\n",
       "      <td>681788</td>\n",
       "      <td>681789.0</td>\n",
       "      <td>2010-03-31 16:53:27</td>\n",
       "      <td>3</td>\n",
       "    </tr>\n",
       "  </tbody>\n",
       "</table>\n",
       "</div>"
      ],
      "text/plain": [
       "        tweet_id     author_id  inbound  \\\n",
       "319047    347379  SouthwestAir    False   \n",
       "319046    347364        183416     True   \n",
       "542908    590641        241659     True   \n",
       "627162    681789        263054     True   \n",
       "627160    681787       CarlsJr    False   \n",
       "\n",
       "                                                     text  \\\n",
       "319047  @17251  Have FUN at the lecture tonight!  Tell...   \n",
       "319046  @SouthwestAir Can you pls enter the HI market ...   \n",
       "542908  KTAR.com - Foreclosures still big problem in V...   \n",
       "627162  @263056 Do you know if Carl's Jr serves lunch ...   \n",
       "627160                    @263054 We serve lunch all day!   \n",
       "\n",
       "                                        response_tweet_id  \\\n",
       "319047                                             347364   \n",
       "319046  347365,347366,347363,347367,347368,347369,3473...   \n",
       "542908                                             590640   \n",
       "627162                                             681787   \n",
       "627160                                             681788   \n",
       "\n",
       "        in_response_to_tweet_id                date  month  \n",
       "319047                 347380.0 2008-05-08 20:13:59      5  \n",
       "319046                 347379.0 2008-05-08 21:04:16      5  \n",
       "542908                      NaN 2010-02-16 15:49:47      2  \n",
       "627162                      NaN 2010-03-31 15:24:29      3  \n",
       "627160                 681789.0 2010-03-31 16:53:27      3  "
      ]
     },
     "execution_count": 19,
     "metadata": {},
     "output_type": "execute_result"
    }
   ],
   "source": [
    "df2.head()"
   ]
  },
  {
   "cell_type": "markdown",
   "metadata": {},
   "source": [
    "### Tweets by Month"
   ]
  },
  {
   "cell_type": "code",
   "execution_count": 20,
   "metadata": {
    "ExecuteTime": {
     "end_time": "2017-11-27T19:28:26.436176Z",
     "start_time": "2017-11-27T19:28:26.412761Z"
    }
   },
   "outputs": [
    {
     "data": {
      "text/plain": [
       "True     1214604\n",
       "False    1011217\n",
       "Name: inbound, dtype: int64"
      ]
     },
     "execution_count": 20,
     "metadata": {},
     "output_type": "execute_result"
    }
   ],
   "source": [
    "df.inbound.value_counts()"
   ]
  },
  {
   "cell_type": "code",
   "execution_count": 21,
   "metadata": {
    "ExecuteTime": {
     "end_time": "2017-11-27T19:28:26.546195Z",
     "start_time": "2017-11-27T19:28:26.437460Z"
    }
   },
   "outputs": [],
   "source": [
    "inboundDF = df[df.inbound == True]"
   ]
  },
  {
   "cell_type": "code",
   "execution_count": 22,
   "metadata": {
    "ExecuteTime": {
     "end_time": "2017-11-27T19:28:26.550813Z",
     "start_time": "2017-11-27T19:28:26.547692Z"
    }
   },
   "outputs": [
    {
     "data": {
      "text/plain": [
       "(1214604, 8)"
      ]
     },
     "execution_count": 22,
     "metadata": {},
     "output_type": "execute_result"
    }
   ],
   "source": [
    "inboundDF.shape"
   ]
  },
  {
   "cell_type": "code",
   "execution_count": 23,
   "metadata": {
    "ExecuteTime": {
     "end_time": "2017-11-27T19:28:26.611283Z",
     "start_time": "2017-11-27T19:28:26.552019Z"
    }
   },
   "outputs": [],
   "source": [
    "monthGroup = df.groupby('month').inbound.count().reset_index()"
   ]
  },
  {
   "cell_type": "code",
   "execution_count": 24,
   "metadata": {
    "ExecuteTime": {
     "end_time": "2017-11-27T19:28:26.618776Z",
     "start_time": "2017-11-27T19:28:26.612750Z"
    }
   },
   "outputs": [
    {
     "data": {
      "text/html": [
       "<div>\n",
       "<style scoped>\n",
       "    .dataframe tbody tr th:only-of-type {\n",
       "        vertical-align: middle;\n",
       "    }\n",
       "\n",
       "    .dataframe tbody tr th {\n",
       "        vertical-align: top;\n",
       "    }\n",
       "\n",
       "    .dataframe thead th {\n",
       "        text-align: right;\n",
       "    }\n",
       "</style>\n",
       "<table border=\"1\" class=\"dataframe\">\n",
       "  <thead>\n",
       "    <tr style=\"text-align: right;\">\n",
       "      <th></th>\n",
       "      <th>month</th>\n",
       "      <th>inbound</th>\n",
       "    </tr>\n",
       "  </thead>\n",
       "  <tbody>\n",
       "    <tr>\n",
       "      <th>0</th>\n",
       "      <td>1</td>\n",
       "      <td>328</td>\n",
       "    </tr>\n",
       "    <tr>\n",
       "      <th>1</th>\n",
       "      <td>2</td>\n",
       "      <td>332</td>\n",
       "    </tr>\n",
       "    <tr>\n",
       "      <th>2</th>\n",
       "      <td>3</td>\n",
       "      <td>283</td>\n",
       "    </tr>\n",
       "    <tr>\n",
       "      <th>3</th>\n",
       "      <td>4</td>\n",
       "      <td>451</td>\n",
       "    </tr>\n",
       "    <tr>\n",
       "      <th>4</th>\n",
       "      <td>5</td>\n",
       "      <td>545</td>\n",
       "    </tr>\n",
       "    <tr>\n",
       "      <th>5</th>\n",
       "      <td>6</td>\n",
       "      <td>602</td>\n",
       "    </tr>\n",
       "    <tr>\n",
       "      <th>6</th>\n",
       "      <td>7</td>\n",
       "      <td>978</td>\n",
       "    </tr>\n",
       "    <tr>\n",
       "      <th>7</th>\n",
       "      <td>8</td>\n",
       "      <td>2158</td>\n",
       "    </tr>\n",
       "    <tr>\n",
       "      <th>8</th>\n",
       "      <td>9</td>\n",
       "      <td>13049</td>\n",
       "    </tr>\n",
       "    <tr>\n",
       "      <th>9</th>\n",
       "      <td>10</td>\n",
       "      <td>1252961</td>\n",
       "    </tr>\n",
       "    <tr>\n",
       "      <th>10</th>\n",
       "      <td>11</td>\n",
       "      <td>953862</td>\n",
       "    </tr>\n",
       "    <tr>\n",
       "      <th>11</th>\n",
       "      <td>12</td>\n",
       "      <td>272</td>\n",
       "    </tr>\n",
       "  </tbody>\n",
       "</table>\n",
       "</div>"
      ],
      "text/plain": [
       "    month  inbound\n",
       "0       1      328\n",
       "1       2      332\n",
       "2       3      283\n",
       "3       4      451\n",
       "4       5      545\n",
       "5       6      602\n",
       "6       7      978\n",
       "7       8     2158\n",
       "8       9    13049\n",
       "9      10  1252961\n",
       "10     11   953862\n",
       "11     12      272"
      ]
     },
     "execution_count": 24,
     "metadata": {},
     "output_type": "execute_result"
    }
   ],
   "source": [
    "monthGroup"
   ]
  },
  {
   "cell_type": "code",
   "execution_count": 25,
   "metadata": {
    "ExecuteTime": {
     "end_time": "2017-11-27T19:28:26.999647Z",
     "start_time": "2017-11-27T19:28:26.620008Z"
    }
   },
   "outputs": [
    {
     "data": {
      "text/plain": [
       "Text(0,0.5,'Inbound Tweets')"
      ]
     },
     "execution_count": 25,
     "metadata": {},
     "output_type": "execute_result"
    },
    {
     "data": {
      "image/png": "[encoded data removed]",
      "text/plain": [
       "<matplotlib.figure.Figure at 0x7fbb2179ac18>"
      ]
     },
     "metadata": {},
     "output_type": "display_data"
    }
   ],
   "source": [
    "month_ticks = ['Jan','Feb','Mar','Apr','May','Jun','Jul','Aug','Sep','Oct','Nov','Dec']\n",
    "monthGroup.plot(kind='bar',figsize=(10,6),legend=False)\n",
    "plt.xticks(range(12),month_ticks)\n",
    "plt.xlabel('Month')\n",
    "plt.ylabel('Inbound Tweets')"
   ]
  },
  {
   "cell_type": "markdown",
   "metadata": {},
   "source": [
    "### Tweets by Day"
   ]
  },
  {
   "cell_type": "code",
   "execution_count": 26,
   "metadata": {
    "ExecuteTime": {
     "end_time": "2017-11-27T19:28:27.094227Z",
     "start_time": "2017-11-27T19:28:27.000999Z"
    }
   },
   "outputs": [],
   "source": [
    "df['day'] = df.date.dt.dayofweek"
   ]
  },
  {
   "cell_type": "code",
   "execution_count": 27,
   "metadata": {
    "ExecuteTime": {
     "end_time": "2017-11-27T19:28:27.195998Z",
     "start_time": "2017-11-27T19:28:27.095725Z"
    }
   },
   "outputs": [],
   "source": [
    "dayGroup = df.groupby('day').inbound.count().reset_index()"
   ]
  },
  {
   "cell_type": "code",
   "execution_count": 28,
   "metadata": {
    "ExecuteTime": {
     "end_time": "2017-11-27T19:28:27.336729Z",
     "start_time": "2017-11-27T19:28:27.197462Z"
    }
   },
   "outputs": [
    {
     "data": {
      "text/plain": [
       "Text(0,0.5,'Inbound Tweets')"
      ]
     },
     "execution_count": 28,
     "metadata": {},
     "output_type": "execute_result"
    },
    {
     "data": {
      "image/png": "[encoded data removed]",
      "text/plain": [
       "<matplotlib.figure.Figure at 0x7fbb4c703c50>"
      ]
     },
     "metadata": {},
     "output_type": "display_data"
    }
   ],
   "source": [
    "day_ticks = ['Mon','Tues','Wed','Thurs','Fri','Sat','Sun']\n",
    "dayGroup.plot(kind='bar',figsize=(10,6),legend=False)\n",
    "plt.xticks(range(7),day_ticks)\n",
    "#plt.xlabel('Day')\n",
    "plt.ylabel('Inbound Tweets')"
   ]
  },
  {
   "cell_type": "markdown",
   "metadata": {},
   "source": [
    "### Tweets by Company"
   ]
  },
  {
   "cell_type": "code",
   "execution_count": 29,
   "metadata": {
    "ExecuteTime": {
     "end_time": "2017-11-27T19:28:27.951518Z",
     "start_time": "2017-11-27T19:28:27.337955Z"
    }
   },
   "outputs": [],
   "source": [
    "companyGroup = df.groupby('author_id').inbound.count().reset_index()"
   ]
  },
  {
   "cell_type": "code",
   "execution_count": 30,
   "metadata": {
    "ExecuteTime": {
     "end_time": "2017-11-27T19:28:28.343111Z",
     "start_time": "2017-11-27T19:28:27.953034Z"
    }
   },
   "outputs": [
    {
     "name": "stderr",
     "output_type": "stream",
     "text": [
      "/home/xavier/anaconda3/lib/python3.6/site-packages/ipykernel_launcher.py:1: UserWarning: This pattern has match groups. To actually get the groups, use str.extract.\n",
      "  \"\"\"Entry point for launching an IPython kernel.\n"
     ]
    }
   ],
   "source": [
    "companyGroup = companyGroup.loc[companyGroup.iloc[:,0].str.contains(r'(^\\D{6})')]\n",
    "companyGroup.sort_values('inbound',ascending=False,inplace=True)"
   ]
  },
  {
   "cell_type": "code",
   "execution_count": 31,
   "metadata": {
    "ExecuteTime": {
     "end_time": "2017-11-27T19:28:28.347690Z",
     "start_time": "2017-11-27T19:28:28.344617Z"
    }
   },
   "outputs": [
    {
     "data": {
      "text/plain": [
       "(102, 2)"
      ]
     },
     "execution_count": 31,
     "metadata": {},
     "output_type": "execute_result"
    }
   ],
   "source": [
    "companyGroup.shape"
   ]
  },
  {
   "cell_type": "code",
   "execution_count": 32,
   "metadata": {
    "ExecuteTime": {
     "end_time": "2017-11-27T19:28:28.361790Z",
     "start_time": "2017-11-27T19:28:28.348893Z"
    }
   },
   "outputs": [
    {
     "data": {
      "text/html": [
       "<div>\n",
       "<style scoped>\n",
       "    .dataframe tbody tr th:only-of-type {\n",
       "        vertical-align: middle;\n",
       "    }\n",
       "\n",
       "    .dataframe tbody tr th {\n",
       "        vertical-align: top;\n",
       "    }\n",
       "\n",
       "    .dataframe thead th {\n",
       "        text-align: right;\n",
       "    }\n",
       "</style>\n",
       "<table border=\"1\" class=\"dataframe\">\n",
       "  <thead>\n",
       "    <tr style=\"text-align: right;\">\n",
       "      <th></th>\n",
       "      <th>author_id</th>\n",
       "      <th>inbound</th>\n",
       "    </tr>\n",
       "  </thead>\n",
       "  <tbody>\n",
       "    <tr>\n",
       "      <th>569050</th>\n",
       "      <td>AmazonHelp</td>\n",
       "      <td>129431</td>\n",
       "    </tr>\n",
       "    <tr>\n",
       "      <th>569052</th>\n",
       "      <td>AppleSupport</td>\n",
       "      <td>90432</td>\n",
       "    </tr>\n",
       "    <tr>\n",
       "      <th>569127</th>\n",
       "      <td>Uber_Support</td>\n",
       "      <td>42289</td>\n",
       "    </tr>\n",
       "    <tr>\n",
       "      <th>569119</th>\n",
       "      <td>SpotifyCares</td>\n",
       "      <td>34328</td>\n",
       "    </tr>\n",
       "    <tr>\n",
       "      <th>569051</th>\n",
       "      <td>AmericanAir</td>\n",
       "      <td>29642</td>\n",
       "    </tr>\n",
       "    <tr>\n",
       "      <th>569120</th>\n",
       "      <td>TMobileHelp</td>\n",
       "      <td>28644</td>\n",
       "    </tr>\n",
       "    <tr>\n",
       "      <th>569141</th>\n",
       "      <td>comcastcares</td>\n",
       "      <td>26270</td>\n",
       "    </tr>\n",
       "    <tr>\n",
       "      <th>569075</th>\n",
       "      <td>British_Airways</td>\n",
       "      <td>24395</td>\n",
       "    </tr>\n",
       "    <tr>\n",
       "      <th>569118</th>\n",
       "      <td>SouthwestAir</td>\n",
       "      <td>23302</td>\n",
       "    </tr>\n",
       "    <tr>\n",
       "      <th>569068</th>\n",
       "      <td>Ask_Spectrum</td>\n",
       "      <td>20961</td>\n",
       "    </tr>\n",
       "    <tr>\n",
       "      <th>569132</th>\n",
       "      <td>VirginTrains</td>\n",
       "      <td>20330</td>\n",
       "    </tr>\n",
       "    <tr>\n",
       "      <th>569134</th>\n",
       "      <td>XboxSupport</td>\n",
       "      <td>19238</td>\n",
       "    </tr>\n",
       "    <tr>\n",
       "      <th>569149</th>\n",
       "      <td>sprintcare</td>\n",
       "      <td>19186</td>\n",
       "    </tr>\n",
       "    <tr>\n",
       "      <th>569142</th>\n",
       "      <td>hulu_support</td>\n",
       "      <td>17600</td>\n",
       "    </tr>\n",
       "    <tr>\n",
       "      <th>569061</th>\n",
       "      <td>AskPlayStation</td>\n",
       "      <td>15973</td>\n",
       "    </tr>\n",
       "    <tr>\n",
       "      <th>569079</th>\n",
       "      <td>ChipotleTweets</td>\n",
       "      <td>15483</td>\n",
       "    </tr>\n",
       "    <tr>\n",
       "      <th>569147</th>\n",
       "      <td>sainsburys</td>\n",
       "      <td>15134</td>\n",
       "    </tr>\n",
       "    <tr>\n",
       "      <th>569086</th>\n",
       "      <td>GWRHelp</td>\n",
       "      <td>14742</td>\n",
       "    </tr>\n",
       "    <tr>\n",
       "      <th>569129</th>\n",
       "      <td>VerizonSupport</td>\n",
       "      <td>14592</td>\n",
       "    </tr>\n",
       "    <tr>\n",
       "      <th>569043</th>\n",
       "      <td>ATVIAssist</td>\n",
       "      <td>12784</td>\n",
       "    </tr>\n",
       "    <tr>\n",
       "      <th>569117</th>\n",
       "      <td>Safaricom_Care</td>\n",
       "      <td>12726</td>\n",
       "    </tr>\n",
       "    <tr>\n",
       "      <th>569143</th>\n",
       "      <td>idea_cares</td>\n",
       "      <td>12537</td>\n",
       "    </tr>\n",
       "    <tr>\n",
       "      <th>569125</th>\n",
       "      <td>UPSHelp</td>\n",
       "      <td>12108</td>\n",
       "    </tr>\n",
       "    <tr>\n",
       "      <th>569073</th>\n",
       "      <td>BofA_Help</td>\n",
       "      <td>10139</td>\n",
       "    </tr>\n",
       "    <tr>\n",
       "      <th>569116</th>\n",
       "      <td>SW_Help</td>\n",
       "      <td>9737</td>\n",
       "    </tr>\n",
       "    <tr>\n",
       "      <th>569058</th>\n",
       "      <td>AskLyft</td>\n",
       "      <td>9542</td>\n",
       "    </tr>\n",
       "    <tr>\n",
       "      <th>569055</th>\n",
       "      <td>AskAmex</td>\n",
       "      <td>9464</td>\n",
       "    </tr>\n",
       "    <tr>\n",
       "      <th>569065</th>\n",
       "      <td>AskTarget</td>\n",
       "      <td>9199</td>\n",
       "    </tr>\n",
       "    <tr>\n",
       "      <th>569104</th>\n",
       "      <td>MicrosoftHelps</td>\n",
       "      <td>8968</td>\n",
       "    </tr>\n",
       "    <tr>\n",
       "      <th>569060</th>\n",
       "      <td>AskPayPal</td>\n",
       "      <td>8814</td>\n",
       "    </tr>\n",
       "    <tr>\n",
       "      <th>...</th>\n",
       "      <td>...</td>\n",
       "      <td>...</td>\n",
       "    </tr>\n",
       "    <tr>\n",
       "      <th>569085</th>\n",
       "      <td>DunkinDonuts</td>\n",
       "      <td>1102</td>\n",
       "    </tr>\n",
       "    <tr>\n",
       "      <th>569124</th>\n",
       "      <td>TwitterSupport</td>\n",
       "      <td>1097</td>\n",
       "    </tr>\n",
       "    <tr>\n",
       "      <th>569099</th>\n",
       "      <td>Kimpton</td>\n",
       "      <td>1091</td>\n",
       "    </tr>\n",
       "    <tr>\n",
       "      <th>569126</th>\n",
       "      <td>USCellularCares</td>\n",
       "      <td>973</td>\n",
       "    </tr>\n",
       "    <tr>\n",
       "      <th>569112</th>\n",
       "      <td>PandoraSupport</td>\n",
       "      <td>886</td>\n",
       "    </tr>\n",
       "    <tr>\n",
       "      <th>569148</th>\n",
       "      <td>sizehelpteam</td>\n",
       "      <td>844</td>\n",
       "    </tr>\n",
       "    <tr>\n",
       "      <th>569092</th>\n",
       "      <td>HiltonHelp</td>\n",
       "      <td>833</td>\n",
       "    </tr>\n",
       "    <tr>\n",
       "      <th>569044</th>\n",
       "      <td>AWSSupport</td>\n",
       "      <td>792</td>\n",
       "    </tr>\n",
       "    <tr>\n",
       "      <th>569067</th>\n",
       "      <td>AskVirginMoney</td>\n",
       "      <td>782</td>\n",
       "    </tr>\n",
       "    <tr>\n",
       "      <th>569062</th>\n",
       "      <td>AskRBC</td>\n",
       "      <td>778</td>\n",
       "    </tr>\n",
       "    <tr>\n",
       "      <th>569135</th>\n",
       "      <td>YahooCare</td>\n",
       "      <td>776</td>\n",
       "    </tr>\n",
       "    <tr>\n",
       "      <th>569074</th>\n",
       "      <td>BoostCare</td>\n",
       "      <td>768</td>\n",
       "    </tr>\n",
       "    <tr>\n",
       "      <th>569113</th>\n",
       "      <td>PearsonSupport</td>\n",
       "      <td>748</td>\n",
       "    </tr>\n",
       "    <tr>\n",
       "      <th>569110</th>\n",
       "      <td>OPPOCareIN</td>\n",
       "      <td>740</td>\n",
       "    </tr>\n",
       "    <tr>\n",
       "      <th>569106</th>\n",
       "      <td>NeweggService</td>\n",
       "      <td>738</td>\n",
       "    </tr>\n",
       "    <tr>\n",
       "      <th>569102</th>\n",
       "      <td>MTNC_Care</td>\n",
       "      <td>686</td>\n",
       "    </tr>\n",
       "    <tr>\n",
       "      <th>569089</th>\n",
       "      <td>GooglePlayMusic</td>\n",
       "      <td>640</td>\n",
       "    </tr>\n",
       "    <tr>\n",
       "      <th>569066</th>\n",
       "      <td>AskTigogh</td>\n",
       "      <td>638</td>\n",
       "    </tr>\n",
       "    <tr>\n",
       "      <th>569140</th>\n",
       "      <td>askvisa</td>\n",
       "      <td>626</td>\n",
       "    </tr>\n",
       "    <tr>\n",
       "      <th>569139</th>\n",
       "      <td>asksalesforce</td>\n",
       "      <td>622</td>\n",
       "    </tr>\n",
       "    <tr>\n",
       "      <th>569064</th>\n",
       "      <td>AskSeagate</td>\n",
       "      <td>534</td>\n",
       "    </tr>\n",
       "    <tr>\n",
       "      <th>569137</th>\n",
       "      <td>ask_progressive</td>\n",
       "      <td>532</td>\n",
       "    </tr>\n",
       "    <tr>\n",
       "      <th>569098</th>\n",
       "      <td>KeyBank_Help</td>\n",
       "      <td>485</td>\n",
       "    </tr>\n",
       "    <tr>\n",
       "      <th>569063</th>\n",
       "      <td>AskRobinhood</td>\n",
       "      <td>371</td>\n",
       "    </tr>\n",
       "    <tr>\n",
       "      <th>569145</th>\n",
       "      <td>mediatemplehelp</td>\n",
       "      <td>267</td>\n",
       "    </tr>\n",
       "    <tr>\n",
       "      <th>569095</th>\n",
       "      <td>JackBox</td>\n",
       "      <td>224</td>\n",
       "    </tr>\n",
       "    <tr>\n",
       "      <th>569111</th>\n",
       "      <td>OfficeSupport</td>\n",
       "      <td>189</td>\n",
       "    </tr>\n",
       "    <tr>\n",
       "      <th>569057</th>\n",
       "      <td>AskDSC</td>\n",
       "      <td>185</td>\n",
       "    </tr>\n",
       "    <tr>\n",
       "      <th>569076</th>\n",
       "      <td>CarlsJr</td>\n",
       "      <td>177</td>\n",
       "    </tr>\n",
       "    <tr>\n",
       "      <th>569093</th>\n",
       "      <td>HotelTonightCX</td>\n",
       "      <td>141</td>\n",
       "    </tr>\n",
       "  </tbody>\n",
       "</table>\n",
       "<p>102 rows × 2 columns</p>\n",
       "</div>"
      ],
      "text/plain": [
       "              author_id  inbound\n",
       "569050       AmazonHelp   129431\n",
       "569052     AppleSupport    90432\n",
       "569127     Uber_Support    42289\n",
       "569119     SpotifyCares    34328\n",
       "569051      AmericanAir    29642\n",
       "569120      TMobileHelp    28644\n",
       "569141     comcastcares    26270\n",
       "569075  British_Airways    24395\n",
       "569118     SouthwestAir    23302\n",
       "569068     Ask_Spectrum    20961\n",
       "569132     VirginTrains    20330\n",
       "569134      XboxSupport    19238\n",
       "569149       sprintcare    19186\n",
       "569142     hulu_support    17600\n",
       "569061   AskPlayStation    15973\n",
       "569079   ChipotleTweets    15483\n",
       "569147       sainsburys    15134\n",
       "569086          GWRHelp    14742\n",
       "569129   VerizonSupport    14592\n",
       "569043       ATVIAssist    12784\n",
       "569117   Safaricom_Care    12726\n",
       "569143       idea_cares    12537\n",
       "569125          UPSHelp    12108\n",
       "569073        BofA_Help    10139\n",
       "569116          SW_Help     9737\n",
       "569058          AskLyft     9542\n",
       "569055          AskAmex     9464\n",
       "569065        AskTarget     9199\n",
       "569104   MicrosoftHelps     8968\n",
       "569060        AskPayPal     8814\n",
       "...                 ...      ...\n",
       "569085     DunkinDonuts     1102\n",
       "569124   TwitterSupport     1097\n",
       "569099          Kimpton     1091\n",
       "569126  USCellularCares      973\n",
       "569112   PandoraSupport      886\n",
       "569148     sizehelpteam      844\n",
       "569092       HiltonHelp      833\n",
       "569044       AWSSupport      792\n",
       "569067   AskVirginMoney      782\n",
       "569062           AskRBC      778\n",
       "569135        YahooCare      776\n",
       "569074        BoostCare      768\n",
       "569113   PearsonSupport      748\n",
       "569110       OPPOCareIN      740\n",
       "569106    NeweggService      738\n",
       "569102        MTNC_Care      686\n",
       "569089  GooglePlayMusic      640\n",
       "569066        AskTigogh      638\n",
       "569140          askvisa      626\n",
       "569139    asksalesforce      622\n",
       "569064       AskSeagate      534\n",
       "569137  ask_progressive      532\n",
       "569098     KeyBank_Help      485\n",
       "569063     AskRobinhood      371\n",
       "569145  mediatemplehelp      267\n",
       "569095          JackBox      224\n",
       "569111    OfficeSupport      189\n",
       "569057           AskDSC      185\n",
       "569076          CarlsJr      177\n",
       "569093   HotelTonightCX      141\n",
       "\n",
       "[102 rows x 2 columns]"
      ]
     },
     "execution_count": 32,
     "metadata": {},
     "output_type": "execute_result"
    }
   ],
   "source": [
    "companyGroup"
   ]
  },
  {
   "cell_type": "code",
   "execution_count": 33,
   "metadata": {
    "ExecuteTime": {
     "end_time": "2017-11-27T19:28:28.374379Z",
     "start_time": "2017-11-27T19:28:28.363010Z"
    }
   },
   "outputs": [
    {
     "data": {
      "text/html": [
       "<div>\n",
       "<style scoped>\n",
       "    .dataframe tbody tr th:only-of-type {\n",
       "        vertical-align: middle;\n",
       "    }\n",
       "\n",
       "    .dataframe tbody tr th {\n",
       "        vertical-align: top;\n",
       "    }\n",
       "\n",
       "    .dataframe thead th {\n",
       "        text-align: right;\n",
       "    }\n",
       "</style>\n",
       "<table border=\"1\" class=\"dataframe\">\n",
       "  <thead>\n",
       "    <tr style=\"text-align: right;\">\n",
       "      <th></th>\n",
       "      <th>tweet_id</th>\n",
       "      <th>author_id</th>\n",
       "      <th>inbound</th>\n",
       "      <th>text</th>\n",
       "      <th>response_tweet_id</th>\n",
       "      <th>in_response_to_tweet_id</th>\n",
       "      <th>date</th>\n",
       "      <th>month</th>\n",
       "      <th>day</th>\n",
       "    </tr>\n",
       "  </thead>\n",
       "  <tbody>\n",
       "    <tr>\n",
       "      <th>0</th>\n",
       "      <td>1</td>\n",
       "      <td>VirginAtlantic</td>\n",
       "      <td>False</td>\n",
       "      <td>@95932 Hmmm they may be full. Have you tried b...</td>\n",
       "      <td>2</td>\n",
       "      <td>3.0</td>\n",
       "      <td>2017-10-04 22:37:58</td>\n",
       "      <td>10</td>\n",
       "      <td>2</td>\n",
       "    </tr>\n",
       "    <tr>\n",
       "      <th>1</th>\n",
       "      <td>2</td>\n",
       "      <td>95932</td>\n",
       "      <td>True</td>\n",
       "      <td>@VirginAtlantic Sure have. Nothing comes up at...</td>\n",
       "      <td>4</td>\n",
       "      <td>1.0</td>\n",
       "      <td>2017-10-04 22:55:58</td>\n",
       "      <td>10</td>\n",
       "      <td>2</td>\n",
       "    </tr>\n",
       "    <tr>\n",
       "      <th>2</th>\n",
       "      <td>4</td>\n",
       "      <td>VirginAtlantic</td>\n",
       "      <td>False</td>\n",
       "      <td>@95932 I'm going to report this then. It sound...</td>\n",
       "      <td>NaN</td>\n",
       "      <td>2.0</td>\n",
       "      <td>2017-10-04 23:00:12</td>\n",
       "      <td>10</td>\n",
       "      <td>2</td>\n",
       "    </tr>\n",
       "    <tr>\n",
       "      <th>3</th>\n",
       "      <td>3</td>\n",
       "      <td>95932</td>\n",
       "      <td>True</td>\n",
       "      <td>@VirginAtlantic Yes, nothing comes up 🙁</td>\n",
       "      <td>1</td>\n",
       "      <td>5.0</td>\n",
       "      <td>2017-10-04 22:36:35</td>\n",
       "      <td>10</td>\n",
       "      <td>2</td>\n",
       "    </tr>\n",
       "    <tr>\n",
       "      <th>4</th>\n",
       "      <td>5</td>\n",
       "      <td>VirginAtlantic</td>\n",
       "      <td>False</td>\n",
       "      <td>@95932 Have you tried towards the end of March...</td>\n",
       "      <td>3</td>\n",
       "      <td>6.0</td>\n",
       "      <td>2017-10-04 20:15:59</td>\n",
       "      <td>10</td>\n",
       "      <td>2</td>\n",
       "    </tr>\n",
       "  </tbody>\n",
       "</table>\n",
       "</div>"
      ],
      "text/plain": [
       "   tweet_id       author_id  inbound  \\\n",
       "0         1  VirginAtlantic    False   \n",
       "1         2           95932     True   \n",
       "2         4  VirginAtlantic    False   \n",
       "3         3           95932     True   \n",
       "4         5  VirginAtlantic    False   \n",
       "\n",
       "                                                text response_tweet_id  \\\n",
       "0  @95932 Hmmm they may be full. Have you tried b...                 2   \n",
       "1  @VirginAtlantic Sure have. Nothing comes up at...                 4   \n",
       "2  @95932 I'm going to report this then. It sound...               NaN   \n",
       "3            @VirginAtlantic Yes, nothing comes up 🙁                 1   \n",
       "4  @95932 Have you tried towards the end of March...                 3   \n",
       "\n",
       "   in_response_to_tweet_id                date  month  day  \n",
       "0                      3.0 2017-10-04 22:37:58     10    2  \n",
       "1                      1.0 2017-10-04 22:55:58     10    2  \n",
       "2                      2.0 2017-10-04 23:00:12     10    2  \n",
       "3                      5.0 2017-10-04 22:36:35     10    2  \n",
       "4                      6.0 2017-10-04 20:15:59     10    2  "
      ]
     },
     "execution_count": 33,
     "metadata": {},
     "output_type": "execute_result"
    }
   ],
   "source": [
    "df.head()"
   ]
  },
  {
   "cell_type": "code",
   "execution_count": 170,
   "metadata": {
    "ExecuteTime": {
     "end_time": "2017-11-27T22:11:10.039738Z",
     "start_time": "2017-11-27T22:11:07.789795Z"
    }
   },
   "outputs": [],
   "source": [
    "appleDF = df[df['author_id'].str.contains(\"AppleSupport\") | df['text'].str.contains(\"AppleSupport\") ]"
   ]
  },
  {
   "cell_type": "code",
   "execution_count": 171,
   "metadata": {
    "ExecuteTime": {
     "end_time": "2017-11-27T22:11:10.044118Z",
     "start_time": "2017-11-27T22:11:10.041166Z"
    }
   },
   "outputs": [
    {
     "data": {
      "text/plain": [
       "(171517, 9)"
      ]
     },
     "execution_count": 171,
     "metadata": {},
     "output_type": "execute_result"
    }
   ],
   "source": [
    "appleDF.shape"
   ]
  },
  {
   "cell_type": "code",
   "execution_count": 36,
   "metadata": {
    "ExecuteTime": {
     "end_time": "2017-11-27T19:28:30.708698Z",
     "start_time": "2017-11-27T19:28:30.697088Z"
    }
   },
   "outputs": [
    {
     "data": {
      "text/html": [
       "<div>\n",
       "<style scoped>\n",
       "    .dataframe tbody tr th:only-of-type {\n",
       "        vertical-align: middle;\n",
       "    }\n",
       "\n",
       "    .dataframe tbody tr th {\n",
       "        vertical-align: top;\n",
       "    }\n",
       "\n",
       "    .dataframe thead th {\n",
       "        text-align: right;\n",
       "    }\n",
       "</style>\n",
       "<table border=\"1\" class=\"dataframe\">\n",
       "  <thead>\n",
       "    <tr style=\"text-align: right;\">\n",
       "      <th></th>\n",
       "      <th>tweet_id</th>\n",
       "      <th>author_id</th>\n",
       "      <th>inbound</th>\n",
       "      <th>text</th>\n",
       "      <th>response_tweet_id</th>\n",
       "      <th>in_response_to_tweet_id</th>\n",
       "      <th>date</th>\n",
       "      <th>month</th>\n",
       "      <th>day</th>\n",
       "    </tr>\n",
       "  </thead>\n",
       "  <tbody>\n",
       "    <tr>\n",
       "      <th>119</th>\n",
       "      <td>129</td>\n",
       "      <td>AppleSupport</td>\n",
       "      <td>False</td>\n",
       "      <td>@95972 Let's take a look at your flashlight to...</td>\n",
       "      <td>130</td>\n",
       "      <td>131.0</td>\n",
       "      <td>2017-10-04 13:04:26</td>\n",
       "      <td>10</td>\n",
       "      <td>2</td>\n",
       "    </tr>\n",
       "    <tr>\n",
       "      <th>120</th>\n",
       "      <td>130</td>\n",
       "      <td>95973</td>\n",
       "      <td>True</td>\n",
       "      <td>@AppleSupport @95972 i have the same problem w...</td>\n",
       "      <td>NaN</td>\n",
       "      <td>129.0</td>\n",
       "      <td>2017-10-04 22:10:17</td>\n",
       "      <td>10</td>\n",
       "      <td>2</td>\n",
       "    </tr>\n",
       "    <tr>\n",
       "      <th>309</th>\n",
       "      <td>385</td>\n",
       "      <td>AppleSupport</td>\n",
       "      <td>False</td>\n",
       "      <td>@96035 We want you to get the most out of your...</td>\n",
       "      <td>NaN</td>\n",
       "      <td>386.0</td>\n",
       "      <td>2017-10-04 12:33:00</td>\n",
       "      <td>10</td>\n",
       "      <td>2</td>\n",
       "    </tr>\n",
       "    <tr>\n",
       "      <th>339</th>\n",
       "      <td>416</td>\n",
       "      <td>AppleSupport</td>\n",
       "      <td>False</td>\n",
       "      <td>@96041 We appreciate you letting us know, does...</td>\n",
       "      <td>NaN</td>\n",
       "      <td>417.0</td>\n",
       "      <td>2017-10-04 12:59:29</td>\n",
       "      <td>10</td>\n",
       "      <td>2</td>\n",
       "    </tr>\n",
       "    <tr>\n",
       "      <th>340</th>\n",
       "      <td>417</td>\n",
       "      <td>96041</td>\n",
       "      <td>True</td>\n",
       "      <td>@AppleSupport When you go to the App Store &amp;am...</td>\n",
       "      <td>416</td>\n",
       "      <td>418.0</td>\n",
       "      <td>2017-10-04 04:57:54</td>\n",
       "      <td>10</td>\n",
       "      <td>2</td>\n",
       "    </tr>\n",
       "  </tbody>\n",
       "</table>\n",
       "</div>"
      ],
      "text/plain": [
       "     tweet_id     author_id  inbound  \\\n",
       "119       129  AppleSupport    False   \n",
       "120       130         95973     True   \n",
       "309       385  AppleSupport    False   \n",
       "339       416  AppleSupport    False   \n",
       "340       417         96041     True   \n",
       "\n",
       "                                                  text response_tweet_id  \\\n",
       "119  @95972 Let's take a look at your flashlight to...               130   \n",
       "120  @AppleSupport @95972 i have the same problem w...               NaN   \n",
       "309  @96035 We want you to get the most out of your...               NaN   \n",
       "339  @96041 We appreciate you letting us know, does...               NaN   \n",
       "340  @AppleSupport When you go to the App Store &am...               416   \n",
       "\n",
       "     in_response_to_tweet_id                date  month  day  \n",
       "119                    131.0 2017-10-04 13:04:26     10    2  \n",
       "120                    129.0 2017-10-04 22:10:17     10    2  \n",
       "309                    386.0 2017-10-04 12:33:00     10    2  \n",
       "339                    417.0 2017-10-04 12:59:29     10    2  \n",
       "340                    418.0 2017-10-04 04:57:54     10    2  "
      ]
     },
     "execution_count": 36,
     "metadata": {},
     "output_type": "execute_result"
    }
   ],
   "source": [
    "appleDF.head()"
   ]
  },
  {
   "cell_type": "code",
   "execution_count": null,
   "metadata": {},
   "outputs": [],
   "source": []
  },
  {
   "cell_type": "markdown",
   "metadata": {},
   "source": [
    "### Tweets by Conversations"
   ]
  },
  {
   "cell_type": "code",
   "execution_count": 37,
   "metadata": {
    "ExecuteTime": {
     "end_time": "2017-11-27T19:28:31.705739Z",
     "start_time": "2017-11-27T19:28:30.709889Z"
    }
   },
   "outputs": [],
   "source": [
    "testDF = df[(df['author_id'].str.contains(\"95972\"))]"
   ]
  },
  {
   "cell_type": "code",
   "execution_count": 38,
   "metadata": {
    "ExecuteTime": {
     "end_time": "2017-11-27T19:28:31.718611Z",
     "start_time": "2017-11-27T19:28:31.707234Z"
    }
   },
   "outputs": [
    {
     "data": {
      "text/html": [
       "<div>\n",
       "<style scoped>\n",
       "    .dataframe tbody tr th:only-of-type {\n",
       "        vertical-align: middle;\n",
       "    }\n",
       "\n",
       "    .dataframe tbody tr th {\n",
       "        vertical-align: top;\n",
       "    }\n",
       "\n",
       "    .dataframe thead th {\n",
       "        text-align: right;\n",
       "    }\n",
       "</style>\n",
       "<table border=\"1\" class=\"dataframe\">\n",
       "  <thead>\n",
       "    <tr style=\"text-align: right;\">\n",
       "      <th></th>\n",
       "      <th>tweet_id</th>\n",
       "      <th>author_id</th>\n",
       "      <th>inbound</th>\n",
       "      <th>text</th>\n",
       "      <th>response_tweet_id</th>\n",
       "      <th>in_response_to_tweet_id</th>\n",
       "      <th>date</th>\n",
       "      <th>month</th>\n",
       "      <th>day</th>\n",
       "    </tr>\n",
       "  </thead>\n",
       "  <tbody>\n",
       "    <tr>\n",
       "      <th>121</th>\n",
       "      <td>131</td>\n",
       "      <td>95972</td>\n",
       "      <td>True</td>\n",
       "      <td>the update made my fuckin flashlight stop work...</td>\n",
       "      <td>129</td>\n",
       "      <td>NaN</td>\n",
       "      <td>2017-10-04 05:43:36</td>\n",
       "      <td>10</td>\n",
       "      <td>2</td>\n",
       "    </tr>\n",
       "    <tr>\n",
       "      <th>366775</th>\n",
       "      <td>398930</td>\n",
       "      <td>195972</td>\n",
       "      <td>True</td>\n",
       "      <td>@AmazonHelp Si, pero ya no soluciona nada, lo ...</td>\n",
       "      <td>398932</td>\n",
       "      <td>398929.0</td>\n",
       "      <td>2017-10-13 13:12:57</td>\n",
       "      <td>10</td>\n",
       "      <td>4</td>\n",
       "    </tr>\n",
       "    <tr>\n",
       "      <th>366777</th>\n",
       "      <td>398933</td>\n",
       "      <td>195972</td>\n",
       "      <td>True</td>\n",
       "      <td>@AmazonHelp No voy a perder más tiempo en esto...</td>\n",
       "      <td>NaN</td>\n",
       "      <td>398932.0</td>\n",
       "      <td>2017-10-13 13:16:54</td>\n",
       "      <td>10</td>\n",
       "      <td>4</td>\n",
       "    </tr>\n",
       "    <tr>\n",
       "      <th>366778</th>\n",
       "      <td>398931</td>\n",
       "      <td>195972</td>\n",
       "      <td>True</td>\n",
       "      <td>Gracias por nada @96220 @99212 https://t.co/K2...</td>\n",
       "      <td>398929</td>\n",
       "      <td>NaN</td>\n",
       "      <td>2017-10-13 12:56:40</td>\n",
       "      <td>10</td>\n",
       "      <td>4</td>\n",
       "    </tr>\n",
       "    <tr>\n",
       "      <th>758859</th>\n",
       "      <td>701554</td>\n",
       "      <td>295972</td>\n",
       "      <td>True</td>\n",
       "      <td>@97286 No. Demasiado caro. Lo siento, @97286, ...</td>\n",
       "      <td>822262,822263,822264</td>\n",
       "      <td>701546.0</td>\n",
       "      <td>2017-10-21 17:24:07</td>\n",
       "      <td>10</td>\n",
       "      <td>5</td>\n",
       "    </tr>\n",
       "  </tbody>\n",
       "</table>\n",
       "</div>"
      ],
      "text/plain": [
       "        tweet_id author_id  inbound  \\\n",
       "121          131     95972     True   \n",
       "366775    398930    195972     True   \n",
       "366777    398933    195972     True   \n",
       "366778    398931    195972     True   \n",
       "758859    701554    295972     True   \n",
       "\n",
       "                                                     text  \\\n",
       "121     the update made my fuckin flashlight stop work...   \n",
       "366775  @AmazonHelp Si, pero ya no soluciona nada, lo ...   \n",
       "366777  @AmazonHelp No voy a perder más tiempo en esto...   \n",
       "366778  Gracias por nada @96220 @99212 https://t.co/K2...   \n",
       "758859  @97286 No. Demasiado caro. Lo siento, @97286, ...   \n",
       "\n",
       "           response_tweet_id  in_response_to_tweet_id                date  \\\n",
       "121                      129                      NaN 2017-10-04 05:43:36   \n",
       "366775                398932                 398929.0 2017-10-13 13:12:57   \n",
       "366777                   NaN                 398932.0 2017-10-13 13:16:54   \n",
       "366778                398929                      NaN 2017-10-13 12:56:40   \n",
       "758859  822262,822263,822264                 701546.0 2017-10-21 17:24:07   \n",
       "\n",
       "        month  day  \n",
       "121        10    2  \n",
       "366775     10    4  \n",
       "366777     10    4  \n",
       "366778     10    4  \n",
       "758859     10    5  "
      ]
     },
     "execution_count": 38,
     "metadata": {},
     "output_type": "execute_result"
    }
   ],
   "source": [
    "testDF.head()"
   ]
  },
  {
   "cell_type": "code",
   "execution_count": 39,
   "metadata": {
    "ExecuteTime": {
     "end_time": "2017-11-27T19:28:31.723223Z",
     "start_time": "2017-11-27T19:28:31.719827Z"
    }
   },
   "outputs": [],
   "source": [
    "testDF.to_csv('../data/test.csv')"
   ]
  },
  {
   "cell_type": "markdown",
   "metadata": {},
   "source": [
    "## Text Processing"
   ]
  },
  {
   "cell_type": "code",
   "execution_count": null,
   "metadata": {
    "ExecuteTime": {
     "end_time": "2017-11-25T02:25:16.070072Z",
     "start_time": "2017-11-25T02:25:16.066516Z"
    }
   },
   "outputs": [],
   "source": []
  },
  {
   "cell_type": "code",
   "execution_count": 52,
   "metadata": {
    "ExecuteTime": {
     "end_time": "2017-11-27T20:03:08.887276Z",
     "start_time": "2017-11-27T20:02:58.836526Z"
    }
   },
   "outputs": [
    {
     "name": "stdout",
     "output_type": "stream",
     "text": [
      "CPU times: user 9.91 s, sys: 136 ms, total: 10 s\n",
      "Wall time: 10 s\n"
     ]
    }
   ],
   "source": [
    "%time doc_clean = [clean(doc).split() for doc in appleDF.text]  "
   ]
  },
  {
   "cell_type": "code",
   "execution_count": 53,
   "metadata": {
    "ExecuteTime": {
     "end_time": "2017-11-27T20:03:08.891993Z",
     "start_time": "2017-11-27T20:03:08.888663Z"
    }
   },
   "outputs": [
    {
     "data": {
      "text/plain": [
       "['669057',\n",
       " 'critical',\n",
       " 'able',\n",
       " 'charge',\n",
       " 'iphone',\n",
       " 'please',\n",
       " 'try',\n",
       " 'step',\n",
       " 'section',\n",
       " 'if',\n",
       " 'alert',\n",
       " 'accessory',\n",
       " 'isnt',\n",
       " 'supported',\n",
       " 'certified',\n",
       " 'here',\n",
       " 'httpstcouqxquyfdn0',\n",
       " 'doesnt',\n",
       " 'help',\n",
       " 'please',\n",
       " 'exact',\n",
       " 'version',\n",
       " 'io',\n",
       " 'running',\n",
       " 'httpstcogdrqu22ypt']"
      ]
     },
     "execution_count": 53,
     "metadata": {},
     "output_type": "execute_result"
    }
   ],
   "source": [
    "doc_clean[-1][:]"
   ]
  },
  {
   "cell_type": "markdown",
   "metadata": {},
   "source": [
    "## Quick LDA"
   ]
  },
  {
   "cell_type": "code",
   "execution_count": 42,
   "metadata": {
    "ExecuteTime": {
     "end_time": "2017-11-27T19:38:26.751019Z",
     "start_time": "2017-11-27T19:38:26.317958Z"
    }
   },
   "outputs": [
    {
     "name": "stderr",
     "output_type": "stream",
     "text": [
      "Slow version of gensim.models.doc2vec is being used\n"
     ]
    }
   ],
   "source": [
    "import gensim\n",
    "from gensim import corpora"
   ]
  },
  {
   "cell_type": "code",
   "execution_count": 57,
   "metadata": {
    "ExecuteTime": {
     "end_time": "2017-11-27T20:11:21.705643Z",
     "start_time": "2017-11-27T20:11:19.274146Z"
    }
   },
   "outputs": [],
   "source": [
    "dictionary = corpora.Dictionary(doc_clean)"
   ]
  },
  {
   "cell_type": "code",
   "execution_count": 58,
   "metadata": {
    "ExecuteTime": {
     "end_time": "2017-11-27T20:11:24.699092Z",
     "start_time": "2017-11-27T20:11:22.705412Z"
    }
   },
   "outputs": [],
   "source": [
    "doc_term_matrix = [dictionary.doc2bow(doc) for doc in doc_clean]"
   ]
  },
  {
   "cell_type": "code",
   "execution_count": 45,
   "metadata": {
    "ExecuteTime": {
     "end_time": "2017-11-27T19:38:28.158252Z",
     "start_time": "2017-11-27T19:38:28.156064Z"
    }
   },
   "outputs": [],
   "source": [
    "lda = gensim.models.ldamodel.LdaModel"
   ]
  },
  {
   "cell_type": "code",
   "execution_count": 46,
   "metadata": {
    "ExecuteTime": {
     "end_time": "2017-11-27T19:58:44.090006Z",
     "start_time": "2017-11-27T19:38:28.159472Z"
    }
   },
   "outputs": [
    {
     "name": "stdout",
     "output_type": "stream",
     "text": [
      "CPU times: user 20min 18s, sys: 2.02 s, total: 20min 20s\n",
      "Wall time: 20min 15s\n"
     ]
    }
   ],
   "source": [
    "%time ldamodel = lda(doc_term_matrix, num_topics=5, id2word = dictionary, passes=10)"
   ]
  },
  {
   "cell_type": "code",
   "execution_count": 47,
   "metadata": {
    "ExecuteTime": {
     "end_time": "2017-11-27T19:58:44.100109Z",
     "start_time": "2017-11-27T19:58:44.091438Z"
    }
   },
   "outputs": [
    {
     "name": "stdout",
     "output_type": "stream",
     "text": [
      "[(0, '0.009*\"recently,update,fix,sure,back,device,prior,back\" + 0.006*\"fix\" + 0.004*\"happy,help\"'), (1, '0.019*\"help\" + 0.012*\"recently,fix,sure,back,device,prior,issue,afterwards,back\" + 0.008*\"reaching\"'), (2, '0.015*\"update,assist,issue,yet,please,back,device,update,check\" + 0.008*\"offer,support,help\" + 0.006*\"happy,detail,reach\"'), (3, '0.044*\"work,issue,fixed,future,update\" + 0.018*\"offer,support,help,preferred,language\" + 0.006*\"support,available,help\"'), (4, '0.007*\"continue\" + 0.005*\"reaching,help\" + 0.004*\"phone\"')]\n"
     ]
    }
   ],
   "source": [
    "print(ldamodel.print_topics(num_topics=5, num_words=3))"
   ]
  },
  {
   "cell_type": "code",
   "execution_count": 48,
   "metadata": {
    "ExecuteTime": {
     "end_time": "2017-11-27T19:58:44.111690Z",
     "start_time": "2017-11-27T19:58:44.101364Z"
    }
   },
   "outputs": [
    {
     "name": "stdout",
     "output_type": "stream",
     "text": [
      "Topic 0: Words: \n",
      "['recently,update,fix,sure,back,device,prior,back', 'fix', 'happy,help', 'welcome', 'together', 'reaching,always,happy,help']\n",
      "Topic 1: Words: \n",
      "['help', 'recently,fix,sure,back,device,prior,issue,afterwards,back', 'reaching', 'help,explore,ways,provide,assistance', 'version', 'update,assist,issue,yet,please,back,device,update,latest,version,check']\n",
      "Topic 2: Words: \n",
      "['update,assist,issue,yet,please,back,device,update,check', 'offer,support,help', 'happy,detail,reach', 'reaching,support,love,help,together', 'update', 'happy,assist,version,currently,running,version']\n",
      "Topic 3: Words: \n",
      "['work,issue,fixed,future,update', 'offer,support,help,preferred,language', 'support,available,help', 'sent', 'help,issue', 'help,version']\n",
      "Topic 4: Words: \n",
      "['continue', 'reaching,help', 'phone', 'gather,information,better,country', 'happy', 'still']\n"
     ]
    }
   ],
   "source": [
    "for topic in ldamodel.show_topics(num_topics=6, formatted=False, num_words=6):\n",
    "    print(\"Topic {}: Words: \".format(topic[0]))\n",
    "    topicwords = [w for (w, val) in topic[1]]\n",
    "    print(topicwords)"
   ]
  },
  {
   "cell_type": "code",
   "execution_count": 49,
   "metadata": {
    "ExecuteTime": {
     "end_time": "2017-11-27T19:58:45.777258Z",
     "start_time": "2017-11-27T19:58:44.112917Z"
    }
   },
   "outputs": [
    {
     "data": {
      "text/plain": [
       "['../models/lda.pkl']"
      ]
     },
     "execution_count": 49,
     "metadata": {},
     "output_type": "execute_result"
    }
   ],
   "source": [
    "joblib.dump(ldamodel, '../models/lda.pkl')"
   ]
  },
  {
   "cell_type": "markdown",
   "metadata": {},
   "source": [
    "## Multicore LDA"
   ]
  },
  {
   "cell_type": "code",
   "execution_count": 67,
   "metadata": {
    "ExecuteTime": {
     "end_time": "2017-11-27T20:45:48.338254Z",
     "start_time": "2017-11-27T20:41:01.585319Z"
    }
   },
   "outputs": [],
   "source": [
    "from gensim import corpora, models\n",
    "mlda = models.LdaMulticore(doc_term_matrix, num_topics=5, id2word = dictionary, passes=10, workers=8)"
   ]
  },
  {
   "cell_type": "code",
   "execution_count": 68,
   "metadata": {
    "ExecuteTime": {
     "end_time": "2017-11-27T20:45:48.350769Z",
     "start_time": "2017-11-27T20:45:48.339887Z"
    }
   },
   "outputs": [
    {
     "name": "stdout",
     "output_type": "stream",
     "text": [
      "[(0, '0.040*\"httpstcogdrqu22ypt\" + 0.038*\"issue\" + 0.034*\"version\"'), (1, '0.068*\"applesupport\" + 0.038*\"i️\" + 0.021*\"apple\"'), (2, '0.096*\"applesupport\" + 0.021*\"phone\" + 0.016*\"io\"'), (3, '0.057*\"help\" + 0.057*\"httpstcogdrqu22ypt\" + 0.022*\"wed\"'), (4, '0.043*\"httpstcogdrqu22ypt\" + 0.038*\"there\" + 0.028*\"well\"')]\n"
     ]
    }
   ],
   "source": [
    "print(mlda.print_topics(num_topics=5, num_words=3))"
   ]
  },
  {
   "cell_type": "code",
   "execution_count": 69,
   "metadata": {
    "ExecuteTime": {
     "end_time": "2017-11-27T20:45:48.364200Z",
     "start_time": "2017-11-27T20:45:48.352115Z"
    }
   },
   "outputs": [
    {
     "name": "stdout",
     "output_type": "stream",
     "text": [
      "Topic 0: Words: \n",
      "['httpstcogdrqu22ypt', 'issue', 'version', 'help', 'io', 'work']\n",
      "Topic 1: Words: \n",
      "['applesupport', 'i️', 'apple', 'iphone', 'app', 'music']\n",
      "Topic 2: Words: \n",
      "['applesupport', 'phone', 'io', 'iphone', 'update', 'fix']\n",
      "Topic 3: Words: \n",
      "['help', 'httpstcogdrqu22ypt', 'wed', 'here', 'let', 'you']\n",
      "Topic 4: Words: \n",
      "['httpstcogdrqu22ypt', 'there', 'well', 'io', 'go', 'let']\n"
     ]
    }
   ],
   "source": [
    "for topic in mlda.show_topics(num_topics=6, formatted=False, num_words=6):\n",
    "    print(\"Topic {}: Words: \".format(topic[0]))\n",
    "    topicwords = [w for (w, val) in topic[1]]\n",
    "    print(topicwords)"
   ]
  },
  {
   "cell_type": "code",
   "execution_count": null,
   "metadata": {},
   "outputs": [],
   "source": []
  },
  {
   "cell_type": "markdown",
   "metadata": {},
   "source": [
    "## LDA with SKLEARN"
   ]
  },
  {
   "cell_type": "markdown",
   "metadata": {},
   "source": [
    "### Count Vectorizer"
   ]
  },
  {
   "cell_type": "code",
   "execution_count": 62,
   "metadata": {
    "ExecuteTime": {
     "end_time": "2017-11-27T20:16:37.692566Z",
     "start_time": "2017-11-27T20:16:34.971838Z"
    }
   },
   "outputs": [],
   "source": [
    "cv_vectorizer = CountVectorizer(stop_words=stop)\n",
    "cv = cv_vectorizer.fit_transform(appleDF.text)\n",
    "cv_feature_names = cv_vectorizer.get_feature_names()"
   ]
  },
  {
   "cell_type": "code",
   "execution_count": 70,
   "metadata": {
    "ExecuteTime": {
     "end_time": "2017-11-27T21:06:12.721581Z",
     "start_time": "2017-11-27T21:06:12.719434Z"
    }
   },
   "outputs": [],
   "source": [
    "# lda = LatentDirichletAllocation(n_topics=5, max_iter=10, learning_method='online', learning_offset=50.,random_state=0,n_jobs=-1).fit(cv)"
   ]
  },
  {
   "cell_type": "code",
   "execution_count": null,
   "metadata": {
    "ExecuteTime": {
     "end_time": "2017-11-27T20:32:54.209676Z",
     "start_time": "2017-11-27T20:17:14.446Z"
    }
   },
   "outputs": [],
   "source": [
    "print(lda.print_topics(num_topics=5, num_words=3))"
   ]
  },
  {
   "cell_type": "code",
   "execution_count": null,
   "metadata": {
    "ExecuteTime": {
     "end_time": "2017-11-27T20:32:54.210369Z",
     "start_time": "2017-11-27T20:17:56.677Z"
    }
   },
   "outputs": [],
   "source": [
    "for topic in lda.show_topics(num_topics=6, formatted=False, num_words=6):\n",
    "    print(\"Topic {}: Words: \".format(topic[0]))\n",
    "    topicwords = [w for (w, val) in topic[1]]\n",
    "    print(topicwords)"
   ]
  },
  {
   "cell_type": "code",
   "execution_count": null,
   "metadata": {},
   "outputs": [],
   "source": []
  },
  {
   "cell_type": "markdown",
   "metadata": {
    "ExecuteTime": {
     "end_time": "2017-11-25T01:34:16.968542Z",
     "start_time": "2017-11-25T01:34:16.965865Z"
    }
   },
   "source": [
    "## Quick NMF"
   ]
  },
  {
   "cell_type": "markdown",
   "metadata": {},
   "source": [
    "### TF-IDF"
   ]
  },
  {
   "cell_type": "code",
   "execution_count": 90,
   "metadata": {
    "ExecuteTime": {
     "end_time": "2017-11-27T21:28:06.117167Z",
     "start_time": "2017-11-27T21:28:03.927185Z"
    }
   },
   "outputs": [],
   "source": [
    "tf = TfidfVectorizer(stop_words=stop,use_idf=True,token_pattern=\"\\\\b[a-z][a-z]+\\\\b\",max_df=.6,min_df=.05)\n",
    "x = tf.fit_transform(appleDF.text)\n",
    "tf_feature_names = tf.get_feature_names()"
   ]
  },
  {
   "cell_type": "code",
   "execution_count": 91,
   "metadata": {
    "ExecuteTime": {
     "end_time": "2017-11-27T21:28:06.121179Z",
     "start_time": "2017-11-27T21:28:06.118559Z"
    }
   },
   "outputs": [
    {
     "name": "stdout",
     "output_type": "stream",
     "text": [
      "(171517, 14)\n"
     ]
    }
   ],
   "source": [
    "print(x.shape)"
   ]
  },
  {
   "cell_type": "code",
   "execution_count": 92,
   "metadata": {
    "ExecuteTime": {
     "end_time": "2017-11-27T21:28:07.009201Z",
     "start_time": "2017-11-27T21:28:06.122403Z"
    }
   },
   "outputs": [],
   "source": [
    "nmf = NMF(n_components=5, init='random')\n",
    "nmf_fit = nmf.fit_transform(x)"
   ]
  },
  {
   "cell_type": "code",
   "execution_count": 93,
   "metadata": {
    "ExecuteTime": {
     "end_time": "2017-11-27T21:28:07.014792Z",
     "start_time": "2017-11-27T21:28:07.010790Z"
    }
   },
   "outputs": [
    {
     "data": {
      "text/plain": [
       "['../models/nmf.pkl']"
      ]
     },
     "execution_count": 93,
     "metadata": {},
     "output_type": "execute_result"
    }
   ],
   "source": [
    "joblib.dump(nmf, '../models/nmf.pkl')"
   ]
  },
  {
   "cell_type": "code",
   "execution_count": 94,
   "metadata": {
    "ExecuteTime": {
     "end_time": "2017-11-27T21:28:07.020313Z",
     "start_time": "2017-11-27T21:28:07.016230Z"
    }
   },
   "outputs": [
    {
     "name": "stdout",
     "output_type": "stream",
     "text": [
      "Topic 0:\n",
      "help happy device using version issue\n",
      "Topic 1:\n",
      "iphone ios version using device apple\n",
      "Topic 2:\n",
      "please happy device apple version using\n",
      "Topic 3:\n",
      "phone apple update ios using work\n",
      "Topic 4:\n",
      "update issue work software device ios\n"
     ]
    }
   ],
   "source": [
    "display_topics(nmf,tf_feature_names,6)"
   ]
  },
  {
   "cell_type": "markdown",
   "metadata": {
    "ExecuteTime": {
     "end_time": "2017-11-25T02:46:52.176966Z",
     "start_time": "2017-11-25T02:46:52.174049Z"
    }
   },
   "source": [
    "### Clean Apple Tweets"
   ]
  },
  {
   "cell_type": "code",
   "execution_count": 46,
   "metadata": {
    "ExecuteTime": {
     "end_time": "2017-11-26T23:22:51.463116Z",
     "start_time": "2017-11-26T23:22:35.435029Z"
    },
    "scrolled": true
   },
   "outputs": [
    {
     "name": "stderr",
     "output_type": "stream",
     "text": [
      "/home/xavier/anaconda3/lib/python3.6/site-packages/ipykernel_launcher.py:1: SettingWithCopyWarning: \n",
      "A value is trying to be set on a copy of a slice from a DataFrame.\n",
      "Try using .loc[row_indexer,col_indexer] = value instead\n",
      "\n",
      "See the caveats in the documentation: http://pandas.pydata.org/pandas-docs/stable/indexing.html#indexing-view-versus-copy\n",
      "  \"\"\"Entry point for launching an IPython kernel.\n"
     ]
    }
   ],
   "source": [
    "appleDF['clean'] = appleDF.text.apply(lambda x: process_tweet_text(x))"
   ]
  },
  {
   "cell_type": "code",
   "execution_count": 47,
   "metadata": {
    "ExecuteTime": {
     "end_time": "2017-11-26T23:22:51.478266Z",
     "start_time": "2017-11-26T23:22:51.464683Z"
    }
   },
   "outputs": [
    {
     "data": {
      "text/html": [
       "<div>\n",
       "<style scoped>\n",
       "    .dataframe tbody tr th:only-of-type {\n",
       "        vertical-align: middle;\n",
       "    }\n",
       "\n",
       "    .dataframe tbody tr th {\n",
       "        vertical-align: top;\n",
       "    }\n",
       "\n",
       "    .dataframe thead th {\n",
       "        text-align: right;\n",
       "    }\n",
       "</style>\n",
       "<table border=\"1\" class=\"dataframe\">\n",
       "  <thead>\n",
       "    <tr style=\"text-align: right;\">\n",
       "      <th></th>\n",
       "      <th>tweet_id</th>\n",
       "      <th>author_id</th>\n",
       "      <th>inbound</th>\n",
       "      <th>text</th>\n",
       "      <th>response_tweet_id</th>\n",
       "      <th>in_response_to_tweet_id</th>\n",
       "      <th>date</th>\n",
       "      <th>month</th>\n",
       "      <th>day</th>\n",
       "      <th>clean</th>\n",
       "    </tr>\n",
       "  </thead>\n",
       "  <tbody>\n",
       "    <tr>\n",
       "      <th>119</th>\n",
       "      <td>129</td>\n",
       "      <td>AppleSupport</td>\n",
       "      <td>False</td>\n",
       "      <td>@95972 Let's take a look at your flashlight to...</td>\n",
       "      <td>130</td>\n",
       "      <td>131.0</td>\n",
       "      <td>2017-10-04 13:04:26</td>\n",
       "      <td>10</td>\n",
       "      <td>2</td>\n",
       "      <td>flashlight,together,recently,version,number</td>\n",
       "    </tr>\n",
       "    <tr>\n",
       "      <th>120</th>\n",
       "      <td>130</td>\n",
       "      <td>95973</td>\n",
       "      <td>True</td>\n",
       "      <td>@AppleSupport @95972 i have the same problem w...</td>\n",
       "      <td>NaN</td>\n",
       "      <td>129.0</td>\n",
       "      <td>2017-10-04 22:10:17</td>\n",
       "      <td>10</td>\n",
       "      <td>2</td>\n",
       "      <td>problem,led,doesnt,work,since</td>\n",
       "    </tr>\n",
       "    <tr>\n",
       "      <th>309</th>\n",
       "      <td>385</td>\n",
       "      <td>AppleSupport</td>\n",
       "      <td>False</td>\n",
       "      <td>@96035 We want you to get the most out of your...</td>\n",
       "      <td>NaN</td>\n",
       "      <td>386.0</td>\n",
       "      <td>2017-10-04 12:33:00</td>\n",
       "      <td>10</td>\n",
       "      <td>2</td>\n",
       "      <td>happening,specifically</td>\n",
       "    </tr>\n",
       "    <tr>\n",
       "      <th>339</th>\n",
       "      <td>416</td>\n",
       "      <td>AppleSupport</td>\n",
       "      <td>False</td>\n",
       "      <td>@96041 We appreciate you letting us know, does...</td>\n",
       "      <td>NaN</td>\n",
       "      <td>417.0</td>\n",
       "      <td>2017-10-04 12:59:29</td>\n",
       "      <td>10</td>\n",
       "      <td>2</td>\n",
       "      <td>appreciate,happen,cellular,data</td>\n",
       "    </tr>\n",
       "    <tr>\n",
       "      <th>340</th>\n",
       "      <td>417</td>\n",
       "      <td>96041</td>\n",
       "      <td>True</td>\n",
       "      <td>@AppleSupport When you go to the App Store &amp;am...</td>\n",
       "      <td>416</td>\n",
       "      <td>418.0</td>\n",
       "      <td>2017-10-04 04:57:54</td>\n",
       "      <td>10</td>\n",
       "      <td>2</td>\n",
       "      <td>pick,randomly,image,video,sec,play,whole</td>\n",
       "    </tr>\n",
       "  </tbody>\n",
       "</table>\n",
       "</div>"
      ],
      "text/plain": [
       "     tweet_id     author_id  inbound  \\\n",
       "119       129  AppleSupport    False   \n",
       "120       130         95973     True   \n",
       "309       385  AppleSupport    False   \n",
       "339       416  AppleSupport    False   \n",
       "340       417         96041     True   \n",
       "\n",
       "                                                  text response_tweet_id  \\\n",
       "119  @95972 Let's take a look at your flashlight to...               130   \n",
       "120  @AppleSupport @95972 i have the same problem w...               NaN   \n",
       "309  @96035 We want you to get the most out of your...               NaN   \n",
       "339  @96041 We appreciate you letting us know, does...               NaN   \n",
       "340  @AppleSupport When you go to the App Store &am...               416   \n",
       "\n",
       "     in_response_to_tweet_id                date  month  day  \\\n",
       "119                    131.0 2017-10-04 13:04:26     10    2   \n",
       "120                    129.0 2017-10-04 22:10:17     10    2   \n",
       "309                    386.0 2017-10-04 12:33:00     10    2   \n",
       "339                    417.0 2017-10-04 12:59:29     10    2   \n",
       "340                    418.0 2017-10-04 04:57:54     10    2   \n",
       "\n",
       "                                           clean  \n",
       "119  flashlight,together,recently,version,number  \n",
       "120                problem,led,doesnt,work,since  \n",
       "309                       happening,specifically  \n",
       "339              appreciate,happen,cellular,data  \n",
       "340     pick,randomly,image,video,sec,play,whole  "
      ]
     },
     "execution_count": 47,
     "metadata": {},
     "output_type": "execute_result"
    }
   ],
   "source": [
    "appleDF.head()"
   ]
  },
  {
   "cell_type": "code",
   "execution_count": 53,
   "metadata": {
    "ExecuteTime": {
     "end_time": "2017-11-26T23:24:54.321769Z",
     "start_time": "2017-11-26T23:24:53.324503Z"
    }
   },
   "outputs": [],
   "source": [
    "tf2 = TfidfVectorizer(stop_words=stop,use_idf=True)\n",
    "x2 = tf2.fit_transform(appleDF.clean)\n",
    "tf2_feature_names = tf2.get_feature_names()"
   ]
  },
  {
   "cell_type": "code",
   "execution_count": 54,
   "metadata": {
    "ExecuteTime": {
     "end_time": "2017-11-26T23:24:57.666239Z",
     "start_time": "2017-11-26T23:24:54.878852Z"
    }
   },
   "outputs": [],
   "source": [
    "no_topics = 5\n",
    "nmf_model = NMF(n_components=no_topics,init='random').fit(x2)\n",
    "nmf_W = nmf_model.transform(x2)\n",
    "nmf_H = nmf_model.components_"
   ]
  },
  {
   "cell_type": "code",
   "execution_count": 55,
   "metadata": {
    "ExecuteTime": {
     "end_time": "2017-11-26T23:24:57.673121Z",
     "start_time": "2017-11-26T23:24:57.667942Z"
    }
   },
   "outputs": [
    {
     "name": "stdout",
     "output_type": "stream",
     "text": [
      "Topic 0:\n",
      "help happy support love offer\n",
      "Topic 1:\n",
      "fixed future work issue update\n",
      "Topic 2:\n",
      "version running happy currently exact\n",
      "Topic 3:\n",
      "continue reaching together happy working\n",
      "Topic 4:\n",
      "device fix back update phone\n"
     ]
    }
   ],
   "source": [
    "display_topics(nmf_model,tf2_feature_names,5)"
   ]
  },
  {
   "cell_type": "code",
   "execution_count": 56,
   "metadata": {
    "ExecuteTime": {
     "end_time": "2017-11-26T23:25:02.875404Z",
     "start_time": "2017-11-26T23:25:02.856016Z"
    }
   },
   "outputs": [],
   "source": [
    "documents = list(appleDF.text)"
   ]
  },
  {
   "cell_type": "code",
   "execution_count": 57,
   "metadata": {
    "ExecuteTime": {
     "end_time": "2017-11-26T23:25:03.121606Z",
     "start_time": "2017-11-26T23:25:03.068255Z"
    }
   },
   "outputs": [
    {
     "name": "stdout",
     "output_type": "stream",
     "text": [
      "Topic 0:\n",
      "help happy support love offer\n",
      "help me pls!! @95974 @AppleSupport https://t.co/rowd3uS2Wa\n",
      "@427347 We're here to help. Follow the steps here: https://t.co/xXaXeeSRt9 DM us if you have questions. https://t.co/GDrqU22YpT\n",
      "Topic 1:\n",
      "fixed future work issue update\n",
      "@510821 Here’s what you can do to work around the issue until it’s fixed in a future software update: https://t.co/xXaXeeSRt9 https://t.co/GDrqU22YpT\n",
      "@445073  Here’s what you can do to work around the issue until it’s fixed in a future software update: https://t.co/qODbOsp4wz\n",
      "Topic 2:\n",
      "version running happy currently exact\n",
      "@505168 We'd like to look into this with you. Can you let us know which iOS version you have installed? Send us a DM here: https://t.co/GDrqU2kzhr\n",
      "@619643 We'd like to look into this with you. Which watchOS version and iPhone are you using your Apple Watch with?\n",
      "Topic 3:\n",
      "continue reaching together happy working\n",
      "@636562 Thank you for reaching out. Please DM us and we will continue from there. https://t.co/GDrqU22YpT\n",
      "@412979 Thanks for reaching out. Please DM us to continue: https://t.co/GDrqU22YpT\n",
      "Topic 4:\n",
      "device fix back update phone\n",
      "@587119 We'd like to see if we can fix this. What device are you using? DM us and let us know. https://t.co/GDrqU22YpT\n",
      "@212771 We can help. What device are you using? Since the update, has there been any changes to how your device is used?\n"
     ]
    }
   ],
   "source": [
    "no_top_words = 5\n",
    "no_top_documents = 2\n",
    "display_topics2(nmf_H, nmf_W, tf2_feature_names, documents, no_top_words, no_top_documents)"
   ]
  },
  {
   "cell_type": "markdown",
   "metadata": {},
   "source": [
    "## Apple"
   ]
  },
  {
   "cell_type": "code",
   "execution_count": 262,
   "metadata": {
    "ExecuteTime": {
     "end_time": "2017-11-27T22:52:04.552671Z",
     "start_time": "2017-11-27T22:50:20.455980Z"
    }
   },
   "outputs": [
    {
     "name": "stdout",
     "output_type": "stream",
     "text": [
      "['atviassist', 'awssupport', 'adobecare', 'airasiasupport', 'airbnbhelp']\n",
      "dataframe shape: (171517, 8)\n"
     ]
    }
   ],
   "source": [
    "appleNMF,appleFeatures,appleDist = get_topics('AppleSupport',5,df)"
   ]
  },
  {
   "cell_type": "code",
   "execution_count": 263,
   "metadata": {
    "ExecuteTime": {
     "end_time": "2017-11-27T22:52:04.557613Z",
     "start_time": "2017-11-27T22:52:04.554107Z"
    }
   },
   "outputs": [
    {
     "name": "stdout",
     "output_type": "stream",
     "text": [
      "Topic 0:\n",
      "please thanks happy apple device using\n",
      "Topic 1:\n",
      "ios version using device happy update\n",
      "Topic 2:\n",
      "update issue work software device apple\n",
      "Topic 3:\n",
      "iphone apple using happy update work\n",
      "Topic 4:\n",
      "phone apple update ios thanks using\n"
     ]
    }
   ],
   "source": [
    "display_topics(appleNMF,appleFeatures,6)"
   ]
  },
  {
   "cell_type": "code",
   "execution_count": 264,
   "metadata": {
    "ExecuteTime": {
     "end_time": "2017-11-27T22:52:04.564837Z",
     "start_time": "2017-11-27T22:52:04.558809Z"
    }
   },
   "outputs": [
    {
     "data": {
      "text/html": [
       "<div>\n",
       "<style scoped>\n",
       "    .dataframe tbody tr th:only-of-type {\n",
       "        vertical-align: middle;\n",
       "    }\n",
       "\n",
       "    .dataframe tbody tr th {\n",
       "        vertical-align: top;\n",
       "    }\n",
       "\n",
       "    .dataframe thead th {\n",
       "        text-align: right;\n",
       "    }\n",
       "</style>\n",
       "<table border=\"1\" class=\"dataframe\">\n",
       "  <thead>\n",
       "    <tr style=\"text-align: right;\">\n",
       "      <th></th>\n",
       "      <th>tweet_category</th>\n",
       "      <th>tweet_count</th>\n",
       "    </tr>\n",
       "  </thead>\n",
       "  <tbody>\n",
       "    <tr>\n",
       "      <th>4</th>\n",
       "      <td>4</td>\n",
       "      <td>72594</td>\n",
       "    </tr>\n",
       "    <tr>\n",
       "      <th>0</th>\n",
       "      <td>0</td>\n",
       "      <td>36656</td>\n",
       "    </tr>\n",
       "    <tr>\n",
       "      <th>1</th>\n",
       "      <td>1</td>\n",
       "      <td>29309</td>\n",
       "    </tr>\n",
       "    <tr>\n",
       "      <th>2</th>\n",
       "      <td>2</td>\n",
       "      <td>19545</td>\n",
       "    </tr>\n",
       "    <tr>\n",
       "      <th>3</th>\n",
       "      <td>3</td>\n",
       "      <td>13413</td>\n",
       "    </tr>\n",
       "  </tbody>\n",
       "</table>\n",
       "</div>"
      ],
      "text/plain": [
       "   tweet_category  tweet_count\n",
       "4               4        72594\n",
       "0               0        36656\n",
       "1               1        29309\n",
       "2               2        19545\n",
       "3               3        13413"
      ]
     },
     "execution_count": 264,
     "metadata": {},
     "output_type": "execute_result"
    }
   ],
   "source": [
    "appleDist"
   ]
  },
  {
   "cell_type": "markdown",
   "metadata": {},
   "source": [
    "## Microsoft"
   ]
  },
  {
   "cell_type": "markdown",
   "metadata": {},
   "source": [
    "### Topics"
   ]
  },
  {
   "cell_type": "code",
   "execution_count": 259,
   "metadata": {
    "ExecuteTime": {
     "end_time": "2017-11-27T22:50:09.570526Z",
     "start_time": "2017-11-27T22:50:03.081595Z"
    }
   },
   "outputs": [
    {
     "name": "stdout",
     "output_type": "stream",
     "text": [
      "['atviassist', 'awssupport', 'adobecare', 'airasiasupport', 'airbnbhelp']\n",
      "dataframe shape: (17303, 8)\n"
     ]
    }
   ],
   "source": [
    "microNMF,microFeatures,microDist = get_topics('MicrosoftHelps',5,df,mdf=.8)"
   ]
  },
  {
   "cell_type": "code",
   "execution_count": 260,
   "metadata": {
    "ExecuteTime": {
     "end_time": "2017-11-27T22:50:09.575516Z",
     "start_time": "2017-11-27T22:50:09.571953Z"
    }
   },
   "outputs": [
    {
     "name": "stdout",
     "output_type": "stream",
     "text": [
      "Topic 0:\n",
      "update thanks still link error windows\n",
      "Topic 1:\n",
      "please assistance thanks error still using\n",
      "Topic 2:\n",
      "issue still using error thanks assistance\n",
      "Topic 3:\n",
      "windows using error thanks link still\n",
      "Topic 4:\n",
      "support link assistance thanks using still\n"
     ]
    }
   ],
   "source": [
    "display_topics(microNMF,microFeatures,6)"
   ]
  },
  {
   "cell_type": "code",
   "execution_count": 261,
   "metadata": {
    "ExecuteTime": {
     "end_time": "2017-11-27T22:50:09.582484Z",
     "start_time": "2017-11-27T22:50:09.576726Z"
    }
   },
   "outputs": [
    {
     "data": {
      "text/html": [
       "<div>\n",
       "<style scoped>\n",
       "    .dataframe tbody tr th:only-of-type {\n",
       "        vertical-align: middle;\n",
       "    }\n",
       "\n",
       "    .dataframe tbody tr th {\n",
       "        vertical-align: top;\n",
       "    }\n",
       "\n",
       "    .dataframe thead th {\n",
       "        text-align: right;\n",
       "    }\n",
       "</style>\n",
       "<table border=\"1\" class=\"dataframe\">\n",
       "  <thead>\n",
       "    <tr style=\"text-align: right;\">\n",
       "      <th></th>\n",
       "      <th>tweet_category</th>\n",
       "      <th>tweet_count</th>\n",
       "    </tr>\n",
       "  </thead>\n",
       "  <tbody>\n",
       "    <tr>\n",
       "      <th>4</th>\n",
       "      <td>4</td>\n",
       "      <td>8619</td>\n",
       "    </tr>\n",
       "    <tr>\n",
       "      <th>2</th>\n",
       "      <td>2</td>\n",
       "      <td>3416</td>\n",
       "    </tr>\n",
       "    <tr>\n",
       "      <th>0</th>\n",
       "      <td>0</td>\n",
       "      <td>2193</td>\n",
       "    </tr>\n",
       "    <tr>\n",
       "      <th>1</th>\n",
       "      <td>1</td>\n",
       "      <td>1782</td>\n",
       "    </tr>\n",
       "    <tr>\n",
       "      <th>3</th>\n",
       "      <td>3</td>\n",
       "      <td>1293</td>\n",
       "    </tr>\n",
       "  </tbody>\n",
       "</table>\n",
       "</div>"
      ],
      "text/plain": [
       "   tweet_category  tweet_count\n",
       "4               4         8619\n",
       "2               2         3416\n",
       "0               0         2193\n",
       "1               1         1782\n",
       "3               3         1293"
      ]
     },
     "execution_count": 261,
     "metadata": {},
     "output_type": "execute_result"
    }
   ],
   "source": [
    "microDist"
   ]
  },
  {
   "cell_type": "markdown",
   "metadata": {},
   "source": [
    "## Dell"
   ]
  },
  {
   "cell_type": "markdown",
   "metadata": {},
   "source": [
    "### Topics"
   ]
  },
  {
   "cell_type": "code",
   "execution_count": 256,
   "metadata": {
    "ExecuteTime": {
     "end_time": "2017-11-27T22:49:50.955121Z",
     "start_time": "2017-11-27T22:49:47.343374Z"
    }
   },
   "outputs": [
    {
     "name": "stdout",
     "output_type": "stream",
     "text": [
      "['atviassist', 'awssupport', 'adobecare', 'airasiasupport', 'airbnbhelp']\n",
      "dataframe shape: (6359, 8)\n"
     ]
    }
   ],
   "source": [
    "dellNMF,dellFeatures,dellDist = get_topics('DellCares',3,df,c=companies)"
   ]
  },
  {
   "cell_type": "code",
   "execution_count": 257,
   "metadata": {
    "ExecuteTime": {
     "end_time": "2017-11-27T22:49:51.322256Z",
     "start_time": "2017-11-27T22:49:51.318161Z"
    }
   },
   "outputs": [
    {
     "name": "stdout",
     "output_type": "stream",
     "text": [
      "Topic 0:\n",
      "service tag system name registered owner\n",
      "Topic 1:\n",
      "dell support team issue service order\n",
      "Topic 2:\n",
      "please message assist details direct check\n"
     ]
    }
   ],
   "source": [
    "display_topics(dellNMF,dellFeatures,6)"
   ]
  },
  {
   "cell_type": "code",
   "execution_count": 190,
   "metadata": {
    "ExecuteTime": {
     "end_time": "2017-11-27T22:22:50.252492Z",
     "start_time": "2017-11-27T22:22:50.245818Z"
    }
   },
   "outputs": [
    {
     "data": {
      "text/html": [
       "<div>\n",
       "<style scoped>\n",
       "    .dataframe tbody tr th:only-of-type {\n",
       "        vertical-align: middle;\n",
       "    }\n",
       "\n",
       "    .dataframe tbody tr th {\n",
       "        vertical-align: top;\n",
       "    }\n",
       "\n",
       "    .dataframe thead th {\n",
       "        text-align: right;\n",
       "    }\n",
       "</style>\n",
       "<table border=\"1\" class=\"dataframe\">\n",
       "  <thead>\n",
       "    <tr style=\"text-align: right;\">\n",
       "      <th></th>\n",
       "      <th>tweet_category</th>\n",
       "      <th>tweet_count</th>\n",
       "    </tr>\n",
       "  </thead>\n",
       "  <tbody>\n",
       "    <tr>\n",
       "      <th>2</th>\n",
       "      <td>2</td>\n",
       "      <td>3892</td>\n",
       "    </tr>\n",
       "    <tr>\n",
       "      <th>0</th>\n",
       "      <td>0</td>\n",
       "      <td>1781</td>\n",
       "    </tr>\n",
       "    <tr>\n",
       "      <th>1</th>\n",
       "      <td>1</td>\n",
       "      <td>686</td>\n",
       "    </tr>\n",
       "  </tbody>\n",
       "</table>\n",
       "</div>"
      ],
      "text/plain": [
       "   tweet_category  tweet_count\n",
       "2               2         3892\n",
       "0               0         1781\n",
       "1               1          686"
      ]
     },
     "execution_count": 190,
     "metadata": {},
     "output_type": "execute_result"
    }
   ],
   "source": [
    "dellDist"
   ]
  },
  {
   "cell_type": "markdown",
   "metadata": {},
   "source": [
    "## Quick Cluster"
   ]
  },
  {
   "cell_type": "markdown",
   "metadata": {},
   "source": [
    "### Kmeans"
   ]
  },
  {
   "cell_type": "code",
   "execution_count": 58,
   "metadata": {
    "ExecuteTime": {
     "end_time": "2017-11-26T23:26:01.412218Z",
     "start_time": "2017-11-26T23:25:53.706662Z"
    }
   },
   "outputs": [
    {
     "name": "stdout",
     "output_type": "stream",
     "text": [
      "CPU times: user 308 ms, sys: 240 ms, total: 548 ms\n",
      "Wall time: 7.7 s\n"
     ]
    }
   ],
   "source": [
    "#without dimensionality reduction\n",
    "\n",
    "num_clusters = 5\n",
    "\n",
    "km = KMeans(n_clusters=num_clusters,init='k-means++',n_init=20,n_jobs=-1,max_iter=100)\n",
    "\n",
    "%time km.fit(x)\n",
    "\n",
    "clusters = km.labels_.tolist()"
   ]
  },
  {
   "cell_type": "code",
   "execution_count": 59,
   "metadata": {
    "ExecuteTime": {
     "end_time": "2017-11-26T23:26:01.419278Z",
     "start_time": "2017-11-26T23:26:01.413979Z"
    }
   },
   "outputs": [
    {
     "data": {
      "text/plain": [
       "['../models/doc_cluster.pkl']"
      ]
     },
     "execution_count": 59,
     "metadata": {},
     "output_type": "execute_result"
    }
   ],
   "source": [
    "joblib.dump(km,  '../models/doc_cluster.pkl')\n",
    "\n",
    "# km = joblib.load('doc_cluster.pkl')\n",
    "# clusters = km.labels_.tolist()"
   ]
  },
  {
   "cell_type": "code",
   "execution_count": 60,
   "metadata": {
    "ExecuteTime": {
     "end_time": "2017-11-26T23:26:01.516439Z",
     "start_time": "2017-11-26T23:26:01.420740Z"
    }
   },
   "outputs": [],
   "source": [
    "appleClusters = appleDF.copy()\n",
    "appleClusters['clusters'] = clusters\n",
    "\n",
    "#frame = pd.DataFrame(films, index = [clusters] , columns = ['rank', 'title', 'cluster', 'genre'])"
   ]
  },
  {
   "cell_type": "code",
   "execution_count": 61,
   "metadata": {
    "ExecuteTime": {
     "end_time": "2017-11-26T23:26:01.524120Z",
     "start_time": "2017-11-26T23:26:01.518195Z"
    }
   },
   "outputs": [
    {
     "data": {
      "text/plain": [
       "0    93927\n",
       "2    24611\n",
       "1    21735\n",
       "3    19018\n",
       "4    12226\n",
       "Name: clusters, dtype: int64"
      ]
     },
     "execution_count": 61,
     "metadata": {},
     "output_type": "execute_result"
    }
   ],
   "source": [
    "appleClusters.clusters.value_counts()"
   ]
  },
  {
   "cell_type": "code",
   "execution_count": 62,
   "metadata": {
    "ExecuteTime": {
     "end_time": "2017-11-26T23:26:01.539282Z",
     "start_time": "2017-11-26T23:26:01.525598Z"
    }
   },
   "outputs": [
    {
     "data": {
      "text/html": [
       "<div>\n",
       "<style scoped>\n",
       "    .dataframe tbody tr th:only-of-type {\n",
       "        vertical-align: middle;\n",
       "    }\n",
       "\n",
       "    .dataframe tbody tr th {\n",
       "        vertical-align: top;\n",
       "    }\n",
       "\n",
       "    .dataframe thead th {\n",
       "        text-align: right;\n",
       "    }\n",
       "</style>\n",
       "<table border=\"1\" class=\"dataframe\">\n",
       "  <thead>\n",
       "    <tr style=\"text-align: right;\">\n",
       "      <th></th>\n",
       "      <th>tweet_id</th>\n",
       "      <th>author_id</th>\n",
       "      <th>inbound</th>\n",
       "      <th>text</th>\n",
       "      <th>response_tweet_id</th>\n",
       "      <th>in_response_to_tweet_id</th>\n",
       "      <th>date</th>\n",
       "      <th>month</th>\n",
       "      <th>day</th>\n",
       "      <th>clean</th>\n",
       "      <th>clusters</th>\n",
       "    </tr>\n",
       "  </thead>\n",
       "  <tbody>\n",
       "    <tr>\n",
       "      <th>119</th>\n",
       "      <td>129</td>\n",
       "      <td>AppleSupport</td>\n",
       "      <td>False</td>\n",
       "      <td>@95972 Let's take a look at your flashlight to...</td>\n",
       "      <td>130</td>\n",
       "      <td>131.0</td>\n",
       "      <td>2017-10-04 13:04:26</td>\n",
       "      <td>10</td>\n",
       "      <td>2</td>\n",
       "      <td>flashlight,together,recently,version,number</td>\n",
       "      <td>1</td>\n",
       "    </tr>\n",
       "    <tr>\n",
       "      <th>120</th>\n",
       "      <td>130</td>\n",
       "      <td>95973</td>\n",
       "      <td>True</td>\n",
       "      <td>@AppleSupport @95972 i have the same problem w...</td>\n",
       "      <td>NaN</td>\n",
       "      <td>129.0</td>\n",
       "      <td>2017-10-04 22:10:17</td>\n",
       "      <td>10</td>\n",
       "      <td>2</td>\n",
       "      <td>problem,led,doesnt,work,since</td>\n",
       "      <td>0</td>\n",
       "    </tr>\n",
       "    <tr>\n",
       "      <th>309</th>\n",
       "      <td>385</td>\n",
       "      <td>AppleSupport</td>\n",
       "      <td>False</td>\n",
       "      <td>@96035 We want you to get the most out of your...</td>\n",
       "      <td>NaN</td>\n",
       "      <td>386.0</td>\n",
       "      <td>2017-10-04 12:33:00</td>\n",
       "      <td>10</td>\n",
       "      <td>2</td>\n",
       "      <td>happening,specifically</td>\n",
       "      <td>3</td>\n",
       "    </tr>\n",
       "    <tr>\n",
       "      <th>339</th>\n",
       "      <td>416</td>\n",
       "      <td>AppleSupport</td>\n",
       "      <td>False</td>\n",
       "      <td>@96041 We appreciate you letting us know, does...</td>\n",
       "      <td>NaN</td>\n",
       "      <td>417.0</td>\n",
       "      <td>2017-10-04 12:59:29</td>\n",
       "      <td>10</td>\n",
       "      <td>2</td>\n",
       "      <td>appreciate,happen,cellular,data</td>\n",
       "      <td>0</td>\n",
       "    </tr>\n",
       "    <tr>\n",
       "      <th>340</th>\n",
       "      <td>417</td>\n",
       "      <td>96041</td>\n",
       "      <td>True</td>\n",
       "      <td>@AppleSupport When you go to the App Store &amp;am...</td>\n",
       "      <td>416</td>\n",
       "      <td>418.0</td>\n",
       "      <td>2017-10-04 04:57:54</td>\n",
       "      <td>10</td>\n",
       "      <td>2</td>\n",
       "      <td>pick,randomly,image,video,sec,play,whole</td>\n",
       "      <td>0</td>\n",
       "    </tr>\n",
       "  </tbody>\n",
       "</table>\n",
       "</div>"
      ],
      "text/plain": [
       "     tweet_id     author_id  inbound  \\\n",
       "119       129  AppleSupport    False   \n",
       "120       130         95973     True   \n",
       "309       385  AppleSupport    False   \n",
       "339       416  AppleSupport    False   \n",
       "340       417         96041     True   \n",
       "\n",
       "                                                  text response_tweet_id  \\\n",
       "119  @95972 Let's take a look at your flashlight to...               130   \n",
       "120  @AppleSupport @95972 i have the same problem w...               NaN   \n",
       "309  @96035 We want you to get the most out of your...               NaN   \n",
       "339  @96041 We appreciate you letting us know, does...               NaN   \n",
       "340  @AppleSupport When you go to the App Store &am...               416   \n",
       "\n",
       "     in_response_to_tweet_id                date  month  day  \\\n",
       "119                    131.0 2017-10-04 13:04:26     10    2   \n",
       "120                    129.0 2017-10-04 22:10:17     10    2   \n",
       "309                    386.0 2017-10-04 12:33:00     10    2   \n",
       "339                    417.0 2017-10-04 12:59:29     10    2   \n",
       "340                    418.0 2017-10-04 04:57:54     10    2   \n",
       "\n",
       "                                           clean  clusters  \n",
       "119  flashlight,together,recently,version,number         1  \n",
       "120                problem,led,doesnt,work,since         0  \n",
       "309                       happening,specifically         3  \n",
       "339              appreciate,happen,cellular,data         0  \n",
       "340     pick,randomly,image,video,sec,play,whole         0  "
      ]
     },
     "execution_count": 62,
     "metadata": {},
     "output_type": "execute_result"
    }
   ],
   "source": [
    "appleClusters.head()"
   ]
  },
  {
   "cell_type": "code",
   "execution_count": 107,
   "metadata": {
    "ExecuteTime": {
     "end_time": "2017-11-26T19:10:31.786330Z",
     "start_time": "2017-11-26T19:10:31.732149Z"
    }
   },
   "outputs": [
    {
     "name": "stdout",
     "output_type": "stream",
     "text": [
      "Top terms per cluster:\n",
      "\n",
      "Cluster 0 words:"
     ]
    },
    {
     "ename": "NameError",
     "evalue": "name 'vocab_frame' is not defined",
     "output_type": "error",
     "traceback": [
      "\u001b[0;31m---------------------------------------------------------------------------\u001b[0m",
      "\u001b[0;31mNameError\u001b[0m                                 Traceback (most recent call last)",
      "\u001b[0;32m<ipython-input-107-0eec6f292577>\u001b[0m in \u001b[0;36m<module>\u001b[0;34m()\u001b[0m\n\u001b[1;32m      8\u001b[0m \u001b[0;34m\u001b[0m\u001b[0m\n\u001b[1;32m      9\u001b[0m     \u001b[0;32mfor\u001b[0m \u001b[0mind\u001b[0m \u001b[0;32min\u001b[0m \u001b[0morder_centroids\u001b[0m\u001b[0;34m[\u001b[0m\u001b[0mi\u001b[0m\u001b[0;34m,\u001b[0m \u001b[0;34m:\u001b[0m\u001b[0;36m6\u001b[0m\u001b[0;34m]\u001b[0m\u001b[0;34m:\u001b[0m \u001b[0;31m#replace 6 with n words per cluster\u001b[0m\u001b[0;34m\u001b[0m\u001b[0m\n\u001b[0;32m---> 10\u001b[0;31m         \u001b[0mprint\u001b[0m\u001b[0;34m(\u001b[0m\u001b[0;34m' %s'\u001b[0m \u001b[0;34m%\u001b[0m \u001b[0mvocab_frame\u001b[0m\u001b[0;34m.\u001b[0m\u001b[0mix\u001b[0m\u001b[0;34m[\u001b[0m\u001b[0mterms\u001b[0m\u001b[0;34m[\u001b[0m\u001b[0mind\u001b[0m\u001b[0;34m]\u001b[0m\u001b[0;34m.\u001b[0m\u001b[0msplit\u001b[0m\u001b[0;34m(\u001b[0m\u001b[0;34m' '\u001b[0m\u001b[0;34m)\u001b[0m\u001b[0;34m]\u001b[0m\u001b[0;34m.\u001b[0m\u001b[0mvalues\u001b[0m\u001b[0;34m.\u001b[0m\u001b[0mtolist\u001b[0m\u001b[0;34m(\u001b[0m\u001b[0;34m)\u001b[0m\u001b[0;34m[\u001b[0m\u001b[0;36m0\u001b[0m\u001b[0;34m]\u001b[0m\u001b[0;34m[\u001b[0m\u001b[0;36m0\u001b[0m\u001b[0;34m]\u001b[0m\u001b[0;34m.\u001b[0m\u001b[0mencode\u001b[0m\u001b[0;34m(\u001b[0m\u001b[0;34m'utf-8'\u001b[0m\u001b[0;34m,\u001b[0m \u001b[0;34m'ignore'\u001b[0m\u001b[0;34m)\u001b[0m\u001b[0;34m,\u001b[0m \u001b[0mend\u001b[0m\u001b[0;34m=\u001b[0m\u001b[0;34m','\u001b[0m\u001b[0;34m)\u001b[0m\u001b[0;34m\u001b[0m\u001b[0m\n\u001b[0m\u001b[1;32m     11\u001b[0m     \u001b[0mprint\u001b[0m\u001b[0;34m(\u001b[0m\u001b[0;34m)\u001b[0m \u001b[0;31m#add whitespace\u001b[0m\u001b[0;34m\u001b[0m\u001b[0m\n\u001b[1;32m     12\u001b[0m     \u001b[0mprint\u001b[0m\u001b[0;34m(\u001b[0m\u001b[0;34m)\u001b[0m \u001b[0;31m#add whitespace\u001b[0m\u001b[0;34m\u001b[0m\u001b[0m\n",
      "\u001b[0;31mNameError\u001b[0m: name 'vocab_frame' is not defined"
     ]
    }
   ],
   "source": [
    "print(\"Top terms per cluster:\")\n",
    "print()\n",
    "#sort cluster centers by proximity to centroid\n",
    "order_centroids = km.cluster_centers_.argsort()[:, ::-1] \n",
    "\n",
    "for i in range(num_clusters):\n",
    "    print(\"Cluster %d words:\" % i, end='')\n",
    "    \n",
    "    for ind in order_centroids[i, :6]: #replace 6 with n words per cluster\n",
    "        print(' %s' % vocab_frame.ix[terms[ind].split(' ')].values.tolist()[0][0].encode('utf-8', 'ignore'), end=',')\n",
    "    print() #add whitespace\n",
    "    print() #add whitespace\n",
    "    \n",
    "    print(\"Cluster %d titles:\" % i, end='')\n",
    "    for title in frame.ix[i]['title'].values.tolist():\n",
    "        print(' %s,' % title, end='')\n",
    "    print() #add whitespace\n",
    "    print() #add whitespace\n",
    "    \n",
    "print()\n",
    "print()\n"
   ]
  },
  {
   "cell_type": "markdown",
   "metadata": {
    "ExecuteTime": {
     "end_time": "2017-11-26T19:23:43.480629Z",
     "start_time": "2017-11-26T19:23:43.476349Z"
    }
   },
   "source": [
    "### Cosine Similarity"
   ]
  },
  {
   "cell_type": "code",
   "execution_count": 75,
   "metadata": {
    "ExecuteTime": {
     "end_time": "2017-11-26T20:15:05.837929Z",
     "start_time": "2017-11-26T20:15:05.835143Z"
    }
   },
   "outputs": [],
   "source": [
    "# from sklearn.metrics.pairwise import cosine_similarity\n",
    "# dist = 1 - cosine_similarity(x)"
   ]
  },
  {
   "cell_type": "markdown",
   "metadata": {},
   "source": [
    "### PCA Before TSNE?"
   ]
  },
  {
   "cell_type": "code",
   "execution_count": 80,
   "metadata": {
    "ExecuteTime": {
     "end_time": "2017-11-27T00:08:17.245893Z",
     "start_time": "2017-11-27T00:08:17.118893Z"
    }
   },
   "outputs": [
    {
     "name": "stdout",
     "output_type": "stream",
     "text": [
      "Explained variation per principal component: [ 0.32311738  0.25988292  0.17274012]\n"
     ]
    }
   ],
   "source": [
    "from sklearn.decomposition import PCA\n",
    "\n",
    "pca = PCA(n_components=3)\n",
    "pca_result = pca.fit_transform(nmf_W)\n",
    "\n",
    "# df['pca-one'] = pca_result[:,0]\n",
    "# df['pca-two'] = pca_result[:,1] \n",
    "# df['pca-three'] = pca_result[:,2]\n",
    "\n",
    "print('Explained variation per principal component: {}'.format(pca.explained_variance_ratio_))"
   ]
  },
  {
   "cell_type": "code",
   "execution_count": 81,
   "metadata": {
    "ExecuteTime": {
     "end_time": "2017-11-27T00:08:18.694788Z",
     "start_time": "2017-11-27T00:08:18.690895Z"
    }
   },
   "outputs": [
    {
     "data": {
      "text/plain": [
       "171517"
      ]
     },
     "execution_count": 81,
     "metadata": {},
     "output_type": "execute_result"
    }
   ],
   "source": [
    "len(pca_result)"
   ]
  },
  {
   "cell_type": "markdown",
   "metadata": {},
   "source": [
    "### TSNE"
   ]
  },
  {
   "cell_type": "code",
   "execution_count": 67,
   "metadata": {
    "ExecuteTime": {
     "end_time": "2017-11-26T16:39:15.795340Z",
     "start_time": "2017-11-26T15:13:27.962479Z"
    }
   },
   "outputs": [],
   "source": [
    "tsne_model = TSNE(n_components=2, random_state=0)\n",
    "results = tsne_model.fit_transform(nmf_W) "
   ]
  },
  {
   "cell_type": "code",
   "execution_count": 68,
   "metadata": {
    "ExecuteTime": {
     "end_time": "2017-11-26T16:39:15.812260Z",
     "start_time": "2017-11-26T16:39:15.797118Z"
    }
   },
   "outputs": [
    {
     "data": {
      "text/plain": [
       "['../models/tsne.pkl']"
      ]
     },
     "execution_count": 68,
     "metadata": {},
     "output_type": "execute_result"
    }
   ],
   "source": [
    "joblib.dump(tsne_model, '../models/tsne.pkl')"
   ]
  },
  {
   "cell_type": "code",
   "execution_count": 69,
   "metadata": {
    "ExecuteTime": {
     "end_time": "2017-11-26T16:39:28.197276Z",
     "start_time": "2017-11-26T16:39:15.815463Z"
    }
   },
   "outputs": [
    {
     "data": {
      "image/png": "[encoded data removed]",
      "text/plain": [
       "<matplotlib.figure.Figure at 0x1a17c2f9b0>"
      ]
     },
     "metadata": {},
     "output_type": "display_data"
    }
   ],
   "source": [
    "def get_coords(matrix2D):\n",
    "    x = []\n",
    "    y = []\n",
    "    for r in matrix2D:\n",
    "        x.append(r[0])\n",
    "        y.append(r[1])\n",
    "    return x, y\n",
    "\n",
    "x, y = get_coords(results)\n",
    "\n",
    "from sklearn.cluster import KMeans\n",
    "kmeans = KMeans(n_clusters=50, random_state=0).fit(nmf_W)\n",
    "\n",
    "# Scatter plot with colouring by kmeans labels:\n",
    "plt.scatter(x, y, alpha=0.4, c=kmeans.labels_, marker='o', s=30);"
   ]
  },
  {
   "cell_type": "code",
   "execution_count": null,
   "metadata": {
    "ExecuteTime": {
     "end_time": "2017-11-26T15:13:06.609157Z",
     "start_time": "2017-11-26T15:12:37.051Z"
    }
   },
   "outputs": [],
   "source": [
    "joblib.dump(kmeans, '../models/kmeans.pkl')"
   ]
  },
  {
   "cell_type": "code",
   "execution_count": 65,
   "metadata": {
    "ExecuteTime": {
     "end_time": "2017-11-26T15:13:16.690253Z",
     "start_time": "2017-11-26T15:13:16.665599Z"
    }
   },
   "outputs": [],
   "source": [
    "kmeans = joblib.load('../models/kmeans.pkl')"
   ]
  },
  {
   "cell_type": "markdown",
   "metadata": {},
   "source": [
    "### TSNE 2"
   ]
  },
  {
   "cell_type": "code",
   "execution_count": 82,
   "metadata": {
    "ExecuteTime": {
     "end_time": "2017-11-27T01:11:17.625116Z",
     "start_time": "2017-11-27T00:08:23.394752Z"
    }
   },
   "outputs": [],
   "source": [
    "tsne_model = TSNE(n_components=2, random_state=0)\n",
    "results = tsne_model.fit_transform(pca_result) "
   ]
  },
  {
   "cell_type": "code",
   "execution_count": 83,
   "metadata": {
    "ExecuteTime": {
     "end_time": "2017-11-27T01:11:50.744943Z",
     "start_time": "2017-11-27T01:11:17.626660Z"
    }
   },
   "outputs": [
    {
     "data": {
      "image/png": "[encoded data removed]",
      "text/plain": [
       "<matplotlib.figure.Figure at 0x7fab94ec3550>"
      ]
     },
     "metadata": {},
     "output_type": "display_data"
    }
   ],
   "source": [
    "def get_coords(matrix2D):\n",
    "    x = []\n",
    "    y = []\n",
    "    for r in matrix2D:\n",
    "        x.append(r[0])\n",
    "        y.append(r[1])\n",
    "    return x, y\n",
    "\n",
    "x, y = get_coords(results)\n",
    "\n",
    "\n",
    "kmeans2 = KMeans(n_clusters=50, random_state=0).fit(pca_result)\n",
    "\n",
    "# Scatter plot with colouring by kmeans labels:\n",
    "plt.scatter(x, y, alpha=0.4, c=kmeans2.labels_, marker='o', s=30);"
   ]
  },
  {
   "cell_type": "code",
   "execution_count": null,
   "metadata": {
    "ExecuteTime": {
     "end_time": "2017-11-26T23:30:33.888797Z",
     "start_time": "2017-11-26T23:30:05.227Z"
    }
   },
   "outputs": [],
   "source": [
    "print(kmeans.labels_)"
   ]
  },
  {
   "cell_type": "code",
   "execution_count": null,
   "metadata": {
    "ExecuteTime": {
     "end_time": "2017-11-26T23:30:33.889903Z",
     "start_time": "2017-11-26T23:30:16.851Z"
    }
   },
   "outputs": [],
   "source": [
    "labels = kmeans.predict(nmf_H)"
   ]
  },
  {
   "cell_type": "code",
   "execution_count": 84,
   "metadata": {
    "ExecuteTime": {
     "end_time": "2017-11-27T01:22:10.835367Z",
     "start_time": "2017-11-27T01:22:10.829117Z"
    }
   },
   "outputs": [
    {
     "data": {
      "text/plain": [
       "['../models/tsne2.pkl']"
      ]
     },
     "execution_count": 84,
     "metadata": {},
     "output_type": "execute_result"
    }
   ],
   "source": [
    "joblib.dump(tsne_model, '../models/tsne2.pkl')"
   ]
  },
  {
   "cell_type": "code",
   "execution_count": null,
   "metadata": {},
   "outputs": [],
   "source": []
  }
 ],
 "metadata": {
  "kernelspec": {
   "display_name": "Python 3",
   "language": "python",
   "name": "python3"
  },
  "language_info": {
   "codemirror_mode": {
    "name": "ipython",
    "version": 3
   },
   "file_extension": ".py",
   "mimetype": "text/x-python",
   "name": "python",
   "nbconvert_exporter": "python",
   "pygments_lexer": "ipython3",
   "version": "3.6.3"
  },
  "toc": {
   "nav_menu": {},
   "number_sections": true,
   "sideBar": true,
   "skip_h1_title": true,
   "toc_cell": false,
   "toc_position": {
    "height": "660px",
    "left": "0px",
    "right": "1239px",
    "top": "111px",
    "width": "145px"
   },
   "toc_section_display": "block",
   "toc_window_display": true
  }
 },
 "nbformat": 4,
 "nbformat_minor": 2
}

{
 "cells": [
  {
   "cell_type": "code",
   "execution_count": 14,
   "metadata": {
    "ExecuteTime": {
     "end_time": "2017-11-30T02:06:36.940458Z",
     "start_time": "2017-11-30T02:06:36.030145Z"
    }
   },
   "outputs": [],
   "source": [
    "import pandas as pd\n",
    "import numpy as np\n",
    "from textblob import TextBlob\n",
    "import nltk\n",
    "import re\n",
    "import string\n",
    "from nltk.corpus import stopwords\n",
    "from sklearn.feature_extraction.text import TfidfVectorizer\n",
    "from sklearn.feature_extraction.text import CountVectorizer\n",
    "from nltk.stem.wordnet import WordNetLemmatizer\n",
    "from sklearn.decomposition import NMF, LatentDirichletAllocation\n",
    "from nltk.tokenize import sent_tokenize\n",
    "from nltk.tokenize import word_tokenize\n",
    "from nltk.tokenize import TweetTokenizer\n",
    "from sklearn.externals import joblib\n",
    "from sklearn.cluster import KMeans\n",
    "from sklearn.manifold import TSNE\n",
    "\n",
    "%matplotlib inline\n",
    "import seaborn as sns\n",
    "import matplotlib.pyplot as plt\n",
    "plt.style.use('fivethirtyeight')"
   ]
  },
  {
   "cell_type": "code",
   "execution_count": 15,
   "metadata": {
    "ExecuteTime": {
     "end_time": "2017-11-30T02:06:36.958269Z",
     "start_time": "2017-11-30T02:06:36.942435Z"
    }
   },
   "outputs": [],
   "source": [
    "companies = ['nikesupport','xboxsupport','upshelp','comcastcares','amazonhelp','jetblue','americanair',\n",
    "             'tacobellteam','mcdonalds','kimpton','ihgservice','spotifycares','hiltonhelp','applesupport',\n",
    "             'microsofthelps','googleplaymusic','scsupport','pandorasupport','hoteltonightcx','dunkindonuts',\n",
    "             'jackbox','chipotletweets','askpanera','carlsjr','att','tmobilehelp','sprintcare','verizonsupport',\n",
    "             'boostcare','uscellularcares','alaskaair','virginamerica','virginatlantic','delta','british_airways',\n",
    "             'southwestair','awssupport','twittersupport','askplaystation','neweggservice','dropboxsupport',\n",
    "             'hpsupport','atviassist','azuresupport','nortonsupport','dellcares','hulu_support','askrobinhood',\n",
    "             'officesupport','arbyscares','pearsonsupport','yahoocare','idea_cares','airtel_care','coxhelp',\n",
    "             'kfc_uki_help','asurioncares','adobecare','glocare','sizehelpteam','airasiasupport','safaricom_care',\n",
    "             'oppocarein','bofa_help','chasesupport','askciti','ask_wellsfargo','keybank_help','moo','centurylinkhelp',\n",
    "             'mediatemplehelp','godaddyhelp','postmates_help','doordash_help','airbnbhelp','uber_support','asklyft',\n",
    "             'askseagate','ask_spectrum','askpaypal','asksalesforce','askvirginmoney','askdsc','askpapajohns','askrbc',\n",
    "             'askebay','asktigogh','vmucare','askamex','ask_progressive','mtnc_care','askvisa','tesco','sainsburys',\n",
    "             'walmart','asktarget','morrisons','aldiuk','argoshelpers','greggsofficial','marksandspencer','virgintrains',\n",
    "             'nationalrailenq','sw_help','londonmidland','gwrhelp','tfl','o2']"
   ]
  },
  {
   "cell_type": "markdown",
   "metadata": {
    "ExecuteTime": {
     "end_time": "2017-11-25T02:11:37.044837Z",
     "start_time": "2017-11-25T02:11:37.042179Z"
    }
   },
   "source": [
    "## Functions"
   ]
  },
  {
   "cell_type": "markdown",
   "metadata": {
    "ExecuteTime": {
     "end_time": "2017-11-25T02:11:45.056560Z",
     "start_time": "2017-11-25T02:11:45.054275Z"
    }
   },
   "source": [
    "### Display Topics"
   ]
  },
  {
   "cell_type": "code",
   "execution_count": 2,
   "metadata": {
    "ExecuteTime": {
     "end_time": "2017-11-30T02:06:22.137538Z",
     "start_time": "2017-11-30T02:06:22.132779Z"
    }
   },
   "outputs": [],
   "source": [
    "def display_topics(model, feature_names, no_top_words):\n",
    "    for topic_idx, topic in enumerate(model.components_):\n",
    "        print (\"Topic %d:\" % (topic_idx))\n",
    "        print (\" \".join([feature_names[i]\n",
    "                        for i in topic.argsort()[:-no_top_words - 1:-1]]))"
   ]
  },
  {
   "cell_type": "code",
   "execution_count": 3,
   "metadata": {
    "ExecuteTime": {
     "end_time": "2017-11-30T02:06:22.463258Z",
     "start_time": "2017-11-30T02:06:22.455780Z"
    }
   },
   "outputs": [],
   "source": [
    "def display_topics2(H, W, feature_names, documents, no_top_words, no_top_documents):\n",
    "    for topic_idx, topic in enumerate(H):\n",
    "        print(\"Topic %d:\" % (topic_idx))\n",
    "        print(\" \".join([feature_names[i]\n",
    "                        for i in topic.argsort()[:-no_top_words - 1:-1]]))\n",
    "        top_doc_indices = np.argsort( W[:,topic_idx] )[::-1][0:no_top_documents]\n",
    "        for doc_index in top_doc_indices:\n",
    "            print(documents[doc_index])"
   ]
  },
  {
   "cell_type": "markdown",
   "metadata": {},
   "source": [
    "### Topic Distribution"
   ]
  },
  {
   "cell_type": "code",
   "execution_count": 4,
   "metadata": {
    "ExecuteTime": {
     "end_time": "2017-11-30T02:06:22.840828Z",
     "start_time": "2017-11-30T02:06:22.821676Z"
    }
   },
   "outputs": [],
   "source": [
    "def topic_distribution(df,model):\n",
    "    unique_tweets = list(set(df.tweet_id))\n",
    "    topic_list = []\n",
    "    for tweet in unique_tweets:\n",
    "        topic_mean = np.mean(model[df['tweet_id'] == tweet], axis=0)\n",
    "        #print(max(topic_mean))\n",
    "        itemindex = np.where(topic_mean==max(topic_mean))\n",
    "        itemindex = topic_mean.argsort()[-3:][::-1]\n",
    "        #print (int(itemindex[0]))\n",
    "        topic_tweet = {\"tweet_count\":tweet,\"tweet_category\":int(itemindex[0])}\n",
    "        topic_list.append(topic_tweet)\n",
    "    \n",
    "    topics_df = pd.DataFrame(topic_list) \n",
    "    topics_df.head(30)\n",
    "    topicGroup = topics_df.groupby('tweet_category').tweet_count.count().reset_index()\n",
    "    topicGroup.sort_values('tweet_count',ascending=False, inplace=True)\n",
    "    \n",
    "    return topicGroup"
   ]
  },
  {
   "cell_type": "markdown",
   "metadata": {},
   "source": [
    "### Stop Words"
   ]
  },
  {
   "cell_type": "code",
   "execution_count": 16,
   "metadata": {
    "ExecuteTime": {
     "end_time": "2017-11-30T02:06:46.559350Z",
     "start_time": "2017-11-30T02:06:46.556477Z"
    }
   },
   "outputs": [],
   "source": [
    "c = [word.lower() for word in companies]"
   ]
  },
  {
   "cell_type": "code",
   "execution_count": 17,
   "metadata": {
    "ExecuteTime": {
     "end_time": "2017-11-30T02:06:46.984188Z",
     "start_time": "2017-11-30T02:06:46.977294Z"
    }
   },
   "outputs": [],
   "source": [
    "stop = set(stopwords.words('english')+ \\\n",
    "    ['rt','amp', 'via', 'one', 'around', 'would', 'let', 'could', 'going', 'like', 'get', 'may', 'says', 'say', 'make',\n",
    "        'based', 'even', 'another', 'completely', 'way', 'find', 'used', 'thing', '2017', 'see', 'need',\n",
    "        'know','knows', 'think', 'thinks', 'take', 'new', 'day', 'days','https','co','dm','us','look', 'hi','tried'\n",
    "    'want','send','still','back','hello','using','tried','link','thanks','thank','error','help','please','issue',\n",
    "    'assistance','support','details','name','address','reply','assist','ijkhelp']+c)\n"
   ]
  },
  {
   "cell_type": "code",
   "execution_count": 18,
   "metadata": {
    "ExecuteTime": {
     "end_time": "2017-11-30T02:06:47.540456Z",
     "start_time": "2017-11-30T02:06:47.537816Z"
    }
   },
   "outputs": [],
   "source": [
    "exclude = set(string.punctuation)"
   ]
  },
  {
   "cell_type": "code",
   "execution_count": 19,
   "metadata": {
    "ExecuteTime": {
     "end_time": "2017-11-30T02:06:47.997817Z",
     "start_time": "2017-11-30T02:06:47.994975Z"
    }
   },
   "outputs": [],
   "source": [
    "lemma = WordNetLemmatizer()"
   ]
  },
  {
   "cell_type": "code",
   "execution_count": 20,
   "metadata": {
    "ExecuteTime": {
     "end_time": "2017-11-30T02:06:48.449689Z",
     "start_time": "2017-11-30T02:06:48.299692Z"
    }
   },
   "outputs": [],
   "source": [
    "english_vocab = set(w.lower() for w in nltk.corpus.words.words())"
   ]
  },
  {
   "cell_type": "markdown",
   "metadata": {},
   "source": [
    "### Get Topics"
   ]
  },
  {
   "cell_type": "code",
   "execution_count": 21,
   "metadata": {
    "ExecuteTime": {
     "end_time": "2017-11-30T02:06:49.957412Z",
     "start_time": "2017-11-30T02:06:49.933593Z"
    }
   },
   "outputs": [],
   "source": [
    "def get_topics(company,k,d,mindf=1,maxdf=1.0,c=companies,stop=stop):\n",
    "    ''' Takes a company and then runs NMF to get the topics. \n",
    "    Returns model and feature names.\n",
    "    \n",
    "    Parameters:\n",
    "    company: str name of company \n",
    "    k: int components for nmf\n",
    "    d: dataframe containing tweets'''\n",
    "    c = [word.lower() for word in c]\n",
    "    stop = list(stop)\n",
    "    stop.extend(c)\n",
    "    stop = set(stop)\n",
    "    \n",
    "    companyDF = d[d['author_id'].str.contains(company) | d['text'].str.contains(company)]\n",
    "    print('dataframe shape:',companyDF.shape)\n",
    "    \n",
    "    func_tf_vectorizer = TfidfVectorizer(stop_words=stop,use_idf=True,token_pattern=\"\\\\b[a-z][a-z]+\\\\b\",max_df=maxdf,min_df=mindf)\n",
    "    func_tf = func_tf_vectorizer.fit_transform(companyDF.text)\n",
    "    func_tf_feature_names = func_tf_vectorizer.get_feature_names()\n",
    "    func_nmf = NMF(n_components=k, init='random')\n",
    "    func_nmf_fit = func_nmf.fit_transform(func_tf)\n",
    "    \n",
    "    topic_dist = topic_distribution(companyDF,func_nmf_fit)\n",
    "    \n",
    "    return func_nmf,func_tf_feature_names, topic_dist"
   ]
  },
  {
   "cell_type": "code",
   "execution_count": 22,
   "metadata": {
    "ExecuteTime": {
     "end_time": "2017-11-30T02:06:50.703473Z",
     "start_time": "2017-11-30T02:06:50.683211Z"
    }
   },
   "outputs": [],
   "source": [
    "def multi_get_topics(companyDF,k,mindf=1,maxdf=1.0,c=companies,stop=stop):\n",
    "    ''' Takes a company and then runs NMF to get the topics. \n",
    "    Returns model and feature names.\n",
    "    \n",
    "    Parameters:\n",
    "    company: str name of company \n",
    "    k: int components for nmf\n",
    "    d: dataframe containing tweets'''\n",
    "\n",
    "    c = [word.lower() for word in c]\n",
    "    stop = list(stop)\n",
    "    stop.extend(c)\n",
    "    stop = set(stop)\n",
    "    \n",
    "#     companyDF = d[d['author_id'].str.contains(company) | d['text'].str.contains(company)]\n",
    "#     print('dataframe shape:',companyDF.shape)\n",
    "    \n",
    "    func2_tf_vectorizer = TfidfVectorizer(stop_words=stop,use_idf=True,token_pattern=\"\\\\b[a-z][a-z]+\\\\b\",max_df=maxdf,min_df=mindf)\n",
    "    func2_tf = func2_tf_vectorizer.fit_transform(companyDF.text)\n",
    "    func2_tf_feature_names = func2_tf_vectorizer.get_feature_names()\n",
    "    func2_nmf = NMF(n_components=k, init='random')\n",
    "    func2_nmf_fit = func2_nmf.fit_transform(func2_tf)\n",
    "    \n",
    "    topic2_dist = topic_distribution(companyDF,func2_nmf_fit)\n",
    "    \n",
    "    return func2_nmf,func2_tf_feature_names, topic2_dist"
   ]
  },
  {
   "cell_type": "markdown",
   "metadata": {},
   "source": [
    "### Get Industry DataFrame"
   ]
  },
  {
   "cell_type": "code",
   "execution_count": 12,
   "metadata": {
    "ExecuteTime": {
     "end_time": "2017-11-30T02:06:25.851614Z",
     "start_time": "2017-11-30T02:06:25.844803Z"
    }
   },
   "outputs": [],
   "source": [
    "def get_industry(companylist,data):\n",
    "    industryDF = pd.DataFrame()\n",
    "    for company in companylist:\n",
    "        newDF = data[data['author_id'].str.contains(company) | data['text'].str.contains(company)]\n",
    "        print(newDF.shape)\n",
    "        industryDF = industryDF.append(newDF)\n",
    "        \n",
    "    return industryDF"
   ]
  },
  {
   "cell_type": "markdown",
   "metadata": {},
   "source": [
    "### Lemmatize and Tokenize"
   ]
  },
  {
   "cell_type": "code",
   "execution_count": 13,
   "metadata": {
    "ExecuteTime": {
     "end_time": "2017-11-30T02:06:26.581998Z",
     "start_time": "2017-11-30T02:06:26.576220Z"
    }
   },
   "outputs": [],
   "source": [
    "def clean(doc):\n",
    "    stop_free = \" \".join([i for i in doc.lower().split() if i not in stop])\n",
    "    punc_free = ''.join(ch for ch in stop_free if ch not in exclude)\n",
    "    normalized = \" \".join(lemma.lemmatize(word) for word in punc_free.split())\n",
    "    return normalized"
   ]
  },
  {
   "cell_type": "markdown",
   "metadata": {},
   "source": [
    "### Process Tweet Text"
   ]
  },
  {
   "cell_type": "code",
   "execution_count": 15,
   "metadata": {
    "ExecuteTime": {
     "end_time": "2017-11-29T03:24:29.316237Z",
     "start_time": "2017-11-29T03:24:29.306680Z"
    }
   },
   "outputs": [],
   "source": [
    "def process_tweet_text(tweet):\n",
    "    if tweet.startswith('@null'):\n",
    "        return \"[Tweet not available]\"\n",
    "    tweet = re.sub(r'\\$\\w*','',tweet) # Remove tickers\n",
    "    tweet = re.sub(r'https?:\\/\\/.*\\/\\w*','',tweet) # Remove hyperlinks\n",
    "    tweet = re.sub(r'['+string.punctuation+']+', ' ',tweet) # Remove puncutations like 's\n",
    "    twtok = TweetTokenizer(strip_handles=True, reduce_len=True)\n",
    "    tokens = twtok.tokenize(tweet)\n",
    "    tokens = [i.lower() for i in tokens if i not in stop and len(i) > 2 and  \n",
    "                                             i in english_vocab]\n",
    "    return \",\".join(tokens)"
   ]
  },
  {
   "cell_type": "markdown",
   "metadata": {},
   "source": [
    "## Import Data"
   ]
  },
  {
   "cell_type": "code",
   "execution_count": 16,
   "metadata": {
    "ExecuteTime": {
     "end_time": "2017-11-29T03:24:38.712979Z",
     "start_time": "2017-11-29T03:24:32.345781Z"
    }
   },
   "outputs": [],
   "source": [
    "df = pd.read_csv('../data/twcs.csv')"
   ]
  },
  {
   "cell_type": "markdown",
   "metadata": {},
   "source": [
    "## EDA"
   ]
  },
  {
   "cell_type": "code",
   "execution_count": 17,
   "metadata": {
    "ExecuteTime": {
     "end_time": "2017-11-29T03:24:42.409540Z",
     "start_time": "2017-11-29T03:24:42.404522Z"
    }
   },
   "outputs": [
    {
     "data": {
      "text/plain": [
       "(2225821, 7)"
      ]
     },
     "execution_count": 17,
     "metadata": {},
     "output_type": "execute_result"
    }
   ],
   "source": [
    "df.shape"
   ]
  },
  {
   "cell_type": "code",
   "execution_count": 18,
   "metadata": {
    "ExecuteTime": {
     "end_time": "2017-11-29T03:24:42.602855Z",
     "start_time": "2017-11-29T03:24:42.599092Z"
    }
   },
   "outputs": [
    {
     "data": {
      "text/plain": [
       "['tweet_id',\n",
       " 'author_id',\n",
       " 'inbound',\n",
       " 'created_at',\n",
       " 'text',\n",
       " 'response_tweet_id',\n",
       " 'in_response_to_tweet_id']"
      ]
     },
     "execution_count": 18,
     "metadata": {},
     "output_type": "execute_result"
    }
   ],
   "source": [
    "df.columns.tolist()"
   ]
  },
  {
   "cell_type": "code",
   "execution_count": 19,
   "metadata": {
    "ExecuteTime": {
     "end_time": "2017-11-29T03:24:43.444595Z",
     "start_time": "2017-11-29T03:24:43.425270Z"
    }
   },
   "outputs": [
    {
     "data": {
      "text/html": [
       "<div>\n",
       "<style scoped>\n",
       "    .dataframe tbody tr th:only-of-type {\n",
       "        vertical-align: middle;\n",
       "    }\n",
       "\n",
       "    .dataframe tbody tr th {\n",
       "        vertical-align: top;\n",
       "    }\n",
       "\n",
       "    .dataframe thead th {\n",
       "        text-align: right;\n",
       "    }\n",
       "</style>\n",
       "<table border=\"1\" class=\"dataframe\">\n",
       "  <thead>\n",
       "    <tr style=\"text-align: right;\">\n",
       "      <th></th>\n",
       "      <th>tweet_id</th>\n",
       "      <th>author_id</th>\n",
       "      <th>inbound</th>\n",
       "      <th>created_at</th>\n",
       "      <th>text</th>\n",
       "      <th>response_tweet_id</th>\n",
       "      <th>in_response_to_tweet_id</th>\n",
       "    </tr>\n",
       "  </thead>\n",
       "  <tbody>\n",
       "    <tr>\n",
       "      <th>0</th>\n",
       "      <td>1</td>\n",
       "      <td>VirginAtlantic</td>\n",
       "      <td>False</td>\n",
       "      <td>Wed Oct 04 22:37:58 +0000 2017</td>\n",
       "      <td>@95932 Hmmm they may be full. Have you tried b...</td>\n",
       "      <td>2</td>\n",
       "      <td>3.0</td>\n",
       "    </tr>\n",
       "    <tr>\n",
       "      <th>1</th>\n",
       "      <td>2</td>\n",
       "      <td>95932</td>\n",
       "      <td>True</td>\n",
       "      <td>Wed Oct 04 22:55:58 +0000 2017</td>\n",
       "      <td>@VirginAtlantic Sure have. Nothing comes up at...</td>\n",
       "      <td>4</td>\n",
       "      <td>1.0</td>\n",
       "    </tr>\n",
       "    <tr>\n",
       "      <th>2</th>\n",
       "      <td>4</td>\n",
       "      <td>VirginAtlantic</td>\n",
       "      <td>False</td>\n",
       "      <td>Wed Oct 04 23:00:12 +0000 2017</td>\n",
       "      <td>@95932 I'm going to report this then. It sound...</td>\n",
       "      <td>NaN</td>\n",
       "      <td>2.0</td>\n",
       "    </tr>\n",
       "    <tr>\n",
       "      <th>3</th>\n",
       "      <td>3</td>\n",
       "      <td>95932</td>\n",
       "      <td>True</td>\n",
       "      <td>Wed Oct 04 22:36:35 +0000 2017</td>\n",
       "      <td>@VirginAtlantic Yes, nothing comes up 🙁</td>\n",
       "      <td>1</td>\n",
       "      <td>5.0</td>\n",
       "    </tr>\n",
       "    <tr>\n",
       "      <th>4</th>\n",
       "      <td>5</td>\n",
       "      <td>VirginAtlantic</td>\n",
       "      <td>False</td>\n",
       "      <td>Wed Oct 04 20:15:59 +0000 2017</td>\n",
       "      <td>@95932 Have you tried towards the end of March...</td>\n",
       "      <td>3</td>\n",
       "      <td>6.0</td>\n",
       "    </tr>\n",
       "  </tbody>\n",
       "</table>\n",
       "</div>"
      ],
      "text/plain": [
       "   tweet_id       author_id  inbound                      created_at  \\\n",
       "0         1  VirginAtlantic    False  Wed Oct 04 22:37:58 +0000 2017   \n",
       "1         2           95932     True  Wed Oct 04 22:55:58 +0000 2017   \n",
       "2         4  VirginAtlantic    False  Wed Oct 04 23:00:12 +0000 2017   \n",
       "3         3           95932     True  Wed Oct 04 22:36:35 +0000 2017   \n",
       "4         5  VirginAtlantic    False  Wed Oct 04 20:15:59 +0000 2017   \n",
       "\n",
       "                                                text response_tweet_id  \\\n",
       "0  @95932 Hmmm they may be full. Have you tried b...                 2   \n",
       "1  @VirginAtlantic Sure have. Nothing comes up at...                 4   \n",
       "2  @95932 I'm going to report this then. It sound...               NaN   \n",
       "3            @VirginAtlantic Yes, nothing comes up 🙁                 1   \n",
       "4  @95932 Have you tried towards the end of March...                 3   \n",
       "\n",
       "   in_response_to_tweet_id  \n",
       "0                      3.0  \n",
       "1                      1.0  \n",
       "2                      2.0  \n",
       "3                      5.0  \n",
       "4                      6.0  "
      ]
     },
     "execution_count": 19,
     "metadata": {},
     "output_type": "execute_result"
    }
   ],
   "source": [
    "df.head()"
   ]
  },
  {
   "cell_type": "code",
   "execution_count": 20,
   "metadata": {
    "ExecuteTime": {
     "end_time": "2017-11-29T03:24:46.075925Z",
     "start_time": "2017-11-29T03:24:46.069715Z"
    }
   },
   "outputs": [
    {
     "name": "stdout",
     "output_type": "stream",
     "text": [
      "<class 'pandas.core.frame.DataFrame'>\n",
      "RangeIndex: 2225821 entries, 0 to 2225820\n",
      "Data columns (total 7 columns):\n",
      "tweet_id                   int64\n",
      "author_id                  object\n",
      "inbound                    bool\n",
      "created_at                 object\n",
      "text                       object\n",
      "response_tweet_id          object\n",
      "in_response_to_tweet_id    float64\n",
      "dtypes: bool(1), float64(1), int64(1), object(4)\n",
      "memory usage: 104.0+ MB\n"
     ]
    }
   ],
   "source": [
    "df.info()"
   ]
  },
  {
   "cell_type": "code",
   "execution_count": 21,
   "metadata": {
    "ExecuteTime": {
     "end_time": "2017-11-29T03:32:52.283205Z",
     "start_time": "2017-11-29T03:24:51.494067Z"
    }
   },
   "outputs": [],
   "source": [
    "df['date'] = pd.to_datetime(df.created_at)"
   ]
  },
  {
   "cell_type": "code",
   "execution_count": 58,
   "metadata": {
    "ExecuteTime": {
     "end_time": "2017-11-29T03:49:21.359920Z",
     "start_time": "2017-11-29T03:49:15.699349Z"
    }
   },
   "outputs": [],
   "source": [
    "df['time'] = df.date.dt.time"
   ]
  },
  {
   "cell_type": "code",
   "execution_count": 57,
   "metadata": {
    "ExecuteTime": {
     "end_time": "2017-11-29T03:44:52.612726Z",
     "start_time": "2017-11-29T03:44:52.517922Z"
    }
   },
   "outputs": [],
   "source": [
    "df['month'] = df.date.dt.month"
   ]
  },
  {
   "cell_type": "code",
   "execution_count": 59,
   "metadata": {
    "ExecuteTime": {
     "end_time": "2017-11-29T03:49:39.203434Z",
     "start_time": "2017-11-29T03:49:39.188101Z"
    }
   },
   "outputs": [
    {
     "data": {
      "text/html": [
       "<div>\n",
       "<style scoped>\n",
       "    .dataframe tbody tr th:only-of-type {\n",
       "        vertical-align: middle;\n",
       "    }\n",
       "\n",
       "    .dataframe tbody tr th {\n",
       "        vertical-align: top;\n",
       "    }\n",
       "\n",
       "    .dataframe thead th {\n",
       "        text-align: right;\n",
       "    }\n",
       "</style>\n",
       "<table border=\"1\" class=\"dataframe\">\n",
       "  <thead>\n",
       "    <tr style=\"text-align: right;\">\n",
       "      <th></th>\n",
       "      <th>tweet_id</th>\n",
       "      <th>author_id</th>\n",
       "      <th>inbound</th>\n",
       "      <th>text</th>\n",
       "      <th>response_tweet_id</th>\n",
       "      <th>in_response_to_tweet_id</th>\n",
       "      <th>date</th>\n",
       "      <th>month</th>\n",
       "      <th>day</th>\n",
       "      <th>time</th>\n",
       "    </tr>\n",
       "  </thead>\n",
       "  <tbody>\n",
       "    <tr>\n",
       "      <th>0</th>\n",
       "      <td>1</td>\n",
       "      <td>VirginAtlantic</td>\n",
       "      <td>False</td>\n",
       "      <td>@95932 Hmmm they may be full. Have you tried b...</td>\n",
       "      <td>2</td>\n",
       "      <td>3.0</td>\n",
       "      <td>2017-10-04 22:37:58</td>\n",
       "      <td>10</td>\n",
       "      <td>2</td>\n",
       "      <td>22:37:58</td>\n",
       "    </tr>\n",
       "    <tr>\n",
       "      <th>1</th>\n",
       "      <td>2</td>\n",
       "      <td>95932</td>\n",
       "      <td>True</td>\n",
       "      <td>@VirginAtlantic Sure have. Nothing comes up at...</td>\n",
       "      <td>4</td>\n",
       "      <td>1.0</td>\n",
       "      <td>2017-10-04 22:55:58</td>\n",
       "      <td>10</td>\n",
       "      <td>2</td>\n",
       "      <td>22:55:58</td>\n",
       "    </tr>\n",
       "    <tr>\n",
       "      <th>2</th>\n",
       "      <td>4</td>\n",
       "      <td>VirginAtlantic</td>\n",
       "      <td>False</td>\n",
       "      <td>@95932 I'm going to report this then. It sound...</td>\n",
       "      <td>NaN</td>\n",
       "      <td>2.0</td>\n",
       "      <td>2017-10-04 23:00:12</td>\n",
       "      <td>10</td>\n",
       "      <td>2</td>\n",
       "      <td>23:00:12</td>\n",
       "    </tr>\n",
       "    <tr>\n",
       "      <th>3</th>\n",
       "      <td>3</td>\n",
       "      <td>95932</td>\n",
       "      <td>True</td>\n",
       "      <td>@VirginAtlantic Yes, nothing comes up 🙁</td>\n",
       "      <td>1</td>\n",
       "      <td>5.0</td>\n",
       "      <td>2017-10-04 22:36:35</td>\n",
       "      <td>10</td>\n",
       "      <td>2</td>\n",
       "      <td>22:36:35</td>\n",
       "    </tr>\n",
       "    <tr>\n",
       "      <th>4</th>\n",
       "      <td>5</td>\n",
       "      <td>VirginAtlantic</td>\n",
       "      <td>False</td>\n",
       "      <td>@95932 Have you tried towards the end of March...</td>\n",
       "      <td>3</td>\n",
       "      <td>6.0</td>\n",
       "      <td>2017-10-04 20:15:59</td>\n",
       "      <td>10</td>\n",
       "      <td>2</td>\n",
       "      <td>20:15:59</td>\n",
       "    </tr>\n",
       "  </tbody>\n",
       "</table>\n",
       "</div>"
      ],
      "text/plain": [
       "   tweet_id       author_id  inbound  \\\n",
       "0         1  VirginAtlantic    False   \n",
       "1         2           95932     True   \n",
       "2         4  VirginAtlantic    False   \n",
       "3         3           95932     True   \n",
       "4         5  VirginAtlantic    False   \n",
       "\n",
       "                                                text response_tweet_id  \\\n",
       "0  @95932 Hmmm they may be full. Have you tried b...                 2   \n",
       "1  @VirginAtlantic Sure have. Nothing comes up at...                 4   \n",
       "2  @95932 I'm going to report this then. It sound...               NaN   \n",
       "3            @VirginAtlantic Yes, nothing comes up 🙁                 1   \n",
       "4  @95932 Have you tried towards the end of March...                 3   \n",
       "\n",
       "   in_response_to_tweet_id                date  month  day      time  \n",
       "0                      3.0 2017-10-04 22:37:58     10    2  22:37:58  \n",
       "1                      1.0 2017-10-04 22:55:58     10    2  22:55:58  \n",
       "2                      2.0 2017-10-04 23:00:12     10    2  23:00:12  \n",
       "3                      5.0 2017-10-04 22:36:35     10    2  22:36:35  \n",
       "4                      6.0 2017-10-04 20:15:59     10    2  20:15:59  "
      ]
     },
     "execution_count": 59,
     "metadata": {},
     "output_type": "execute_result"
    }
   ],
   "source": [
    "df.head()"
   ]
  },
  {
   "cell_type": "code",
   "execution_count": 62,
   "metadata": {
    "ExecuteTime": {
     "end_time": "2017-11-29T03:55:41.302844Z",
     "start_time": "2017-11-29T03:55:32.953736Z"
    }
   },
   "outputs": [],
   "source": [
    "df.to_pickle('../data/tweets.pkl')"
   ]
  },
  {
   "cell_type": "markdown",
   "metadata": {},
   "source": [
    "### Import Pickle"
   ]
  },
  {
   "cell_type": "code",
   "execution_count": 68,
   "metadata": {
    "ExecuteTime": {
     "end_time": "2017-11-29T04:06:49.544621Z",
     "start_time": "2017-11-29T04:06:47.541451Z"
    }
   },
   "outputs": [],
   "source": [
    "df = pd.read_pickle('../data/tweets.pkl')"
   ]
  },
  {
   "cell_type": "markdown",
   "metadata": {},
   "source": [
    "### Response Time"
   ]
  },
  {
   "cell_type": "markdown",
   "metadata": {},
   "source": [
    "Starter code from [Kaggle Dataset](https://www.kaggle.com/soaxelbrooke/first-inbound-and-response-tweets)"
   ]
  },
  {
   "cell_type": "code",
   "execution_count": 69,
   "metadata": {
    "ExecuteTime": {
     "end_time": "2017-11-29T04:06:52.738590Z",
     "start_time": "2017-11-29T04:06:52.313991Z"
    }
   },
   "outputs": [
    {
     "name": "stdout",
     "output_type": "stream",
     "text": [
      "Found 622277 first inbound messages.\n"
     ]
    }
   ],
   "source": [
    "# Pick only inbound tweets that aren't in reply to anything...\n",
    "first_inbound = df[pd.isnull(df.in_response_to_tweet_id) & df.inbound]\n",
    "print('Found {} first inbound messages.'.format(len(first_inbound)))"
   ]
  },
  {
   "cell_type": "code",
   "execution_count": 70,
   "metadata": {
    "ExecuteTime": {
     "end_time": "2017-11-29T04:06:54.368289Z",
     "start_time": "2017-11-29T04:06:52.740434Z"
    }
   },
   "outputs": [
    {
     "name": "stdout",
     "output_type": "stream",
     "text": [
      "Found 696125 responses.\n"
     ]
    }
   ],
   "source": [
    "# Merge in all tweets in response\n",
    "inbounds_and_outbounds = pd.merge(first_inbound, df, left_on='tweet_id', \n",
    "                                  right_on='in_response_to_tweet_id')\n",
    "print(\"Found {} responses.\".format(len(inbounds_and_outbounds)))"
   ]
  },
  {
   "cell_type": "code",
   "execution_count": 71,
   "metadata": {
    "ExecuteTime": {
     "end_time": "2017-11-29T04:06:54.890815Z",
     "start_time": "2017-11-29T04:06:54.370181Z"
    }
   },
   "outputs": [],
   "source": [
    "# Filter out cases where reply tweet isn't from company\n",
    "inbounds_and_outbounds = inbounds_and_outbounds[inbounds_and_outbounds.inbound_y ^ True]"
   ]
  },
  {
   "cell_type": "code",
   "execution_count": 72,
   "metadata": {
    "ExecuteTime": {
     "end_time": "2017-11-29T04:06:54.926828Z",
     "start_time": "2017-11-29T04:06:54.892461Z"
    }
   },
   "outputs": [
    {
     "name": "stdout",
     "output_type": "stream",
     "text": [
      "Found 630633 responses from companies.\n",
      "Tweets Preview:\n",
      "       tweet_id_x author_id_x  inbound_x  \\\n",
      "0               6       95932       True   \n",
      "1               9       95933       True   \n",
      "2              13       95934       True   \n",
      "3              16       95935       True   \n",
      "5              28       95938       True   \n",
      "7              40       95940       True   \n",
      "8              45       95941       True   \n",
      "9              45       95941       True   \n",
      "10             51       95943       True   \n",
      "11             56       95944       True   \n",
      "12             59       95945       True   \n",
      "13             61       95946       True   \n",
      "14             68       95947       True   \n",
      "15             74       95948       True   \n",
      "16             76       95949       True   \n",
      "17             78       95950       True   \n",
      "18             80       95952       True   \n",
      "19             92       95957       True   \n",
      "20             94       95958       True   \n",
      "21             96       95959       True   \n",
      "22             98       95960       True   \n",
      "23            102       95962       True   \n",
      "24            105       95963       True   \n",
      "25            107       95964       True   \n",
      "26            109       95965       True   \n",
      "27            113       95966       True   \n",
      "28            120       95967       True   \n",
      "30            125       95969       True   \n",
      "32            131       95972       True   \n",
      "33            142       95975       True   \n",
      "...           ...         ...        ...   \n",
      "696093    2366161      669312       True   \n",
      "696095    2366167      669313       True   \n",
      "696096    2366169      669314       True   \n",
      "696097    2366171      669315       True   \n",
      "696098    2366173      669316       True   \n",
      "696099    2366173      669316       True   \n",
      "696100    2366183      669318       True   \n",
      "696101    2366185      669319       True   \n",
      "696103    2366194      669322       True   \n",
      "696104    2366196      669323       True   \n",
      "696105    2366198      669324       True   \n",
      "696106    2366198      669324       True   \n",
      "696107    2366202      669325       True   \n",
      "696108    2366204      669326       True   \n",
      "696109    2366204      669326       True   \n",
      "696110    2366207      669327       True   \n",
      "696111    2366209      669328       True   \n",
      "696112    2366211      669329       True   \n",
      "696113    2366211      669329       True   \n",
      "696114    2366214      425779       True   \n",
      "696115    2366217      669330       True   \n",
      "696116    2366222      669330       True   \n",
      "696117    2366227      669332       True   \n",
      "696118    2366229      669333       True   \n",
      "696119    2366231      669334       True   \n",
      "696120    2366233      669335       True   \n",
      "696121    2366235      669336       True   \n",
      "696122    2366238      633654       True   \n",
      "696123    2366241      669337       True   \n",
      "696124    2366243      669338       True   \n",
      "\n",
      "                                                   text_x response_tweet_id_x  \\\n",
      "0       @VirginAtlantic what's the deal on the nonstop...                   5   \n",
      "1       @VirginAtlantic saw your page on upgrading. I ...                   7   \n",
      "2       @VirginAtlantic Any idea why our flight VS7 ca...                  11   \n",
      "3                                   @AmericanAir Ur shady                  14   \n",
      "5       @VirginAtlantic  Arrived Gatwick this a.m - su...                  27   \n",
      "7       Can someone remind me never to book with @Virg...               38,41   \n",
      "8       Thanks for cancelling my flight @VirginAtlanti...         44,46,47,48   \n",
      "9       Thanks for cancelling my flight @VirginAtlanti...         44,46,47,48   \n",
      "10      .@VirginAtlantic having problems with check in...                  49   \n",
      "11      Hey @VirginAtlantic I’ve just had a load of mi...               55,57   \n",
      "12      Nothing like flying @VirginAtlantic and not ge...                  58   \n",
      "13      @VirginAtlantic can't check in online! Anyone ...                  60   \n",
      "14      @VirginAtlantic how long before I hear about a...                  67   \n",
      "15      @AmericanAir I'm in the air on flight 2052 and...                  73   \n",
      "16      @VirginAtlantic how can I find out the films t...                  75   \n",
      "17      @95951 \\nIt's OPPO- F3,\\nQuality of Video Call...                  77   \n",
      "18      What's going on @VirginAtlantic - tried to che...               79,81   \n",
      "19      Fed up with Customer Care @VirginAtlantic moth...                  91   \n",
      "20      @VirginAtlantic got the 2130 for New York to M...                  93   \n",
      "21      @VirginAtlantic just boarded this Beauty for o...                  95   \n",
      "22      On a flight from LHR to JFK! So far amazing se...                  97   \n",
      "23      @VirginAtlantic please contact me immediately ...                 101   \n",
      "24      My tv screen for the next 8 and a half hours #...                 103   \n",
      "25      @VirginAtlantic I can't book into our second l...                 106   \n",
      "26      My start to #FemRhet17 \\n\\n@AmericanAir you're...             108,110   \n",
      "27      @VirginAtlantic can I direct message a questio...                 111   \n",
      "28      @VirginAtlantic hey guys. Trying to log on to ...                 119   \n",
      "30      @VirginAtlantic can car seats be held in the a...                 124   \n",
      "32      the update made my fuckin flashlight stop work...                 129   \n",
      "33      @VirginAtlantic I’m in St Lucia and you left m...                 141   \n",
      "...                                                   ...                 ...   \n",
      "696093  @97904 shocking service this evening at the ox...             2366160   \n",
      "696095  @XboxSupport @111284 I gift a muffin at the fi...             2366166   \n",
      "696096  @XboxSupport is not found and says the request...             2366168   \n",
      "696097  @XboxSupport Can you please help? https://t.co...             2366170   \n",
      "696098  @XboxSupport my #xbox1 has #startuperror #fact...     2366172,2366174   \n",
      "696099  @XboxSupport my #xbox1 has #startuperror #fact...     2366172,2366174   \n",
      "696100  Everyone @98875 are a bunch of idiots! Bring o...             2366182   \n",
      "696101  @XboxSupport my console has never had a proble...             2366184   \n",
      "696103  @XboxSupport no puedo actualizar mi Xbox https...             2366193   \n",
      "696104  Hey @XboxSupport I woke up this morning and my...             2366195   \n",
      "696105  @XboxSupport can you damage your Xbox one x by...     2366197,2366199   \n",
      "696106  @XboxSupport can you damage your Xbox one x by...     2366197,2366199   \n",
      "696107  @XboxSupport it’d be awesome if your latest up...             2366200   \n",
      "696108  @XboxSupport I can hear chat sounds through my...     2366203,2366205   \n",
      "696109  @XboxSupport I can hear chat sounds through my...     2366203,2366205   \n",
      "696110           https://t.co/s8RgywehdQ via @xboxsupport             2366206   \n",
      "696111  @XboxSupport have you guys heard any reports o...             2366208   \n",
      "696112  @XboxSupport isn't letting me talk in parties ...     2366210,2366212   \n",
      "696113  @XboxSupport isn't letting me talk in parties ...     2366210,2366212   \n",
      "696114  @Safaricom_Care hi trying to load m-ledger fro...             2366213   \n",
      "696115  @62395 requiero por favor respuesta a esto ya ...             2366215   \n",
      "696116  @97827 requiero respuesta a esto @124337 https...             2366221   \n",
      "696117  Can someone please explain why @95974 sends an...             2366226   \n",
      "696118  @96085 ONE OF YOUR DRIVERS STOLE MY IPHONE X C...             2366228   \n",
      "696119          @96085 fuck y'all for loosing my iphone X             2366230   \n",
      "696120  @96085 Can someone explain to me how your deli...             2366232   \n",
      "696121  Maybe @96085 twitter account can give me answe...             2366234   \n",
      "696122  @UPSHelp Hello. I was told my package was goin...             2366236   \n",
      "696123  Well first experience with @96085 mail innovat...             2366239   \n",
      "696124             @AirAsiaSupport\\nHow to cancel booking             2366242   \n",
      "\n",
      "        in_response_to_tweet_id_x              date_x  month_x  day_x  \\\n",
      "0                             NaN 2017-10-04 20:05:43       10      2   \n",
      "1                             NaN 2017-10-04 22:28:38       10      2   \n",
      "2                             NaN 2017-10-04 22:31:55       10      2   \n",
      "3                             NaN 2017-10-04 22:35:45       10      2   \n",
      "5                             NaN 2017-10-04 22:04:46       10      2   \n",
      "7                             NaN 2017-10-04 19:31:41       10      2   \n",
      "8                             NaN 2017-10-04 13:26:35       10      2   \n",
      "9                             NaN 2017-10-04 13:26:35       10      2   \n",
      "10                            NaN 2017-10-04 15:12:43       10      2   \n",
      "11                            NaN 2017-10-04 13:41:17       10      2   \n",
      "12                            NaN 2017-10-04 13:45:20       10      2   \n",
      "13                            NaN 2017-10-04 14:21:36       10      2   \n",
      "14                            NaN 2017-10-04 12:33:33       10      2   \n",
      "15                            NaN 2017-10-04 20:44:25       10      2   \n",
      "16                            NaN 2017-10-04 12:57:53       10      2   \n",
      "17                            NaN 2017-10-03 00:00:29       10      1   \n",
      "18                            NaN 2017-10-04 12:13:37       10      2   \n",
      "19                            NaN 2017-10-04 09:25:41       10      2   \n",
      "20                            NaN 2017-10-04 12:02:28       10      2   \n",
      "21                            NaN 2017-10-04 11:28:38       10      2   \n",
      "22                            NaN 2017-10-04 10:58:33       10      2   \n",
      "23                            NaN 2017-10-04 10:04:57       10      2   \n",
      "24                            NaN 2017-10-04 11:37:35       10      2   \n",
      "25                            NaN 2017-10-04 09:33:24       10      2   \n",
      "26                            NaN 2017-10-04 22:31:35       10      2   \n",
      "27                            NaN 2017-10-04 08:59:00       10      2   \n",
      "28                            NaN 2017-10-03 10:45:05       10      1   \n",
      "30                            NaN 2017-10-04 07:23:41       10      2   \n",
      "32                            NaN 2017-10-04 05:43:36       10      2   \n",
      "33                            NaN 2017-10-03 21:50:00       10      1   \n",
      "...                           ...                 ...      ...    ...   \n",
      "696093                        NaN 2017-11-21 20:36:11       11      1   \n",
      "696095                        NaN 2017-11-21 18:10:33       11      1   \n",
      "696096                        NaN 2017-11-21 17:23:31       11      1   \n",
      "696097                        NaN 2017-11-21 17:02:36       11      1   \n",
      "696098                        NaN 2017-11-21 19:46:32       11      1   \n",
      "696099                        NaN 2017-11-21 19:46:32       11      1   \n",
      "696100                        NaN 2017-11-21 17:15:40       11      1   \n",
      "696101                        NaN 2017-11-21 17:07:17       11      1   \n",
      "696103                        NaN 2017-11-21 18:17:26       11      1   \n",
      "696104                        NaN 2017-11-21 15:55:15       11      1   \n",
      "696105                        NaN 2017-11-21 17:53:59       11      1   \n",
      "696106                        NaN 2017-11-21 17:53:59       11      1   \n",
      "696107                        NaN 2017-11-21 15:45:26       11      1   \n",
      "696108                        NaN 2017-11-21 16:46:24       11      1   \n",
      "696109                        NaN 2017-11-21 16:46:24       11      1   \n",
      "696110                        NaN 2017-11-21 16:16:55       11      1   \n",
      "696111                        NaN 2017-11-21 16:14:00       11      1   \n",
      "696112                        NaN 2017-11-21 16:11:27       11      1   \n",
      "696113                        NaN 2017-11-21 16:11:27       11      1   \n",
      "696114                        NaN 2017-11-21 19:06:10       11      1   \n",
      "696115                        NaN 2017-11-21 20:57:35       11      1   \n",
      "696116                        NaN 2017-11-21 20:15:13       11      1   \n",
      "696117                        NaN 2017-11-21 21:27:00       11      1   \n",
      "696118                        NaN 2017-11-21 21:13:28       11      1   \n",
      "696119                        NaN 2017-11-21 21:21:19       11      1   \n",
      "696120                        NaN 2017-11-21 21:26:20       11      1   \n",
      "696121                        NaN 2017-11-21 21:30:25       11      1   \n",
      "696122                        NaN 2017-11-21 21:12:22       11      1   \n",
      "696123                        NaN 2017-11-21 20:57:40       11      1   \n",
      "696124                        NaN 2017-11-21 15:59:02       11      1   \n",
      "\n",
      "          time_x tweet_id_y     author_id_y  inbound_y  \\\n",
      "0       20:05:43          5  VirginAtlantic      False   \n",
      "1       22:28:38          7  VirginAtlantic      False   \n",
      "2       22:31:55         11  VirginAtlantic      False   \n",
      "3       22:35:45         14     AmericanAir      False   \n",
      "5       22:04:46         27  VirginAtlantic      False   \n",
      "7       19:31:41         38  VirginAtlantic      False   \n",
      "8       13:26:35         44  VirginAtlantic      False   \n",
      "9       13:26:35         48  VirginAtlantic      False   \n",
      "10      15:12:43         49  VirginAtlantic      False   \n",
      "11      13:41:17         55  VirginAtlantic      False   \n",
      "12      13:45:20         58  VirginAtlantic      False   \n",
      "13      14:21:36         60  VirginAtlantic      False   \n",
      "14      12:33:33         67  VirginAtlantic      False   \n",
      "15      20:44:25         73     AmericanAir      False   \n",
      "16      12:57:53         75  VirginAtlantic      False   \n",
      "17      00:00:29         77      OPPOCareIN      False   \n",
      "18      12:13:37         79  VirginAtlantic      False   \n",
      "19      09:25:41         91  VirginAtlantic      False   \n",
      "20      12:02:28         93  VirginAtlantic      False   \n",
      "21      11:28:38         95  VirginAtlantic      False   \n",
      "22      10:58:33         97  VirginAtlantic      False   \n",
      "23      10:04:57        101  VirginAtlantic      False   \n",
      "24      11:37:35        103  VirginAtlantic      False   \n",
      "25      09:33:24        106  VirginAtlantic      False   \n",
      "26      22:31:35        108     AmericanAir      False   \n",
      "27      08:59:00        111  VirginAtlantic      False   \n",
      "28      10:45:05        119  VirginAtlantic      False   \n",
      "30      07:23:41        124  VirginAtlantic      False   \n",
      "32      05:43:36        129    AppleSupport      False   \n",
      "33      21:50:00        141  VirginAtlantic      False   \n",
      "...          ...        ...             ...        ...   \n",
      "696093  20:36:11    2366160      IHGService      False   \n",
      "696095  18:10:33    2366166     XboxSupport      False   \n",
      "696096  17:23:31    2366168     XboxSupport      False   \n",
      "696097  17:02:36    2366170     XboxSupport      False   \n",
      "696098  19:46:32    2366172     XboxSupport      False   \n",
      "696099  19:46:32    2366174     XboxSupport      False   \n",
      "696100  17:15:40    2366182     XboxSupport      False   \n",
      "696101  17:07:17    2366184     XboxSupport      False   \n",
      "696103  18:17:26    2366193     XboxSupport      False   \n",
      "696104  15:55:15    2366195     XboxSupport      False   \n",
      "696105  17:53:59    2366197     XboxSupport      False   \n",
      "696106  17:53:59    2366199     XboxSupport      False   \n",
      "696107  15:45:26    2366200     XboxSupport      False   \n",
      "696108  16:46:24    2366203     XboxSupport      False   \n",
      "696109  16:46:24    2366205     XboxSupport      False   \n",
      "696110  16:16:55    2366206     XboxSupport      False   \n",
      "696111  16:14:00    2366208     XboxSupport      False   \n",
      "696112  16:11:27    2366210     XboxSupport      False   \n",
      "696113  16:11:27    2366212     XboxSupport      False   \n",
      "696114  19:06:10    2366213  Safaricom_Care      False   \n",
      "696115  20:57:35    2366215       DellCares      False   \n",
      "696116  20:15:13    2366221       DellCares      False   \n",
      "696117  21:27:00    2366226         UPSHelp      False   \n",
      "696118  21:13:28    2366228         UPSHelp      False   \n",
      "696119  21:21:19    2366230         UPSHelp      False   \n",
      "696120  21:26:20    2366232         UPSHelp      False   \n",
      "696121  21:30:25    2366234         UPSHelp      False   \n",
      "696122  21:12:22    2366236         UPSHelp      False   \n",
      "696123  20:57:40    2366239         UPSHelp      False   \n",
      "696124  15:59:02    2366242  AirAsiaSupport      False   \n",
      "\n",
      "                                                   text_y response_tweet_id_y  \\\n",
      "0       @95932 Have you tried towards the end of March...                   3   \n",
      "1       @95933 Was this the bid for an upgrade you wer...                   8   \n",
      "2       @95934 I don't know the reason for the cancell...                  12   \n",
      "3       @95935 We work to keep our customers informed,...                  15   \n",
      "5       @95938 Sorry to hear that Kassi. Have you repo...                  26   \n",
      "7                   @95940 Oh no Helen. What happened? ^J               39,37   \n",
      "8       @95941 @95942 @0 2/2 customers on to our later...                  43   \n",
      "9       @95941 @95942 @0 1/2 Sorry Dan! We've got a te...                 NaN   \n",
      "10      @95943 Hi Julie, what error message are you ge...                  50   \n",
      "11      @95944 Hi James, if you give our flying club t...                 NaN   \n",
      "12      @95945 Hi Peter, if you feed this back to the ...                 NaN   \n",
      "13      @95946 Hi Noelia, what error message are you g...                 NaN   \n",
      "14      @95947 Hi there, did you pay us directly for y...                  64   \n",
      "15      @95948 We'll take a look at the connection. Me...                  72   \n",
      "16                     @95949 https://t.co/Tl7gjinUYw ^SR                 NaN   \n",
      "17      @95950 We regret your experience. Please help ...                 NaN   \n",
      "18      @95952 Hi Lorraine, please send me a DM with y...                 NaN   \n",
      "19      @95957 Hi Georgie, I'm sorry to hear this. Has...                  90   \n",
      "20      @95958 Thanks for your lovely message David! W...                 NaN   \n",
      "21      @95959 Have a great flight! ^SR https://t.co/w...                 NaN   \n",
      "22      @95960 @95961 This is great to hear Tina! Glad...                 NaN   \n",
      "23      @95962 Hi Charley, what's this with regard to? ^E                 100   \n",
      "24      @95963 If your entertainment screen not workin...                 104   \n",
      "25      @95964 Hi Dee, yes you can just check in at th...                 NaN   \n",
      "26      @95965 We're sorry for the maintenance cancell...                 NaN   \n",
      "27       @95966 Hey Ann, feel free to message us yes 😀 ^E                 112   \n",
      "28      @95967 Is this for your flying club account Ma...                 118   \n",
      "30      @95969 Hi Amy, yes we can pop it in to the hol...                 NaN   \n",
      "32      @95972 Let's take a look at your flashlight to...                 130   \n",
      "33      @95975 Oh no Andrew, sorry to hear that. have ...                 140   \n",
      "...                                                   ...                 ...   \n",
      "696093  @669312 Thank you for posting your concerns. I...                 NaN   \n",
      "696095  @669313 Hi there! We're here to help. Can you ...                 NaN   \n",
      "696096  @669314 Hi there! If you're using a public con...                 NaN   \n",
      "696097  @669315 Heya! Let's clear the console's cache:...                 NaN   \n",
      "696098  @669316 DM us your Gamertag and clarify what t...                 NaN   \n",
      "696099  @669316 Heyo! We'd like to Direct Message so w...                 NaN   \n",
      "696100  @669318 @98875 Oh no, definitely sorry to hear...                 NaN   \n",
      "696101  @669319 Hi there, we'd like to help but could ...                 NaN   \n",
      "696103  @669322 Hi there! We're English-speaking Suppo...                 NaN   \n",
      "696104  @669323 Hello, thanks for reaching out to us. ...                 NaN   \n",
      "696105  @669324 console into a wall outlet directly to...                 NaN   \n",
      "696106  @669324 Hi there. We can't speculate on that, ...                 NaN   \n",
      "696107  @669325 We'd be happy to help, but we could us...             2366201   \n",
      "696108  @669326 DM us your Gamertag and clarify what t...                 NaN   \n",
      "696109  @669326 Heyo! We'd like to Direct Message so w...                 NaN   \n",
      "696110  @669327 Hi there! Are there any Xbox-related s...                 NaN   \n",
      "696111  @669328 Hi there, we'd like to help but could ...                 NaN   \n",
      "696112  @669329 DM us your Gamertag and clarify what t...                 NaN   \n",
      "696113  @669329 Heyo! We'd like to Direct Message so w...                 NaN   \n",
      "696114  @425779 Hello,kindly ensure you type in M-Ledg...                 NaN   \n",
      "696115  @669330 Looping in @62395  for further assista...             2366216   \n",
      "696116  @669330 We would love to help you but since th...                 NaN   \n",
      "696117  @669332 I apologize that this happened. Can yo...                 NaN   \n",
      "696118  @669333 I am so very sorry your items were mis...                 NaN   \n",
      "696119  @669334 - I apologize to hear that your I phon...                 NaN   \n",
      "696120  @669335 Did the driver knock or ring the doorb...                 NaN   \n",
      "696121  @669336 We would be happy to assist you! Can y...                 NaN   \n",
      "696122  @633654 This is in regards to the previous tra...             2366237   \n",
      "696123  @669337 that doesn't sound good at all! DM us ...             2366240   \n",
      "696124  @669338 We're sorry Hemant, cancellation are n...                 NaN   \n",
      "\n",
      "        in_response_to_tweet_id_y              date_y  month_y  day_y  \\\n",
      "0                             6.0 2017-10-04 20:15:59       10      2   \n",
      "1                             9.0 2017-10-04 22:36:39       10      2   \n",
      "2                            13.0 2017-10-04 22:35:25       10      2   \n",
      "3                            16.0 2017-10-04 23:41:28       10      2   \n",
      "5                            28.0 2017-10-04 22:06:34       10      2   \n",
      "7                            40.0 2017-10-04 19:32:23       10      2   \n",
      "8                            45.0 2017-10-04 15:03:42       10      2   \n",
      "9                            45.0 2017-10-04 15:03:38       10      2   \n",
      "10                           51.0 2017-10-04 15:19:15       10      2   \n",
      "11                           56.0 2017-10-04 15:08:08       10      2   \n",
      "12                           59.0 2017-10-04 14:59:48       10      2   \n",
      "13                           61.0 2017-10-04 14:57:48       10      2   \n",
      "14                           68.0 2017-10-04 12:35:10       10      2   \n",
      "15                           74.0 2017-10-04 20:58:37       10      2   \n",
      "16                           76.0 2017-10-04 13:06:03       10      2   \n",
      "17                           78.0 2017-10-03 05:20:30       10      1   \n",
      "18                           80.0 2017-10-04 12:33:00       10      2   \n",
      "19                           92.0 2017-10-04 10:22:23       10      2   \n",
      "20                           94.0 2017-10-04 12:19:40       10      2   \n",
      "21                           96.0 2017-10-04 12:18:34       10      2   \n",
      "22                           98.0 2017-10-04 12:00:11       10      2   \n",
      "23                          102.0 2017-10-04 10:06:39       10      2   \n",
      "24                          105.0 2017-10-04 11:51:47       10      2   \n",
      "25                          107.0 2017-10-04 10:23:58       10      2   \n",
      "26                          109.0 2017-10-04 23:29:52       10      2   \n",
      "27                          113.0 2017-10-04 09:31:10       10      2   \n",
      "28                          120.0 2017-10-03 10:47:52       10      1   \n",
      "30                          125.0 2017-10-04 07:45:50       10      2   \n",
      "32                          131.0 2017-10-04 13:04:26       10      2   \n",
      "33                          142.0 2017-10-03 21:52:06       10      1   \n",
      "...                           ...                 ...      ...    ...   \n",
      "696093                  2366161.0 2017-11-21 21:17:00       11      1   \n",
      "696095                  2366167.0 2017-11-21 21:35:24       11      1   \n",
      "696096                  2366169.0 2017-11-21 21:31:57       11      1   \n",
      "696097                  2366171.0 2017-11-21 21:31:41       11      1   \n",
      "696098                  2366173.0 2017-11-21 21:27:16       11      1   \n",
      "696099                  2366173.0 2017-11-21 21:27:15       11      1   \n",
      "696100                  2366183.0 2017-11-21 21:24:39       11      1   \n",
      "696101                  2366185.0 2017-11-21 21:23:53       11      1   \n",
      "696103                  2366194.0 2017-11-21 21:22:53       11      1   \n",
      "696104                  2366196.0 2017-11-21 21:22:50       11      1   \n",
      "696105                  2366198.0 2017-11-21 21:21:33       11      1   \n",
      "696106                  2366198.0 2017-11-21 21:21:32       11      1   \n",
      "696107                  2366202.0 2017-11-21 21:19:51       11      1   \n",
      "696108                  2366204.0 2017-11-21 21:19:01       11      1   \n",
      "696109                  2366204.0 2017-11-21 21:19:00       11      1   \n",
      "696110                  2366207.0 2017-11-21 21:18:03       11      1   \n",
      "696111                  2366209.0 2017-11-21 21:15:23       11      1   \n",
      "696112                  2366211.0 2017-11-21 21:15:05       11      1   \n",
      "696113                  2366211.0 2017-11-21 21:15:04       11      1   \n",
      "696114                  2366214.0 2017-11-21 21:14:30       11      1   \n",
      "696115                  2366217.0 2017-11-21 21:25:29       11      1   \n",
      "696116                  2366222.0 2017-11-21 20:53:30       11      1   \n",
      "696117                  2366227.0 2017-11-21 21:42:58       11      1   \n",
      "696118                  2366229.0 2017-11-21 21:41:32       11      1   \n",
      "696119                  2366231.0 2017-11-21 21:40:30       11      1   \n",
      "696120                  2366233.0 2017-11-21 21:37:49       11      1   \n",
      "696121                  2366235.0 2017-11-21 21:36:15       11      1   \n",
      "696122                  2366238.0 2017-11-21 21:29:28       11      1   \n",
      "696123                  2366241.0 2017-11-21 21:14:37       11      1   \n",
      "696124                  2366243.0 2017-11-21 21:43:02       11      1   \n",
      "\n",
      "          time_y  \n",
      "0       20:15:59  \n",
      "1       22:36:39  \n",
      "2       22:35:25  \n",
      "3       23:41:28  \n",
      "5       22:06:34  \n",
      "7       19:32:23  \n",
      "8       15:03:42  \n",
      "9       15:03:38  \n",
      "10      15:19:15  \n",
      "11      15:08:08  \n",
      "12      14:59:48  \n",
      "13      14:57:48  \n",
      "14      12:35:10  \n",
      "15      20:58:37  \n",
      "16      13:06:03  \n",
      "17      05:20:30  \n",
      "18      12:33:00  \n",
      "19      10:22:23  \n",
      "20      12:19:40  \n",
      "21      12:18:34  \n",
      "22      12:00:11  \n",
      "23      10:06:39  \n",
      "24      11:51:47  \n",
      "25      10:23:58  \n",
      "26      23:29:52  \n",
      "27      09:31:10  \n",
      "28      10:47:52  \n",
      "30      07:45:50  \n",
      "32      13:04:26  \n",
      "33      21:52:06  \n",
      "...          ...  \n",
      "696093  21:17:00  \n",
      "696095  21:35:24  \n",
      "696096  21:31:57  \n",
      "696097  21:31:41  \n",
      "696098  21:27:16  \n",
      "696099  21:27:15  \n",
      "696100  21:24:39  \n",
      "696101  21:23:53  \n",
      "696103  21:22:53  \n",
      "696104  21:22:50  \n",
      "696105  21:21:33  \n",
      "696106  21:21:32  \n",
      "696107  21:19:51  \n",
      "696108  21:19:01  \n",
      "696109  21:19:00  \n",
      "696110  21:18:03  \n",
      "696111  21:15:23  \n",
      "696112  21:15:05  \n",
      "696113  21:15:04  \n",
      "696114  21:14:30  \n",
      "696115  21:25:29  \n",
      "696116  20:53:30  \n",
      "696117  21:42:58  \n",
      "696118  21:41:32  \n",
      "696119  21:40:30  \n",
      "696120  21:37:49  \n",
      "696121  21:36:15  \n",
      "696122  21:29:28  \n",
      "696123  21:14:37  \n",
      "696124  21:43:02  \n",
      "\n",
      "[630633 rows x 20 columns]\n"
     ]
    }
   ],
   "source": [
    "print(\"Found {} responses from companies.\".format(len(inbounds_and_outbounds)))\n",
    "print(\"Tweets Preview:\")\n",
    "print(inbounds_and_outbounds)"
   ]
  },
  {
   "cell_type": "code",
   "execution_count": null,
   "metadata": {},
   "outputs": [],
   "source": []
  },
  {
   "cell_type": "code",
   "execution_count": 24,
   "metadata": {
    "ExecuteTime": {
     "end_time": "2017-11-29T03:36:10.091505Z",
     "start_time": "2017-11-29T03:36:08.984532Z"
    }
   },
   "outputs": [
    {
     "name": "stderr",
     "output_type": "stream",
     "text": [
      "/home/xavier/anaconda3/lib/python3.6/site-packages/ipykernel_launcher.py:2: UserWarning: This pattern has match groups. To actually get the groups, use str.extract.\n",
      "  \n"
     ]
    }
   ],
   "source": [
    "companyGroup = df.groupby('author_id').inbound.count().reset_index()\n",
    "companyGroup = companyGroup.loc[companyGroup.iloc[:,0].str.contains(r'(^\\D{6})')]\n",
    "companyGroup.sort_values('author_id',inplace=True)"
   ]
  },
  {
   "cell_type": "code",
   "execution_count": 25,
   "metadata": {
    "ExecuteTime": {
     "end_time": "2017-11-29T03:36:10.096226Z",
     "start_time": "2017-11-29T03:36:10.093157Z"
    }
   },
   "outputs": [],
   "source": [
    "companies = list(set(companyGroup.author_id))\n",
    "companies.sort()"
   ]
  },
  {
   "cell_type": "code",
   "execution_count": 27,
   "metadata": {
    "ExecuteTime": {
     "end_time": "2017-11-29T03:36:17.226375Z",
     "start_time": "2017-11-29T03:36:17.221627Z"
    }
   },
   "outputs": [
    {
     "data": {
      "text/plain": [
       "['ATVIAssist',\n",
       " 'AWSSupport',\n",
       " 'AdobeCare',\n",
       " 'AirAsiaSupport',\n",
       " 'AirbnbHelp',\n",
       " 'AlaskaAir',\n",
       " 'AldiUK',\n",
       " 'AmazonHelp',\n",
       " 'AmericanAir',\n",
       " 'AppleSupport',\n",
       " 'ArbysCares',\n",
       " 'ArgosHelpers',\n",
       " 'AskAmex',\n",
       " 'AskCiti',\n",
       " 'AskDSC',\n",
       " 'AskLyft',\n",
       " 'AskPapaJohns',\n",
       " 'AskPayPal',\n",
       " 'AskPlayStation',\n",
       " 'AskRBC',\n",
       " 'AskRobinhood',\n",
       " 'AskSeagate',\n",
       " 'AskTarget',\n",
       " 'AskTigogh',\n",
       " 'AskVirginMoney',\n",
       " 'Ask_Spectrum',\n",
       " 'Ask_WellsFargo',\n",
       " 'AskeBay',\n",
       " 'AsurionCares',\n",
       " 'AzureSupport',\n",
       " 'BofA_Help',\n",
       " 'BoostCare',\n",
       " 'British_Airways',\n",
       " 'CarlsJr',\n",
       " 'CenturyLinkHelp',\n",
       " 'ChaseSupport',\n",
       " 'ChipotleTweets',\n",
       " 'CoxHelp',\n",
       " 'DellCares',\n",
       " 'DoorDash_Help',\n",
       " 'DropboxSupport',\n",
       " 'DunkinDonuts',\n",
       " 'GWRHelp',\n",
       " 'GloCare',\n",
       " 'GoDaddyHelp',\n",
       " 'GooglePlayMusic',\n",
       " 'GreggsOfficial',\n",
       " 'HPSupport',\n",
       " 'HiltonHelp',\n",
       " 'HotelTonightCX',\n",
       " 'IHGService',\n",
       " 'JackBox',\n",
       " 'JetBlue',\n",
       " 'KFC_UKI_Help',\n",
       " 'KeyBank_Help',\n",
       " 'Kimpton',\n",
       " 'LondonMidland',\n",
       " 'MTNC_Care',\n",
       " 'McDonalds',\n",
       " 'MicrosoftHelps',\n",
       " 'Morrisons',\n",
       " 'NeweggService',\n",
       " 'NikeSupport',\n",
       " 'NortonSupport',\n",
       " 'OPPOCareIN',\n",
       " 'OfficeSupport',\n",
       " 'PandoraSupport',\n",
       " 'PearsonSupport',\n",
       " 'Postmates_Help',\n",
       " 'SCsupport',\n",
       " 'SW_Help',\n",
       " 'Safaricom_Care',\n",
       " 'SouthwestAir',\n",
       " 'SpotifyCares',\n",
       " 'TMobileHelp',\n",
       " 'TacoBellTeam',\n",
       " 'TwitterSupport',\n",
       " 'UPSHelp',\n",
       " 'USCellularCares',\n",
       " 'Uber_Support',\n",
       " 'VMUcare',\n",
       " 'VerizonSupport',\n",
       " 'VirginAmerica',\n",
       " 'VirginAtlantic',\n",
       " 'VirginTrains',\n",
       " 'Walmart',\n",
       " 'XboxSupport',\n",
       " 'YahooCare',\n",
       " 'airtel_care',\n",
       " 'ask_progressive',\n",
       " 'askpanera',\n",
       " 'asksalesforce',\n",
       " 'askvisa',\n",
       " 'comcastcares',\n",
       " 'hulu_support',\n",
       " 'idea_cares',\n",
       " 'marksandspencer',\n",
       " 'mediatemplehelp',\n",
       " 'nationalrailenq',\n",
       " 'sainsburys',\n",
       " 'sizehelpteam',\n",
       " 'sprintcare']"
      ]
     },
     "execution_count": 27,
     "metadata": {},
     "output_type": "execute_result"
    }
   ],
   "source": [
    "companies"
   ]
  },
  {
   "cell_type": "code",
   "execution_count": 28,
   "metadata": {
    "ExecuteTime": {
     "end_time": "2017-11-29T03:36:21.386735Z",
     "start_time": "2017-11-29T03:36:21.183443Z"
    }
   },
   "outputs": [],
   "source": [
    "df.drop('created_at',axis=1,inplace=True)"
   ]
  },
  {
   "cell_type": "code",
   "execution_count": 29,
   "metadata": {
    "ExecuteTime": {
     "end_time": "2017-11-29T03:36:21.695549Z",
     "start_time": "2017-11-29T03:36:21.682955Z"
    }
   },
   "outputs": [
    {
     "data": {
      "text/html": [
       "<div>\n",
       "<style scoped>\n",
       "    .dataframe tbody tr th:only-of-type {\n",
       "        vertical-align: middle;\n",
       "    }\n",
       "\n",
       "    .dataframe tbody tr th {\n",
       "        vertical-align: top;\n",
       "    }\n",
       "\n",
       "    .dataframe thead th {\n",
       "        text-align: right;\n",
       "    }\n",
       "</style>\n",
       "<table border=\"1\" class=\"dataframe\">\n",
       "  <thead>\n",
       "    <tr style=\"text-align: right;\">\n",
       "      <th></th>\n",
       "      <th>tweet_id</th>\n",
       "      <th>author_id</th>\n",
       "      <th>inbound</th>\n",
       "      <th>text</th>\n",
       "      <th>response_tweet_id</th>\n",
       "      <th>in_response_to_tweet_id</th>\n",
       "      <th>date</th>\n",
       "    </tr>\n",
       "  </thead>\n",
       "  <tbody>\n",
       "    <tr>\n",
       "      <th>0</th>\n",
       "      <td>1</td>\n",
       "      <td>VirginAtlantic</td>\n",
       "      <td>False</td>\n",
       "      <td>@95932 Hmmm they may be full. Have you tried b...</td>\n",
       "      <td>2</td>\n",
       "      <td>3.0</td>\n",
       "      <td>2017-10-04 22:37:58</td>\n",
       "    </tr>\n",
       "    <tr>\n",
       "      <th>1</th>\n",
       "      <td>2</td>\n",
       "      <td>95932</td>\n",
       "      <td>True</td>\n",
       "      <td>@VirginAtlantic Sure have. Nothing comes up at...</td>\n",
       "      <td>4</td>\n",
       "      <td>1.0</td>\n",
       "      <td>2017-10-04 22:55:58</td>\n",
       "    </tr>\n",
       "    <tr>\n",
       "      <th>2</th>\n",
       "      <td>4</td>\n",
       "      <td>VirginAtlantic</td>\n",
       "      <td>False</td>\n",
       "      <td>@95932 I'm going to report this then. It sound...</td>\n",
       "      <td>NaN</td>\n",
       "      <td>2.0</td>\n",
       "      <td>2017-10-04 23:00:12</td>\n",
       "    </tr>\n",
       "    <tr>\n",
       "      <th>3</th>\n",
       "      <td>3</td>\n",
       "      <td>95932</td>\n",
       "      <td>True</td>\n",
       "      <td>@VirginAtlantic Yes, nothing comes up 🙁</td>\n",
       "      <td>1</td>\n",
       "      <td>5.0</td>\n",
       "      <td>2017-10-04 22:36:35</td>\n",
       "    </tr>\n",
       "    <tr>\n",
       "      <th>4</th>\n",
       "      <td>5</td>\n",
       "      <td>VirginAtlantic</td>\n",
       "      <td>False</td>\n",
       "      <td>@95932 Have you tried towards the end of March...</td>\n",
       "      <td>3</td>\n",
       "      <td>6.0</td>\n",
       "      <td>2017-10-04 20:15:59</td>\n",
       "    </tr>\n",
       "  </tbody>\n",
       "</table>\n",
       "</div>"
      ],
      "text/plain": [
       "   tweet_id       author_id  inbound  \\\n",
       "0         1  VirginAtlantic    False   \n",
       "1         2           95932     True   \n",
       "2         4  VirginAtlantic    False   \n",
       "3         3           95932     True   \n",
       "4         5  VirginAtlantic    False   \n",
       "\n",
       "                                                text response_tweet_id  \\\n",
       "0  @95932 Hmmm they may be full. Have you tried b...                 2   \n",
       "1  @VirginAtlantic Sure have. Nothing comes up at...                 4   \n",
       "2  @95932 I'm going to report this then. It sound...               NaN   \n",
       "3            @VirginAtlantic Yes, nothing comes up 🙁                 1   \n",
       "4  @95932 Have you tried towards the end of March...                 3   \n",
       "\n",
       "   in_response_to_tweet_id                date  \n",
       "0                      3.0 2017-10-04 22:37:58  \n",
       "1                      1.0 2017-10-04 22:55:58  \n",
       "2                      2.0 2017-10-04 23:00:12  \n",
       "3                      5.0 2017-10-04 22:36:35  \n",
       "4                      6.0 2017-10-04 20:15:59  "
      ]
     },
     "execution_count": 29,
     "metadata": {},
     "output_type": "execute_result"
    }
   ],
   "source": [
    "df.head()"
   ]
  },
  {
   "cell_type": "markdown",
   "metadata": {},
   "source": [
    "### Date Range"
   ]
  },
  {
   "cell_type": "code",
   "execution_count": 31,
   "metadata": {
    "ExecuteTime": {
     "end_time": "2017-11-29T03:36:37.350465Z",
     "start_time": "2017-11-29T03:36:37.335892Z"
    }
   },
   "outputs": [
    {
     "data": {
      "text/plain": [
       "Timestamp('2008-05-08 20:13:59')"
      ]
     },
     "execution_count": 31,
     "metadata": {},
     "output_type": "execute_result"
    }
   ],
   "source": [
    "df.date.min()"
   ]
  },
  {
   "cell_type": "code",
   "execution_count": 32,
   "metadata": {
    "ExecuteTime": {
     "end_time": "2017-11-29T03:36:37.966350Z",
     "start_time": "2017-11-29T03:36:37.951294Z"
    }
   },
   "outputs": [
    {
     "data": {
      "text/plain": [
       "Timestamp('2017-11-21 21:43:02')"
      ]
     },
     "execution_count": 32,
     "metadata": {},
     "output_type": "execute_result"
    }
   ],
   "source": [
    "df.date.max()"
   ]
  },
  {
   "cell_type": "code",
   "execution_count": 33,
   "metadata": {
    "ExecuteTime": {
     "end_time": "2017-11-29T03:36:38.808926Z",
     "start_time": "2017-11-29T03:36:38.286310Z"
    }
   },
   "outputs": [],
   "source": [
    "df2 = df.sort_values('date',ascending=True)"
   ]
  },
  {
   "cell_type": "code",
   "execution_count": 34,
   "metadata": {
    "ExecuteTime": {
     "end_time": "2017-11-29T03:36:38.823154Z",
     "start_time": "2017-11-29T03:36:38.810485Z"
    }
   },
   "outputs": [
    {
     "data": {
      "text/html": [
       "<div>\n",
       "<style scoped>\n",
       "    .dataframe tbody tr th:only-of-type {\n",
       "        vertical-align: middle;\n",
       "    }\n",
       "\n",
       "    .dataframe tbody tr th {\n",
       "        vertical-align: top;\n",
       "    }\n",
       "\n",
       "    .dataframe thead th {\n",
       "        text-align: right;\n",
       "    }\n",
       "</style>\n",
       "<table border=\"1\" class=\"dataframe\">\n",
       "  <thead>\n",
       "    <tr style=\"text-align: right;\">\n",
       "      <th></th>\n",
       "      <th>tweet_id</th>\n",
       "      <th>author_id</th>\n",
       "      <th>inbound</th>\n",
       "      <th>text</th>\n",
       "      <th>response_tweet_id</th>\n",
       "      <th>in_response_to_tweet_id</th>\n",
       "      <th>date</th>\n",
       "      <th>month</th>\n",
       "    </tr>\n",
       "  </thead>\n",
       "  <tbody>\n",
       "    <tr>\n",
       "      <th>319047</th>\n",
       "      <td>347379</td>\n",
       "      <td>SouthwestAir</td>\n",
       "      <td>False</td>\n",
       "      <td>@17251  Have FUN at the lecture tonight!  Tell...</td>\n",
       "      <td>347364</td>\n",
       "      <td>347380.0</td>\n",
       "      <td>2008-05-08 20:13:59</td>\n",
       "      <td>5</td>\n",
       "    </tr>\n",
       "    <tr>\n",
       "      <th>319046</th>\n",
       "      <td>347364</td>\n",
       "      <td>183416</td>\n",
       "      <td>True</td>\n",
       "      <td>@SouthwestAir Can you pls enter the HI market ...</td>\n",
       "      <td>347365,347366,347363,347367,347368,347369,3473...</td>\n",
       "      <td>347379.0</td>\n",
       "      <td>2008-05-08 21:04:16</td>\n",
       "      <td>5</td>\n",
       "    </tr>\n",
       "    <tr>\n",
       "      <th>542908</th>\n",
       "      <td>590641</td>\n",
       "      <td>241659</td>\n",
       "      <td>True</td>\n",
       "      <td>KTAR.com - Foreclosures still big problem in V...</td>\n",
       "      <td>590640</td>\n",
       "      <td>NaN</td>\n",
       "      <td>2010-02-16 15:49:47</td>\n",
       "      <td>2</td>\n",
       "    </tr>\n",
       "    <tr>\n",
       "      <th>627162</th>\n",
       "      <td>681789</td>\n",
       "      <td>263054</td>\n",
       "      <td>True</td>\n",
       "      <td>@263056 Do you know if Carl's Jr serves lunch ...</td>\n",
       "      <td>681787</td>\n",
       "      <td>NaN</td>\n",
       "      <td>2010-03-31 15:24:29</td>\n",
       "      <td>3</td>\n",
       "    </tr>\n",
       "    <tr>\n",
       "      <th>627160</th>\n",
       "      <td>681787</td>\n",
       "      <td>CarlsJr</td>\n",
       "      <td>False</td>\n",
       "      <td>@263054 We serve lunch all day!</td>\n",
       "      <td>681788</td>\n",
       "      <td>681789.0</td>\n",
       "      <td>2010-03-31 16:53:27</td>\n",
       "      <td>3</td>\n",
       "    </tr>\n",
       "  </tbody>\n",
       "</table>\n",
       "</div>"
      ],
      "text/plain": [
       "        tweet_id     author_id  inbound  \\\n",
       "319047    347379  SouthwestAir    False   \n",
       "319046    347364        183416     True   \n",
       "542908    590641        241659     True   \n",
       "627162    681789        263054     True   \n",
       "627160    681787       CarlsJr    False   \n",
       "\n",
       "                                                     text  \\\n",
       "319047  @17251  Have FUN at the lecture tonight!  Tell...   \n",
       "319046  @SouthwestAir Can you pls enter the HI market ...   \n",
       "542908  KTAR.com - Foreclosures still big problem in V...   \n",
       "627162  @263056 Do you know if Carl's Jr serves lunch ...   \n",
       "627160                    @263054 We serve lunch all day!   \n",
       "\n",
       "                                        response_tweet_id  \\\n",
       "319047                                             347364   \n",
       "319046  347365,347366,347363,347367,347368,347369,3473...   \n",
       "542908                                             590640   \n",
       "627162                                             681787   \n",
       "627160                                             681788   \n",
       "\n",
       "        in_response_to_tweet_id                date  month  \n",
       "319047                 347380.0 2008-05-08 20:13:59      5  \n",
       "319046                 347379.0 2008-05-08 21:04:16      5  \n",
       "542908                      NaN 2010-02-16 15:49:47      2  \n",
       "627162                      NaN 2010-03-31 15:24:29      3  \n",
       "627160                 681789.0 2010-03-31 16:53:27      3  "
      ]
     },
     "execution_count": 34,
     "metadata": {},
     "output_type": "execute_result"
    }
   ],
   "source": [
    "df2.head()"
   ]
  },
  {
   "cell_type": "markdown",
   "metadata": {},
   "source": [
    "### Tweets by Month"
   ]
  },
  {
   "cell_type": "code",
   "execution_count": 35,
   "metadata": {
    "ExecuteTime": {
     "end_time": "2017-11-29T03:37:01.779175Z",
     "start_time": "2017-11-29T03:37:01.753517Z"
    }
   },
   "outputs": [
    {
     "data": {
      "text/plain": [
       "True     1214604\n",
       "False    1011217\n",
       "Name: inbound, dtype: int64"
      ]
     },
     "execution_count": 35,
     "metadata": {},
     "output_type": "execute_result"
    }
   ],
   "source": [
    "df.inbound.value_counts()"
   ]
  },
  {
   "cell_type": "code",
   "execution_count": 36,
   "metadata": {
    "ExecuteTime": {
     "end_time": "2017-11-29T03:37:03.845840Z",
     "start_time": "2017-11-29T03:37:03.740461Z"
    }
   },
   "outputs": [],
   "source": [
    "inboundDF = df[df.inbound == True]"
   ]
  },
  {
   "cell_type": "code",
   "execution_count": 37,
   "metadata": {
    "ExecuteTime": {
     "end_time": "2017-11-29T03:37:06.548248Z",
     "start_time": "2017-11-29T03:37:06.544357Z"
    }
   },
   "outputs": [
    {
     "data": {
      "text/plain": [
       "(1214604, 8)"
      ]
     },
     "execution_count": 37,
     "metadata": {},
     "output_type": "execute_result"
    }
   ],
   "source": [
    "inboundDF.shape"
   ]
  },
  {
   "cell_type": "code",
   "execution_count": 38,
   "metadata": {
    "ExecuteTime": {
     "end_time": "2017-11-29T03:37:07.882083Z",
     "start_time": "2017-11-29T03:37:07.818427Z"
    }
   },
   "outputs": [],
   "source": [
    "monthGroup = df.groupby('month').inbound.count().reset_index()"
   ]
  },
  {
   "cell_type": "code",
   "execution_count": 39,
   "metadata": {
    "ExecuteTime": {
     "end_time": "2017-11-29T03:37:08.349891Z",
     "start_time": "2017-11-29T03:37:08.342511Z"
    }
   },
   "outputs": [
    {
     "data": {
      "text/html": [
       "<div>\n",
       "<style scoped>\n",
       "    .dataframe tbody tr th:only-of-type {\n",
       "        vertical-align: middle;\n",
       "    }\n",
       "\n",
       "    .dataframe tbody tr th {\n",
       "        vertical-align: top;\n",
       "    }\n",
       "\n",
       "    .dataframe thead th {\n",
       "        text-align: right;\n",
       "    }\n",
       "</style>\n",
       "<table border=\"1\" class=\"dataframe\">\n",
       "  <thead>\n",
       "    <tr style=\"text-align: right;\">\n",
       "      <th></th>\n",
       "      <th>month</th>\n",
       "      <th>inbound</th>\n",
       "    </tr>\n",
       "  </thead>\n",
       "  <tbody>\n",
       "    <tr>\n",
       "      <th>0</th>\n",
       "      <td>1</td>\n",
       "      <td>328</td>\n",
       "    </tr>\n",
       "    <tr>\n",
       "      <th>1</th>\n",
       "      <td>2</td>\n",
       "      <td>332</td>\n",
       "    </tr>\n",
       "    <tr>\n",
       "      <th>2</th>\n",
       "      <td>3</td>\n",
       "      <td>283</td>\n",
       "    </tr>\n",
       "    <tr>\n",
       "      <th>3</th>\n",
       "      <td>4</td>\n",
       "      <td>451</td>\n",
       "    </tr>\n",
       "    <tr>\n",
       "      <th>4</th>\n",
       "      <td>5</td>\n",
       "      <td>545</td>\n",
       "    </tr>\n",
       "    <tr>\n",
       "      <th>5</th>\n",
       "      <td>6</td>\n",
       "      <td>602</td>\n",
       "    </tr>\n",
       "    <tr>\n",
       "      <th>6</th>\n",
       "      <td>7</td>\n",
       "      <td>978</td>\n",
       "    </tr>\n",
       "    <tr>\n",
       "      <th>7</th>\n",
       "      <td>8</td>\n",
       "      <td>2158</td>\n",
       "    </tr>\n",
       "    <tr>\n",
       "      <th>8</th>\n",
       "      <td>9</td>\n",
       "      <td>13049</td>\n",
       "    </tr>\n",
       "    <tr>\n",
       "      <th>9</th>\n",
       "      <td>10</td>\n",
       "      <td>1252961</td>\n",
       "    </tr>\n",
       "    <tr>\n",
       "      <th>10</th>\n",
       "      <td>11</td>\n",
       "      <td>953862</td>\n",
       "    </tr>\n",
       "    <tr>\n",
       "      <th>11</th>\n",
       "      <td>12</td>\n",
       "      <td>272</td>\n",
       "    </tr>\n",
       "  </tbody>\n",
       "</table>\n",
       "</div>"
      ],
      "text/plain": [
       "    month  inbound\n",
       "0       1      328\n",
       "1       2      332\n",
       "2       3      283\n",
       "3       4      451\n",
       "4       5      545\n",
       "5       6      602\n",
       "6       7      978\n",
       "7       8     2158\n",
       "8       9    13049\n",
       "9      10  1252961\n",
       "10     11   953862\n",
       "11     12      272"
      ]
     },
     "execution_count": 39,
     "metadata": {},
     "output_type": "execute_result"
    }
   ],
   "source": [
    "monthGroup"
   ]
  },
  {
   "cell_type": "code",
   "execution_count": 40,
   "metadata": {
    "ExecuteTime": {
     "end_time": "2017-11-29T03:37:15.403822Z",
     "start_time": "2017-11-29T03:37:15.050325Z"
    }
   },
   "outputs": [
    {
     "data": {
      "text/plain": [
       "Text(0,0.5,'Inbound Tweets')"
      ]
     },
     "execution_count": 40,
     "metadata": {},
     "output_type": "execute_result"
    },
    {
     "data": {
      "image/png": "[encoded data removed]",
      "text/plain": [
       "<matplotlib.figure.Figure at 0x7f75260f3f60>"
      ]
     },
     "metadata": {},
     "output_type": "display_data"
    }
   ],
   "source": [
    "month_ticks = ['Jan','Feb','Mar','Apr','May','Jun','Jul','Aug','Sep','Oct','Nov','Dec']\n",
    "monthGroup.plot(kind='bar',figsize=(10,6),legend=False)\n",
    "plt.xticks(range(12),month_ticks)\n",
    "plt.xlabel('Month')\n",
    "plt.ylabel('Inbound Tweets')"
   ]
  },
  {
   "cell_type": "markdown",
   "metadata": {},
   "source": [
    "### Tweets by Day"
   ]
  },
  {
   "cell_type": "code",
   "execution_count": 41,
   "metadata": {
    "ExecuteTime": {
     "end_time": "2017-11-29T03:37:16.529689Z",
     "start_time": "2017-11-29T03:37:16.421671Z"
    }
   },
   "outputs": [],
   "source": [
    "df['day'] = df.date.dt.dayofweek"
   ]
  },
  {
   "cell_type": "code",
   "execution_count": 42,
   "metadata": {
    "ExecuteTime": {
     "end_time": "2017-11-29T03:37:16.922726Z",
     "start_time": "2017-11-29T03:37:16.817735Z"
    }
   },
   "outputs": [],
   "source": [
    "dayGroup = df.groupby('day').inbound.count().reset_index()"
   ]
  },
  {
   "cell_type": "code",
   "execution_count": 43,
   "metadata": {
    "ExecuteTime": {
     "end_time": "2017-11-29T03:37:17.212934Z",
     "start_time": "2017-11-29T03:37:17.055170Z"
    }
   },
   "outputs": [
    {
     "data": {
      "text/plain": [
       "Text(0,0.5,'Inbound Tweets')"
      ]
     },
     "execution_count": 43,
     "metadata": {},
     "output_type": "execute_result"
    },
    {
     "data": {
      "image/png": "[encoded data removed]",
      "text/plain": [
       "<matplotlib.figure.Figure at 0x7f753523e7b8>"
      ]
     },
     "metadata": {},
     "output_type": "display_data"
    }
   ],
   "source": [
    "day_ticks = ['Mon','Tues','Wed','Thurs','Fri','Sat','Sun']\n",
    "dayGroup.plot(kind='bar',figsize=(10,6),legend=False)\n",
    "plt.xticks(range(7),day_ticks)\n",
    "#plt.xlabel('Day')\n",
    "plt.ylabel('Inbound Tweets')"
   ]
  },
  {
   "cell_type": "markdown",
   "metadata": {},
   "source": [
    "### Tweets by Company"
   ]
  },
  {
   "cell_type": "code",
   "execution_count": 44,
   "metadata": {
    "ExecuteTime": {
     "end_time": "2017-11-29T03:37:20.629930Z",
     "start_time": "2017-11-29T03:37:19.950764Z"
    }
   },
   "outputs": [],
   "source": [
    "companyGroup = df.groupby('author_id').inbound.count().reset_index()"
   ]
  },
  {
   "cell_type": "code",
   "execution_count": 45,
   "metadata": {
    "ExecuteTime": {
     "end_time": "2017-11-29T03:37:21.054194Z",
     "start_time": "2017-11-29T03:37:20.631708Z"
    }
   },
   "outputs": [
    {
     "name": "stderr",
     "output_type": "stream",
     "text": [
      "/home/xavier/anaconda3/lib/python3.6/site-packages/ipykernel_launcher.py:1: UserWarning: This pattern has match groups. To actually get the groups, use str.extract.\n",
      "  \"\"\"Entry point for launching an IPython kernel.\n"
     ]
    }
   ],
   "source": [
    "companyGroup = companyGroup.loc[companyGroup.iloc[:,0].str.contains(r'(^\\D{6})')]\n",
    "companyGroup.sort_values('inbound',ascending=False,inplace=True)"
   ]
  },
  {
   "cell_type": "code",
   "execution_count": 46,
   "metadata": {
    "ExecuteTime": {
     "end_time": "2017-11-29T03:37:21.059723Z",
     "start_time": "2017-11-29T03:37:21.055926Z"
    }
   },
   "outputs": [
    {
     "data": {
      "text/plain": [
       "(102, 2)"
      ]
     },
     "execution_count": 46,
     "metadata": {},
     "output_type": "execute_result"
    }
   ],
   "source": [
    "companyGroup.shape"
   ]
  },
  {
   "cell_type": "code",
   "execution_count": 47,
   "metadata": {
    "ExecuteTime": {
     "end_time": "2017-11-29T03:37:21.220286Z",
     "start_time": "2017-11-29T03:37:21.206042Z"
    }
   },
   "outputs": [
    {
     "data": {
      "text/html": [
       "<div>\n",
       "<style scoped>\n",
       "    .dataframe tbody tr th:only-of-type {\n",
       "        vertical-align: middle;\n",
       "    }\n",
       "\n",
       "    .dataframe tbody tr th {\n",
       "        vertical-align: top;\n",
       "    }\n",
       "\n",
       "    .dataframe thead th {\n",
       "        text-align: right;\n",
       "    }\n",
       "</style>\n",
       "<table border=\"1\" class=\"dataframe\">\n",
       "  <thead>\n",
       "    <tr style=\"text-align: right;\">\n",
       "      <th></th>\n",
       "      <th>author_id</th>\n",
       "      <th>inbound</th>\n",
       "    </tr>\n",
       "  </thead>\n",
       "  <tbody>\n",
       "    <tr>\n",
       "      <th>569050</th>\n",
       "      <td>AmazonHelp</td>\n",
       "      <td>129431</td>\n",
       "    </tr>\n",
       "    <tr>\n",
       "      <th>569052</th>\n",
       "      <td>AppleSupport</td>\n",
       "      <td>90432</td>\n",
       "    </tr>\n",
       "    <tr>\n",
       "      <th>569127</th>\n",
       "      <td>Uber_Support</td>\n",
       "      <td>42289</td>\n",
       "    </tr>\n",
       "    <tr>\n",
       "      <th>569119</th>\n",
       "      <td>SpotifyCares</td>\n",
       "      <td>34328</td>\n",
       "    </tr>\n",
       "    <tr>\n",
       "      <th>569051</th>\n",
       "      <td>AmericanAir</td>\n",
       "      <td>29642</td>\n",
       "    </tr>\n",
       "    <tr>\n",
       "      <th>569120</th>\n",
       "      <td>TMobileHelp</td>\n",
       "      <td>28644</td>\n",
       "    </tr>\n",
       "    <tr>\n",
       "      <th>569141</th>\n",
       "      <td>comcastcares</td>\n",
       "      <td>26270</td>\n",
       "    </tr>\n",
       "    <tr>\n",
       "      <th>569075</th>\n",
       "      <td>British_Airways</td>\n",
       "      <td>24395</td>\n",
       "    </tr>\n",
       "    <tr>\n",
       "      <th>569118</th>\n",
       "      <td>SouthwestAir</td>\n",
       "      <td>23302</td>\n",
       "    </tr>\n",
       "    <tr>\n",
       "      <th>569068</th>\n",
       "      <td>Ask_Spectrum</td>\n",
       "      <td>20961</td>\n",
       "    </tr>\n",
       "    <tr>\n",
       "      <th>569132</th>\n",
       "      <td>VirginTrains</td>\n",
       "      <td>20330</td>\n",
       "    </tr>\n",
       "    <tr>\n",
       "      <th>569134</th>\n",
       "      <td>XboxSupport</td>\n",
       "      <td>19238</td>\n",
       "    </tr>\n",
       "    <tr>\n",
       "      <th>569149</th>\n",
       "      <td>sprintcare</td>\n",
       "      <td>19186</td>\n",
       "    </tr>\n",
       "    <tr>\n",
       "      <th>569142</th>\n",
       "      <td>hulu_support</td>\n",
       "      <td>17600</td>\n",
       "    </tr>\n",
       "    <tr>\n",
       "      <th>569061</th>\n",
       "      <td>AskPlayStation</td>\n",
       "      <td>15973</td>\n",
       "    </tr>\n",
       "    <tr>\n",
       "      <th>569079</th>\n",
       "      <td>ChipotleTweets</td>\n",
       "      <td>15483</td>\n",
       "    </tr>\n",
       "    <tr>\n",
       "      <th>569147</th>\n",
       "      <td>sainsburys</td>\n",
       "      <td>15134</td>\n",
       "    </tr>\n",
       "    <tr>\n",
       "      <th>569086</th>\n",
       "      <td>GWRHelp</td>\n",
       "      <td>14742</td>\n",
       "    </tr>\n",
       "    <tr>\n",
       "      <th>569129</th>\n",
       "      <td>VerizonSupport</td>\n",
       "      <td>14592</td>\n",
       "    </tr>\n",
       "    <tr>\n",
       "      <th>569043</th>\n",
       "      <td>ATVIAssist</td>\n",
       "      <td>12784</td>\n",
       "    </tr>\n",
       "    <tr>\n",
       "      <th>569117</th>\n",
       "      <td>Safaricom_Care</td>\n",
       "      <td>12726</td>\n",
       "    </tr>\n",
       "    <tr>\n",
       "      <th>569143</th>\n",
       "      <td>idea_cares</td>\n",
       "      <td>12537</td>\n",
       "    </tr>\n",
       "    <tr>\n",
       "      <th>569125</th>\n",
       "      <td>UPSHelp</td>\n",
       "      <td>12108</td>\n",
       "    </tr>\n",
       "    <tr>\n",
       "      <th>569073</th>\n",
       "      <td>BofA_Help</td>\n",
       "      <td>10139</td>\n",
       "    </tr>\n",
       "    <tr>\n",
       "      <th>569116</th>\n",
       "      <td>SW_Help</td>\n",
       "      <td>9737</td>\n",
       "    </tr>\n",
       "    <tr>\n",
       "      <th>569058</th>\n",
       "      <td>AskLyft</td>\n",
       "      <td>9542</td>\n",
       "    </tr>\n",
       "    <tr>\n",
       "      <th>569055</th>\n",
       "      <td>AskAmex</td>\n",
       "      <td>9464</td>\n",
       "    </tr>\n",
       "    <tr>\n",
       "      <th>569065</th>\n",
       "      <td>AskTarget</td>\n",
       "      <td>9199</td>\n",
       "    </tr>\n",
       "    <tr>\n",
       "      <th>569104</th>\n",
       "      <td>MicrosoftHelps</td>\n",
       "      <td>8968</td>\n",
       "    </tr>\n",
       "    <tr>\n",
       "      <th>569060</th>\n",
       "      <td>AskPayPal</td>\n",
       "      <td>8814</td>\n",
       "    </tr>\n",
       "    <tr>\n",
       "      <th>...</th>\n",
       "      <td>...</td>\n",
       "      <td>...</td>\n",
       "    </tr>\n",
       "    <tr>\n",
       "      <th>569085</th>\n",
       "      <td>DunkinDonuts</td>\n",
       "      <td>1102</td>\n",
       "    </tr>\n",
       "    <tr>\n",
       "      <th>569124</th>\n",
       "      <td>TwitterSupport</td>\n",
       "      <td>1097</td>\n",
       "    </tr>\n",
       "    <tr>\n",
       "      <th>569099</th>\n",
       "      <td>Kimpton</td>\n",
       "      <td>1091</td>\n",
       "    </tr>\n",
       "    <tr>\n",
       "      <th>569126</th>\n",
       "      <td>USCellularCares</td>\n",
       "      <td>973</td>\n",
       "    </tr>\n",
       "    <tr>\n",
       "      <th>569112</th>\n",
       "      <td>PandoraSupport</td>\n",
       "      <td>886</td>\n",
       "    </tr>\n",
       "    <tr>\n",
       "      <th>569148</th>\n",
       "      <td>sizehelpteam</td>\n",
       "      <td>844</td>\n",
       "    </tr>\n",
       "    <tr>\n",
       "      <th>569092</th>\n",
       "      <td>HiltonHelp</td>\n",
       "      <td>833</td>\n",
       "    </tr>\n",
       "    <tr>\n",
       "      <th>569044</th>\n",
       "      <td>AWSSupport</td>\n",
       "      <td>792</td>\n",
       "    </tr>\n",
       "    <tr>\n",
       "      <th>569067</th>\n",
       "      <td>AskVirginMoney</td>\n",
       "      <td>782</td>\n",
       "    </tr>\n",
       "    <tr>\n",
       "      <th>569062</th>\n",
       "      <td>AskRBC</td>\n",
       "      <td>778</td>\n",
       "    </tr>\n",
       "    <tr>\n",
       "      <th>569135</th>\n",
       "      <td>YahooCare</td>\n",
       "      <td>776</td>\n",
       "    </tr>\n",
       "    <tr>\n",
       "      <th>569074</th>\n",
       "      <td>BoostCare</td>\n",
       "      <td>768</td>\n",
       "    </tr>\n",
       "    <tr>\n",
       "      <th>569113</th>\n",
       "      <td>PearsonSupport</td>\n",
       "      <td>748</td>\n",
       "    </tr>\n",
       "    <tr>\n",
       "      <th>569110</th>\n",
       "      <td>OPPOCareIN</td>\n",
       "      <td>740</td>\n",
       "    </tr>\n",
       "    <tr>\n",
       "      <th>569106</th>\n",
       "      <td>NeweggService</td>\n",
       "      <td>738</td>\n",
       "    </tr>\n",
       "    <tr>\n",
       "      <th>569102</th>\n",
       "      <td>MTNC_Care</td>\n",
       "      <td>686</td>\n",
       "    </tr>\n",
       "    <tr>\n",
       "      <th>569089</th>\n",
       "      <td>GooglePlayMusic</td>\n",
       "      <td>640</td>\n",
       "    </tr>\n",
       "    <tr>\n",
       "      <th>569066</th>\n",
       "      <td>AskTigogh</td>\n",
       "      <td>638</td>\n",
       "    </tr>\n",
       "    <tr>\n",
       "      <th>569140</th>\n",
       "      <td>askvisa</td>\n",
       "      <td>626</td>\n",
       "    </tr>\n",
       "    <tr>\n",
       "      <th>569139</th>\n",
       "      <td>asksalesforce</td>\n",
       "      <td>622</td>\n",
       "    </tr>\n",
       "    <tr>\n",
       "      <th>569064</th>\n",
       "      <td>AskSeagate</td>\n",
       "      <td>534</td>\n",
       "    </tr>\n",
       "    <tr>\n",
       "      <th>569137</th>\n",
       "      <td>ask_progressive</td>\n",
       "      <td>532</td>\n",
       "    </tr>\n",
       "    <tr>\n",
       "      <th>569098</th>\n",
       "      <td>KeyBank_Help</td>\n",
       "      <td>485</td>\n",
       "    </tr>\n",
       "    <tr>\n",
       "      <th>569063</th>\n",
       "      <td>AskRobinhood</td>\n",
       "      <td>371</td>\n",
       "    </tr>\n",
       "    <tr>\n",
       "      <th>569145</th>\n",
       "      <td>mediatemplehelp</td>\n",
       "      <td>267</td>\n",
       "    </tr>\n",
       "    <tr>\n",
       "      <th>569095</th>\n",
       "      <td>JackBox</td>\n",
       "      <td>224</td>\n",
       "    </tr>\n",
       "    <tr>\n",
       "      <th>569111</th>\n",
       "      <td>OfficeSupport</td>\n",
       "      <td>189</td>\n",
       "    </tr>\n",
       "    <tr>\n",
       "      <th>569057</th>\n",
       "      <td>AskDSC</td>\n",
       "      <td>185</td>\n",
       "    </tr>\n",
       "    <tr>\n",
       "      <th>569076</th>\n",
       "      <td>CarlsJr</td>\n",
       "      <td>177</td>\n",
       "    </tr>\n",
       "    <tr>\n",
       "      <th>569093</th>\n",
       "      <td>HotelTonightCX</td>\n",
       "      <td>141</td>\n",
       "    </tr>\n",
       "  </tbody>\n",
       "</table>\n",
       "<p>102 rows × 2 columns</p>\n",
       "</div>"
      ],
      "text/plain": [
       "              author_id  inbound\n",
       "569050       AmazonHelp   129431\n",
       "569052     AppleSupport    90432\n",
       "569127     Uber_Support    42289\n",
       "569119     SpotifyCares    34328\n",
       "569051      AmericanAir    29642\n",
       "569120      TMobileHelp    28644\n",
       "569141     comcastcares    26270\n",
       "569075  British_Airways    24395\n",
       "569118     SouthwestAir    23302\n",
       "569068     Ask_Spectrum    20961\n",
       "569132     VirginTrains    20330\n",
       "569134      XboxSupport    19238\n",
       "569149       sprintcare    19186\n",
       "569142     hulu_support    17600\n",
       "569061   AskPlayStation    15973\n",
       "569079   ChipotleTweets    15483\n",
       "569147       sainsburys    15134\n",
       "569086          GWRHelp    14742\n",
       "569129   VerizonSupport    14592\n",
       "569043       ATVIAssist    12784\n",
       "569117   Safaricom_Care    12726\n",
       "569143       idea_cares    12537\n",
       "569125          UPSHelp    12108\n",
       "569073        BofA_Help    10139\n",
       "569116          SW_Help     9737\n",
       "569058          AskLyft     9542\n",
       "569055          AskAmex     9464\n",
       "569065        AskTarget     9199\n",
       "569104   MicrosoftHelps     8968\n",
       "569060        AskPayPal     8814\n",
       "...                 ...      ...\n",
       "569085     DunkinDonuts     1102\n",
       "569124   TwitterSupport     1097\n",
       "569099          Kimpton     1091\n",
       "569126  USCellularCares      973\n",
       "569112   PandoraSupport      886\n",
       "569148     sizehelpteam      844\n",
       "569092       HiltonHelp      833\n",
       "569044       AWSSupport      792\n",
       "569067   AskVirginMoney      782\n",
       "569062           AskRBC      778\n",
       "569135        YahooCare      776\n",
       "569074        BoostCare      768\n",
       "569113   PearsonSupport      748\n",
       "569110       OPPOCareIN      740\n",
       "569106    NeweggService      738\n",
       "569102        MTNC_Care      686\n",
       "569089  GooglePlayMusic      640\n",
       "569066        AskTigogh      638\n",
       "569140          askvisa      626\n",
       "569139    asksalesforce      622\n",
       "569064       AskSeagate      534\n",
       "569137  ask_progressive      532\n",
       "569098     KeyBank_Help      485\n",
       "569063     AskRobinhood      371\n",
       "569145  mediatemplehelp      267\n",
       "569095          JackBox      224\n",
       "569111    OfficeSupport      189\n",
       "569057           AskDSC      185\n",
       "569076          CarlsJr      177\n",
       "569093   HotelTonightCX      141\n",
       "\n",
       "[102 rows x 2 columns]"
      ]
     },
     "execution_count": 47,
     "metadata": {},
     "output_type": "execute_result"
    }
   ],
   "source": [
    "companyGroup"
   ]
  },
  {
   "cell_type": "code",
   "execution_count": 48,
   "metadata": {
    "ExecuteTime": {
     "end_time": "2017-11-29T03:37:25.219512Z",
     "start_time": "2017-11-29T03:37:25.205096Z"
    }
   },
   "outputs": [
    {
     "data": {
      "text/html": [
       "<div>\n",
       "<style scoped>\n",
       "    .dataframe tbody tr th:only-of-type {\n",
       "        vertical-align: middle;\n",
       "    }\n",
       "\n",
       "    .dataframe tbody tr th {\n",
       "        vertical-align: top;\n",
       "    }\n",
       "\n",
       "    .dataframe thead th {\n",
       "        text-align: right;\n",
       "    }\n",
       "</style>\n",
       "<table border=\"1\" class=\"dataframe\">\n",
       "  <thead>\n",
       "    <tr style=\"text-align: right;\">\n",
       "      <th></th>\n",
       "      <th>tweet_id</th>\n",
       "      <th>author_id</th>\n",
       "      <th>inbound</th>\n",
       "      <th>text</th>\n",
       "      <th>response_tweet_id</th>\n",
       "      <th>in_response_to_tweet_id</th>\n",
       "      <th>date</th>\n",
       "      <th>month</th>\n",
       "      <th>day</th>\n",
       "    </tr>\n",
       "  </thead>\n",
       "  <tbody>\n",
       "    <tr>\n",
       "      <th>0</th>\n",
       "      <td>1</td>\n",
       "      <td>VirginAtlantic</td>\n",
       "      <td>False</td>\n",
       "      <td>@95932 Hmmm they may be full. Have you tried b...</td>\n",
       "      <td>2</td>\n",
       "      <td>3.0</td>\n",
       "      <td>2017-10-04 22:37:58</td>\n",
       "      <td>10</td>\n",
       "      <td>2</td>\n",
       "    </tr>\n",
       "    <tr>\n",
       "      <th>1</th>\n",
       "      <td>2</td>\n",
       "      <td>95932</td>\n",
       "      <td>True</td>\n",
       "      <td>@VirginAtlantic Sure have. Nothing comes up at...</td>\n",
       "      <td>4</td>\n",
       "      <td>1.0</td>\n",
       "      <td>2017-10-04 22:55:58</td>\n",
       "      <td>10</td>\n",
       "      <td>2</td>\n",
       "    </tr>\n",
       "    <tr>\n",
       "      <th>2</th>\n",
       "      <td>4</td>\n",
       "      <td>VirginAtlantic</td>\n",
       "      <td>False</td>\n",
       "      <td>@95932 I'm going to report this then. It sound...</td>\n",
       "      <td>NaN</td>\n",
       "      <td>2.0</td>\n",
       "      <td>2017-10-04 23:00:12</td>\n",
       "      <td>10</td>\n",
       "      <td>2</td>\n",
       "    </tr>\n",
       "    <tr>\n",
       "      <th>3</th>\n",
       "      <td>3</td>\n",
       "      <td>95932</td>\n",
       "      <td>True</td>\n",
       "      <td>@VirginAtlantic Yes, nothing comes up 🙁</td>\n",
       "      <td>1</td>\n",
       "      <td>5.0</td>\n",
       "      <td>2017-10-04 22:36:35</td>\n",
       "      <td>10</td>\n",
       "      <td>2</td>\n",
       "    </tr>\n",
       "    <tr>\n",
       "      <th>4</th>\n",
       "      <td>5</td>\n",
       "      <td>VirginAtlantic</td>\n",
       "      <td>False</td>\n",
       "      <td>@95932 Have you tried towards the end of March...</td>\n",
       "      <td>3</td>\n",
       "      <td>6.0</td>\n",
       "      <td>2017-10-04 20:15:59</td>\n",
       "      <td>10</td>\n",
       "      <td>2</td>\n",
       "    </tr>\n",
       "  </tbody>\n",
       "</table>\n",
       "</div>"
      ],
      "text/plain": [
       "   tweet_id       author_id  inbound  \\\n",
       "0         1  VirginAtlantic    False   \n",
       "1         2           95932     True   \n",
       "2         4  VirginAtlantic    False   \n",
       "3         3           95932     True   \n",
       "4         5  VirginAtlantic    False   \n",
       "\n",
       "                                                text response_tweet_id  \\\n",
       "0  @95932 Hmmm they may be full. Have you tried b...                 2   \n",
       "1  @VirginAtlantic Sure have. Nothing comes up at...                 4   \n",
       "2  @95932 I'm going to report this then. It sound...               NaN   \n",
       "3            @VirginAtlantic Yes, nothing comes up 🙁                 1   \n",
       "4  @95932 Have you tried towards the end of March...                 3   \n",
       "\n",
       "   in_response_to_tweet_id                date  month  day  \n",
       "0                      3.0 2017-10-04 22:37:58     10    2  \n",
       "1                      1.0 2017-10-04 22:55:58     10    2  \n",
       "2                      2.0 2017-10-04 23:00:12     10    2  \n",
       "3                      5.0 2017-10-04 22:36:35     10    2  \n",
       "4                      6.0 2017-10-04 20:15:59     10    2  "
      ]
     },
     "execution_count": 48,
     "metadata": {},
     "output_type": "execute_result"
    }
   ],
   "source": [
    "df.head()"
   ]
  },
  {
   "cell_type": "code",
   "execution_count": 49,
   "metadata": {
    "ExecuteTime": {
     "end_time": "2017-11-29T03:37:28.220267Z",
     "start_time": "2017-11-29T03:37:25.607072Z"
    }
   },
   "outputs": [],
   "source": [
    "appleDF = df[df['author_id'].str.contains(\"AppleSupport\") | df['text'].str.contains(\"AppleSupport\") ]"
   ]
  },
  {
   "cell_type": "code",
   "execution_count": 50,
   "metadata": {
    "ExecuteTime": {
     "end_time": "2017-11-29T03:37:28.225422Z",
     "start_time": "2017-11-29T03:37:28.221855Z"
    }
   },
   "outputs": [
    {
     "data": {
      "text/plain": [
       "(171517, 9)"
      ]
     },
     "execution_count": 50,
     "metadata": {},
     "output_type": "execute_result"
    }
   ],
   "source": [
    "appleDF.shape"
   ]
  },
  {
   "cell_type": "code",
   "execution_count": 51,
   "metadata": {
    "ExecuteTime": {
     "end_time": "2017-11-29T03:37:28.240753Z",
     "start_time": "2017-11-29T03:37:28.227073Z"
    }
   },
   "outputs": [
    {
     "data": {
      "text/html": [
       "<div>\n",
       "<style scoped>\n",
       "    .dataframe tbody tr th:only-of-type {\n",
       "        vertical-align: middle;\n",
       "    }\n",
       "\n",
       "    .dataframe tbody tr th {\n",
       "        vertical-align: top;\n",
       "    }\n",
       "\n",
       "    .dataframe thead th {\n",
       "        text-align: right;\n",
       "    }\n",
       "</style>\n",
       "<table border=\"1\" class=\"dataframe\">\n",
       "  <thead>\n",
       "    <tr style=\"text-align: right;\">\n",
       "      <th></th>\n",
       "      <th>tweet_id</th>\n",
       "      <th>author_id</th>\n",
       "      <th>inbound</th>\n",
       "      <th>text</th>\n",
       "      <th>response_tweet_id</th>\n",
       "      <th>in_response_to_tweet_id</th>\n",
       "      <th>date</th>\n",
       "      <th>month</th>\n",
       "      <th>day</th>\n",
       "    </tr>\n",
       "  </thead>\n",
       "  <tbody>\n",
       "    <tr>\n",
       "      <th>119</th>\n",
       "      <td>129</td>\n",
       "      <td>AppleSupport</td>\n",
       "      <td>False</td>\n",
       "      <td>@95972 Let's take a look at your flashlight to...</td>\n",
       "      <td>130</td>\n",
       "      <td>131.0</td>\n",
       "      <td>2017-10-04 13:04:26</td>\n",
       "      <td>10</td>\n",
       "      <td>2</td>\n",
       "    </tr>\n",
       "    <tr>\n",
       "      <th>120</th>\n",
       "      <td>130</td>\n",
       "      <td>95973</td>\n",
       "      <td>True</td>\n",
       "      <td>@AppleSupport @95972 i have the same problem w...</td>\n",
       "      <td>NaN</td>\n",
       "      <td>129.0</td>\n",
       "      <td>2017-10-04 22:10:17</td>\n",
       "      <td>10</td>\n",
       "      <td>2</td>\n",
       "    </tr>\n",
       "    <tr>\n",
       "      <th>309</th>\n",
       "      <td>385</td>\n",
       "      <td>AppleSupport</td>\n",
       "      <td>False</td>\n",
       "      <td>@96035 We want you to get the most out of your...</td>\n",
       "      <td>NaN</td>\n",
       "      <td>386.0</td>\n",
       "      <td>2017-10-04 12:33:00</td>\n",
       "      <td>10</td>\n",
       "      <td>2</td>\n",
       "    </tr>\n",
       "    <tr>\n",
       "      <th>339</th>\n",
       "      <td>416</td>\n",
       "      <td>AppleSupport</td>\n",
       "      <td>False</td>\n",
       "      <td>@96041 We appreciate you letting us know, does...</td>\n",
       "      <td>NaN</td>\n",
       "      <td>417.0</td>\n",
       "      <td>2017-10-04 12:59:29</td>\n",
       "      <td>10</td>\n",
       "      <td>2</td>\n",
       "    </tr>\n",
       "    <tr>\n",
       "      <th>340</th>\n",
       "      <td>417</td>\n",
       "      <td>96041</td>\n",
       "      <td>True</td>\n",
       "      <td>@AppleSupport When you go to the App Store &amp;am...</td>\n",
       "      <td>416</td>\n",
       "      <td>418.0</td>\n",
       "      <td>2017-10-04 04:57:54</td>\n",
       "      <td>10</td>\n",
       "      <td>2</td>\n",
       "    </tr>\n",
       "  </tbody>\n",
       "</table>\n",
       "</div>"
      ],
      "text/plain": [
       "     tweet_id     author_id  inbound  \\\n",
       "119       129  AppleSupport    False   \n",
       "120       130         95973     True   \n",
       "309       385  AppleSupport    False   \n",
       "339       416  AppleSupport    False   \n",
       "340       417         96041     True   \n",
       "\n",
       "                                                  text response_tweet_id  \\\n",
       "119  @95972 Let's take a look at your flashlight to...               130   \n",
       "120  @AppleSupport @95972 i have the same problem w...               NaN   \n",
       "309  @96035 We want you to get the most out of your...               NaN   \n",
       "339  @96041 We appreciate you letting us know, does...               NaN   \n",
       "340  @AppleSupport When you go to the App Store &am...               416   \n",
       "\n",
       "     in_response_to_tweet_id                date  month  day  \n",
       "119                    131.0 2017-10-04 13:04:26     10    2  \n",
       "120                    129.0 2017-10-04 22:10:17     10    2  \n",
       "309                    386.0 2017-10-04 12:33:00     10    2  \n",
       "339                    417.0 2017-10-04 12:59:29     10    2  \n",
       "340                    418.0 2017-10-04 04:57:54     10    2  "
      ]
     },
     "execution_count": 51,
     "metadata": {},
     "output_type": "execute_result"
    }
   ],
   "source": [
    "appleDF.head()"
   ]
  },
  {
   "cell_type": "code",
   "execution_count": null,
   "metadata": {},
   "outputs": [],
   "source": []
  },
  {
   "cell_type": "markdown",
   "metadata": {},
   "source": [
    "### Tweets by Conversations"
   ]
  },
  {
   "cell_type": "code",
   "execution_count": 52,
   "metadata": {
    "ExecuteTime": {
     "end_time": "2017-11-29T03:37:37.186302Z",
     "start_time": "2017-11-29T03:37:36.017793Z"
    }
   },
   "outputs": [],
   "source": [
    "testDF = df[(df['author_id'].str.contains(\"95972\"))]"
   ]
  },
  {
   "cell_type": "code",
   "execution_count": 53,
   "metadata": {
    "ExecuteTime": {
     "end_time": "2017-11-29T03:37:37.202095Z",
     "start_time": "2017-11-29T03:37:37.188328Z"
    }
   },
   "outputs": [
    {
     "data": {
      "text/html": [
       "<div>\n",
       "<style scoped>\n",
       "    .dataframe tbody tr th:only-of-type {\n",
       "        vertical-align: middle;\n",
       "    }\n",
       "\n",
       "    .dataframe tbody tr th {\n",
       "        vertical-align: top;\n",
       "    }\n",
       "\n",
       "    .dataframe thead th {\n",
       "        text-align: right;\n",
       "    }\n",
       "</style>\n",
       "<table border=\"1\" class=\"dataframe\">\n",
       "  <thead>\n",
       "    <tr style=\"text-align: right;\">\n",
       "      <th></th>\n",
       "      <th>tweet_id</th>\n",
       "      <th>author_id</th>\n",
       "      <th>inbound</th>\n",
       "      <th>text</th>\n",
       "      <th>response_tweet_id</th>\n",
       "      <th>in_response_to_tweet_id</th>\n",
       "      <th>date</th>\n",
       "      <th>month</th>\n",
       "      <th>day</th>\n",
       "    </tr>\n",
       "  </thead>\n",
       "  <tbody>\n",
       "    <tr>\n",
       "      <th>121</th>\n",
       "      <td>131</td>\n",
       "      <td>95972</td>\n",
       "      <td>True</td>\n",
       "      <td>the update made my fuckin flashlight stop work...</td>\n",
       "      <td>129</td>\n",
       "      <td>NaN</td>\n",
       "      <td>2017-10-04 05:43:36</td>\n",
       "      <td>10</td>\n",
       "      <td>2</td>\n",
       "    </tr>\n",
       "    <tr>\n",
       "      <th>366775</th>\n",
       "      <td>398930</td>\n",
       "      <td>195972</td>\n",
       "      <td>True</td>\n",
       "      <td>@AmazonHelp Si, pero ya no soluciona nada, lo ...</td>\n",
       "      <td>398932</td>\n",
       "      <td>398929.0</td>\n",
       "      <td>2017-10-13 13:12:57</td>\n",
       "      <td>10</td>\n",
       "      <td>4</td>\n",
       "    </tr>\n",
       "    <tr>\n",
       "      <th>366777</th>\n",
       "      <td>398933</td>\n",
       "      <td>195972</td>\n",
       "      <td>True</td>\n",
       "      <td>@AmazonHelp No voy a perder más tiempo en esto...</td>\n",
       "      <td>NaN</td>\n",
       "      <td>398932.0</td>\n",
       "      <td>2017-10-13 13:16:54</td>\n",
       "      <td>10</td>\n",
       "      <td>4</td>\n",
       "    </tr>\n",
       "    <tr>\n",
       "      <th>366778</th>\n",
       "      <td>398931</td>\n",
       "      <td>195972</td>\n",
       "      <td>True</td>\n",
       "      <td>Gracias por nada @96220 @99212 https://t.co/K2...</td>\n",
       "      <td>398929</td>\n",
       "      <td>NaN</td>\n",
       "      <td>2017-10-13 12:56:40</td>\n",
       "      <td>10</td>\n",
       "      <td>4</td>\n",
       "    </tr>\n",
       "    <tr>\n",
       "      <th>758859</th>\n",
       "      <td>701554</td>\n",
       "      <td>295972</td>\n",
       "      <td>True</td>\n",
       "      <td>@97286 No. Demasiado caro. Lo siento, @97286, ...</td>\n",
       "      <td>822262,822263,822264</td>\n",
       "      <td>701546.0</td>\n",
       "      <td>2017-10-21 17:24:07</td>\n",
       "      <td>10</td>\n",
       "      <td>5</td>\n",
       "    </tr>\n",
       "  </tbody>\n",
       "</table>\n",
       "</div>"
      ],
      "text/plain": [
       "        tweet_id author_id  inbound  \\\n",
       "121          131     95972     True   \n",
       "366775    398930    195972     True   \n",
       "366777    398933    195972     True   \n",
       "366778    398931    195972     True   \n",
       "758859    701554    295972     True   \n",
       "\n",
       "                                                     text  \\\n",
       "121     the update made my fuckin flashlight stop work...   \n",
       "366775  @AmazonHelp Si, pero ya no soluciona nada, lo ...   \n",
       "366777  @AmazonHelp No voy a perder más tiempo en esto...   \n",
       "366778  Gracias por nada @96220 @99212 https://t.co/K2...   \n",
       "758859  @97286 No. Demasiado caro. Lo siento, @97286, ...   \n",
       "\n",
       "           response_tweet_id  in_response_to_tweet_id                date  \\\n",
       "121                      129                      NaN 2017-10-04 05:43:36   \n",
       "366775                398932                 398929.0 2017-10-13 13:12:57   \n",
       "366777                   NaN                 398932.0 2017-10-13 13:16:54   \n",
       "366778                398929                      NaN 2017-10-13 12:56:40   \n",
       "758859  822262,822263,822264                 701546.0 2017-10-21 17:24:07   \n",
       "\n",
       "        month  day  \n",
       "121        10    2  \n",
       "366775     10    4  \n",
       "366777     10    4  \n",
       "366778     10    4  \n",
       "758859     10    5  "
      ]
     },
     "execution_count": 53,
     "metadata": {},
     "output_type": "execute_result"
    }
   ],
   "source": [
    "testDF.head()"
   ]
  },
  {
   "cell_type": "code",
   "execution_count": 54,
   "metadata": {
    "ExecuteTime": {
     "end_time": "2017-11-29T03:37:37.209389Z",
     "start_time": "2017-11-29T03:37:37.204345Z"
    }
   },
   "outputs": [],
   "source": [
    "testDF.to_csv('../data/test.csv')"
   ]
  },
  {
   "cell_type": "code",
   "execution_count": null,
   "metadata": {},
   "outputs": [],
   "source": []
  },
  {
   "cell_type": "code",
   "execution_count": null,
   "metadata": {},
   "outputs": [],
   "source": []
  },
  {
   "cell_type": "code",
   "execution_count": null,
   "metadata": {},
   "outputs": [],
   "source": []
  },
  {
   "cell_type": "code",
   "execution_count": null,
   "metadata": {},
   "outputs": [],
   "source": []
  },
  {
   "cell_type": "code",
   "execution_count": null,
   "metadata": {},
   "outputs": [],
   "source": []
  },
  {
   "cell_type": "markdown",
   "metadata": {},
   "source": [
    "## Text Processing"
   ]
  },
  {
   "cell_type": "code",
   "execution_count": null,
   "metadata": {
    "ExecuteTime": {
     "end_time": "2017-11-25T02:25:16.070072Z",
     "start_time": "2017-11-25T02:25:16.066516Z"
    }
   },
   "outputs": [],
   "source": []
  },
  {
   "cell_type": "code",
   "execution_count": 55,
   "metadata": {
    "ExecuteTime": {
     "end_time": "2017-11-29T03:37:57.066781Z",
     "start_time": "2017-11-29T03:37:45.532490Z"
    }
   },
   "outputs": [
    {
     "name": "stdout",
     "output_type": "stream",
     "text": [
      "CPU times: user 11.4 s, sys: 152 ms, total: 11.5 s\n",
      "Wall time: 11.5 s\n"
     ]
    }
   ],
   "source": [
    "%time doc_clean = [clean(doc).split() for doc in appleDF.text]  "
   ]
  },
  {
   "cell_type": "code",
   "execution_count": 56,
   "metadata": {
    "ExecuteTime": {
     "end_time": "2017-11-29T03:37:57.072505Z",
     "start_time": "2017-11-29T03:37:57.068448Z"
    }
   },
   "outputs": [
    {
     "data": {
      "text/plain": [
       "['669057',\n",
       " 'critical',\n",
       " 'able',\n",
       " 'charge',\n",
       " 'iphone',\n",
       " 'try',\n",
       " 'step',\n",
       " 'section',\n",
       " 'if',\n",
       " 'alert',\n",
       " 'accessory',\n",
       " 'isnt',\n",
       " 'supported',\n",
       " 'certified',\n",
       " 'here',\n",
       " 'httpstcouqxquyfdn0',\n",
       " 'doesnt',\n",
       " 'help',\n",
       " 'exact',\n",
       " 'version',\n",
       " 'io',\n",
       " 'running',\n",
       " 'httpstcogdrqu22ypt']"
      ]
     },
     "execution_count": 56,
     "metadata": {},
     "output_type": "execute_result"
    }
   ],
   "source": [
    "doc_clean[-1][:]"
   ]
  },
  {
   "cell_type": "markdown",
   "metadata": {},
   "source": [
    "## Quick LDA"
   ]
  },
  {
   "cell_type": "code",
   "execution_count": 42,
   "metadata": {
    "ExecuteTime": {
     "end_time": "2017-11-27T19:38:26.751019Z",
     "start_time": "2017-11-27T19:38:26.317958Z"
    }
   },
   "outputs": [
    {
     "name": "stderr",
     "output_type": "stream",
     "text": [
      "Slow version of gensim.models.doc2vec is being used\n"
     ]
    }
   ],
   "source": [
    "import gensim\n",
    "from gensim import corpora"
   ]
  },
  {
   "cell_type": "code",
   "execution_count": 57,
   "metadata": {
    "ExecuteTime": {
     "end_time": "2017-11-27T20:11:21.705643Z",
     "start_time": "2017-11-27T20:11:19.274146Z"
    }
   },
   "outputs": [],
   "source": [
    "dictionary = corpora.Dictionary(doc_clean)"
   ]
  },
  {
   "cell_type": "code",
   "execution_count": 58,
   "metadata": {
    "ExecuteTime": {
     "end_time": "2017-11-27T20:11:24.699092Z",
     "start_time": "2017-11-27T20:11:22.705412Z"
    }
   },
   "outputs": [],
   "source": [
    "doc_term_matrix = [dictionary.doc2bow(doc) for doc in doc_clean]"
   ]
  },
  {
   "cell_type": "code",
   "execution_count": 45,
   "metadata": {
    "ExecuteTime": {
     "end_time": "2017-11-27T19:38:28.158252Z",
     "start_time": "2017-11-27T19:38:28.156064Z"
    }
   },
   "outputs": [],
   "source": [
    "lda = gensim.models.ldamodel.LdaModel"
   ]
  },
  {
   "cell_type": "code",
   "execution_count": 46,
   "metadata": {
    "ExecuteTime": {
     "end_time": "2017-11-27T19:58:44.090006Z",
     "start_time": "2017-11-27T19:38:28.159472Z"
    }
   },
   "outputs": [
    {
     "name": "stdout",
     "output_type": "stream",
     "text": [
      "CPU times: user 20min 18s, sys: 2.02 s, total: 20min 20s\n",
      "Wall time: 20min 15s\n"
     ]
    }
   ],
   "source": [
    "%time ldamodel = lda(doc_term_matrix, num_topics=5, id2word = dictionary, passes=10)"
   ]
  },
  {
   "cell_type": "code",
   "execution_count": 47,
   "metadata": {
    "ExecuteTime": {
     "end_time": "2017-11-27T19:58:44.100109Z",
     "start_time": "2017-11-27T19:58:44.091438Z"
    }
   },
   "outputs": [
    {
     "name": "stdout",
     "output_type": "stream",
     "text": [
      "[(0, '0.009*\"recently,update,fix,sure,back,device,prior,back\" + 0.006*\"fix\" + 0.004*\"happy,help\"'), (1, '0.019*\"help\" + 0.012*\"recently,fix,sure,back,device,prior,issue,afterwards,back\" + 0.008*\"reaching\"'), (2, '0.015*\"update,assist,issue,yet,please,back,device,update,check\" + 0.008*\"offer,support,help\" + 0.006*\"happy,detail,reach\"'), (3, '0.044*\"work,issue,fixed,future,update\" + 0.018*\"offer,support,help,preferred,language\" + 0.006*\"support,available,help\"'), (4, '0.007*\"continue\" + 0.005*\"reaching,help\" + 0.004*\"phone\"')]\n"
     ]
    }
   ],
   "source": [
    "print(ldamodel.print_topics(num_topics=5, num_words=3))"
   ]
  },
  {
   "cell_type": "code",
   "execution_count": 48,
   "metadata": {
    "ExecuteTime": {
     "end_time": "2017-11-27T19:58:44.111690Z",
     "start_time": "2017-11-27T19:58:44.101364Z"
    }
   },
   "outputs": [
    {
     "name": "stdout",
     "output_type": "stream",
     "text": [
      "Topic 0: Words: \n",
      "['recently,update,fix,sure,back,device,prior,back', 'fix', 'happy,help', 'welcome', 'together', 'reaching,always,happy,help']\n",
      "Topic 1: Words: \n",
      "['help', 'recently,fix,sure,back,device,prior,issue,afterwards,back', 'reaching', 'help,explore,ways,provide,assistance', 'version', 'update,assist,issue,yet,please,back,device,update,latest,version,check']\n",
      "Topic 2: Words: \n",
      "['update,assist,issue,yet,please,back,device,update,check', 'offer,support,help', 'happy,detail,reach', 'reaching,support,love,help,together', 'update', 'happy,assist,version,currently,running,version']\n",
      "Topic 3: Words: \n",
      "['work,issue,fixed,future,update', 'offer,support,help,preferred,language', 'support,available,help', 'sent', 'help,issue', 'help,version']\n",
      "Topic 4: Words: \n",
      "['continue', 'reaching,help', 'phone', 'gather,information,better,country', 'happy', 'still']\n"
     ]
    }
   ],
   "source": [
    "for topic in ldamodel.show_topics(num_topics=6, formatted=False, num_words=6):\n",
    "    print(\"Topic {}: Words: \".format(topic[0]))\n",
    "    topicwords = [w for (w, val) in topic[1]]\n",
    "    print(topicwords)"
   ]
  },
  {
   "cell_type": "code",
   "execution_count": 49,
   "metadata": {
    "ExecuteTime": {
     "end_time": "2017-11-27T19:58:45.777258Z",
     "start_time": "2017-11-27T19:58:44.112917Z"
    }
   },
   "outputs": [
    {
     "data": {
      "text/plain": [
       "['../models/lda.pkl']"
      ]
     },
     "execution_count": 49,
     "metadata": {},
     "output_type": "execute_result"
    }
   ],
   "source": [
    "joblib.dump(ldamodel, '../models/lda.pkl')"
   ]
  },
  {
   "cell_type": "markdown",
   "metadata": {},
   "source": [
    "## Multicore LDA"
   ]
  },
  {
   "cell_type": "code",
   "execution_count": 67,
   "metadata": {
    "ExecuteTime": {
     "end_time": "2017-11-27T20:45:48.338254Z",
     "start_time": "2017-11-27T20:41:01.585319Z"
    }
   },
   "outputs": [],
   "source": [
    "from gensim import corpora, models\n",
    "mlda = models.LdaMulticore(doc_term_matrix, num_topics=5, id2word = dictionary, passes=10, workers=8)"
   ]
  },
  {
   "cell_type": "code",
   "execution_count": 68,
   "metadata": {
    "ExecuteTime": {
     "end_time": "2017-11-27T20:45:48.350769Z",
     "start_time": "2017-11-27T20:45:48.339887Z"
    }
   },
   "outputs": [
    {
     "name": "stdout",
     "output_type": "stream",
     "text": [
      "[(0, '0.040*\"httpstcogdrqu22ypt\" + 0.038*\"issue\" + 0.034*\"version\"'), (1, '0.068*\"applesupport\" + 0.038*\"i️\" + 0.021*\"apple\"'), (2, '0.096*\"applesupport\" + 0.021*\"phone\" + 0.016*\"io\"'), (3, '0.057*\"help\" + 0.057*\"httpstcogdrqu22ypt\" + 0.022*\"wed\"'), (4, '0.043*\"httpstcogdrqu22ypt\" + 0.038*\"there\" + 0.028*\"well\"')]\n"
     ]
    }
   ],
   "source": [
    "print(mlda.print_topics(num_topics=5, num_words=3))"
   ]
  },
  {
   "cell_type": "code",
   "execution_count": 69,
   "metadata": {
    "ExecuteTime": {
     "end_time": "2017-11-27T20:45:48.364200Z",
     "start_time": "2017-11-27T20:45:48.352115Z"
    }
   },
   "outputs": [
    {
     "name": "stdout",
     "output_type": "stream",
     "text": [
      "Topic 0: Words: \n",
      "['httpstcogdrqu22ypt', 'issue', 'version', 'help', 'io', 'work']\n",
      "Topic 1: Words: \n",
      "['applesupport', 'i️', 'apple', 'iphone', 'app', 'music']\n",
      "Topic 2: Words: \n",
      "['applesupport', 'phone', 'io', 'iphone', 'update', 'fix']\n",
      "Topic 3: Words: \n",
      "['help', 'httpstcogdrqu22ypt', 'wed', 'here', 'let', 'you']\n",
      "Topic 4: Words: \n",
      "['httpstcogdrqu22ypt', 'there', 'well', 'io', 'go', 'let']\n"
     ]
    }
   ],
   "source": [
    "for topic in mlda.show_topics(num_topics=6, formatted=False, num_words=6):\n",
    "    print(\"Topic {}: Words: \".format(topic[0]))\n",
    "    topicwords = [w for (w, val) in topic[1]]\n",
    "    print(topicwords)"
   ]
  },
  {
   "cell_type": "code",
   "execution_count": null,
   "metadata": {},
   "outputs": [],
   "source": []
  },
  {
   "cell_type": "markdown",
   "metadata": {},
   "source": [
    "## LDA with SKLEARN"
   ]
  },
  {
   "cell_type": "markdown",
   "metadata": {},
   "source": [
    "### Count Vectorizer"
   ]
  },
  {
   "cell_type": "code",
   "execution_count": 62,
   "metadata": {
    "ExecuteTime": {
     "end_time": "2017-11-27T20:16:37.692566Z",
     "start_time": "2017-11-27T20:16:34.971838Z"
    }
   },
   "outputs": [],
   "source": [
    "cv_vectorizer = CountVectorizer(stop_words=stop)\n",
    "cv = cv_vectorizer.fit_transform(appleDF.text)\n",
    "cv_feature_names = cv_vectorizer.get_feature_names()"
   ]
  },
  {
   "cell_type": "code",
   "execution_count": 70,
   "metadata": {
    "ExecuteTime": {
     "end_time": "2017-11-27T21:06:12.721581Z",
     "start_time": "2017-11-27T21:06:12.719434Z"
    }
   },
   "outputs": [],
   "source": [
    "# lda = LatentDirichletAllocation(n_topics=5, max_iter=10, learning_method='online', learning_offset=50.,random_state=0,n_jobs=-1).fit(cv)"
   ]
  },
  {
   "cell_type": "code",
   "execution_count": null,
   "metadata": {
    "ExecuteTime": {
     "end_time": "2017-11-27T20:32:54.209676Z",
     "start_time": "2017-11-27T20:17:14.446Z"
    }
   },
   "outputs": [],
   "source": [
    "print(lda.print_topics(num_topics=5, num_words=3))"
   ]
  },
  {
   "cell_type": "code",
   "execution_count": null,
   "metadata": {
    "ExecuteTime": {
     "end_time": "2017-11-27T20:32:54.210369Z",
     "start_time": "2017-11-27T20:17:56.677Z"
    }
   },
   "outputs": [],
   "source": [
    "for topic in lda.show_topics(num_topics=6, formatted=False, num_words=6):\n",
    "    print(\"Topic {}: Words: \".format(topic[0]))\n",
    "    topicwords = [w for (w, val) in topic[1]]\n",
    "    print(topicwords)"
   ]
  },
  {
   "cell_type": "code",
   "execution_count": null,
   "metadata": {},
   "outputs": [],
   "source": []
  },
  {
   "cell_type": "markdown",
   "metadata": {
    "ExecuteTime": {
     "end_time": "2017-11-25T01:34:16.968542Z",
     "start_time": "2017-11-25T01:34:16.965865Z"
    }
   },
   "source": [
    "## Quick NMF"
   ]
  },
  {
   "cell_type": "markdown",
   "metadata": {},
   "source": [
    "### TF-IDF"
   ]
  },
  {
   "cell_type": "code",
   "execution_count": 90,
   "metadata": {
    "ExecuteTime": {
     "end_time": "2017-11-27T21:28:06.117167Z",
     "start_time": "2017-11-27T21:28:03.927185Z"
    }
   },
   "outputs": [],
   "source": [
    "tf = TfidfVectorizer(stop_words=stop,use_idf=True,token_pattern=\"\\\\b[a-z][a-z]+\\\\b\",max_df=.6,min_df=.05)\n",
    "x = tf.fit_transform(appleDF.text)\n",
    "tf_feature_names = tf.get_feature_names()"
   ]
  },
  {
   "cell_type": "code",
   "execution_count": 91,
   "metadata": {
    "ExecuteTime": {
     "end_time": "2017-11-27T21:28:06.121179Z",
     "start_time": "2017-11-27T21:28:06.118559Z"
    }
   },
   "outputs": [
    {
     "name": "stdout",
     "output_type": "stream",
     "text": [
      "(171517, 14)\n"
     ]
    }
   ],
   "source": [
    "print(x.shape)"
   ]
  },
  {
   "cell_type": "code",
   "execution_count": 92,
   "metadata": {
    "ExecuteTime": {
     "end_time": "2017-11-27T21:28:07.009201Z",
     "start_time": "2017-11-27T21:28:06.122403Z"
    }
   },
   "outputs": [],
   "source": [
    "nmf = NMF(n_components=5, init='random')\n",
    "nmf_fit = nmf.fit_transform(x)"
   ]
  },
  {
   "cell_type": "code",
   "execution_count": 93,
   "metadata": {
    "ExecuteTime": {
     "end_time": "2017-11-27T21:28:07.014792Z",
     "start_time": "2017-11-27T21:28:07.010790Z"
    }
   },
   "outputs": [
    {
     "data": {
      "text/plain": [
       "['../models/nmf.pkl']"
      ]
     },
     "execution_count": 93,
     "metadata": {},
     "output_type": "execute_result"
    }
   ],
   "source": [
    "joblib.dump(nmf, '../models/nmf.pkl')"
   ]
  },
  {
   "cell_type": "code",
   "execution_count": 94,
   "metadata": {
    "ExecuteTime": {
     "end_time": "2017-11-27T21:28:07.020313Z",
     "start_time": "2017-11-27T21:28:07.016230Z"
    }
   },
   "outputs": [
    {
     "name": "stdout",
     "output_type": "stream",
     "text": [
      "Topic 0:\n",
      "help happy device using version issue\n",
      "Topic 1:\n",
      "iphone ios version using device apple\n",
      "Topic 2:\n",
      "please happy device apple version using\n",
      "Topic 3:\n",
      "phone apple update ios using work\n",
      "Topic 4:\n",
      "update issue work software device ios\n"
     ]
    }
   ],
   "source": [
    "display_topics(nmf,tf_feature_names,6)"
   ]
  },
  {
   "cell_type": "markdown",
   "metadata": {
    "ExecuteTime": {
     "end_time": "2017-11-25T02:46:52.176966Z",
     "start_time": "2017-11-25T02:46:52.174049Z"
    }
   },
   "source": [
    "### Clean Apple Tweets"
   ]
  },
  {
   "cell_type": "code",
   "execution_count": 46,
   "metadata": {
    "ExecuteTime": {
     "end_time": "2017-11-26T23:22:51.463116Z",
     "start_time": "2017-11-26T23:22:35.435029Z"
    },
    "scrolled": true
   },
   "outputs": [
    {
     "name": "stderr",
     "output_type": "stream",
     "text": [
      "/home/xavier/anaconda3/lib/python3.6/site-packages/ipykernel_launcher.py:1: SettingWithCopyWarning: \n",
      "A value is trying to be set on a copy of a slice from a DataFrame.\n",
      "Try using .loc[row_indexer,col_indexer] = value instead\n",
      "\n",
      "See the caveats in the documentation: http://pandas.pydata.org/pandas-docs/stable/indexing.html#indexing-view-versus-copy\n",
      "  \"\"\"Entry point for launching an IPython kernel.\n"
     ]
    }
   ],
   "source": [
    "appleDF['clean'] = appleDF.text.apply(lambda x: process_tweet_text(x))"
   ]
  },
  {
   "cell_type": "code",
   "execution_count": 47,
   "metadata": {
    "ExecuteTime": {
     "end_time": "2017-11-26T23:22:51.478266Z",
     "start_time": "2017-11-26T23:22:51.464683Z"
    }
   },
   "outputs": [
    {
     "data": {
      "text/html": [
       "<div>\n",
       "<style scoped>\n",
       "    .dataframe tbody tr th:only-of-type {\n",
       "        vertical-align: middle;\n",
       "    }\n",
       "\n",
       "    .dataframe tbody tr th {\n",
       "        vertical-align: top;\n",
       "    }\n",
       "\n",
       "    .dataframe thead th {\n",
       "        text-align: right;\n",
       "    }\n",
       "</style>\n",
       "<table border=\"1\" class=\"dataframe\">\n",
       "  <thead>\n",
       "    <tr style=\"text-align: right;\">\n",
       "      <th></th>\n",
       "      <th>tweet_id</th>\n",
       "      <th>author_id</th>\n",
       "      <th>inbound</th>\n",
       "      <th>text</th>\n",
       "      <th>response_tweet_id</th>\n",
       "      <th>in_response_to_tweet_id</th>\n",
       "      <th>date</th>\n",
       "      <th>month</th>\n",
       "      <th>day</th>\n",
       "      <th>clean</th>\n",
       "    </tr>\n",
       "  </thead>\n",
       "  <tbody>\n",
       "    <tr>\n",
       "      <th>119</th>\n",
       "      <td>129</td>\n",
       "      <td>AppleSupport</td>\n",
       "      <td>False</td>\n",
       "      <td>@95972 Let's take a look at your flashlight to...</td>\n",
       "      <td>130</td>\n",
       "      <td>131.0</td>\n",
       "      <td>2017-10-04 13:04:26</td>\n",
       "      <td>10</td>\n",
       "      <td>2</td>\n",
       "      <td>flashlight,together,recently,version,number</td>\n",
       "    </tr>\n",
       "    <tr>\n",
       "      <th>120</th>\n",
       "      <td>130</td>\n",
       "      <td>95973</td>\n",
       "      <td>True</td>\n",
       "      <td>@AppleSupport @95972 i have the same problem w...</td>\n",
       "      <td>NaN</td>\n",
       "      <td>129.0</td>\n",
       "      <td>2017-10-04 22:10:17</td>\n",
       "      <td>10</td>\n",
       "      <td>2</td>\n",
       "      <td>problem,led,doesnt,work,since</td>\n",
       "    </tr>\n",
       "    <tr>\n",
       "      <th>309</th>\n",
       "      <td>385</td>\n",
       "      <td>AppleSupport</td>\n",
       "      <td>False</td>\n",
       "      <td>@96035 We want you to get the most out of your...</td>\n",
       "      <td>NaN</td>\n",
       "      <td>386.0</td>\n",
       "      <td>2017-10-04 12:33:00</td>\n",
       "      <td>10</td>\n",
       "      <td>2</td>\n",
       "      <td>happening,specifically</td>\n",
       "    </tr>\n",
       "    <tr>\n",
       "      <th>339</th>\n",
       "      <td>416</td>\n",
       "      <td>AppleSupport</td>\n",
       "      <td>False</td>\n",
       "      <td>@96041 We appreciate you letting us know, does...</td>\n",
       "      <td>NaN</td>\n",
       "      <td>417.0</td>\n",
       "      <td>2017-10-04 12:59:29</td>\n",
       "      <td>10</td>\n",
       "      <td>2</td>\n",
       "      <td>appreciate,happen,cellular,data</td>\n",
       "    </tr>\n",
       "    <tr>\n",
       "      <th>340</th>\n",
       "      <td>417</td>\n",
       "      <td>96041</td>\n",
       "      <td>True</td>\n",
       "      <td>@AppleSupport When you go to the App Store &amp;am...</td>\n",
       "      <td>416</td>\n",
       "      <td>418.0</td>\n",
       "      <td>2017-10-04 04:57:54</td>\n",
       "      <td>10</td>\n",
       "      <td>2</td>\n",
       "      <td>pick,randomly,image,video,sec,play,whole</td>\n",
       "    </tr>\n",
       "  </tbody>\n",
       "</table>\n",
       "</div>"
      ],
      "text/plain": [
       "     tweet_id     author_id  inbound  \\\n",
       "119       129  AppleSupport    False   \n",
       "120       130         95973     True   \n",
       "309       385  AppleSupport    False   \n",
       "339       416  AppleSupport    False   \n",
       "340       417         96041     True   \n",
       "\n",
       "                                                  text response_tweet_id  \\\n",
       "119  @95972 Let's take a look at your flashlight to...               130   \n",
       "120  @AppleSupport @95972 i have the same problem w...               NaN   \n",
       "309  @96035 We want you to get the most out of your...               NaN   \n",
       "339  @96041 We appreciate you letting us know, does...               NaN   \n",
       "340  @AppleSupport When you go to the App Store &am...               416   \n",
       "\n",
       "     in_response_to_tweet_id                date  month  day  \\\n",
       "119                    131.0 2017-10-04 13:04:26     10    2   \n",
       "120                    129.0 2017-10-04 22:10:17     10    2   \n",
       "309                    386.0 2017-10-04 12:33:00     10    2   \n",
       "339                    417.0 2017-10-04 12:59:29     10    2   \n",
       "340                    418.0 2017-10-04 04:57:54     10    2   \n",
       "\n",
       "                                           clean  \n",
       "119  flashlight,together,recently,version,number  \n",
       "120                problem,led,doesnt,work,since  \n",
       "309                       happening,specifically  \n",
       "339              appreciate,happen,cellular,data  \n",
       "340     pick,randomly,image,video,sec,play,whole  "
      ]
     },
     "execution_count": 47,
     "metadata": {},
     "output_type": "execute_result"
    }
   ],
   "source": [
    "appleDF.head()"
   ]
  },
  {
   "cell_type": "code",
   "execution_count": 53,
   "metadata": {
    "ExecuteTime": {
     "end_time": "2017-11-26T23:24:54.321769Z",
     "start_time": "2017-11-26T23:24:53.324503Z"
    }
   },
   "outputs": [],
   "source": [
    "tf2 = TfidfVectorizer(stop_words=stop,use_idf=True)\n",
    "x2 = tf2.fit_transform(appleDF.clean)\n",
    "tf2_feature_names = tf2.get_feature_names()"
   ]
  },
  {
   "cell_type": "code",
   "execution_count": 54,
   "metadata": {
    "ExecuteTime": {
     "end_time": "2017-11-26T23:24:57.666239Z",
     "start_time": "2017-11-26T23:24:54.878852Z"
    }
   },
   "outputs": [],
   "source": [
    "no_topics = 5\n",
    "nmf_model = NMF(n_components=no_topics,init='random').fit(x2)\n",
    "nmf_W = nmf_model.transform(x2)\n",
    "nmf_H = nmf_model.components_"
   ]
  },
  {
   "cell_type": "code",
   "execution_count": 55,
   "metadata": {
    "ExecuteTime": {
     "end_time": "2017-11-26T23:24:57.673121Z",
     "start_time": "2017-11-26T23:24:57.667942Z"
    }
   },
   "outputs": [
    {
     "name": "stdout",
     "output_type": "stream",
     "text": [
      "Topic 0:\n",
      "help happy support love offer\n",
      "Topic 1:\n",
      "fixed future work issue update\n",
      "Topic 2:\n",
      "version running happy currently exact\n",
      "Topic 3:\n",
      "continue reaching together happy working\n",
      "Topic 4:\n",
      "device fix back update phone\n"
     ]
    }
   ],
   "source": [
    "display_topics(nmf_model,tf2_feature_names,5)"
   ]
  },
  {
   "cell_type": "code",
   "execution_count": 56,
   "metadata": {
    "ExecuteTime": {
     "end_time": "2017-11-26T23:25:02.875404Z",
     "start_time": "2017-11-26T23:25:02.856016Z"
    }
   },
   "outputs": [],
   "source": [
    "documents = list(appleDF.text)"
   ]
  },
  {
   "cell_type": "code",
   "execution_count": 57,
   "metadata": {
    "ExecuteTime": {
     "end_time": "2017-11-26T23:25:03.121606Z",
     "start_time": "2017-11-26T23:25:03.068255Z"
    }
   },
   "outputs": [
    {
     "name": "stdout",
     "output_type": "stream",
     "text": [
      "Topic 0:\n",
      "help happy support love offer\n",
      "help me pls!! @95974 @AppleSupport https://t.co/rowd3uS2Wa\n",
      "@427347 We're here to help. Follow the steps here: https://t.co/xXaXeeSRt9 DM us if you have questions. https://t.co/GDrqU22YpT\n",
      "Topic 1:\n",
      "fixed future work issue update\n",
      "@510821 Here’s what you can do to work around the issue until it’s fixed in a future software update: https://t.co/xXaXeeSRt9 https://t.co/GDrqU22YpT\n",
      "@445073  Here’s what you can do to work around the issue until it’s fixed in a future software update: https://t.co/qODbOsp4wz\n",
      "Topic 2:\n",
      "version running happy currently exact\n",
      "@505168 We'd like to look into this with you. Can you let us know which iOS version you have installed? Send us a DM here: https://t.co/GDrqU2kzhr\n",
      "@619643 We'd like to look into this with you. Which watchOS version and iPhone are you using your Apple Watch with?\n",
      "Topic 3:\n",
      "continue reaching together happy working\n",
      "@636562 Thank you for reaching out. Please DM us and we will continue from there. https://t.co/GDrqU22YpT\n",
      "@412979 Thanks for reaching out. Please DM us to continue: https://t.co/GDrqU22YpT\n",
      "Topic 4:\n",
      "device fix back update phone\n",
      "@587119 We'd like to see if we can fix this. What device are you using? DM us and let us know. https://t.co/GDrqU22YpT\n",
      "@212771 We can help. What device are you using? Since the update, has there been any changes to how your device is used?\n"
     ]
    }
   ],
   "source": [
    "no_top_words = 5\n",
    "no_top_documents = 2\n",
    "display_topics2(nmf_H, nmf_W, tf2_feature_names, documents, no_top_words, no_top_documents)"
   ]
  },
  {
   "cell_type": "markdown",
   "metadata": {},
   "source": [
    "## Apple"
   ]
  },
  {
   "cell_type": "code",
   "execution_count": 392,
   "metadata": {
    "ExecuteTime": {
     "end_time": "2017-11-28T16:48:11.703463Z",
     "start_time": "2017-11-28T16:46:24.640069Z"
    }
   },
   "outputs": [
    {
     "name": "stdout",
     "output_type": "stream",
     "text": [
      "dataframe shape: (171517, 8)\n"
     ]
    }
   ],
   "source": [
    "appleNMF,appleFeatures,appleDist = get_topics('AppleSupport',5,df,maxdf=.6,stop=stop)"
   ]
  },
  {
   "cell_type": "code",
   "execution_count": 393,
   "metadata": {
    "ExecuteTime": {
     "end_time": "2017-11-28T16:48:11.712831Z",
     "start_time": "2017-11-28T16:48:11.704957Z"
    }
   },
   "outputs": [
    {
     "name": "stdout",
     "output_type": "stream",
     "text": [
      "Topic 0:\n",
      "future fixed software work update uqexsrrlxj\n",
      "Topic 1:\n",
      "iphone want battery issues ios phone\n",
      "Topic 2:\n",
      "ios version gt running device settings\n",
      "Topic 3:\n",
      "continue reaching together workaround working meet\n",
      "Topic 4:\n",
      "happy started go reach assist experiencing\n"
     ]
    }
   ],
   "source": [
    "display_topics(appleNMF,appleFeatures,6)"
   ]
  },
  {
   "cell_type": "code",
   "execution_count": 394,
   "metadata": {
    "ExecuteTime": {
     "end_time": "2017-11-28T16:48:11.719412Z",
     "start_time": "2017-11-28T16:48:11.714038Z"
    }
   },
   "outputs": [
    {
     "data": {
      "text/html": [
       "<div>\n",
       "<style scoped>\n",
       "    .dataframe tbody tr th:only-of-type {\n",
       "        vertical-align: middle;\n",
       "    }\n",
       "\n",
       "    .dataframe tbody tr th {\n",
       "        vertical-align: top;\n",
       "    }\n",
       "\n",
       "    .dataframe thead th {\n",
       "        text-align: right;\n",
       "    }\n",
       "</style>\n",
       "<table border=\"1\" class=\"dataframe\">\n",
       "  <thead>\n",
       "    <tr style=\"text-align: right;\">\n",
       "      <th></th>\n",
       "      <th>tweet_category</th>\n",
       "      <th>tweet_count</th>\n",
       "    </tr>\n",
       "  </thead>\n",
       "  <tbody>\n",
       "    <tr>\n",
       "      <th>1</th>\n",
       "      <td>1</td>\n",
       "      <td>76508</td>\n",
       "    </tr>\n",
       "    <tr>\n",
       "      <th>4</th>\n",
       "      <td>4</td>\n",
       "      <td>30784</td>\n",
       "    </tr>\n",
       "    <tr>\n",
       "      <th>2</th>\n",
       "      <td>2</td>\n",
       "      <td>27083</td>\n",
       "    </tr>\n",
       "    <tr>\n",
       "      <th>3</th>\n",
       "      <td>3</td>\n",
       "      <td>21614</td>\n",
       "    </tr>\n",
       "    <tr>\n",
       "      <th>0</th>\n",
       "      <td>0</td>\n",
       "      <td>15528</td>\n",
       "    </tr>\n",
       "  </tbody>\n",
       "</table>\n",
       "</div>"
      ],
      "text/plain": [
       "   tweet_category  tweet_count\n",
       "1               1        76508\n",
       "4               4        30784\n",
       "2               2        27083\n",
       "3               3        21614\n",
       "0               0        15528"
      ]
     },
     "execution_count": 394,
     "metadata": {},
     "output_type": "execute_result"
    }
   ],
   "source": [
    "appleDist"
   ]
  },
  {
   "cell_type": "markdown",
   "metadata": {},
   "source": [
    "## Microsoft"
   ]
  },
  {
   "cell_type": "markdown",
   "metadata": {},
   "source": [
    "### Topics"
   ]
  },
  {
   "cell_type": "code",
   "execution_count": 388,
   "metadata": {
    "ExecuteTime": {
     "end_time": "2017-11-28T16:45:43.161826Z",
     "start_time": "2017-11-28T16:45:36.533598Z"
    }
   },
   "outputs": [
    {
     "name": "stdout",
     "output_type": "stream",
     "text": [
      "dataframe shape: (17303, 8)\n"
     ]
    }
   ],
   "source": [
    "microNMF,microFeatures,microDist = get_topics('MicrosoftHelps',5,df,stop=stop)"
   ]
  },
  {
   "cell_type": "code",
   "execution_count": 389,
   "metadata": {
    "ExecuteTime": {
     "end_time": "2017-11-28T16:45:43.167804Z",
     "start_time": "2017-11-28T16:45:43.163203Z"
    }
   },
   "outputs": [
    {
     "name": "stdout",
     "output_type": "stream",
     "text": [
      "Topic 0:\n",
      "everything end good working checking experience\n",
      "Topic 1:\n",
      "improve survey answering twitter experience quick\n",
      "Topic 2:\n",
      "answer desk contact suggest case team\n",
      "Topic 3:\n",
      "free feel concern reach follow status\n",
      "Topic 4:\n",
      "windows update version changes steps prior\n"
     ]
    }
   ],
   "source": [
    "display_topics(microNMF,microFeatures,6)"
   ]
  },
  {
   "cell_type": "code",
   "execution_count": 390,
   "metadata": {
    "ExecuteTime": {
     "end_time": "2017-11-28T16:45:43.174179Z",
     "start_time": "2017-11-28T16:45:43.169081Z"
    }
   },
   "outputs": [
    {
     "data": {
      "text/html": [
       "<div>\n",
       "<style scoped>\n",
       "    .dataframe tbody tr th:only-of-type {\n",
       "        vertical-align: middle;\n",
       "    }\n",
       "\n",
       "    .dataframe tbody tr th {\n",
       "        vertical-align: top;\n",
       "    }\n",
       "\n",
       "    .dataframe thead th {\n",
       "        text-align: right;\n",
       "    }\n",
       "</style>\n",
       "<table border=\"1\" class=\"dataframe\">\n",
       "  <thead>\n",
       "    <tr style=\"text-align: right;\">\n",
       "      <th></th>\n",
       "      <th>tweet_category</th>\n",
       "      <th>tweet_count</th>\n",
       "    </tr>\n",
       "  </thead>\n",
       "  <tbody>\n",
       "    <tr>\n",
       "      <th>4</th>\n",
       "      <td>4</td>\n",
       "      <td>10937</td>\n",
       "    </tr>\n",
       "    <tr>\n",
       "      <th>2</th>\n",
       "      <td>2</td>\n",
       "      <td>2644</td>\n",
       "    </tr>\n",
       "    <tr>\n",
       "      <th>0</th>\n",
       "      <td>0</td>\n",
       "      <td>1500</td>\n",
       "    </tr>\n",
       "    <tr>\n",
       "      <th>3</th>\n",
       "      <td>3</td>\n",
       "      <td>1209</td>\n",
       "    </tr>\n",
       "    <tr>\n",
       "      <th>1</th>\n",
       "      <td>1</td>\n",
       "      <td>1013</td>\n",
       "    </tr>\n",
       "  </tbody>\n",
       "</table>\n",
       "</div>"
      ],
      "text/plain": [
       "   tweet_category  tweet_count\n",
       "4               4        10937\n",
       "2               2         2644\n",
       "0               0         1500\n",
       "3               3         1209\n",
       "1               1         1013"
      ]
     },
     "execution_count": 390,
     "metadata": {},
     "output_type": "execute_result"
    }
   ],
   "source": [
    "microDist"
   ]
  },
  {
   "cell_type": "markdown",
   "metadata": {},
   "source": [
    "## Dell"
   ]
  },
  {
   "cell_type": "markdown",
   "metadata": {},
   "source": [
    "### Topics"
   ]
  },
  {
   "cell_type": "code",
   "execution_count": 449,
   "metadata": {
    "ExecuteTime": {
     "end_time": "2017-11-28T19:27:07.936487Z",
     "start_time": "2017-11-28T19:27:04.174224Z"
    }
   },
   "outputs": [
    {
     "name": "stdout",
     "output_type": "stream",
     "text": [
      "dataframe shape: (6359, 8)\n"
     ]
    }
   ],
   "source": [
    "dellNMF,dellFeatures,dellDist = get_topics('DellCares',3,df,c=companies,stop=stop)"
   ]
  },
  {
   "cell_type": "code",
   "execution_count": 404,
   "metadata": {
    "ExecuteTime": {
     "end_time": "2017-11-28T16:49:17.286516Z",
     "start_time": "2017-11-28T16:49:17.283228Z"
    }
   },
   "outputs": [
    {
     "name": "stdout",
     "output_type": "stream",
     "text": [
      "Topic 0:\n",
      "tag service system registered owner email\n",
      "Topic 1:\n",
      "message direct replied follow responded check\n",
      "Topic 2:\n",
      "assist glad review looping order team\n"
     ]
    }
   ],
   "source": [
    "display_topics(dellNMF,dellFeatures,6)"
   ]
  },
  {
   "cell_type": "code",
   "execution_count": 405,
   "metadata": {
    "ExecuteTime": {
     "end_time": "2017-11-28T16:49:17.293056Z",
     "start_time": "2017-11-28T16:49:17.287763Z"
    }
   },
   "outputs": [
    {
     "data": {
      "text/html": [
       "<div>\n",
       "<style scoped>\n",
       "    .dataframe tbody tr th:only-of-type {\n",
       "        vertical-align: middle;\n",
       "    }\n",
       "\n",
       "    .dataframe tbody tr th {\n",
       "        vertical-align: top;\n",
       "    }\n",
       "\n",
       "    .dataframe thead th {\n",
       "        text-align: right;\n",
       "    }\n",
       "</style>\n",
       "<table border=\"1\" class=\"dataframe\">\n",
       "  <thead>\n",
       "    <tr style=\"text-align: right;\">\n",
       "      <th></th>\n",
       "      <th>tweet_category</th>\n",
       "      <th>tweet_count</th>\n",
       "    </tr>\n",
       "  </thead>\n",
       "  <tbody>\n",
       "    <tr>\n",
       "      <th>2</th>\n",
       "      <td>2</td>\n",
       "      <td>4286</td>\n",
       "    </tr>\n",
       "    <tr>\n",
       "      <th>0</th>\n",
       "      <td>0</td>\n",
       "      <td>1276</td>\n",
       "    </tr>\n",
       "    <tr>\n",
       "      <th>1</th>\n",
       "      <td>1</td>\n",
       "      <td>797</td>\n",
       "    </tr>\n",
       "  </tbody>\n",
       "</table>\n",
       "</div>"
      ],
      "text/plain": [
       "   tweet_category  tweet_count\n",
       "2               2         4286\n",
       "0               0         1276\n",
       "1               1          797"
      ]
     },
     "execution_count": 405,
     "metadata": {},
     "output_type": "execute_result"
    }
   ],
   "source": [
    "dellDist"
   ]
  },
  {
   "cell_type": "markdown",
   "metadata": {},
   "source": [
    "## HP"
   ]
  },
  {
   "cell_type": "code",
   "execution_count": 445,
   "metadata": {
    "ExecuteTime": {
     "end_time": "2017-11-28T17:15:49.517610Z",
     "start_time": "2017-11-28T17:15:44.847292Z"
    }
   },
   "outputs": [
    {
     "name": "stdout",
     "output_type": "stream",
     "text": [
      "dataframe shape: (10204, 8)\n"
     ]
    }
   ],
   "source": [
    "hpNMF,hpFeatures,hpDist = get_topics('HPSupport',3,df,maxdf = .4,c=companies,stop=stop)"
   ]
  },
  {
   "cell_type": "code",
   "execution_count": 446,
   "metadata": {
    "ExecuteTime": {
     "end_time": "2017-11-28T17:15:49.522456Z",
     "start_time": "2017-11-28T17:15:49.519028Z"
    }
   },
   "outputs": [
    {
     "name": "stdout",
     "output_type": "stream",
     "text": [
      "Topic 0:\n",
      "click private message better asmita trinity\n",
      "Topic 1:\n",
      "hear whether additional resolved yet close\n",
      "Topic 2:\n",
      "direct message vinod use susan printer\n"
     ]
    }
   ],
   "source": [
    "display_topics(hpNMF,hpFeatures,6)"
   ]
  },
  {
   "cell_type": "code",
   "execution_count": 447,
   "metadata": {
    "ExecuteTime": {
     "end_time": "2017-11-28T17:15:49.528883Z",
     "start_time": "2017-11-28T17:15:49.523695Z"
    }
   },
   "outputs": [
    {
     "data": {
      "text/html": [
       "<div>\n",
       "<style scoped>\n",
       "    .dataframe tbody tr th:only-of-type {\n",
       "        vertical-align: middle;\n",
       "    }\n",
       "\n",
       "    .dataframe tbody tr th {\n",
       "        vertical-align: top;\n",
       "    }\n",
       "\n",
       "    .dataframe thead th {\n",
       "        text-align: right;\n",
       "    }\n",
       "</style>\n",
       "<table border=\"1\" class=\"dataframe\">\n",
       "  <thead>\n",
       "    <tr style=\"text-align: right;\">\n",
       "      <th></th>\n",
       "      <th>tweet_category</th>\n",
       "      <th>tweet_count</th>\n",
       "    </tr>\n",
       "  </thead>\n",
       "  <tbody>\n",
       "    <tr>\n",
       "      <th>2</th>\n",
       "      <td>2</td>\n",
       "      <td>6941</td>\n",
       "    </tr>\n",
       "    <tr>\n",
       "      <th>0</th>\n",
       "      <td>0</td>\n",
       "      <td>1801</td>\n",
       "    </tr>\n",
       "    <tr>\n",
       "      <th>1</th>\n",
       "      <td>1</td>\n",
       "      <td>1462</td>\n",
       "    </tr>\n",
       "  </tbody>\n",
       "</table>\n",
       "</div>"
      ],
      "text/plain": [
       "   tweet_category  tweet_count\n",
       "2               2         6941\n",
       "0               0         1801\n",
       "1               1         1462"
      ]
     },
     "execution_count": 447,
     "metadata": {},
     "output_type": "execute_result"
    }
   ],
   "source": [
    "hpDist"
   ]
  },
  {
   "cell_type": "markdown",
   "metadata": {},
   "source": [
    "## Tech DF"
   ]
  },
  {
   "cell_type": "code",
   "execution_count": 414,
   "metadata": {
    "ExecuteTime": {
     "end_time": "2017-11-28T16:51:54.494326Z",
     "start_time": "2017-11-28T16:51:45.498320Z"
    }
   },
   "outputs": [
    {
     "name": "stdout",
     "output_type": "stream",
     "text": [
      "(171517, 8)\n",
      "(17303, 8)\n",
      "(6359, 8)\n",
      "(10204, 8)\n"
     ]
    }
   ],
   "source": [
    "techDF = get_industry(techlist,df)"
   ]
  },
  {
   "cell_type": "code",
   "execution_count": 415,
   "metadata": {
    "ExecuteTime": {
     "end_time": "2017-11-28T16:51:54.498727Z",
     "start_time": "2017-11-28T16:51:54.495735Z"
    }
   },
   "outputs": [
    {
     "data": {
      "text/plain": [
       "(205383, 8)"
      ]
     },
     "execution_count": 415,
     "metadata": {},
     "output_type": "execute_result"
    }
   ],
   "source": [
    "techDF.shape"
   ]
  },
  {
   "cell_type": "code",
   "execution_count": 424,
   "metadata": {
    "ExecuteTime": {
     "end_time": "2017-11-28T16:59:04.397376Z",
     "start_time": "2017-11-28T16:56:34.572685Z"
    }
   },
   "outputs": [],
   "source": [
    "techNMF,techFeatures,techDist = multi_get_topics(techDF,10,stop=stop,c=companies)\n",
    "# (companyDF,k,mdf,c=companies,stop=stop)"
   ]
  },
  {
   "cell_type": "code",
   "execution_count": null,
   "metadata": {},
   "outputs": [],
   "source": []
  },
  {
   "cell_type": "code",
   "execution_count": null,
   "metadata": {
    "ExecuteTime": {
     "end_time": "2017-11-28T16:49:32.313290Z",
     "start_time": "2017-11-28T16:49:25.627Z"
    }
   },
   "outputs": [],
   "source": [
    "techNMF,techFeatures,techDist = multi_get_topics(techDF,10,)"
   ]
  },
  {
   "cell_type": "code",
   "execution_count": 308,
   "metadata": {
    "ExecuteTime": {
     "end_time": "2017-11-28T16:23:27.571338Z",
     "start_time": "2017-11-28T16:23:27.564747Z"
    }
   },
   "outputs": [
    {
     "name": "stdout",
     "output_type": "stream",
     "text": [
      "Topic 0:\n",
      "thanks tweeting assistance use issue support\n",
      "Topic 1:\n",
      "help hey model issue please click\n",
      "Topic 2:\n",
      "reply assist better please click direct\n",
      "Topic 3:\n",
      "printer model use print tweeting issue\n",
      "Topic 4:\n",
      "back hear please issue still contact\n",
      "Topic 5:\n",
      "private click message please thanks better\n",
      "Topic 6:\n",
      "hppsdr ijkhelp print still hp message\n",
      "Topic 7:\n",
      "link direct message use please assistance\n",
      "Topic 8:\n",
      "hp support contact print please hey\n",
      "Topic 9:\n",
      "hpprnt hpcswus print message still printer\n"
     ]
    }
   ],
   "source": [
    "display_topics(techNMF,techFeatures,6)"
   ]
  },
  {
   "cell_type": "code",
   "execution_count": null,
   "metadata": {},
   "outputs": [],
   "source": []
  },
  {
   "cell_type": "code",
   "execution_count": null,
   "metadata": {},
   "outputs": [],
   "source": []
  },
  {
   "cell_type": "markdown",
   "metadata": {},
   "source": [
    "## Quick Cluster"
   ]
  },
  {
   "cell_type": "markdown",
   "metadata": {},
   "source": [
    "### Kmeans"
   ]
  },
  {
   "cell_type": "code",
   "execution_count": 58,
   "metadata": {
    "ExecuteTime": {
     "end_time": "2017-11-26T23:26:01.412218Z",
     "start_time": "2017-11-26T23:25:53.706662Z"
    }
   },
   "outputs": [
    {
     "name": "stdout",
     "output_type": "stream",
     "text": [
      "CPU times: user 308 ms, sys: 240 ms, total: 548 ms\n",
      "Wall time: 7.7 s\n"
     ]
    }
   ],
   "source": [
    "#without dimensionality reduction\n",
    "\n",
    "num_clusters = 5\n",
    "\n",
    "km = KMeans(n_clusters=num_clusters,init='k-means++',n_init=20,n_jobs=-1,max_iter=100)\n",
    "\n",
    "%time km.fit(x)\n",
    "\n",
    "clusters = km.labels_.tolist()"
   ]
  },
  {
   "cell_type": "code",
   "execution_count": 59,
   "metadata": {
    "ExecuteTime": {
     "end_time": "2017-11-26T23:26:01.419278Z",
     "start_time": "2017-11-26T23:26:01.413979Z"
    }
   },
   "outputs": [
    {
     "data": {
      "text/plain": [
       "['../models/doc_cluster.pkl']"
      ]
     },
     "execution_count": 59,
     "metadata": {},
     "output_type": "execute_result"
    }
   ],
   "source": [
    "joblib.dump(km,  '../models/doc_cluster.pkl')\n",
    "\n",
    "# km = joblib.load('doc_cluster.pkl')\n",
    "# clusters = km.labels_.tolist()"
   ]
  },
  {
   "cell_type": "code",
   "execution_count": 60,
   "metadata": {
    "ExecuteTime": {
     "end_time": "2017-11-26T23:26:01.516439Z",
     "start_time": "2017-11-26T23:26:01.420740Z"
    }
   },
   "outputs": [],
   "source": [
    "appleClusters = appleDF.copy()\n",
    "appleClusters['clusters'] = clusters\n",
    "\n",
    "#frame = pd.DataFrame(films, index = [clusters] , columns = ['rank', 'title', 'cluster', 'genre'])"
   ]
  },
  {
   "cell_type": "code",
   "execution_count": 61,
   "metadata": {
    "ExecuteTime": {
     "end_time": "2017-11-26T23:26:01.524120Z",
     "start_time": "2017-11-26T23:26:01.518195Z"
    }
   },
   "outputs": [
    {
     "data": {
      "text/plain": [
       "0    93927\n",
       "2    24611\n",
       "1    21735\n",
       "3    19018\n",
       "4    12226\n",
       "Name: clusters, dtype: int64"
      ]
     },
     "execution_count": 61,
     "metadata": {},
     "output_type": "execute_result"
    }
   ],
   "source": [
    "appleClusters.clusters.value_counts()"
   ]
  },
  {
   "cell_type": "code",
   "execution_count": 62,
   "metadata": {
    "ExecuteTime": {
     "end_time": "2017-11-26T23:26:01.539282Z",
     "start_time": "2017-11-26T23:26:01.525598Z"
    }
   },
   "outputs": [
    {
     "data": {
      "text/html": [
       "<div>\n",
       "<style scoped>\n",
       "    .dataframe tbody tr th:only-of-type {\n",
       "        vertical-align: middle;\n",
       "    }\n",
       "\n",
       "    .dataframe tbody tr th {\n",
       "        vertical-align: top;\n",
       "    }\n",
       "\n",
       "    .dataframe thead th {\n",
       "        text-align: right;\n",
       "    }\n",
       "</style>\n",
       "<table border=\"1\" class=\"dataframe\">\n",
       "  <thead>\n",
       "    <tr style=\"text-align: right;\">\n",
       "      <th></th>\n",
       "      <th>tweet_id</th>\n",
       "      <th>author_id</th>\n",
       "      <th>inbound</th>\n",
       "      <th>text</th>\n",
       "      <th>response_tweet_id</th>\n",
       "      <th>in_response_to_tweet_id</th>\n",
       "      <th>date</th>\n",
       "      <th>month</th>\n",
       "      <th>day</th>\n",
       "      <th>clean</th>\n",
       "      <th>clusters</th>\n",
       "    </tr>\n",
       "  </thead>\n",
       "  <tbody>\n",
       "    <tr>\n",
       "      <th>119</th>\n",
       "      <td>129</td>\n",
       "      <td>AppleSupport</td>\n",
       "      <td>False</td>\n",
       "      <td>@95972 Let's take a look at your flashlight to...</td>\n",
       "      <td>130</td>\n",
       "      <td>131.0</td>\n",
       "      <td>2017-10-04 13:04:26</td>\n",
       "      <td>10</td>\n",
       "      <td>2</td>\n",
       "      <td>flashlight,together,recently,version,number</td>\n",
       "      <td>1</td>\n",
       "    </tr>\n",
       "    <tr>\n",
       "      <th>120</th>\n",
       "      <td>130</td>\n",
       "      <td>95973</td>\n",
       "      <td>True</td>\n",
       "      <td>@AppleSupport @95972 i have the same problem w...</td>\n",
       "      <td>NaN</td>\n",
       "      <td>129.0</td>\n",
       "      <td>2017-10-04 22:10:17</td>\n",
       "      <td>10</td>\n",
       "      <td>2</td>\n",
       "      <td>problem,led,doesnt,work,since</td>\n",
       "      <td>0</td>\n",
       "    </tr>\n",
       "    <tr>\n",
       "      <th>309</th>\n",
       "      <td>385</td>\n",
       "      <td>AppleSupport</td>\n",
       "      <td>False</td>\n",
       "      <td>@96035 We want you to get the most out of your...</td>\n",
       "      <td>NaN</td>\n",
       "      <td>386.0</td>\n",
       "      <td>2017-10-04 12:33:00</td>\n",
       "      <td>10</td>\n",
       "      <td>2</td>\n",
       "      <td>happening,specifically</td>\n",
       "      <td>3</td>\n",
       "    </tr>\n",
       "    <tr>\n",
       "      <th>339</th>\n",
       "      <td>416</td>\n",
       "      <td>AppleSupport</td>\n",
       "      <td>False</td>\n",
       "      <td>@96041 We appreciate you letting us know, does...</td>\n",
       "      <td>NaN</td>\n",
       "      <td>417.0</td>\n",
       "      <td>2017-10-04 12:59:29</td>\n",
       "      <td>10</td>\n",
       "      <td>2</td>\n",
       "      <td>appreciate,happen,cellular,data</td>\n",
       "      <td>0</td>\n",
       "    </tr>\n",
       "    <tr>\n",
       "      <th>340</th>\n",
       "      <td>417</td>\n",
       "      <td>96041</td>\n",
       "      <td>True</td>\n",
       "      <td>@AppleSupport When you go to the App Store &amp;am...</td>\n",
       "      <td>416</td>\n",
       "      <td>418.0</td>\n",
       "      <td>2017-10-04 04:57:54</td>\n",
       "      <td>10</td>\n",
       "      <td>2</td>\n",
       "      <td>pick,randomly,image,video,sec,play,whole</td>\n",
       "      <td>0</td>\n",
       "    </tr>\n",
       "  </tbody>\n",
       "</table>\n",
       "</div>"
      ],
      "text/plain": [
       "     tweet_id     author_id  inbound  \\\n",
       "119       129  AppleSupport    False   \n",
       "120       130         95973     True   \n",
       "309       385  AppleSupport    False   \n",
       "339       416  AppleSupport    False   \n",
       "340       417         96041     True   \n",
       "\n",
       "                                                  text response_tweet_id  \\\n",
       "119  @95972 Let's take a look at your flashlight to...               130   \n",
       "120  @AppleSupport @95972 i have the same problem w...               NaN   \n",
       "309  @96035 We want you to get the most out of your...               NaN   \n",
       "339  @96041 We appreciate you letting us know, does...               NaN   \n",
       "340  @AppleSupport When you go to the App Store &am...               416   \n",
       "\n",
       "     in_response_to_tweet_id                date  month  day  \\\n",
       "119                    131.0 2017-10-04 13:04:26     10    2   \n",
       "120                    129.0 2017-10-04 22:10:17     10    2   \n",
       "309                    386.0 2017-10-04 12:33:00     10    2   \n",
       "339                    417.0 2017-10-04 12:59:29     10    2   \n",
       "340                    418.0 2017-10-04 04:57:54     10    2   \n",
       "\n",
       "                                           clean  clusters  \n",
       "119  flashlight,together,recently,version,number         1  \n",
       "120                problem,led,doesnt,work,since         0  \n",
       "309                       happening,specifically         3  \n",
       "339              appreciate,happen,cellular,data         0  \n",
       "340     pick,randomly,image,video,sec,play,whole         0  "
      ]
     },
     "execution_count": 62,
     "metadata": {},
     "output_type": "execute_result"
    }
   ],
   "source": [
    "appleClusters.head()"
   ]
  },
  {
   "cell_type": "code",
   "execution_count": 107,
   "metadata": {
    "ExecuteTime": {
     "end_time": "2017-11-26T19:10:31.786330Z",
     "start_time": "2017-11-26T19:10:31.732149Z"
    }
   },
   "outputs": [
    {
     "name": "stdout",
     "output_type": "stream",
     "text": [
      "Top terms per cluster:\n",
      "\n",
      "Cluster 0 words:"
     ]
    },
    {
     "ename": "NameError",
     "evalue": "name 'vocab_frame' is not defined",
     "output_type": "error",
     "traceback": [
      "\u001b[0;31m---------------------------------------------------------------------------\u001b[0m",
      "\u001b[0;31mNameError\u001b[0m                                 Traceback (most recent call last)",
      "\u001b[0;32m<ipython-input-107-0eec6f292577>\u001b[0m in \u001b[0;36m<module>\u001b[0;34m()\u001b[0m\n\u001b[1;32m      8\u001b[0m \u001b[0;34m\u001b[0m\u001b[0m\n\u001b[1;32m      9\u001b[0m     \u001b[0;32mfor\u001b[0m \u001b[0mind\u001b[0m \u001b[0;32min\u001b[0m \u001b[0morder_centroids\u001b[0m\u001b[0;34m[\u001b[0m\u001b[0mi\u001b[0m\u001b[0;34m,\u001b[0m \u001b[0;34m:\u001b[0m\u001b[0;36m6\u001b[0m\u001b[0;34m]\u001b[0m\u001b[0;34m:\u001b[0m \u001b[0;31m#replace 6 with n words per cluster\u001b[0m\u001b[0;34m\u001b[0m\u001b[0m\n\u001b[0;32m---> 10\u001b[0;31m         \u001b[0mprint\u001b[0m\u001b[0;34m(\u001b[0m\u001b[0;34m' %s'\u001b[0m \u001b[0;34m%\u001b[0m \u001b[0mvocab_frame\u001b[0m\u001b[0;34m.\u001b[0m\u001b[0mix\u001b[0m\u001b[0;34m[\u001b[0m\u001b[0mterms\u001b[0m\u001b[0;34m[\u001b[0m\u001b[0mind\u001b[0m\u001b[0;34m]\u001b[0m\u001b[0;34m.\u001b[0m\u001b[0msplit\u001b[0m\u001b[0;34m(\u001b[0m\u001b[0;34m' '\u001b[0m\u001b[0;34m)\u001b[0m\u001b[0;34m]\u001b[0m\u001b[0;34m.\u001b[0m\u001b[0mvalues\u001b[0m\u001b[0;34m.\u001b[0m\u001b[0mtolist\u001b[0m\u001b[0;34m(\u001b[0m\u001b[0;34m)\u001b[0m\u001b[0;34m[\u001b[0m\u001b[0;36m0\u001b[0m\u001b[0;34m]\u001b[0m\u001b[0;34m[\u001b[0m\u001b[0;36m0\u001b[0m\u001b[0;34m]\u001b[0m\u001b[0;34m.\u001b[0m\u001b[0mencode\u001b[0m\u001b[0;34m(\u001b[0m\u001b[0;34m'utf-8'\u001b[0m\u001b[0;34m,\u001b[0m \u001b[0;34m'ignore'\u001b[0m\u001b[0;34m)\u001b[0m\u001b[0;34m,\u001b[0m \u001b[0mend\u001b[0m\u001b[0;34m=\u001b[0m\u001b[0;34m','\u001b[0m\u001b[0;34m)\u001b[0m\u001b[0;34m\u001b[0m\u001b[0m\n\u001b[0m\u001b[1;32m     11\u001b[0m     \u001b[0mprint\u001b[0m\u001b[0;34m(\u001b[0m\u001b[0;34m)\u001b[0m \u001b[0;31m#add whitespace\u001b[0m\u001b[0;34m\u001b[0m\u001b[0m\n\u001b[1;32m     12\u001b[0m     \u001b[0mprint\u001b[0m\u001b[0;34m(\u001b[0m\u001b[0;34m)\u001b[0m \u001b[0;31m#add whitespace\u001b[0m\u001b[0;34m\u001b[0m\u001b[0m\n",
      "\u001b[0;31mNameError\u001b[0m: name 'vocab_frame' is not defined"
     ]
    }
   ],
   "source": [
    "print(\"Top terms per cluster:\")\n",
    "print()\n",
    "#sort cluster centers by proximity to centroid\n",
    "order_centroids = km.cluster_centers_.argsort()[:, ::-1] \n",
    "\n",
    "for i in range(num_clusters):\n",
    "    print(\"Cluster %d words:\" % i, end='')\n",
    "    \n",
    "    for ind in order_centroids[i, :6]: #replace 6 with n words per cluster\n",
    "        print(' %s' % vocab_frame.ix[terms[ind].split(' ')].values.tolist()[0][0].encode('utf-8', 'ignore'), end=',')\n",
    "    print() #add whitespace\n",
    "    print() #add whitespace\n",
    "    \n",
    "    print(\"Cluster %d titles:\" % i, end='')\n",
    "    for title in frame.ix[i]['title'].values.tolist():\n",
    "        print(' %s,' % title, end='')\n",
    "    print() #add whitespace\n",
    "    print() #add whitespace\n",
    "    \n",
    "print()\n",
    "print()\n"
   ]
  },
  {
   "cell_type": "markdown",
   "metadata": {
    "ExecuteTime": {
     "end_time": "2017-11-26T19:23:43.480629Z",
     "start_time": "2017-11-26T19:23:43.476349Z"
    }
   },
   "source": [
    "### Cosine Similarity"
   ]
  },
  {
   "cell_type": "code",
   "execution_count": 75,
   "metadata": {
    "ExecuteTime": {
     "end_time": "2017-11-26T20:15:05.837929Z",
     "start_time": "2017-11-26T20:15:05.835143Z"
    }
   },
   "outputs": [],
   "source": [
    "# from sklearn.metrics.pairwise import cosine_similarity\n",
    "# dist = 1 - cosine_similarity(x)"
   ]
  },
  {
   "cell_type": "markdown",
   "metadata": {},
   "source": [
    "### PCA Before TSNE?"
   ]
  },
  {
   "cell_type": "code",
   "execution_count": 80,
   "metadata": {
    "ExecuteTime": {
     "end_time": "2017-11-27T00:08:17.245893Z",
     "start_time": "2017-11-27T00:08:17.118893Z"
    }
   },
   "outputs": [
    {
     "name": "stdout",
     "output_type": "stream",
     "text": [
      "Explained variation per principal component: [ 0.32311738  0.25988292  0.17274012]\n"
     ]
    }
   ],
   "source": [
    "from sklearn.decomposition import PCA\n",
    "\n",
    "pca = PCA(n_components=3)\n",
    "pca_result = pca.fit_transform(nmf_W)\n",
    "\n",
    "# df['pca-one'] = pca_result[:,0]\n",
    "# df['pca-two'] = pca_result[:,1] \n",
    "# df['pca-three'] = pca_result[:,2]\n",
    "\n",
    "print('Explained variation per principal component: {}'.format(pca.explained_variance_ratio_))"
   ]
  },
  {
   "cell_type": "code",
   "execution_count": 81,
   "metadata": {
    "ExecuteTime": {
     "end_time": "2017-11-27T00:08:18.694788Z",
     "start_time": "2017-11-27T00:08:18.690895Z"
    }
   },
   "outputs": [
    {
     "data": {
      "text/plain": [
       "171517"
      ]
     },
     "execution_count": 81,
     "metadata": {},
     "output_type": "execute_result"
    }
   ],
   "source": [
    "len(pca_result)"
   ]
  },
  {
   "cell_type": "markdown",
   "metadata": {},
   "source": [
    "### TSNE"
   ]
  },
  {
   "cell_type": "code",
   "execution_count": 67,
   "metadata": {
    "ExecuteTime": {
     "end_time": "2017-11-26T16:39:15.795340Z",
     "start_time": "2017-11-26T15:13:27.962479Z"
    }
   },
   "outputs": [],
   "source": [
    "tsne_model = TSNE(n_components=2, random_state=0)\n",
    "results = tsne_model.fit_transform(nmf_W) "
   ]
  },
  {
   "cell_type": "code",
   "execution_count": 68,
   "metadata": {
    "ExecuteTime": {
     "end_time": "2017-11-26T16:39:15.812260Z",
     "start_time": "2017-11-26T16:39:15.797118Z"
    }
   },
   "outputs": [
    {
     "data": {
      "text/plain": [
       "['../models/tsne.pkl']"
      ]
     },
     "execution_count": 68,
     "metadata": {},
     "output_type": "execute_result"
    }
   ],
   "source": [
    "joblib.dump(tsne_model, '../models/tsne.pkl')"
   ]
  },
  {
   "cell_type": "code",
   "execution_count": 69,
   "metadata": {
    "ExecuteTime": {
     "end_time": "2017-11-26T16:39:28.197276Z",
     "start_time": "2017-11-26T16:39:15.815463Z"
    }
   },
   "outputs": [
    {
     "data": {
      "image/png": "[encoded data removed]",
      "text/plain": [
       "<matplotlib.figure.Figure at 0x1a17c2f9b0>"
      ]
     },
     "metadata": {},
     "output_type": "display_data"
    }
   ],
   "source": [
    "def get_coords(matrix2D):\n",
    "    x = []\n",
    "    y = []\n",
    "    for r in matrix2D:\n",
    "        x.append(r[0])\n",
    "        y.append(r[1])\n",
    "    return x, y\n",
    "\n",
    "x, y = get_coords(results)\n",
    "\n",
    "from sklearn.cluster import KMeans\n",
    "kmeans = KMeans(n_clusters=50, random_state=0).fit(nmf_W)\n",
    "\n",
    "# Scatter plot with colouring by kmeans labels:\n",
    "plt.scatter(x, y, alpha=0.4, c=kmeans.labels_, marker='o', s=30);"
   ]
  },
  {
   "cell_type": "code",
   "execution_count": null,
   "metadata": {
    "ExecuteTime": {
     "end_time": "2017-11-26T15:13:06.609157Z",
     "start_time": "2017-11-26T15:12:37.051Z"
    }
   },
   "outputs": [],
   "source": [
    "joblib.dump(kmeans, '../models/kmeans.pkl')"
   ]
  },
  {
   "cell_type": "code",
   "execution_count": 65,
   "metadata": {
    "ExecuteTime": {
     "end_time": "2017-11-26T15:13:16.690253Z",
     "start_time": "2017-11-26T15:13:16.665599Z"
    }
   },
   "outputs": [],
   "source": [
    "kmeans = joblib.load('../models/kmeans.pkl')"
   ]
  },
  {
   "cell_type": "markdown",
   "metadata": {},
   "source": [
    "### TSNE Tech Companies"
   ]
  },
  {
   "cell_type": "code",
   "execution_count": 265,
   "metadata": {
    "ExecuteTime": {
     "end_time": "2017-11-28T03:01:25.156428Z",
     "start_time": "2017-11-28T03:01:25.153298Z"
    }
   },
   "outputs": [],
   "source": [
    "techlist = ['AppleSupport','MicrosoftHelps','DellCares','HPSupport']"
   ]
  },
  {
   "cell_type": "code",
   "execution_count": 276,
   "metadata": {
    "ExecuteTime": {
     "end_time": "2017-11-28T03:08:16.184892Z",
     "start_time": "2017-11-28T03:08:07.220038Z"
    }
   },
   "outputs": [
    {
     "name": "stdout",
     "output_type": "stream",
     "text": [
      "(171517, 8)\n",
      "(17303, 8)\n",
      "(6359, 8)\n",
      "(10204, 8)\n"
     ]
    }
   ],
   "source": []
  },
  {
   "cell_type": "code",
   "execution_count": 277,
   "metadata": {
    "ExecuteTime": {
     "end_time": "2017-11-28T03:08:16.189399Z",
     "start_time": "2017-11-28T03:08:16.186297Z"
    }
   },
   "outputs": [
    {
     "data": {
      "text/plain": [
       "(205383, 8)"
      ]
     },
     "execution_count": 277,
     "metadata": {},
     "output_type": "execute_result"
    }
   ],
   "source": [
    "techDF.shape"
   ]
  },
  {
   "cell_type": "code",
   "execution_count": 278,
   "metadata": {
    "ExecuteTime": {
     "end_time": "2017-11-28T03:10:04.256803Z",
     "start_time": "2017-11-28T03:10:00.811113Z"
    }
   },
   "outputs": [],
   "source": [
    "tf3_vectorizer = TfidfVectorizer(stop_words=stop,use_idf=True)\n",
    "tf3 = tf3_vectorizer.fit_transform(techDF.text)\n",
    "tf3_feature_names = tf3_vectorizer.get_feature_names()"
   ]
  },
  {
   "cell_type": "code",
   "execution_count": 281,
   "metadata": {
    "ExecuteTime": {
     "end_time": "2017-11-28T03:10:59.970337Z",
     "start_time": "2017-11-28T03:10:21.484276Z"
    }
   },
   "outputs": [],
   "source": [
    "no_topics = 20\n",
    "nmf2_model = NMF(n_components=no_topics,init='random').fit(tf3)\n",
    "nmf2_W = nmf2_model.transform(tf3)\n",
    "nmf2_H = nmf2_model.components_"
   ]
  },
  {
   "cell_type": "code",
   "execution_count": 283,
   "metadata": {
    "ExecuteTime": {
     "end_time": "2017-11-28T04:50:35.558105Z",
     "start_time": "2017-11-28T03:14:04.714655Z"
    }
   },
   "outputs": [],
   "source": [
    "tsne_tech_model = TSNE(n_components=2, random_state=0)\n",
    "results = tsne_tech_model.fit_transform(nmf2_W) "
   ]
  },
  {
   "cell_type": "code",
   "execution_count": 284,
   "metadata": {
    "ExecuteTime": {
     "end_time": "2017-11-28T04:50:35.564444Z",
     "start_time": "2017-11-28T04:50:35.559686Z"
    }
   },
   "outputs": [
    {
     "data": {
      "text/plain": [
       "['../models/tech_tsne.pkl']"
      ]
     },
     "execution_count": 284,
     "metadata": {},
     "output_type": "execute_result"
    }
   ],
   "source": [
    "joblib.dump(tsne_tech_model, '../models/tech_tsne.pkl')"
   ]
  },
  {
   "cell_type": "code",
   "execution_count": 285,
   "metadata": {
    "ExecuteTime": {
     "end_time": "2017-11-28T04:50:57.330490Z",
     "start_time": "2017-11-28T04:50:35.565747Z"
    }
   },
   "outputs": [
    {
     "data": {
      "image/png": "[encoded data removed]",
      "text/plain": [
       "<matplotlib.figure.Figure at 0x7fbab6b5b3c8>"
      ]
     },
     "metadata": {},
     "output_type": "display_data"
    }
   ],
   "source": [
    "def get_coords(matrix2D):\n",
    "    x = []\n",
    "    y = []\n",
    "    for r in matrix2D:\n",
    "        x.append(r[0])\n",
    "        y.append(r[1])\n",
    "    return x, y\n",
    "\n",
    "x, y = get_coords(results)\n",
    "\n",
    "from sklearn.cluster import KMeans\n",
    "kmeans2 = KMeans(n_clusters=20, random_state=0).fit(nmf2_W)\n",
    "\n",
    "# Scatter plot with colouring by kmeans labels:\n",
    "plt.scatter(x, y, alpha=0.4, c=kmeans2.labels_, marker='o', s=30);"
   ]
  },
  {
   "cell_type": "code",
   "execution_count": null,
   "metadata": {},
   "outputs": [],
   "source": []
  },
  {
   "cell_type": "code",
   "execution_count": null,
   "metadata": {},
   "outputs": [],
   "source": []
  },
  {
   "cell_type": "code",
   "execution_count": null,
   "metadata": {},
   "outputs": [],
   "source": []
  },
  {
   "cell_type": "code",
   "execution_count": 1,
   "metadata": {
    "ExecuteTime": {
     "end_time": "2017-11-30T02:06:17.400746Z",
     "start_time": "2017-11-30T02:06:17.396669Z"
    }
   },
   "outputs": [],
   "source": [
    "mobilelist = ['ATT','TMobileHelp','sprintcare','VerizonSupport','BoostCare','USCellularCares']"
   ]
  },
  {
   "cell_type": "code",
   "execution_count": 286,
   "metadata": {
    "ExecuteTime": {
     "end_time": "2017-11-28T15:58:19.386660Z",
     "start_time": "2017-11-28T15:58:19.383625Z"
    }
   },
   "outputs": [],
   "source": [
    "musiclist= ['SpotifyCares','PandoraSupport','GooglePlayMusic']"
   ]
  },
  {
   "cell_type": "code",
   "execution_count": 287,
   "metadata": {
    "ExecuteTime": {
     "end_time": "2017-11-28T15:58:20.039231Z",
     "start_time": "2017-11-28T15:58:20.037232Z"
    }
   },
   "outputs": [],
   "source": [
    "shoppinglist = ['AmazonHelp','AskTarget','Walmart','NeweggService']"
   ]
  },
  {
   "cell_type": "code",
   "execution_count": null,
   "metadata": {},
   "outputs": [],
   "source": [
    "# foodlist = ['Postmates_Help','']"
   ]
  },
  {
   "cell_type": "markdown",
   "metadata": {},
   "source": [
    "### TSNE 2"
   ]
  },
  {
   "cell_type": "code",
   "execution_count": 82,
   "metadata": {
    "ExecuteTime": {
     "end_time": "2017-11-27T01:11:17.625116Z",
     "start_time": "2017-11-27T00:08:23.394752Z"
    }
   },
   "outputs": [],
   "source": [
    "tsne_model = TSNE(n_components=2, random_state=0)\n",
    "results = tsne_model.fit_transform(pca_result) "
   ]
  },
  {
   "cell_type": "code",
   "execution_count": 83,
   "metadata": {
    "ExecuteTime": {
     "end_time": "2017-11-27T01:11:50.744943Z",
     "start_time": "2017-11-27T01:11:17.626660Z"
    }
   },
   "outputs": [
    {
     "data": {
      "image/png": "[encoded data removed]",
      "text/plain": [
       "<matplotlib.figure.Figure at 0x7fab94ec3550>"
      ]
     },
     "metadata": {},
     "output_type": "display_data"
    }
   ],
   "source": [
    "def get_coords(matrix2D):\n",
    "    x = []\n",
    "    y = []\n",
    "    for r in matrix2D:\n",
    "        x.append(r[0])\n",
    "        y.append(r[1])\n",
    "    return x, y\n",
    "\n",
    "x, y = get_coords(results)\n",
    "\n",
    "\n",
    "kmeans2 = KMeans(n_clusters=50, random_state=0).fit(pca_result)\n",
    "\n",
    "# Scatter plot with colouring by kmeans labels:\n",
    "plt.scatter(x, y, alpha=0.4, c=kmeans2.labels_, marker='o', s=30);"
   ]
  },
  {
   "cell_type": "code",
   "execution_count": null,
   "metadata": {
    "ExecuteTime": {
     "end_time": "2017-11-26T23:30:33.888797Z",
     "start_time": "2017-11-26T23:30:05.227Z"
    }
   },
   "outputs": [],
   "source": [
    "print(kmeans.labels_)"
   ]
  },
  {
   "cell_type": "code",
   "execution_count": null,
   "metadata": {
    "ExecuteTime": {
     "end_time": "2017-11-26T23:30:33.889903Z",
     "start_time": "2017-11-26T23:30:16.851Z"
    }
   },
   "outputs": [],
   "source": [
    "labels = kmeans.predict(nmf_H)"
   ]
  },
  {
   "cell_type": "code",
   "execution_count": 84,
   "metadata": {
    "ExecuteTime": {
     "end_time": "2017-11-27T01:22:10.835367Z",
     "start_time": "2017-11-27T01:22:10.829117Z"
    }
   },
   "outputs": [
    {
     "data": {
      "text/plain": [
       "['../models/tsne2.pkl']"
      ]
     },
     "execution_count": 84,
     "metadata": {},
     "output_type": "execute_result"
    }
   ],
   "source": [
    "joblib.dump(tsne_model, '../models/tsne2.pkl')"
   ]
  },
  {
   "cell_type": "code",
   "execution_count": null,
   "metadata": {},
   "outputs": [],
   "source": []
  }
 ],
 "metadata": {
  "kernelspec": {
   "display_name": "Python 3",
   "language": "python",
   "name": "python3"
  },
  "language_info": {
   "codemirror_mode": {
    "name": "ipython",
    "version": 3
   },
   "file_extension": ".py",
   "mimetype": "text/x-python",
   "name": "python",
   "nbconvert_exporter": "python",
   "pygments_lexer": "ipython3",
   "version": "3.6.3"
  },
  "toc": {
   "nav_menu": {},
   "number_sections": true,
   "sideBar": true,
   "skip_h1_title": true,
   "toc_cell": false,
   "toc_position": {
    "height": "877px",
    "left": "0px",
    "right": "1239px",
    "top": "111px",
    "width": "145px"
   },
   "toc_section_display": "block",
   "toc_window_display": true
  }
 },
 "nbformat": 4,
 "nbformat_minor": 2
}

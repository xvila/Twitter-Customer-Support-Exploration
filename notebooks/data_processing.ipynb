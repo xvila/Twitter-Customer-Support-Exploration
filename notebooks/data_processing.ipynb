{
 "cells": [
  {
   "cell_type": "code",
   "execution_count": 1,
   "metadata": {
    "ExecuteTime": {
     "end_time": "2017-11-21T20:55:12.367926Z",
     "start_time": "2017-11-21T20:55:10.519246Z"
    }
   },
   "outputs": [],
   "source": [
    "import pandas as pd\n",
    "import numpy as np\n",
    "from textblob import TextBlob\n",
    "import nltk\n",
    "from nltk.corpus import stopwords\n",
    "from sklearn.feature_extraction.text import TfidfVectorizer\n",
    "from sklearn.feature_extraction.text import CountVectorizer\n",
    "from nltk.tokenize import sent_tokenize\n",
    "from nltk.tokenize import word_tokenize\n",
    "\n",
    "%matplotlib inline\n",
    "import seaborn as sns\n",
    "import matplotlib.pyplot as plt\n",
    "plt.style.use('fivethirtyeight')"
   ]
  },
  {
   "cell_type": "markdown",
   "metadata": {},
   "source": [
    "## Import Data"
   ]
  },
  {
   "cell_type": "code",
   "execution_count": 9,
   "metadata": {
    "ExecuteTime": {
     "end_time": "2017-11-21T20:55:36.598340Z",
     "start_time": "2017-11-21T20:55:30.915230Z"
    }
   },
   "outputs": [
    {
     "name": "stdout",
     "output_type": "stream",
     "text": [
      "CPU times: user 4.31 s, sys: 316 ms, total: 4.63 s\n",
      "Wall time: 4.62 s\n"
     ]
    }
   ],
   "source": [
    "%time df = pd.read_csv('../data/twcs.csv')"
   ]
  },
  {
   "cell_type": "markdown",
   "metadata": {},
   "source": [
    "## EDA"
   ]
  },
  {
   "cell_type": "code",
   "execution_count": 3,
   "metadata": {
    "ExecuteTime": {
     "end_time": "2017-11-21T20:55:41.348969Z",
     "start_time": "2017-11-21T20:55:41.337515Z"
    }
   },
   "outputs": [
    {
     "data": {
      "text/plain": [
       "(1904290, 7)"
      ]
     },
     "execution_count": 3,
     "metadata": {},
     "output_type": "execute_result"
    }
   ],
   "source": [
    "df.shape"
   ]
  },
  {
   "cell_type": "code",
   "execution_count": 4,
   "metadata": {
    "ExecuteTime": {
     "end_time": "2017-11-21T20:56:03.567823Z",
     "start_time": "2017-11-21T20:56:03.561989Z"
    }
   },
   "outputs": [
    {
     "data": {
      "text/plain": [
       "['tweet_id',\n",
       " 'author_id',\n",
       " 'inbound',\n",
       " 'created_at',\n",
       " 'text',\n",
       " 'response_tweet_id',\n",
       " 'in_response_to_tweet_id']"
      ]
     },
     "execution_count": 4,
     "metadata": {},
     "output_type": "execute_result"
    }
   ],
   "source": [
    "df.columns.tolist()"
   ]
  },
  {
   "cell_type": "code",
   "execution_count": 5,
   "metadata": {
    "ExecuteTime": {
     "end_time": "2017-11-21T20:56:11.970623Z",
     "start_time": "2017-11-21T20:56:11.934547Z"
    }
   },
   "outputs": [
    {
     "data": {
      "text/html": [
       "<div>\n",
       "<style scoped>\n",
       "    .dataframe tbody tr th:only-of-type {\n",
       "        vertical-align: middle;\n",
       "    }\n",
       "\n",
       "    .dataframe tbody tr th {\n",
       "        vertical-align: top;\n",
       "    }\n",
       "\n",
       "    .dataframe thead th {\n",
       "        text-align: right;\n",
       "    }\n",
       "</style>\n",
       "<table border=\"1\" class=\"dataframe\">\n",
       "  <thead>\n",
       "    <tr style=\"text-align: right;\">\n",
       "      <th></th>\n",
       "      <th>tweet_id</th>\n",
       "      <th>author_id</th>\n",
       "      <th>inbound</th>\n",
       "      <th>created_at</th>\n",
       "      <th>text</th>\n",
       "      <th>response_tweet_id</th>\n",
       "      <th>in_response_to_tweet_id</th>\n",
       "    </tr>\n",
       "  </thead>\n",
       "  <tbody>\n",
       "    <tr>\n",
       "      <th>0</th>\n",
       "      <td>1</td>\n",
       "      <td>sainsburys</td>\n",
       "      <td>False</td>\n",
       "      <td>Fri Nov 03 19:56:25 +0000 2017</td>\n",
       "      <td>@83897 ...He'll pass your thanks on to them an...</td>\n",
       "      <td>NaN</td>\n",
       "      <td>2.0</td>\n",
       "    </tr>\n",
       "    <tr>\n",
       "      <th>1</th>\n",
       "      <td>2</td>\n",
       "      <td>83897</td>\n",
       "      <td>True</td>\n",
       "      <td>Thu Nov 02 19:52:44 +0000 2017</td>\n",
       "      <td>@sainsburys Sorry no. It was the staff on at t...</td>\n",
       "      <td>1,3</td>\n",
       "      <td>4.0</td>\n",
       "    </tr>\n",
       "    <tr>\n",
       "      <th>2</th>\n",
       "      <td>4</td>\n",
       "      <td>sainsburys</td>\n",
       "      <td>False</td>\n",
       "      <td>Thu Nov 02 19:15:01 +0000 2017</td>\n",
       "      <td>@83897 How nice! Did you catch their name at a...</td>\n",
       "      <td>2</td>\n",
       "      <td>5.0</td>\n",
       "    </tr>\n",
       "    <tr>\n",
       "      <th>3</th>\n",
       "      <td>5</td>\n",
       "      <td>83897</td>\n",
       "      <td>True</td>\n",
       "      <td>Thu Nov 02 13:08:24 +0000 2017</td>\n",
       "      <td>Lovely friendly staff @sainsburys cafe Bretton...</td>\n",
       "      <td>4</td>\n",
       "      <td>NaN</td>\n",
       "    </tr>\n",
       "    <tr>\n",
       "      <th>4</th>\n",
       "      <td>6</td>\n",
       "      <td>sainsburys</td>\n",
       "      <td>False</td>\n",
       "      <td>Fri Nov 03 19:51:06 +0000 2017</td>\n",
       "      <td>@83898 Oh no! Sorry about that Tom. Could you ...</td>\n",
       "      <td>7</td>\n",
       "      <td>8.0</td>\n",
       "    </tr>\n",
       "  </tbody>\n",
       "</table>\n",
       "</div>"
      ],
      "text/plain": [
       "   tweet_id   author_id  inbound                      created_at  \\\n",
       "0         1  sainsburys    False  Fri Nov 03 19:56:25 +0000 2017   \n",
       "1         2       83897     True  Thu Nov 02 19:52:44 +0000 2017   \n",
       "2         4  sainsburys    False  Thu Nov 02 19:15:01 +0000 2017   \n",
       "3         5       83897     True  Thu Nov 02 13:08:24 +0000 2017   \n",
       "4         6  sainsburys    False  Fri Nov 03 19:51:06 +0000 2017   \n",
       "\n",
       "                                                text response_tweet_id  \\\n",
       "0  @83897 ...He'll pass your thanks on to them an...               NaN   \n",
       "1  @sainsburys Sorry no. It was the staff on at t...               1,3   \n",
       "2  @83897 How nice! Did you catch their name at a...                 2   \n",
       "3  Lovely friendly staff @sainsburys cafe Bretton...                 4   \n",
       "4  @83898 Oh no! Sorry about that Tom. Could you ...                 7   \n",
       "\n",
       "   in_response_to_tweet_id  \n",
       "0                      2.0  \n",
       "1                      4.0  \n",
       "2                      5.0  \n",
       "3                      NaN  \n",
       "4                      8.0  "
      ]
     },
     "execution_count": 5,
     "metadata": {},
     "output_type": "execute_result"
    }
   ],
   "source": [
    "df.head()"
   ]
  },
  {
   "cell_type": "code",
   "execution_count": 6,
   "metadata": {
    "ExecuteTime": {
     "end_time": "2017-11-21T20:57:28.294722Z",
     "start_time": "2017-11-21T20:57:28.280457Z"
    }
   },
   "outputs": [
    {
     "name": "stdout",
     "output_type": "stream",
     "text": [
      "<class 'pandas.core.frame.DataFrame'>\n",
      "RangeIndex: 1904290 entries, 0 to 1904289\n",
      "Data columns (total 7 columns):\n",
      "tweet_id                   int64\n",
      "author_id                  object\n",
      "inbound                    bool\n",
      "created_at                 object\n",
      "text                       object\n",
      "response_tweet_id          object\n",
      "in_response_to_tweet_id    float64\n",
      "dtypes: bool(1), float64(1), int64(1), object(4)\n",
      "memory usage: 89.0+ MB\n"
     ]
    }
   ],
   "source": [
    "df.info()"
   ]
  },
  {
   "cell_type": "code",
   "execution_count": 7,
   "metadata": {
    "ExecuteTime": {
     "end_time": "2017-11-21T21:06:30.063829Z",
     "start_time": "2017-11-21T21:01:05.216731Z"
    }
   },
   "outputs": [
    {
     "name": "stdout",
     "output_type": "stream",
     "text": [
      "CPU times: user 5min 55s, sys: 4 ms, total: 5min 55s\n",
      "Wall time: 5min 55s\n"
     ]
    }
   ],
   "source": [
    "%time df['date'] = pd.to_datetime(df.created_at)"
   ]
  },
  {
   "cell_type": "code",
   "execution_count": 8,
   "metadata": {
    "ExecuteTime": {
     "end_time": "2017-11-21T21:06:55.225995Z",
     "start_time": "2017-11-21T21:06:55.203471Z"
    }
   },
   "outputs": [
    {
     "data": {
      "text/html": [
       "<div>\n",
       "<style scoped>\n",
       "    .dataframe tbody tr th:only-of-type {\n",
       "        vertical-align: middle;\n",
       "    }\n",
       "\n",
       "    .dataframe tbody tr th {\n",
       "        vertical-align: top;\n",
       "    }\n",
       "\n",
       "    .dataframe thead th {\n",
       "        text-align: right;\n",
       "    }\n",
       "</style>\n",
       "<table border=\"1\" class=\"dataframe\">\n",
       "  <thead>\n",
       "    <tr style=\"text-align: right;\">\n",
       "      <th></th>\n",
       "      <th>tweet_id</th>\n",
       "      <th>author_id</th>\n",
       "      <th>inbound</th>\n",
       "      <th>created_at</th>\n",
       "      <th>text</th>\n",
       "      <th>response_tweet_id</th>\n",
       "      <th>in_response_to_tweet_id</th>\n",
       "      <th>date</th>\n",
       "    </tr>\n",
       "  </thead>\n",
       "  <tbody>\n",
       "    <tr>\n",
       "      <th>0</th>\n",
       "      <td>1</td>\n",
       "      <td>sainsburys</td>\n",
       "      <td>False</td>\n",
       "      <td>Fri Nov 03 19:56:25 +0000 2017</td>\n",
       "      <td>@83897 ...He'll pass your thanks on to them an...</td>\n",
       "      <td>NaN</td>\n",
       "      <td>2.0</td>\n",
       "      <td>2017-11-03 19:56:25</td>\n",
       "    </tr>\n",
       "    <tr>\n",
       "      <th>1</th>\n",
       "      <td>2</td>\n",
       "      <td>83897</td>\n",
       "      <td>True</td>\n",
       "      <td>Thu Nov 02 19:52:44 +0000 2017</td>\n",
       "      <td>@sainsburys Sorry no. It was the staff on at t...</td>\n",
       "      <td>1,3</td>\n",
       "      <td>4.0</td>\n",
       "      <td>2017-11-02 19:52:44</td>\n",
       "    </tr>\n",
       "    <tr>\n",
       "      <th>2</th>\n",
       "      <td>4</td>\n",
       "      <td>sainsburys</td>\n",
       "      <td>False</td>\n",
       "      <td>Thu Nov 02 19:15:01 +0000 2017</td>\n",
       "      <td>@83897 How nice! Did you catch their name at a...</td>\n",
       "      <td>2</td>\n",
       "      <td>5.0</td>\n",
       "      <td>2017-11-02 19:15:01</td>\n",
       "    </tr>\n",
       "    <tr>\n",
       "      <th>3</th>\n",
       "      <td>5</td>\n",
       "      <td>83897</td>\n",
       "      <td>True</td>\n",
       "      <td>Thu Nov 02 13:08:24 +0000 2017</td>\n",
       "      <td>Lovely friendly staff @sainsburys cafe Bretton...</td>\n",
       "      <td>4</td>\n",
       "      <td>NaN</td>\n",
       "      <td>2017-11-02 13:08:24</td>\n",
       "    </tr>\n",
       "    <tr>\n",
       "      <th>4</th>\n",
       "      <td>6</td>\n",
       "      <td>sainsburys</td>\n",
       "      <td>False</td>\n",
       "      <td>Fri Nov 03 19:51:06 +0000 2017</td>\n",
       "      <td>@83898 Oh no! Sorry about that Tom. Could you ...</td>\n",
       "      <td>7</td>\n",
       "      <td>8.0</td>\n",
       "      <td>2017-11-03 19:51:06</td>\n",
       "    </tr>\n",
       "  </tbody>\n",
       "</table>\n",
       "</div>"
      ],
      "text/plain": [
       "   tweet_id   author_id  inbound                      created_at  \\\n",
       "0         1  sainsburys    False  Fri Nov 03 19:56:25 +0000 2017   \n",
       "1         2       83897     True  Thu Nov 02 19:52:44 +0000 2017   \n",
       "2         4  sainsburys    False  Thu Nov 02 19:15:01 +0000 2017   \n",
       "3         5       83897     True  Thu Nov 02 13:08:24 +0000 2017   \n",
       "4         6  sainsburys    False  Fri Nov 03 19:51:06 +0000 2017   \n",
       "\n",
       "                                                text response_tweet_id  \\\n",
       "0  @83897 ...He'll pass your thanks on to them an...               NaN   \n",
       "1  @sainsburys Sorry no. It was the staff on at t...               1,3   \n",
       "2  @83897 How nice! Did you catch their name at a...                 2   \n",
       "3  Lovely friendly staff @sainsburys cafe Bretton...                 4   \n",
       "4  @83898 Oh no! Sorry about that Tom. Could you ...                 7   \n",
       "\n",
       "   in_response_to_tweet_id                date  \n",
       "0                      2.0 2017-11-03 19:56:25  \n",
       "1                      4.0 2017-11-02 19:52:44  \n",
       "2                      5.0 2017-11-02 19:15:01  \n",
       "3                      NaN 2017-11-02 13:08:24  \n",
       "4                      8.0 2017-11-03 19:51:06  "
      ]
     },
     "execution_count": 8,
     "metadata": {},
     "output_type": "execute_result"
    }
   ],
   "source": [
    "df.head()"
   ]
  },
  {
   "cell_type": "code",
   "execution_count": null,
   "metadata": {},
   "outputs": [],
   "source": []
  }
 ],
 "metadata": {
  "kernelspec": {
   "display_name": "Python 3",
   "language": "python",
   "name": "python3"
  },
  "language_info": {
   "codemirror_mode": {
    "name": "ipython",
    "version": 3
   },
   "file_extension": ".py",
   "mimetype": "text/x-python",
   "name": "python",
   "nbconvert_exporter": "python",
   "pygments_lexer": "ipython3",
   "version": "3.6.3"
  },
  "toc": {
   "nav_menu": {},
   "number_sections": true,
   "sideBar": true,
   "skip_h1_title": true,
   "toc_cell": false,
   "toc_position": {},
   "toc_section_display": "block",
   "toc_window_display": true
  }
 },
 "nbformat": 4,
 "nbformat_minor": 2
}

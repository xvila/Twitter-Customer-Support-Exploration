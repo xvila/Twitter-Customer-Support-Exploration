{
 "cells": [
  {
   "cell_type": "code",
   "execution_count": 2,
   "metadata": {
    "ExecuteTime": {
     "end_time": "2017-12-09T23:36:09.046599Z",
     "start_time": "2017-12-09T23:36:08.310999Z"
    }
   },
   "outputs": [],
   "source": [
    "import pandas as pd\n",
    "import numpy as np\n",
    "from textblob import TextBlob\n",
    "import nltk\n",
    "import re\n",
    "import string\n",
    "from nltk.corpus import stopwords\n",
    "from sklearn.feature_extraction.text import TfidfVectorizer\n",
    "from sklearn.feature_extraction.text import CountVectorizer\n",
    "from nltk.stem.wordnet import WordNetLemmatizer\n",
    "from sklearn.decomposition import NMF, LatentDirichletAllocation\n",
    "from nltk.tokenize import sent_tokenize\n",
    "from nltk.tokenize import word_tokenize\n",
    "from nltk.tokenize import TweetTokenizer\n",
    "from sklearn.externals import joblib\n",
    "from sklearn.cluster import KMeans\n",
    "from sklearn.manifold import TSNE\n",
    "\n",
    "%matplotlib inline\n",
    "import seaborn as sns\n",
    "import matplotlib.pyplot as plt\n",
    "plt.style.use('fivethirtyeight')"
   ]
  },
  {
   "cell_type": "code",
   "execution_count": 3,
   "metadata": {
    "ExecuteTime": {
     "end_time": "2017-12-09T23:36:09.061235Z",
     "start_time": "2017-12-09T23:36:09.048058Z"
    }
   },
   "outputs": [],
   "source": [
    "companies = ['nikesupport','xboxsupport','upshelp','comcastcares','amazonhelp','jetblue','americanair',\n",
    "             'tacobellteam','mcdonalds','kimpton','ihgservice','spotifycares','hiltonhelp','applesupport',\n",
    "             'microsofthelps','googleplaymusic','scsupport','pandorasupport','hoteltonightcx','dunkindonuts',\n",
    "             'jackbox','chipotletweets','askpanera','carlsjr','att','tmobilehelp','sprintcare','verizonsupport',\n",
    "             'boostcare','uscellularcares','alaskaair','virginamerica','virginatlantic','delta','british_airways',\n",
    "             'southwestair','awssupport','twittersupport','askplaystation','neweggservice','dropboxsupport',\n",
    "             'hpsupport','atviassist','azuresupport','nortonsupport','dellcares','hulu_support','askrobinhood',\n",
    "             'officesupport','arbyscares','pearsonsupport','yahoocare','idea_cares','airtel_care','coxhelp',\n",
    "             'kfc_uki_help','asurioncares','adobecare','glocare','sizehelpteam','airasiasupport','safaricom_care',\n",
    "             'oppocarein','bofa_help','chasesupport','askciti','ask_wellsfargo','keybank_help','moo','centurylinkhelp',\n",
    "             'mediatemplehelp','godaddyhelp','postmates_help','doordash_help','airbnbhelp','uber_support','asklyft',\n",
    "             'askseagate','ask_spectrum','askpaypal','asksalesforce','askvirginmoney','askdsc','askpapajohns','askrbc',\n",
    "             'askebay','asktigogh','vmucare','askamex','ask_progressive','mtnc_care','askvisa','tesco','sainsburys',\n",
    "             'walmart','asktarget','morrisons','aldiuk','argoshelpers','greggsofficial','marksandspencer','virgintrains',\n",
    "             'nationalrailenq','sw_help','londonmidland','gwrhelp','tfl','o2']"
   ]
  },
  {
   "cell_type": "markdown",
   "metadata": {
    "ExecuteTime": {
     "end_time": "2017-11-25T02:11:37.044837Z",
     "start_time": "2017-11-25T02:11:37.042179Z"
    }
   },
   "source": [
    "## Functions"
   ]
  },
  {
   "cell_type": "markdown",
   "metadata": {
    "ExecuteTime": {
     "end_time": "2017-11-25T02:11:45.056560Z",
     "start_time": "2017-11-25T02:11:45.054275Z"
    }
   },
   "source": [
    "### Display Topics"
   ]
  },
  {
   "cell_type": "code",
   "execution_count": 4,
   "metadata": {
    "ExecuteTime": {
     "end_time": "2017-12-09T23:36:10.244097Z",
     "start_time": "2017-12-09T23:36:10.240516Z"
    }
   },
   "outputs": [],
   "source": [
    "def display_topics(model, feature_names, no_top_words):\n",
    "    for topic_idx, topic in enumerate(model.components_):\n",
    "        print (\"Topic %d:\" % (topic_idx))\n",
    "        print (\" \".join([feature_names[i]\n",
    "                        for i in topic.argsort()[:-no_top_words - 1:-1]]))"
   ]
  },
  {
   "cell_type": "code",
   "execution_count": 5,
   "metadata": {
    "ExecuteTime": {
     "end_time": "2017-12-09T23:36:10.721052Z",
     "start_time": "2017-12-09T23:36:10.714569Z"
    }
   },
   "outputs": [],
   "source": [
    "def display_topics2(H, W, feature_names, documents, no_top_words, no_top_documents):\n",
    "    for topic_idx, topic in enumerate(H):\n",
    "        print(\"Topic %d:\" % (topic_idx))\n",
    "        print(\" \".join([feature_names[i]\n",
    "                        for i in topic.argsort()[:-no_top_words - 1:-1]]))\n",
    "        top_doc_indices = np.argsort( W[:,topic_idx] )[::-1][0:no_top_documents]\n",
    "        for doc_index in top_doc_indices:\n",
    "            print(documents[doc_index])"
   ]
  },
  {
   "cell_type": "markdown",
   "metadata": {},
   "source": [
    "### Topic Distribution"
   ]
  },
  {
   "cell_type": "code",
   "execution_count": 6,
   "metadata": {
    "ExecuteTime": {
     "end_time": "2017-12-09T23:36:11.793552Z",
     "start_time": "2017-12-09T23:36:11.777066Z"
    }
   },
   "outputs": [],
   "source": [
    "def topic_distribution(df,model):\n",
    "    unique_tweets = list(set(df.tweet_id))\n",
    "    topic_list = []\n",
    "    for tweet in unique_tweets:\n",
    "        topic_mean = np.mean(model[df['tweet_id'] == tweet], axis=0)\n",
    "        #print(max(topic_mean))\n",
    "        itemindex = np.where(topic_mean==max(topic_mean))\n",
    "        itemindex = topic_mean.argsort()[-3:][::-1]\n",
    "        #print (int(itemindex[0]))\n",
    "        topic_tweet = {\"tweet_count\":tweet,\"tweet_category\":int(itemindex[0])}\n",
    "        topic_list.append(topic_tweet)\n",
    "    \n",
    "    topics_df = pd.DataFrame(topic_list) \n",
    "    topics_df.head(30)\n",
    "    topicGroup = topics_df.groupby('tweet_category').tweet_count.count().reset_index()\n",
    "    topicGroup.sort_values('tweet_count',ascending=False, inplace=True)\n",
    "    \n",
    "    return topicGroup"
   ]
  },
  {
   "cell_type": "code",
   "execution_count": 7,
   "metadata": {
    "ExecuteTime": {
     "end_time": "2017-12-09T23:36:12.355334Z",
     "start_time": "2017-12-09T23:36:12.339585Z"
    }
   },
   "outputs": [],
   "source": [
    "def topic_distribution2(df,model):\n",
    "    unique_tweets = list(set(df.tweet_id_x))\n",
    "    topic_list = []\n",
    "    for tweet in unique_tweets:\n",
    "        topic_mean = np.mean(model[df['tweet_id_x'] == tweet], axis=0)\n",
    "        #print(max(topic_mean))\n",
    "        itemindex = np.where(topic_mean==max(topic_mean))\n",
    "        itemindex = topic_mean.argsort()[-3:][::-1]\n",
    "        #print (int(itemindex[0]))\n",
    "        topic_tweet = {\"tweet_count\":tweet,\"tweet_category\":int(itemindex[0])}\n",
    "        topic_list.append(topic_tweet)\n",
    "    \n",
    "    topics_df = pd.DataFrame(topic_list) \n",
    "    topics_df.head(30)\n",
    "    topicGroup = topics_df.groupby('tweet_category').tweet_count.count().reset_index()\n",
    "    topicGroup.sort_values('tweet_count',ascending=False, inplace=True)\n",
    "    \n",
    "    return topicGroup"
   ]
  },
  {
   "cell_type": "markdown",
   "metadata": {},
   "source": [
    "### Stop Words"
   ]
  },
  {
   "cell_type": "code",
   "execution_count": 8,
   "metadata": {
    "ExecuteTime": {
     "end_time": "2017-12-09T23:36:13.441734Z",
     "start_time": "2017-12-09T23:36:13.439659Z"
    }
   },
   "outputs": [],
   "source": [
    "c = [word.lower() for word in companies]"
   ]
  },
  {
   "cell_type": "code",
   "execution_count": 106,
   "metadata": {
    "ExecuteTime": {
     "end_time": "2017-12-10T01:01:17.064861Z",
     "start_time": "2017-12-10T01:01:17.059498Z"
    }
   },
   "outputs": [],
   "source": [
    "stop = set(stopwords.words('english')+ \\\n",
    "    ['rt','amp', 'via', 'one', 'around', 'would', 'let', 'could', 'going', 'like', 'get', 'may', 'says', 'say', 'make',\n",
    "        'based', 'even', 'another', 'completely', 'way', 'find', 'used', 'thing', '2017', 'see', 'need',\n",
    "        'know','knows', 'think', 'thinks', 'take', 'new', 'day', 'days','https','co','dm','us','look', 'hi','tried'\n",
    "    'want','send','still','back','hello','using','tried','link','thanks','thank','error','help','please','issue',\n",
    "    'assistance','support','details','name','address','reply','assist','ijkhelp','since','go','got','getting',\n",
    "    'setting','really']+c)\n"
   ]
  },
  {
   "cell_type": "code",
   "execution_count": 10,
   "metadata": {
    "ExecuteTime": {
     "end_time": "2017-12-09T23:36:13.826247Z",
     "start_time": "2017-12-09T23:36:13.824304Z"
    }
   },
   "outputs": [],
   "source": [
    "exclude = set(string.punctuation)"
   ]
  },
  {
   "cell_type": "code",
   "execution_count": 11,
   "metadata": {
    "ExecuteTime": {
     "end_time": "2017-12-09T23:36:14.011537Z",
     "start_time": "2017-12-09T23:36:14.009618Z"
    }
   },
   "outputs": [],
   "source": [
    "lemma = WordNetLemmatizer()"
   ]
  },
  {
   "cell_type": "code",
   "execution_count": 12,
   "metadata": {
    "ExecuteTime": {
     "end_time": "2017-12-09T23:36:14.252734Z",
     "start_time": "2017-12-09T23:36:14.124919Z"
    }
   },
   "outputs": [],
   "source": [
    "english_vocab = set(w.lower() for w in nltk.corpus.words.words())"
   ]
  },
  {
   "cell_type": "markdown",
   "metadata": {},
   "source": [
    "### Get Topics"
   ]
  },
  {
   "cell_type": "code",
   "execution_count": 13,
   "metadata": {
    "ExecuteTime": {
     "end_time": "2017-12-09T23:36:14.491258Z",
     "start_time": "2017-12-09T23:36:14.470811Z"
    }
   },
   "outputs": [],
   "source": [
    "def get_topics(company,k,d,mindf=1,maxdf=1.0,c=companies,stop=stop):\n",
    "    ''' Takes a company and then runs NMF to get the topics. \n",
    "    Returns model and feature names.\n",
    "    \n",
    "    Parameters:\n",
    "    company: str name of company \n",
    "    k: int components for nmf\n",
    "    d: dataframe containing tweets'''\n",
    "    c = [word.lower() for word in c]\n",
    "    stop = list(stop)\n",
    "    stop.extend(c)\n",
    "    stop = set(stop)\n",
    "    \n",
    "    companyDF = d[d['author_id'].str.contains(company) | d['text'].str.contains(company)]\n",
    "    print('dataframe shape:',companyDF.shape)\n",
    "    \n",
    "    func_tf_vectorizer = TfidfVectorizer(stop_words=stop,use_idf=True,token_pattern=\"\\\\b[a-z][a-z]+\\\\b\",max_df=maxdf,min_df=mindf)\n",
    "    func_tf = func_tf_vectorizer.fit_transform(companyDF.text)\n",
    "    func_tf_feature_names = func_tf_vectorizer.get_feature_names()\n",
    "    func_nmf = NMF(n_components=k, init='random')\n",
    "    func_nmf_fit = func_nmf.fit_transform(func_tf)\n",
    "    \n",
    "    topic_dist = topic_distribution(companyDF,func_nmf_fit)\n",
    "    \n",
    "    return func_nmf,func_tf_feature_names, topic_dist"
   ]
  },
  {
   "cell_type": "code",
   "execution_count": 14,
   "metadata": {
    "ExecuteTime": {
     "end_time": "2017-12-09T23:36:14.669088Z",
     "start_time": "2017-12-09T23:36:14.637194Z"
    }
   },
   "outputs": [],
   "source": [
    "def get_topics_customer(company,k,d,mindf=1,maxdf=1.0,c=companies,stop=stop):\n",
    "    ''' Takes a company and then runs NMF to get the topics. \n",
    "    Returns model and feature names.\n",
    "    \n",
    "    Parameters:\n",
    "    company: str name of company \n",
    "    k: int components for nmf\n",
    "    d: dataframe containing tweets'''\n",
    "    c = [word.lower() for word in c]\n",
    "    stop = list(stop)\n",
    "    stop.extend(c)\n",
    "    stop = set(stop)\n",
    "    \n",
    "    companyDF = d[d['author_id_y'].str.contains(company)]\n",
    "    print('dataframe shape:',companyDF.shape)\n",
    "    \n",
    "    func_tf_vectorizer = TfidfVectorizer(stop_words=stop,use_idf=True,token_pattern=\"\\\\b[a-z][a-z]+\\\\b\",max_df=maxdf,min_df=mindf)\n",
    "    func_tf = func_tf_vectorizer.fit_transform(companyDF.text_x)\n",
    "    func_tf_feature_names = func_tf_vectorizer.get_feature_names()\n",
    "    func_nmf = NMF(n_components=k, init='random')\n",
    "    func_nmf_fit = func_nmf.fit_transform(func_tf)\n",
    "    \n",
    "    topic_dist = topic_distribution2(companyDF,func_nmf_fit)\n",
    "    \n",
    "    return func_nmf,func_tf_feature_names, topic_dist"
   ]
  },
  {
   "cell_type": "code",
   "execution_count": 15,
   "metadata": {
    "ExecuteTime": {
     "end_time": "2017-12-09T23:36:14.861047Z",
     "start_time": "2017-12-09T23:36:14.841980Z"
    }
   },
   "outputs": [],
   "source": [
    "def get_topics_company(company,k,d,mindf=1,maxdf=1.0,c=companies,stop=stop):\n",
    "    ''' Takes a company and then runs NMF to get the topics. \n",
    "    Returns model and feature names.\n",
    "    \n",
    "    Parameters:\n",
    "    company: str name of company \n",
    "    k: int components for nmf\n",
    "    d: dataframe containing tweets'''\n",
    "    c = [word.lower() for word in c]\n",
    "    stop = list(stop)\n",
    "    stop.extend(c)\n",
    "    stop = set(stop)\n",
    "    \n",
    "    companyDF = d[d['author_id_y'].str.contains(company)]\n",
    "    print('dataframe shape:',companyDF.shape)\n",
    "    \n",
    "    func_tf_vectorizer = TfidfVectorizer(stop_words=stop,use_idf=True,token_pattern=\"\\\\b[a-z][a-z]+\\\\b\",max_df=maxdf,min_df=mindf)\n",
    "    func_tf = func_tf_vectorizer.fit_transform(companyDF.text_y)\n",
    "    func_tf_feature_names = func_tf_vectorizer.get_feature_names()\n",
    "    func_nmf = NMF(n_components=k, init='random')\n",
    "    func_nmf_fit = func_nmf.fit_transform(func_tf)\n",
    "    \n",
    "    topic_dist = topic_distribution2(companyDF,func_nmf_fit)\n",
    "    \n",
    "    return func_nmf,func_tf_feature_names, topic_dist"
   ]
  },
  {
   "cell_type": "code",
   "execution_count": 16,
   "metadata": {
    "ExecuteTime": {
     "end_time": "2017-12-09T23:36:14.968090Z",
     "start_time": "2017-12-09T23:36:14.950772Z"
    }
   },
   "outputs": [],
   "source": [
    "def multi_get_topics(companyDF,k,mindf=1,maxdf=1.0,c=companies,stop=stop):\n",
    "    ''' Takes a company and then runs NMF to get the topics. \n",
    "    Returns model and feature names.\n",
    "    \n",
    "    Parameters:\n",
    "    company: str name of company \n",
    "    k: int components for nmf\n",
    "    d: dataframe containing tweets'''\n",
    "\n",
    "    c = [word.lower() for word in c]\n",
    "    stop = list(stop)\n",
    "    stop.extend(c)\n",
    "    stop = set(stop)\n",
    "    \n",
    "#     companyDF = d[d['author_id'].str.contains(company) | d['text'].str.contains(company)]\n",
    "#     print('dataframe shape:',companyDF.shape)\n",
    "    \n",
    "    func2_tf_vectorizer = TfidfVectorizer(stop_words=stop,use_idf=True,token_pattern=\"\\\\b[a-z][a-z]+\\\\b\",max_df=maxdf,min_df=mindf)\n",
    "    func2_tf = func2_tf_vectorizer.fit_transform(companyDF.text)\n",
    "    func2_tf_feature_names = func2_tf_vectorizer.get_feature_names()\n",
    "    func2_nmf = NMF(n_components=k, init='random')\n",
    "    func2_nmf_fit = func2_nmf.fit_transform(func2_tf)\n",
    "    \n",
    "    topic2_dist = topic_distribution2(companyDF,func2_nmf_fit)\n",
    "    \n",
    "    return func2_nmf,func2_tf_feature_names, topic2_dist"
   ]
  },
  {
   "cell_type": "code",
   "execution_count": 17,
   "metadata": {
    "ExecuteTime": {
     "end_time": "2017-12-09T23:36:15.263082Z",
     "start_time": "2017-12-09T23:36:15.245543Z"
    }
   },
   "outputs": [],
   "source": [
    "def multi_get_topics_customer(companyDF,k,mindf=1,maxdf=1.0,c=companies,stop=stop):\n",
    "    ''' Takes a company and then runs NMF to get the topics. \n",
    "    Returns model and feature names.\n",
    "    \n",
    "    Parameters:\n",
    "    company: str name of company \n",
    "    k: int components for nmf\n",
    "    d: dataframe containing tweets'''\n",
    "\n",
    "    c = [word.lower() for word in c]\n",
    "    stop = list(stop)\n",
    "    stop.extend(c)\n",
    "    stop = set(stop)\n",
    "    \n",
    "#     companyDF = d[d['author_id'].str.contains(company) | d['text'].str.contains(company)]\n",
    "#     print('dataframe shape:',companyDF.shape)\n",
    "    \n",
    "    func2_tf_vectorizer = TfidfVectorizer(stop_words=stop,use_idf=True,token_pattern=\"\\\\b[a-z][a-z]+\\\\b\",max_df=maxdf,min_df=mindf)\n",
    "    func2_tf = func2_tf_vectorizer.fit_transform(companyDF.text_x)\n",
    "    func2_tf_feature_names = func2_tf_vectorizer.get_feature_names()\n",
    "    func2_nmf = NMF(n_components=k, init='random')\n",
    "    func2_nmf_fit = func2_nmf.fit_transform(func2_tf)\n",
    "    \n",
    "    topic2_dist = topic_distribution2(companyDF,func2_nmf_fit)\n",
    "    \n",
    "    return func2_nmf,func2_tf_feature_names, topic2_dist"
   ]
  },
  {
   "cell_type": "markdown",
   "metadata": {},
   "source": [
    "### Get Industry DataFrame"
   ]
  },
  {
   "cell_type": "code",
   "execution_count": 18,
   "metadata": {
    "ExecuteTime": {
     "end_time": "2017-12-09T23:36:15.724914Z",
     "start_time": "2017-12-09T23:36:15.719052Z"
    }
   },
   "outputs": [],
   "source": [
    "def get_industry(companylist,data):\n",
    "    industryDF = pd.DataFrame()\n",
    "    for company in companylist:\n",
    "        newDF = data[data['author_id'].str.contains(company) | data['text'].str.contains(company)]\n",
    "        print(newDF.shape)\n",
    "        industryDF = industryDF.append(newDF)\n",
    "        \n",
    "    return industryDF"
   ]
  },
  {
   "cell_type": "code",
   "execution_count": 19,
   "metadata": {
    "ExecuteTime": {
     "end_time": "2017-12-09T23:36:16.465721Z",
     "start_time": "2017-12-09T23:36:16.460678Z"
    }
   },
   "outputs": [],
   "source": [
    "def get_industry_io(companylist,data):\n",
    "    industryDF = pd.DataFrame()\n",
    "    for company in companylist:\n",
    "        newDF = data[data['author_id_y'].str.contains(company)]\n",
    "        print(newDF.shape)\n",
    "        industryDF = industryDF.append(newDF)\n",
    "        \n",
    "    return industryDF"
   ]
  },
  {
   "cell_type": "markdown",
   "metadata": {},
   "source": [
    "### Lemmatize and Tokenize"
   ]
  },
  {
   "cell_type": "code",
   "execution_count": 20,
   "metadata": {
    "ExecuteTime": {
     "end_time": "2017-12-09T23:36:17.272296Z",
     "start_time": "2017-12-09T23:36:17.267295Z"
    }
   },
   "outputs": [],
   "source": [
    "def clean(doc):\n",
    "    stop_free = \" \".join([i for i in doc.lower().split() if i not in stop])\n",
    "    punc_free = ''.join(ch for ch in stop_free if ch not in exclude)\n",
    "    normalized = \" \".join(lemma.lemmatize(word) for word in punc_free.split())\n",
    "    return normalized"
   ]
  },
  {
   "cell_type": "markdown",
   "metadata": {},
   "source": [
    "### Process Tweet Text"
   ]
  },
  {
   "cell_type": "code",
   "execution_count": 100,
   "metadata": {
    "ExecuteTime": {
     "end_time": "2017-12-10T00:53:57.962905Z",
     "start_time": "2017-12-10T00:53:57.954492Z"
    }
   },
   "outputs": [],
   "source": [
    "def process_tweet_text(tweet, stop=stop):\n",
    "    if tweet.startswith('@null'):\n",
    "        return \"[Tweet not available]\"\n",
    "    tweet = re.sub(r'\\$\\w*','',tweet) # Remove tickers\n",
    "    tweet = re.sub(r'https?:\\/\\/.*\\/\\w*','',tweet) # Remove hyperlinks\n",
    "    tweet = re.sub(r'['+string.punctuation+']+', ' ',tweet) # Remove puncutations like 's\n",
    "    twtok = TweetTokenizer(strip_handles=True, reduce_len=True)\n",
    "    tokens = twtok.tokenize(tweet)\n",
    "    tokens = [i.lower() for i in tokens if i not in stop and len(i) > 2 and  \n",
    "                                             i in english_vocab]\n",
    "    return \",\".join(tokens)"
   ]
  },
  {
   "cell_type": "markdown",
   "metadata": {},
   "source": [
    "## Update Data"
   ]
  },
  {
   "cell_type": "code",
   "execution_count": 173,
   "metadata": {
    "ExecuteTime": {
     "end_time": "2017-12-04T16:48:43.717185Z",
     "start_time": "2017-12-04T16:48:36.811555Z"
    }
   },
   "outputs": [],
   "source": [
    "df = pd.read_csv('../data/twcs.csv')"
   ]
  },
  {
   "cell_type": "code",
   "execution_count": 174,
   "metadata": {
    "ExecuteTime": {
     "end_time": "2017-12-04T16:48:58.706051Z",
     "start_time": "2017-12-04T16:48:58.702881Z"
    }
   },
   "outputs": [
    {
     "data": {
      "text/plain": [
       "['tweet_id',\n",
       " 'author_id',\n",
       " 'inbound',\n",
       " 'created_at',\n",
       " 'text',\n",
       " 'response_tweet_id',\n",
       " 'in_response_to_tweet_id']"
      ]
     },
     "execution_count": 174,
     "metadata": {},
     "output_type": "execute_result"
    }
   ],
   "source": [
    "df.columns.tolist()"
   ]
  },
  {
   "cell_type": "code",
   "execution_count": 176,
   "metadata": {
    "ExecuteTime": {
     "end_time": "2017-12-04T16:58:23.733749Z",
     "start_time": "2017-12-04T16:58:23.730925Z"
    }
   },
   "outputs": [
    {
     "data": {
      "text/plain": [
       "(2811774, 8)"
      ]
     },
     "execution_count": 176,
     "metadata": {},
     "output_type": "execute_result"
    }
   ],
   "source": [
    "df.shape"
   ]
  },
  {
   "cell_type": "code",
   "execution_count": 175,
   "metadata": {
    "ExecuteTime": {
     "end_time": "2017-12-04T16:58:23.729560Z",
     "start_time": "2017-12-04T16:49:31.059355Z"
    }
   },
   "outputs": [],
   "source": [
    "df['date'] = pd.to_datetime(df.created_at)"
   ]
  },
  {
   "cell_type": "code",
   "execution_count": 177,
   "metadata": {
    "ExecuteTime": {
     "end_time": "2017-12-04T17:05:32.538933Z",
     "start_time": "2017-12-04T17:05:24.511182Z"
    }
   },
   "outputs": [],
   "source": [
    "df['time'] = df.date.dt.time"
   ]
  },
  {
   "cell_type": "code",
   "execution_count": 178,
   "metadata": {
    "ExecuteTime": {
     "end_time": "2017-12-04T17:05:32.633139Z",
     "start_time": "2017-12-04T17:05:32.540302Z"
    }
   },
   "outputs": [],
   "source": [
    "df['month'] = df.date.dt.month"
   ]
  },
  {
   "cell_type": "code",
   "execution_count": 179,
   "metadata": {
    "ExecuteTime": {
     "end_time": "2017-12-04T17:05:32.647333Z",
     "start_time": "2017-12-04T17:05:32.634513Z"
    }
   },
   "outputs": [
    {
     "data": {
      "text/html": [
       "<div>\n",
       "<style scoped>\n",
       "    .dataframe tbody tr th:only-of-type {\n",
       "        vertical-align: middle;\n",
       "    }\n",
       "\n",
       "    .dataframe tbody tr th {\n",
       "        vertical-align: top;\n",
       "    }\n",
       "\n",
       "    .dataframe thead th {\n",
       "        text-align: right;\n",
       "    }\n",
       "</style>\n",
       "<table border=\"1\" class=\"dataframe\">\n",
       "  <thead>\n",
       "    <tr style=\"text-align: right;\">\n",
       "      <th></th>\n",
       "      <th>tweet_id</th>\n",
       "      <th>author_id</th>\n",
       "      <th>inbound</th>\n",
       "      <th>created_at</th>\n",
       "      <th>text</th>\n",
       "      <th>response_tweet_id</th>\n",
       "      <th>in_response_to_tweet_id</th>\n",
       "      <th>date</th>\n",
       "      <th>time</th>\n",
       "      <th>month</th>\n",
       "    </tr>\n",
       "  </thead>\n",
       "  <tbody>\n",
       "    <tr>\n",
       "      <th>0</th>\n",
       "      <td>1</td>\n",
       "      <td>sprintcare</td>\n",
       "      <td>False</td>\n",
       "      <td>Tue Oct 31 22:10:47 +0000 2017</td>\n",
       "      <td>@115712 I understand. I would like to assist y...</td>\n",
       "      <td>2</td>\n",
       "      <td>3.0</td>\n",
       "      <td>2017-10-31 22:10:47</td>\n",
       "      <td>22:10:47</td>\n",
       "      <td>10</td>\n",
       "    </tr>\n",
       "    <tr>\n",
       "      <th>1</th>\n",
       "      <td>2</td>\n",
       "      <td>115712</td>\n",
       "      <td>True</td>\n",
       "      <td>Tue Oct 31 22:11:45 +0000 2017</td>\n",
       "      <td>@sprintcare and how do you propose we do that</td>\n",
       "      <td>NaN</td>\n",
       "      <td>1.0</td>\n",
       "      <td>2017-10-31 22:11:45</td>\n",
       "      <td>22:11:45</td>\n",
       "      <td>10</td>\n",
       "    </tr>\n",
       "    <tr>\n",
       "      <th>2</th>\n",
       "      <td>3</td>\n",
       "      <td>115712</td>\n",
       "      <td>True</td>\n",
       "      <td>Tue Oct 31 22:08:27 +0000 2017</td>\n",
       "      <td>@sprintcare I have sent several private messag...</td>\n",
       "      <td>1</td>\n",
       "      <td>4.0</td>\n",
       "      <td>2017-10-31 22:08:27</td>\n",
       "      <td>22:08:27</td>\n",
       "      <td>10</td>\n",
       "    </tr>\n",
       "    <tr>\n",
       "      <th>3</th>\n",
       "      <td>4</td>\n",
       "      <td>sprintcare</td>\n",
       "      <td>False</td>\n",
       "      <td>Tue Oct 31 21:54:49 +0000 2017</td>\n",
       "      <td>@115712 Please send us a Private Message so th...</td>\n",
       "      <td>3</td>\n",
       "      <td>5.0</td>\n",
       "      <td>2017-10-31 21:54:49</td>\n",
       "      <td>21:54:49</td>\n",
       "      <td>10</td>\n",
       "    </tr>\n",
       "    <tr>\n",
       "      <th>4</th>\n",
       "      <td>5</td>\n",
       "      <td>115712</td>\n",
       "      <td>True</td>\n",
       "      <td>Tue Oct 31 21:49:35 +0000 2017</td>\n",
       "      <td>@sprintcare I did.</td>\n",
       "      <td>4</td>\n",
       "      <td>6.0</td>\n",
       "      <td>2017-10-31 21:49:35</td>\n",
       "      <td>21:49:35</td>\n",
       "      <td>10</td>\n",
       "    </tr>\n",
       "  </tbody>\n",
       "</table>\n",
       "</div>"
      ],
      "text/plain": [
       "   tweet_id   author_id  inbound                      created_at  \\\n",
       "0         1  sprintcare    False  Tue Oct 31 22:10:47 +0000 2017   \n",
       "1         2      115712     True  Tue Oct 31 22:11:45 +0000 2017   \n",
       "2         3      115712     True  Tue Oct 31 22:08:27 +0000 2017   \n",
       "3         4  sprintcare    False  Tue Oct 31 21:54:49 +0000 2017   \n",
       "4         5      115712     True  Tue Oct 31 21:49:35 +0000 2017   \n",
       "\n",
       "                                                text response_tweet_id  \\\n",
       "0  @115712 I understand. I would like to assist y...                 2   \n",
       "1      @sprintcare and how do you propose we do that               NaN   \n",
       "2  @sprintcare I have sent several private messag...                 1   \n",
       "3  @115712 Please send us a Private Message so th...                 3   \n",
       "4                                 @sprintcare I did.                 4   \n",
       "\n",
       "   in_response_to_tweet_id                date      time  month  \n",
       "0                      3.0 2017-10-31 22:10:47  22:10:47     10  \n",
       "1                      1.0 2017-10-31 22:11:45  22:11:45     10  \n",
       "2                      4.0 2017-10-31 22:08:27  22:08:27     10  \n",
       "3                      5.0 2017-10-31 21:54:49  21:54:49     10  \n",
       "4                      6.0 2017-10-31 21:49:35  21:49:35     10  "
      ]
     },
     "execution_count": 179,
     "metadata": {},
     "output_type": "execute_result"
    }
   ],
   "source": [
    "df.head()"
   ]
  },
  {
   "cell_type": "code",
   "execution_count": 180,
   "metadata": {
    "ExecuteTime": {
     "end_time": "2017-12-04T17:05:41.530984Z",
     "start_time": "2017-12-04T17:05:32.648581Z"
    }
   },
   "outputs": [],
   "source": [
    "df.to_pickle('../data/tweets.pkl')"
   ]
  },
  {
   "cell_type": "markdown",
   "metadata": {},
   "source": [
    "## Import Pickle"
   ]
  },
  {
   "cell_type": "code",
   "execution_count": 181,
   "metadata": {
    "ExecuteTime": {
     "end_time": "2017-12-04T17:05:43.994752Z",
     "start_time": "2017-12-04T17:05:41.532591Z"
    }
   },
   "outputs": [],
   "source": [
    "df = pd.read_pickle('../data/tweets.pkl')"
   ]
  },
  {
   "cell_type": "code",
   "execution_count": 182,
   "metadata": {
    "ExecuteTime": {
     "end_time": "2017-12-04T17:05:43.999140Z",
     "start_time": "2017-12-04T17:05:43.996178Z"
    }
   },
   "outputs": [
    {
     "data": {
      "text/plain": [
       "['tweet_id',\n",
       " 'author_id',\n",
       " 'inbound',\n",
       " 'created_at',\n",
       " 'text',\n",
       " 'response_tweet_id',\n",
       " 'in_response_to_tweet_id',\n",
       " 'date',\n",
       " 'time',\n",
       " 'month']"
      ]
     },
     "execution_count": 182,
     "metadata": {},
     "output_type": "execute_result"
    }
   ],
   "source": [
    "df.columns.tolist()"
   ]
  },
  {
   "cell_type": "markdown",
   "metadata": {},
   "source": [
    "## Text Processing"
   ]
  },
  {
   "cell_type": "code",
   "execution_count": 157,
   "metadata": {
    "ExecuteTime": {
     "end_time": "2017-12-04T04:16:31.046187Z",
     "start_time": "2017-12-04T04:16:31.043803Z"
    }
   },
   "outputs": [],
   "source": [
    "mobilelist = ['ATT','TMobileHelp','sprintcare','VerizonSupport']"
   ]
  },
  {
   "cell_type": "code",
   "execution_count": 158,
   "metadata": {
    "ExecuteTime": {
     "end_time": "2017-12-04T04:16:49.102551Z",
     "start_time": "2017-12-04T04:16:49.099443Z"
    }
   },
   "outputs": [
    {
     "data": {
      "text/plain": [
       "(35666, 24)"
      ]
     },
     "execution_count": 158,
     "metadata": {},
     "output_type": "execute_result"
    }
   ],
   "source": [
    "mobileDF.shape"
   ]
  },
  {
   "cell_type": "code",
   "execution_count": null,
   "metadata": {},
   "outputs": [],
   "source": [
    "# mobileDF = get_industry_io()"
   ]
  },
  {
   "cell_type": "code",
   "execution_count": 159,
   "metadata": {
    "ExecuteTime": {
     "end_time": "2017-12-04T04:17:25.529252Z",
     "start_time": "2017-12-04T04:17:23.771005Z"
    }
   },
   "outputs": [],
   "source": [
    "doc_clean = [clean(doc).split() for doc in mobileDF.text_x]  "
   ]
  },
  {
   "cell_type": "code",
   "execution_count": 160,
   "metadata": {
    "ExecuteTime": {
     "end_time": "2017-12-04T04:17:25.925438Z",
     "start_time": "2017-12-04T04:17:25.922369Z"
    }
   },
   "outputs": [
    {
     "data": {
      "text/plain": [
       "['yo',\n",
       " 'att',\n",
       " 'international',\n",
       " 'data',\n",
       " 'plan',\n",
       " 'give',\n",
       " 'u',\n",
       " '200',\n",
       " 'mb',\n",
       " 'thats',\n",
       " 'selfie',\n",
       " '5',\n",
       " 'tweet']"
      ]
     },
     "execution_count": 160,
     "metadata": {},
     "output_type": "execute_result"
    }
   ],
   "source": [
    "doc_clean[1][:]"
   ]
  },
  {
   "cell_type": "markdown",
   "metadata": {},
   "source": [
    "## Quick LDA"
   ]
  },
  {
   "cell_type": "code",
   "execution_count": 145,
   "metadata": {
    "ExecuteTime": {
     "end_time": "2017-12-01T18:42:32.461064Z",
     "start_time": "2017-12-01T18:42:32.458581Z"
    }
   },
   "outputs": [],
   "source": [
    "import gensim\n",
    "from gensim import corpora"
   ]
  },
  {
   "cell_type": "code",
   "execution_count": 161,
   "metadata": {
    "ExecuteTime": {
     "end_time": "2017-12-04T04:17:39.639571Z",
     "start_time": "2017-12-04T04:17:39.136341Z"
    }
   },
   "outputs": [],
   "source": [
    "dictionary = corpora.Dictionary(doc_clean)"
   ]
  },
  {
   "cell_type": "code",
   "execution_count": 162,
   "metadata": {
    "ExecuteTime": {
     "end_time": "2017-12-04T04:17:40.102942Z",
     "start_time": "2017-12-04T04:17:39.745611Z"
    }
   },
   "outputs": [],
   "source": [
    "doc_term_matrix = [dictionary.doc2bow(doc) for doc in doc_clean]"
   ]
  },
  {
   "cell_type": "code",
   "execution_count": 163,
   "metadata": {
    "ExecuteTime": {
     "end_time": "2017-12-04T04:17:44.563234Z",
     "start_time": "2017-12-04T04:17:44.561025Z"
    }
   },
   "outputs": [],
   "source": [
    "lda = gensim.models.ldamodel.LdaModel"
   ]
  },
  {
   "cell_type": "code",
   "execution_count": 167,
   "metadata": {
    "ExecuteTime": {
     "end_time": "2017-12-04T04:35:04.762033Z",
     "start_time": "2017-12-04T04:27:44.718451Z"
    }
   },
   "outputs": [
    {
     "name": "stdout",
     "output_type": "stream",
     "text": [
      "CPU times: user 7min 21s, sys: 0 ns, total: 7min 21s\n",
      "Wall time: 7min 20s\n"
     ]
    }
   ],
   "source": [
    "%time ldamodel = lda(doc_term_matrix, num_topics=20, id2word = dictionary, passes=10)"
   ]
  },
  {
   "cell_type": "code",
   "execution_count": 168,
   "metadata": {
    "ExecuteTime": {
     "end_time": "2017-12-04T04:35:04.772423Z",
     "start_time": "2017-12-04T04:35:04.763318Z"
    }
   },
   "outputs": [
    {
     "name": "stdout",
     "output_type": "stream",
     "text": [
      "[(0, '0.072*\"internet\" + 0.059*\"data\" + 0.043*\"outage\"'), (1, '0.112*\"97623\" + 0.073*\"96206\" + 0.043*\"service\"'), (2, '0.178*\"verizonsupport\" + 0.079*\"sprintcare\" + 0.037*\"97623\"'), (3, '0.053*\"phone\" + 0.031*\"store\" + 0.028*\"tmobilehelp\"'), (4, '0.036*\"told\" + 0.028*\"96206\" + 0.023*\"hate\"'), (5, '0.057*\"yall\" + 0.050*\"fucking\" + 0.032*\"question\"'), (6, '0.232*\"96138\" + 0.039*\"number\" + 0.021*\"fios\"'), (7, '0.034*\"website\" + 0.033*\"app\" + 0.026*\"8\"'), (8, '0.107*\"iphone\" + 0.065*\"x\" + 0.060*\"98159\"'), (9, '0.031*\"bill\" + 0.024*\"speed\" + 0.021*\"pay\"'), (10, '0.085*\"service\" + 0.069*\"97623\" + 0.055*\"worst\"'), (11, '0.071*\"account\" + 0.030*\"someone\" + 0.021*\"business\"'), (12, '0.038*\"anyone\" + 0.036*\"email\" + 0.023*\"else\"'), (13, '0.024*\"buy\" + 0.023*\"tech\" + 0.018*\"everything\"'), (14, '0.033*\"97623\" + 0.027*\"contract\" + 0.026*\"wtf\"'), (15, '0.027*\"love\" + 0.022*\"96208\" + 0.017*\"great\"'), (16, '0.140*\"service\" + 0.132*\"customer\" + 0.021*\"horrible\"'), (17, '0.046*\"2\" + 0.033*\"hour\" + 0.032*\"sprint\"'), (18, '0.061*\"97623\" + 0.040*\"service\" + 0.034*\"call\"'), (19, '0.079*\"verizon\" + 0.041*\"96206\" + 0.033*\"watch\"')]\n"
     ]
    }
   ],
   "source": [
    "print(ldamodel.print_topics(num_topics=20, num_words=3))"
   ]
  },
  {
   "cell_type": "code",
   "execution_count": 169,
   "metadata": {
    "ExecuteTime": {
     "end_time": "2017-12-04T04:35:04.786667Z",
     "start_time": "2017-12-04T04:35:04.773651Z"
    }
   },
   "outputs": [
    {
     "name": "stdout",
     "output_type": "stream",
     "text": [
      "Topic 0: Words: \n",
      "['internet', 'data', 'outage', 'tv', 'slow', 'lte']\n",
      "Topic 1: Words: \n",
      "['97623', '96206', 'service', 'i’m', 'phone', 'pay']\n",
      "Topic 2: Words: \n",
      "['verizonsupport', 'sprintcare', '97623', 'time', 'phone', 'y’all']\n",
      "Topic 3: Words: \n",
      "['phone', 'store', 'tmobilehelp', 'help', '30', 'sent']\n",
      "Topic 4: Words: \n",
      "['told', '96206', 'hate', 'me', 'answer', '97609']\n",
      "Topic 5: Words: \n",
      "['yall', 'fucking', 'question', 'there', 'asap', 'check']\n",
      "Topic 6: Words: \n",
      "['96138', 'number', 'fios', 'update', 'change', 'shitty']\n",
      "Topic 7: Words: \n",
      "['website', 'app', '8', 'trying', 'i️', 'working']\n",
      "Topic 8: Words: \n",
      "['iphone', 'x', '98159', '101675', 'order', 'uscellularcares']\n",
      "Topic 9: Words: \n",
      "['bill', 'speed', 'pay', 'router', 'phone', 'fee']\n",
      "Topic 10: Words: \n",
      "['service', '97623', 'worst', 'suck', 'ever', 'better']\n",
      "Topic 11: Words: \n",
      "['account', 'someone', 'business', 'talk', 'phone', 'plan']\n",
      "Topic 12: Words: \n",
      "['anyone', 'email', 'else', 'next', 'saying', 'ordered']\n",
      "Topic 13: Words: \n",
      "['buy', 'tech', 'everything', 'point', 'best', 'taking']\n",
      "Topic 14: Words: \n",
      "['97623', 'contract', 'wtf', 'cancel', 'up', 'you']\n",
      "Topic 15: Words: \n",
      "['love', '96208', 'great', 'id', 'joke', 'trouble']\n",
      "Topic 16: Words: \n",
      "['service', 'customer', 'horrible', 'terrible', 'year', 'bad']\n",
      "Topic 17: Words: \n",
      "['2', 'hour', 'sprint', 'hold', 'phone', 'line']\n",
      "Topic 18: Words: \n",
      "['97623', 'service', 'call', 'phone', 'boost', 'whats']\n",
      "Topic 19: Words: \n",
      "['verizon', '96206', 'watch', 'shit', 'fios', 'switch']\n"
     ]
    }
   ],
   "source": [
    "for topic in ldamodel.show_topics(num_topics=20, formatted=False, num_words=6):\n",
    "    print(\"Topic {}: Words: \".format(topic[0]))\n",
    "    topicwords = [w for (w, val) in topic[1]]\n",
    "    print(topicwords)"
   ]
  },
  {
   "cell_type": "code",
   "execution_count": 170,
   "metadata": {
    "ExecuteTime": {
     "end_time": "2017-12-04T04:35:05.216363Z",
     "start_time": "2017-12-04T04:35:04.787895Z"
    }
   },
   "outputs": [
    {
     "data": {
      "text/plain": [
       "['../models/lda.pkl']"
      ]
     },
     "execution_count": 170,
     "metadata": {},
     "output_type": "execute_result"
    }
   ],
   "source": [
    "joblib.dump(ldamodel, '../models/lda.pkl')"
   ]
  },
  {
   "cell_type": "markdown",
   "metadata": {},
   "source": [
    "## Multicore LDA"
   ]
  },
  {
   "cell_type": "code",
   "execution_count": 149,
   "metadata": {
    "ExecuteTime": {
     "end_time": "2017-12-01T18:44:31.573565Z",
     "start_time": "2017-12-01T18:44:31.571344Z"
    }
   },
   "outputs": [],
   "source": [
    "from gensim import corpora, models"
   ]
  },
  {
   "cell_type": "code",
   "execution_count": 150,
   "metadata": {
    "ExecuteTime": {
     "end_time": "2017-12-01T19:14:59.611180Z",
     "start_time": "2017-12-01T18:44:32.558437Z"
    }
   },
   "outputs": [],
   "source": [
    "mlda = models.LdaMulticore(doc_term_matrix, num_topics=5, id2word = dictionary, passes=10, workers=15)"
   ]
  },
  {
   "cell_type": "code",
   "execution_count": 151,
   "metadata": {
    "ExecuteTime": {
     "end_time": "2017-12-01T19:14:59.637245Z",
     "start_time": "2017-12-01T19:14:59.612788Z"
    }
   },
   "outputs": [
    {
     "name": "stdout",
     "output_type": "stream",
     "text": [
      "[(0, '0.013*\"tesco\" + 0.012*\"order\" + 0.010*\"delivery\"'), (1, '0.032*\"flight\" + 0.020*\"delta\" + 0.017*\"americanair\"'), (2, '0.025*\"service\" + 0.018*\"customer\" + 0.009*\"phone\"'), (3, '0.015*\"account\" + 0.010*\"app\" + 0.009*\"card\"'), (4, '0.036*\"applesupport\" + 0.026*\"95974\" + 0.018*\"iphone\"')]\n"
     ]
    }
   ],
   "source": [
    "print(mlda.print_topics(num_topics=5, num_words=3))"
   ]
  },
  {
   "cell_type": "code",
   "execution_count": 152,
   "metadata": {
    "ExecuteTime": {
     "end_time": "2017-12-01T19:14:59.664961Z",
     "start_time": "2017-12-01T19:14:59.638594Z"
    }
   },
   "outputs": [
    {
     "name": "stdout",
     "output_type": "stream",
     "text": [
      "Topic 0: Words: \n",
      "['tesco', 'order', 'delivery', 'train', 'today', 'store']\n",
      "Topic 1: Words: \n",
      "['flight', 'delta', 'americanair', 'southwestair', 'britishairways', 'seat']\n",
      "Topic 2: Words: \n",
      "['service', 'customer', 'phone', 'call', 'time', 'internet']\n",
      "Topic 3: Words: \n",
      "['account', 'app', 'card', 'email', 'cant', 'help']\n",
      "Topic 4: Words: \n",
      "['applesupport', '95974', 'iphone', 'update', 'i️', 'phone']\n"
     ]
    }
   ],
   "source": [
    "for topic in mlda.show_topics(num_topics=6, formatted=False, num_words=6):\n",
    "    print(\"Topic {}: Words: \".format(topic[0]))\n",
    "    topicwords = [w for (w, val) in topic[1]]\n",
    "    print(topicwords)"
   ]
  },
  {
   "cell_type": "code",
   "execution_count": null,
   "metadata": {},
   "outputs": [],
   "source": []
  },
  {
   "cell_type": "markdown",
   "metadata": {},
   "source": [
    "## LDA with SKLEARN"
   ]
  },
  {
   "cell_type": "markdown",
   "metadata": {},
   "source": [
    "### Count Vectorizer"
   ]
  },
  {
   "cell_type": "code",
   "execution_count": 154,
   "metadata": {
    "ExecuteTime": {
     "end_time": "2017-12-01T19:20:44.407956Z",
     "start_time": "2017-12-01T19:20:34.205132Z"
    }
   },
   "outputs": [],
   "source": [
    "cv_vectorizer = CountVectorizer(stop_words=stop)\n",
    "cv = cv_vectorizer.fit_transform(ioDF.text_x)\n",
    "cv_feature_names = cv_vectorizer.get_feature_names()"
   ]
  },
  {
   "cell_type": "code",
   "execution_count": 156,
   "metadata": {
    "ExecuteTime": {
     "end_time": "2017-12-02T02:20:07.479363Z",
     "start_time": "2017-12-02T02:06:11.048887Z"
    }
   },
   "outputs": [
    {
     "name": "stderr",
     "output_type": "stream",
     "text": [
      "/home/xavier/anaconda3/lib/python3.6/site-packages/sklearn/decomposition/online_lda.py:294: DeprecationWarning: n_topics has been renamed to n_components in version 0.19 and will be removed in 0.21\n",
      "  DeprecationWarning)\n",
      "Process ForkPoolWorker-55:\n",
      "Traceback (most recent call last):\n",
      "  File \"/home/xavier/anaconda3/lib/python3.6/multiprocessing/process.py\", line 258, in _bootstrap\n",
      "    self.run()\n",
      "  File \"/home/xavier/anaconda3/lib/python3.6/multiprocessing/process.py\", line 93, in run\n",
      "    self._target(*self._args, **self._kwargs)\n",
      "  File \"/home/xavier/anaconda3/lib/python3.6/multiprocessing/pool.py\", line 108, in worker\n",
      "    task = get()\n",
      "  File \"/home/xavier/anaconda3/lib/python3.6/site-packages/sklearn/externals/joblib/pool.py\", line 362, in get\n",
      "    return recv()\n",
      "  File \"/home/xavier/anaconda3/lib/python3.6/multiprocessing/connection.py\", line 251, in recv\n",
      "    return _ForkingPickler.loads(buf.getbuffer())\n",
      "  File \"/home/xavier/anaconda3/lib/python3.6/site-packages/sklearn/externals/joblib/numpy_pickle.py\", line 578, in load\n",
      "    obj = _unpickle(fobj, filename, mmap_mode)\n",
      "  File \"/home/xavier/anaconda3/lib/python3.6/site-packages/sklearn/externals/joblib/numpy_pickle.py\", line 508, in _unpickle\n",
      "    obj = unpickler.load()\n",
      "  File \"/home/xavier/anaconda3/lib/python3.6/pickle.py\", line 1050, in load\n",
      "    dispatch[key[0]](self)\n",
      "  File \"/home/xavier/anaconda3/lib/python3.6/site-packages/sklearn/externals/joblib/numpy_pickle.py\", line 341, in load_build\n",
      "    self.stack.append(array_wrapper.read(self))\n",
      "  File \"/home/xavier/anaconda3/lib/python3.6/site-packages/sklearn/externals/joblib/numpy_pickle.py\", line 182, in read\n",
      "    array = self.read_mmap(unpickler)\n",
      "  File \"/home/xavier/anaconda3/lib/python3.6/site-packages/sklearn/externals/joblib/numpy_pickle.py\", line 160, in read_mmap\n",
      "    offset=offset)\n",
      "  File \"/home/xavier/anaconda3/lib/python3.6/site-packages/sklearn/externals/joblib/backports.py\", line 23, in make_memmap\n",
      "    shape=shape, order=order)\n",
      "  File \"/home/xavier/anaconda3/lib/python3.6/site-packages/numpy/core/memmap.py\", line 264, in __new__\n",
      "    mm = mmap.mmap(fid.fileno(), bytes, access=acc, offset=start)\n",
      "ValueError: mmap length is greater than file size\n"
     ]
    },
    {
     "ename": "OSError",
     "evalue": "[Errno 28] No space left on device",
     "output_type": "error",
     "traceback": [
      "\u001b[0;31m---------------------------------------------------------------------------\u001b[0m",
      "\u001b[0;31mOSError\u001b[0m                                   Traceback (most recent call last)",
      "\u001b[0;32m<ipython-input-156-bac594c1f2e6>\u001b[0m in \u001b[0;36m<module>\u001b[0;34m()\u001b[0m\n\u001b[0;32m----> 1\u001b[0;31m \u001b[0mlda\u001b[0m \u001b[0;34m=\u001b[0m \u001b[0mLatentDirichletAllocation\u001b[0m\u001b[0;34m(\u001b[0m\u001b[0mn_topics\u001b[0m\u001b[0;34m=\u001b[0m\u001b[0;36m5\u001b[0m\u001b[0;34m,\u001b[0m \u001b[0mmax_iter\u001b[0m\u001b[0;34m=\u001b[0m\u001b[0;36m10\u001b[0m\u001b[0;34m,\u001b[0m \u001b[0mlearning_method\u001b[0m\u001b[0;34m=\u001b[0m\u001b[0;34m'online'\u001b[0m\u001b[0;34m,\u001b[0m \u001b[0mlearning_offset\u001b[0m\u001b[0;34m=\u001b[0m\u001b[0;36m50.\u001b[0m\u001b[0;34m,\u001b[0m\u001b[0mrandom_state\u001b[0m\u001b[0;34m=\u001b[0m\u001b[0;36m0\u001b[0m\u001b[0;34m,\u001b[0m\u001b[0mn_jobs\u001b[0m\u001b[0;34m=\u001b[0m\u001b[0;34m-\u001b[0m\u001b[0;36m1\u001b[0m\u001b[0;34m)\u001b[0m\u001b[0;34m.\u001b[0m\u001b[0mfit\u001b[0m\u001b[0;34m(\u001b[0m\u001b[0mcv\u001b[0m\u001b[0;34m)\u001b[0m\u001b[0;34m\u001b[0m\u001b[0m\n\u001b[0m",
      "\u001b[0;32m~/anaconda3/lib/python3.6/site-packages/sklearn/decomposition/online_lda.py\u001b[0m in \u001b[0;36mfit\u001b[0;34m(self, X, y)\u001b[0m\n\u001b[1;32m    550\u001b[0m                     \u001b[0;32mfor\u001b[0m \u001b[0midx_slice\u001b[0m \u001b[0;32min\u001b[0m \u001b[0mgen_batches\u001b[0m\u001b[0;34m(\u001b[0m\u001b[0mn_samples\u001b[0m\u001b[0;34m,\u001b[0m \u001b[0mbatch_size\u001b[0m\u001b[0;34m)\u001b[0m\u001b[0;34m:\u001b[0m\u001b[0;34m\u001b[0m\u001b[0m\n\u001b[1;32m    551\u001b[0m                         self._em_step(X[idx_slice, :], total_samples=n_samples,\n\u001b[0;32m--> 552\u001b[0;31m                                       batch_update=False, parallel=parallel)\n\u001b[0m\u001b[1;32m    553\u001b[0m                 \u001b[0;32melse\u001b[0m\u001b[0;34m:\u001b[0m\u001b[0;34m\u001b[0m\u001b[0m\n\u001b[1;32m    554\u001b[0m                     \u001b[0;31m# batch update\u001b[0m\u001b[0;34m\u001b[0m\u001b[0;34m\u001b[0m\u001b[0m\n",
      "\u001b[0;32m~/anaconda3/lib/python3.6/site-packages/sklearn/decomposition/online_lda.py\u001b[0m in \u001b[0;36m_em_step\u001b[0;34m(self, X, total_samples, batch_update, parallel)\u001b[0m\n\u001b[1;32m    431\u001b[0m         \u001b[0;31m# E-step\u001b[0m\u001b[0;34m\u001b[0m\u001b[0;34m\u001b[0m\u001b[0m\n\u001b[1;32m    432\u001b[0m         _, suff_stats = self._e_step(X, cal_sstats=True, random_init=True,\n\u001b[0;32m--> 433\u001b[0;31m                                      parallel=parallel)\n\u001b[0m\u001b[1;32m    434\u001b[0m \u001b[0;34m\u001b[0m\u001b[0m\n\u001b[1;32m    435\u001b[0m         \u001b[0;31m# M-step\u001b[0m\u001b[0;34m\u001b[0m\u001b[0;34m\u001b[0m\u001b[0m\n",
      "\u001b[0;32m~/anaconda3/lib/python3.6/site-packages/sklearn/decomposition/online_lda.py\u001b[0m in \u001b[0;36m_e_step\u001b[0;34m(self, X, cal_sstats, random_init, parallel)\u001b[0m\n\u001b[1;32m    384\u001b[0m                                               \u001b[0mself\u001b[0m\u001b[0;34m.\u001b[0m\u001b[0mmean_change_tol\u001b[0m\u001b[0;34m,\u001b[0m \u001b[0mcal_sstats\u001b[0m\u001b[0;34m,\u001b[0m\u001b[0;34m\u001b[0m\u001b[0m\n\u001b[1;32m    385\u001b[0m                                               random_state)\n\u001b[0;32m--> 386\u001b[0;31m             for idx_slice in gen_even_slices(X.shape[0], n_jobs))\n\u001b[0m\u001b[1;32m    387\u001b[0m \u001b[0;34m\u001b[0m\u001b[0m\n\u001b[1;32m    388\u001b[0m         \u001b[0;31m# merge result\u001b[0m\u001b[0;34m\u001b[0m\u001b[0;34m\u001b[0m\u001b[0m\n",
      "\u001b[0;32m~/anaconda3/lib/python3.6/site-packages/sklearn/externals/joblib/parallel.py\u001b[0m in \u001b[0;36m__call__\u001b[0;34m(self, iterable)\u001b[0m\n\u001b[1;32m    787\u001b[0m                 \u001b[0;31m# consumption.\u001b[0m\u001b[0;34m\u001b[0m\u001b[0;34m\u001b[0m\u001b[0m\n\u001b[1;32m    788\u001b[0m                 \u001b[0mself\u001b[0m\u001b[0;34m.\u001b[0m\u001b[0m_iterating\u001b[0m \u001b[0;34m=\u001b[0m \u001b[0;32mFalse\u001b[0m\u001b[0;34m\u001b[0m\u001b[0m\n\u001b[0;32m--> 789\u001b[0;31m             \u001b[0mself\u001b[0m\u001b[0;34m.\u001b[0m\u001b[0mretrieve\u001b[0m\u001b[0;34m(\u001b[0m\u001b[0;34m)\u001b[0m\u001b[0;34m\u001b[0m\u001b[0m\n\u001b[0m\u001b[1;32m    790\u001b[0m             \u001b[0;31m# Make sure that we get a last message telling us we are done\u001b[0m\u001b[0;34m\u001b[0m\u001b[0;34m\u001b[0m\u001b[0m\n\u001b[1;32m    791\u001b[0m             \u001b[0melapsed_time\u001b[0m \u001b[0;34m=\u001b[0m \u001b[0mtime\u001b[0m\u001b[0;34m.\u001b[0m\u001b[0mtime\u001b[0m\u001b[0;34m(\u001b[0m\u001b[0;34m)\u001b[0m \u001b[0;34m-\u001b[0m \u001b[0mself\u001b[0m\u001b[0;34m.\u001b[0m\u001b[0m_start_time\u001b[0m\u001b[0;34m\u001b[0m\u001b[0m\n",
      "\u001b[0;32m~/anaconda3/lib/python3.6/site-packages/sklearn/externals/joblib/parallel.py\u001b[0m in \u001b[0;36mretrieve\u001b[0;34m(self)\u001b[0m\n\u001b[1;32m    697\u001b[0m             \u001b[0;32mtry\u001b[0m\u001b[0;34m:\u001b[0m\u001b[0;34m\u001b[0m\u001b[0m\n\u001b[1;32m    698\u001b[0m                 \u001b[0;32mif\u001b[0m \u001b[0mgetattr\u001b[0m\u001b[0;34m(\u001b[0m\u001b[0mself\u001b[0m\u001b[0;34m.\u001b[0m\u001b[0m_backend\u001b[0m\u001b[0;34m,\u001b[0m \u001b[0;34m'supports_timeout'\u001b[0m\u001b[0;34m,\u001b[0m \u001b[0;32mFalse\u001b[0m\u001b[0;34m)\u001b[0m\u001b[0;34m:\u001b[0m\u001b[0;34m\u001b[0m\u001b[0m\n\u001b[0;32m--> 699\u001b[0;31m                     \u001b[0mself\u001b[0m\u001b[0;34m.\u001b[0m\u001b[0m_output\u001b[0m\u001b[0;34m.\u001b[0m\u001b[0mextend\u001b[0m\u001b[0;34m(\u001b[0m\u001b[0mjob\u001b[0m\u001b[0;34m.\u001b[0m\u001b[0mget\u001b[0m\u001b[0;34m(\u001b[0m\u001b[0mtimeout\u001b[0m\u001b[0;34m=\u001b[0m\u001b[0mself\u001b[0m\u001b[0;34m.\u001b[0m\u001b[0mtimeout\u001b[0m\u001b[0;34m)\u001b[0m\u001b[0;34m)\u001b[0m\u001b[0;34m\u001b[0m\u001b[0m\n\u001b[0m\u001b[1;32m    700\u001b[0m                 \u001b[0;32melse\u001b[0m\u001b[0;34m:\u001b[0m\u001b[0;34m\u001b[0m\u001b[0m\n\u001b[1;32m    701\u001b[0m                     \u001b[0mself\u001b[0m\u001b[0;34m.\u001b[0m\u001b[0m_output\u001b[0m\u001b[0;34m.\u001b[0m\u001b[0mextend\u001b[0m\u001b[0;34m(\u001b[0m\u001b[0mjob\u001b[0m\u001b[0;34m.\u001b[0m\u001b[0mget\u001b[0m\u001b[0;34m(\u001b[0m\u001b[0;34m)\u001b[0m\u001b[0;34m)\u001b[0m\u001b[0;34m\u001b[0m\u001b[0m\n",
      "\u001b[0;32m~/anaconda3/lib/python3.6/multiprocessing/pool.py\u001b[0m in \u001b[0;36mget\u001b[0;34m(self, timeout)\u001b[0m\n\u001b[1;32m    642\u001b[0m             \u001b[0;32mreturn\u001b[0m \u001b[0mself\u001b[0m\u001b[0;34m.\u001b[0m\u001b[0m_value\u001b[0m\u001b[0;34m\u001b[0m\u001b[0m\n\u001b[1;32m    643\u001b[0m         \u001b[0;32melse\u001b[0m\u001b[0;34m:\u001b[0m\u001b[0;34m\u001b[0m\u001b[0m\n\u001b[0;32m--> 644\u001b[0;31m             \u001b[0;32mraise\u001b[0m \u001b[0mself\u001b[0m\u001b[0;34m.\u001b[0m\u001b[0m_value\u001b[0m\u001b[0;34m\u001b[0m\u001b[0m\n\u001b[0m\u001b[1;32m    645\u001b[0m \u001b[0;34m\u001b[0m\u001b[0m\n\u001b[1;32m    646\u001b[0m     \u001b[0;32mdef\u001b[0m \u001b[0m_set\u001b[0m\u001b[0;34m(\u001b[0m\u001b[0mself\u001b[0m\u001b[0;34m,\u001b[0m \u001b[0mi\u001b[0m\u001b[0;34m,\u001b[0m \u001b[0mobj\u001b[0m\u001b[0;34m)\u001b[0m\u001b[0;34m:\u001b[0m\u001b[0;34m\u001b[0m\u001b[0m\n",
      "\u001b[0;32m~/anaconda3/lib/python3.6/multiprocessing/pool.py\u001b[0m in \u001b[0;36m_handle_tasks\u001b[0;34m(taskqueue, put, outqueue, pool, cache)\u001b[0m\n\u001b[1;32m    422\u001b[0m                         \u001b[0;32mbreak\u001b[0m\u001b[0;34m\u001b[0m\u001b[0m\n\u001b[1;32m    423\u001b[0m                     \u001b[0;32mtry\u001b[0m\u001b[0;34m:\u001b[0m\u001b[0;34m\u001b[0m\u001b[0m\n\u001b[0;32m--> 424\u001b[0;31m                         \u001b[0mput\u001b[0m\u001b[0;34m(\u001b[0m\u001b[0mtask\u001b[0m\u001b[0;34m)\u001b[0m\u001b[0;34m\u001b[0m\u001b[0m\n\u001b[0m\u001b[1;32m    425\u001b[0m                     \u001b[0;32mexcept\u001b[0m \u001b[0mException\u001b[0m \u001b[0;32mas\u001b[0m \u001b[0me\u001b[0m\u001b[0;34m:\u001b[0m\u001b[0;34m\u001b[0m\u001b[0m\n\u001b[1;32m    426\u001b[0m                         \u001b[0mjob\u001b[0m\u001b[0;34m,\u001b[0m \u001b[0midx\u001b[0m \u001b[0;34m=\u001b[0m \u001b[0mtask\u001b[0m\u001b[0;34m[\u001b[0m\u001b[0;34m:\u001b[0m\u001b[0;36m2\u001b[0m\u001b[0;34m]\u001b[0m\u001b[0;34m\u001b[0m\u001b[0m\n",
      "\u001b[0;32m~/anaconda3/lib/python3.6/site-packages/sklearn/externals/joblib/pool.py\u001b[0m in \u001b[0;36msend\u001b[0;34m(obj)\u001b[0m\n\u001b[1;32m    369\u001b[0m             \u001b[0;32mdef\u001b[0m \u001b[0msend\u001b[0m\u001b[0;34m(\u001b[0m\u001b[0mobj\u001b[0m\u001b[0;34m)\u001b[0m\u001b[0;34m:\u001b[0m\u001b[0;34m\u001b[0m\u001b[0m\n\u001b[1;32m    370\u001b[0m                 \u001b[0mbuffer\u001b[0m \u001b[0;34m=\u001b[0m \u001b[0mBytesIO\u001b[0m\u001b[0;34m(\u001b[0m\u001b[0;34m)\u001b[0m\u001b[0;34m\u001b[0m\u001b[0m\n\u001b[0;32m--> 371\u001b[0;31m                 \u001b[0mCustomizablePickler\u001b[0m\u001b[0;34m(\u001b[0m\u001b[0mbuffer\u001b[0m\u001b[0;34m,\u001b[0m \u001b[0mself\u001b[0m\u001b[0;34m.\u001b[0m\u001b[0m_reducers\u001b[0m\u001b[0;34m)\u001b[0m\u001b[0;34m.\u001b[0m\u001b[0mdump\u001b[0m\u001b[0;34m(\u001b[0m\u001b[0mobj\u001b[0m\u001b[0;34m)\u001b[0m\u001b[0;34m\u001b[0m\u001b[0m\n\u001b[0m\u001b[1;32m    372\u001b[0m                 \u001b[0mself\u001b[0m\u001b[0;34m.\u001b[0m\u001b[0m_writer\u001b[0m\u001b[0;34m.\u001b[0m\u001b[0msend_bytes\u001b[0m\u001b[0;34m(\u001b[0m\u001b[0mbuffer\u001b[0m\u001b[0;34m.\u001b[0m\u001b[0mgetvalue\u001b[0m\u001b[0;34m(\u001b[0m\u001b[0;34m)\u001b[0m\u001b[0;34m)\u001b[0m\u001b[0;34m\u001b[0m\u001b[0m\n\u001b[1;32m    373\u001b[0m             \u001b[0mself\u001b[0m\u001b[0;34m.\u001b[0m\u001b[0m_send\u001b[0m \u001b[0;34m=\u001b[0m \u001b[0msend\u001b[0m\u001b[0;34m\u001b[0m\u001b[0m\n",
      "\u001b[0;32m~/anaconda3/lib/python3.6/site-packages/sklearn/externals/joblib/pool.py\u001b[0m in \u001b[0;36m__call__\u001b[0;34m(self, a)\u001b[0m\n\u001b[1;32m    238\u001b[0m                     print(\"Memmaping (shape=%r, dtype=%s) to new file %s\" % (\n\u001b[1;32m    239\u001b[0m                         a.shape, a.dtype, filename))\n\u001b[0;32m--> 240\u001b[0;31m                 \u001b[0;32mfor\u001b[0m \u001b[0mdumped_filename\u001b[0m \u001b[0;32min\u001b[0m \u001b[0mdump\u001b[0m\u001b[0;34m(\u001b[0m\u001b[0ma\u001b[0m\u001b[0;34m,\u001b[0m \u001b[0mfilename\u001b[0m\u001b[0;34m)\u001b[0m\u001b[0;34m:\u001b[0m\u001b[0;34m\u001b[0m\u001b[0m\n\u001b[0m\u001b[1;32m    241\u001b[0m                     \u001b[0mos\u001b[0m\u001b[0;34m.\u001b[0m\u001b[0mchmod\u001b[0m\u001b[0;34m(\u001b[0m\u001b[0mdumped_filename\u001b[0m\u001b[0;34m,\u001b[0m \u001b[0mFILE_PERMISSIONS\u001b[0m\u001b[0;34m)\u001b[0m\u001b[0;34m\u001b[0m\u001b[0m\n\u001b[1;32m    242\u001b[0m \u001b[0;34m\u001b[0m\u001b[0m\n",
      "\u001b[0;32m~/anaconda3/lib/python3.6/site-packages/sklearn/externals/joblib/numpy_pickle.py\u001b[0m in \u001b[0;36mdump\u001b[0;34m(value, filename, compress, protocol, cache_size)\u001b[0m\n\u001b[1;32m    482\u001b[0m     \u001b[0;32melif\u001b[0m \u001b[0mis_filename\u001b[0m\u001b[0;34m:\u001b[0m\u001b[0;34m\u001b[0m\u001b[0m\n\u001b[1;32m    483\u001b[0m         \u001b[0;32mwith\u001b[0m \u001b[0mopen\u001b[0m\u001b[0;34m(\u001b[0m\u001b[0mfilename\u001b[0m\u001b[0;34m,\u001b[0m \u001b[0;34m'wb'\u001b[0m\u001b[0;34m)\u001b[0m \u001b[0;32mas\u001b[0m \u001b[0mf\u001b[0m\u001b[0;34m:\u001b[0m\u001b[0;34m\u001b[0m\u001b[0m\n\u001b[0;32m--> 484\u001b[0;31m             \u001b[0mNumpyPickler\u001b[0m\u001b[0;34m(\u001b[0m\u001b[0mf\u001b[0m\u001b[0;34m,\u001b[0m \u001b[0mprotocol\u001b[0m\u001b[0;34m=\u001b[0m\u001b[0mprotocol\u001b[0m\u001b[0;34m)\u001b[0m\u001b[0;34m.\u001b[0m\u001b[0mdump\u001b[0m\u001b[0;34m(\u001b[0m\u001b[0mvalue\u001b[0m\u001b[0;34m)\u001b[0m\u001b[0;34m\u001b[0m\u001b[0m\n\u001b[0m\u001b[1;32m    485\u001b[0m     \u001b[0;32melse\u001b[0m\u001b[0;34m:\u001b[0m\u001b[0;34m\u001b[0m\u001b[0m\n\u001b[1;32m    486\u001b[0m         \u001b[0mNumpyPickler\u001b[0m\u001b[0;34m(\u001b[0m\u001b[0mfilename\u001b[0m\u001b[0;34m,\u001b[0m \u001b[0mprotocol\u001b[0m\u001b[0;34m=\u001b[0m\u001b[0mprotocol\u001b[0m\u001b[0;34m)\u001b[0m\u001b[0;34m.\u001b[0m\u001b[0mdump\u001b[0m\u001b[0;34m(\u001b[0m\u001b[0mvalue\u001b[0m\u001b[0;34m)\u001b[0m\u001b[0;34m\u001b[0m\u001b[0m\n",
      "\u001b[0;32m~/anaconda3/lib/python3.6/pickle.py\u001b[0m in \u001b[0;36mdump\u001b[0;34m(self, obj)\u001b[0m\n\u001b[1;32m    407\u001b[0m         \u001b[0;32mif\u001b[0m \u001b[0mself\u001b[0m\u001b[0;34m.\u001b[0m\u001b[0mproto\u001b[0m \u001b[0;34m>=\u001b[0m \u001b[0;36m4\u001b[0m\u001b[0;34m:\u001b[0m\u001b[0;34m\u001b[0m\u001b[0m\n\u001b[1;32m    408\u001b[0m             \u001b[0mself\u001b[0m\u001b[0;34m.\u001b[0m\u001b[0mframer\u001b[0m\u001b[0;34m.\u001b[0m\u001b[0mstart_framing\u001b[0m\u001b[0;34m(\u001b[0m\u001b[0;34m)\u001b[0m\u001b[0;34m\u001b[0m\u001b[0m\n\u001b[0;32m--> 409\u001b[0;31m         \u001b[0mself\u001b[0m\u001b[0;34m.\u001b[0m\u001b[0msave\u001b[0m\u001b[0;34m(\u001b[0m\u001b[0mobj\u001b[0m\u001b[0;34m)\u001b[0m\u001b[0;34m\u001b[0m\u001b[0m\n\u001b[0m\u001b[1;32m    410\u001b[0m         \u001b[0mself\u001b[0m\u001b[0;34m.\u001b[0m\u001b[0mwrite\u001b[0m\u001b[0;34m(\u001b[0m\u001b[0mSTOP\u001b[0m\u001b[0;34m)\u001b[0m\u001b[0;34m\u001b[0m\u001b[0m\n\u001b[1;32m    411\u001b[0m         \u001b[0mself\u001b[0m\u001b[0;34m.\u001b[0m\u001b[0mframer\u001b[0m\u001b[0;34m.\u001b[0m\u001b[0mend_framing\u001b[0m\u001b[0;34m(\u001b[0m\u001b[0;34m)\u001b[0m\u001b[0;34m\u001b[0m\u001b[0m\n",
      "\u001b[0;32m~/anaconda3/lib/python3.6/site-packages/sklearn/externals/joblib/numpy_pickle.py\u001b[0m in \u001b[0;36msave\u001b[0;34m(self, obj)\u001b[0m\n\u001b[1;32m    276\u001b[0m \u001b[0;34m\u001b[0m\u001b[0m\n\u001b[1;32m    277\u001b[0m             \u001b[0;31m# And then array bytes are written right after the wrapper.\u001b[0m\u001b[0;34m\u001b[0m\u001b[0;34m\u001b[0m\u001b[0m\n\u001b[0;32m--> 278\u001b[0;31m             \u001b[0mwrapper\u001b[0m\u001b[0;34m.\u001b[0m\u001b[0mwrite_array\u001b[0m\u001b[0;34m(\u001b[0m\u001b[0mobj\u001b[0m\u001b[0;34m,\u001b[0m \u001b[0mself\u001b[0m\u001b[0;34m)\u001b[0m\u001b[0;34m\u001b[0m\u001b[0m\n\u001b[0m\u001b[1;32m    279\u001b[0m             \u001b[0;32mreturn\u001b[0m\u001b[0;34m\u001b[0m\u001b[0m\n\u001b[1;32m    280\u001b[0m \u001b[0;34m\u001b[0m\u001b[0m\n",
      "\u001b[0;32m~/anaconda3/lib/python3.6/site-packages/sklearn/externals/joblib/numpy_pickle.py\u001b[0m in \u001b[0;36mwrite_array\u001b[0;34m(self, array, pickler)\u001b[0m\n\u001b[1;32m     91\u001b[0m                                            \u001b[0mbuffersize\u001b[0m\u001b[0;34m=\u001b[0m\u001b[0mbuffersize\u001b[0m\u001b[0;34m,\u001b[0m\u001b[0;34m\u001b[0m\u001b[0m\n\u001b[1;32m     92\u001b[0m                                            order=self.order):\n\u001b[0;32m---> 93\u001b[0;31m                 \u001b[0mpickler\u001b[0m\u001b[0;34m.\u001b[0m\u001b[0mfile_handle\u001b[0m\u001b[0;34m.\u001b[0m\u001b[0mwrite\u001b[0m\u001b[0;34m(\u001b[0m\u001b[0mchunk\u001b[0m\u001b[0;34m.\u001b[0m\u001b[0mtostring\u001b[0m\u001b[0;34m(\u001b[0m\u001b[0;34m'C'\u001b[0m\u001b[0;34m)\u001b[0m\u001b[0;34m)\u001b[0m\u001b[0;34m\u001b[0m\u001b[0m\n\u001b[0m\u001b[1;32m     94\u001b[0m \u001b[0;34m\u001b[0m\u001b[0m\n\u001b[1;32m     95\u001b[0m     \u001b[0;32mdef\u001b[0m \u001b[0mread_array\u001b[0m\u001b[0;34m(\u001b[0m\u001b[0mself\u001b[0m\u001b[0;34m,\u001b[0m \u001b[0munpickler\u001b[0m\u001b[0;34m)\u001b[0m\u001b[0;34m:\u001b[0m\u001b[0;34m\u001b[0m\u001b[0m\n",
      "\u001b[0;31mOSError\u001b[0m: [Errno 28] No space left on device"
     ]
    }
   ],
   "source": [
    "lda = LatentDirichletAllocation(n_topics=5, max_iter=10, learning_method='online', learning_offset=50.,random_state=0,n_jobs=-1).fit(cv)"
   ]
  },
  {
   "cell_type": "code",
   "execution_count": null,
   "metadata": {
    "ExecuteTime": {
     "end_time": "2017-12-02T02:20:07.480151Z",
     "start_time": "2017-12-02T02:06:12.145Z"
    }
   },
   "outputs": [],
   "source": [
    "print(lda.print_topics(num_topics=5, num_words=3))"
   ]
  },
  {
   "cell_type": "code",
   "execution_count": null,
   "metadata": {
    "ExecuteTime": {
     "end_time": "2017-12-02T02:20:07.480879Z",
     "start_time": "2017-12-02T02:06:12.350Z"
    }
   },
   "outputs": [],
   "source": [
    "for topic in lda.show_topics(num_topics=6, formatted=False, num_words=6):\n",
    "    print(\"Topic {}: Words: \".format(topic[0]))\n",
    "    topicwords = [w for (w, val) in topic[1]]\n",
    "    print(topicwords)"
   ]
  },
  {
   "cell_type": "markdown",
   "metadata": {
    "ExecuteTime": {
     "end_time": "2017-11-25T01:34:16.968542Z",
     "start_time": "2017-11-25T01:34:16.965865Z"
    }
   },
   "source": [
    "## Quick NMF"
   ]
  },
  {
   "cell_type": "markdown",
   "metadata": {},
   "source": [
    "### TF-IDF"
   ]
  },
  {
   "cell_type": "code",
   "execution_count": 90,
   "metadata": {
    "ExecuteTime": {
     "end_time": "2017-11-27T21:28:06.117167Z",
     "start_time": "2017-11-27T21:28:03.927185Z"
    }
   },
   "outputs": [],
   "source": [
    "tf = TfidfVectorizer(stop_words=stop,use_idf=True,token_pattern=\"\\\\b[a-z][a-z]+\\\\b\",max_df=.6,min_df=.05)\n",
    "x = tf.fit_transform(appleDF.text)\n",
    "tf_feature_names = tf.get_feature_names()"
   ]
  },
  {
   "cell_type": "code",
   "execution_count": 91,
   "metadata": {
    "ExecuteTime": {
     "end_time": "2017-11-27T21:28:06.121179Z",
     "start_time": "2017-11-27T21:28:06.118559Z"
    }
   },
   "outputs": [
    {
     "name": "stdout",
     "output_type": "stream",
     "text": [
      "(171517, 14)\n"
     ]
    }
   ],
   "source": [
    "print(x.shape)"
   ]
  },
  {
   "cell_type": "code",
   "execution_count": 92,
   "metadata": {
    "ExecuteTime": {
     "end_time": "2017-11-27T21:28:07.009201Z",
     "start_time": "2017-11-27T21:28:06.122403Z"
    }
   },
   "outputs": [],
   "source": [
    "nmf = NMF(n_components=5, init='random')\n",
    "nmf_fit = nmf.fit_transform(x)"
   ]
  },
  {
   "cell_type": "code",
   "execution_count": 93,
   "metadata": {
    "ExecuteTime": {
     "end_time": "2017-11-27T21:28:07.014792Z",
     "start_time": "2017-11-27T21:28:07.010790Z"
    }
   },
   "outputs": [
    {
     "data": {
      "text/plain": [
       "['../models/nmf.pkl']"
      ]
     },
     "execution_count": 93,
     "metadata": {},
     "output_type": "execute_result"
    }
   ],
   "source": [
    "joblib.dump(nmf, '../models/nmf.pkl')"
   ]
  },
  {
   "cell_type": "code",
   "execution_count": 94,
   "metadata": {
    "ExecuteTime": {
     "end_time": "2017-11-27T21:28:07.020313Z",
     "start_time": "2017-11-27T21:28:07.016230Z"
    }
   },
   "outputs": [
    {
     "name": "stdout",
     "output_type": "stream",
     "text": [
      "Topic 0:\n",
      "help happy device using version issue\n",
      "Topic 1:\n",
      "iphone ios version using device apple\n",
      "Topic 2:\n",
      "please happy device apple version using\n",
      "Topic 3:\n",
      "phone apple update ios using work\n",
      "Topic 4:\n",
      "update issue work software device ios\n"
     ]
    }
   ],
   "source": [
    "display_topics(nmf,tf_feature_names,6)"
   ]
  },
  {
   "cell_type": "markdown",
   "metadata": {},
   "source": [
    "## Model with Just Customer Tweets"
   ]
  },
  {
   "cell_type": "code",
   "execution_count": 183,
   "metadata": {
    "ExecuteTime": {
     "end_time": "2017-12-04T20:12:43.645864Z",
     "start_time": "2017-12-04T20:12:42.137997Z"
    }
   },
   "outputs": [],
   "source": [
    "ioDF = pd.read_pickle('../data/io.pkl')"
   ]
  },
  {
   "cell_type": "markdown",
   "metadata": {},
   "source": [
    "### Tech Customer Topics"
   ]
  },
  {
   "cell_type": "code",
   "execution_count": 184,
   "metadata": {
    "ExecuteTime": {
     "end_time": "2017-12-04T20:12:47.274521Z",
     "start_time": "2017-12-04T20:12:45.483115Z"
    }
   },
   "outputs": [
    {
     "name": "stdout",
     "output_type": "stream",
     "text": [
      "(74632, 27)\n",
      "(4695, 27)\n",
      "(3049, 27)\n",
      "(5875, 27)\n"
     ]
    }
   ],
   "source": [
    "techioDF = get_industry_io(techlist,ioDF)"
   ]
  },
  {
   "cell_type": "code",
   "execution_count": 185,
   "metadata": {
    "ExecuteTime": {
     "end_time": "2017-12-04T20:20:29.828485Z",
     "start_time": "2017-12-04T20:12:49.907859Z"
    }
   },
   "outputs": [],
   "source": [
    "techioNMF,techioFeatures,techioDist = multi_get_topics_customer(techioDF,20,stop=stop,c=companies)"
   ]
  },
  {
   "cell_type": "code",
   "execution_count": 186,
   "metadata": {
    "ExecuteTime": {
     "end_time": "2017-12-04T20:20:29.852373Z",
     "start_time": "2017-12-04T20:20:29.829877Z"
    }
   },
   "outputs": [
    {
     "name": "stdout",
     "output_type": "stream",
     "text": [
      "Topic 0:\n",
      "ios updating bug slow ipad bugs\n",
      "Topic 1:\n",
      "iphone plus screen anyone slow else\n",
      "Topic 2:\n",
      "letter type eye without weird use\n",
      "Topic 3:\n",
      "printer hpprnt hppsdr print hpcswus hp\n",
      "Topic 4:\n",
      "battery life draining fast drain drains\n",
      "Topic 5:\n",
      "keeps freezing crashing apps turning keep\n",
      "Topic 6:\n",
      "wtf wrong yo happening went deleted\n",
      "Topic 7:\n",
      "question mark box hppsdr marks type\n",
      "Topic 8:\n",
      "problem fixed gonna anyone else solve\n",
      "Topic 9:\n",
      "shit together fucking fuck yo tired\n",
      "Topic 10:\n",
      "updated ever boxes seeing marks emojis\n",
      "Topic 11:\n",
      "fix gonna asap bug damn pls\n",
      "Topic 12:\n",
      "apple music watch id pay account\n",
      "Topic 13:\n",
      "hey guys siri fuck stop wanna\n",
      "Topic 14:\n",
      "annoying really getting keep bug fucking\n",
      "Topic 15:\n",
      "time every screen try type minutes\n",
      "Topic 16:\n",
      "phone fucking slow calls fuck charge\n",
      "Topic 17:\n",
      "glitch fixed keyboard stupid damn gonna\n",
      "Topic 18:\n",
      "app working store apps download work\n",
      "Topic 19:\n",
      "update latest last software apps ever\n"
     ]
    }
   ],
   "source": [
    "display_topics(techioNMF,techioFeatures,6)"
   ]
  },
  {
   "cell_type": "markdown",
   "metadata": {},
   "source": [
    "### Apple Specific"
   ]
  },
  {
   "cell_type": "code",
   "execution_count": 187,
   "metadata": {
    "ExecuteTime": {
     "end_time": "2017-12-04T20:26:28.930459Z",
     "start_time": "2017-12-04T20:20:46.452101Z"
    }
   },
   "outputs": [
    {
     "name": "stdout",
     "output_type": "stream",
     "text": [
      "dataframe shape: (74632, 27)\n"
     ]
    }
   ],
   "source": [
    "apple2NMF,apple2Features,apple2Dist = get_topics_customer('AppleSupport',10,ioDF,maxdf=.6,stop=stop)"
   ]
  },
  {
   "cell_type": "code",
   "execution_count": 188,
   "metadata": {
    "ExecuteTime": {
     "end_time": "2017-12-04T20:26:28.944511Z",
     "start_time": "2017-12-04T20:26:28.931869Z"
    }
   },
   "outputs": [
    {
     "name": "stdout",
     "output_type": "stream",
     "text": [
      "Topic 0:\n",
      "phone updated freezing keeps ever fucking\n",
      "Topic 1:\n",
      "iphone plus keeps screen freezing anyone\n",
      "Topic 2:\n",
      "shit together fucking fuck yo annoying\n",
      "Topic 3:\n",
      "apple music app watch store working\n",
      "Topic 4:\n",
      "question mark letter type box marks\n",
      "Topic 5:\n",
      "ios battery life draining fast drain\n",
      "Topic 6:\n",
      "fix glitch gonna bug damn asap\n",
      "Topic 7:\n",
      "hey problem fixed guys gonna type\n",
      "Topic 8:\n",
      "update latest apps last software slow\n",
      "Topic 9:\n",
      "wtf wrong yo happening went deleted\n"
     ]
    }
   ],
   "source": [
    "display_topics(apple2NMF,apple2Features,6)"
   ]
  },
  {
   "cell_type": "code",
   "execution_count": 189,
   "metadata": {
    "ExecuteTime": {
     "end_time": "2017-12-04T20:26:28.951273Z",
     "start_time": "2017-12-04T20:26:28.945693Z"
    }
   },
   "outputs": [
    {
     "data": {
      "text/html": [
       "<div>\n",
       "<style scoped>\n",
       "    .dataframe tbody tr th:only-of-type {\n",
       "        vertical-align: middle;\n",
       "    }\n",
       "\n",
       "    .dataframe tbody tr th {\n",
       "        vertical-align: top;\n",
       "    }\n",
       "\n",
       "    .dataframe thead th {\n",
       "        text-align: right;\n",
       "    }\n",
       "</style>\n",
       "<table border=\"1\" class=\"dataframe\">\n",
       "  <thead>\n",
       "    <tr style=\"text-align: right;\">\n",
       "      <th></th>\n",
       "      <th>tweet_category</th>\n",
       "      <th>tweet_count</th>\n",
       "    </tr>\n",
       "  </thead>\n",
       "  <tbody>\n",
       "    <tr>\n",
       "      <th>0</th>\n",
       "      <td>0</td>\n",
       "      <td>15834</td>\n",
       "    </tr>\n",
       "    <tr>\n",
       "      <th>3</th>\n",
       "      <td>3</td>\n",
       "      <td>13738</td>\n",
       "    </tr>\n",
       "    <tr>\n",
       "      <th>1</th>\n",
       "      <td>1</td>\n",
       "      <td>11130</td>\n",
       "    </tr>\n",
       "    <tr>\n",
       "      <th>5</th>\n",
       "      <td>5</td>\n",
       "      <td>7224</td>\n",
       "    </tr>\n",
       "    <tr>\n",
       "      <th>8</th>\n",
       "      <td>8</td>\n",
       "      <td>6338</td>\n",
       "    </tr>\n",
       "    <tr>\n",
       "      <th>4</th>\n",
       "      <td>4</td>\n",
       "      <td>5736</td>\n",
       "    </tr>\n",
       "    <tr>\n",
       "      <th>6</th>\n",
       "      <td>6</td>\n",
       "      <td>5337</td>\n",
       "    </tr>\n",
       "    <tr>\n",
       "      <th>2</th>\n",
       "      <td>2</td>\n",
       "      <td>3225</td>\n",
       "    </tr>\n",
       "    <tr>\n",
       "      <th>9</th>\n",
       "      <td>9</td>\n",
       "      <td>3089</td>\n",
       "    </tr>\n",
       "    <tr>\n",
       "      <th>7</th>\n",
       "      <td>7</td>\n",
       "      <td>2962</td>\n",
       "    </tr>\n",
       "  </tbody>\n",
       "</table>\n",
       "</div>"
      ],
      "text/plain": [
       "   tweet_category  tweet_count\n",
       "0               0        15834\n",
       "3               3        13738\n",
       "1               1        11130\n",
       "5               5         7224\n",
       "8               8         6338\n",
       "4               4         5736\n",
       "6               6         5337\n",
       "2               2         3225\n",
       "9               9         3089\n",
       "7               7         2962"
      ]
     },
     "execution_count": 189,
     "metadata": {},
     "output_type": "execute_result"
    }
   ],
   "source": [
    "apple2Dist"
   ]
  },
  {
   "cell_type": "markdown",
   "metadata": {
    "ExecuteTime": {
     "end_time": "2017-12-08T04:12:27.217302Z",
     "start_time": "2017-12-08T04:12:27.214366Z"
    }
   },
   "source": [
    "### Apple 2"
   ]
  },
  {
   "cell_type": "code",
   "execution_count": 27,
   "metadata": {
    "ExecuteTime": {
     "end_time": "2017-12-09T23:39:26.950086Z",
     "start_time": "2017-12-09T23:39:26.947825Z"
    }
   },
   "outputs": [],
   "source": [
    "from datetime import datetime"
   ]
  },
  {
   "cell_type": "code",
   "execution_count": 25,
   "metadata": {
    "ExecuteTime": {
     "end_time": "2017-12-09T23:39:11.676847Z",
     "start_time": "2017-12-09T23:39:11.514360Z"
    }
   },
   "outputs": [],
   "source": [
    "appleNew = pd.read_pickle('../data/apple.pkl')"
   ]
  },
  {
   "cell_type": "code",
   "execution_count": 28,
   "metadata": {
    "ExecuteTime": {
     "end_time": "2017-12-09T23:39:28.699493Z",
     "start_time": "2017-12-09T23:39:28.687994Z"
    }
   },
   "outputs": [],
   "source": [
    "apple_tweets = appleNew.loc[appleNew.date_x > datetime(2017, 10, 31)]"
   ]
  },
  {
   "cell_type": "code",
   "execution_count": 107,
   "metadata": {
    "ExecuteTime": {
     "end_time": "2017-12-10T01:01:26.757953Z",
     "start_time": "2017-12-10T01:01:26.744721Z"
    }
   },
   "outputs": [],
   "source": [
    "cleanApple = apple_tweets.copy()"
   ]
  },
  {
   "cell_type": "code",
   "execution_count": 108,
   "metadata": {
    "ExecuteTime": {
     "end_time": "2017-12-10T01:01:31.806525Z",
     "start_time": "2017-12-10T01:01:27.232034Z"
    }
   },
   "outputs": [],
   "source": [
    "cleanApple['text_x'] = cleanApple.text_x.apply(lambda x: process_tweet_text(x))"
   ]
  },
  {
   "cell_type": "code",
   "execution_count": 109,
   "metadata": {
    "ExecuteTime": {
     "end_time": "2017-12-10T01:01:32.025601Z",
     "start_time": "2017-12-10T01:01:31.807902Z"
    }
   },
   "outputs": [],
   "source": [
    "cleanApple.to_pickle('../data/cleanAppleFiltered.pkl')"
   ]
  },
  {
   "cell_type": "code",
   "execution_count": 31,
   "metadata": {
    "ExecuteTime": {
     "end_time": "2017-12-09T23:42:00.034934Z",
     "start_time": "2017-12-09T23:39:48.414530Z"
    }
   },
   "outputs": [
    {
     "name": "stdout",
     "output_type": "stream",
     "text": [
      "dataframe shape: (46061, 27)\n"
     ]
    }
   ],
   "source": [
    "a2NMF,a2Features,a2Dist = get_topics_customer('AppleSupport',10,cleanApple,maxdf=.6,stop=stop)"
   ]
  },
  {
   "cell_type": "code",
   "execution_count": 32,
   "metadata": {
    "ExecuteTime": {
     "end_time": "2017-12-09T23:42:00.041806Z",
     "start_time": "2017-12-09T23:42:00.036379Z"
    }
   },
   "outputs": [
    {
     "name": "stdout",
     "output_type": "stream",
     "text": [
      "Topic 0:\n",
      "phone keep freezing slow seeing stop\n",
      "Topic 1:\n",
      "letter eye use weird keyboard symbol\n",
      "Topic 2:\n",
      "battery life drain fast check last\n",
      "Topic 3:\n",
      "problem fixed else yet apple needs\n",
      "Topic 4:\n",
      "question mark box seeing keep tired\n",
      "Topic 5:\n",
      "time every working screen work apple\n",
      "Topic 6:\n",
      "annoying really getting bug together fixed\n",
      "Topic 7:\n",
      "type without happening try weird whenever\n",
      "Topic 8:\n",
      "update latest last slow work recent\n",
      "Topic 9:\n",
      "fix bug damn keyboard already situation\n"
     ]
    }
   ],
   "source": [
    "display_topics(a2NMF,a2Features,6)"
   ]
  },
  {
   "cell_type": "code",
   "execution_count": 33,
   "metadata": {
    "ExecuteTime": {
     "end_time": "2017-12-09T23:42:00.051761Z",
     "start_time": "2017-12-09T23:42:00.043130Z"
    }
   },
   "outputs": [
    {
     "data": {
      "text/html": [
       "<div>\n",
       "<style scoped>\n",
       "    .dataframe tbody tr th:only-of-type {\n",
       "        vertical-align: middle;\n",
       "    }\n",
       "\n",
       "    .dataframe tbody tr th {\n",
       "        vertical-align: top;\n",
       "    }\n",
       "\n",
       "    .dataframe thead th {\n",
       "        text-align: right;\n",
       "    }\n",
       "</style>\n",
       "<table border=\"1\" class=\"dataframe\">\n",
       "  <thead>\n",
       "    <tr style=\"text-align: right;\">\n",
       "      <th></th>\n",
       "      <th>tweet_category</th>\n",
       "      <th>tweet_count</th>\n",
       "    </tr>\n",
       "  </thead>\n",
       "  <tbody>\n",
       "    <tr>\n",
       "      <th>5</th>\n",
       "      <td>5</td>\n",
       "      <td>11722</td>\n",
       "    </tr>\n",
       "    <tr>\n",
       "      <th>0</th>\n",
       "      <td>0</td>\n",
       "      <td>8278</td>\n",
       "    </tr>\n",
       "    <tr>\n",
       "      <th>9</th>\n",
       "      <td>9</td>\n",
       "      <td>6842</td>\n",
       "    </tr>\n",
       "    <tr>\n",
       "      <th>6</th>\n",
       "      <td>6</td>\n",
       "      <td>4635</td>\n",
       "    </tr>\n",
       "    <tr>\n",
       "      <th>2</th>\n",
       "      <td>2</td>\n",
       "      <td>3894</td>\n",
       "    </tr>\n",
       "    <tr>\n",
       "      <th>8</th>\n",
       "      <td>8</td>\n",
       "      <td>3194</td>\n",
       "    </tr>\n",
       "    <tr>\n",
       "      <th>1</th>\n",
       "      <td>1</td>\n",
       "      <td>2205</td>\n",
       "    </tr>\n",
       "    <tr>\n",
       "      <th>4</th>\n",
       "      <td>4</td>\n",
       "      <td>2017</td>\n",
       "    </tr>\n",
       "    <tr>\n",
       "      <th>3</th>\n",
       "      <td>3</td>\n",
       "      <td>1875</td>\n",
       "    </tr>\n",
       "    <tr>\n",
       "      <th>7</th>\n",
       "      <td>7</td>\n",
       "      <td>1384</td>\n",
       "    </tr>\n",
       "  </tbody>\n",
       "</table>\n",
       "</div>"
      ],
      "text/plain": [
       "   tweet_category  tweet_count\n",
       "5               5        11722\n",
       "0               0         8278\n",
       "9               9         6842\n",
       "6               6         4635\n",
       "2               2         3894\n",
       "8               8         3194\n",
       "1               1         2205\n",
       "4               4         2017\n",
       "3               3         1875\n",
       "7               7         1384"
      ]
     },
     "execution_count": 33,
     "metadata": {},
     "output_type": "execute_result"
    }
   ],
   "source": [
    "a2Dist"
   ]
  },
  {
   "cell_type": "markdown",
   "metadata": {},
   "source": [
    "## Apple LDA"
   ]
  },
  {
   "cell_type": "code",
   "execution_count": 35,
   "metadata": {
    "ExecuteTime": {
     "end_time": "2017-12-09T23:43:03.393641Z",
     "start_time": "2017-12-09T23:43:03.022675Z"
    }
   },
   "outputs": [
    {
     "name": "stderr",
     "output_type": "stream",
     "text": [
      "Slow version of gensim.models.doc2vec is being used\n"
     ]
    }
   ],
   "source": [
    "import gensim\n",
    "from gensim import corpora"
   ]
  },
  {
   "cell_type": "code",
   "execution_count": 101,
   "metadata": {
    "ExecuteTime": {
     "end_time": "2017-12-10T00:54:18.645252Z",
     "start_time": "2017-12-10T00:54:14.033318Z"
    }
   },
   "outputs": [],
   "source": [
    "apple_clean= [process_tweet_text(doc).split() for doc in apple_tweets.text_x]  "
   ]
  },
  {
   "cell_type": "code",
   "execution_count": 102,
   "metadata": {
    "ExecuteTime": {
     "end_time": "2017-12-10T00:54:19.619709Z",
     "start_time": "2017-12-10T00:54:19.616720Z"
    }
   },
   "outputs": [
    {
     "data": {
      "text/plain": [
       "[['wrong,keyboard']]"
      ]
     },
     "execution_count": 102,
     "metadata": {},
     "output_type": "execute_result"
    }
   ],
   "source": [
    "apple_clean[:1]"
   ]
  },
  {
   "cell_type": "code",
   "execution_count": 91,
   "metadata": {
    "ExecuteTime": {
     "end_time": "2017-12-10T00:36:53.888580Z",
     "start_time": "2017-12-10T00:36:53.672751Z"
    }
   },
   "outputs": [],
   "source": [
    "dictionary = corpora.Dictionary(apple_clean)"
   ]
  },
  {
   "cell_type": "code",
   "execution_count": 92,
   "metadata": {
    "ExecuteTime": {
     "end_time": "2017-12-10T00:36:55.768468Z",
     "start_time": "2017-12-10T00:36:55.513160Z"
    }
   },
   "outputs": [],
   "source": [
    "doc_term_matrix = [dictionary.doc2bow(doc) for doc in apple_clean]"
   ]
  },
  {
   "cell_type": "code",
   "execution_count": 93,
   "metadata": {
    "ExecuteTime": {
     "end_time": "2017-12-10T00:41:10.889132Z",
     "start_time": "2017-12-10T00:36:56.445667Z"
    }
   },
   "outputs": [],
   "source": [
    "lda = gensim.models.ldamodel.LdaModel(doc_term_matrix, num_topics=15, id2word = dictionary, passes=10)"
   ]
  },
  {
   "cell_type": "code",
   "execution_count": 94,
   "metadata": {
    "ExecuteTime": {
     "end_time": "2017-12-10T00:41:10.896846Z",
     "start_time": "2017-12-10T00:41:10.890459Z"
    }
   },
   "outputs": [
    {
     "name": "stdout",
     "output_type": "stream",
     "text": [
      "[(6, '0.032*\"update,phone\" + 0.025*\"major,bug,phone,showing,signal,getting,airplane,mode,security\" + 0.025*\"continuity,work\"'), (12, '0.023*\"inquire,something,regarding,refund,item\" + 0.023*\"dont,care,feature,life,battery\" + 0.023*\"private,message\"'), (11, '0.026*\"phone,weird,ass,ever,latest,update,explain\" + 0.026*\"sort,server,keep,delete,good,chocolate,teapot,sake\" + 0.009*\"fixed\"'), (8, '0.024*\"anyway,check,battery,health\" + 0.024*\"headphone,inside,ear,mighty,headache\" + 0.024*\"anyone,else,person,goes,saying,stay,read,sit,thinking,message,read\"'), (3, '0.025*\"open\" + 0.025*\"letter,broken\" + 0.025*\"screen,goes,dark,brightness,disabled,goes,dark\"'), (4, '0.025*\"idea,duplicate,copy,work,request,sheet,recent,work,carried,lost,original\" + 0.025*\"reset,phone,none\" + 0.007*\"work\"'), (2, '0.026*\"stupid,update,freezing,phone\" + 0.006*\"update,fix\" + 0.005*\"fix,letter\"'), (5, '0.025*\"literally,month,already,broke,replacement\" + 0.025*\"fix,running,incredibly,slow,last,update,hit,button,later,finally\" + 0.025*\"future,notice\"'), (7, '0.044*\"battery,twice,mind,fix\" + 0.023*\"phone,went\" + 0.022*\"setting,longer,apply,work,always,live\"'), (14, '0.128*\"fix\" + 0.024*\"demand,phone,rocky,mine,calling,randomly,last,thats,absolutely,unacceptable\" + 0.024*\"unable,log\"')]\n"
     ]
    }
   ],
   "source": [
    "print(lda.print_topics(num_topics=10, num_words=3))"
   ]
  },
  {
   "cell_type": "code",
   "execution_count": 95,
   "metadata": {
    "ExecuteTime": {
     "end_time": "2017-12-10T00:41:10.907057Z",
     "start_time": "2017-12-10T00:41:10.898091Z"
    }
   },
   "outputs": [
    {
     "name": "stdout",
     "output_type": "stream",
     "text": [
      "Topic 1: Words: \n",
      "['ever,phone,auto,correcting,freezing,type', 'anyone,else,capital', 'fix,fact,type,without,turning', 'stuck,update,loop,recent,upgrade,access', 'perpetually,never,finishing,plenty,storage,space', 'making,useless']\n",
      "Topic 10: Words: \n",
      "['love,second,everything,working,next,use,anything,turn', 'phone,hot,mess,today,comes,phone,last,tweet', 'annoying', 'con', 'hell', 'beta']\n",
      "Topic 13: Words: \n",
      "['hide,notification,text,hide,text,hide,whole,text', 'apple', 'check', 'fix,bug', 'downgrade', 'came']\n",
      "Topic 8: Words: \n",
      "['anyway,check,battery,health', 'headphone,inside,ear,mighty,headache', 'anyone,else,person,goes,saying,stay,read,sit,thinking,message,read', 'phone,working,sort,paying', 'default,layout,progress,default', 'citizen,currently,lost,stolen,want,buy,replacement,year,warranty,work']\n",
      "Topic 9: Words: \n",
      "['already,update', 'train,return,rightful,owner', 'excuse,phone', 'update,use,store,always,ask,user,password,accept', 'act,together,custom,defective,horrific,customer,service,treat,loyal,slipped', 'working']\n",
      "Topic 5: Words: \n",
      "['future,notice', 'operating,system,occupy,almost,phone,storage', 'literally,month,already,broke,replacement', 'fix,running,incredibly,slow,last,update,hit,button,later,finally', 'type', 'type,letter']\n",
      "Topic 12: Words: \n",
      "['inquire,something,regarding,refund,item', 'dont,care,feature,life,battery', 'private,message', 'saving,due,traffic,sending,winding,lane,gravel,mountain,road', 'latest,return,date,gift,yesterday,two,return,date,extended', 'switch,walk,outside,battery,full,bay,warm,coat']\n",
      "Topic 3: Words: \n",
      "['open', 'letter,broken', 'screen,goes,dark,brightness,disabled,goes,dark', 'really,gone,fix', 'update', 'fix,phone']\n",
      "Topic 0: Words: \n",
      "['phone', 'wrong', 'fixed,yet', 'getting', 'fake', 'annoying,fix']\n",
      "Topic 4: Words: \n",
      "['idea,duplicate,copy,work,request,sheet,recent,work,carried,lost,original', 'reset,phone,none', 'work', 'delete', 'stupid', 'message']\n"
     ]
    }
   ],
   "source": [
    "for topic in lda.show_topics(num_topics=10, formatted=False, num_words=6):\n",
    "    print(\"Topic {}: Words: \".format(topic[0]))\n",
    "    topicwords = [w for (w, val) in topic[1]]\n",
    "    print(topicwords)"
   ]
  },
  {
   "cell_type": "markdown",
   "metadata": {},
   "source": [
    "## Apple LDA SKLearn"
   ]
  },
  {
   "cell_type": "code",
   "execution_count": 59,
   "metadata": {
    "ExecuteTime": {
     "end_time": "2017-12-10T00:07:00.183290Z",
     "start_time": "2017-12-10T00:06:59.899519Z"
    }
   },
   "outputs": [],
   "source": [
    "cv_vectorizer = CountVectorizer(stop_words=stop)\n",
    "cv = cv_vectorizer.fit_transform(cleanApple.text_x)\n",
    "cv_feature_names = cv_vectorizer.get_feature_names()"
   ]
  },
  {
   "cell_type": "code",
   "execution_count": 60,
   "metadata": {
    "ExecuteTime": {
     "end_time": "2017-12-10T00:08:35.109851Z",
     "start_time": "2017-12-10T00:07:00.405029Z"
    }
   },
   "outputs": [
    {
     "name": "stderr",
     "output_type": "stream",
     "text": [
      "/home/xavier/anaconda3/lib/python3.6/site-packages/sklearn/decomposition/online_lda.py:294: DeprecationWarning: n_topics has been renamed to n_components in version 0.19 and will be removed in 0.21\n",
      "  DeprecationWarning)\n"
     ]
    }
   ],
   "source": [
    "ldaSK = LatentDirichletAllocation(n_topics=5, max_iter=10, learning_method='online', learning_offset=50.,random_state=0,n_jobs=-1).fit(cv)"
   ]
  },
  {
   "cell_type": "code",
   "execution_count": 61,
   "metadata": {
    "ExecuteTime": {
     "end_time": "2017-12-10T00:08:35.113826Z",
     "start_time": "2017-12-10T00:08:35.111577Z"
    }
   },
   "outputs": [],
   "source": [
    "from wordcloud import WordCloud, STOPWORDS"
   ]
  },
  {
   "cell_type": "code",
   "execution_count": 96,
   "metadata": {
    "ExecuteTime": {
     "end_time": "2017-12-10T00:41:10.910528Z",
     "start_time": "2017-12-10T00:41:10.908301Z"
    }
   },
   "outputs": [],
   "source": [
    "# for t in range(lda.num_topics):\n",
    "#     plt.figure()\n",
    "#     plt.imshow(WordCloud().fit_words(lda.show_topic(t, 20)))\n",
    "#     plt.axis(\"off\")\n",
    "#     plt.title(\"Topic #\" + str(t))\n",
    "#     plt.show()"
   ]
  },
  {
   "cell_type": "code",
   "execution_count": 97,
   "metadata": {
    "ExecuteTime": {
     "end_time": "2017-12-10T00:41:10.931584Z",
     "start_time": "2017-12-10T00:41:10.911766Z"
    }
   },
   "outputs": [],
   "source": [
    "for i in range(10, lda.num_topics):\n",
    "    with open('output_file.txt', 'w') as outfile:\n",
    "        outfile.write('{}\\n'.format('Topic #' + str(i + 1) + ': '))\n",
    "        for word, prob in lda.show_topic(i, topn=20):\n",
    "            outfile.write('{}\\n'.format(word.encode('utf-8')))\n",
    "        outfile.write('\\n')"
   ]
  },
  {
   "cell_type": "markdown",
   "metadata": {},
   "source": [
    "## Clean Southwest"
   ]
  },
  {
   "cell_type": "code",
   "execution_count": null,
   "metadata": {},
   "outputs": [],
   "source": []
  },
  {
   "cell_type": "code",
   "execution_count": 116,
   "metadata": {
    "ExecuteTime": {
     "end_time": "2017-12-10T19:53:54.393055Z",
     "start_time": "2017-12-10T19:53:54.353938Z"
    }
   },
   "outputs": [],
   "source": [
    "sw = pd.read_pickle('../data/soutwest.pkl')"
   ]
  },
  {
   "cell_type": "code",
   "execution_count": 117,
   "metadata": {
    "ExecuteTime": {
     "end_time": "2017-12-10T19:53:54.979358Z",
     "start_time": "2017-12-10T19:53:54.975480Z"
    }
   },
   "outputs": [],
   "source": [
    "sw_tweets = sw.loc[sw.date_x > datetime(2017, 11, 26)]"
   ]
  },
  {
   "cell_type": "code",
   "execution_count": 118,
   "metadata": {
    "ExecuteTime": {
     "end_time": "2017-12-10T19:53:55.649078Z",
     "start_time": "2017-12-10T19:53:55.645590Z"
    }
   },
   "outputs": [],
   "source": [
    "cleanSW = sw_tweets.copy()"
   ]
  },
  {
   "cell_type": "code",
   "execution_count": 119,
   "metadata": {
    "ExecuteTime": {
     "end_time": "2017-12-10T19:53:56.465212Z",
     "start_time": "2017-12-10T19:53:56.157584Z"
    }
   },
   "outputs": [],
   "source": [
    "cleanSW['text_x'] = cleanSW.text_x.apply(lambda x: process_tweet_text(x))"
   ]
  },
  {
   "cell_type": "code",
   "execution_count": 120,
   "metadata": {
    "ExecuteTime": {
     "end_time": "2017-12-10T19:53:56.992483Z",
     "start_time": "2017-12-10T19:53:56.980396Z"
    }
   },
   "outputs": [],
   "source": [
    "cleanSW.to_pickle('../data/cleanSWFiltered.pkl')"
   ]
  },
  {
   "cell_type": "code",
   "execution_count": null,
   "metadata": {},
   "outputs": [],
   "source": []
  },
  {
   "cell_type": "code",
   "execution_count": null,
   "metadata": {},
   "outputs": [],
   "source": []
  },
  {
   "cell_type": "code",
   "execution_count": null,
   "metadata": {},
   "outputs": [],
   "source": []
  },
  {
   "cell_type": "code",
   "execution_count": null,
   "metadata": {},
   "outputs": [],
   "source": []
  },
  {
   "cell_type": "code",
   "execution_count": null,
   "metadata": {},
   "outputs": [],
   "source": []
  },
  {
   "cell_type": "markdown",
   "metadata": {},
   "source": [
    "### Activision"
   ]
  },
  {
   "cell_type": "code",
   "execution_count": 193,
   "metadata": {
    "ExecuteTime": {
     "end_time": "2017-12-04T22:50:32.673968Z",
     "start_time": "2017-12-04T22:50:22.733277Z"
    }
   },
   "outputs": [
    {
     "name": "stdout",
     "output_type": "stream",
     "text": [
      "dataframe shape: (10279, 27)\n"
     ]
    }
   ],
   "source": [
    "#ATVIAssist \n",
    "atNMF,atFeatures,atDist= get_topics_customer('ATVIAssist',15,ioDF,stop=stop)"
   ]
  },
  {
   "cell_type": "code",
   "execution_count": 194,
   "metadata": {
    "ExecuteTime": {
     "end_time": "2017-12-04T22:50:32.681843Z",
     "start_time": "2017-12-04T22:50:32.675283Z"
    }
   },
   "outputs": [
    {
     "name": "stdout",
     "output_type": "stream",
     "text": [
      "Topic 0:\n",
      "game every fucking time broken disconnected lobby restart\n",
      "Topic 1:\n",
      "cod points wwii digital bought deluxe edition received\n",
      "Topic 2:\n",
      "pass season download dlc iw pay warfare infinite\n",
      "Topic 3:\n",
      "supply drops drop rare lost open keys zombies\n",
      "Topic 4:\n",
      "servers connect fucking disconnected dedicated guys pc ffs\n",
      "Topic 5:\n",
      "play online able cant multiplayer friends connect trying\n",
      "Topic 6:\n",
      "update coming failure restart pc next last today\n",
      "Topic 7:\n",
      "black screen party ops match every loading lobby\n",
      "Topic 8:\n",
      "glitch hoc du pointe map point patch people\n",
      "Topic 9:\n",
      "pre order ordered download bonus token unlock digital\n",
      "Topic 10:\n",
      "fix shit fucking plz pls spawns guys damn\n",
      "Topic 11:\n",
      "xbox call duty headquarters wwii connect hq live\n",
      "Topic 12:\n",
      "xp double level prestige token reset orders unlock\n",
      "Topic 13:\n",
      "code online redeem redeemed connect work multiplayer failure\n",
      "Topic 14:\n",
      "getting keep disconnected keys kicked server games trying\n"
     ]
    }
   ],
   "source": [
    "display_topics(atNMF,atFeatures,8)"
   ]
  },
  {
   "cell_type": "code",
   "execution_count": 195,
   "metadata": {
    "ExecuteTime": {
     "end_time": "2017-12-04T22:50:33.847194Z",
     "start_time": "2017-12-04T22:50:33.841305Z"
    }
   },
   "outputs": [
    {
     "data": {
      "text/html": [
       "<div>\n",
       "<style scoped>\n",
       "    .dataframe tbody tr th:only-of-type {\n",
       "        vertical-align: middle;\n",
       "    }\n",
       "\n",
       "    .dataframe tbody tr th {\n",
       "        vertical-align: top;\n",
       "    }\n",
       "\n",
       "    .dataframe thead th {\n",
       "        text-align: right;\n",
       "    }\n",
       "</style>\n",
       "<table border=\"1\" class=\"dataframe\">\n",
       "  <thead>\n",
       "    <tr style=\"text-align: right;\">\n",
       "      <th></th>\n",
       "      <th>tweet_category</th>\n",
       "      <th>tweet_count</th>\n",
       "    </tr>\n",
       "  </thead>\n",
       "  <tbody>\n",
       "    <tr>\n",
       "      <th>0</th>\n",
       "      <td>0</td>\n",
       "      <td>1498</td>\n",
       "    </tr>\n",
       "    <tr>\n",
       "      <th>12</th>\n",
       "      <td>12</td>\n",
       "      <td>1169</td>\n",
       "    </tr>\n",
       "    <tr>\n",
       "      <th>5</th>\n",
       "      <td>5</td>\n",
       "      <td>790</td>\n",
       "    </tr>\n",
       "    <tr>\n",
       "      <th>10</th>\n",
       "      <td>10</td>\n",
       "      <td>770</td>\n",
       "    </tr>\n",
       "    <tr>\n",
       "      <th>14</th>\n",
       "      <td>14</td>\n",
       "      <td>717</td>\n",
       "    </tr>\n",
       "    <tr>\n",
       "      <th>7</th>\n",
       "      <td>7</td>\n",
       "      <td>622</td>\n",
       "    </tr>\n",
       "    <tr>\n",
       "      <th>1</th>\n",
       "      <td>1</td>\n",
       "      <td>604</td>\n",
       "    </tr>\n",
       "    <tr>\n",
       "      <th>8</th>\n",
       "      <td>8</td>\n",
       "      <td>579</td>\n",
       "    </tr>\n",
       "    <tr>\n",
       "      <th>11</th>\n",
       "      <td>11</td>\n",
       "      <td>569</td>\n",
       "    </tr>\n",
       "    <tr>\n",
       "      <th>3</th>\n",
       "      <td>3</td>\n",
       "      <td>516</td>\n",
       "    </tr>\n",
       "    <tr>\n",
       "      <th>4</th>\n",
       "      <td>4</td>\n",
       "      <td>508</td>\n",
       "    </tr>\n",
       "    <tr>\n",
       "      <th>6</th>\n",
       "      <td>6</td>\n",
       "      <td>496</td>\n",
       "    </tr>\n",
       "    <tr>\n",
       "      <th>9</th>\n",
       "      <td>9</td>\n",
       "      <td>424</td>\n",
       "    </tr>\n",
       "    <tr>\n",
       "      <th>2</th>\n",
       "      <td>2</td>\n",
       "      <td>380</td>\n",
       "    </tr>\n",
       "    <tr>\n",
       "      <th>13</th>\n",
       "      <td>13</td>\n",
       "      <td>271</td>\n",
       "    </tr>\n",
       "  </tbody>\n",
       "</table>\n",
       "</div>"
      ],
      "text/plain": [
       "    tweet_category  tweet_count\n",
       "0                0         1498\n",
       "12              12         1169\n",
       "5                5          790\n",
       "10              10          770\n",
       "14              14          717\n",
       "7                7          622\n",
       "1                1          604\n",
       "8                8          579\n",
       "11              11          569\n",
       "3                3          516\n",
       "4                4          508\n",
       "6                6          496\n",
       "9                9          424\n",
       "2                2          380\n",
       "13              13          271"
      ]
     },
     "execution_count": 195,
     "metadata": {},
     "output_type": "execute_result"
    }
   ],
   "source": [
    "atDist"
   ]
  },
  {
   "cell_type": "markdown",
   "metadata": {
    "ExecuteTime": {
     "end_time": "2017-12-01T17:30:32.097851Z",
     "start_time": "2017-12-01T17:30:32.095829Z"
    }
   },
   "source": [
    "#### Apple Clean"
   ]
  },
  {
   "cell_type": "code",
   "execution_count": 219,
   "metadata": {
    "ExecuteTime": {
     "end_time": "2017-12-05T03:39:49.166891Z",
     "start_time": "2017-12-05T03:34:09.083077Z"
    }
   },
   "outputs": [
    {
     "name": "stdout",
     "output_type": "stream",
     "text": [
      "dataframe shape: (74632, 27)\n"
     ]
    }
   ],
   "source": [
    "appleCleanNMF,appleCleanFeatures,appleCleanDist= get_topics_customer('AppleSupport',10,cleanIODF,stop=stop)"
   ]
  },
  {
   "cell_type": "code",
   "execution_count": 220,
   "metadata": {
    "ExecuteTime": {
     "end_time": "2017-12-05T03:39:49.174421Z",
     "start_time": "2017-12-05T03:39:49.168276Z"
    }
   },
   "outputs": [
    {
     "name": "stdout",
     "output_type": "stream",
     "text": [
      "Topic 0:\n",
      "fix damn keyboard already situation tired\n",
      "Topic 1:\n",
      "working time every work screen music\n",
      "Topic 2:\n",
      "phone freezing slow ever times charge\n",
      "Topic 3:\n",
      "update latest last slow ever freezing\n",
      "Topic 4:\n",
      "question mark box seeing tired damn\n",
      "Topic 5:\n",
      "bug fixed keyboard screen apple stupid\n",
      "Topic 6:\n",
      "letter type eye weird without use\n",
      "Topic 7:\n",
      "battery life fast drain last charge\n",
      "Topic 8:\n",
      "annoying getting keep really freezing together\n",
      "Topic 9:\n",
      "problem fixed else apple anyone solve\n"
     ]
    }
   ],
   "source": [
    "display_topics(appleCleanNMF,appleCleanFeatures,6)"
   ]
  },
  {
   "cell_type": "code",
   "execution_count": 221,
   "metadata": {
    "ExecuteTime": {
     "end_time": "2017-12-05T03:39:49.181336Z",
     "start_time": "2017-12-05T03:39:49.175629Z"
    }
   },
   "outputs": [
    {
     "data": {
      "text/html": [
       "<div>\n",
       "<style scoped>\n",
       "    .dataframe tbody tr th:only-of-type {\n",
       "        vertical-align: middle;\n",
       "    }\n",
       "\n",
       "    .dataframe tbody tr th {\n",
       "        vertical-align: top;\n",
       "    }\n",
       "\n",
       "    .dataframe thead th {\n",
       "        text-align: right;\n",
       "    }\n",
       "</style>\n",
       "<table border=\"1\" class=\"dataframe\">\n",
       "  <thead>\n",
       "    <tr style=\"text-align: right;\">\n",
       "      <th></th>\n",
       "      <th>tweet_category</th>\n",
       "      <th>tweet_count</th>\n",
       "    </tr>\n",
       "  </thead>\n",
       "  <tbody>\n",
       "    <tr>\n",
       "      <th>1</th>\n",
       "      <td>1</td>\n",
       "      <td>25138</td>\n",
       "    </tr>\n",
       "    <tr>\n",
       "      <th>2</th>\n",
       "      <td>2</td>\n",
       "      <td>8043</td>\n",
       "    </tr>\n",
       "    <tr>\n",
       "      <th>3</th>\n",
       "      <td>3</td>\n",
       "      <td>7030</td>\n",
       "    </tr>\n",
       "    <tr>\n",
       "      <th>9</th>\n",
       "      <td>9</td>\n",
       "      <td>6749</td>\n",
       "    </tr>\n",
       "    <tr>\n",
       "      <th>7</th>\n",
       "      <td>7</td>\n",
       "      <td>6397</td>\n",
       "    </tr>\n",
       "    <tr>\n",
       "      <th>8</th>\n",
       "      <td>8</td>\n",
       "      <td>6293</td>\n",
       "    </tr>\n",
       "    <tr>\n",
       "      <th>0</th>\n",
       "      <td>0</td>\n",
       "      <td>6099</td>\n",
       "    </tr>\n",
       "    <tr>\n",
       "      <th>5</th>\n",
       "      <td>5</td>\n",
       "      <td>3286</td>\n",
       "    </tr>\n",
       "    <tr>\n",
       "      <th>6</th>\n",
       "      <td>6</td>\n",
       "      <td>3097</td>\n",
       "    </tr>\n",
       "    <tr>\n",
       "      <th>4</th>\n",
       "      <td>4</td>\n",
       "      <td>2481</td>\n",
       "    </tr>\n",
       "  </tbody>\n",
       "</table>\n",
       "</div>"
      ],
      "text/plain": [
       "   tweet_category  tweet_count\n",
       "1               1        25138\n",
       "2               2         8043\n",
       "3               3         7030\n",
       "9               9         6749\n",
       "7               7         6397\n",
       "8               8         6293\n",
       "0               0         6099\n",
       "5               5         3286\n",
       "6               6         3097\n",
       "4               4         2481"
      ]
     },
     "execution_count": 221,
     "metadata": {},
     "output_type": "execute_result"
    }
   ],
   "source": [
    "appleCleanDist"
   ]
  },
  {
   "cell_type": "markdown",
   "metadata": {},
   "source": [
    "### Microsoft Specific"
   ]
  },
  {
   "cell_type": "code",
   "execution_count": 111,
   "metadata": {
    "ExecuteTime": {
     "end_time": "2017-12-01T17:00:17.218314Z",
     "start_time": "2017-12-01T17:00:15.225876Z"
    }
   },
   "outputs": [
    {
     "name": "stdout",
     "output_type": "stream",
     "text": [
      "dataframe shape: (3634, 24)\n"
     ]
    }
   ],
   "source": [
    "micro2NMF,micro2Features,micro2Dist = get_topics_customer('MicrosoftHelps',10,ioDF,stop=stop)"
   ]
  },
  {
   "cell_type": "code",
   "execution_count": 114,
   "metadata": {
    "ExecuteTime": {
     "end_time": "2017-12-01T17:00:30.742821Z",
     "start_time": "2017-12-01T17:00:30.738285Z"
    }
   },
   "outputs": [
    {
     "name": "stdout",
     "output_type": "stream",
     "text": [
      "Topic 0:\n",
      "laptop getting pc time computer every trying keep updates work\n",
      "Topic 1:\n",
      "update fall creators creator latest installed screen win computer issues\n",
      "Topic 2:\n",
      "working stopped keyboard updates log edge ideas minecraft stops password\n",
      "Topic 3:\n",
      "fix problem screen mouse tell bug ideas fcu black jknmwxcrnj\n",
      "Topic 4:\n",
      "surface pro screen pen book battery warranty cracked keyboard replacement\n",
      "Topic 5:\n",
      "windows install stuck store hours version update upgrade phone apps\n",
      "Topic 6:\n",
      "hey guys office install happen blank contact game screen message\n",
      "Topic 7:\n",
      "microsoft store app apps code available try download game office\n",
      "Topic 8:\n",
      "account xbox sign live access hotmail cant charged recover someone\n",
      "Topic 9:\n",
      "email outlook trying access log someone locked emails unblocked hotmail\n"
     ]
    }
   ],
   "source": [
    "display_topics(micro2NMF,micro2Features,10)"
   ]
  },
  {
   "cell_type": "code",
   "execution_count": 113,
   "metadata": {
    "ExecuteTime": {
     "end_time": "2017-12-01T17:00:17.230603Z",
     "start_time": "2017-12-01T17:00:17.225314Z"
    }
   },
   "outputs": [
    {
     "data": {
      "text/html": [
       "<div>\n",
       "<style scoped>\n",
       "    .dataframe tbody tr th:only-of-type {\n",
       "        vertical-align: middle;\n",
       "    }\n",
       "\n",
       "    .dataframe tbody tr th {\n",
       "        vertical-align: top;\n",
       "    }\n",
       "\n",
       "    .dataframe thead th {\n",
       "        text-align: right;\n",
       "    }\n",
       "</style>\n",
       "<table border=\"1\" class=\"dataframe\">\n",
       "  <thead>\n",
       "    <tr style=\"text-align: right;\">\n",
       "      <th></th>\n",
       "      <th>tweet_category</th>\n",
       "      <th>tweet_count</th>\n",
       "    </tr>\n",
       "  </thead>\n",
       "  <tbody>\n",
       "    <tr>\n",
       "      <th>0</th>\n",
       "      <td>0</td>\n",
       "      <td>674</td>\n",
       "    </tr>\n",
       "    <tr>\n",
       "      <th>5</th>\n",
       "      <td>5</td>\n",
       "      <td>333</td>\n",
       "    </tr>\n",
       "    <tr>\n",
       "      <th>1</th>\n",
       "      <td>1</td>\n",
       "      <td>308</td>\n",
       "    </tr>\n",
       "    <tr>\n",
       "      <th>9</th>\n",
       "      <td>9</td>\n",
       "      <td>270</td>\n",
       "    </tr>\n",
       "    <tr>\n",
       "      <th>7</th>\n",
       "      <td>7</td>\n",
       "      <td>231</td>\n",
       "    </tr>\n",
       "    <tr>\n",
       "      <th>4</th>\n",
       "      <td>4</td>\n",
       "      <td>226</td>\n",
       "    </tr>\n",
       "    <tr>\n",
       "      <th>8</th>\n",
       "      <td>8</td>\n",
       "      <td>226</td>\n",
       "    </tr>\n",
       "    <tr>\n",
       "      <th>6</th>\n",
       "      <td>6</td>\n",
       "      <td>181</td>\n",
       "    </tr>\n",
       "    <tr>\n",
       "      <th>3</th>\n",
       "      <td>3</td>\n",
       "      <td>171</td>\n",
       "    </tr>\n",
       "    <tr>\n",
       "      <th>2</th>\n",
       "      <td>2</td>\n",
       "      <td>137</td>\n",
       "    </tr>\n",
       "  </tbody>\n",
       "</table>\n",
       "</div>"
      ],
      "text/plain": [
       "   tweet_category  tweet_count\n",
       "0               0          674\n",
       "5               5          333\n",
       "1               1          308\n",
       "9               9          270\n",
       "7               7          231\n",
       "4               4          226\n",
       "8               8          226\n",
       "6               6          181\n",
       "3               3          171\n",
       "2               2          137"
      ]
     },
     "execution_count": 113,
     "metadata": {},
     "output_type": "execute_result"
    }
   ],
   "source": [
    "micro2Dist"
   ]
  },
  {
   "cell_type": "markdown",
   "metadata": {},
   "source": [
    "### Dell"
   ]
  },
  {
   "cell_type": "code",
   "execution_count": 94,
   "metadata": {
    "ExecuteTime": {
     "end_time": "2017-12-01T03:03:13.747327Z",
     "start_time": "2017-12-01T03:03:12.764968Z"
    }
   },
   "outputs": [
    {
     "name": "stdout",
     "output_type": "stream",
     "text": [
      "dataframe shape: (2277, 24)\n"
     ]
    }
   ],
   "source": [
    "dell2NMF,dell2Features,dell2Dist = get_topics_customer('DellCares',10,ioDF,stop=stop)"
   ]
  },
  {
   "cell_type": "code",
   "execution_count": 95,
   "metadata": {
    "ExecuteTime": {
     "end_time": "2017-12-01T03:03:13.752864Z",
     "start_time": "2017-12-01T03:03:13.748627Z"
    }
   },
   "outputs": [
    {
     "name": "stdout",
     "output_type": "stream",
     "text": [
      "Topic 0:\n",
      "dell xps care resolve afghanistan india\n",
      "Topic 1:\n",
      "charger plugged charging plug bought keeps\n",
      "Topic 2:\n",
      "computer buy never ever months worst\n",
      "Topic 3:\n",
      "service customer worst horrible tag company\n",
      "Topic 4:\n",
      "laptop bought happened time first idea\n",
      "Topic 5:\n",
      "warranty getting email told much work\n",
      "Topic 6:\n",
      "inspiron screen update windows use pc\n",
      "Topic 7:\n",
      "order call number working placed ordered\n",
      "Topic 8:\n",
      "replaced card requesting intel xps heard\n",
      "Topic 9:\n",
      "battery replacement xps want swelling life\n"
     ]
    }
   ],
   "source": [
    "display_topics(dell2NMF,dell2Features,6)"
   ]
  },
  {
   "cell_type": "code",
   "execution_count": 96,
   "metadata": {
    "ExecuteTime": {
     "end_time": "2017-12-01T03:03:14.384990Z",
     "start_time": "2017-12-01T03:03:14.379614Z"
    }
   },
   "outputs": [
    {
     "data": {
      "text/html": [
       "<div>\n",
       "<style scoped>\n",
       "    .dataframe tbody tr th:only-of-type {\n",
       "        vertical-align: middle;\n",
       "    }\n",
       "\n",
       "    .dataframe tbody tr th {\n",
       "        vertical-align: top;\n",
       "    }\n",
       "\n",
       "    .dataframe thead th {\n",
       "        text-align: right;\n",
       "    }\n",
       "</style>\n",
       "<table border=\"1\" class=\"dataframe\">\n",
       "  <thead>\n",
       "    <tr style=\"text-align: right;\">\n",
       "      <th></th>\n",
       "      <th>tweet_category</th>\n",
       "      <th>tweet_count</th>\n",
       "    </tr>\n",
       "  </thead>\n",
       "  <tbody>\n",
       "    <tr>\n",
       "      <th>0</th>\n",
       "      <td>0</td>\n",
       "      <td>189</td>\n",
       "    </tr>\n",
       "    <tr>\n",
       "      <th>3</th>\n",
       "      <td>3</td>\n",
       "      <td>147</td>\n",
       "    </tr>\n",
       "    <tr>\n",
       "      <th>4</th>\n",
       "      <td>4</td>\n",
       "      <td>147</td>\n",
       "    </tr>\n",
       "    <tr>\n",
       "      <th>7</th>\n",
       "      <td>7</td>\n",
       "      <td>138</td>\n",
       "    </tr>\n",
       "    <tr>\n",
       "      <th>6</th>\n",
       "      <td>6</td>\n",
       "      <td>133</td>\n",
       "    </tr>\n",
       "    <tr>\n",
       "      <th>5</th>\n",
       "      <td>5</td>\n",
       "      <td>116</td>\n",
       "    </tr>\n",
       "    <tr>\n",
       "      <th>2</th>\n",
       "      <td>2</td>\n",
       "      <td>103</td>\n",
       "    </tr>\n",
       "    <tr>\n",
       "      <th>9</th>\n",
       "      <td>9</td>\n",
       "      <td>84</td>\n",
       "    </tr>\n",
       "    <tr>\n",
       "      <th>1</th>\n",
       "      <td>1</td>\n",
       "      <td>23</td>\n",
       "    </tr>\n",
       "    <tr>\n",
       "      <th>8</th>\n",
       "      <td>8</td>\n",
       "      <td>20</td>\n",
       "    </tr>\n",
       "  </tbody>\n",
       "</table>\n",
       "</div>"
      ],
      "text/plain": [
       "   tweet_category  tweet_count\n",
       "0               0          189\n",
       "3               3          147\n",
       "4               4          147\n",
       "7               7          138\n",
       "6               6          133\n",
       "5               5          116\n",
       "2               2          103\n",
       "9               9           84\n",
       "1               1           23\n",
       "8               8           20"
      ]
     },
     "execution_count": 96,
     "metadata": {},
     "output_type": "execute_result"
    }
   ],
   "source": [
    "dell2Dist"
   ]
  },
  {
   "cell_type": "markdown",
   "metadata": {},
   "source": [
    "### HP"
   ]
  },
  {
   "cell_type": "code",
   "execution_count": 97,
   "metadata": {
    "ExecuteTime": {
     "end_time": "2017-12-01T03:03:45.155491Z",
     "start_time": "2017-12-01T03:03:42.932646Z"
    }
   },
   "outputs": [
    {
     "name": "stdout",
     "output_type": "stream",
     "text": [
      "dataframe shape: (5074, 24)\n"
     ]
    }
   ],
   "source": [
    "hp2NMF,hp2Features,hp2Dist = get_topics_customer('HPSupport',10,ioDF,stop=stop)"
   ]
  },
  {
   "cell_type": "code",
   "execution_count": 98,
   "metadata": {
    "ExecuteTime": {
     "end_time": "2017-12-01T03:03:45.160998Z",
     "start_time": "2017-12-01T03:03:45.156815Z"
    }
   },
   "outputs": [
    {
     "name": "stdout",
     "output_type": "stream",
     "text": [
      "Topic 0:\n",
      "printer connect network computer wireless offline\n",
      "Topic 1:\n",
      "hpcswus hpprnt printhead problem getting officejet\n",
      "Topic 2:\n",
      "ink black cartridge cartridges replaced color\n",
      "Topic 3:\n",
      "print hppsdr color page black test\n",
      "Topic 4:\n",
      "hp officejet pro scan hppsdr laptop\n",
      "Topic 5:\n",
      "printing hppsdr paper pages black blank\n",
      "Topic 6:\n",
      "hpaioi type cartridgefailure password iphone paper\n",
      "Topic 7:\n",
      "hpsa hpprnt turn hppc document problem\n",
      "Topic 8:\n",
      "type question hppsdr ljhelp ijchelp ask\n",
      "Topic 9:\n",
      "text replace question hpprnt ask hpcswus\n"
     ]
    }
   ],
   "source": [
    "display_topics(hp2NMF,hp2Features,6)"
   ]
  },
  {
   "cell_type": "code",
   "execution_count": 99,
   "metadata": {
    "ExecuteTime": {
     "end_time": "2017-12-01T03:03:45.167694Z",
     "start_time": "2017-12-01T03:03:45.162181Z"
    }
   },
   "outputs": [
    {
     "data": {
      "text/html": [
       "<div>\n",
       "<style scoped>\n",
       "    .dataframe tbody tr th:only-of-type {\n",
       "        vertical-align: middle;\n",
       "    }\n",
       "\n",
       "    .dataframe tbody tr th {\n",
       "        vertical-align: top;\n",
       "    }\n",
       "\n",
       "    .dataframe thead th {\n",
       "        text-align: right;\n",
       "    }\n",
       "</style>\n",
       "<table border=\"1\" class=\"dataframe\">\n",
       "  <thead>\n",
       "    <tr style=\"text-align: right;\">\n",
       "      <th></th>\n",
       "      <th>tweet_category</th>\n",
       "      <th>tweet_count</th>\n",
       "    </tr>\n",
       "  </thead>\n",
       "  <tbody>\n",
       "    <tr>\n",
       "      <th>4</th>\n",
       "      <td>4</td>\n",
       "      <td>833</td>\n",
       "    </tr>\n",
       "    <tr>\n",
       "      <th>0</th>\n",
       "      <td>0</td>\n",
       "      <td>398</td>\n",
       "    </tr>\n",
       "    <tr>\n",
       "      <th>1</th>\n",
       "      <td>1</td>\n",
       "      <td>325</td>\n",
       "    </tr>\n",
       "    <tr>\n",
       "      <th>8</th>\n",
       "      <td>8</td>\n",
       "      <td>271</td>\n",
       "    </tr>\n",
       "    <tr>\n",
       "      <th>2</th>\n",
       "      <td>2</td>\n",
       "      <td>260</td>\n",
       "    </tr>\n",
       "    <tr>\n",
       "      <th>3</th>\n",
       "      <td>3</td>\n",
       "      <td>235</td>\n",
       "    </tr>\n",
       "    <tr>\n",
       "      <th>7</th>\n",
       "      <td>7</td>\n",
       "      <td>165</td>\n",
       "    </tr>\n",
       "    <tr>\n",
       "      <th>9</th>\n",
       "      <td>9</td>\n",
       "      <td>155</td>\n",
       "    </tr>\n",
       "    <tr>\n",
       "      <th>6</th>\n",
       "      <td>6</td>\n",
       "      <td>143</td>\n",
       "    </tr>\n",
       "    <tr>\n",
       "      <th>5</th>\n",
       "      <td>5</td>\n",
       "      <td>109</td>\n",
       "    </tr>\n",
       "  </tbody>\n",
       "</table>\n",
       "</div>"
      ],
      "text/plain": [
       "   tweet_category  tweet_count\n",
       "4               4          833\n",
       "0               0          398\n",
       "1               1          325\n",
       "8               8          271\n",
       "2               2          260\n",
       "3               3          235\n",
       "7               7          165\n",
       "9               9          155\n",
       "6               6          143\n",
       "5               5          109"
      ]
     },
     "execution_count": 99,
     "metadata": {},
     "output_type": "execute_result"
    }
   ],
   "source": [
    "hp2Dist"
   ]
  },
  {
   "cell_type": "markdown",
   "metadata": {},
   "source": [
    "## Mobile Topics"
   ]
  },
  {
   "cell_type": "code",
   "execution_count": 70,
   "metadata": {
    "ExecuteTime": {
     "end_time": "2017-12-01T02:47:12.802325Z",
     "start_time": "2017-12-01T02:47:11.041169Z"
    }
   },
   "outputs": [
    {
     "name": "stdout",
     "output_type": "stream",
     "text": [
      "(1465, 24)\n",
      "(16634, 24)\n",
      "(10804, 24)\n",
      "(5841, 24)\n",
      "(516, 24)\n",
      "(406, 24)\n"
     ]
    }
   ],
   "source": [
    "mobileDF = get_industry_io(mobilelist,ioDF)"
   ]
  },
  {
   "cell_type": "code",
   "execution_count": 79,
   "metadata": {
    "ExecuteTime": {
     "end_time": "2017-12-01T02:54:55.127941Z",
     "start_time": "2017-12-01T02:53:28.218240Z"
    }
   },
   "outputs": [],
   "source": [
    "mobileNMF,mobileFeatures,mobileDist = multi_get_topics_customer(mobileDF,20,stop=stop,c=companies)"
   ]
  },
  {
   "cell_type": "code",
   "execution_count": 80,
   "metadata": {
    "ExecuteTime": {
     "end_time": "2017-12-01T02:54:55.141898Z",
     "start_time": "2017-12-01T02:54:55.129278Z"
    }
   },
   "outputs": [
    {
     "name": "stdout",
     "output_type": "stream",
     "text": [
      "Topic 0:\n",
      "update ios battery life since draining\n",
      "Topic 1:\n",
      "hpprnt printer hpcswus hppsdr print hp\n",
      "Topic 2:\n",
      "iphone plus keeps screen since freezing\n",
      "Topic 3:\n",
      "apple music app hey store working\n",
      "Topic 4:\n",
      "problem fixed gonna anyone solve guys\n",
      "Topic 5:\n",
      "phone updated since freezing keeps update\n",
      "Topic 6:\n",
      "question mark box marks boxes hppsdr\n",
      "Topic 7:\n",
      "fix glitch gonna hey bug damn\n",
      "Topic 8:\n",
      "letter type time every eye glitch\n",
      "Topic 9:\n",
      "shit together wtf fucking yo fuck\n"
     ]
    }
   ],
   "source": [
    "display_topics(techioNMF,techioFeatures,6)"
   ]
  },
  {
   "cell_type": "code",
   "execution_count": 81,
   "metadata": {
    "ExecuteTime": {
     "end_time": "2017-12-01T02:54:55.149281Z",
     "start_time": "2017-12-01T02:54:55.143117Z"
    }
   },
   "outputs": [
    {
     "data": {
      "text/html": [
       "<div>\n",
       "<style scoped>\n",
       "    .dataframe tbody tr th:only-of-type {\n",
       "        vertical-align: middle;\n",
       "    }\n",
       "\n",
       "    .dataframe tbody tr th {\n",
       "        vertical-align: top;\n",
       "    }\n",
       "\n",
       "    .dataframe thead th {\n",
       "        text-align: right;\n",
       "    }\n",
       "</style>\n",
       "<table border=\"1\" class=\"dataframe\">\n",
       "  <thead>\n",
       "    <tr style=\"text-align: right;\">\n",
       "      <th></th>\n",
       "      <th>tweet_category</th>\n",
       "      <th>tweet_count</th>\n",
       "    </tr>\n",
       "  </thead>\n",
       "  <tbody>\n",
       "    <tr>\n",
       "      <th>2</th>\n",
       "      <td>2</td>\n",
       "      <td>5009</td>\n",
       "    </tr>\n",
       "    <tr>\n",
       "      <th>1</th>\n",
       "      <td>1</td>\n",
       "      <td>3526</td>\n",
       "    </tr>\n",
       "    <tr>\n",
       "      <th>19</th>\n",
       "      <td>19</td>\n",
       "      <td>2007</td>\n",
       "    </tr>\n",
       "    <tr>\n",
       "      <th>13</th>\n",
       "      <td>13</td>\n",
       "      <td>1981</td>\n",
       "    </tr>\n",
       "    <tr>\n",
       "      <th>16</th>\n",
       "      <td>16</td>\n",
       "      <td>1959</td>\n",
       "    </tr>\n",
       "    <tr>\n",
       "      <th>0</th>\n",
       "      <td>0</td>\n",
       "      <td>1950</td>\n",
       "    </tr>\n",
       "    <tr>\n",
       "      <th>5</th>\n",
       "      <td>5</td>\n",
       "      <td>1856</td>\n",
       "    </tr>\n",
       "    <tr>\n",
       "      <th>14</th>\n",
       "      <td>14</td>\n",
       "      <td>1731</td>\n",
       "    </tr>\n",
       "    <tr>\n",
       "      <th>7</th>\n",
       "      <td>7</td>\n",
       "      <td>1539</td>\n",
       "    </tr>\n",
       "    <tr>\n",
       "      <th>18</th>\n",
       "      <td>18</td>\n",
       "      <td>1496</td>\n",
       "    </tr>\n",
       "    <tr>\n",
       "      <th>4</th>\n",
       "      <td>4</td>\n",
       "      <td>1488</td>\n",
       "    </tr>\n",
       "    <tr>\n",
       "      <th>8</th>\n",
       "      <td>8</td>\n",
       "      <td>1455</td>\n",
       "    </tr>\n",
       "    <tr>\n",
       "      <th>12</th>\n",
       "      <td>12</td>\n",
       "      <td>1414</td>\n",
       "    </tr>\n",
       "    <tr>\n",
       "      <th>10</th>\n",
       "      <td>10</td>\n",
       "      <td>1326</td>\n",
       "    </tr>\n",
       "    <tr>\n",
       "      <th>11</th>\n",
       "      <td>11</td>\n",
       "      <td>1324</td>\n",
       "    </tr>\n",
       "    <tr>\n",
       "      <th>3</th>\n",
       "      <td>3</td>\n",
       "      <td>1171</td>\n",
       "    </tr>\n",
       "    <tr>\n",
       "      <th>15</th>\n",
       "      <td>15</td>\n",
       "      <td>1074</td>\n",
       "    </tr>\n",
       "    <tr>\n",
       "      <th>6</th>\n",
       "      <td>6</td>\n",
       "      <td>1049</td>\n",
       "    </tr>\n",
       "    <tr>\n",
       "      <th>17</th>\n",
       "      <td>17</td>\n",
       "      <td>605</td>\n",
       "    </tr>\n",
       "    <tr>\n",
       "      <th>9</th>\n",
       "      <td>9</td>\n",
       "      <td>431</td>\n",
       "    </tr>\n",
       "  </tbody>\n",
       "</table>\n",
       "</div>"
      ],
      "text/plain": [
       "    tweet_category  tweet_count\n",
       "2                2         5009\n",
       "1                1         3526\n",
       "19              19         2007\n",
       "13              13         1981\n",
       "16              16         1959\n",
       "0                0         1950\n",
       "5                5         1856\n",
       "14              14         1731\n",
       "7                7         1539\n",
       "18              18         1496\n",
       "4                4         1488\n",
       "8                8         1455\n",
       "12              12         1414\n",
       "10              10         1326\n",
       "11              11         1324\n",
       "3                3         1171\n",
       "15              15         1074\n",
       "6                6         1049\n",
       "17              17          605\n",
       "9                9          431"
      ]
     },
     "execution_count": 81,
     "metadata": {},
     "output_type": "execute_result"
    }
   ],
   "source": [
    "mobileDist"
   ]
  },
  {
   "cell_type": "markdown",
   "metadata": {},
   "source": [
    "## Clean Tweets"
   ]
  },
  {
   "cell_type": "code",
   "execution_count": 128,
   "metadata": {
    "ExecuteTime": {
     "end_time": "2017-12-01T17:22:22.656583Z",
     "start_time": "2017-12-01T17:22:22.654525Z"
    }
   },
   "outputs": [],
   "source": [
    "# from copy import deepcopy"
   ]
  },
  {
   "cell_type": "code",
   "execution_count": 204,
   "metadata": {
    "ExecuteTime": {
     "end_time": "2017-12-05T03:24:23.172814Z",
     "start_time": "2017-12-05T03:24:23.076226Z"
    }
   },
   "outputs": [],
   "source": [
    "cleanIODF = ioDF.copy(deep=True)"
   ]
  },
  {
   "cell_type": "code",
   "execution_count": 205,
   "metadata": {
    "ExecuteTime": {
     "end_time": "2017-12-05T03:25:43.534526Z",
     "start_time": "2017-12-05T03:24:24.189316Z"
    }
   },
   "outputs": [],
   "source": [
    "cleanIODF['text_x'] = cleanIODF.text_x.apply(lambda x: process_tweet_text(x))"
   ]
  },
  {
   "cell_type": "code",
   "execution_count": 206,
   "metadata": {
    "ExecuteTime": {
     "end_time": "2017-12-05T03:25:43.538831Z",
     "start_time": "2017-12-05T03:25:43.535895Z"
    }
   },
   "outputs": [
    {
     "data": {
      "text/plain": [
       "(794299, 27)"
      ]
     },
     "execution_count": 206,
     "metadata": {},
     "output_type": "execute_result"
    }
   ],
   "source": [
    "cleanIODF.shape"
   ]
  },
  {
   "cell_type": "code",
   "execution_count": null,
   "metadata": {},
   "outputs": [],
   "source": []
  },
  {
   "cell_type": "markdown",
   "metadata": {},
   "source": [
    "### ATT"
   ]
  },
  {
   "cell_type": "markdown",
   "metadata": {},
   "source": [
    "#### Cleaned"
   ]
  },
  {
   "cell_type": "code",
   "execution_count": 207,
   "metadata": {
    "ExecuteTime": {
     "end_time": "2017-12-05T03:25:56.928381Z",
     "start_time": "2017-12-05T03:25:55.816442Z"
    }
   },
   "outputs": [
    {
     "name": "stdout",
     "output_type": "stream",
     "text": [
      "dataframe shape: (1677, 27)\n"
     ]
    }
   ],
   "source": [
    "attCleanNMF,attCleanFeatures,attCleanDist= get_topics_customer('ATT',10,cleanIODF,stop=stop)"
   ]
  },
  {
   "cell_type": "code",
   "execution_count": 208,
   "metadata": {
    "ExecuteTime": {
     "end_time": "2017-12-05T03:25:58.148631Z",
     "start_time": "2017-12-05T03:25:58.144378Z"
    }
   },
   "outputs": [
    {
     "name": "stdout",
     "output_type": "stream",
     "text": [
      "Topic 0:\n",
      "service cell outage area bad much\n",
      "Topic 1:\n",
      "pay speed money much month full\n",
      "Topic 2:\n",
      "customer worst ever service absolute horrible\n",
      "Topic 3:\n",
      "limited edition scarf win jersey giver\n",
      "Topic 4:\n",
      "call today account time number fix\n",
      "Topic 5:\n",
      "store people right outage working experience\n",
      "Topic 6:\n",
      "month bill data every plan use\n",
      "Topic 7:\n",
      "order status long ship time today\n",
      "Topic 8:\n",
      "phone upgrade free keep old sent\n",
      "Topic 9:\n",
      "awesome giving soccer away chance win\n"
     ]
    }
   ],
   "source": [
    "display_topics(attCleanNMF,attCleanFeatures,6)"
   ]
  },
  {
   "cell_type": "code",
   "execution_count": 209,
   "metadata": {
    "ExecuteTime": {
     "end_time": "2017-12-05T03:26:04.039113Z",
     "start_time": "2017-12-05T03:26:04.032997Z"
    }
   },
   "outputs": [
    {
     "data": {
      "text/html": [
       "<div>\n",
       "<style scoped>\n",
       "    .dataframe tbody tr th:only-of-type {\n",
       "        vertical-align: middle;\n",
       "    }\n",
       "\n",
       "    .dataframe tbody tr th {\n",
       "        vertical-align: top;\n",
       "    }\n",
       "\n",
       "    .dataframe thead th {\n",
       "        text-align: right;\n",
       "    }\n",
       "</style>\n",
       "<table border=\"1\" class=\"dataframe\">\n",
       "  <thead>\n",
       "    <tr style=\"text-align: right;\">\n",
       "      <th></th>\n",
       "      <th>tweet_category</th>\n",
       "      <th>tweet_count</th>\n",
       "    </tr>\n",
       "  </thead>\n",
       "  <tbody>\n",
       "    <tr>\n",
       "      <th>4</th>\n",
       "      <td>4</td>\n",
       "      <td>276</td>\n",
       "    </tr>\n",
       "    <tr>\n",
       "      <th>0</th>\n",
       "      <td>0</td>\n",
       "      <td>242</td>\n",
       "    </tr>\n",
       "    <tr>\n",
       "      <th>5</th>\n",
       "      <td>5</td>\n",
       "      <td>216</td>\n",
       "    </tr>\n",
       "    <tr>\n",
       "      <th>6</th>\n",
       "      <td>6</td>\n",
       "      <td>209</td>\n",
       "    </tr>\n",
       "    <tr>\n",
       "      <th>2</th>\n",
       "      <td>2</td>\n",
       "      <td>204</td>\n",
       "    </tr>\n",
       "    <tr>\n",
       "      <th>8</th>\n",
       "      <td>8</td>\n",
       "      <td>165</td>\n",
       "    </tr>\n",
       "    <tr>\n",
       "      <th>1</th>\n",
       "      <td>1</td>\n",
       "      <td>108</td>\n",
       "    </tr>\n",
       "    <tr>\n",
       "      <th>7</th>\n",
       "      <td>7</td>\n",
       "      <td>94</td>\n",
       "    </tr>\n",
       "    <tr>\n",
       "      <th>9</th>\n",
       "      <td>9</td>\n",
       "      <td>91</td>\n",
       "    </tr>\n",
       "    <tr>\n",
       "      <th>3</th>\n",
       "      <td>3</td>\n",
       "      <td>12</td>\n",
       "    </tr>\n",
       "  </tbody>\n",
       "</table>\n",
       "</div>"
      ],
      "text/plain": [
       "   tweet_category  tweet_count\n",
       "4               4          276\n",
       "0               0          242\n",
       "5               5          216\n",
       "6               6          209\n",
       "2               2          204\n",
       "8               8          165\n",
       "1               1          108\n",
       "7               7           94\n",
       "9               9           91\n",
       "3               3           12"
      ]
     },
     "execution_count": 209,
     "metadata": {},
     "output_type": "execute_result"
    }
   ],
   "source": [
    "attCleanDist"
   ]
  },
  {
   "cell_type": "code",
   "execution_count": 210,
   "metadata": {
    "ExecuteTime": {
     "end_time": "2017-12-05T03:26:15.180110Z",
     "start_time": "2017-12-05T03:26:14.026583Z"
    }
   },
   "outputs": [
    {
     "name": "stdout",
     "output_type": "stream",
     "text": [
      "dataframe shape: (1677, 27)\n"
     ]
    }
   ],
   "source": [
    "attNMF,attFeatures,attDist = get_topics_customer('ATT',10,ioDF,stop=stop)"
   ]
  },
  {
   "cell_type": "code",
   "execution_count": 211,
   "metadata": {
    "ExecuteTime": {
     "end_time": "2017-12-05T03:26:15.185904Z",
     "start_time": "2017-12-05T03:26:15.181466Z"
    }
   },
   "outputs": [
    {
     "name": "stdout",
     "output_type": "stream",
     "text": [
      "Topic 0:\n",
      "service cell austin bad area customer\n",
      "Topic 1:\n",
      "call account time league justice store\n",
      "Topic 2:\n",
      "phone calls working cell hours upgrade\n",
      "Topic 3:\n",
      "internet fiber hey speed ethernetport cedarparktowncenter\n",
      "Topic 4:\n",
      "edition scarf soccereverywhere limited win jersey\n",
      "Topic 5:\n",
      "awesome giving scarves fans soccer chance\n",
      "Topic 6:\n",
      "data wifi plan use yo gives\n",
      "Topic 7:\n",
      "iphone order iphonex trade pre plus\n",
      "Topic 8:\n",
      "pay month bill every money much\n",
      "Topic 9:\n",
      "customer worst ever service absolute absolutely\n"
     ]
    }
   ],
   "source": [
    "display_topics(attNMF,attFeatures,6)"
   ]
  },
  {
   "cell_type": "code",
   "execution_count": 87,
   "metadata": {
    "ExecuteTime": {
     "end_time": "2017-12-01T02:57:47.698107Z",
     "start_time": "2017-12-01T02:57:47.692667Z"
    }
   },
   "outputs": [
    {
     "data": {
      "text/html": [
       "<div>\n",
       "<style scoped>\n",
       "    .dataframe tbody tr th:only-of-type {\n",
       "        vertical-align: middle;\n",
       "    }\n",
       "\n",
       "    .dataframe tbody tr th {\n",
       "        vertical-align: top;\n",
       "    }\n",
       "\n",
       "    .dataframe thead th {\n",
       "        text-align: right;\n",
       "    }\n",
       "</style>\n",
       "<table border=\"1\" class=\"dataframe\">\n",
       "  <thead>\n",
       "    <tr style=\"text-align: right;\">\n",
       "      <th></th>\n",
       "      <th>tweet_category</th>\n",
       "      <th>tweet_count</th>\n",
       "    </tr>\n",
       "  </thead>\n",
       "  <tbody>\n",
       "    <tr>\n",
       "      <th>1</th>\n",
       "      <td>1</td>\n",
       "      <td>223</td>\n",
       "    </tr>\n",
       "    <tr>\n",
       "      <th>2</th>\n",
       "      <td>2</td>\n",
       "      <td>220</td>\n",
       "    </tr>\n",
       "    <tr>\n",
       "      <th>3</th>\n",
       "      <td>3</td>\n",
       "      <td>196</td>\n",
       "    </tr>\n",
       "    <tr>\n",
       "      <th>6</th>\n",
       "      <td>6</td>\n",
       "      <td>179</td>\n",
       "    </tr>\n",
       "    <tr>\n",
       "      <th>9</th>\n",
       "      <td>9</td>\n",
       "      <td>165</td>\n",
       "    </tr>\n",
       "    <tr>\n",
       "      <th>7</th>\n",
       "      <td>7</td>\n",
       "      <td>121</td>\n",
       "    </tr>\n",
       "    <tr>\n",
       "      <th>8</th>\n",
       "      <td>8</td>\n",
       "      <td>115</td>\n",
       "    </tr>\n",
       "    <tr>\n",
       "      <th>4</th>\n",
       "      <td>4</td>\n",
       "      <td>113</td>\n",
       "    </tr>\n",
       "    <tr>\n",
       "      <th>5</th>\n",
       "      <td>5</td>\n",
       "      <td>61</td>\n",
       "    </tr>\n",
       "    <tr>\n",
       "      <th>0</th>\n",
       "      <td>0</td>\n",
       "      <td>24</td>\n",
       "    </tr>\n",
       "  </tbody>\n",
       "</table>\n",
       "</div>"
      ],
      "text/plain": [
       "   tweet_category  tweet_count\n",
       "1               1          223\n",
       "2               2          220\n",
       "3               3          196\n",
       "6               6          179\n",
       "9               9          165\n",
       "7               7          121\n",
       "8               8          115\n",
       "4               4          113\n",
       "5               5           61\n",
       "0               0           24"
      ]
     },
     "execution_count": 87,
     "metadata": {},
     "output_type": "execute_result"
    }
   ],
   "source": [
    "attDist"
   ]
  },
  {
   "cell_type": "code",
   "execution_count": null,
   "metadata": {},
   "outputs": [],
   "source": []
  },
  {
   "cell_type": "markdown",
   "metadata": {},
   "source": [
    "### Verizon"
   ]
  },
  {
   "cell_type": "code",
   "execution_count": 101,
   "metadata": {
    "ExecuteTime": {
     "end_time": "2017-12-01T03:05:11.715098Z",
     "start_time": "2017-12-01T03:05:07.474430Z"
    }
   },
   "outputs": [
    {
     "name": "stdout",
     "output_type": "stream",
     "text": [
      "dataframe shape: (5841, 24)\n"
     ]
    }
   ],
   "source": [
    "vNMF,vFeatures,vDist = get_topics_customer('VerizonSupport',10,ioDF,stop=stop)"
   ]
  },
  {
   "cell_type": "code",
   "execution_count": 102,
   "metadata": {
    "ExecuteTime": {
     "end_time": "2017-12-01T03:05:11.721705Z",
     "start_time": "2017-12-01T03:05:11.716480Z"
    }
   },
   "outputs": [
    {
     "name": "stdout",
     "output_type": "stream",
     "text": [
      "Topic 0:\n",
      "phone number calls call getting got\n",
      "Topic 1:\n",
      "bill pay month trying hey account\n",
      "Topic 2:\n",
      "internet working connection speed slow tv\n",
      "Topic 3:\n",
      "verizon working wireless customers switch app\n",
      "Topic 4:\n",
      "hold minutes call time hour hours\n",
      "Topic 5:\n",
      "wifi fix shit sucks hey slow\n",
      "Topic 6:\n",
      "worst ever customer company cable guys\n",
      "Topic 7:\n",
      "fios tv watch app family love\n",
      "Topic 8:\n",
      "service customer terrible horrible sucks worse\n",
      "Topic 9:\n",
      "outage area hey ny nj morning\n"
     ]
    }
   ],
   "source": [
    "display_topics(vNMF,vFeatures,6)"
   ]
  },
  {
   "cell_type": "code",
   "execution_count": 103,
   "metadata": {
    "ExecuteTime": {
     "end_time": "2017-12-01T03:05:11.728391Z",
     "start_time": "2017-12-01T03:05:11.722977Z"
    }
   },
   "outputs": [
    {
     "data": {
      "text/html": [
       "<div>\n",
       "<style scoped>\n",
       "    .dataframe tbody tr th:only-of-type {\n",
       "        vertical-align: middle;\n",
       "    }\n",
       "\n",
       "    .dataframe tbody tr th {\n",
       "        vertical-align: top;\n",
       "    }\n",
       "\n",
       "    .dataframe thead th {\n",
       "        text-align: right;\n",
       "    }\n",
       "</style>\n",
       "<table border=\"1\" class=\"dataframe\">\n",
       "  <thead>\n",
       "    <tr style=\"text-align: right;\">\n",
       "      <th></th>\n",
       "      <th>tweet_category</th>\n",
       "      <th>tweet_count</th>\n",
       "    </tr>\n",
       "  </thead>\n",
       "  <tbody>\n",
       "    <tr>\n",
       "      <th>1</th>\n",
       "      <td>1</td>\n",
       "      <td>1087</td>\n",
       "    </tr>\n",
       "    <tr>\n",
       "      <th>7</th>\n",
       "      <td>7</td>\n",
       "      <td>810</td>\n",
       "    </tr>\n",
       "    <tr>\n",
       "      <th>8</th>\n",
       "      <td>8</td>\n",
       "      <td>690</td>\n",
       "    </tr>\n",
       "    <tr>\n",
       "      <th>0</th>\n",
       "      <td>0</td>\n",
       "      <td>660</td>\n",
       "    </tr>\n",
       "    <tr>\n",
       "      <th>4</th>\n",
       "      <td>4</td>\n",
       "      <td>618</td>\n",
       "    </tr>\n",
       "    <tr>\n",
       "      <th>2</th>\n",
       "      <td>2</td>\n",
       "      <td>533</td>\n",
       "    </tr>\n",
       "    <tr>\n",
       "      <th>5</th>\n",
       "      <td>5</td>\n",
       "      <td>439</td>\n",
       "    </tr>\n",
       "    <tr>\n",
       "      <th>3</th>\n",
       "      <td>3</td>\n",
       "      <td>390</td>\n",
       "    </tr>\n",
       "    <tr>\n",
       "      <th>9</th>\n",
       "      <td>9</td>\n",
       "      <td>298</td>\n",
       "    </tr>\n",
       "    <tr>\n",
       "      <th>6</th>\n",
       "      <td>6</td>\n",
       "      <td>268</td>\n",
       "    </tr>\n",
       "  </tbody>\n",
       "</table>\n",
       "</div>"
      ],
      "text/plain": [
       "   tweet_category  tweet_count\n",
       "1               1         1087\n",
       "7               7          810\n",
       "8               8          690\n",
       "0               0          660\n",
       "4               4          618\n",
       "2               2          533\n",
       "5               5          439\n",
       "3               3          390\n",
       "9               9          298\n",
       "6               6          268"
      ]
     },
     "execution_count": 103,
     "metadata": {},
     "output_type": "execute_result"
    }
   ],
   "source": [
    "vDist"
   ]
  },
  {
   "cell_type": "code",
   "execution_count": 100,
   "metadata": {
    "ExecuteTime": {
     "end_time": "2017-12-01T03:04:43.748673Z",
     "start_time": "2017-12-01T03:04:43.745631Z"
    }
   },
   "outputs": [
    {
     "data": {
      "text/plain": [
       "['ATT',\n",
       " 'TMobileHelp',\n",
       " 'sprintcare',\n",
       " 'VerizonSupport',\n",
       " 'BoostCare',\n",
       " 'USCellularCares']"
      ]
     },
     "execution_count": 100,
     "metadata": {},
     "output_type": "execute_result"
    }
   ],
   "source": [
    "mobilelist"
   ]
  },
  {
   "cell_type": "markdown",
   "metadata": {},
   "source": [
    "### T-Mobile"
   ]
  },
  {
   "cell_type": "code",
   "execution_count": 104,
   "metadata": {
    "ExecuteTime": {
     "end_time": "2017-12-01T03:06:40.183423Z",
     "start_time": "2017-12-01T03:06:18.788639Z"
    }
   },
   "outputs": [
    {
     "name": "stdout",
     "output_type": "stream",
     "text": [
      "dataframe shape: (16634, 24)\n"
     ]
    }
   ],
   "source": [
    "tmNMF,tmFeatures,tmDist = get_topics_customer('TMobileHelp',10,ioDF,stop=stop)"
   ]
  },
  {
   "cell_type": "code",
   "execution_count": 105,
   "metadata": {
    "ExecuteTime": {
     "end_time": "2017-12-01T03:06:40.191931Z",
     "start_time": "2017-12-01T03:06:40.184780Z"
    }
   },
   "outputs": [
    {
     "name": "stdout",
     "output_type": "stream",
     "text": [
      "Topic 0:\n",
      "service sucks trash area fix shit\n",
      "Topic 1:\n",
      "bill pay month trying time app\n",
      "Topic 2:\n",
      "customer worst ever years experience time\n",
      "Topic 3:\n",
      "order pre trying website iphonex online\n",
      "Topic 4:\n",
      "plan line pixel tmobile account lines\n",
      "Topic 5:\n",
      "mobile panda express website app working\n",
      "Topic 6:\n",
      "phone store unlock upgrade use got\n",
      "Topic 7:\n",
      "sent message question email waiting response\n",
      "Topic 8:\n",
      "guys hey question fix lte data\n",
      "Topic 9:\n",
      "iphone jump preorder jod upgrade trade\n"
     ]
    }
   ],
   "source": [
    "display_topics(tmNMF,tmFeatures,6)"
   ]
  },
  {
   "cell_type": "code",
   "execution_count": 106,
   "metadata": {
    "ExecuteTime": {
     "end_time": "2017-12-01T03:06:40.198575Z",
     "start_time": "2017-12-01T03:06:40.193141Z"
    }
   },
   "outputs": [
    {
     "data": {
      "text/html": [
       "<div>\n",
       "<style scoped>\n",
       "    .dataframe tbody tr th:only-of-type {\n",
       "        vertical-align: middle;\n",
       "    }\n",
       "\n",
       "    .dataframe tbody tr th {\n",
       "        vertical-align: top;\n",
       "    }\n",
       "\n",
       "    .dataframe thead th {\n",
       "        text-align: right;\n",
       "    }\n",
       "</style>\n",
       "<table border=\"1\" class=\"dataframe\">\n",
       "  <thead>\n",
       "    <tr style=\"text-align: right;\">\n",
       "      <th></th>\n",
       "      <th>tweet_category</th>\n",
       "      <th>tweet_count</th>\n",
       "    </tr>\n",
       "  </thead>\n",
       "  <tbody>\n",
       "    <tr>\n",
       "      <th>4</th>\n",
       "      <td>4</td>\n",
       "      <td>3347</td>\n",
       "    </tr>\n",
       "    <tr>\n",
       "      <th>5</th>\n",
       "      <td>5</td>\n",
       "      <td>2074</td>\n",
       "    </tr>\n",
       "    <tr>\n",
       "      <th>6</th>\n",
       "      <td>6</td>\n",
       "      <td>1853</td>\n",
       "    </tr>\n",
       "    <tr>\n",
       "      <th>8</th>\n",
       "      <td>8</td>\n",
       "      <td>1774</td>\n",
       "    </tr>\n",
       "    <tr>\n",
       "      <th>0</th>\n",
       "      <td>0</td>\n",
       "      <td>1682</td>\n",
       "    </tr>\n",
       "    <tr>\n",
       "      <th>2</th>\n",
       "      <td>2</td>\n",
       "      <td>1585</td>\n",
       "    </tr>\n",
       "    <tr>\n",
       "      <th>1</th>\n",
       "      <td>1</td>\n",
       "      <td>1552</td>\n",
       "    </tr>\n",
       "    <tr>\n",
       "      <th>9</th>\n",
       "      <td>9</td>\n",
       "      <td>1448</td>\n",
       "    </tr>\n",
       "    <tr>\n",
       "      <th>3</th>\n",
       "      <td>3</td>\n",
       "      <td>790</td>\n",
       "    </tr>\n",
       "    <tr>\n",
       "      <th>7</th>\n",
       "      <td>7</td>\n",
       "      <td>356</td>\n",
       "    </tr>\n",
       "  </tbody>\n",
       "</table>\n",
       "</div>"
      ],
      "text/plain": [
       "   tweet_category  tweet_count\n",
       "4               4         3347\n",
       "5               5         2074\n",
       "6               6         1853\n",
       "8               8         1774\n",
       "0               0         1682\n",
       "2               2         1585\n",
       "1               1         1552\n",
       "9               9         1448\n",
       "3               3          790\n",
       "7               7          356"
      ]
     },
     "execution_count": 106,
     "metadata": {},
     "output_type": "execute_result"
    }
   ],
   "source": [
    "tmDist"
   ]
  },
  {
   "cell_type": "code",
   "execution_count": null,
   "metadata": {},
   "outputs": [],
   "source": []
  },
  {
   "cell_type": "markdown",
   "metadata": {},
   "source": [
    "### Sprint"
   ]
  },
  {
   "cell_type": "code",
   "execution_count": 115,
   "metadata": {
    "ExecuteTime": {
     "end_time": "2017-12-01T17:00:59.002045Z",
     "start_time": "2017-12-01T17:00:48.914280Z"
    }
   },
   "outputs": [
    {
     "name": "stdout",
     "output_type": "stream",
     "text": [
      "dataframe shape: (10804, 24)\n"
     ]
    }
   ],
   "source": [
    "sprintNMF,sprintFeatures,sprintDist = get_topics_customer('sprintcare',10,ioDF,stop=stop)"
   ]
  },
  {
   "cell_type": "code",
   "execution_count": 116,
   "metadata": {
    "ExecuteTime": {
     "end_time": "2017-12-01T17:00:59.008869Z",
     "start_time": "2017-12-01T17:00:59.003371Z"
    }
   },
   "outputs": [
    {
     "name": "stdout",
     "output_type": "stream",
     "text": [
      "Topic 0:\n",
      "phone upgrade want calls call working\n",
      "Topic 1:\n",
      "worst ever company absolute literally experience\n",
      "Topic 2:\n",
      "customer years call care loyal terrible\n",
      "Topic 3:\n",
      "sprint call verizon store iphonex account\n",
      "Topic 4:\n",
      "service trash horrible shitty terrible ass\n",
      "Topic 5:\n",
      "shit data bill pay month lte\n",
      "Topic 6:\n",
      "sucks fucking suck ass bad guys\n",
      "Topic 7:\n",
      "iphone order upgrade preorder pre trying\n",
      "Topic 8:\n",
      "hate fucking really much fuckin right\n",
      "Topic 9:\n",
      "fuck ass shitty trash connection honestly\n"
     ]
    }
   ],
   "source": [
    "display_topics(sprintNMF,sprintFeatures,6)"
   ]
  },
  {
   "cell_type": "code",
   "execution_count": 117,
   "metadata": {
    "ExecuteTime": {
     "end_time": "2017-12-01T17:00:59.015502Z",
     "start_time": "2017-12-01T17:00:59.010023Z"
    }
   },
   "outputs": [
    {
     "data": {
      "text/html": [
       "<div>\n",
       "<style scoped>\n",
       "    .dataframe tbody tr th:only-of-type {\n",
       "        vertical-align: middle;\n",
       "    }\n",
       "\n",
       "    .dataframe tbody tr th {\n",
       "        vertical-align: top;\n",
       "    }\n",
       "\n",
       "    .dataframe thead th {\n",
       "        text-align: right;\n",
       "    }\n",
       "</style>\n",
       "<table border=\"1\" class=\"dataframe\">\n",
       "  <thead>\n",
       "    <tr style=\"text-align: right;\">\n",
       "      <th></th>\n",
       "      <th>tweet_category</th>\n",
       "      <th>tweet_count</th>\n",
       "    </tr>\n",
       "  </thead>\n",
       "  <tbody>\n",
       "    <tr>\n",
       "      <th>4</th>\n",
       "      <td>4</td>\n",
       "      <td>3347</td>\n",
       "    </tr>\n",
       "    <tr>\n",
       "      <th>5</th>\n",
       "      <td>5</td>\n",
       "      <td>2074</td>\n",
       "    </tr>\n",
       "    <tr>\n",
       "      <th>6</th>\n",
       "      <td>6</td>\n",
       "      <td>1853</td>\n",
       "    </tr>\n",
       "    <tr>\n",
       "      <th>8</th>\n",
       "      <td>8</td>\n",
       "      <td>1774</td>\n",
       "    </tr>\n",
       "    <tr>\n",
       "      <th>0</th>\n",
       "      <td>0</td>\n",
       "      <td>1682</td>\n",
       "    </tr>\n",
       "    <tr>\n",
       "      <th>2</th>\n",
       "      <td>2</td>\n",
       "      <td>1585</td>\n",
       "    </tr>\n",
       "    <tr>\n",
       "      <th>1</th>\n",
       "      <td>1</td>\n",
       "      <td>1552</td>\n",
       "    </tr>\n",
       "    <tr>\n",
       "      <th>9</th>\n",
       "      <td>9</td>\n",
       "      <td>1448</td>\n",
       "    </tr>\n",
       "    <tr>\n",
       "      <th>3</th>\n",
       "      <td>3</td>\n",
       "      <td>790</td>\n",
       "    </tr>\n",
       "    <tr>\n",
       "      <th>7</th>\n",
       "      <td>7</td>\n",
       "      <td>356</td>\n",
       "    </tr>\n",
       "  </tbody>\n",
       "</table>\n",
       "</div>"
      ],
      "text/plain": [
       "   tweet_category  tweet_count\n",
       "4               4         3347\n",
       "5               5         2074\n",
       "6               6         1853\n",
       "8               8         1774\n",
       "0               0         1682\n",
       "2               2         1585\n",
       "1               1         1552\n",
       "9               9         1448\n",
       "3               3          790\n",
       "7               7          356"
      ]
     },
     "execution_count": 117,
     "metadata": {},
     "output_type": "execute_result"
    }
   ],
   "source": [
    "tmDist"
   ]
  },
  {
   "cell_type": "markdown",
   "metadata": {},
   "source": [
    "### Airline Compaint Topics"
   ]
  },
  {
   "cell_type": "code",
   "execution_count": 222,
   "metadata": {
    "ExecuteTime": {
     "end_time": "2017-12-06T16:48:24.445152Z",
     "start_time": "2017-12-06T16:48:24.442644Z"
    }
   },
   "outputs": [],
   "source": [
    "airlist = ['SouthwestAir','Delta','British_Airways','AmericanAir']"
   ]
  },
  {
   "cell_type": "code",
   "execution_count": 223,
   "metadata": {
    "ExecuteTime": {
     "end_time": "2017-12-06T17:02:05.843498Z",
     "start_time": "2017-12-06T17:02:04.096142Z"
    }
   },
   "outputs": [
    {
     "name": "stdout",
     "output_type": "stream",
     "text": [
      "(20986, 27)\n",
      "(28485, 27)\n",
      "(19611, 27)\n",
      "(24506, 27)\n"
     ]
    }
   ],
   "source": [
    "airlineDF = get_industry_io(airlist,cleanIODF)"
   ]
  },
  {
   "cell_type": "code",
   "execution_count": 227,
   "metadata": {
    "ExecuteTime": {
     "end_time": "2017-12-06T17:15:33.368627Z",
     "start_time": "2017-12-06T17:02:52.899233Z"
    }
   },
   "outputs": [],
   "source": [
    "airNMF,airFeatures,airDist = multi_get_topics_customer(airlineDF,20,stop=stop,c=companies)"
   ]
  },
  {
   "cell_type": "code",
   "execution_count": 228,
   "metadata": {
    "ExecuteTime": {
     "end_time": "2017-12-06T17:15:33.381591Z",
     "start_time": "2017-12-06T17:15:33.370075Z"
    }
   },
   "outputs": [
    {
     "name": "stdout",
     "output_type": "stream",
     "text": [
      "Topic 0:\n",
      "great crew trip job experience awesome service amazing start always\n",
      "Topic 1:\n",
      "gate agent waiting sitting late tarmac min people board early\n",
      "Topic 2:\n",
      "today crew amazing good really awesome work job working happy\n",
      "Topic 3:\n",
      "check tomorrow early airport trying bird carry able working line\n",
      "Topic 4:\n",
      "change trying booking book ticket call trip getting phone booked\n",
      "Topic 5:\n",
      "flying tomorrow never start next experience airport forward lounge year\n",
      "Topic 6:\n",
      "service customer terrible call poor disappointed amazing phone worst excellent\n",
      "Topic 7:\n",
      "morning early good tomorrow beautiful sunrise view crew start awesome\n",
      "Topic 8:\n",
      "plane left sitting board late crew stuck waiting people broken\n",
      "Topic 9:\n",
      "upgrade first class business list free trip use comfort economy\n",
      "Topic 10:\n",
      "fly never always want every next wait reason use miles\n",
      "Topic 11:\n",
      "time last wait every hold first departure next long week\n",
      "Topic 12:\n",
      "flight attendant tomorrow miss crew booked connection late tonight next\n",
      "Topic 13:\n",
      "seat middle window row aisle left exit next extra pay\n",
      "Topic 14:\n",
      "home getting early trip want tonight ride family week safely\n",
      "Topic 15:\n",
      "hour delay waiting wait hold miss connection half tarmac sitting\n",
      "Topic 16:\n",
      "love much really free work always reason awesome job people\n",
      "Topic 17:\n",
      "bag checked lost luggage baggage carry free claim drop pay\n",
      "Topic 18:\n",
      "ever best travel experience worst never attendant good bad always\n",
      "Topic 19:\n",
      "boarding pass checked tomorrow mobile group priority print board companion\n"
     ]
    }
   ],
   "source": [
    "display_topics(airNMF,airFeatures,10)"
   ]
  },
  {
   "cell_type": "code",
   "execution_count": 229,
   "metadata": {
    "ExecuteTime": {
     "end_time": "2017-12-06T17:15:33.390165Z",
     "start_time": "2017-12-06T17:15:33.382959Z"
    }
   },
   "outputs": [
    {
     "data": {
      "text/html": [
       "<div>\n",
       "<style scoped>\n",
       "    .dataframe tbody tr th:only-of-type {\n",
       "        vertical-align: middle;\n",
       "    }\n",
       "\n",
       "    .dataframe tbody tr th {\n",
       "        vertical-align: top;\n",
       "    }\n",
       "\n",
       "    .dataframe thead th {\n",
       "        text-align: right;\n",
       "    }\n",
       "</style>\n",
       "<table border=\"1\" class=\"dataframe\">\n",
       "  <thead>\n",
       "    <tr style=\"text-align: right;\">\n",
       "      <th></th>\n",
       "      <th>tweet_category</th>\n",
       "      <th>tweet_count</th>\n",
       "    </tr>\n",
       "  </thead>\n",
       "  <tbody>\n",
       "    <tr>\n",
       "      <th>4</th>\n",
       "      <td>4</td>\n",
       "      <td>13915</td>\n",
       "    </tr>\n",
       "    <tr>\n",
       "      <th>12</th>\n",
       "      <td>12</td>\n",
       "      <td>9676</td>\n",
       "    </tr>\n",
       "    <tr>\n",
       "      <th>0</th>\n",
       "      <td>0</td>\n",
       "      <td>5727</td>\n",
       "    </tr>\n",
       "    <tr>\n",
       "      <th>1</th>\n",
       "      <td>1</td>\n",
       "      <td>5207</td>\n",
       "    </tr>\n",
       "    <tr>\n",
       "      <th>19</th>\n",
       "      <td>19</td>\n",
       "      <td>4807</td>\n",
       "    </tr>\n",
       "    <tr>\n",
       "      <th>6</th>\n",
       "      <td>6</td>\n",
       "      <td>4501</td>\n",
       "    </tr>\n",
       "    <tr>\n",
       "      <th>17</th>\n",
       "      <td>17</td>\n",
       "      <td>4170</td>\n",
       "    </tr>\n",
       "    <tr>\n",
       "      <th>15</th>\n",
       "      <td>15</td>\n",
       "      <td>3693</td>\n",
       "    </tr>\n",
       "    <tr>\n",
       "      <th>8</th>\n",
       "      <td>8</td>\n",
       "      <td>3516</td>\n",
       "    </tr>\n",
       "    <tr>\n",
       "      <th>9</th>\n",
       "      <td>9</td>\n",
       "      <td>3435</td>\n",
       "    </tr>\n",
       "    <tr>\n",
       "      <th>10</th>\n",
       "      <td>10</td>\n",
       "      <td>3251</td>\n",
       "    </tr>\n",
       "    <tr>\n",
       "      <th>3</th>\n",
       "      <td>3</td>\n",
       "      <td>3162</td>\n",
       "    </tr>\n",
       "    <tr>\n",
       "      <th>2</th>\n",
       "      <td>2</td>\n",
       "      <td>3136</td>\n",
       "    </tr>\n",
       "    <tr>\n",
       "      <th>13</th>\n",
       "      <td>13</td>\n",
       "      <td>3054</td>\n",
       "    </tr>\n",
       "    <tr>\n",
       "      <th>18</th>\n",
       "      <td>18</td>\n",
       "      <td>2819</td>\n",
       "    </tr>\n",
       "    <tr>\n",
       "      <th>11</th>\n",
       "      <td>11</td>\n",
       "      <td>2736</td>\n",
       "    </tr>\n",
       "    <tr>\n",
       "      <th>5</th>\n",
       "      <td>5</td>\n",
       "      <td>2578</td>\n",
       "    </tr>\n",
       "    <tr>\n",
       "      <th>7</th>\n",
       "      <td>7</td>\n",
       "      <td>2295</td>\n",
       "    </tr>\n",
       "    <tr>\n",
       "      <th>14</th>\n",
       "      <td>14</td>\n",
       "      <td>2225</td>\n",
       "    </tr>\n",
       "    <tr>\n",
       "      <th>16</th>\n",
       "      <td>16</td>\n",
       "      <td>1623</td>\n",
       "    </tr>\n",
       "  </tbody>\n",
       "</table>\n",
       "</div>"
      ],
      "text/plain": [
       "    tweet_category  tweet_count\n",
       "4                4        13915\n",
       "12              12         9676\n",
       "0                0         5727\n",
       "1                1         5207\n",
       "19              19         4807\n",
       "6                6         4501\n",
       "17              17         4170\n",
       "15              15         3693\n",
       "8                8         3516\n",
       "9                9         3435\n",
       "10              10         3251\n",
       "3                3         3162\n",
       "2                2         3136\n",
       "13              13         3054\n",
       "18              18         2819\n",
       "11              11         2736\n",
       "5                5         2578\n",
       "7                7         2295\n",
       "14              14         2225\n",
       "16              16         1623"
      ]
     },
     "execution_count": 229,
     "metadata": {},
     "output_type": "execute_result"
    }
   ],
   "source": [
    "airDist"
   ]
  },
  {
   "cell_type": "markdown",
   "metadata": {},
   "source": [
    "### Company Response Topics"
   ]
  },
  {
   "cell_type": "markdown",
   "metadata": {},
   "source": [
    "#### Southwest"
   ]
  },
  {
   "cell_type": "code",
   "execution_count": 212,
   "metadata": {
    "ExecuteTime": {
     "end_time": "2017-12-05T03:27:03.166668Z",
     "start_time": "2017-12-05T03:26:30.714889Z"
    }
   },
   "outputs": [
    {
     "name": "stdout",
     "output_type": "stream",
     "text": [
      "dataframe shape: (20986, 27)\n"
     ]
    }
   ],
   "source": [
    "swNMF,swFeatures,swDist = get_topics_company('SouthwestAir',10,cleanIODF,stop=stop)"
   ]
  },
  {
   "cell_type": "code",
   "execution_count": 214,
   "metadata": {
    "ExecuteTime": {
     "end_time": "2017-12-05T03:27:33.764546Z",
     "start_time": "2017-12-05T03:27:33.757762Z"
    }
   },
   "outputs": [
    {
     "name": "stdout",
     "output_type": "stream",
     "text": [
      "Topic 0:\n",
      "flight hope enjoy great glad trip\n",
      "Topic 1:\n",
      "rewards rapid number account hey na\n",
      "Topic 2:\n",
      "confirmation number follow closer sj mind\n",
      "Topic 3:\n",
      "free feel vp hear follow info\n",
      "Topic 4:\n",
      "sorry hear working possible appreciate delay\n",
      "Topic 5:\n",
      "pass kudos along sending mind sure\n",
      "Topic 6:\n",
      "happy today vp travels sw onboard\n",
      "Topic 7:\n",
      "onboard soon wait welcome forward hope\n",
      "Topic 8:\n",
      "sharing skies love view ms great\n",
      "Topic 9:\n",
      "boarding check earlybird position specific prior\n"
     ]
    }
   ],
   "source": [
    "display_topics(swNMF,swFeatures,6)"
   ]
  },
  {
   "cell_type": "code",
   "execution_count": 215,
   "metadata": {
    "ExecuteTime": {
     "end_time": "2017-12-05T03:28:25.503128Z",
     "start_time": "2017-12-05T03:28:25.497059Z"
    }
   },
   "outputs": [
    {
     "data": {
      "text/html": [
       "<div>\n",
       "<style scoped>\n",
       "    .dataframe tbody tr th:only-of-type {\n",
       "        vertical-align: middle;\n",
       "    }\n",
       "\n",
       "    .dataframe tbody tr th {\n",
       "        vertical-align: top;\n",
       "    }\n",
       "\n",
       "    .dataframe thead th {\n",
       "        text-align: right;\n",
       "    }\n",
       "</style>\n",
       "<table border=\"1\" class=\"dataframe\">\n",
       "  <thead>\n",
       "    <tr style=\"text-align: right;\">\n",
       "      <th></th>\n",
       "      <th>tweet_category</th>\n",
       "      <th>tweet_count</th>\n",
       "    </tr>\n",
       "  </thead>\n",
       "  <tbody>\n",
       "    <tr>\n",
       "      <th>4</th>\n",
       "      <td>4</td>\n",
       "      <td>4598</td>\n",
       "    </tr>\n",
       "    <tr>\n",
       "      <th>0</th>\n",
       "      <td>0</td>\n",
       "      <td>3200</td>\n",
       "    </tr>\n",
       "    <tr>\n",
       "      <th>7</th>\n",
       "      <td>7</td>\n",
       "      <td>3038</td>\n",
       "    </tr>\n",
       "    <tr>\n",
       "      <th>8</th>\n",
       "      <td>8</td>\n",
       "      <td>1770</td>\n",
       "    </tr>\n",
       "    <tr>\n",
       "      <th>2</th>\n",
       "      <td>2</td>\n",
       "      <td>1697</td>\n",
       "    </tr>\n",
       "    <tr>\n",
       "      <th>9</th>\n",
       "      <td>9</td>\n",
       "      <td>1697</td>\n",
       "    </tr>\n",
       "    <tr>\n",
       "      <th>6</th>\n",
       "      <td>6</td>\n",
       "      <td>1375</td>\n",
       "    </tr>\n",
       "    <tr>\n",
       "      <th>1</th>\n",
       "      <td>1</td>\n",
       "      <td>1362</td>\n",
       "    </tr>\n",
       "    <tr>\n",
       "      <th>3</th>\n",
       "      <td>3</td>\n",
       "      <td>985</td>\n",
       "    </tr>\n",
       "    <tr>\n",
       "      <th>5</th>\n",
       "      <td>5</td>\n",
       "      <td>922</td>\n",
       "    </tr>\n",
       "  </tbody>\n",
       "</table>\n",
       "</div>"
      ],
      "text/plain": [
       "   tweet_category  tweet_count\n",
       "4               4         4598\n",
       "0               0         3200\n",
       "7               7         3038\n",
       "8               8         1770\n",
       "2               2         1697\n",
       "9               9         1697\n",
       "6               6         1375\n",
       "1               1         1362\n",
       "3               3          985\n",
       "5               5          922"
      ]
     },
     "execution_count": 215,
     "metadata": {},
     "output_type": "execute_result"
    }
   ],
   "source": [
    "swDist"
   ]
  },
  {
   "cell_type": "markdown",
   "metadata": {},
   "source": [
    "#### Sprint Tweets"
   ]
  },
  {
   "cell_type": "code",
   "execution_count": 216,
   "metadata": {
    "ExecuteTime": {
     "end_time": "2017-12-05T03:29:48.700886Z",
     "start_time": "2017-12-05T03:29:35.589471Z"
    }
   },
   "outputs": [
    {
     "name": "stdout",
     "output_type": "stream",
     "text": [
      "dataframe shape: (12649, 27)\n"
     ]
    }
   ],
   "source": [
    "sprintCompanyNMF,sprintCompanyFeatures,sprintCompanyDist = get_topics_company('sprintcare',10,cleanIODF,stop=stop)"
   ]
  },
  {
   "cell_type": "code",
   "execution_count": 217,
   "metadata": {
    "ExecuteTime": {
     "end_time": "2017-12-05T03:29:59.517795Z",
     "start_time": "2017-12-05T03:29:59.513084Z"
    }
   },
   "outputs": [
    {
     "name": "stdout",
     "output_type": "stream",
     "text": [
      "Topic 0:\n",
      "issues service zip experiencing code cross\n",
      "Topic 1:\n",
      "team concerns happy contact reach information\n",
      "Topic 2:\n",
      "hey eg seems shoot lp mm\n",
      "Topic 3:\n",
      "want feel definitely wow makes sprint\n",
      "Topic 4:\n",
      "hear feedback type kind sorry customers\n",
      "Topic 5:\n",
      "concerning really oh allow dp ja\n",
      "Topic 6:\n",
      "reaching jm kj much mj gt\n",
      "Topic 7:\n",
      "today anything well hope hate sprint\n",
      "Topic 8:\n",
      "direct message lc jj je mj\n",
      "Topic 9:\n",
      "follow order check something sounds eg\n"
     ]
    }
   ],
   "source": [
    "display_topics(sprintCompanyNMF,sprintCompanyFeatures,6)"
   ]
  },
  {
   "cell_type": "code",
   "execution_count": 218,
   "metadata": {
    "ExecuteTime": {
     "end_time": "2017-12-05T03:30:27.865211Z",
     "start_time": "2017-12-05T03:30:27.859070Z"
    }
   },
   "outputs": [
    {
     "data": {
      "text/html": [
       "<div>\n",
       "<style scoped>\n",
       "    .dataframe tbody tr th:only-of-type {\n",
       "        vertical-align: middle;\n",
       "    }\n",
       "\n",
       "    .dataframe tbody tr th {\n",
       "        vertical-align: top;\n",
       "    }\n",
       "\n",
       "    .dataframe thead th {\n",
       "        text-align: right;\n",
       "    }\n",
       "</style>\n",
       "<table border=\"1\" class=\"dataframe\">\n",
       "  <thead>\n",
       "    <tr style=\"text-align: right;\">\n",
       "      <th></th>\n",
       "      <th>tweet_category</th>\n",
       "      <th>tweet_count</th>\n",
       "    </tr>\n",
       "  </thead>\n",
       "  <tbody>\n",
       "    <tr>\n",
       "      <th>0</th>\n",
       "      <td>0</td>\n",
       "      <td>1805</td>\n",
       "    </tr>\n",
       "    <tr>\n",
       "      <th>1</th>\n",
       "      <td>1</td>\n",
       "      <td>1805</td>\n",
       "    </tr>\n",
       "    <tr>\n",
       "      <th>8</th>\n",
       "      <td>8</td>\n",
       "      <td>1426</td>\n",
       "    </tr>\n",
       "    <tr>\n",
       "      <th>2</th>\n",
       "      <td>2</td>\n",
       "      <td>1348</td>\n",
       "    </tr>\n",
       "    <tr>\n",
       "      <th>3</th>\n",
       "      <td>3</td>\n",
       "      <td>1272</td>\n",
       "    </tr>\n",
       "    <tr>\n",
       "      <th>9</th>\n",
       "      <td>9</td>\n",
       "      <td>996</td>\n",
       "    </tr>\n",
       "    <tr>\n",
       "      <th>4</th>\n",
       "      <td>4</td>\n",
       "      <td>883</td>\n",
       "    </tr>\n",
       "    <tr>\n",
       "      <th>5</th>\n",
       "      <td>5</td>\n",
       "      <td>793</td>\n",
       "    </tr>\n",
       "    <tr>\n",
       "      <th>6</th>\n",
       "      <td>6</td>\n",
       "      <td>733</td>\n",
       "    </tr>\n",
       "    <tr>\n",
       "      <th>7</th>\n",
       "      <td>7</td>\n",
       "      <td>616</td>\n",
       "    </tr>\n",
       "  </tbody>\n",
       "</table>\n",
       "</div>"
      ],
      "text/plain": [
       "   tweet_category  tweet_count\n",
       "0               0         1805\n",
       "1               1         1805\n",
       "8               8         1426\n",
       "2               2         1348\n",
       "3               3         1272\n",
       "9               9          996\n",
       "4               4          883\n",
       "5               5          793\n",
       "6               6          733\n",
       "7               7          616"
      ]
     },
     "execution_count": 218,
     "metadata": {},
     "output_type": "execute_result"
    }
   ],
   "source": [
    "sprintCompanyDist"
   ]
  },
  {
   "cell_type": "code",
   "execution_count": null,
   "metadata": {},
   "outputs": [],
   "source": []
  },
  {
   "cell_type": "code",
   "execution_count": null,
   "metadata": {},
   "outputs": [],
   "source": []
  },
  {
   "cell_type": "markdown",
   "metadata": {},
   "source": [
    "## Quick Cluster"
   ]
  },
  {
   "cell_type": "markdown",
   "metadata": {},
   "source": [
    "### Kmeans"
   ]
  },
  {
   "cell_type": "code",
   "execution_count": 58,
   "metadata": {
    "ExecuteTime": {
     "end_time": "2017-11-26T23:26:01.412218Z",
     "start_time": "2017-11-26T23:25:53.706662Z"
    }
   },
   "outputs": [
    {
     "name": "stdout",
     "output_type": "stream",
     "text": [
      "CPU times: user 308 ms, sys: 240 ms, total: 548 ms\n",
      "Wall time: 7.7 s\n"
     ]
    }
   ],
   "source": [
    "#without dimensionality reduction\n",
    "\n",
    "num_clusters = 5\n",
    "\n",
    "km = KMeans(n_clusters=num_clusters,init='k-means++',n_init=20,n_jobs=-1,max_iter=100)\n",
    "\n",
    "%time km.fit(x)\n",
    "\n",
    "clusters = km.labels_.tolist()"
   ]
  },
  {
   "cell_type": "code",
   "execution_count": 59,
   "metadata": {
    "ExecuteTime": {
     "end_time": "2017-11-26T23:26:01.419278Z",
     "start_time": "2017-11-26T23:26:01.413979Z"
    }
   },
   "outputs": [
    {
     "data": {
      "text/plain": [
       "['../models/doc_cluster.pkl']"
      ]
     },
     "execution_count": 59,
     "metadata": {},
     "output_type": "execute_result"
    }
   ],
   "source": [
    "joblib.dump(km,  '../models/doc_cluster.pkl')\n",
    "\n",
    "# km = joblib.load('doc_cluster.pkl')\n",
    "# clusters = km.labels_.tolist()"
   ]
  },
  {
   "cell_type": "code",
   "execution_count": 60,
   "metadata": {
    "ExecuteTime": {
     "end_time": "2017-11-26T23:26:01.516439Z",
     "start_time": "2017-11-26T23:26:01.420740Z"
    }
   },
   "outputs": [],
   "source": [
    "appleClusters = appleDF.copy()\n",
    "appleClusters['clusters'] = clusters\n",
    "\n",
    "#frame = pd.DataFrame(films, index = [clusters] , columns = ['rank', 'title', 'cluster', 'genre'])"
   ]
  },
  {
   "cell_type": "code",
   "execution_count": 61,
   "metadata": {
    "ExecuteTime": {
     "end_time": "2017-11-26T23:26:01.524120Z",
     "start_time": "2017-11-26T23:26:01.518195Z"
    }
   },
   "outputs": [
    {
     "data": {
      "text/plain": [
       "0    93927\n",
       "2    24611\n",
       "1    21735\n",
       "3    19018\n",
       "4    12226\n",
       "Name: clusters, dtype: int64"
      ]
     },
     "execution_count": 61,
     "metadata": {},
     "output_type": "execute_result"
    }
   ],
   "source": [
    "appleClusters.clusters.value_counts()"
   ]
  },
  {
   "cell_type": "code",
   "execution_count": 62,
   "metadata": {
    "ExecuteTime": {
     "end_time": "2017-11-26T23:26:01.539282Z",
     "start_time": "2017-11-26T23:26:01.525598Z"
    }
   },
   "outputs": [
    {
     "data": {
      "text/html": [
       "<div>\n",
       "<style scoped>\n",
       "    .dataframe tbody tr th:only-of-type {\n",
       "        vertical-align: middle;\n",
       "    }\n",
       "\n",
       "    .dataframe tbody tr th {\n",
       "        vertical-align: top;\n",
       "    }\n",
       "\n",
       "    .dataframe thead th {\n",
       "        text-align: right;\n",
       "    }\n",
       "</style>\n",
       "<table border=\"1\" class=\"dataframe\">\n",
       "  <thead>\n",
       "    <tr style=\"text-align: right;\">\n",
       "      <th></th>\n",
       "      <th>tweet_id</th>\n",
       "      <th>author_id</th>\n",
       "      <th>inbound</th>\n",
       "      <th>text</th>\n",
       "      <th>response_tweet_id</th>\n",
       "      <th>in_response_to_tweet_id</th>\n",
       "      <th>date</th>\n",
       "      <th>month</th>\n",
       "      <th>day</th>\n",
       "      <th>clean</th>\n",
       "      <th>clusters</th>\n",
       "    </tr>\n",
       "  </thead>\n",
       "  <tbody>\n",
       "    <tr>\n",
       "      <th>119</th>\n",
       "      <td>129</td>\n",
       "      <td>AppleSupport</td>\n",
       "      <td>False</td>\n",
       "      <td>@95972 Let's take a look at your flashlight to...</td>\n",
       "      <td>130</td>\n",
       "      <td>131.0</td>\n",
       "      <td>2017-10-04 13:04:26</td>\n",
       "      <td>10</td>\n",
       "      <td>2</td>\n",
       "      <td>flashlight,together,recently,version,number</td>\n",
       "      <td>1</td>\n",
       "    </tr>\n",
       "    <tr>\n",
       "      <th>120</th>\n",
       "      <td>130</td>\n",
       "      <td>95973</td>\n",
       "      <td>True</td>\n",
       "      <td>@AppleSupport @95972 i have the same problem w...</td>\n",
       "      <td>NaN</td>\n",
       "      <td>129.0</td>\n",
       "      <td>2017-10-04 22:10:17</td>\n",
       "      <td>10</td>\n",
       "      <td>2</td>\n",
       "      <td>problem,led,doesnt,work,since</td>\n",
       "      <td>0</td>\n",
       "    </tr>\n",
       "    <tr>\n",
       "      <th>309</th>\n",
       "      <td>385</td>\n",
       "      <td>AppleSupport</td>\n",
       "      <td>False</td>\n",
       "      <td>@96035 We want you to get the most out of your...</td>\n",
       "      <td>NaN</td>\n",
       "      <td>386.0</td>\n",
       "      <td>2017-10-04 12:33:00</td>\n",
       "      <td>10</td>\n",
       "      <td>2</td>\n",
       "      <td>happening,specifically</td>\n",
       "      <td>3</td>\n",
       "    </tr>\n",
       "    <tr>\n",
       "      <th>339</th>\n",
       "      <td>416</td>\n",
       "      <td>AppleSupport</td>\n",
       "      <td>False</td>\n",
       "      <td>@96041 We appreciate you letting us know, does...</td>\n",
       "      <td>NaN</td>\n",
       "      <td>417.0</td>\n",
       "      <td>2017-10-04 12:59:29</td>\n",
       "      <td>10</td>\n",
       "      <td>2</td>\n",
       "      <td>appreciate,happen,cellular,data</td>\n",
       "      <td>0</td>\n",
       "    </tr>\n",
       "    <tr>\n",
       "      <th>340</th>\n",
       "      <td>417</td>\n",
       "      <td>96041</td>\n",
       "      <td>True</td>\n",
       "      <td>@AppleSupport When you go to the App Store &amp;am...</td>\n",
       "      <td>416</td>\n",
       "      <td>418.0</td>\n",
       "      <td>2017-10-04 04:57:54</td>\n",
       "      <td>10</td>\n",
       "      <td>2</td>\n",
       "      <td>pick,randomly,image,video,sec,play,whole</td>\n",
       "      <td>0</td>\n",
       "    </tr>\n",
       "  </tbody>\n",
       "</table>\n",
       "</div>"
      ],
      "text/plain": [
       "     tweet_id     author_id  inbound  \\\n",
       "119       129  AppleSupport    False   \n",
       "120       130         95973     True   \n",
       "309       385  AppleSupport    False   \n",
       "339       416  AppleSupport    False   \n",
       "340       417         96041     True   \n",
       "\n",
       "                                                  text response_tweet_id  \\\n",
       "119  @95972 Let's take a look at your flashlight to...               130   \n",
       "120  @AppleSupport @95972 i have the same problem w...               NaN   \n",
       "309  @96035 We want you to get the most out of your...               NaN   \n",
       "339  @96041 We appreciate you letting us know, does...               NaN   \n",
       "340  @AppleSupport When you go to the App Store &am...               416   \n",
       "\n",
       "     in_response_to_tweet_id                date  month  day  \\\n",
       "119                    131.0 2017-10-04 13:04:26     10    2   \n",
       "120                    129.0 2017-10-04 22:10:17     10    2   \n",
       "309                    386.0 2017-10-04 12:33:00     10    2   \n",
       "339                    417.0 2017-10-04 12:59:29     10    2   \n",
       "340                    418.0 2017-10-04 04:57:54     10    2   \n",
       "\n",
       "                                           clean  clusters  \n",
       "119  flashlight,together,recently,version,number         1  \n",
       "120                problem,led,doesnt,work,since         0  \n",
       "309                       happening,specifically         3  \n",
       "339              appreciate,happen,cellular,data         0  \n",
       "340     pick,randomly,image,video,sec,play,whole         0  "
      ]
     },
     "execution_count": 62,
     "metadata": {},
     "output_type": "execute_result"
    }
   ],
   "source": [
    "appleClusters.head()"
   ]
  },
  {
   "cell_type": "code",
   "execution_count": 107,
   "metadata": {
    "ExecuteTime": {
     "end_time": "2017-11-26T19:10:31.786330Z",
     "start_time": "2017-11-26T19:10:31.732149Z"
    }
   },
   "outputs": [
    {
     "name": "stdout",
     "output_type": "stream",
     "text": [
      "Top terms per cluster:\n",
      "\n",
      "Cluster 0 words:"
     ]
    },
    {
     "ename": "NameError",
     "evalue": "name 'vocab_frame' is not defined",
     "output_type": "error",
     "traceback": [
      "\u001b[0;31m---------------------------------------------------------------------------\u001b[0m",
      "\u001b[0;31mNameError\u001b[0m                                 Traceback (most recent call last)",
      "\u001b[0;32m<ipython-input-107-0eec6f292577>\u001b[0m in \u001b[0;36m<module>\u001b[0;34m()\u001b[0m\n\u001b[1;32m      8\u001b[0m \u001b[0;34m\u001b[0m\u001b[0m\n\u001b[1;32m      9\u001b[0m     \u001b[0;32mfor\u001b[0m \u001b[0mind\u001b[0m \u001b[0;32min\u001b[0m \u001b[0morder_centroids\u001b[0m\u001b[0;34m[\u001b[0m\u001b[0mi\u001b[0m\u001b[0;34m,\u001b[0m \u001b[0;34m:\u001b[0m\u001b[0;36m6\u001b[0m\u001b[0;34m]\u001b[0m\u001b[0;34m:\u001b[0m \u001b[0;31m#replace 6 with n words per cluster\u001b[0m\u001b[0;34m\u001b[0m\u001b[0m\n\u001b[0;32m---> 10\u001b[0;31m         \u001b[0mprint\u001b[0m\u001b[0;34m(\u001b[0m\u001b[0;34m' %s'\u001b[0m \u001b[0;34m%\u001b[0m \u001b[0mvocab_frame\u001b[0m\u001b[0;34m.\u001b[0m\u001b[0mix\u001b[0m\u001b[0;34m[\u001b[0m\u001b[0mterms\u001b[0m\u001b[0;34m[\u001b[0m\u001b[0mind\u001b[0m\u001b[0;34m]\u001b[0m\u001b[0;34m.\u001b[0m\u001b[0msplit\u001b[0m\u001b[0;34m(\u001b[0m\u001b[0;34m' '\u001b[0m\u001b[0;34m)\u001b[0m\u001b[0;34m]\u001b[0m\u001b[0;34m.\u001b[0m\u001b[0mvalues\u001b[0m\u001b[0;34m.\u001b[0m\u001b[0mtolist\u001b[0m\u001b[0;34m(\u001b[0m\u001b[0;34m)\u001b[0m\u001b[0;34m[\u001b[0m\u001b[0;36m0\u001b[0m\u001b[0;34m]\u001b[0m\u001b[0;34m[\u001b[0m\u001b[0;36m0\u001b[0m\u001b[0;34m]\u001b[0m\u001b[0;34m.\u001b[0m\u001b[0mencode\u001b[0m\u001b[0;34m(\u001b[0m\u001b[0;34m'utf-8'\u001b[0m\u001b[0;34m,\u001b[0m \u001b[0;34m'ignore'\u001b[0m\u001b[0;34m)\u001b[0m\u001b[0;34m,\u001b[0m \u001b[0mend\u001b[0m\u001b[0;34m=\u001b[0m\u001b[0;34m','\u001b[0m\u001b[0;34m)\u001b[0m\u001b[0;34m\u001b[0m\u001b[0m\n\u001b[0m\u001b[1;32m     11\u001b[0m     \u001b[0mprint\u001b[0m\u001b[0;34m(\u001b[0m\u001b[0;34m)\u001b[0m \u001b[0;31m#add whitespace\u001b[0m\u001b[0;34m\u001b[0m\u001b[0m\n\u001b[1;32m     12\u001b[0m     \u001b[0mprint\u001b[0m\u001b[0;34m(\u001b[0m\u001b[0;34m)\u001b[0m \u001b[0;31m#add whitespace\u001b[0m\u001b[0;34m\u001b[0m\u001b[0m\n",
      "\u001b[0;31mNameError\u001b[0m: name 'vocab_frame' is not defined"
     ]
    }
   ],
   "source": [
    "print(\"Top terms per cluster:\")\n",
    "print()\n",
    "#sort cluster centers by proximity to centroid\n",
    "order_centroids = km.cluster_centers_.argsort()[:, ::-1] \n",
    "\n",
    "for i in range(num_clusters):\n",
    "    print(\"Cluster %d words:\" % i, end='')\n",
    "    \n",
    "    for ind in order_centroids[i, :6]: #replace 6 with n words per cluster\n",
    "        print(' %s' % vocab_frame.ix[terms[ind].split(' ')].values.tolist()[0][0].encode('utf-8', 'ignore'), end=',')\n",
    "    print() #add whitespace\n",
    "    print() #add whitespace\n",
    "    \n",
    "    print(\"Cluster %d titles:\" % i, end='')\n",
    "    for title in frame.ix[i]['title'].values.tolist():\n",
    "        print(' %s,' % title, end='')\n",
    "    print() #add whitespace\n",
    "    print() #add whitespace\n",
    "    \n",
    "print()\n",
    "print()\n"
   ]
  },
  {
   "cell_type": "markdown",
   "metadata": {
    "ExecuteTime": {
     "end_time": "2017-11-26T19:23:43.480629Z",
     "start_time": "2017-11-26T19:23:43.476349Z"
    }
   },
   "source": [
    "### Cosine Similarity"
   ]
  },
  {
   "cell_type": "code",
   "execution_count": 75,
   "metadata": {
    "ExecuteTime": {
     "end_time": "2017-11-26T20:15:05.837929Z",
     "start_time": "2017-11-26T20:15:05.835143Z"
    }
   },
   "outputs": [],
   "source": [
    "# from sklearn.metrics.pairwise import cosine_similarity\n",
    "# dist = 1 - cosine_similarity(x)"
   ]
  },
  {
   "cell_type": "markdown",
   "metadata": {},
   "source": [
    "### PCA Before TSNE?"
   ]
  },
  {
   "cell_type": "code",
   "execution_count": 80,
   "metadata": {
    "ExecuteTime": {
     "end_time": "2017-11-27T00:08:17.245893Z",
     "start_time": "2017-11-27T00:08:17.118893Z"
    }
   },
   "outputs": [
    {
     "name": "stdout",
     "output_type": "stream",
     "text": [
      "Explained variation per principal component: [ 0.32311738  0.25988292  0.17274012]\n"
     ]
    }
   ],
   "source": [
    "from sklearn.decomposition import PCA\n",
    "\n",
    "pca = PCA(n_components=3)\n",
    "pca_result = pca.fit_transform(nmf_W)\n",
    "\n",
    "# df['pca-one'] = pca_result[:,0]\n",
    "# df['pca-two'] = pca_result[:,1] \n",
    "# df['pca-three'] = pca_result[:,2]\n",
    "\n",
    "print('Explained variation per principal component: {}'.format(pca.explained_variance_ratio_))"
   ]
  },
  {
   "cell_type": "code",
   "execution_count": 81,
   "metadata": {
    "ExecuteTime": {
     "end_time": "2017-11-27T00:08:18.694788Z",
     "start_time": "2017-11-27T00:08:18.690895Z"
    }
   },
   "outputs": [
    {
     "data": {
      "text/plain": [
       "171517"
      ]
     },
     "execution_count": 81,
     "metadata": {},
     "output_type": "execute_result"
    }
   ],
   "source": [
    "len(pca_result)"
   ]
  },
  {
   "cell_type": "markdown",
   "metadata": {},
   "source": [
    "### TSNE"
   ]
  },
  {
   "cell_type": "code",
   "execution_count": 67,
   "metadata": {
    "ExecuteTime": {
     "end_time": "2017-11-26T16:39:15.795340Z",
     "start_time": "2017-11-26T15:13:27.962479Z"
    }
   },
   "outputs": [],
   "source": [
    "tsne_model = TSNE(n_components=2, random_state=0)\n",
    "results = tsne_model.fit_transform(nmf_W) "
   ]
  },
  {
   "cell_type": "code",
   "execution_count": 68,
   "metadata": {
    "ExecuteTime": {
     "end_time": "2017-11-26T16:39:15.812260Z",
     "start_time": "2017-11-26T16:39:15.797118Z"
    }
   },
   "outputs": [
    {
     "data": {
      "text/plain": [
       "['../models/tsne.pkl']"
      ]
     },
     "execution_count": 68,
     "metadata": {},
     "output_type": "execute_result"
    }
   ],
   "source": [
    "joblib.dump(tsne_model, '../models/tsne.pkl')"
   ]
  },
  {
   "cell_type": "code",
   "execution_count": 69,
   "metadata": {
    "ExecuteTime": {
     "end_time": "2017-11-26T16:39:28.197276Z",
     "start_time": "2017-11-26T16:39:15.815463Z"
    }
   },
   "outputs": [
    {
     "data": {
      "image/png": "[encoded data removed]",
      "text/plain": [
       "<matplotlib.figure.Figure at 0x1a17c2f9b0>"
      ]
     },
     "metadata": {},
     "output_type": "display_data"
    }
   ],
   "source": [
    "def get_coords(matrix2D):\n",
    "    x = []\n",
    "    y = []\n",
    "    for r in matrix2D:\n",
    "        x.append(r[0])\n",
    "        y.append(r[1])\n",
    "    return x, y\n",
    "\n",
    "x, y = get_coords(results)\n",
    "\n",
    "from sklearn.cluster import KMeans\n",
    "kmeans = KMeans(n_clusters=50, random_state=0).fit(nmf_W)\n",
    "\n",
    "# Scatter plot with colouring by kmeans labels:\n",
    "plt.scatter(x, y, alpha=0.4, c=kmeans.labels_, marker='o', s=30);"
   ]
  },
  {
   "cell_type": "code",
   "execution_count": null,
   "metadata": {
    "ExecuteTime": {
     "end_time": "2017-11-26T15:13:06.609157Z",
     "start_time": "2017-11-26T15:12:37.051Z"
    }
   },
   "outputs": [],
   "source": [
    "joblib.dump(kmeans, '../models/kmeans.pkl')"
   ]
  },
  {
   "cell_type": "code",
   "execution_count": 65,
   "metadata": {
    "ExecuteTime": {
     "end_time": "2017-11-26T15:13:16.690253Z",
     "start_time": "2017-11-26T15:13:16.665599Z"
    }
   },
   "outputs": [],
   "source": [
    "kmeans = joblib.load('../models/kmeans.pkl')"
   ]
  },
  {
   "cell_type": "markdown",
   "metadata": {},
   "source": [
    "### TSNE Tech Companies"
   ]
  },
  {
   "cell_type": "code",
   "execution_count": 24,
   "metadata": {
    "ExecuteTime": {
     "end_time": "2017-12-01T02:08:28.219056Z",
     "start_time": "2017-12-01T02:08:28.216944Z"
    }
   },
   "outputs": [],
   "source": [
    "techlist = ['AppleSupport','MicrosoftHelps','DellCares','HPSupport']"
   ]
  },
  {
   "cell_type": "code",
   "execution_count": 276,
   "metadata": {
    "ExecuteTime": {
     "end_time": "2017-11-28T03:08:16.184892Z",
     "start_time": "2017-11-28T03:08:07.220038Z"
    }
   },
   "outputs": [
    {
     "name": "stdout",
     "output_type": "stream",
     "text": [
      "(171517, 8)\n",
      "(17303, 8)\n",
      "(6359, 8)\n",
      "(10204, 8)\n"
     ]
    }
   ],
   "source": []
  },
  {
   "cell_type": "code",
   "execution_count": 277,
   "metadata": {
    "ExecuteTime": {
     "end_time": "2017-11-28T03:08:16.189399Z",
     "start_time": "2017-11-28T03:08:16.186297Z"
    }
   },
   "outputs": [
    {
     "data": {
      "text/plain": [
       "(205383, 8)"
      ]
     },
     "execution_count": 277,
     "metadata": {},
     "output_type": "execute_result"
    }
   ],
   "source": [
    "techDF.shape"
   ]
  },
  {
   "cell_type": "code",
   "execution_count": 278,
   "metadata": {
    "ExecuteTime": {
     "end_time": "2017-11-28T03:10:04.256803Z",
     "start_time": "2017-11-28T03:10:00.811113Z"
    }
   },
   "outputs": [],
   "source": [
    "tf3_vectorizer = TfidfVectorizer(stop_words=stop,use_idf=True)\n",
    "tf3 = tf3_vectorizer.fit_transform(techDF.text)\n",
    "tf3_feature_names = tf3_vectorizer.get_feature_names()"
   ]
  },
  {
   "cell_type": "code",
   "execution_count": 281,
   "metadata": {
    "ExecuteTime": {
     "end_time": "2017-11-28T03:10:59.970337Z",
     "start_time": "2017-11-28T03:10:21.484276Z"
    }
   },
   "outputs": [],
   "source": [
    "no_topics = 20\n",
    "nmf2_model = NMF(n_components=no_topics,init='random').fit(tf3)\n",
    "nmf2_W = nmf2_model.transform(tf3)\n",
    "nmf2_H = nmf2_model.components_"
   ]
  },
  {
   "cell_type": "code",
   "execution_count": 283,
   "metadata": {
    "ExecuteTime": {
     "end_time": "2017-11-28T04:50:35.558105Z",
     "start_time": "2017-11-28T03:14:04.714655Z"
    }
   },
   "outputs": [],
   "source": [
    "tsne_tech_model = TSNE(n_components=2, random_state=0)\n",
    "results = tsne_tech_model.fit_transform(nmf2_W) "
   ]
  },
  {
   "cell_type": "code",
   "execution_count": 284,
   "metadata": {
    "ExecuteTime": {
     "end_time": "2017-11-28T04:50:35.564444Z",
     "start_time": "2017-11-28T04:50:35.559686Z"
    }
   },
   "outputs": [
    {
     "data": {
      "text/plain": [
       "['../models/tech_tsne.pkl']"
      ]
     },
     "execution_count": 284,
     "metadata": {},
     "output_type": "execute_result"
    }
   ],
   "source": [
    "joblib.dump(tsne_tech_model, '../models/tech_tsne.pkl')"
   ]
  },
  {
   "cell_type": "code",
   "execution_count": 285,
   "metadata": {
    "ExecuteTime": {
     "end_time": "2017-11-28T04:50:57.330490Z",
     "start_time": "2017-11-28T04:50:35.565747Z"
    }
   },
   "outputs": [
    {
     "data": {
      "image/png": "[encoded data removed]",
      "text/plain": [
       "<matplotlib.figure.Figure at 0x7fbab6b5b3c8>"
      ]
     },
     "metadata": {},
     "output_type": "display_data"
    }
   ],
   "source": [
    "def get_coords(matrix2D):\n",
    "    x = []\n",
    "    y = []\n",
    "    for r in matrix2D:\n",
    "        x.append(r[0])\n",
    "        y.append(r[1])\n",
    "    return x, y\n",
    "\n",
    "x, y = get_coords(results)\n",
    "\n",
    "from sklearn.cluster import KMeans\n",
    "kmeans2 = KMeans(n_clusters=20, random_state=0).fit(nmf2_W)\n",
    "\n",
    "# Scatter plot with colouring by kmeans labels:\n",
    "plt.scatter(x, y, alpha=0.4, c=kmeans2.labels_, marker='o', s=30);"
   ]
  },
  {
   "cell_type": "code",
   "execution_count": null,
   "metadata": {},
   "outputs": [],
   "source": []
  },
  {
   "cell_type": "code",
   "execution_count": null,
   "metadata": {},
   "outputs": [],
   "source": []
  },
  {
   "cell_type": "code",
   "execution_count": null,
   "metadata": {},
   "outputs": [],
   "source": []
  },
  {
   "cell_type": "code",
   "execution_count": 25,
   "metadata": {
    "ExecuteTime": {
     "end_time": "2017-12-01T02:08:33.151303Z",
     "start_time": "2017-12-01T02:08:33.149041Z"
    }
   },
   "outputs": [],
   "source": [
    "mobilelist = ['ATT','TMobileHelp','sprintcare','VerizonSupport','BoostCare','USCellularCares']"
   ]
  },
  {
   "cell_type": "code",
   "execution_count": 26,
   "metadata": {
    "ExecuteTime": {
     "end_time": "2017-12-01T02:08:34.199723Z",
     "start_time": "2017-12-01T02:08:34.197522Z"
    }
   },
   "outputs": [],
   "source": [
    "musiclist= ['SpotifyCares','PandoraSupport','GooglePlayMusic']"
   ]
  },
  {
   "cell_type": "code",
   "execution_count": 27,
   "metadata": {
    "ExecuteTime": {
     "end_time": "2017-12-01T02:08:34.753774Z",
     "start_time": "2017-12-01T02:08:34.751686Z"
    }
   },
   "outputs": [],
   "source": [
    "shoppinglist = ['AmazonHelp','AskTarget','Walmart','NeweggService']"
   ]
  },
  {
   "cell_type": "code",
   "execution_count": null,
   "metadata": {},
   "outputs": [],
   "source": [
    "# foodlist = ['Postmates_Help','']"
   ]
  },
  {
   "cell_type": "markdown",
   "metadata": {},
   "source": [
    "### TSNE 2"
   ]
  },
  {
   "cell_type": "code",
   "execution_count": 82,
   "metadata": {
    "ExecuteTime": {
     "end_time": "2017-11-27T01:11:17.625116Z",
     "start_time": "2017-11-27T00:08:23.394752Z"
    }
   },
   "outputs": [],
   "source": [
    "tsne_model = TSNE(n_components=2, random_state=0)\n",
    "results = tsne_model.fit_transform(pca_result) "
   ]
  },
  {
   "cell_type": "code",
   "execution_count": 83,
   "metadata": {
    "ExecuteTime": {
     "end_time": "2017-11-27T01:11:50.744943Z",
     "start_time": "2017-11-27T01:11:17.626660Z"
    }
   },
   "outputs": [
    {
     "data": {
      "image/png": "[encoded data removed]",
      "text/plain": [
       "<matplotlib.figure.Figure at 0x7fab94ec3550>"
      ]
     },
     "metadata": {},
     "output_type": "display_data"
    }
   ],
   "source": [
    "def get_coords(matrix2D):\n",
    "    x = []\n",
    "    y = []\n",
    "    for r in matrix2D:\n",
    "        x.append(r[0])\n",
    "        y.append(r[1])\n",
    "    return x, y\n",
    "\n",
    "x, y = get_coords(results)\n",
    "\n",
    "\n",
    "kmeans2 = KMeans(n_clusters=50, random_state=0).fit(pca_result)\n",
    "\n",
    "# Scatter plot with colouring by kmeans labels:\n",
    "plt.scatter(x, y, alpha=0.4, c=kmeans2.labels_, marker='o', s=30);"
   ]
  },
  {
   "cell_type": "code",
   "execution_count": null,
   "metadata": {
    "ExecuteTime": {
     "end_time": "2017-11-26T23:30:33.888797Z",
     "start_time": "2017-11-26T23:30:05.227Z"
    }
   },
   "outputs": [],
   "source": [
    "print(kmeans.labels_)"
   ]
  },
  {
   "cell_type": "code",
   "execution_count": null,
   "metadata": {
    "ExecuteTime": {
     "end_time": "2017-11-26T23:30:33.889903Z",
     "start_time": "2017-11-26T23:30:16.851Z"
    }
   },
   "outputs": [],
   "source": [
    "labels = kmeans.predict(nmf_H)"
   ]
  },
  {
   "cell_type": "code",
   "execution_count": 84,
   "metadata": {
    "ExecuteTime": {
     "end_time": "2017-11-27T01:22:10.835367Z",
     "start_time": "2017-11-27T01:22:10.829117Z"
    }
   },
   "outputs": [
    {
     "data": {
      "text/plain": [
       "['../models/tsne2.pkl']"
      ]
     },
     "execution_count": 84,
     "metadata": {},
     "output_type": "execute_result"
    }
   ],
   "source": [
    "joblib.dump(tsne_model, '../models/tsne2.pkl')"
   ]
  },
  {
   "cell_type": "code",
   "execution_count": null,
   "metadata": {},
   "outputs": [],
   "source": []
  }
 ],
 "metadata": {
  "kernelspec": {
   "display_name": "Python 3",
   "language": "python",
   "name": "python3"
  },
  "language_info": {
   "codemirror_mode": {
    "name": "ipython",
    "version": 3
   },
   "file_extension": ".py",
   "mimetype": "text/x-python",
   "name": "python",
   "nbconvert_exporter": "python",
   "pygments_lexer": "ipython3",
   "version": "3.6.3"
  },
  "toc": {
   "nav_menu": {},
   "number_sections": true,
   "sideBar": true,
   "skip_h1_title": true,
   "toc_cell": false,
   "toc_position": {
    "height": "692px",
    "left": "0px",
    "right": "1239px",
    "top": "111px",
    "width": "145px"
   },
   "toc_section_display": "block",
   "toc_window_display": true
  }
 },
 "nbformat": 4,
 "nbformat_minor": 2
}
